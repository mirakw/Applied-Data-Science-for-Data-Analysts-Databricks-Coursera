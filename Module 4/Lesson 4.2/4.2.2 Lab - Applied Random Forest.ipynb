{
 "cells": [
  {
   "cell_type": "markdown",
   "metadata": {
    "application/vnd.databricks.v1+cell": {
     "inputWidgets": {},
     "nuid": "8a96ede0-bf28-4263-a0af-6f52d04725dc",
     "showTitle": false,
     "title": ""
    }
   },
   "source": [
    "d-sandbox\n",
    "\n",
    "<div style=\"text-align: center; line-height: 0; padding-top: 9px;\">\n",
    "  <img src=\"https://databricks.com/wp-content/uploads/2018/03/db-academy-rgb-1200px.png\" alt=\"Databricks Learning\" style=\"width: 600px\">\n",
    "</div>"
   ]
  },
  {
   "cell_type": "markdown",
   "metadata": {
    "application/vnd.databricks.v1+cell": {
     "inputWidgets": {},
     "nuid": "ae4973bb-ca9b-4c48-84e0-7ac3e65513f7",
     "showTitle": false,
     "title": ""
    }
   },
   "source": [
    "# Applied Random Forest Lab\n",
    "\n",
    "**Objective**: *Apply random forests to a regression problem in an effort to improve model generalization.*\n",
    "\n",
    "In this lab you will complete a series of guided exercises where you will build a random forest model to solve a regression problem. You will need to prepare the categorical variable appropriately and assess the output of the model. When complete, please use your answers to the exercises to answer questions in the following quiz within Coursera."
   ]
  },
  {
   "cell_type": "code",
   "execution_count": 0,
   "metadata": {
    "application/vnd.databricks.v1+cell": {
     "inputWidgets": {},
     "nuid": "e20356e8-35eb-4425-bdb2-7ddfadf3c672",
     "showTitle": false,
     "title": ""
    }
   },
   "outputs": [
    {
     "data": {
      "text/html": [
       "<style scoped>\n",
       "  .ansiout {\n",
       "    display: block;\n",
       "    unicode-bidi: embed;\n",
       "    white-space: pre-wrap;\n",
       "    word-wrap: break-word;\n",
       "    word-break: break-all;\n",
       "    font-family: \"Source Code Pro\", \"Menlo\", monospace;;\n",
       "    font-size: 13px;\n",
       "    color: #555;\n",
       "    margin-left: 4px;\n",
       "    line-height: 19px;\n",
       "  }\n",
       "</style>\n",
       "<div class=\"ansiout\"></div>"
      ]
     },
     "metadata": {
      "application/vnd.databricks.v1+output": {
       "addedWidgets": {},
       "arguments": {},
       "data": "<div class=\"ansiout\"></div>",
       "datasetInfos": [],
       "removedWidgets": [],
       "type": "html"
      }
     },
     "output_type": "display_data"
    },
    {
     "data": {
      "text/html": [
       "Mounting course-specific datasets to <b>/mnt/training</b>...</br>Datasets are already mounted to <b>/mnt/training</b> from <b>s3a://databricks-corp-training/common</b>"
      ]
     },
     "metadata": {
      "application/vnd.databricks.v1+output": {
       "addedWidgets": {},
       "arguments": {},
       "data": "Mounting course-specific datasets to <b>/mnt/training</b>...</br>Datasets are already mounted to <b>/mnt/training</b> from <b>s3a://databricks-corp-training/common</b>",
       "datasetInfos": [],
       "removedWidgets": [],
       "textData": null,
       "type": "htmlSandbox"
      }
     },
     "output_type": "display_data"
    },
    {
     "data": {
      "text/html": [
       "<style scoped>\n",
       "  .ansiout {\n",
       "    display: block;\n",
       "    unicode-bidi: embed;\n",
       "    white-space: pre-wrap;\n",
       "    word-wrap: break-word;\n",
       "    word-break: break-all;\n",
       "    font-family: \"Source Code Pro\", \"Menlo\", monospace;;\n",
       "    font-size: 13px;\n",
       "    color: #555;\n",
       "    margin-left: 4px;\n",
       "    line-height: 19px;\n",
       "  }\n",
       "</style>\n",
       "<div class=\"ansiout\">Out[2]: DataFrame[]</div>"
      ]
     },
     "metadata": {
      "application/vnd.databricks.v1+output": {
       "addedWidgets": {},
       "arguments": {},
       "data": "<div class=\"ansiout\">Out[2]: DataFrame[]</div>",
       "datasetInfos": [],
       "removedWidgets": [],
       "type": "html"
      }
     },
     "output_type": "display_data"
    },
    {
     "data": {
      "text/html": [
       "<style scoped>\n",
       "  .ansiout {\n",
       "    display: block;\n",
       "    unicode-bidi: embed;\n",
       "    white-space: pre-wrap;\n",
       "    word-wrap: break-word;\n",
       "    word-break: break-all;\n",
       "    font-family: \"Source Code Pro\", \"Menlo\", monospace;;\n",
       "    font-size: 13px;\n",
       "    color: #555;\n",
       "    margin-left: 4px;\n",
       "    line-height: 19px;\n",
       "  }\n",
       "</style>\n",
       "<div class=\"ansiout\"></div>"
      ]
     },
     "metadata": {
      "application/vnd.databricks.v1+output": {
       "addedWidgets": {},
       "arguments": {},
       "data": "<div class=\"ansiout\"></div>",
       "datasetInfos": [],
       "removedWidgets": [],
       "type": "html"
      }
     },
     "output_type": "display_data"
    },
    {
     "data": {
      "text/html": [
       "<style scoped>\n",
       "  .ansiout {\n",
       "    display: block;\n",
       "    unicode-bidi: embed;\n",
       "    white-space: pre-wrap;\n",
       "    word-wrap: break-word;\n",
       "    word-break: break-all;\n",
       "    font-family: \"Source Code Pro\", \"Menlo\", monospace;;\n",
       "    font-size: 13px;\n",
       "    color: #555;\n",
       "    margin-left: 4px;\n",
       "    line-height: 19px;\n",
       "  }\n",
       "</style>\n",
       "<div class=\"ansiout\"></div>"
      ]
     },
     "metadata": {
      "application/vnd.databricks.v1+output": {
       "addedWidgets": {},
       "arguments": {},
       "data": "<div class=\"ansiout\"></div>",
       "datasetInfos": [],
       "removedWidgets": [],
       "type": "html"
      }
     },
     "output_type": "display_data"
    },
    {
     "data": {
      "text/html": [
       "<style scoped>\n",
       "  .ansiout {\n",
       "    display: block;\n",
       "    unicode-bidi: embed;\n",
       "    white-space: pre-wrap;\n",
       "    word-wrap: break-word;\n",
       "    word-break: break-all;\n",
       "    font-family: \"Source Code Pro\", \"Menlo\", monospace;;\n",
       "    font-size: 13px;\n",
       "    color: #555;\n",
       "    margin-left: 4px;\n",
       "    line-height: 19px;\n",
       "  }\n",
       "</style>\n",
       "<div class=\"ansiout\">res1: Boolean = false\n",
       "</div>"
      ]
     },
     "metadata": {
      "application/vnd.databricks.v1+output": {
       "addedWidgets": {},
       "arguments": {},
       "data": "<div class=\"ansiout\">res1: Boolean = false\n</div>",
       "datasetInfos": [],
       "removedWidgets": [],
       "type": "html"
      }
     },
     "output_type": "display_data"
    },
    {
     "data": {
      "text/html": [
       "<style scoped>\n",
       "  .ansiout {\n",
       "    display: block;\n",
       "    unicode-bidi: embed;\n",
       "    white-space: pre-wrap;\n",
       "    word-wrap: break-word;\n",
       "    word-break: break-all;\n",
       "    font-family: \"Source Code Pro\", \"Menlo\", monospace;;\n",
       "    font-size: 13px;\n",
       "    color: #555;\n",
       "    margin-left: 4px;\n",
       "    line-height: 19px;\n",
       "  }\n",
       "</style>\n",
       "<div class=\"ansiout\">res2: Boolean = false\n",
       "</div>"
      ]
     },
     "metadata": {
      "application/vnd.databricks.v1+output": {
       "addedWidgets": {},
       "arguments": {},
       "data": "<div class=\"ansiout\">res2: Boolean = false\n</div>",
       "datasetInfos": [],
       "removedWidgets": [],
       "type": "html"
      }
     },
     "output_type": "display_data"
    },
    {
     "data": {
      "text/html": [
       "<style scoped>\n",
       "  .ansiout {\n",
       "    display: block;\n",
       "    unicode-bidi: embed;\n",
       "    white-space: pre-wrap;\n",
       "    word-wrap: break-word;\n",
       "    word-break: break-all;\n",
       "    font-family: \"Source Code Pro\", \"Menlo\", monospace;;\n",
       "    font-size: 13px;\n",
       "    color: #555;\n",
       "    margin-left: 4px;\n",
       "    line-height: 19px;\n",
       "  }\n",
       "</style>\n",
       "<div class=\"ansiout\">res3: Boolean = false\n",
       "</div>"
      ]
     },
     "metadata": {
      "application/vnd.databricks.v1+output": {
       "addedWidgets": {},
       "arguments": {},
       "data": "<div class=\"ansiout\">res3: Boolean = false\n</div>",
       "datasetInfos": [],
       "removedWidgets": [],
       "type": "html"
      }
     },
     "output_type": "display_data"
    },
    {
     "data": {
      "text/html": [
       "<style scoped>\n",
       "  .table-result-container {\n",
       "    max-height: 300px;\n",
       "    overflow: auto;\n",
       "  }\n",
       "  table, th, td {\n",
       "    border: 1px solid black;\n",
       "    border-collapse: collapse;\n",
       "  }\n",
       "  th, td {\n",
       "    padding: 5px;\n",
       "  }\n",
       "  th {\n",
       "    text-align: left;\n",
       "  }\n",
       "</style><div class='table-result-container'><table class='table-result'><thead style='background-color: white'><tr></tr></thead><tbody></tbody></table></div>"
      ]
     },
     "metadata": {
      "application/vnd.databricks.v1+output": {
       "addedWidgets": {},
       "aggData": [],
       "aggError": "",
       "aggOverflow": false,
       "aggSchema": [],
       "aggSeriesLimitReached": false,
       "aggType": "",
       "arguments": {},
       "columnCustomDisplayInfos": {},
       "data": [],
       "datasetInfos": [],
       "dbfsResultPath": null,
       "isJsonSchema": true,
       "overflow": false,
       "plotOptions": {
        "customPlotOptions": {},
        "displayType": "table",
        "pivotAggregation": null,
        "pivotColumns": null,
        "xColumns": null,
        "yColumns": null
       },
       "removedWidgets": [],
       "schema": [],
       "type": "table"
      }
     },
     "output_type": "display_data"
    }
   ],
   "source": [
    "%run ../../Includes/Classroom-Setup"
   ]
  },
  {
   "cell_type": "markdown",
   "metadata": {
    "application/vnd.databricks.v1+cell": {
     "inputWidgets": {},
     "nuid": "f5372353-ce22-4b47-b86a-a2917eb7268d",
     "showTitle": false,
     "title": ""
    }
   },
   "source": [
    "## Exercise 1\n",
    "\n",
    "In this exercise, you will use the user-level lifestyle table. Run the following cell to make sure you can access the `adsda.ht_user_metrics_lifestyle` table."
   ]
  },
  {
   "cell_type": "code",
   "execution_count": 0,
   "metadata": {
    "application/vnd.databricks.v1+cell": {
     "inputWidgets": {},
     "nuid": "462e588d-663e-4478-9dc4-24acd4eb7ee1",
     "showTitle": false,
     "title": ""
    }
   },
   "outputs": [
    {
     "data": {
      "text/html": [
       "<style scoped>\n",
       "  .table-result-container {\n",
       "    max-height: 300px;\n",
       "    overflow: auto;\n",
       "  }\n",
       "  table, th, td {\n",
       "    border: 1px solid black;\n",
       "    border-collapse: collapse;\n",
       "  }\n",
       "  th, td {\n",
       "    padding: 5px;\n",
       "  }\n",
       "  th {\n",
       "    text-align: left;\n",
       "  }\n",
       "</style><div class='table-result-container'><table class='table-result'><thead style='background-color: white'><tr><th>avg_resting_heartrate</th><th>avg_active_heartrate</th><th>avg_bmi</th><th>avg_vo2</th><th>avg_workout_minutes</th><th>avg_steps</th><th>lifestyle</th></tr></thead><tbody><tr><td>82.68379727873081</td><td>139.43487473206162</td><td>22.398063650890794</td><td>20.99401157735923</td><td>5.5026324666656405</td><td>5171.495890410959</td><td>Sedentary</td></tr><tr><td>77.73294228506452</td><td>127.05715346661702</td><td>25.150812654086298</td><td>25.52747526955064</td><td>37.2167018100805</td><td>7115.591780821917</td><td>Weight Trainer</td></tr><tr><td>86.51162895591307</td><td>147.31573126952208</td><td>19.148256000462478</td><td>19.448406520026342</td><td>45.00008651086257</td><td>7257.693150684931</td><td>Weight Trainer</td></tr><tr><td>77.55054135762612</td><td>129.5770039396946</td><td>24.240375728856797</td><td>21.40130178285617</td><td>37.886068725488464</td><td>7129.690410958904</td><td>Weight Trainer</td></tr><tr><td>68.93310580458204</td><td>136.50268661405897</td><td>30.726595797380472</td><td>28.855230169253637</td><td>32.24198398599063</td><td>6958.378082191781</td><td>Weight Trainer</td></tr><tr><td>69.31244794850774</td><td>167.18585016710105</td><td>27.1326690342849</td><td>30.939205114246853</td><td>5.119426899323105</td><td>5128.024657534246</td><td>Sedentary</td></tr><tr><td>64.64397544858174</td><td>152.9654977304546</td><td>29.17716498363452</td><td>28.92795344089978</td><td>5.015081852287961</td><td>5167.789041095891</td><td>Sedentary</td></tr><tr><td>81.33282756113321</td><td>137.57131998347788</td><td>20.850071485672633</td><td>22.564006304582495</td><td>42.375521457262316</td><td>7281.586301369863</td><td>Weight Trainer</td></tr><tr><td>64.79507042723496</td><td>139.39836367080545</td><td>31.386431213715433</td><td>29.096510773429188</td><td>33.3298371336183</td><td>7029.608219178082</td><td>Weight Trainer</td></tr><tr><td>89.51117796589962</td><td>126.57048164605168</td><td>19.830753716401606</td><td>19.750462151303648</td><td>43.30528046136424</td><td>7362.769863013698</td><td>Weight Trainer</td></tr></tbody></table></div>"
      ]
     },
     "metadata": {
      "application/vnd.databricks.v1+output": {
       "addedWidgets": {},
       "aggData": [],
       "aggError": "",
       "aggOverflow": false,
       "aggSchema": [],
       "aggSeriesLimitReached": false,
       "aggType": "",
       "arguments": {},
       "columnCustomDisplayInfos": {},
       "data": [
        [
         82.68379727873081,
         139.43487473206162,
         22.398063650890794,
         20.99401157735923,
         5.5026324666656405,
         5171.495890410959,
         "Sedentary"
        ],
        [
         77.73294228506452,
         127.05715346661702,
         25.150812654086298,
         25.52747526955064,
         37.2167018100805,
         7115.591780821917,
         "Weight Trainer"
        ],
        [
         86.51162895591307,
         147.31573126952208,
         19.148256000462478,
         19.448406520026342,
         45.00008651086257,
         7257.693150684931,
         "Weight Trainer"
        ],
        [
         77.55054135762612,
         129.5770039396946,
         24.240375728856797,
         21.40130178285617,
         37.886068725488464,
         7129.690410958904,
         "Weight Trainer"
        ],
        [
         68.93310580458204,
         136.50268661405897,
         30.726595797380472,
         28.855230169253637,
         32.24198398599063,
         6958.378082191781,
         "Weight Trainer"
        ],
        [
         69.31244794850774,
         167.18585016710105,
         27.1326690342849,
         30.939205114246853,
         5.119426899323105,
         5128.024657534246,
         "Sedentary"
        ],
        [
         64.64397544858174,
         152.9654977304546,
         29.17716498363452,
         28.92795344089978,
         5.015081852287961,
         5167.789041095891,
         "Sedentary"
        ],
        [
         81.33282756113321,
         137.57131998347788,
         20.850071485672633,
         22.564006304582495,
         42.375521457262316,
         7281.586301369863,
         "Weight Trainer"
        ],
        [
         64.79507042723496,
         139.39836367080545,
         31.386431213715433,
         29.096510773429188,
         33.3298371336183,
         7029.608219178082,
         "Weight Trainer"
        ],
        [
         89.51117796589962,
         126.57048164605168,
         19.830753716401606,
         19.750462151303648,
         43.30528046136424,
         7362.769863013698,
         "Weight Trainer"
        ]
       ],
       "datasetInfos": [],
       "dbfsResultPath": null,
       "isJsonSchema": true,
       "overflow": false,
       "plotOptions": {
        "customPlotOptions": {},
        "displayType": "table",
        "pivotAggregation": null,
        "pivotColumns": null,
        "xColumns": null,
        "yColumns": null
       },
       "removedWidgets": [],
       "schema": [
        {
         "metadata": "{}",
         "name": "avg_resting_heartrate",
         "type": "\"double\""
        },
        {
         "metadata": "{}",
         "name": "avg_active_heartrate",
         "type": "\"double\""
        },
        {
         "metadata": "{}",
         "name": "avg_bmi",
         "type": "\"double\""
        },
        {
         "metadata": "{}",
         "name": "avg_vo2",
         "type": "\"double\""
        },
        {
         "metadata": "{}",
         "name": "avg_workout_minutes",
         "type": "\"double\""
        },
        {
         "metadata": "{}",
         "name": "avg_steps",
         "type": "\"double\""
        },
        {
         "metadata": "{}",
         "name": "lifestyle",
         "type": "\"string\""
        }
       ],
       "type": "table"
      }
     },
     "output_type": "display_data"
    }
   ],
   "source": [
    "%sql\n",
    "SELECT *\n",
    "FROM adsda.ht_user_metrics_lifestyle\n",
    "LIMIT 10"
   ]
  },
  {
   "cell_type": "markdown",
   "metadata": {
    "application/vnd.databricks.v1+cell": {
     "inputWidgets": {},
     "nuid": "e44d9319-898a-45d6-8120-4f7b9f5f428a",
     "showTitle": false,
     "title": ""
    }
   },
   "source": [
    "Fill in the following cell to create a Pandas DataFrame from the Spark table."
   ]
  },
  {
   "cell_type": "code",
   "execution_count": 0,
   "metadata": {
    "application/vnd.databricks.v1+cell": {
     "inputWidgets": {},
     "nuid": "78c65e8f-fba9-4e66-9a6e-ca8775752485",
     "showTitle": false,
     "title": ""
    }
   },
   "outputs": [
    {
     "data": {
      "text/html": [
       "<style scoped>\n",
       "  .ansiout {\n",
       "    display: block;\n",
       "    unicode-bidi: embed;\n",
       "    white-space: pre-wrap;\n",
       "    word-wrap: break-word;\n",
       "    word-break: break-all;\n",
       "    font-family: \"Source Code Pro\", \"Menlo\", monospace;;\n",
       "    font-size: 13px;\n",
       "    color: #555;\n",
       "    margin-left: 4px;\n",
       "    line-height: 19px;\n",
       "  }\n",
       "</style>\n",
       "<div class=\"ansiout\"></div>"
      ]
     },
     "metadata": {
      "application/vnd.databricks.v1+output": {
       "addedWidgets": {},
       "arguments": {},
       "data": "<div class=\"ansiout\"></div>",
       "datasetInfos": [],
       "removedWidgets": [],
       "type": "html"
      }
     },
     "output_type": "display_data"
    }
   ],
   "source": [
    "# ANSWER\n",
    "ht_metrics_pd_df = spark.table(\"adsda.ht_user_metrics_lifestyle\").toPandas()"
   ]
  },
  {
   "cell_type": "markdown",
   "metadata": {
    "application/vnd.databricks.v1+cell": {
     "inputWidgets": {},
     "nuid": "ed29d784-e7df-4445-8d45-48248b42d18e",
     "showTitle": false,
     "title": ""
    }
   },
   "source": [
    "## Exercise 2\n",
    "\n",
    "In this exercise, you will encode the categorical feature `lifestyle` column using `LabelEncoder`.\n",
    "\n",
    "Fill in the blanks to complete this task."
   ]
  },
  {
   "cell_type": "code",
   "execution_count": 0,
   "metadata": {
    "application/vnd.databricks.v1+cell": {
     "inputWidgets": {},
     "nuid": "1dac1eac-0c18-44ca-9841-8476f800410c",
     "showTitle": false,
     "title": ""
    }
   },
   "outputs": [
    {
     "data": {
      "text/html": [
       "<style scoped>\n",
       "  .ansiout {\n",
       "    display: block;\n",
       "    unicode-bidi: embed;\n",
       "    white-space: pre-wrap;\n",
       "    word-wrap: break-word;\n",
       "    word-break: break-all;\n",
       "    font-family: \"Source Code Pro\", \"Menlo\", monospace;;\n",
       "    font-size: 13px;\n",
       "    color: #555;\n",
       "    margin-left: 4px;\n",
       "    line-height: 19px;\n",
       "  }\n",
       "</style>\n",
       "<div class=\"ansiout\"></div>"
      ]
     },
     "metadata": {
      "application/vnd.databricks.v1+output": {
       "addedWidgets": {},
       "arguments": {},
       "data": "<div class=\"ansiout\"></div>",
       "datasetInfos": [],
       "removedWidgets": [],
       "type": "html"
      }
     },
     "output_type": "display_data"
    }
   ],
   "source": [
    "# ANSWER\n",
    "from sklearn.preprocessing import LabelEncoder\n",
    "\n",
    "le = LabelEncoder()\n",
    "ht_metrics_pd_df['lifestyle_cat'] = le.fit_transform(ht_metrics_pd_df['lifestyle'])"
   ]
  },
  {
   "cell_type": "markdown",
   "metadata": {
    "application/vnd.databricks.v1+cell": {
     "inputWidgets": {},
     "nuid": "12c11039-bf81-4911-b1eb-144c2940be38",
     "showTitle": false,
     "title": ""
    }
   },
   "source": [
    "## Exercise 3 \n",
    "\n",
    "In this exercise, you will build a random forest regression model\n",
    "\n",
    "We will once again try to predict a user's average `vo2` using their other metrics.\n",
    "\n",
    "Remember to set the `random_state` to 42!"
   ]
  },
  {
   "cell_type": "markdown",
   "metadata": {
    "application/vnd.databricks.v1+cell": {
     "inputWidgets": {},
     "nuid": "5d9cfe0b-fc17-47b9-a194-a6ee18143373",
     "showTitle": false,
     "title": ""
    }
   },
   "source": [
    "Before splitting the data and fitting the model, import the packages you will need from sklearn for the train test split and the Random Forest regressor."
   ]
  },
  {
   "cell_type": "code",
   "execution_count": 0,
   "metadata": {
    "application/vnd.databricks.v1+cell": {
     "inputWidgets": {},
     "nuid": "c5b41f5e-60b6-4cb3-b31c-9070795aefd5",
     "showTitle": false,
     "title": ""
    }
   },
   "outputs": [
    {
     "data": {
      "text/html": [
       "<style scoped>\n",
       "  .ansiout {\n",
       "    display: block;\n",
       "    unicode-bidi: embed;\n",
       "    white-space: pre-wrap;\n",
       "    word-wrap: break-word;\n",
       "    word-break: break-all;\n",
       "    font-family: \"Source Code Pro\", \"Menlo\", monospace;;\n",
       "    font-size: 13px;\n",
       "    color: #555;\n",
       "    margin-left: 4px;\n",
       "    line-height: 19px;\n",
       "  }\n",
       "</style>\n",
       "<div class=\"ansiout\"></div>"
      ]
     },
     "metadata": {
      "application/vnd.databricks.v1+output": {
       "addedWidgets": {},
       "arguments": {},
       "data": "<div class=\"ansiout\"></div>",
       "datasetInfos": [],
       "removedWidgets": [],
       "type": "html"
      }
     },
     "output_type": "display_data"
    }
   ],
   "source": [
    "# ANSWER\n",
    "from sklearn.model_selection import train_test_split\n",
    "from sklearn.ensemble import RandomForestRegressor"
   ]
  },
  {
   "cell_type": "code",
   "execution_count": 0,
   "metadata": {
    "application/vnd.databricks.v1+cell": {
     "inputWidgets": {},
     "nuid": "b1114067-abb3-4faa-84b7-ccbb92f614dd",
     "showTitle": false,
     "title": ""
    }
   },
   "outputs": [
    {
     "data": {
      "text/html": [
       "<style scoped>\n",
       "  .ansiout {\n",
       "    display: block;\n",
       "    unicode-bidi: embed;\n",
       "    white-space: pre-wrap;\n",
       "    word-wrap: break-word;\n",
       "    word-break: break-all;\n",
       "    font-family: \"Source Code Pro\", \"Menlo\", monospace;;\n",
       "    font-size: 13px;\n",
       "    color: #555;\n",
       "    margin-left: 4px;\n",
       "    line-height: 19px;\n",
       "  }\n",
       "</style>\n",
       "<div class=\"ansiout\">R2 on training set:  0.992\n",
       "R2 on test set:  0.944\n",
       "</div>"
      ]
     },
     "metadata": {
      "application/vnd.databricks.v1+output": {
       "addedWidgets": {},
       "arguments": {},
       "data": "<div class=\"ansiout\">R2 on training set:  0.992\nR2 on test set:  0.944\n</div>",
       "datasetInfos": [],
       "removedWidgets": [],
       "type": "html"
      }
     },
     "output_type": "display_data"
    }
   ],
   "source": [
    "# ANSWER\n",
    "X = ht_metrics_pd_df[['avg_resting_heartrate', 'avg_active_heartrate', 'avg_bmi', 'avg_steps', 'avg_workout_minutes', 'lifestyle_cat']]\n",
    "y = ht_metrics_pd_df['avg_vo2']\n",
    "\n",
    "X_train, X_test, y_train, y_test = train_test_split(X, y, random_state=42)\n",
    "\n",
    "rf_base = RandomForestRegressor(random_state=42)\n",
    "rf_base.fit(X_train, y_train)\n",
    "\n",
    "y_train_predicted = rf_base.predict(X_train)\n",
    "y_test_predicted = rf_base.predict(X_test)\n",
    "\n",
    "print(\"R2 on training set: \", round(rf_base.score(X_train, y_train),3))\n",
    "print(\"R2 on test set: \", round(rf_base.score(X_test, y_test), 3))"
   ]
  },
  {
   "cell_type": "markdown",
   "metadata": {
    "application/vnd.databricks.v1+cell": {
     "inputWidgets": {},
     "nuid": "a65d836e-66bf-4e92-8b68-7f7031db873f",
     "showTitle": false,
     "title": ""
    }
   },
   "source": [
    "**Coursera Quiz:** For the `rf` model, what is the R-squared score on the training and test set?"
   ]
  },
  {
   "cell_type": "markdown",
   "metadata": {
    "application/vnd.databricks.v1+cell": {
     "inputWidgets": {},
     "nuid": "0a9e23d3-0410-499e-a974-ed9daeba640f",
     "showTitle": false,
     "title": ""
    }
   },
   "source": [
    "## Exercise 4\n",
    "\n",
    "Even though the untuned random forest did very well already, explore how tuning some hyperparameters affects the output.\n",
    "\n",
    "You will build three models:\n",
    "1. With `n_estimators`=10\n",
    "1. With `max_depth`=2\n",
    "1. With `bootstrap`=False"
   ]
  },
  {
   "cell_type": "code",
   "execution_count": 0,
   "metadata": {
    "application/vnd.databricks.v1+cell": {
     "inputWidgets": {},
     "nuid": "53dfb32f-96ca-4c54-90af-a30b73df535e",
     "showTitle": false,
     "title": ""
    }
   },
   "outputs": [
    {
     "data": {
      "text/html": [
       "<style scoped>\n",
       "  .ansiout {\n",
       "    display: block;\n",
       "    unicode-bidi: embed;\n",
       "    white-space: pre-wrap;\n",
       "    word-wrap: break-word;\n",
       "    word-break: break-all;\n",
       "    font-family: \"Source Code Pro\", \"Menlo\", monospace;;\n",
       "    font-size: 13px;\n",
       "    color: #555;\n",
       "    margin-left: 4px;\n",
       "    line-height: 19px;\n",
       "  }\n",
       "</style>\n",
       "<div class=\"ansiout\">R2 on training set:  0.989\n",
       "R2 on test set:  0.937\n",
       "</div>"
      ]
     },
     "metadata": {
      "application/vnd.databricks.v1+output": {
       "addedWidgets": {},
       "arguments": {},
       "data": "<div class=\"ansiout\">R2 on training set:  0.989\nR2 on test set:  0.937\n</div>",
       "datasetInfos": [],
       "removedWidgets": [],
       "type": "html"
      }
     },
     "output_type": "display_data"
    }
   ],
   "source": [
    "rf_tuned_1 = RandomForestRegressor(n_estimators=10, random_state=42)\n",
    "\n",
    "rf_tuned_1.fit(X_train, y_train)\n",
    "\n",
    "y_train_predicted = rf_tuned_1.predict(X_train)\n",
    "y_test_predicted = rf_tuned_1.predict(X_test)\n",
    "\n",
    "print(\"R2 on training set: \", round(rf_tuned_1.score(X_train, y_train),3))\n",
    "print(\"R2 on test set: \", round(rf_tuned_1.score(X_test, y_test), 3))"
   ]
  },
  {
   "cell_type": "markdown",
   "metadata": {
    "application/vnd.databricks.v1+cell": {
     "inputWidgets": {},
     "nuid": "bfcb9232-4d43-4fd2-a50c-560462467788",
     "showTitle": false,
     "title": ""
    }
   },
   "source": [
    "**Coursera Quiz:** For the `rf_tuned_1` model, what is the R-squared score on the training and test set?"
   ]
  },
  {
   "cell_type": "code",
   "execution_count": 0,
   "metadata": {
    "application/vnd.databricks.v1+cell": {
     "inputWidgets": {},
     "nuid": "c271a783-f425-40cc-a38f-6507d2f93c6b",
     "showTitle": false,
     "title": ""
    }
   },
   "outputs": [
    {
     "data": {
      "text/html": [
       "<style scoped>\n",
       "  .ansiout {\n",
       "    display: block;\n",
       "    unicode-bidi: embed;\n",
       "    white-space: pre-wrap;\n",
       "    word-wrap: break-word;\n",
       "    word-break: break-all;\n",
       "    font-family: \"Source Code Pro\", \"Menlo\", monospace;;\n",
       "    font-size: 13px;\n",
       "    color: #555;\n",
       "    margin-left: 4px;\n",
       "    line-height: 19px;\n",
       "  }\n",
       "</style>\n",
       "<div class=\"ansiout\">R2 on training set:  0.868\n",
       "R2 on test set:  0.86\n",
       "</div>"
      ]
     },
     "metadata": {
      "application/vnd.databricks.v1+output": {
       "addedWidgets": {},
       "arguments": {},
       "data": "<div class=\"ansiout\">R2 on training set:  0.868\nR2 on test set:  0.86\n</div>",
       "datasetInfos": [],
       "removedWidgets": [],
       "type": "html"
      }
     },
     "output_type": "display_data"
    }
   ],
   "source": [
    "rf_tuned_2 = RandomForestRegressor(max_depth=2, random_state=42)\n",
    "\n",
    "rf_tuned_2.fit(X_train, y_train)\n",
    "\n",
    "y_train_predicted = rf_tuned_2.predict(X_train)\n",
    "y_test_predicted = rf_tuned_2.predict(X_test)\n",
    "\n",
    "print(\"R2 on training set: \", round(rf_tuned_2.score(X_train, y_train),3))\n",
    "print(\"R2 on test set: \", round(rf_tuned_2.score(X_test, y_test), 3))"
   ]
  },
  {
   "cell_type": "markdown",
   "metadata": {
    "application/vnd.databricks.v1+cell": {
     "inputWidgets": {},
     "nuid": "7c81517f-69f2-451f-b59c-9335cfb9f275",
     "showTitle": false,
     "title": ""
    }
   },
   "source": [
    "**Coursera Quiz:** For the `rf_tuned_2` model, what is the R-squared score on the training and test set?"
   ]
  },
  {
   "cell_type": "code",
   "execution_count": 0,
   "metadata": {
    "application/vnd.databricks.v1+cell": {
     "inputWidgets": {},
     "nuid": "71974412-3558-451f-8202-cfac4ce77c58",
     "showTitle": false,
     "title": ""
    }
   },
   "outputs": [
    {
     "data": {
      "text/html": [
       "<style scoped>\n",
       "  .ansiout {\n",
       "    display: block;\n",
       "    unicode-bidi: embed;\n",
       "    white-space: pre-wrap;\n",
       "    word-wrap: break-word;\n",
       "    word-break: break-all;\n",
       "    font-family: \"Source Code Pro\", \"Menlo\", monospace;;\n",
       "    font-size: 13px;\n",
       "    color: #555;\n",
       "    margin-left: 4px;\n",
       "    line-height: 19px;\n",
       "  }\n",
       "</style>\n",
       "<div class=\"ansiout\">R2 on training set:  1.0\n",
       "R2 on test set:  0.901\n",
       "</div>"
      ]
     },
     "metadata": {
      "application/vnd.databricks.v1+output": {
       "addedWidgets": {},
       "arguments": {},
       "data": "<div class=\"ansiout\">R2 on training set:  1.0\nR2 on test set:  0.901\n</div>",
       "datasetInfos": [],
       "removedWidgets": [],
       "type": "html"
      }
     },
     "output_type": "display_data"
    }
   ],
   "source": [
    "rf_tuned_3 = RandomForestRegressor(bootstrap=False, random_state=42)\n",
    "\n",
    "rf_tuned_3.fit(X_train, y_train)\n",
    "\n",
    "y_train_predicted = rf_tuned_3.predict(X_train)\n",
    "y_test_predicted = rf_tuned_3.predict(X_test)\n",
    "\n",
    "print(\"R2 on training set: \", round(rf_tuned_3.score(X_train, y_train),3))\n",
    "print(\"R2 on test set: \", round(rf_tuned_3.score(X_test, y_test), 3))"
   ]
  },
  {
   "cell_type": "markdown",
   "metadata": {
    "application/vnd.databricks.v1+cell": {
     "inputWidgets": {},
     "nuid": "e7c457e5-de44-40ec-ad8e-962a268f3e0b",
     "showTitle": false,
     "title": ""
    }
   },
   "source": [
    "**Coursera Quiz:** For the `rf_tuned_3` model, what is the R-squared score on the training and test set?"
   ]
  },
  {
   "cell_type": "markdown",
   "metadata": {
    "application/vnd.databricks.v1+cell": {
     "inputWidgets": {},
     "nuid": "7898f32b-74e2-4584-9b7b-765100e951e9",
     "showTitle": false,
     "title": ""
    }
   },
   "source": [
    "**Coursera Quiz:** Which of the tuned random forest models had the best performance on the test set?"
   ]
  },
  {
   "cell_type": "markdown",
   "metadata": {
    "application/vnd.databricks.v1+cell": {
     "inputWidgets": {},
     "nuid": "9c24409a-499a-4b18-b316-4de843a3740e",
     "showTitle": false,
     "title": ""
    }
   },
   "source": [
    "-sandbox\n",
    "&copy; 2020 Databricks, Inc. All rights reserved.<br/>\n",
    "Apache, Apache Spark, Spark and the Spark logo are trademarks of the <a href=\"http://www.apache.org/\">Apache Software Foundation</a>.<br/>\n",
    "<br/>\n",
    "<a href=\"https://databricks.com/privacy-policy\">Privacy Policy</a> | <a href=\"https://databricks.com/terms-of-use\">Terms of Use</a> | <a href=\"http://help.databricks.com/\">Support</a>"
   ]
  }
 ],
 "metadata": {
  "application/vnd.databricks.v1+notebook": {
   "dashboards": [],
   "language": "python",
   "notebookName": "4.2.2 Lab - Applied Random Forest",
   "notebookOrigID": 3313410096668753,
   "widgets": {}
  },
  "kernelspec": {
   "display_name": "Python 3",
   "language": "python",
   "name": "python3"
  },
  "language_info": {
   "codemirror_mode": {
    "name": "ipython",
    "version": 3
   },
   "file_extension": ".py",
   "mimetype": "text/x-python",
   "name": "python",
   "nbconvert_exporter": "python",
   "pygments_lexer": "ipython3",
   "version": "3.8.3"
  }
 },
 "nbformat": 4,
 "nbformat_minor": 1
}
