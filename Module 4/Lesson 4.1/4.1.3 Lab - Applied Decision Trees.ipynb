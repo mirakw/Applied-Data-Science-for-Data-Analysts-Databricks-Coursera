{
 "cells": [
  {
   "cell_type": "markdown",
   "metadata": {
    "application/vnd.databricks.v1+cell": {
     "inputWidgets": {},
     "nuid": "4395126a-f02a-4332-99db-cc465987fc04",
     "showTitle": false,
     "title": ""
    }
   },
   "source": [
    "d-sandbox\n",
    "\n",
    "<div style=\"text-align: center; line-height: 0; padding-top: 9px;\">\n",
    "  <img src=\"https://databricks.com/wp-content/uploads/2018/03/db-academy-rgb-1200px.png\" alt=\"Databricks Learning\" style=\"width: 600px\">\n",
    "</div>"
   ]
  },
  {
   "cell_type": "markdown",
   "metadata": {
    "application/vnd.databricks.v1+cell": {
     "inputWidgets": {},
     "nuid": "738ac5fc-e1c0-4c6f-9f03-4d5602005e06",
     "showTitle": false,
     "title": ""
    }
   },
   "source": [
    "# Applied Decision Trees Lab\n",
    "\n",
    "**Objective**: *Apply decision trees to a regression problem in an effort to represent more complex relationships without overfitting.*\n",
    "\n",
    "In this lab you will apply what you've learned about decision trees and overfitting. When complete, please use your answers to the exercises to answer questions in the following quiz within Coursera."
   ]
  },
  {
   "cell_type": "code",
   "execution_count": 0,
   "metadata": {
    "application/vnd.databricks.v1+cell": {
     "inputWidgets": {},
     "nuid": "ffab8526-ac73-4eb0-a144-bffca5c993d5",
     "showTitle": false,
     "title": ""
    }
   },
   "outputs": [
    {
     "data": {
      "text/html": [
       "<style scoped>\n",
       "  .ansiout {\n",
       "    display: block;\n",
       "    unicode-bidi: embed;\n",
       "    white-space: pre-wrap;\n",
       "    word-wrap: break-word;\n",
       "    word-break: break-all;\n",
       "    font-family: \"Source Code Pro\", \"Menlo\", monospace;;\n",
       "    font-size: 13px;\n",
       "    color: #555;\n",
       "    margin-left: 4px;\n",
       "    line-height: 19px;\n",
       "  }\n",
       "</style>\n",
       "<div class=\"ansiout\"></div>"
      ]
     },
     "metadata": {
      "application/vnd.databricks.v1+output": {
       "addedWidgets": {},
       "arguments": {},
       "data": "<div class=\"ansiout\"></div>",
       "datasetInfos": [],
       "removedWidgets": [],
       "type": "html"
      }
     },
     "output_type": "display_data"
    },
    {
     "data": {
      "text/html": [
       "Mounting course-specific datasets to <b>/mnt/training</b>...</br>Datasets are already mounted to <b>/mnt/training</b> from <b>s3a://databricks-corp-training/common</b>"
      ]
     },
     "metadata": {
      "application/vnd.databricks.v1+output": {
       "addedWidgets": {},
       "arguments": {},
       "data": "Mounting course-specific datasets to <b>/mnt/training</b>...</br>Datasets are already mounted to <b>/mnt/training</b> from <b>s3a://databricks-corp-training/common</b>",
       "datasetInfos": [],
       "removedWidgets": [],
       "textData": null,
       "type": "htmlSandbox"
      }
     },
     "output_type": "display_data"
    },
    {
     "data": {
      "text/html": [
       "<style scoped>\n",
       "  .ansiout {\n",
       "    display: block;\n",
       "    unicode-bidi: embed;\n",
       "    white-space: pre-wrap;\n",
       "    word-wrap: break-word;\n",
       "    word-break: break-all;\n",
       "    font-family: \"Source Code Pro\", \"Menlo\", monospace;;\n",
       "    font-size: 13px;\n",
       "    color: #555;\n",
       "    margin-left: 4px;\n",
       "    line-height: 19px;\n",
       "  }\n",
       "</style>\n",
       "<div class=\"ansiout\">Out[10]: DataFrame[]</div>"
      ]
     },
     "metadata": {
      "application/vnd.databricks.v1+output": {
       "addedWidgets": {},
       "arguments": {},
       "data": "<div class=\"ansiout\">Out[10]: DataFrame[]</div>",
       "datasetInfos": [],
       "removedWidgets": [],
       "type": "html"
      }
     },
     "output_type": "display_data"
    },
    {
     "data": {
      "text/html": [
       "<style scoped>\n",
       "  .ansiout {\n",
       "    display: block;\n",
       "    unicode-bidi: embed;\n",
       "    white-space: pre-wrap;\n",
       "    word-wrap: break-word;\n",
       "    word-break: break-all;\n",
       "    font-family: \"Source Code Pro\", \"Menlo\", monospace;;\n",
       "    font-size: 13px;\n",
       "    color: #555;\n",
       "    margin-left: 4px;\n",
       "    line-height: 19px;\n",
       "  }\n",
       "</style>\n",
       "<div class=\"ansiout\"></div>"
      ]
     },
     "metadata": {
      "application/vnd.databricks.v1+output": {
       "addedWidgets": {},
       "arguments": {},
       "data": "<div class=\"ansiout\"></div>",
       "datasetInfos": [],
       "removedWidgets": [],
       "type": "html"
      }
     },
     "output_type": "display_data"
    },
    {
     "data": {
      "text/html": [
       "<style scoped>\n",
       "  .ansiout {\n",
       "    display: block;\n",
       "    unicode-bidi: embed;\n",
       "    white-space: pre-wrap;\n",
       "    word-wrap: break-word;\n",
       "    word-break: break-all;\n",
       "    font-family: \"Source Code Pro\", \"Menlo\", monospace;;\n",
       "    font-size: 13px;\n",
       "    color: #555;\n",
       "    margin-left: 4px;\n",
       "    line-height: 19px;\n",
       "  }\n",
       "</style>\n",
       "<div class=\"ansiout\"></div>"
      ]
     },
     "metadata": {
      "application/vnd.databricks.v1+output": {
       "addedWidgets": {},
       "arguments": {},
       "data": "<div class=\"ansiout\"></div>",
       "datasetInfos": [],
       "removedWidgets": [],
       "type": "html"
      }
     },
     "output_type": "display_data"
    },
    {
     "data": {
      "text/html": [
       "<style scoped>\n",
       "  .ansiout {\n",
       "    display: block;\n",
       "    unicode-bidi: embed;\n",
       "    white-space: pre-wrap;\n",
       "    word-wrap: break-word;\n",
       "    word-break: break-all;\n",
       "    font-family: \"Source Code Pro\", \"Menlo\", monospace;;\n",
       "    font-size: 13px;\n",
       "    color: #555;\n",
       "    margin-left: 4px;\n",
       "    line-height: 19px;\n",
       "  }\n",
       "</style>\n",
       "<div class=\"ansiout\">res9: Boolean = false\n",
       "</div>"
      ]
     },
     "metadata": {
      "application/vnd.databricks.v1+output": {
       "addedWidgets": {},
       "arguments": {},
       "data": "<div class=\"ansiout\">res9: Boolean = false\n</div>",
       "datasetInfos": [],
       "removedWidgets": [],
       "type": "html"
      }
     },
     "output_type": "display_data"
    },
    {
     "data": {
      "text/html": [
       "<style scoped>\n",
       "  .ansiout {\n",
       "    display: block;\n",
       "    unicode-bidi: embed;\n",
       "    white-space: pre-wrap;\n",
       "    word-wrap: break-word;\n",
       "    word-break: break-all;\n",
       "    font-family: \"Source Code Pro\", \"Menlo\", monospace;;\n",
       "    font-size: 13px;\n",
       "    color: #555;\n",
       "    margin-left: 4px;\n",
       "    line-height: 19px;\n",
       "  }\n",
       "</style>\n",
       "<div class=\"ansiout\">res10: Boolean = false\n",
       "</div>"
      ]
     },
     "metadata": {
      "application/vnd.databricks.v1+output": {
       "addedWidgets": {},
       "arguments": {},
       "data": "<div class=\"ansiout\">res10: Boolean = false\n</div>",
       "datasetInfos": [],
       "removedWidgets": [],
       "type": "html"
      }
     },
     "output_type": "display_data"
    },
    {
     "data": {
      "text/html": [
       "<style scoped>\n",
       "  .ansiout {\n",
       "    display: block;\n",
       "    unicode-bidi: embed;\n",
       "    white-space: pre-wrap;\n",
       "    word-wrap: break-word;\n",
       "    word-break: break-all;\n",
       "    font-family: \"Source Code Pro\", \"Menlo\", monospace;;\n",
       "    font-size: 13px;\n",
       "    color: #555;\n",
       "    margin-left: 4px;\n",
       "    line-height: 19px;\n",
       "  }\n",
       "</style>\n",
       "<div class=\"ansiout\">res11: Boolean = false\n",
       "</div>"
      ]
     },
     "metadata": {
      "application/vnd.databricks.v1+output": {
       "addedWidgets": {},
       "arguments": {},
       "data": "<div class=\"ansiout\">res11: Boolean = false\n</div>",
       "datasetInfos": [],
       "removedWidgets": [],
       "type": "html"
      }
     },
     "output_type": "display_data"
    },
    {
     "data": {
      "text/html": [
       "<style scoped>\n",
       "  .table-result-container {\n",
       "    max-height: 300px;\n",
       "    overflow: auto;\n",
       "  }\n",
       "  table, th, td {\n",
       "    border: 1px solid black;\n",
       "    border-collapse: collapse;\n",
       "  }\n",
       "  th, td {\n",
       "    padding: 5px;\n",
       "  }\n",
       "  th {\n",
       "    text-align: left;\n",
       "  }\n",
       "</style><div class='table-result-container'><table class='table-result'><thead style='background-color: white'><tr></tr></thead><tbody></tbody></table></div>"
      ]
     },
     "metadata": {
      "application/vnd.databricks.v1+output": {
       "addedWidgets": {},
       "aggData": [],
       "aggError": "",
       "aggOverflow": false,
       "aggSchema": [],
       "aggSeriesLimitReached": false,
       "aggType": "",
       "arguments": {},
       "columnCustomDisplayInfos": {},
       "data": [],
       "datasetInfos": [],
       "dbfsResultPath": null,
       "isJsonSchema": true,
       "overflow": false,
       "plotOptions": {
        "customPlotOptions": {},
        "displayType": "table",
        "pivotAggregation": null,
        "pivotColumns": null,
        "xColumns": null,
        "yColumns": null
       },
       "removedWidgets": [],
       "schema": [],
       "type": "table"
      }
     },
     "output_type": "display_data"
    }
   ],
   "source": [
    "%run ../../Includes/Classroom-Setup"
   ]
  },
  {
   "cell_type": "markdown",
   "metadata": {
    "application/vnd.databricks.v1+cell": {
     "inputWidgets": {},
     "nuid": "920af57b-5482-4059-a030-5f791c2bd4f8",
     "showTitle": false,
     "title": ""
    }
   },
   "source": [
    "-sandbox\n",
    "## Exercise 1\n",
    "\n",
    "In this exercise, you will create a user-level table with the following columns:\n",
    "\n",
    "1. `avg_resting_heartrate` – the average resting heartrate\n",
    "1. `avg_active_heartrate` - the average active heartrate\n",
    "1. `avg_bmi` – the average BMI\n",
    "1. `avg_vo2` - the average oxygen volume\n",
    "1. `avg_workout_minutes` - the average of total workout minutes\n",
    "1. `avg_steps` - the average of total steps\n",
    "\n",
    "Fill in the blanks in the below code block to aggregate the metrics by `device_id`.\n",
    "\n",
    "<img alt=\"Hint\" title=\"Hint\" style=\"vertical-align: text-bottom; position: relative; height:1.75em; top:0.3em\" src=\"https://files.training.databricks.com/static/images/icon-light-bulb.svg\"/>&nbsp;**Hint:** Refer back to previous demos and labs for guidance on creating a table."
   ]
  },
  {
   "cell_type": "code",
   "execution_count": 0,
   "metadata": {
    "application/vnd.databricks.v1+cell": {
     "inputWidgets": {},
     "nuid": "2f378329-7c70-4a43-a8c0-ee162cd82d34",
     "showTitle": false,
     "title": ""
    }
   },
   "outputs": [
    {
     "data": {
      "text/html": [
       "<style scoped>\n",
       "  .table-result-container {\n",
       "    max-height: 300px;\n",
       "    overflow: auto;\n",
       "  }\n",
       "  table, th, td {\n",
       "    border: 1px solid black;\n",
       "    border-collapse: collapse;\n",
       "  }\n",
       "  th, td {\n",
       "    padding: 5px;\n",
       "  }\n",
       "  th {\n",
       "    text-align: left;\n",
       "  }\n",
       "</style><div class='table-result-container'><table class='table-result'><thead style='background-color: white'><tr></tr></thead><tbody></tbody></table></div>"
      ]
     },
     "metadata": {
      "application/vnd.databricks.v1+output": {
       "addedWidgets": {},
       "aggData": [],
       "aggError": "",
       "aggOverflow": false,
       "aggSchema": [],
       "aggSeriesLimitReached": false,
       "aggType": "",
       "arguments": {},
       "columnCustomDisplayInfos": {},
       "data": [],
       "datasetInfos": [],
       "dbfsResultPath": null,
       "isJsonSchema": true,
       "overflow": false,
       "plotOptions": {
        "customPlotOptions": {},
        "displayType": "table",
        "pivotAggregation": null,
        "pivotColumns": null,
        "xColumns": null,
        "yColumns": null
       },
       "removedWidgets": [],
       "schema": [],
       "type": "table"
      }
     },
     "output_type": "display_data"
    }
   ],
   "source": [
    "%sql\n",
    "-- ANSWER\n",
    "CREATE OR REPLACE TABLE adsda.ht_daily_metrics_agg\n",
    "USING DELTA LOCATION \"/adsda/ht-daily-metrics-agg\" AS (\n",
    "  SELECT device_id,\n",
    "         avg(resting_heartrate) AS avg_resting_heartrate,\n",
    "         avg(active_heartrate) AS avg_active_heartrate,\n",
    "         avg(bmi) AS bmi,\n",
    "         avg(vo2) AS avg_vo2,\n",
    "         avg(workout_minutes) AS avg_workout_minutes,\n",
    "         avg(steps) AS steps\n",
    "  FROM adsda.ht_daily_metrics\n",
    "  GROUP BY device_id\n",
    ")"
   ]
  },
  {
   "cell_type": "code",
   "execution_count": 0,
   "metadata": {
    "application/vnd.databricks.v1+cell": {
     "inputWidgets": {},
     "nuid": "29759848-bfa7-420f-ae70-1f748662522f",
     "showTitle": false,
     "title": ""
    }
   },
   "outputs": [
    {
     "data": {
      "text/html": [
       "<style scoped>\n",
       "  .table-result-container {\n",
       "    max-height: 300px;\n",
       "    overflow: auto;\n",
       "  }\n",
       "  table, th, td {\n",
       "    border: 1px solid black;\n",
       "    border-collapse: collapse;\n",
       "  }\n",
       "  th, td {\n",
       "    padding: 5px;\n",
       "  }\n",
       "  th {\n",
       "    text-align: left;\n",
       "  }\n",
       "</style><div class='table-result-container'><table class='table-result'><thead style='background-color: white'><tr><th>device_id</th><th>avg_resting_heartrate</th><th>avg_active_heartrate</th><th>bmi</th><th>avg_vo2</th><th>avg_workout_minutes</th><th>steps</th></tr></thead><tbody><tr><td>fce425f2-e48a-11ea-8204-0242ac110002</td><td>73.84670492514974</td><td>141.7665518846971</td><td>25.972345531696856</td><td>30.314501989400497</td><td>35.606040834647395</td><td>7007.131506849315</td></tr><tr><td>fd2073e0-e48a-11ea-8204-0242ac110002</td><td>66.65136141242354</td><td>147.19021975989776</td><td>28.65722391606316</td><td>26.331489109483055</td><td>4.933198514612545</td><td>5222.191780821918</td></tr><tr><td>d5b6536a-e48a-11ea-8204-0242ac110002</td><td>61.535264221129054</td><td>115.35464938159883</td><td>28.069176174299653</td><td>30.505853565396492</td><td>26.80897921409271</td><td>11651.545205479451</td></tr><tr><td>d62d31e2-e48a-11ea-8204-0242ac110002</td><td>60.12761602451012</td><td>109.56012470925296</td><td>24.272346749436057</td><td>33.00945987357762</td><td>30.203698416630907</td><td>12232.284931506849</td></tr><tr><td>d72e7fc4-e48a-11ea-8204-0242ac110002</td><td>57.67928187578235</td><td>107.34804493259925</td><td>26.13666783325289</td><td>33.622191930293454</td><td>41.92978275902913</td><td>10685.441095890412</td></tr><tr><td>da9cb91e-e48a-11ea-8204-0242ac110002</td><td>61.254321931199726</td><td>124.84391666265059</td><td>24.675104593153517</td><td>32.24746097933756</td><td>41.34549212923959</td><td>10838.29315068493</td></tr><tr><td>dc1ca6a0-e48a-11ea-8204-0242ac110002</td><td>59.123912011085615</td><td>121.6281244436266</td><td>26.215711176682024</td><td>33.23270077091007</td><td>38.055842131738046</td><td>7065.627397260274</td></tr><tr><td>e05a010e-e48a-11ea-8204-0242ac110002</td><td>59.16707870402215</td><td>116.63147065007492</td><td>23.407247625285702</td><td>32.46844382359828</td><td>29.13189427605095</td><td>12333.975342465754</td></tr><tr><td>e3238450-e48a-11ea-8204-0242ac110002</td><td>51.09170520840786</td><td>100.52788927517386</td><td>18.986985488002624</td><td>36.84238854947035</td><td>36.64032984626558</td><td>13517.109589041096</td></tr><tr><td>e4f5dbe8-e48a-11ea-8204-0242ac110002</td><td>54.801011028249995</td><td>106.12513976241605</td><td>12.015741781532324</td><td>32.37704612619004</td><td>50.81642676699068</td><td>15935.090410958905</td></tr><tr><td>e59ca0a4-e48a-11ea-8204-0242ac110002</td><td>52.1729276612092</td><td>111.57535937884641</td><td>15.552439959550469</td><td>37.59653866674845</td><td>41.975831357511225</td><td>14439.605479452055</td></tr><tr><td>e5b0cc1e-e48a-11ea-8204-0242ac110002</td><td>48.104230983510874</td><td>92.72362260806608</td><td>22.489283259356313</td><td>42.552903632600746</td><td>32.723643809631575</td><td>12853.046575342465</td></tr><tr><td>eb166128-e48a-11ea-8204-0242ac110002</td><td>51.43238471397177</td><td>105.74228896808134</td><td>20.07048691407893</td><td>39.83324495449514</td><td>50.66111903277378</td><td>11489.575342465754</td></tr><tr><td>eca52fce-e48a-11ea-8204-0242ac110002</td><td>52.78053533714782</td><td>103.65728791017254</td><td>16.23135862384661</td><td>35.16656333113875</td><td>57.510652278844304</td><td>12417.002739726027</td></tr><tr><td>ecb0f67e-e48a-11ea-8204-0242ac110002</td><td>49.8238962579808</td><td>109.1045676499074</td><td>20.49992189885868</td><td>40.81412092234653</td><td>33.49009296189286</td><td>12956.421917808218</td></tr><tr><td>ed062c70-e48a-11ea-8204-0242ac110002</td><td>49.14238265530357</td><td>107.32996469724922</td><td>21.442113302929403</td><td>40.17313241509794</td><td>34.5672112110386</td><td>13278.356164383562</td></tr><tr><td>f22cdd02-e48a-11ea-8204-0242ac110002</td><td>84.8886924656848</td><td>134.04225881844263</td><td>18.042817588658984</td><td>23.579057397613973</td><td>46.470922797302535</td><td>7480.556164383562</td></tr><tr><td>f35c9564-e48a-11ea-8204-0242ac110002</td><td>78.27364945255148</td><td>141.89891821172094</td><td>25.461460617680203</td><td>24.943419131939592</td><td>5.266287446222773</td><td>5107.780821917808</td></tr><tr><td>f5db474a-e48a-11ea-8204-0242ac110002</td><td>87.0986493215451</td><td>144.31823150082644</td><td>20.123345487056913</td><td>17.704592230192308</td><td>43.00327981121245</td><td>7379.646575342465</td></tr><tr><td>f6386a1a-e48a-11ea-8204-0242ac110002</td><td>62.5687340331704</td><td>134.21431710434746</td><td>32.06880104408597</td><td>31.36642810298621</td><td>33.8599098204542</td><td>7031.254794520548</td></tr><tr><td>f803ced4-e48a-11ea-8204-0242ac110002</td><td>87.70207891311685</td><td>140.50505088888457</td><td>20.67371260191408</td><td>20.63694876479251</td><td>6.009250121282049</td><td>5222.356164383562</td></tr><tr><td>fb7307b0-e48a-11ea-8204-0242ac110002</td><td>66.52760200418946</td><td>149.06735467346004</td><td>28.38913981291086</td><td>29.12212055812403</td><td>34.71343316527755</td><td>7042.054794520548</td></tr><tr><td>fbce89dc-e48a-11ea-8204-0242ac110002</td><td>88.24288588315338</td><td>134.29493079534137</td><td>18.1656780435617</td><td>18.456347013808923</td><td>47.139200086000805</td><td>7358.265753424657</td></tr><tr><td>fc39b8a6-e48a-11ea-8204-0242ac110002</td><td>92.13068081119378</td><td>135.37092095546004</td><td>19.545352482850898</td><td>20.074662094146422</td><td>6.332594842088452</td><td>5184.816438356164</td></tr><tr><td>0172ca74-e48b-11ea-8204-0242ac110002</td><td>75.00885662609355</td><td>136.56308648262774</td><td>27.901649581485103</td><td>25.93513793993602</td><td>5.008305231717206</td><td>5188.698630136986</td></tr><tr><td>d2e43148-e48a-11ea-8204-0242ac110002</td><td>61.81016901243939</td><td>121.27856076931529</td><td>26.88487647668526</td><td>31.132022177374978</td><td>27.6115003103222</td><td>12135.52602739726</td></tr><tr><td>d5aa786a-e48a-11ea-8204-0242ac110002</td><td>62.36425430495572</td><td>128.8708375575252</td><td>29.403610188342196</td><td>31.33453565941563</td><td>34.41265489081717</td><td>10055.501369863014</td></tr><tr><td>d6bc5eda-e48a-11ea-8204-0242ac110002</td><td>60.402179439927465</td><td>109.18660308739443</td><td>25.57978491198028</td><td>33.22973562288523</td><td>38.6209549007571</td><td>7239.254794520548</td></tr><tr><td>d8d871ae-e48a-11ea-8204-0242ac110002</td><td>56.90077445583214</td><td>125.26374196054664</td><td>23.945897037249615</td><td>34.688177257987775</td><td>40.2208117779992</td><td>10650.030136986301</td></tr><tr><td>d8f04b3a-e48a-11ea-8204-0242ac110002</td><td>57.89930165428551</td><td>107.84703922918236</td><td>23.994824089867546</td><td>34.51403680307999</td><td>39.373628100976696</td><td>10588.364383561644</td></tr><tr><td>dc04d516-e48a-11ea-8204-0242ac110002</td><td>55.359089008766404</td><td>107.5777007372137</td><td>20.562537209499677</td><td>37.59454136239685</td><td>32.80871364617226</td><td>12809.465753424658</td></tr><tr><td>dc2c6d4c-e48a-11ea-8204-0242ac110002</td><td>54.77494950167725</td><td>128.54677955505105</td><td>22.100005515666016</td><td>35.79725405982539</td><td>48.14001371848655</td><td>11314.109589041096</td></tr><tr><td>e1656caa-e48a-11ea-8204-0242ac110002</td><td>53.873109043838085</td><td>117.8026430652205</td><td>24.841367578466222</td><td>35.70910646690161</td><td>40.3020752857574</td><td>10726.810958904109</td></tr><tr><td>e216e336-e48a-11ea-8204-0242ac110002</td><td>56.04933056401842</td><td>112.27953434576361</td><td>21.30833485504356</td><td>37.44756098223453</td><td>33.23315266532934</td><td>12912.158904109589</td></tr><tr><td>e2fe9dc0-e48a-11ea-8204-0242ac110002</td><td>50.53017732371145</td><td>105.02480262213606</td><td>20.894067378409385</td><td>41.3992673346787</td><td>47.52797549015212</td><td>11156.95890410959</td></tr><tr><td>e8629afa-e48a-11ea-8204-0242ac110002</td><td>49.07927120837418</td><td>103.30157632784898</td><td>20.525452224019638</td><td>41.411405367808584</td><td>47.45501861646202</td><td>11363.753424657534</td></tr><tr><td>ea583806-e48a-11ea-8204-0242ac110002</td><td>48.94862014141754</td><td>102.24117054025926</td><td>23.41126924155975</td><td>39.37431207211664</td><td>44.75723598204844</td><td>11132.46301369863</td></tr><tr><td>f1c7770a-e48a-11ea-8204-0242ac110002</td><td>53.752166909272866</td><td>110.44612255306316</td><td>14.09321261301577</td><td>31.597868254505897</td><td>44.29241899239699</td><td>14951.47397260274</td></tr><tr><td>f88d1252-e48a-11ea-8204-0242ac110002</td><td>82.71709277672224</td><td>123.75660244868575</td><td>21.775089958039707</td><td>18.609142842404506</td><td>40.607693444622576</td><td>10444.44383561644</td></tr><tr><td>fcd408a2-e48a-11ea-8204-0242ac110002</td><td>81.29728754122128</td><td>141.4923500431348</td><td>25.04310604020817</td><td>22.51008522890539</td><td>37.837594936013176</td><td>7124.772602739726</td></tr><tr><td>febabae4-e48a-11ea-8204-0242ac110002</td><td>71.50806666452638</td><td>124.86738881865753</td><td>27.39415454442328</td><td>26.791964022516982</td><td>35.2663394855009</td><td>7020.764383561644</td></tr><tr><td>ffcfc604-e48a-11ea-8204-0242ac110002</td><td>81.58139174585331</td><td>132.86864717295038</td><td>21.278444448658725</td><td>21.478821518526686</td><td>41.838450501804466</td><td>7303.994520547945</td></tr><tr><td>d686a718-e48a-11ea-8204-0242ac110002</td><td>63.96699762329367</td><td>131.25598020960956</td><td>30.88873992822753</td><td>27.962933235712143</td><td>34.773436340328736</td><td>10248.572602739727</td></tr><tr><td>d6cfe9f0-e48a-11ea-8204-0242ac110002</td><td>67.92333682360739</td><td>125.68961511397892</td><td>33.05280963662026</td><td>26.834000168498918</td><td>33.806657364921925</td><td>9934.589041095891</td></tr><tr><td>d895fa86-e48a-11ea-8204-0242ac110002</td><td>61.51804542764749</td><td>130.18468174164695</td><td>27.53789211469144</td><td>30.508931970137994</td><td>37.689519940163585</td><td>7217.293150684932</td></tr><tr><td>d9adeaaa-e48a-11ea-8204-0242ac110002</td><td>57.586791777022334</td><td>112.53474603795883</td><td>23.575527654167857</td><td>35.843982438398434</td><td>44.36262906134772</td><td>10984.923287671232</td></tr><tr><td>e0d90c42-e48a-11ea-8204-0242ac110002</td><td>58.62808831963434</td><td>110.88135511827161</td><td>21.346897679597724</td><td>34.24478499972493</td><td>49.853235075130065</td><td>11579.917808219177</td></tr><tr><td>e7312818-e48a-11ea-8204-0242ac110002</td><td>50.89812017369735</td><td>110.03418695865089</td><td>21.772129689081144</td><td>38.868213305376564</td><td>32.58073782726549</td><td>12860.769863013698</td></tr><tr><td>eeae1d6c-e48a-11ea-8204-0242ac110002</td><td>51.323193461668126</td><td>91.98169970496433</td><td>18.11178323988547</td><td>38.51508974510928</td><td>36.60370648233083</td><td>13443.134246575342</td></tr><tr><td>f23871a8-e48a-11ea-8204-0242ac110002</td><td>79.8274663809113</td><td>134.23076591633279</td><td>24.549804704472077</td><td>23.23883327334918</td><td>38.1512982166703</td><td>7135.509589041096</td></tr><tr><td>f26ee5a8-e48a-11ea-8204-0242ac110002</td><td>69.12913417737414</td><td>146.11332998075613</td><td>29.38374204779884</td><td>32.166117073130685</td><td>34.1408372212027</td><td>6987.871232876712</td></tr><tr><td>f27e65b4-e48a-11ea-8204-0242ac110002</td><td>78.39923753827307</td><td>143.95985586220624</td><td>22.629430894967623</td><td>25.488802979366078</td><td>39.55001373481918</td><td>7259.572602739726</td></tr><tr><td>f4d431d6-e48a-11ea-8204-0242ac110002</td><td>80.79791341761526</td><td>140.41920920273523</td><td>24.377772371866218</td><td>23.69856039873388</td><td>5.254346159903993</td><td>5186.704109589041</td></tr><tr><td>0052ec46-e48b-11ea-8204-0242ac110002</td><td>74.80771257625209</td><td>147.73504483488392</td><td>27.447509711490927</td><td>27.409653663273698</td><td>35.34943781656176</td><td>6988.13698630137</td></tr><tr><td>d796eca8-e48a-11ea-8204-0242ac110002</td><td>61.30986751566112</td><td>114.258712937288</td><td>23.20220183024238</td><td>32.86896921682895</td><td>29.937604185112153</td><td>12463.161643835616</td></tr><tr><td>d92bf716-e48a-11ea-8204-0242ac110002</td><td>56.97155264411809</td><td>118.1735623873825</td><td>20.261517853356587</td><td>35.554798420373125</td><td>33.70424088483339</td><td>13034.021917808219</td></tr><tr><td>dbc5cd6c-e48a-11ea-8204-0242ac110002</td><td>57.808517187983234</td><td>117.45322526181356</td><td>25.457589931633798</td><td>33.8959251362466</td><td>39.329045911567725</td><td>7101.7479452054795</td></tr><tr><td>dbc9c412-e48a-11ea-8204-0242ac110002</td><td>64.41359390596016</td><td>125.44896497200112</td><td>29.976706625204034</td><td>29.528635367800337</td><td>34.91224968911891</td><td>10083.216438356165</td></tr><tr><td>dc24a364-e48a-11ea-8204-0242ac110002</td><td>51.88279653151299</td><td>114.03474189111449</td><td>19.94894433476615</td><td>38.3313859415993</td><td>52.081264044956434</td><td>11628.213698630138</td></tr><tr><td>e1badb18-e48a-11ea-8204-0242ac110002</td><td>60.84823138582831</td><td>118.49072174254</td><td>26.747687903037917</td><td>32.95062426002299</td><td>26.82408750909129</td><td>11761.882191780822</td></tr><tr><td>e5cc8d32-e48a-11ea-8204-0242ac110002</td><td>48.762143913440646</td><td>104.76414920690912</td><td>20.70128248239255</td><td>46.361690723394055</td><td>33.65108947802256</td><td>13354.969863013699</td></tr><tr><td>e6af3826-e48a-11ea-8204-0242ac110002</td><td>47.866581811707825</td><td>97.27046109954073</td><td>24.258299199865405</td><td>47.75900051412688</td><td>30.453644240593196</td><td>12448.408219178082</td></tr><tr><td>eb6fa09e-e48a-11ea-8204-0242ac110002</td><td>48.52879071316672</td><td>98.20602072783392</td><td>22.14861089387847</td><td>41.50966039758097</td><td>33.478649486352055</td><td>13064.753424657534</td></tr><tr><td>ebc9e72a-e48a-11ea-8204-0242ac110002</td><td>51.46070840563515</td><td>101.42237185762056</td><td>20.212204410061275</td><td>36.435615929273595</td><td>34.728772068529786</td><td>13403.950684931508</td></tr><tr><td>f04dd4e6-e48a-11ea-8204-0242ac110002</td><td>54.62714744982512</td><td>109.48323900162823</td><td>11.926164009216038</td><td>29.94740575150986</td><td>71.61023853179071</td><td>13315.810958904109</td></tr><tr><td>f1b7f3fc-e48a-11ea-8204-0242ac110002</td><td>50.25530631622987</td><td>104.67195244996489</td><td>19.996642045930074</td><td>42.15560227760649</td><td>49.81094686999591</td><td>11602.975342465754</td></tr><tr><td>f3223874-e48a-11ea-8204-0242ac110002</td><td>65.72272907289437</td><td>118.06631319992727</td><td>30.637658406405823</td><td>29.296611071942223</td><td>35.43287398554681</td><td>10243.564383561645</td></tr><tr><td>f3a6a500-e48a-11ea-8204-0242ac110002</td><td>84.23442393863549</td><td>130.19732821777882</td><td>21.30116314204588</td><td>20.611860258284818</td><td>41.875150488889474</td><td>7313.139726027397</td></tr><tr><td>f516b538-e48a-11ea-8204-0242ac110002</td><td>82.04608150875858</td><td>141.83874055778352</td><td>24.013200173891622</td><td>21.93401204582778</td><td>37.55935395168877</td><td>7122.643835616438</td></tr><tr><td>f6b6057e-e48a-11ea-8204-0242ac110002</td><td>67.41940632472789</td><td>124.97192837019098</td><td>30.434975337536766</td><td>27.256651128604325</td><td>33.121277965619214</td><td>6928.838356164383</td></tr><tr><td>f73bcf38-e48a-11ea-8204-0242ac110002</td><td>79.89961004815562</td><td>154.86451745048947</td><td>24.93506274216052</td><td>22.390085170034077</td><td>36.50710906273343</td><td>7089.605479452055</td></tr><tr><td>f7667620-e48a-11ea-8204-0242ac110002</td><td>77.7333072308708</td><td>132.41084489375783</td><td>23.262980142403144</td><td>26.527560369553324</td><td>5.589304241177653</td><td>5140.164383561644</td></tr><tr><td>f919cc38-e48a-11ea-8204-0242ac110002</td><td>76.01058418201373</td><td>166.7946994558356</td><td>24.475092024445427</td><td>25.612477582673947</td><td>5.437064300648224</td><td>5214.827397260274</td></tr><tr><td>f9482164-e48a-11ea-8204-0242ac110002</td><td>82.26518823248593</td><td>131.99013818744143</td><td>23.905210323902878</td><td>22.651258048466506</td><td>38.45877943992111</td><td>7192.227397260274</td></tr><tr><td>fb7b38d6-e48a-11ea-8204-0242ac110002</td><td>76.41771785334471</td><td>130.99158754720912</td><td>22.447734051496603</td><td>26.926159009762404</td><td>40.307961741940886</td><td>7260.994520547945</td></tr><tr><td>fe8535b8-e48a-11ea-8204-0242ac110002</td><td>92.40838570061604</td><td>144.43378582523044</td><td>16.049291658844425</td><td>18.95956267678733</td><td>7.457070619822079</td><td>5207.115068493151</td></tr><tr><td>d3273556-e48a-11ea-8204-0242ac110002</td><td>59.53829561446549</td><td>115.52539287671375</td><td>25.070247701563314</td><td>35.233462586031955</td><td>27.37055679996618</td><td>11859.509589041096</td></tr><tr><td>d3dcc1a0-e48a-11ea-8204-0242ac110002</td><td>60.443609480028066</td><td>108.59257884379294</td><td>25.30702979842124</td><td>32.798088386661505</td><td>28.73227977791393</td><td>12324.687671232878</td></tr><tr><td>dbae1960-e48a-11ea-8204-0242ac110002</td><td>55.3162329444806</td><td>104.50309981334227</td><td>21.53748889137036</td><td>35.20190284592836</td><td>47.41417335092059</td><td>11342.312328767122</td></tr><tr><td>df425424-e48a-11ea-8204-0242ac110002</td><td>64.54448914365467</td><td>125.74310763667447</td><td>30.927759752652655</td><td>26.498777792500103</td><td>34.706276701840345</td><td>10201.241095890411</td></tr><tr><td>e11b60d8-e48a-11ea-8204-0242ac110002</td><td>54.41747063447426</td><td>110.5051350104737</td><td>19.895545497794476</td><td>37.63647143631193</td><td>47.803330387104985</td><td>11278.632876712329</td></tr><tr><td>eb535196-e48a-11ea-8204-0242ac110002</td><td>51.44840948146743</td><td>107.43954489806605</td><td>18.86681966957981</td><td>36.546957793990224</td><td>37.03071211381379</td><td>13955.756164383562</td></tr><tr><td>ee6c7a4c-e48a-11ea-8204-0242ac110002</td><td>54.47310835708724</td><td>119.19215990820823</td><td>12.729502439630172</td><td>30.40996571186052</td><td>46.45928054450589</td><td>15658.643835616438</td></tr><tr><td>f2993be6-e48a-11ea-8204-0242ac110002</td><td>97.05243381840262</td><td>137.65222827749733</td><td>17.914906708276494</td><td>16.9276157601259</td><td>45.6413303509932</td><td>7277.490410958904</td></tr><tr><td>fe795f18-e48a-11ea-8204-0242ac110002</td><td>77.38002481495131</td><td>134.4362126698503</td><td>25.165283707620475</td><td>24.32734229958964</td><td>37.26782785081406</td><td>7099.605479452055</td></tr><tr><td>010c17d4-e48b-11ea-8204-0242ac110002</td><td>77.39961551014737</td><td>140.7798370656412</td><td>23.48907514439896</td><td>22.261332777073978</td><td>39.39578241306151</td><td>7145.424657534247</td></tr><tr><td>d526c3d0-e48a-11ea-8204-0242ac110002</td><td>55.549513739766724</td><td>136.9984064487469</td><td>21.989491940733284</td><td>34.54544232529754</td><td>44.64956407264908</td><td>11017.734246575343</td></tr><tr><td>db0247fc-e48a-11ea-8204-0242ac110002</td><td>63.75459244423359</td><td>126.60078507677378</td><td>31.738408259640636</td><td>28.94595660847724</td><td>36.25179350428057</td><td>10343.331506849316</td></tr><tr><td>dd270d2e-e48a-11ea-8204-0242ac110002</td><td>63.42504824625127</td><td>114.7448105632515</td><td>26.748916959195164</td><td>31.91446904884055</td><td>38.5314138962088</td><td>7101.13698630137</td></tr><tr><td>dee87666-e48a-11ea-8204-0242ac110002</td><td>52.50343103378747</td><td>111.98687353028524</td><td>20.497657539332668</td><td>39.34736360317646</td><td>33.040196417171344</td><td>12946.413698630136</td></tr><tr><td>e0e4e74c-e48a-11ea-8204-0242ac110002</td><td>54.865037187063216</td><td>98.71245692107854</td><td>21.25414239742741</td><td>38.58232739500722</td><td>46.37976392084187</td><td>11074.994520547945</td></tr><tr><td>e49c6608-e48a-11ea-8204-0242ac110002</td><td>53.34574533826861</td><td>99.08455603735425</td><td>15.31499801554432</td><td>33.28484766449523</td><td>41.94059619620464</td><td>14673.745205479452</td></tr><tr><td>e590a556-e48a-11ea-8204-0242ac110002</td><td>53.40397008843942</td><td>113.24318745963672</td><td>15.590310012647901</td><td>33.13519735215482</td><td>42.46217955891683</td><td>14586.367123287671</td></tr><tr><td>e5ebbea0-e48a-11ea-8204-0242ac110002</td><td>50.84578084970743</td><td>107.50569493692784</td><td>17.33211571751177</td><td>36.39331925798352</td><td>37.98689966182508</td><td>13850.060273972602</td></tr><tr><td>ee57f464-e48a-11ea-8204-0242ac110002</td><td>48.04665146137309</td><td>82.0418343173024</td><td>25.314282768857677</td><td>43.13960299238746</td><td>29.614819656124457</td><td>12567.572602739727</td></tr><tr><td>f12119d2-e48a-11ea-8204-0242ac110002</td><td>51.314541259051666</td><td>109.38225905308924</td><td>19.66868637186967</td><td>36.08258280985672</td><td>50.547662288883</td><td>11567.353424657535</td></tr><tr><td>f4e84d92-e48a-11ea-8204-0242ac110002</td><td>78.197446472623</td><td>135.75965361926524</td><td>22.449874733751155</td><td>25.357058353857774</td><td>41.269399200715725</td><td>7172.594520547946</td></tr><tr><td>f560a2ce-e48a-11ea-8204-0242ac110002</td><td>78.7552601756379</td><td>133.39407492136928</td><td>22.644420345459988</td><td>21.706851000464773</td><td>5.78692134768336</td><td>5114.210958904109</td></tr><tr><td>fd7391ba-e48a-11ea-8204-0242ac110002</td><td>84.36277079158286</td><td>139.6226339434496</td><td>19.263800623322492</td><td>22.426761757178404</td><td>45.31292280555558</td><td>7240.271232876712</td></tr><tr><td>d4553e32-e48a-11ea-8204-0242ac110002</td><td>53.74231225581977</td><td>120.17386166415825</td><td>20.25442467058411</td><td>38.70820223293655</td><td>34.516998740183226</td><td>13378.712328767124</td></tr><tr><td>d586a12e-e48a-11ea-8204-0242ac110002</td><td>58.061657685029544</td><td>109.5841769139639</td><td>22.187735355482992</td><td>36.330552971240344</td><td>31.44372474069319</td><td>12820.219178082192</td></tr><tr><td>d7588e68-e48a-11ea-8204-0242ac110002</td><td>57.436957451876424</td><td>126.59884320207662</td><td>23.28958480215289</td><td>34.435607871212916</td><td>42.77252773314802</td><td>7351.0657534246575</td></tr><tr><td>d8d4a27c-e48a-11ea-8204-0242ac110002</td><td>56.597800875138866</td><td>123.19212379822282</td><td>21.273469122880183</td><td>37.23360302604681</td><td>44.86687805071861</td><td>11289.07397260274</td></tr><tr><td>db17d8ba-e48a-11ea-8204-0242ac110002</td><td>60.36928552441222</td><td>119.94279309996101</td><td>26.062615723408353</td><td>33.3617555433927</td><td>39.542785320512714</td><td>7148.465753424657</td></tr><tr><td>dced410c-e48a-11ea-8204-0242ac110002</td><td>60.00456337856645</td><td>123.88563033035199</td><td>24.590532826374215</td><td>33.5754675682548</td><td>41.754061513940364</td><td>10613.728767123288</td></tr><tr><td>dd96957c-e48a-11ea-8204-0242ac110002</td><td>61.1460231306574</td><td>115.03564347650031</td><td>25.767990185239526</td><td>32.96541186774585</td><td>40.919712592156735</td><td>10804.367123287671</td></tr><tr><td>ddde3030-e48a-11ea-8204-0242ac110002</td><td>52.92890368723142</td><td>103.66774253645279</td><td>20.409926096036234</td><td>37.444424792409144</td><td>35.22237893466876</td><td>13361.517808219178</td></tr><tr><td>e06d6ee2-e48a-11ea-8204-0242ac110002</td><td>61.010114690708726</td><td>129.98934773452177</td><td>26.27908436575383</td><td>32.103207654704526</td><td>37.47809634750581</td><td>10293.64109589041</td></tr><tr><td>e171ef7a-e48a-11ea-8204-0242ac110002</td><td>57.37740680706046</td><td>113.9679563189933</td><td>21.920737540720832</td><td>36.09955199891164</td><td>43.689297949974154</td><td>10803.882191780822</td></tr><tr><td>ea37a28a-e48a-11ea-8204-0242ac110002</td><td>48.291426945448045</td><td>98.53809335893406</td><td>23.016558266072973</td><td>45.89444451463538</td><td>31.294323336755273</td><td>12678.824657534247</td></tr><tr><td>eb3720b6-e48a-11ea-8204-0242ac110002</td><td>49.21775745106842</td><td>101.3837681199968</td><td>20.64515516116102</td><td>40.215318269452325</td><td>46.124064811998664</td><td>11194.750684931507</td></tr><tr><td>ebe2966c-e48a-11ea-8204-0242ac110002</td><td>47.22154878383125</td><td>90.13426063782401</td><td>25.671482133140003</td><td>45.057928209849024</td><td>29.674874794595553</td><td>12384.679452054794</td></tr><tr><td>ec3eae84-e48a-11ea-8204-0242ac110002</td><td>50.12132743232164</td><td>104.04248567475666</td><td>19.45134166433893</td><td>41.23708034381729</td><td>37.60153343348692</td><td>13698.77808219178</td></tr><tr><td>f018d5b6-e48a-11ea-8204-0242ac110002</td><td>51.071046180234845</td><td>93.82995772069842</td><td>19.384446320024594</td><td>39.685974942760616</td><td>34.71183856000646</td><td>13409.608219178082</td></tr><tr><td>f5cfac5a-e48a-11ea-8204-0242ac110002</td><td>82.63210183960753</td><td>139.46289176870994</td><td>22.870905512289205</td><td>22.574760137590264</td><td>5.650731218116725</td><td>5185.720547945206</td></tr><tr><td>f8f498a0-e48a-11ea-8204-0242ac110002</td><td>79.19376763146178</td><td>141.89860289518953</td><td>24.229789939368313</td><td>21.19429347849946</td><td>37.633536733852715</td><td>7194.71506849315</td></tr><tr><td>faa4271a-e48a-11ea-8204-0242ac110002</td><td>97.2277859486884</td><td>164.04864344108324</td><td>15.737134008228287</td><td>15.76288383716071</td><td>7.268747344014938</td><td>5269.493150684932</td></tr><tr><td>fc995eaa-e48a-11ea-8204-0242ac110002</td><td>74.78764111864659</td><td>139.27192639709943</td><td>27.032433887570917</td><td>24.413181512860145</td><td>5.015382203837394</td><td>5103.909589041096</td></tr><tr><td>d8ad4cea-e48a-11ea-8204-0242ac110002</td><td>63.01183947917495</td><td>120.65021651129216</td><td>29.683295488082546</td><td>28.684175763882994</td><td>34.953673683988875</td><td>10342.046575342465</td></tr><tr><td>d9240ba0-e48a-11ea-8204-0242ac110002</td><td>57.844947355784335</td><td>116.85024264714268</td><td>23.8012426389807</td><td>36.121020661473544</td><td>30.46378267488823</td><td>12705.164383561643</td></tr><tr><td>de528cc8-e48a-11ea-8204-0242ac110002</td><td>59.87483315696735</td><td>114.78079885803862</td><td>24.60353783358566</td><td>33.600084026531384</td><td>39.81520804380122</td><td>7104.134246575342</td></tr><tr><td>e4042da2-e48a-11ea-8204-0242ac110002</td><td>49.78662572779362</td><td>103.92541865998427</td><td>22.498039830891223</td><td>42.17993108330432</td><td>31.627533357679273</td><td>12664.452054794521</td></tr><tr><td>e65bd352-e48a-11ea-8204-0242ac110002</td><td>51.16614734336881</td><td>104.06669459551567</td><td>22.216039184323016</td><td>35.43470735679237</td><td>46.385952103698656</td><td>11180.983561643836</td></tr><tr><td>e8369ca2-e48a-11ea-8204-0242ac110002</td><td>48.266765612887404</td><td>105.70832425156674</td><td>25.8283148580452</td><td>43.39074959425771</td><td>31.414256887917926</td><td>12729.701369863014</td></tr><tr><td>e994c718-e48a-11ea-8204-0242ac110002</td><td>52.198874665242606</td><td>109.8578396113187</td><td>16.61228419544021</td><td>37.11061823991618</td><td>41.09720285036391</td><td>14271.254794520548</td></tr><tr><td>eaaa1176-e48a-11ea-8204-0242ac110002</td><td>50.505075309315835</td><td>105.01834612534414</td><td>21.179791956560766</td><td>42.38786606755121</td><td>34.58943295911456</td><td>13106.673972602739</td></tr><tr><td>edc57fb2-e48a-11ea-8204-0242ac110002</td><td>54.65683212557368</td><td>110.26062426718684</td><td>10.975399291225694</td><td>29.183789361817826</td><td>53.622766046330945</td><td>16649.802739726027</td></tr><tr><td>f37b9694-e48a-11ea-8204-0242ac110002</td><td>72.89754644187117</td><td>139.53251155132457</td><td>25.862933964254392</td><td>27.199991287576836</td><td>36.394604661616775</td><td>7198.558904109589</td></tr><tr><td>ff74939c-e48a-11ea-8204-0242ac110002</td><td>66.99207645595699</td><td>130.650766365193</td><td>29.273026976388568</td><td>26.115330192656305</td><td>34.66797691276043</td><td>7108.052054794521</td></tr><tr><td>02a21436-e48b-11ea-8204-0242ac110002</td><td>72.17684418088463</td><td>132.3006239889619</td><td>25.53098313942924</td><td>24.90799191109451</td><td>36.84023871934775</td><td>7045.564383561644</td></tr><tr><td>d5e0a94e-e48a-11ea-8204-0242ac110002</td><td>60.590923515730076</td><td>122.80820484232825</td><td>25.191123463905488</td><td>32.26858728572927</td><td>39.45275542047787</td><td>10480.616438356165</td></tr><tr><td>dc3fab50-e48a-11ea-8204-0242ac110002</td><td>60.83454215377004</td><td>122.2552804001224</td><td>27.195901920511716</td><td>32.277919248411926</td><td>40.93619661614043</td><td>10693.257534246575</td></tr><tr><td>dd731af2-e48a-11ea-8204-0242ac110002</td><td>63.71555486638507</td><td>117.41232447241495</td><td>26.612977405185287</td><td>31.356572050284434</td><td>37.2677541421163</td><td>7191.219178082192</td></tr><tr><td>de016b2c-e48a-11ea-8204-0242ac110002</td><td>54.31524785446477</td><td>111.98913758978603</td><td>24.2906881972131</td><td>35.93620478812212</td><td>30.329650207573266</td><td>12367.427397260273</td></tr><tr><td>eade161a-e48a-11ea-8204-0242ac110002</td><td>47.83463175230588</td><td>105.83318846141736</td><td>24.349787890944636</td><td>45.102630295238896</td><td>46.8117825633065</td><td>11265.457534246576</td></tr><tr><td>ebc179aa-e48a-11ea-8204-0242ac110002</td><td>52.294545567147885</td><td>101.18064125150869</td><td>16.290962115351064</td><td>34.459042242168614</td><td>39.33676260767018</td><td>14213.04109589041</td></tr><tr><td>f1bf9f12-e48a-11ea-8204-0242ac110002</td><td>52.07652631816169</td><td>99.6300525381692</td><td>19.800056073254936</td><td>39.46731030741948</td><td>36.38958370491774</td><td>13584.076712328768</td></tr><tr><td>fac38538-e48a-11ea-8204-0242ac110002</td><td>69.18289869289372</td><td>132.0612266268321</td><td>27.49956413554908</td><td>30.285722652758185</td><td>36.696492371996904</td><td>10152.534246575342</td></tr><tr><td>ffffb0d0-e48a-11ea-8204-0242ac110002</td><td>97.98210156671703</td><td>139.5673288947514</td><td>15.751330246281574</td><td>12.427258844120928</td><td>52.40329518345458</td><td>7559.28493150685</td></tr><tr><td>00926484-e48b-11ea-8204-0242ac110002</td><td>79.70953288334813</td><td>136.3160602044928</td><td>23.878994328601486</td><td>22.199701612151358</td><td>37.7289873231296</td><td>7206.0</td></tr><tr><td>dc20ae1c-e48a-11ea-8204-0242ac110002</td><td>61.392482856450016</td><td>120.68933912666003</td><td>26.306132299089885</td><td>32.77019835898926</td><td>26.332607452438218</td><td>11666.52602739726</td></tr><tr><td>dec3b772-e48a-11ea-8204-0242ac110002</td><td>61.59359891608354</td><td>118.50307742327328</td><td>27.07233205780859</td><td>31.917788318472898</td><td>35.42363045735489</td><td>10225.4301369863</td></tr><tr><td>e0262f00-e48a-11ea-8204-0242ac110002</td><td>59.57470862189963</td><td>109.41029730971778</td><td>28.340380241372433</td><td>32.301456094495684</td><td>36.1711669011898</td><td>7136.068493150685</td></tr><tr><td>e12e6d68-e48a-11ea-8204-0242ac110002</td><td>56.546626419412796</td><td>123.2410492794507</td><td>27.452322288679273</td><td>33.09958028559852</td><td>41.120454414016194</td><td>10676.364383561644</td></tr><tr><td>e4de5176-e48a-11ea-8204-0242ac110002</td><td>49.26258610428217</td><td>103.52668986525369</td><td>22.396190556423118</td><td>42.45780429844908</td><td>44.48089606936484</td><td>10873.254794520548</td></tr><tr><td>e7ce9238-e48a-11ea-8204-0242ac110002</td><td>48.52539069633128</td><td>110.51854071866748</td><td>22.267074869501617</td><td>43.510901148776334</td><td>33.706676356642475</td><td>13081.408219178082</td></tr><tr><td>ed2b4fe6-e48a-11ea-8204-0242ac110002</td><td>49.47569983037608</td><td>96.89824142584747</td><td>22.460867812657995</td><td>40.805410094217045</td><td>32.34967733214914</td><td>12850.74794520548</td></tr><tr><td>ef4e017e-e48a-11ea-8204-0242ac110002</td><td>50.49516053365873</td><td>106.32026761283839</td><td>19.03916966626003</td><td>38.743317204353524</td><td>35.41586969650829</td><td>13481.838356164384</td></tr><tr><td>f4570c92-e48a-11ea-8204-0242ac110002</td><td>70.55139985943653</td><td>140.8772232170616</td><td>27.34714981321343</td><td>28.528977475160538</td><td>35.37815032802201</td><td>7098.331506849315</td></tr><tr><td>f6f1fca0-e48a-11ea-8204-0242ac110002</td><td>67.45717582014207</td><td>131.88716263204554</td><td>30.667697921394012</td><td>29.556588381551673</td><td>32.98917357382609</td><td>6970.134246575342</td></tr><tr><td>fb0ff33c-e48a-11ea-8204-0242ac110002</td><td>67.7786650840229</td><td>145.9391886602553</td><td>28.917598567882752</td><td>30.029481512646328</td><td>4.90592678896246</td><td>5112.046575342466</td></tr><tr><td>ffdf8d6e-e48a-11ea-8204-0242ac110002</td><td>88.5716514658319</td><td>139.15293999208205</td><td>20.120768310786026</td><td>21.056828200182487</td><td>6.306961722396013</td><td>5204.049315068493</td></tr><tr><td>00eec706-e48b-11ea-8204-0242ac110002</td><td>72.88616293583084</td><td>137.9294373961837</td><td>26.426814259220585</td><td>24.83509429284389</td><td>35.719684803566814</td><td>7124.969863013699</td></tr><tr><td>d5c5f450-e48a-11ea-8204-0242ac110002</td><td>60.34437835593993</td><td>126.06302458428354</td><td>24.79330199243264</td><td>33.27123185186094</td><td>40.03604994478605</td><td>10543.88493150685</td></tr><tr><td>df7a5a54-e48a-11ea-8204-0242ac110002</td><td>58.71089511904646</td><td>119.82176989361852</td><td>24.36605533587214</td><td>32.896027722671036</td><td>43.292785065323244</td><td>10834.813698630138</td></tr><tr><td>e49035ae-e48a-11ea-8204-0242ac110002</td><td>49.97180632785231</td><td>102.2267815405534</td><td>19.555993252286125</td><td>43.51484375859895</td><td>51.005794142200415</td><td>11597.380821917808</td></tr><tr><td>e4fd95ea-e48a-11ea-8204-0242ac110002</td><td>52.10164434205249</td><td>108.07312992801697</td><td>18.22101095645998</td><td>35.57168499068133</td><td>37.16138402653044</td><td>13873.202739726028</td></tr><tr><td>e8a3e82a-e48a-11ea-8204-0242ac110002</td><td>50.66956715856347</td><td>107.93893342916954</td><td>23.436938994403636</td><td>37.44161290424611</td><td>43.55337825023752</td><td>10863.216438356165</td></tr><tr><td>e9803870-e48a-11ea-8204-0242ac110002</td><td>51.97169667387831</td><td>97.37855919643823</td><td>17.602905614124346</td><td>36.0805148733615</td><td>38.659189307444564</td><td>14066.394520547945</td></tr><tr><td>eb2f3ec8-e48a-11ea-8204-0242ac110002</td><td>50.337455736086135</td><td>96.60513680382209</td><td>20.045197912464186</td><td>39.9514318171653</td><td>34.0789916605068</td><td>13220.298630136986</td></tr><tr><td>eed75d94-e48a-11ea-8204-0242ac110002</td><td>52.08646461927272</td><td>113.18853834353536</td><td>17.79359455477763</td><td>36.47458453967823</td><td>36.80155360493595</td><td>13638.567123287672</td></tr><tr><td>efd1296e-e48a-11ea-8204-0242ac110002</td><td>52.96395399372395</td><td>114.45003529724508</td><td>15.36681964372138</td><td>34.53324376942677</td><td>42.551413331743866</td><td>14450.446575342467</td></tr><tr><td>f05e648c-e48a-11ea-8204-0242ac110002</td><td>51.14236171919587</td><td>98.1473261355229</td><td>19.96999263321462</td><td>40.21996670440302</td><td>35.267365131097996</td><td>13370.01095890411</td></tr><tr><td>f1fcd940-e48a-11ea-8204-0242ac110002</td><td>50.895659595145816</td><td>101.85589165788531</td><td>17.561479749811106</td><td>36.89785245699215</td><td>53.322719473333365</td><td>11877.16712328767</td></tr><tr><td>f2096494-e48a-11ea-8204-0242ac110002</td><td>67.7701706411636</td><td>142.2603336884476</td><td>26.88156213412654</td><td>30.485692505515704</td><td>5.229755942832337</td><td>5186.671232876713</td></tr><tr><td>f442e1b8-e48a-11ea-8204-0242ac110002</td><td>82.15195249885598</td><td>137.126171055761</td><td>17.909178028342247</td><td>24.301262095930277</td><td>47.798449135920166</td><td>7481.068493150685</td></tr><tr><td>f5c7e6e6-e48a-11ea-8204-0242ac110002</td><td>57.189617336695214</td><td>137.8270265840642</td><td>32.38875164956191</td><td>34.23856615606716</td><td>35.96862367031623</td><td>10236.701369863014</td></tr><tr><td>f84dd4ca-e48a-11ea-8204-0242ac110002</td><td>80.63700153100609</td><td>152.47347233442775</td><td>22.412169777317843</td><td>22.227874838255353</td><td>40.55712060497155</td><td>7166.8027397260275</td></tr><tr><td>fce0111a-e48a-11ea-8204-0242ac110002</td><td>96.97806941201232</td><td>146.23513070959507</td><td>18.007511963092774</td><td>18.0679670458958</td><td>6.754670397572991</td><td>5218.391780821918</td></tr><tr><td>d33b96cc-e48a-11ea-8204-0242ac110002</td><td>59.69900344458013</td><td>123.29798296189819</td><td>28.36719082726712</td><td>31.600859886886173</td><td>36.956925001081125</td><td>10273.65205479452</td></tr><tr><td>d35556e8-e48a-11ea-8204-0242ac110002</td><td>60.85271171763094</td><td>126.06206364026151</td><td>26.611962090715675</td><td>29.685177316745698</td><td>37.61455072339005</td><td>10419.123287671233</td></tr><tr><td>d629703e-e48a-11ea-8204-0242ac110002</td><td>52.72219489285437</td><td>111.64093436298818</td><td>19.5724218601039</td><td>38.02749371049291</td><td>50.17544112621923</td><td>11682.197260273973</td></tr><tr><td>d6fe928c-e48a-11ea-8204-0242ac110002</td><td>58.44167483222206</td><td>117.53943419692702</td><td>25.75489918020797</td><td>34.338946653640136</td><td>39.54562395236093</td><td>10441.712328767124</td></tr><tr><td>d80300e6-e48a-11ea-8204-0242ac110002</td><td>67.20903239968082</td><td>121.73831621306792</td><td>32.26821615087665</td><td>26.654722331861525</td><td>32.798748326057485</td><td>7073.035616438357</td></tr><tr><td>e9ca5040-e48a-11ea-8204-0242ac110002</td><td>54.0284328440395</td><td>108.28615934932891</td><td>12.654053882785398</td><td>33.03972742973578</td><td>49.85972670403038</td><td>15997.964383561644</td></tr><tr><td>ea2ba73c-e48a-11ea-8204-0242ac110002</td><td>47.841673185195326</td><td>88.23569041947863</td><td>26.237657368710668</td><td>45.710421553388734</td><td>30.386243869857264</td><td>12565.764383561644</td></tr><tr><td>ec125f82-e48a-11ea-8204-0242ac110002</td><td>50.27318218512682</td><td>92.29882419709426</td><td>19.477999283191433</td><td>39.691530689784535</td><td>35.58096212028507</td><td>13352.375342465753</td></tr><tr><td>f0c0044e-e48a-11ea-8204-0242ac110002</td><td>45.73975839190175</td><td>93.41332378103513</td><td>27.261565167882395</td><td>48.887695985063615</td><td>31.254104438015755</td><td>12527.956164383562</td></tr><tr><td>f37fcb74-e48a-11ea-8204-0242ac110002</td><td>74.70086634248925</td><td>121.67227153993254</td><td>28.792669925300466</td><td>25.805953355652942</td><td>34.87085859794914</td><td>7041.030136986301</td></tr><tr><td>f743acee-e48a-11ea-8204-0242ac110002</td><td>61.636022011089764</td><td>121.40160312511519</td><td>29.64722751734138</td><td>32.60283703737775</td><td>34.44231022610492</td><td>6996.172602739726</td></tr><tr><td>faabef04-e48a-11ea-8204-0242ac110002</td><td>102.433073882472</td><td>142.82228655296373</td><td>12.384873404672344</td><td>14.295550065912424</td><td>9.028399655930391</td><td>5324.021917808219</td></tr><tr><td>fb17e4c0-e48a-11ea-8204-0242ac110002</td><td>62.086503357708665</td><td>136.69459762736102</td><td>30.299520683343523</td><td>32.1558290748916</td><td>34.3365376898588</td><td>7071.331506849315</td></tr><tr><td>fc05a278-e48a-11ea-8204-0242ac110002</td><td>82.08816859054659</td><td>140.413369102464</td><td>22.189705172528654</td><td>20.29204722901298</td><td>40.62970645892074</td><td>7271.578082191781</td></tr><tr><td>012e664a-e48b-11ea-8204-0242ac110002</td><td>77.16953216156257</td><td>152.14216014835466</td><td>25.30133777287467</td><td>23.523165325996214</td><td>37.147432032915226</td><td>7136.295890410959</td></tr><tr><td>d2f410e0-e48a-11ea-8204-0242ac110002</td><td>63.98789553371525</td><td>107.68132919170525</td><td>28.75752329147849</td><td>29.511758604148284</td><td>25.88864762159443</td><td>11646.950684931508</td></tr><tr><td>d7178382-e48a-11ea-8204-0242ac110002</td><td>53.984221025279155</td><td>125.92857265727432</td><td>23.536206245857485</td><td>35.55873078921698</td><td>44.76414382809076</td><td>10996.5698630137</td></tr><tr><td>d7fb7498-e48a-11ea-8204-0242ac110002</td><td>60.77597299069474</td><td>117.94460726550128</td><td>28.676038619353236</td><td>31.471910635228124</td><td>35.959285212822415</td><td>7131.838356164383</td></tr><tr><td>daed49ba-e48a-11ea-8204-0242ac110002</td><td>58.74451104495155</td><td>127.66231377721773</td><td>25.062247310271363</td><td>33.58404799489943</td><td>39.96364703666875</td><td>10690.112328767123</td></tr><tr><td>e0dd410e-e48a-11ea-8204-0242ac110002</td><td>63.17199947338228</td><td>121.47944577879478</td><td>28.244299280156024</td><td>29.932915475891367</td><td>36.24611944047314</td><td>7047.34794520548</td></tr><tr><td>ec02313e-e48a-11ea-8204-0242ac110002</td><td>52.15161203716407</td><td>118.72964376536049</td><td>18.290423922172877</td><td>35.18791259726164</td><td>36.69589816705382</td><td>13756.597260273973</td></tr><tr><td>eea5e868-e48a-11ea-8204-0242ac110002</td><td>51.50339236818425</td><td>107.78735953343808</td><td>21.270200684362674</td><td>34.50889242462661</td><td>34.88985926187731</td><td>13307.835616438357</td></tr><tr><td>f1ceefee-e48a-11ea-8204-0242ac110002</td><td>49.703058907487815</td><td>98.56874400958567</td><td>22.008430206077232</td><td>41.49075128882046</td><td>32.464485597567005</td><td>12894.375342465753</td></tr><tr><td>f32607c4-e48a-11ea-8204-0242ac110002</td><td>84.21926523949949</td><td>150.647568536683</td><td>23.173584715482328</td><td>22.00601037926213</td><td>38.575055505548875</td><td>7095.750684931507</td></tr><tr><td>f5f69a2c-e48a-11ea-8204-0242ac110002</td><td>71.98661046621574</td><td>146.9449013667757</td><td>24.374581864907704</td><td>24.788650459341355</td><td>38.88383095840996</td><td>7154.306849315069</td></tr><tr><td>f6fdba68-e48a-11ea-8204-0242ac110002</td><td>65.76752777443474</td><td>143.36519609867835</td><td>32.65886290194771</td><td>29.384610472071166</td><td>33.08125002713363</td><td>7065.6630136986305</td></tr><tr><td>f7570366-e48a-11ea-8204-0242ac110002</td><td>66.79459193210977</td><td>137.90214727760812</td><td>27.872690538042473</td><td>30.438245901782604</td><td>5.119390800546305</td><td>5132.052054794521</td></tr><tr><td>fa6da6a4-e48a-11ea-8204-0242ac110002</td><td>77.35579577946514</td><td>142.09732393694884</td><td>22.963888628216807</td><td>23.511430132676264</td><td>39.43659917658651</td><td>7104.882191780822</td></tr><tr><td>ff8457a0-e48a-11ea-8204-0242ac110002</td><td>77.91572955434921</td><td>138.72306476401693</td><td>22.16507297186388</td><td>25.33289242407642</td><td>39.715221180269744</td><td>7272.323287671233</td></tr><tr><td>0121c98a-e48b-11ea-8204-0242ac110002</td><td>80.64818513746137</td><td>146.63741790802501</td><td>21.768760283880916</td><td>23.930543854094125</td><td>40.57750336600859</td><td>7220.761643835616</td></tr><tr><td>d4388d46-e48a-11ea-8204-0242ac110002</td><td>59.71326130200061</td><td>116.03375987142172</td><td>23.00094155735317</td><td>35.302461821507244</td><td>31.55329050808766</td><td>13224.435616438355</td></tr><tr><td>dbb63a0a-e48a-11ea-8204-0242ac110002</td><td>64.0896792266537</td><td>117.85483495128909</td><td>27.92401794424363</td><td>32.13509207399534</td><td>35.79538974412671</td><td>10449.797260273972</td></tr><tr><td>dc10b2e6-e48a-11ea-8204-0242ac110002</td><td>58.23044135710293</td><td>129.86919535188835</td><td>24.679745341934755</td><td>35.18840183810128</td><td>40.536274104629264</td><td>7256.145205479452</td></tr><tr><td>dd169ff2-e48a-11ea-8204-0242ac110002</td><td>53.91798687232555</td><td>112.58084108369881</td><td>18.79781740973854</td><td>36.89204713930544</td><td>36.623540285924086</td><td>14043.33698630137</td></tr><tr><td>e0f05960-e48a-11ea-8204-0242ac110002</td><td>63.22939533529762</td><td>128.1702406358758</td><td>23.586699283483934</td><td>32.53334239157344</td><td>41.92705577698254</td><td>7414.528767123287</td></tr><tr><td>e28d72da-e48a-11ea-8204-0242ac110002</td><td>48.31853683831922</td><td>98.3528856875481</td><td>24.60451319982971</td><td>44.972134727293074</td><td>31.056768315680248</td><td>12936.608219178082</td></tr><tr><td>e8e31450-e48a-11ea-8204-0242ac110002</td><td>53.65058785764743</td><td>110.1208888295567</td><td>14.377771900916073</td><td>35.5376953653133</td><td>43.99316891394807</td><td>15450.901369863013</td></tr><tr><td>ee2214b6-e48a-11ea-8204-0242ac110002</td><td>52.323954134668945</td><td>101.14397331744945</td><td>14.625999708433861</td><td>39.65292196265821</td><td>42.2385284687475</td><td>14932.493150684932</td></tr><tr><td>efa05690-e48a-11ea-8204-0242ac110002</td><td>49.60484373737439</td><td>88.17284575898235</td><td>19.417129084110986</td><td>40.931475955134246</td><td>35.21734758474151</td><td>13644.682191780821</td></tr><tr><td>efc98ed4-e48a-11ea-8204-0242ac110002</td><td>50.00149767875386</td><td>98.38003019241722</td><td>20.854524711551036</td><td>38.70491135855808</td><td>33.41473669203628</td><td>13306.978082191781</td></tr><tr><td>f2fb64c4-e48a-11ea-8204-0242ac110002</td><td>77.53079011372486</td><td>150.97354345847086</td><td>23.666543024316912</td><td>25.362814361697914</td><td>5.534535781075262</td><td>5169.416438356165</td></tr><tr><td>f5e3116e-e48a-11ea-8204-0242ac110002</td><td>69.46643474501647</td><td>132.95000970433662</td><td>28.48738268489761</td><td>26.06496413603982</td><td>5.029975300313707</td><td>5191.893150684931</td></tr><tr><td>f9c37df0-e48a-11ea-8204-0242ac110002</td><td>72.55218198714103</td><td>129.1844739094914</td><td>26.753822139997077</td><td>27.861254902616928</td><td>35.703764484475265</td><td>7092.090410958904</td></tr><tr><td>fa45b252-e48a-11ea-8204-0242ac110002</td><td>61.019769801987366</td><td>133.80332397764988</td><td>34.502974113544774</td><td>33.841694435604424</td><td>29.865668541142874</td><td>9740.4</td></tr><tr><td>fef0bdc4-e48a-11ea-8204-0242ac110002</td><td>80.62784810710515</td><td>154.96792417736953</td><td>21.27389073047019</td><td>24.344154898274848</td><td>42.270548422841344</td><td>7373.46301369863</td></tr><tr><td>ff0d522c-e48a-11ea-8204-0242ac110002</td><td>71.33314528241345</td><td>143.63775065411005</td><td>29.58531421235547</td><td>29.839759036328154</td><td>4.805441826563977</td><td>5152.605479452055</td></tr><tr><td>d52e6784-e48a-11ea-8204-0242ac110002</td><td>62.30370604541888</td><td>130.56925808885606</td><td>28.625188777680876</td><td>30.24078970992756</td><td>35.18907447033306</td><td>10129.361643835617</td></tr><tr><td>d736727e-e48a-11ea-8204-0242ac110002</td><td>59.30681070216743</td><td>122.65888419981579</td><td>24.11477694694083</td><td>31.238484498950367</td><td>40.1940564177759</td><td>10848.375342465753</td></tr><tr><td>d8b1ca5e-e48a-11ea-8204-0242ac110002</td><td>59.25804887059636</td><td>121.18888085107355</td><td>24.66575892537066</td><td>31.92278797133222</td><td>40.458822734015286</td><td>7347.698630136986</td></tr><tr><td>e093dee2-e48a-11ea-8204-0242ac110002</td><td>60.02584032712212</td><td>128.34113320310556</td><td>26.706071457385654</td><td>31.72071593973505</td><td>41.40797907828884</td><td>10589.624657534247</td></tr><tr><td>e45dc164-e48a-11ea-8204-0242ac110002</td><td>52.0491409216597</td><td>111.48728368440102</td><td>17.510890419256455</td><td>38.298458135977725</td><td>56.68849850583429</td><td>12085.13698630137</td></tr><tr><td>e653b244-e48a-11ea-8204-0242ac110002</td><td>49.735850735275804</td><td>97.55941178635518</td><td>23.877162116730684</td><td>43.54799421976518</td><td>31.922332034087695</td><td>12676.613698630137</td></tr><tr><td>e97b8c1c-e48a-11ea-8204-0242ac110002</td><td>48.25180660004121</td><td>96.15421927076304</td><td>24.98969859099394</td><td>46.153149569640476</td><td>29.87152717641392</td><td>12457.46301369863</td></tr><tr><td>eaf6bcec-e48a-11ea-8204-0242ac110002</td><td>49.10882284908352</td><td>105.37675235010111</td><td>23.82993377874876</td><td>37.43698579766689</td><td>30.95446403029735</td><td>12490.887671232877</td></tr><tr><td>f02c7274-e48a-11ea-8204-0242ac110002</td><td>50.31322165821834</td><td>95.51297452347919</td><td>18.225214630137266</td><td>40.75385553404522</td><td>37.805659992174576</td><td>13690.030136986301</td></tr><tr><td>f1b034d2-e48a-11ea-8204-0242ac110002</td><td>50.851666421607135</td><td>111.19345861388807</td><td>21.344253142081403</td><td>37.938631400495765</td><td>49.419672479184</td><td>11480.980821917808</td></tr><tr><td>f45eb294-e48a-11ea-8204-0242ac110002</td><td>53.632604896430074</td><td>133.34144182480725</td><td>37.56740036277245</td><td>36.44236311230851</td><td>31.590922902239438</td><td>7053.0191780821915</td></tr><tr><td>f8fd7682-e48a-11ea-8204-0242ac110002</td><td>81.1145477254848</td><td>131.062285127167</td><td>22.33872524194543</td><td>24.338430651153843</td><td>5.7806587919834</td><td>5219.717808219178</td></tr><tr><td>fd4a0048-e48a-11ea-8204-0242ac110002</td><td>81.30723584595712</td><td>139.22593742471213</td><td>23.281457225595673</td><td>23.73846413447265</td><td>39.2621664463719</td><td>7238.323287671233</td></tr><tr><td>d34406ae-e48a-11ea-8204-0242ac110002</td><td>58.39712755625085</td><td>116.92169781553366</td><td>23.821881767838278</td><td>35.046870248388004</td><td>28.93625197332771</td><td>12124.898630136986</td></tr><tr><td>d3fc7cd4-e48a-11ea-8204-0242ac110002</td><td>59.661682753385875</td><td>118.77933453853898</td><td>26.91968049498751</td><td>31.731174550946545</td><td>37.25629807818841</td><td>10388.51506849315</td></tr><tr><td>d40854fa-e48a-11ea-8204-0242ac110002</td><td>53.6579592554415</td><td>111.48543759687985</td><td>21.517337693804883</td><td>38.38554765207273</td><td>46.37263254082696</td><td>11107.493150684932</td></tr><tr><td>d85841dc-e48a-11ea-8204-0242ac110002</td><td>57.22074719411959</td><td>119.46717089093544</td><td>21.706108276416135</td><td>37.960943364007754</td><td>46.62052843574268</td><td>11182.671232876712</td></tr><tr><td>d983592a-e48a-11ea-8204-0242ac110002</td><td>54.14318434042509</td><td>108.8567983150523</td><td>18.6137051147236</td><td>39.01178984375068</td><td>51.52082180707746</td><td>11553.25205479452</td></tr><tr><td>da747b84-e48a-11ea-8204-0242ac110002</td><td>58.232910132041916</td><td>123.03766510979133</td><td>26.467066314320853</td><td>34.12693640907328</td><td>36.12619679765843</td><td>10221.098630136987</td></tr><tr><td>df1a3da4-e48a-11ea-8204-0242ac110002</td><td>60.94867828144888</td><td>128.25285587998005</td><td>26.90057707239164</td><td>30.245837764962623</td><td>39.452904664208184</td><td>10409.649315068493</td></tr><tr><td>e32bc692-e48a-11ea-8204-0242ac110002</td><td>49.121654377406905</td><td>116.95658221162829</td><td>23.873621520980663</td><td>41.20961725020616</td><td>44.92626070562924</td><td>11117.441095890412</td></tr><tr><td>e8c81c86-e48a-11ea-8204-0242ac110002</td><td>50.65775480950007</td><td>100.17813254108017</td><td>19.98497129658288</td><td>40.02908162278628</td><td>34.67742701293985</td><td>13170.791780821917</td></tr><tr><td>f0d09782-e48a-11ea-8204-0242ac110002</td><td>50.769396796191295</td><td>95.07210994789438</td><td>19.582802509573344</td><td>41.1639418113691</td><td>36.21074871361149</td><td>13350.936986301369</td></tr><tr><td>f1b40a80-e48a-11ea-8204-0242ac110002</td><td>51.49939437499574</td><td>107.39343852444325</td><td>19.132958072468313</td><td>34.119558668926686</td><td>49.917530709922076</td><td>11487.356164383562</td></tr><tr><td>f1e242ba-e48a-11ea-8204-0242ac110002</td><td>52.55181280699337</td><td>107.16912047173555</td><td>15.29852472331325</td><td>38.28066054769095</td><td>60.939808549091524</td><td>12679.101369863014</td></tr><tr><td>f3606c66-e48a-11ea-8204-0242ac110002</td><td>77.64781056626113</td><td>138.23385079031658</td><td>24.7080225383075</td><td>21.360133956586484</td><td>37.17703684967188</td><td>7099.865753424658</td></tr><tr><td>f3739f02-e48a-11ea-8204-0242ac110002</td><td>71.40095083813472</td><td>149.87021355937964</td><td>27.730651971096833</td><td>25.82676033961699</td><td>34.864347587390924</td><td>7035.882191780822</td></tr><tr><td>f43ed46a-e48a-11ea-8204-0242ac110002</td><td>83.05960052111892</td><td>111.55396339906464</td><td>25.272133478532687</td><td>22.054250977751078</td><td>35.150173905524795</td><td>10216.920547945205</td></tr><tr><td>f6eda8d0-e48a-11ea-8204-0242ac110002</td><td>82.7275786219762</td><td>139.88891727495658</td><td>21.811331859747614</td><td>22.78533726539964</td><td>5.879853624603014</td><td>5187.852054794521</td></tr><tr><td>f7fff4c6-e48a-11ea-8204-0242ac110002</td><td>65.26334036800314</td><td>131.68143090722074</td><td>29.490109316860543</td><td>27.23511810146577</td><td>35.1807849562131</td><td>10233.158904109589</td></tr><tr><td>f88426b0-e48a-11ea-8204-0242ac110002</td><td>65.31126760369132</td><td>121.03826441405192</td><td>30.183855798779465</td><td>29.930103193316654</td><td>33.44871337438005</td><td>6944.175342465754</td></tr><tr><td>fad0333c-e48a-11ea-8204-0242ac110002</td><td>78.59099901107022</td><td>134.69996882383086</td><td>24.653857475001267</td><td>23.24002798363751</td><td>5.3095704965986465</td><td>5093.45205479452</td></tr><tr><td>fca70b5e-e48a-11ea-8204-0242ac110002</td><td>80.22599177900995</td><td>114.10714004717792</td><td>21.342862661963547</td><td>23.988329269657285</td><td>45.10888963904506</td><td>11120.419178082191</td></tr><tr><td>fd35c308-e48a-11ea-8204-0242ac110002</td><td>83.59959863957276</td><td>136.93884660914546</td><td>22.947618168869163</td><td>23.907669417795056</td><td>38.79858438827385</td><td>7123.076712328767</td></tr><tr><td>ffc78728-e48a-11ea-8204-0242ac110002</td><td>75.9067143001545</td><td>131.21625481118588</td><td>25.15560599288421</td><td>25.315525009949255</td><td>5.302106117061161</td><td>5227.2986301369865</td></tr><tr><td>004dce50-e48b-11ea-8204-0242ac110002</td><td>75.74981399738974</td><td>130.93270399176032</td><td>22.035605849593626</td><td>25.10970186960966</td><td>43.6095186878573</td><td>10870.605479452055</td></tr><tr><td>d3c49aa8-e48a-11ea-8204-0242ac110002</td><td>62.67832822341962</td><td>126.55070760439426</td><td>28.538456483092702</td><td>30.136315631288845</td><td>36.31521454706571</td><td>10320.065753424658</td></tr><tr><td>d4599c48-e48a-11ea-8204-0242ac110002</td><td>58.17874362126202</td><td>100.40644378168756</td><td>21.379948776277136</td><td>36.16895762826443</td><td>30.456885826695295</td><td>12367.2</td></tr><tr><td>d54185d0-e48a-11ea-8204-0242ac110002</td><td>53.45054361310295</td><td>107.34686137555215</td><td>17.880754195297573</td><td>39.76020927455288</td><td>53.528300595813654</td><td>11837.517808219178</td></tr><tr><td>d5ec36ec-e48a-11ea-8204-0242ac110002</td><td>62.5424434514974</td><td>114.55230135096309</td><td>26.433814740667717</td><td>32.943273772822224</td><td>37.68818375234937</td><td>10353.906849315068</td></tr><tr><td>da3bb4f2-e48a-11ea-8204-0242ac110002</td><td>58.244776511536855</td><td>117.19473480668364</td><td>27.432396698209438</td><td>33.85114874770899</td><td>38.15381930506995</td><td>7108.323287671233</td></tr><tr><td>dd8ab022-e48a-11ea-8204-0242ac110002</td><td>64.74170224529291</td><td>123.33923642416373</td><td>31.043700919631046</td><td>26.157830045833787</td><td>32.283494503169294</td><td>9758.424657534246</td></tr><tr><td>e0e1125c-e48a-11ea-8204-0242ac110002</td><td>59.0279432649924</td><td>123.79205919762592</td><td>29.17672975820263</td><td>31.965836534699967</td><td>37.78710956082261</td><td>10494.964383561644</td></tr><tr><td>e16dca76-e48a-11ea-8204-0242ac110002</td><td>55.64833833463997</td><td>100.25369082365577</td><td>18.488468655822334</td><td>37.21691400588285</td><td>36.93618312239674</td><td>13597.068493150686</td></tr><tr><td>ea17954e-e48a-11ea-8204-0242ac110002</td><td>50.47274665933407</td><td>103.21346440454373</td><td>18.907494131198845</td><td>38.862496245836816</td><td>37.11329759279284</td><td>13516.887671232877</td></tr><tr><td>ea5c2a9c-e48a-11ea-8204-0242ac110002</td><td>51.95301865973605</td><td>113.48356948692958</td><td>18.61797374107357</td><td>37.783346623659696</td><td>50.95248945206013</td><td>11543.035616438356</td></tr><tr><td>eba4e038-e48a-11ea-8204-0242ac110002</td><td>50.82088773817901</td><td>101.06092568460518</td><td>19.861421022578877</td><td>38.59522707607136</td><td>51.13986086724676</td><td>11781.92602739726</td></tr><tr><td>eddf3916-e48a-11ea-8204-0242ac110002</td><td>50.43388940950823</td><td>97.48570832777617</td><td>20.3215770927813</td><td>38.61126207398186</td><td>46.22678813134224</td><td>11121.065753424658</td></tr><tr><td>f4a9493a-e48a-11ea-8204-0242ac110002</td><td>69.46990578714984</td><td>153.08646741467527</td><td>26.93782639610473</td><td>27.443762879941705</td><td>35.62458463869204</td><td>7060.046575342466</td></tr><tr><td>f95c91c6-e48a-11ea-8204-0242ac110002</td><td>70.1286048613818</td><td>142.36424600850296</td><td>24.688187634099066</td><td>27.8297590318578</td><td>38.79866692384987</td><td>7191.087671232876</td></tr><tr><td>faafd9f2-e48a-11ea-8204-0242ac110002</td><td>74.93302918291309</td><td>147.64267319139938</td><td>25.524389819683805</td><td>25.698358417836165</td><td>37.67199543993961</td><td>7147.191780821918</td></tr><tr><td>fecf46f8-e48a-11ea-8204-0242ac110002</td><td>82.34636038377299</td><td>134.18145921012803</td><td>22.097356873768963</td><td>23.02274886736096</td><td>5.8643576698878945</td><td>5189.378082191781</td></tr><tr><td>0081c6f6-e48b-11ea-8204-0242ac110002</td><td>80.84581582831568</td><td>158.31010519024213</td><td>22.625503239256123</td><td>22.405370777087086</td><td>5.663216649037623</td><td>5127.06301369863</td></tr><tr><td>d5fb8160-e48a-11ea-8204-0242ac110002</td><td>60.675501719665704</td><td>128.94147601951747</td><td>27.807012425532015</td><td>31.184625953980856</td><td>36.021915034284966</td><td>10171.849315068494</td></tr><tr><td>de5699b2-e48a-11ea-8204-0242ac110002</td><td>58.94802983057048</td><td>120.49323569003941</td><td>25.745519832691365</td><td>32.75686784170032</td><td>39.90477713656761</td><td>10581.38904109589</td></tr><tr><td>df8cb80c-e48a-11ea-8204-0242ac110002</td><td>70.82675077156924</td><td>124.37504491560769</td><td>35.61517149532035</td><td>24.4053951859252</td><td>29.874317516807114</td><td>6967.375342465753</td></tr><tr><td>e097aedc-e48a-11ea-8204-0242ac110002</td><td>62.29352786151325</td><td>111.6601027711167</td><td>29.273142225213252</td><td>30.012148601759254</td><td>36.841030816923386</td><td>10258.238356164384</td></tr><tr><td>e1b6de64-e48a-11ea-8204-0242ac110002</td><td>52.48377568461723</td><td>119.46450743472774</td><td>19.574291922701928</td><td>40.50784792057994</td><td>51.6299261306577</td><td>11699.301369863013</td></tr><tr><td>e3b5c04a-e48a-11ea-8204-0242ac110002</td><td>49.51009208913985</td><td>96.86682229301171</td><td>21.097519055694672</td><td>42.871070898118035</td><td>33.74140817750597</td><td>13212.898630136986</td></tr><tr><td>e43347c2-e48a-11ea-8204-0242ac110002</td><td>55.49445284647095</td><td>109.1143236957604</td><td>13.472981347925915</td><td>27.703380297894622</td><td>45.54996717966824</td><td>15120.158904109589</td></tr><tr><td>e7e4d61a-e48a-11ea-8204-0242ac110002</td><td>54.05942048550783</td><td>121.59347857486752</td><td>13.555240895310991</td><td>32.708917447116676</td><td>67.16776450148268</td><td>12842.868493150685</td></tr><tr><td>eb47752e-e48a-11ea-8204-0242ac110002</td><td>54.26461450083714</td><td>103.71286351132923</td><td>10.915575176918908</td><td>31.03586592396281</td><td>54.59267681206382</td><td>16852.446575342467</td></tr><tr><td>ed538cea-e48a-11ea-8204-0242ac110002</td><td>48.31670375326011</td><td>98.89888307628269</td><td>22.750847921281554</td><td>45.05376657287627</td><td>34.00070537714422</td><td>13160.495890410959</td></tr><tr><td>ee4b5c72-e48a-11ea-8204-0242ac110002</td><td>48.73760505163522</td><td>103.00149058439038</td><td>21.017327324207045</td><td>43.12600482305385</td><td>47.391552749549966</td><td>11327.150684931506</td></tr><tr><td>ef566292-e48a-11ea-8204-0242ac110002</td><td>51.75950753366631</td><td>106.79907089950089</td><td>16.667147954982696</td><td>35.466803148634696</td><td>56.511517997598204</td><td>12095.61095890411</td></tr><tr><td>f038b9f8-e48a-11ea-8204-0242ac110002</td><td>46.13704849373493</td><td>94.92286517975171</td><td>27.549106561793675</td><td>49.074008973875976</td><td>29.68017163923116</td><td>12305.230136986302</td></tr><tr><td>f20d71ba-e48a-11ea-8204-0242ac110002</td><td>74.74110626538771</td><td>129.27913487991296</td><td>27.1869943758592</td><td>26.054514596868376</td><td>37.965162344530356</td><td>10312.591780821918</td></tr><tr><td>fc6632f0-e48a-11ea-8204-0242ac110002</td><td>68.15336038335708</td><td>123.49948160687696</td><td>28.770606921098288</td><td>27.040774455278818</td><td>35.40786861458124</td><td>10254.098630136987</td></tr><tr><td>020b15f4-e48b-11ea-8204-0242ac110002</td><td>56.74471373720562</td><td>138.59117352429064</td><td>32.87805898050823</td><td>33.594383095958264</td><td>35.75346435166791</td><td>10143.33698630137</td></tr><tr><td>d261ca5a-e48a-11ea-8204-0242ac110002</td><td>59.88160138271605</td><td>116.91184235893107</td><td>26.600618064331748</td><td>32.83848460583375</td><td>29.247747058642428</td><td>12113.331506849316</td></tr><tr><td>d4c9d760-e48a-11ea-8204-0242ac110002</td><td>55.59317171571702</td><td>123.20272867739769</td><td>25.60348531056864</td><td>33.68403346625655</td><td>40.08146640674562</td><td>10647.230136986302</td></tr><tr><td>d6b0b418-e48a-11ea-8204-0242ac110002</td><td>57.62831794201286</td><td>107.29106725806511</td><td>22.31656896052068</td><td>34.48501235679275</td><td>42.95676753515693</td><td>10817.597260273973</td></tr><tr><td>d7ff2e8a-e48a-11ea-8204-0242ac110002</td><td>56.97267569794542</td><td>110.08657464780161</td><td>23.254808942644416</td><td>31.990571583241547</td><td>31.620700843158332</td><td>12834.172602739725</td></tr><tr><td>dbba22f0-e48a-11ea-8204-0242ac110002</td><td>57.484015311095156</td><td>120.56696271876777</td><td>23.00539344580523</td><td>35.789482694763244</td><td>42.903881347450366</td><td>7173.364383561644</td></tr><tr><td>dd38cfa0-e48a-11ea-8204-0242ac110002</td><td>59.81120911831245</td><td>118.83189075712248</td><td>23.499676519244026</td><td>32.630823671166866</td><td>29.30629541630579</td><td>12282.87397260274</td></tr><tr><td>e4e22dc8-e48a-11ea-8204-0242ac110002</td><td>51.371817442694876</td><td>100.16366810010165</td><td>17.190364299286276</td><td>36.469242842130534</td><td>37.78407282918378</td><td>13816.923287671232</td></tr><tr><td>e8f31c74-e48a-11ea-8204-0242ac110002</td><td>47.29099176368603</td><td>98.10711735737662</td><td>27.474029613763435</td><td>46.473010525781724</td><td>29.28831467318904</td><td>12440.78904109589</td></tr><tr><td>e9844e38-e48a-11ea-8204-0242ac110002</td><td>50.87859160691621</td><td>102.95249202856019</td><td>16.982470394601055</td><td>40.40596996912554</td><td>39.72111427491973</td><td>14151.808219178081</td></tr><tr><td>ee114b4a-e48a-11ea-8204-0242ac110002</td><td>52.018004080722704</td><td>114.57080943567234</td><td>19.03727372804392</td><td>36.47676432567497</td><td>52.16820370798082</td><td>11715.27397260274</td></tr><tr><td>f16cf3ca-e48a-11ea-8204-0242ac110002</td><td>51.10967720376565</td><td>116.38286613529245</td><td>20.658079143495815</td><td>38.69743648914008</td><td>47.31942591086953</td><td>11217.34794520548</td></tr><tr><td>f2769956-e48a-11ea-8204-0242ac110002</td><td>97.5635974362899</td><td>136.25855145344673</td><td>14.694504007468097</td><td>13.673735264860575</td><td>8.020570410011425</td><td>5275.28493150685</td></tr><tr><td>f776dd30-e48a-11ea-8204-0242ac110002</td><td>76.12679786354863</td><td>127.32997007091812</td><td>24.76234268826364</td><td>28.48426220124354</td><td>37.81968571843134</td><td>7090.972602739726</td></tr><tr><td>f77ebd3e-e48a-11ea-8204-0242ac110002</td><td>73.19807256369835</td><td>122.19290662688053</td><td>26.842327005078175</td><td>26.713133845284094</td><td>37.7301148317767</td><td>10393.638356164383</td></tr><tr><td>f817832a-e48a-11ea-8204-0242ac110002</td><td>59.444218240031226</td><td>144.19968675622127</td><td>32.21015909721712</td><td>33.060188440141516</td><td>34.27407503986197</td><td>6983.613698630137</td></tr><tr><td>fccfadca-e48a-11ea-8204-0242ac110002</td><td>68.5375879192027</td><td>139.5356266978994</td><td>28.552137248151844</td><td>29.32184793792741</td><td>4.909479529541729</td><td>5175.139726027397</td></tr><tr><td>d461b14e-e48a-11ea-8204-0242ac110002</td><td>62.805076898587416</td><td>113.56582168746057</td><td>30.26720121877874</td><td>31.09975087088779</td><td>24.993900997863943</td><td>11348.64109589041</td></tr><tr><td>d65f85ca-e48a-11ea-8204-0242ac110002</td><td>55.21727743239163</td><td>113.37942058048388</td><td>22.847353245381097</td><td>35.17943992194622</td><td>31.44637336654106</td><td>12678.810958904109</td></tr><tr><td>da784340-e48a-11ea-8204-0242ac110002</td><td>58.474829754183325</td><td>129.44825257668373</td><td>22.915534947220372</td><td>33.38219266981663</td><td>42.95403495882634</td><td>7305.761643835616</td></tr><tr><td>db6f0e28-e48a-11ea-8204-0242ac110002</td><td>63.21882014205145</td><td>133.93380164006953</td><td>29.80858811511724</td><td>28.901219810386504</td><td>34.13302709604539</td><td>10236.72602739726</td></tr><tr><td>dbfd1e48-e48a-11ea-8204-0242ac110002</td><td>63.85177801895798</td><td>127.1498377610549</td><td>30.4970714521141</td><td>28.70982973411587</td><td>33.36364563689809</td><td>6984.32602739726</td></tr><tr><td>de054328-e48a-11ea-8204-0242ac110002</td><td>59.40737350689904</td><td>103.76472685954998</td><td>23.720215707496966</td><td>33.21313408281472</td><td>30.05846694787139</td><td>12427.698630136987</td></tr><tr><td>df06166c-e48a-11ea-8204-0242ac110002</td><td>55.24772856990126</td><td>116.85939956088122</td><td>21.66214418732185</td><td>36.739182455174266</td><td>31.791768493565915</td><td>12705.48493150685</td></tr><tr><td>e139f87c-e48a-11ea-8204-0242ac110002</td><td>56.4158640167109</td><td>110.78186489249646</td><td>21.871401028575328</td><td>34.29970019485322</td><td>33.28946152378355</td><td>13093.350684931507</td></tr><tr><td>e9459594-e48a-11ea-8204-0242ac110002</td><td>50.74406696603269</td><td>111.65762389280079</td><td>21.664171762795863</td><td>36.523167133286265</td><td>31.568486681822204</td><td>12630.627397260274</td></tr><tr><td>ecbcc850-e48a-11ea-8204-0242ac110002</td><td>52.26596336768353</td><td>105.38482504344559</td><td>20.52664276318311</td><td>36.54459390879822</td><td>48.732131520732466</td><td>11350.860273972603</td></tr><tr><td>f7095404-e48a-11ea-8204-0242ac110002</td><td>70.94554618642964</td><td>135.25489953724565</td><td>27.41945022038156</td><td>25.14103847427577</td><td>35.65673264673946</td><td>7025.750684931507</td></tr><tr><td>ff9812ea-e48a-11ea-8204-0242ac110002</td><td>93.68124858386508</td><td>141.95514359768345</td><td>17.87193806027034</td><td>17.03770828287063</td><td>6.840483529961455</td><td>5232.991780821918</td></tr><tr><td>d67af65c-e48a-11ea-8204-0242ac110002</td><td>65.92411272793555</td><td>131.80671437687576</td><td>32.78585803218873</td><td>28.034488211478394</td><td>32.35016683941449</td><td>9856.630136986301</td></tr><tr><td>d8fbea08-e48a-11ea-8204-0242ac110002</td><td>56.8705782716051</td><td>115.17087262215144</td><td>24.570706951584295</td><td>33.61474126990288</td><td>28.230322147207982</td><td>12275.660273972602</td></tr><tr><td>d9e50c4c-e48a-11ea-8204-0242ac110002</td><td>54.50215319667901</td><td>105.51777831412313</td><td>20.748602153890744</td><td>38.52746520873855</td><td>45.91500585153434</td><td>11025.276712328767</td></tr><tr><td>da17592c-e48a-11ea-8204-0242ac110002</td><td>54.77908266525594</td><td>108.15071784658238</td><td>20.91366854373003</td><td>36.50039642145559</td><td>32.38710983013407</td><td>12811.049315068492</td></tr><tr><td>db55b6a8-e48a-11ea-8204-0242ac110002</td><td>58.77461392077637</td><td>109.90011966666101</td><td>23.940667070424034</td><td>33.70643357812861</td><td>41.888601023319296</td><td>10813.4</td></tr><tr><td>dc18b784-e48a-11ea-8204-0242ac110002</td><td>59.17480122594441</td><td>109.9497666813794</td><td>23.807078663066786</td><td>34.6471924408034</td><td>30.272079402362756</td><td>12608.350684931507</td></tr><tr><td>de7b0676-e48a-11ea-8204-0242ac110002</td><td>47.48485077139388</td><td>110.57459821640212</td><td>14.602902364864208</td><td>41.901478813776365</td><td>44.8532051406756</td><td>15140.931506849314</td></tr><tr><td>de9ae3ce-e48a-11ea-8204-0242ac110002</td><td>57.17380840219266</td><td>107.23293570600454</td><td>23.092381538655378</td><td>35.17944075840353</td><td>28.731975196710753</td><td>12135.490410958904</td></tr><tr><td>e3c19c9e-e48a-11ea-8204-0242ac110002</td><td>51.51274611596193</td><td>105.55812309031464</td><td>19.5643953093436</td><td>37.53059163762766</td><td>36.44106190901872</td><td>13360.0</td></tr><tr><td>e88fa946-e48a-11ea-8204-0242ac110002</td><td>50.224601293821934</td><td>95.18168636284827</td><td>20.554673232841512</td><td>40.62693995908558</td><td>34.75104247708437</td><td>13165.449315068494</td></tr><tr><td>f1f558dc-e48a-11ea-8204-0242ac110002</td><td>51.50065344004929</td><td>96.43299539730603</td><td>18.622789317448216</td><td>36.2643517103463</td><td>36.338612810038775</td><td>13425.405479452054</td></tr><tr><td>f3454e7c-e48a-11ea-8204-0242ac110002</td><td>69.42333529552191</td><td>143.24605554627607</td><td>26.375522739355603</td><td>30.366858437134944</td><td>5.291975677523973</td><td>5156.627397260274</td></tr><tr><td>f3a2afea-e48a-11ea-8204-0242ac110002</td><td>74.16055867888522</td><td>142.56066640982237</td><td>25.039328414839602</td><td>23.68651505488246</td><td>37.0189664778213</td><td>7163.594520547946</td></tr><tr><td>f3b62976-e48a-11ea-8204-0242ac110002</td><td>68.16692559842218</td><td>128.60194645889925</td><td>28.399857582099973</td><td>30.835125511000903</td><td>35.96856945791363</td><td>10223.224657534247</td></tr><tr><td>f8acde48-e48a-11ea-8204-0242ac110002</td><td>68.51613683552418</td><td>145.68093159684</td><td>28.163949996423217</td><td>26.5181600247372</td><td>34.93165593308399</td><td>6894.819178082192</td></tr><tr><td>fa9c51d4-e48a-11ea-8204-0242ac110002</td><td>96.4231259113107</td><td>141.53117127540526</td><td>14.69516790283601</td><td>14.661409417063476</td><td>7.792555704346298</td><td>5276.1589041095895</td></tr><tr><td>fbd6870e-e48a-11ea-8204-0242ac110002</td><td>70.93747006168968</td><td>141.7281580711131</td><td>28.731288306903735</td><td>26.5414782813157</td><td>33.61305244454736</td><td>7014.893150684931</td></tr><tr><td>fc17561c-e48a-11ea-8204-0242ac110002</td><td>89.93361830694482</td><td>127.1555737611137</td><td>18.008203355925378</td><td>15.029882071480072</td><td>6.763090079720714</td><td>5177.61095890411</td></tr><tr><td>ff1909e6-e48a-11ea-8204-0242ac110002</td><td>86.99345515819023</td><td>135.73435622910443</td><td>21.017008904054304</td><td>19.252631090291583</td><td>5.905710805774808</td><td>5199.52602739726</td></tr><tr><td>d5ba328c-e48a-11ea-8204-0242ac110002</td><td>56.97346936884916</td><td>131.97780860360635</td><td>24.585698103836286</td><td>33.24780667953712</td><td>41.117546385633716</td><td>10608.66301369863</td></tr><tr><td>d9656514-e48a-11ea-8204-0242ac110002</td><td>60.4645383183496</td><td>117.74630149275592</td><td>25.32490329959948</td><td>32.439455446728594</td><td>28.262321339646025</td><td>12203.112328767123</td></tr><tr><td>ec854902-e48a-11ea-8204-0242ac110002</td><td>53.36855061132292</td><td>106.47744304628775</td><td>18.753372880402193</td><td>33.04532541869884</td><td>51.14320951475341</td><td>11530.476712328767</td></tr><tr><td>eecb0292-e48a-11ea-8204-0242ac110002</td><td>48.46115314762967</td><td>96.9044046105752</td><td>23.189115183705162</td><td>41.5974160679984</td><td>32.86627228925507</td><td>13011.369863013699</td></tr><tr><td>f1111d0c-e48a-11ea-8204-0242ac110002</td><td>50.487354972501805</td><td>106.37652231406894</td><td>19.405464018777934</td><td>40.53971000761969</td><td>49.75173907003634</td><td>11571.745205479452</td></tr><tr><td>f26338a2-e48a-11ea-8204-0242ac110002</td><td>69.42165774193732</td><td>128.82811262108692</td><td>30.35790046171078</td><td>26.30236967280923</td><td>33.72857371789753</td><td>10061.945205479453</td></tr><tr><td>f466a17a-e48a-11ea-8204-0242ac110002</td><td>71.94674682632085</td><td>151.3464565451322</td><td>25.650951436293152</td><td>30.258791525337145</td><td>36.73378782738133</td><td>7110.386301369863</td></tr><tr><td>f4b5289a-e48a-11ea-8204-0242ac110002</td><td>65.44422655511507</td><td>123.46452143803404</td><td>29.690225355068712</td><td>32.12334214542241</td><td>35.88963276246843</td><td>10329.416438356164</td></tr><tr><td>f6a67f1e-e48a-11ea-8204-0242ac110002</td><td>66.63316432983707</td><td>112.31727413363517</td><td>30.408515433189738</td><td>30.20674369328061</td><td>33.48605912749805</td><td>10221.194520547946</td></tr><tr><td>fa0b9e3c-e48a-11ea-8204-0242ac110002</td><td>61.82754409438027</td><td>129.68117628800596</td><td>32.58407390494747</td><td>30.406375487623823</td><td>33.50303801018625</td><td>7072.408219178083</td></tr><tr><td>fd9befc0-e48a-11ea-8204-0242ac110002</td><td>64.27290762205097</td><td>120.45678276149002</td><td>29.008190108495874</td><td>31.03535133093854</td><td>35.00143524853728</td><td>7033.7013698630135</td></tr><tr><td>ffb3af6e-e48a-11ea-8204-0242ac110002</td><td>68.75323184176337</td><td>114.42073593783826</td><td>30.16271241955345</td><td>28.905605781864704</td><td>33.962646779153836</td><td>7074.139726027397</td></tr><tr><td>ffebb788-e48a-11ea-8204-0242ac110002</td><td>74.48397735642521</td><td>144.68354002026777</td><td>26.586946089628967</td><td>25.755876506116817</td><td>36.41758779091882</td><td>7180.128767123288</td></tr><tr><td>00573f6c-e48b-11ea-8204-0242ac110002</td><td>60.12813834027657</td><td>119.2243293003114</td><td>30.787674339113707</td><td>32.12788120767524</td><td>34.15499959666808</td><td>9960.898630136986</td></tr><tr><td>d28a7b58-e48a-11ea-8204-0242ac110002</td><td>65.97734526032367</td><td>117.09415971997167</td><td>32.401118172084686</td><td>28.48170206175846</td><td>22.293027260230616</td><td>10953.978082191781</td></tr><tr><td>d4dd2a18-e48a-11ea-8204-0242ac110002</td><td>53.91313260480513</td><td>116.91442623980258</td><td>20.67341270149798</td><td>36.34628186503768</td><td>31.929411557684563</td><td>12981.323287671234</td></tr><tr><td>d71b45e4-e48a-11ea-8204-0242ac110002</td><td>64.59810731860013</td><td>121.80730818442949</td><td>27.116663181664087</td><td>31.476293488548926</td><td>36.303964629443385</td><td>7074.41095890411</td></tr><tr><td>d91406d8-e48a-11ea-8204-0242ac110002</td><td>54.85617750715018</td><td>125.56642430144544</td><td>20.65182221014279</td><td>35.77032476948787</td><td>50.464701892953926</td><td>11532.780821917808</td></tr><tr><td>dd926290-e48a-11ea-8204-0242ac110002</td><td>56.24263621621886</td><td>113.30761282217233</td><td>23.15058078072761</td><td>35.884331769183035</td><td>41.72785576768766</td><td>10770.287671232876</td></tr><tr><td>e33bc90c-e48a-11ea-8204-0242ac110002</td><td>49.66376667792978</td><td>101.0290712689072</td><td>23.764545897887558</td><td>40.246459132481824</td><td>31.929718526346555</td><td>12805.101369863014</td></tr><tr><td>e4981c1a-e48a-11ea-8204-0242ac110002</td><td>49.47856670062808</td><td>105.0778772937585</td><td>22.019190492854797</td><td>42.698072303587644</td><td>32.680782546322575</td><td>12862.005479452055</td></tr><tr><td>ed0a8324-e48a-11ea-8204-0242ac110002</td><td>48.897203911306505</td><td>104.03573669422059</td><td>27.99930620403317</td><td>41.65602514007281</td><td>27.557092138434037</td><td>11879.767123287671</td></tr><tr><td>ef3db4ae-e48a-11ea-8204-0242ac110002</td><td>49.25299378591106</td><td>94.83498318016622</td><td>23.63611733596046</td><td>43.71411776721962</td><td>31.253347296457243</td><td>12466.468493150685</td></tr><tr><td>ef520738-e48a-11ea-8204-0242ac110002</td><td>51.8153679424872</td><td>114.45693272644286</td><td>17.777104360258516</td><td>35.999087938307056</td><td>52.908544382517604</td><td>11808.408219178082</td></tr><tr><td>f11d262e-e48a-11ea-8204-0242ac110002</td><td>49.985720966255805</td><td>102.11908057271668</td><td>21.12659292838227</td><td>41.3322906424937</td><td>47.360636541998026</td><td>11230.980821917808</td></tr><tr><td>f38f5274-e48a-11ea-8204-0242ac110002</td><td>89.83144735502731</td><td>141.44315697355458</td><td>17.596560134550263</td><td>17.511730435595297</td><td>7.029628015971148</td><td>5280.027397260274</td></tr><tr><td>fa83797a-e48a-11ea-8204-0242ac110002</td><td>82.23193357821977</td><td>138.53324585681642</td><td>24.707027023043285</td><td>20.56033559557636</td><td>36.731238237383536</td><td>6987.106849315069</td></tr><tr><td>d85c57ea-e48a-11ea-8204-0242ac110002</td><td>49.707665712666284</td><td>110.86456013040053</td><td>16.179799115801973</td><td>41.466420744556125</td><td>40.36970804214607</td><td>14140.112328767123</td></tr><tr><td>df726808-e48a-11ea-8204-0242ac110002</td><td>54.645039302424856</td><td>112.90721234606201</td><td>23.50729001442424</td><td>36.229734845258676</td><td>31.4810026133495</td><td>12707.295890410958</td></tr><tr><td>e03de60e-e48a-11ea-8204-0242ac110002</td><td>65.6136418286296</td><td>131.3180679466607</td><td>30.858295851652706</td><td>29.878884076400116</td><td>33.303490658333246</td><td>6970.8794520547945</td></tr><tr><td>e813e108-e48a-11ea-8204-0242ac110002</td><td>51.157319835848824</td><td>99.12082662742658</td><td>20.61821677269104</td><td>39.524735716706786</td><td>35.08236967284796</td><td>13213.2</td></tr><tr><td>ea0f5e1a-e48a-11ea-8204-0242ac110002</td><td>53.063015426517</td><td>101.1834012294331</td><td>14.391151247039568</td><td>35.42089448389043</td><td>65.54834304150624</td><td>12683.917808219177</td></tr><tr><td>ef5a5a96-e48a-11ea-8204-0242ac110002</td><td>52.542751647968565</td><td>111.09732156292552</td><td>18.084253530949702</td><td>34.866763337360865</td><td>37.69188294521359</td><td>13900.191780821919</td></tr><tr><td>f0041c3e-e48a-11ea-8204-0242ac110002</td><td>51.68366480403977</td><td>98.53633905747007</td><td>18.41774440597346</td><td>38.12560144042287</td><td>37.14039618315778</td><td>13674.0</td></tr><tr><td>00a65476-e48b-11ea-8204-0242ac110002</td><td>58.283450201240946</td><td>120.07779187134611</td><td>34.45142239585158</td><td>32.127050196244994</td><td>32.99624866520692</td><td>6919.602739726028</td></tr><tr><td>d4f019de-e48a-11ea-8204-0242ac110002</td><td>63.8218881911278</td><td>113.53055629236879</td><td>28.914647490010378</td><td>30.644597199152795</td><td>26.98658843110933</td><td>11825.85205479452</td></tr><tr><td>d6db557e-e48a-11ea-8204-0242ac110002</td><td>55.92466673763762</td><td>124.87392038894166</td><td>22.453058611321314</td><td>34.85192254816756</td><td>46.47328976327869</td><td>11248.145205479452</td></tr><tr><td>d77833b2-e48a-11ea-8204-0242ac110002</td><td>62.774220037074414</td><td>122.50538208722931</td><td>27.64949665191385</td><td>28.818709599094092</td><td>36.56411109140419</td><td>7088.742465753425</td></tr><tr><td>d88e304e-e48a-11ea-8204-0242ac110002</td><td>53.26056758702376</td><td>105.43426536253541</td><td>18.718959541398387</td><td>40.87651127473394</td><td>37.144058845314866</td><td>13753.246575342466</td></tr><tr><td>da37655a-e48a-11ea-8204-0242ac110002</td><td>59.7214596177144</td><td>105.88183089577025</td><td>26.41103715294509</td><td>31.882693286582782</td><td>41.3862306582092</td><td>10750.164383561643</td></tr><tr><td>ddbcbe0a-e48a-11ea-8204-0242ac110002</td><td>62.49368737928978</td><td>119.12755391683814</td><td>28.957401600794345</td><td>30.735486277437662</td><td>34.87244621023027</td><td>10122.016438356164</td></tr><tr><td>de96d6f8-e48a-11ea-8204-0242ac110002</td><td>53.563858524608236</td><td>101.83905826881336</td><td>21.17204070152068</td><td>38.84750303620322</td><td>32.912072689238144</td><td>13046.353424657535</td></tr><tr><td>e1f73e3c-e48a-11ea-8204-0242ac110002</td><td>58.234251309971604</td><td>124.37959246678318</td><td>26.489814460613587</td><td>33.16937867590457</td><td>40.55080463293464</td><td>10542.446575342467</td></tr><tr><td>e25c8b52-e48a-11ea-8204-0242ac110002</td><td>45.81016206867767</td><td>98.77711125526122</td><td>28.57052917410195</td><td>48.57960138367296</td><td>28.62471594539679</td><td>12114.241095890411</td></tr><tr><td>e80bfbc8-e48a-11ea-8204-0242ac110002</td><td>50.65955299316272</td><td>97.48162608081856</td><td>21.207295997171727</td><td>37.68403975594763</td><td>34.34009560032275</td><td>13287.413698630136</td></tr><tr><td>e8839584-e48a-11ea-8204-0242ac110002</td><td>50.653348084329856</td><td>93.63837484936484</td><td>22.738568358000858</td><td>38.72056517307858</td><td>32.033304878519345</td><td>12574.257534246575</td></tr><tr><td>ee88b8c4-e48a-11ea-8204-0242ac110002</td><td>51.41062502880058</td><td>113.18082346625513</td><td>16.976223123031556</td><td>36.172629529761146</td><td>54.83273181549607</td><td>7540.367123287671</td></tr><tr><td>f5743064-e48a-11ea-8204-0242ac110002</td><td>96.05237605034688</td><td>147.66059236683043</td><td>17.117911573521425</td><td>15.281249859214014</td><td>49.09652773997195</td><td>7418.1589041095895</td></tr><tr><td>f5eebf8c-e48a-11ea-8204-0242ac110002</td><td>80.2400455693931</td><td>138.12710104962028</td><td>23.517067882107686</td><td>23.587203449344344</td><td>37.8377088988666</td><td>7138.180821917808</td></tr><tr><td>fe5450ba-e48a-11ea-8204-0242ac110002</td><td>78.44060045163558</td><td>147.4744513553703</td><td>22.833675508928557</td><td>21.86774227998946</td><td>39.59678649715513</td><td>7142.076712328767</td></tr><tr><td>001b6f0a-e48b-11ea-8204-0242ac110002</td><td>64.64397544858174</td><td>152.9654977304546</td><td>29.17716498363452</td><td>28.92795344089978</td><td>5.015081852287961</td><td>5167.789041095891</td></tr><tr><td>d2beac70-e48a-11ea-8204-0242ac110002</td><td>61.19426102606033</td><td>118.93292417500302</td><td>27.77475550396417</td><td>30.894805595715518</td><td>26.42696468039833</td><td>11911.734246575343</td></tr><tr><td>d376cbfc-e48a-11ea-8204-0242ac110002</td><td>56.24500626623722</td><td>111.4816471238144</td><td>21.25259771717051</td><td>36.03172732724774</td><td>33.3890460184699</td><td>12895.024657534246</td></tr><tr><td>d58a94c8-e48a-11ea-8204-0242ac110002</td><td>65.34297928233957</td><td>118.49810617793833</td><td>27.903323349468824</td><td>30.72758637233813</td><td>37.33678974264538</td><td>7211.13698630137</td></tr><tr><td>01c99836-e48b-11ea-8204-0242ac110002</td><td>76.78177278002545</td><td>129.17905020458878</td><td>24.27809568715765</td><td>23.54466972692042</td><td>35.936140969781505</td><td>10212.205479452055</td></tr><tr><td>d27af598-e48a-11ea-8204-0242ac110002</td><td>59.03904904105346</td><td>113.88658081734816</td><td>24.765114212661622</td><td>33.98415737371395</td><td>29.500022861672388</td><td>12497.750684931507</td></tr><tr><td>d2f7cdb6-e48a-11ea-8204-0242ac110002</td><td>60.14493078387789</td><td>112.9770273315414</td><td>26.324104930214727</td><td>33.163263517366246</td><td>27.143121550358256</td><td>12026.394520547945</td></tr><tr><td>d38f5cf8-e48a-11ea-8204-0242ac110002</td><td>60.39190113928199</td><td>130.74839072755628</td><td>28.221315408606213</td><td>31.906228530675982</td><td>36.72584952285408</td><td>7181.635616438356</td></tr><tr><td>d465e746-e48a-11ea-8204-0242ac110002</td><td>60.33176820110047</td><td>128.97349983040715</td><td>24.32104858798438</td><td>33.69906289717363</td><td>41.17765301685576</td><td>10830.093150684932</td></tr><tr><td>d539cf7a-e48a-11ea-8204-0242ac110002</td><td>57.784613293791026</td><td>115.82969276693001</td><td>24.3668099694494</td><td>33.19171778659495</td><td>40.98199349700166</td><td>7255.147945205479</td></tr><tr><td>d80e456e-e48a-11ea-8204-0242ac110002</td><td>61.95797531245902</td><td>123.27502734801213</td><td>26.947832360333095</td><td>32.00402413919382</td><td>39.22699917562814</td><td>10412.827397260275</td></tr><tr><td>d83c0f94-e48a-11ea-8204-0242ac110002</td><td>60.72894626375877</td><td>114.90536765539285</td><td>25.6725695933842</td><td>34.58087971634923</td><td>39.91861458425267</td><td>10585.202739726028</td></tr><tr><td>d873a09e-e48a-11ea-8204-0242ac110002</td><td>54.46631685374545</td><td>111.49242628560009</td><td>19.290950233189314</td><td>38.86703607909046</td><td>35.24564078605464</td><td>13150.767123287671</td></tr><tr><td>da506960-e48a-11ea-8204-0242ac110002</td><td>59.130983394235344</td><td>118.93575808039463</td><td>26.120222884635204</td><td>33.70817172843563</td><td>40.640829742801714</td><td>10733.654794520548</td></tr><tr><td>daa57e5a-e48a-11ea-8204-0242ac110002</td><td>60.051252145819724</td><td>119.03828456435141</td><td>22.958087330924606</td><td>33.59642936920589</td><td>41.2977051751276</td><td>10785.046575342465</td></tr><tr><td>db49ba38-e48a-11ea-8204-0242ac110002</td><td>64.72291172304485</td><td>125.53702452095317</td><td>27.761156832286805</td><td>29.898660948940922</td><td>36.381819868026824</td><td>6994.0191780821915</td></tr><tr><td>e071534a-e48a-11ea-8204-0242ac110002</td><td>55.184868085233845</td><td>122.10109826826186</td><td>22.769518919249702</td><td>35.32471245581274</td><td>43.497598437679706</td><td>7303.45205479452</td></tr><tr><td>e5016986-e48a-11ea-8204-0242ac110002</td><td>52.14955620839972</td><td>88.16449544440117</td><td>18.654649103577626</td><td>34.357912924374965</td><td>37.33348076380963</td><td>13704.394520547945</td></tr><tr><td>e8b39e0a-e48a-11ea-8204-0242ac110002</td><td>46.08693045818607</td><td>92.24316535668308</td><td>28.800484843835697</td><td>50.749875611703935</td><td>29.220560961080658</td><td>12184.183561643835</td></tr><tr><td>e9ae0c3c-e48a-11ea-8204-0242ac110002</td><td>53.8153805516512</td><td>113.30721094656626</td><td>13.65977106120192</td><td>32.00509131794127</td><td>46.27313763529784</td><td>15591.402739726027</td></tr><tr><td>edd5c9d0-e48a-11ea-8204-0242ac110002</td><td>52.706824588643</td><td>105.567755239334</td><td>15.381418086693301</td><td>36.391632662604835</td><td>59.79920611036778</td><td>12467.394520547945</td></tr><tr><td>f8d58348-e48a-11ea-8204-0242ac110002</td><td>88.75060893354853</td><td>143.93620162480704</td><td>21.837167887509537</td><td>19.08329490559864</td><td>40.071330266630525</td><td>7216.901369863013</td></tr><tr><td>fa767450-e48a-11ea-8204-0242ac110002</td><td>72.01961981543899</td><td>137.5528643763997</td><td>27.15964293759638</td><td>26.63943290010385</td><td>5.092136354465133</td><td>5133.528767123287</td></tr><tr><td>fbefc818-e48a-11ea-8204-0242ac110002</td><td>72.09911167268326</td><td>140.83359004795366</td><td>28.88641128147107</td><td>26.014067358036996</td><td>4.85685104864966</td><td>5190.123287671233</td></tr><tr><td>0086063a-e48b-11ea-8204-0242ac110002</td><td>79.53887594717567</td><td>149.37867198043944</td><td>22.799319087802758</td><td>24.063043479580205</td><td>40.27476376737357</td><td>7256.1506849315065</td></tr><tr><td>d8251d0c-e48a-11ea-8204-0242ac110002</td><td>59.3180284743097</td><td>117.92057791367135</td><td>24.449035175509568</td><td>34.19192318617704</td><td>30.158387868885193</td><td>12515.082191780823</td></tr><tr><td>d8c52b30-e48a-11ea-8204-0242ac110002</td><td>53.598010695445076</td><td>116.09025305225222</td><td>19.176732132499225</td><td>38.02215782921741</td><td>35.323262364358875</td><td>13361.47397260274</td></tr><tr><td>da64fcb8-e48a-11ea-8204-0242ac110002</td><td>60.792963094367806</td><td>112.31210378465445</td><td>26.230405518542675</td><td>33.26614809274604</td><td>38.53207307447889</td><td>7152.268493150685</td></tr><tr><td>e014a898-e48a-11ea-8204-0242ac110002</td><td>60.848173600606046</td><td>117.2033234619613</td><td>26.721739803446916</td><td>31.122044885155738</td><td>38.33644818346534</td><td>10450.671232876712</td></tr><tr><td>e2f53eba-e48a-11ea-8204-0242ac110002</td><td>49.799720865887224</td><td>99.00695220509475</td><td>21.389035855506304</td><td>41.12915759831977</td><td>49.119076381335894</td><td>11453.871232876712</td></tr><tr><td>e7be461c-e48a-11ea-8204-0242ac110002</td><td>51.966797535474846</td><td>104.80762734409139</td><td>17.34355625230713</td><td>37.502119661498995</td><td>38.679860653285786</td><td>13942.53698630137</td></tr><tr><td>ed400d96-e48a-11ea-8204-0242ac110002</td><td>53.916509482390104</td><td>116.30739209848025</td><td>13.906576714666134</td><td>28.377978725622214</td><td>46.77428828763734</td><td>15452.109589041096</td></tr><tr><td>ed5b77de-e48a-11ea-8204-0242ac110002</td><td>51.03912772943997</td><td>100.32251622502783</td><td>20.333683745375815</td><td>39.853055182561214</td><td>34.79436746392415</td><td>13216.986301369863</td></tr><tr><td>ee32a592-e48a-11ea-8204-0242ac110002</td><td>50.32740588218883</td><td>87.71328424959526</td><td>18.52561270555824</td><td>41.32701750048009</td><td>36.82961478883865</td><td>13765.967123287672</td></tr><tr><td>ef8fb33a-e48a-11ea-8204-0242ac110002</td><td>52.922581855045806</td><td>98.50898190862061</td><td>14.66794191948592</td><td>37.642528134875676</td><td>43.220963515597276</td><td>14813.375342465753</td></tr><tr><td>efa94250-e48a-11ea-8204-0242ac110002</td><td>48.444804065500854</td><td>87.42229496569306</td><td>25.881221713758062</td><td>43.850622387544085</td><td>30.377552078904767</td><td>12404.09589041096</td></tr><tr><td>f4f3e4cc-e48a-11ea-8204-0242ac110002</td><td>80.75667069359712</td><td>110.45192548858846</td><td>23.285659587684037</td><td>20.718758226450447</td><td>38.74480832249086</td><td>7187.77808219178</td></tr><tr><td>f60a0882-e48a-11ea-8204-0242ac110002</td><td>79.62226987115773</td><td>135.18084653590242</td><td>23.216265706245466</td><td>22.258047893552764</td><td>38.58705603884527</td><td>7180.131506849315</td></tr><tr><td>f737cf96-e48a-11ea-8204-0242ac110002</td><td>77.99233698888233</td><td>132.11630313460194</td><td>25.142639905604934</td><td>22.861880704949623</td><td>36.853674809528485</td><td>7070.34794520548</td></tr><tr><td>f7e3d6a6-e48a-11ea-8204-0242ac110002</td><td>85.69131438459284</td><td>144.89162919007012</td><td>21.008389829385507</td><td>21.523469878970722</td><td>41.49568997407763</td><td>7261.471232876713</td></tr><tr><td>fde6ba78-e48a-11ea-8204-0242ac110002</td><td>73.0347968797731</td><td>141.91861189134633</td><td>24.38730195863408</td><td>25.68860480668845</td><td>5.618392606865881</td><td>5138.356164383562</td></tr><tr><td>00d68416-e48b-11ea-8204-0242ac110002</td><td>71.87877201400556</td><td>141.25830265927655</td><td>26.64838214825805</td><td>27.954666961755994</td><td>5.220250370742572</td><td>5140.871232876712</td></tr><tr><td>d2cf657e-e48a-11ea-8204-0242ac110002</td><td>61.735430782299446</td><td>125.6348668736099</td><td>25.32279102315175</td><td>32.11808692630453</td><td>40.92876202963181</td><td>10652.46301369863</td></tr><tr><td>d4fbb3de-e48a-11ea-8204-0242ac110002</td><td>56.416785245686334</td><td>116.07197606258173</td><td>21.385730030810702</td><td>35.54719366853739</td><td>32.42283130426701</td><td>12819.687671232878</td></tr><tr><td>d87b42d6-e48a-11ea-8204-0242ac110002</td><td>60.721794773948815</td><td>119.13784679648283</td><td>25.03753783427391</td><td>34.03987123780181</td><td>39.65502654250608</td><td>7166.043835616439</td></tr><tr><td>df221c18-e48a-11ea-8204-0242ac110002</td><td>60.768631321068376</td><td>127.80996788494905</td><td>24.389650516064243</td><td>31.565435702376814</td><td>40.88041873453851</td><td>10604.4301369863</td></tr><tr><td>e07ce34a-e48a-11ea-8204-0242ac110002</td><td>59.987129312348394</td><td>112.5806736117697</td><td>26.7946230346969</td><td>33.25836147248404</td><td>38.40513465621364</td><td>10501.841095890411</td></tr><tr><td>e145ac30-e48a-11ea-8204-0242ac110002</td><td>60.84445989810876</td><td>119.49730229125157</td><td>25.25704301851652</td><td>31.325770170437384</td><td>39.79195801798443</td><td>10638.87397260274</td></tr><tr><td>e1a59582-e48a-11ea-8204-0242ac110002</td><td>52.533265891872766</td><td>110.07266795448614</td><td>17.932320585659102</td><td>38.00916739323384</td><td>37.50064657262309</td><td>13731.624657534247</td></tr><tr><td>e7592a20-e48a-11ea-8204-0242ac110002</td><td>51.95743850589838</td><td>106.85575810604125</td><td>18.00014364808456</td><td>37.5040072475969</td><td>37.55914447659775</td><td>14019.720547945206</td></tr><tr><td>f31e6bae-e48a-11ea-8204-0242ac110002</td><td>75.72950034260217</td><td>132.95254112384956</td><td>27.5535252725077</td><td>22.411596292912837</td><td>35.489920887215476</td><td>7156.8328767123285</td></tr><tr><td>f48d8f4c-e48a-11ea-8204-0242ac110002</td><td>71.58282101192242</td><td>131.90263306593434</td><td>26.8376153105161</td><td>27.13333656869724</td><td>36.110639238256894</td><td>7161.884931506849</td></tr><tr><td>f4916fb8-e48a-11ea-8204-0242ac110002</td><td>73.79201632353629</td><td>145.00551899291284</td><td>23.708051134939225</td><td>26.776915600206227</td><td>5.5262209882373226</td><td>5229.67397260274</td></tr><tr><td>d9bca4a0-e48a-11ea-8204-0242ac110002</td><td>54.90410407622516</td><td>123.51589382805233</td><td>20.552942332872593</td><td>36.891628914215374</td><td>33.57949676879141</td><td>13080.698630136987</td></tr><tr><td>da6108e2-e48a-11ea-8204-0242ac110002</td><td>60.79652679630013</td><td>120.49346593821107</td><td>26.000261790521147</td><td>32.80002147313527</td><td>39.289004840453366</td><td>10395.65205479452</td></tr><tr><td>db38d10a-e48a-11ea-8204-0242ac110002</td><td>56.19930431692095</td><td>127.12082146097072</td><td>19.515680262735753</td><td>38.490634308277215</td><td>49.58369155863163</td><td>7485.032876712329</td></tr><tr><td>deaf4454-e48a-11ea-8204-0242ac110002</td><td>70.51223426993495</td><td>123.73304211760811</td><td>38.47558010246429</td><td>22.053317429310034</td><td>28.956897512881536</td><td>9485.4301369863</td></tr><tr><td>dfad3744-e48a-11ea-8204-0242ac110002</td><td>61.86220126523169</td><td>118.77839669373454</td><td>26.534210315914756</td><td>30.851839228252413</td><td>37.48656152868951</td><td>7188.1123287671235</td></tr><tr><td>e6ceceac-e48a-11ea-8204-0242ac110002</td><td>52.052209395267916</td><td>104.39303330829112</td><td>18.33520199457723</td><td>32.9664151184826</td><td>37.45075694063162</td><td>13827.668493150684</td></tr><tr><td>e92de6ce-e48a-11ea-8204-0242ac110002</td><td>50.81803080995028</td><td>107.05888050154519</td><td>21.759426167534322</td><td>39.506776386122546</td><td>33.44658714571346</td><td>12816.720547945206</td></tr><tr><td>e959ceb0-e48a-11ea-8204-0242ac110002</td><td>52.71869130113522</td><td>98.17843293857379</td><td>17.773428463424843</td><td>33.618783460957935</td><td>37.45914055344573</td><td>13738.249315068493</td></tr><tr><td>edd0f70c-e48a-11ea-8204-0242ac110002</td><td>50.139382010459016</td><td>116.11568546610484</td><td>22.095347122511548</td><td>39.25180978003053</td><td>33.198965430585694</td><td>12917.898630136986</td></tr><tr><td>f2ef53b4-e48a-11ea-8204-0242ac110002</td><td>79.22163776162797</td><td>123.5827725532239</td><td>21.79284603786115</td><td>22.524367548354487</td><td>40.681630219321576</td><td>7167.86301369863</td></tr><tr><td>f3e09076-e48a-11ea-8204-0242ac110002</td><td>79.9579519571355</td><td>147.36440735709823</td><td>21.8817450033379</td><td>24.918977487804252</td><td>5.850843200196577</td><td>5267.386301369863</td></tr><tr><td>f554b7ca-e48a-11ea-8204-0242ac110002</td><td>88.49269286158761</td><td>141.07927645876273</td><td>18.599126547482435</td><td>17.81173496675879</td><td>6.597442118298822</td><td>5228.216438356164</td></tr><tr><td>f628bcfa-e48a-11ea-8204-0242ac110002</td><td>68.68011931766124</td><td>150.93680343011007</td><td>25.48913815489226</td><td>26.471832046798287</td><td>37.61243490089223</td><td>7144.86301369863</td></tr><tr><td>f7b91c2c-e48a-11ea-8204-0242ac110002</td><td>69.20978396183031</td><td>130.0096180384838</td><td>31.115988771998737</td><td>29.341222469184295</td><td>32.71468686633713</td><td>9900.745205479452</td></tr><tr><td>f8d9b77e-e48a-11ea-8204-0242ac110002</td><td>68.13081177405002</td><td>147.13021212420676</td><td>27.80183058558763</td><td>28.350424554026155</td><td>35.615138945749855</td><td>7130.183561643836</td></tr><tr><td>faf76ba0-e48a-11ea-8204-0242ac110002</td><td>65.29126255410016</td><td>137.88076695803068</td><td>28.723067334814427</td><td>30.01945661697666</td><td>5.009503164017261</td><td>5149.545205479452</td></tr><tr><td>fb6ade3c-e48a-11ea-8204-0242ac110002</td><td>85.34134304663364</td><td>140.75248798707347</td><td>22.265501880856597</td><td>20.395691113120186</td><td>39.259332374605506</td><td>7138.923287671233</td></tr><tr><td>fcec6c80-e48a-11ea-8204-0242ac110002</td><td>64.45536545066544</td><td>140.3464886175064</td><td>30.618907197580373</td><td>30.5465082252819</td><td>4.860889648361843</td><td>5195.956164383561</td></tr><tr><td>fd3dc36e-e48a-11ea-8204-0242ac110002</td><td>80.08309920229101</td><td>151.31911082893498</td><td>22.841330961053032</td><td>21.791188467913244</td><td>5.729386736292561</td><td>5153.884931506849</td></tr><tr><td>00a2791e-e48b-11ea-8204-0242ac110002</td><td>90.86679398042912</td><td>127.6482052188282</td><td>20.23437677126419</td><td>18.810642183294437</td><td>42.6330935606208</td><td>7353.764383561644</td></tr><tr><td>d7e0bee6-e48a-11ea-8204-0242ac110002</td><td>62.182037894911566</td><td>127.64092187031855</td><td>26.766227721422432</td><td>32.81442507535419</td><td>38.821063804564</td><td>10478.241095890411</td></tr><tr><td>dacde26e-e48a-11ea-8204-0242ac110002</td><td>61.68581857394101</td><td>123.79855529104447</td><td>28.886973151983025</td><td>29.231059698061</td><td>35.708494290094954</td><td>10125.449315068494</td></tr><tr><td>e78277d6-e48a-11ea-8204-0242ac110002</td><td>50.08828788576366</td><td>97.94864068023027</td><td>20.225233130459717</td><td>39.630634733939345</td><td>50.24184460109788</td><td>11399.66301369863</td></tr><tr><td>f47a2858-e48a-11ea-8204-0242ac110002</td><td>57.415035764962056</td><td>130.98636405421382</td><td>34.47324555179472</td><td>30.52402791228877</td><td>32.49601327317359</td><td>9965.668493150684</td></tr><tr><td>f7a1da76-e48a-11ea-8204-0242ac110002</td><td>78.0121859097429</td><td>143.65785759245415</td><td>23.39051511366773</td><td>24.687385258449066</td><td>5.583585044781946</td><td>5164.564383561644</td></tr><tr><td>f7dfeb90-e48a-11ea-8204-0242ac110002</td><td>65.56466038508293</td><td>111.19935676207218</td><td>29.395534334552167</td><td>29.444251278819728</td><td>25.241563334354634</td><td>11645.578082191782</td></tr><tr><td>d2a5908c-e48a-11ea-8204-0242ac110002</td><td>57.44589185511159</td><td>108.65296530868542</td><td>23.48364432235864</td><td>34.92201753784124</td><td>30.372655621728292</td><td>12438.367123287671</td></tr><tr><td>d54549fe-e48a-11ea-8204-0242ac110002</td><td>62.51187808522047</td><td>129.93351467008648</td><td>27.08156700598253</td><td>31.594859750505197</td><td>38.75943122024592</td><td>10431.635616438356</td></tr><tr><td>d8c8ee28-e48a-11ea-8204-0242ac110002</td><td>56.096582706922625</td><td>112.06331123649046</td><td>24.071821659398395</td><td>35.42843991046238</td><td>42.14726470537534</td><td>10910.750684931507</td></tr><tr><td>d90bc752-e48a-11ea-8204-0242ac110002</td><td>64.2361964609091</td><td>125.96808526915677</td><td>30.180737699306054</td><td>29.484059357096264</td><td>34.28002954907088</td><td>10086.961643835617</td></tr><tr><td>da2959a6-e48a-11ea-8204-0242ac110002</td><td>56.96541138953618</td><td>108.68509544472596</td><td>25.161228278800532</td><td>34.69392863460614</td><td>41.139008404211445</td><td>10836.879452054794</td></tr><tr><td>ddc11cf2-e48a-11ea-8204-0242ac110002</td><td>57.02468612271015</td><td>119.81487521609104</td><td>20.706711017492395</td><td>38.0874779021053</td><td>32.91184539933407</td><td>12761.25205479452</td></tr><tr><td>e2ba7e7e-e48a-11ea-8204-0242ac110002</td><td>51.73734254056393</td><td>104.2453581669994</td><td>18.56599257586025</td><td>38.5157042044431</td><td>36.20033737075352</td><td>13610.350684931507</td></tr><tr><td>e40c0734-e48a-11ea-8204-0242ac110002</td><td>52.12893742651265</td><td>92.61037734226912</td><td>18.159266720965505</td><td>36.024460392854614</td><td>37.71358578947294</td><td>13877.975342465754</td></tr><tr><td>ec9d41f6-e48a-11ea-8204-0242ac110002</td><td>48.51666544270631</td><td>105.11044281204546</td><td>24.75353909497272</td><td>41.83324086288092</td><td>31.697052049638444</td><td>12685.153424657534</td></tr><tr><td>ed5f5d7c-e48a-11ea-8204-0242ac110002</td><td>50.63341067412213</td><td>90.87165495275433</td><td>19.888824468229227</td><td>41.69084179531484</td><td>35.089892146582976</td><td>13229.282191780821</td></tr><tr><td>efd4ea54-e48a-11ea-8204-0242ac110002</td><td>51.731543159961674</td><td>110.55875108976512</td><td>17.832585582960416</td><td>39.213440697103074</td><td>57.590069936661244</td><td>12091.002739726027</td></tr><tr><td>f85eb416-e48a-11ea-8204-0242ac110002</td><td>83.4455799043246</td><td>157.11773118604364</td><td>23.71461254197311</td><td>21.74130520963779</td><td>5.547379816791614</td><td>5171.320547945205</td></tr><tr><td>fe37c936-e48a-11ea-8204-0242ac110002</td><td>88.25367872075994</td><td>144.0201331411336</td><td>18.59389847751982</td><td>19.910217746151737</td><td>46.565626768309755</td><td>7367.52602739726</td></tr><tr><td>01643f86-e48b-11ea-8204-0242ac110002</td><td>78.95000946605</td><td>145.6542752685093</td><td>24.13918196177898</td><td>22.79399444125811</td><td>5.395584618188388</td><td>5234.4767123287675</td></tr><tr><td>d2ec42d4-e48a-11ea-8204-0242ac110002</td><td>55.85493668778006</td><td>111.45636317529656</td><td>21.714602340572768</td><td>35.375541092818644</td><td>31.847881384213807</td><td>12587.893150684931</td></tr><tr><td>db66a954-e48a-11ea-8204-0242ac110002</td><td>62.43319898009765</td><td>121.84602763738359</td><td>27.245597616259523</td><td>29.741955420934662</td><td>37.71217160846411</td><td>10349.923287671232</td></tr><tr><td>dc08abfa-e48a-11ea-8204-0242ac110002</td><td>59.29356130866706</td><td>126.78767101632376</td><td>24.673368389561638</td><td>33.21108357076395</td><td>40.22972336783089</td><td>7232.424657534247</td></tr><tr><td>dedc1894-e48a-11ea-8204-0242ac110002</td><td>58.415693492011485</td><td>119.10608734584757</td><td>26.542592694442543</td><td>33.31964099681816</td><td>38.404975778140795</td><td>10445.750684931507</td></tr><tr><td>e6200958-e48a-11ea-8204-0242ac110002</td><td>53.402967620930085</td><td>103.7400237373952</td><td>17.462338452304586</td><td>40.64231691492944</td><td>55.37380708939676</td><td>12136.44383561644</td></tr><tr><td>e69f2210-e48a-11ea-8204-0242ac110002</td><td>50.54253492412094</td><td>105.84662633063094</td><td>18.190689612684867</td><td>37.89557500237757</td><td>38.74539673788554</td><td>13999.66301369863</td></tr><tr><td>e8bb7940-e48a-11ea-8204-0242ac110002</td><td>50.41052703059923</td><td>92.24205533889516</td><td>21.24243439744211</td><td>38.67944506454293</td><td>33.584434061765776</td><td>12887.619178082192</td></tr><tr><td>e8bfb2bc-e48a-11ea-8204-0242ac110002</td><td>52.68197011134767</td><td>94.40019366490688</td><td>18.55734961569411</td><td>36.754907037343735</td><td>38.321458936372714</td><td>14132.739726027397</td></tr><tr><td>e8ee85e2-e48a-11ea-8204-0242ac110002</td><td>49.757197444870826</td><td>97.85353564184909</td><td>22.737851202461552</td><td>41.833375907190295</td><td>33.580862134009216</td><td>12945.6</td></tr><tr><td>ebb0eb12-e48a-11ea-8204-0242ac110002</td><td>53.71546177973554</td><td>100.17379589471541</td><td>13.805215061169887</td><td>30.846047561352165</td><td>47.37032652521721</td><td>15475.372602739726</td></tr><tr><td>ec79a62e-e48a-11ea-8204-0242ac110002</td><td>48.100803602904</td><td>94.0520890371886</td><td>25.33526904610341</td><td>43.01313053340211</td><td>31.627049220824503</td><td>12648.83287671233</td></tr><tr><td>f0f4bf22-e48a-11ea-8204-0242ac110002</td><td>51.79637062061783</td><td>104.87211669811352</td><td>18.013991353591095</td><td>39.9996294124884</td><td>53.96801884400296</td><td>11917.74794520548</td></tr><tr><td>f6aa5404-e48a-11ea-8204-0242ac110002</td><td>91.76204303342523</td><td>143.08950659607268</td><td>19.361971061588967</td><td>17.565758635066153</td><td>42.96933428590542</td><td>7310.367123287671</td></tr><tr><td>f9d048dc-e48a-11ea-8204-0242ac110002</td><td>86.5062697448016</td><td>145.1985961543419</td><td>19.37562281106217</td><td>19.2799031546436</td><td>44.342017669623885</td><td>7273.457534246575</td></tr><tr><td>fb9795a8-e48a-11ea-8204-0242ac110002</td><td>80.526597440852</td><td>150.76506514715902</td><td>20.61280648251742</td><td>22.38277494883212</td><td>41.816172093296565</td><td>7244.816438356164</td></tr><tr><td>e0900aec-e48a-11ea-8204-0242ac110002</td><td>59.57184620657788</td><td>117.95223833997834</td><td>24.65024943266286</td><td>34.62216602862366</td><td>28.675819403360972</td><td>12098.638356164383</td></tr><tr><td>e271cd64-e48a-11ea-8204-0242ac110002</td><td>52.798652503949356</td><td>113.29059505788</td><td>15.404991452687003</td><td>29.607252986333105</td><td>44.26910300840673</td><td>14898.186301369862</td></tr><tr><td>e3969f1c-e48a-11ea-8204-0242ac110002</td><td>50.65898075584289</td><td>112.05584418533353</td><td>19.15243407948064</td><td>41.26014703763021</td><td>54.70169727673837</td><td>11943.728767123288</td></tr><tr><td>e47d0362-e48a-11ea-8204-0242ac110002</td><td>52.9544551876135</td><td>118.22750201384144</td><td>17.70488363501496</td><td>33.608275675374415</td><td>56.16037469897449</td><td>12086.583561643836</td></tr><tr><td>e81f731a-e48a-11ea-8204-0242ac110002</td><td>53.398388502443545</td><td>115.07074793385557</td><td>15.150015586915071</td><td>32.84730240069731</td><td>64.05413520111892</td><td>12800.4301369863</td></tr><tr><td>ea3ba8ee-e48a-11ea-8204-0242ac110002</td><td>53.77132003929741</td><td>108.888584153531</td><td>14.597321207193065</td><td>29.243956204884164</td><td>44.30053430738106</td><td>14798.08493150685</td></tr><tr><td>f0ab639a-e48a-11ea-8204-0242ac110002</td><td>48.07147515948831</td><td>89.51692662157137</td><td>25.013440464697688</td><td>48.15631655356029</td><td>29.62969134774064</td><td>12213.013698630137</td></tr><tr><td>f5c01bdc-e48a-11ea-8204-0242ac110002</td><td>101.69991871599724</td><td>152.76157011831654</td><td>14.893036614919195</td><td>14.786545642351888</td><td>53.986257123465904</td><td>7694.915068493151</td></tr><tr><td>f6c1a6fe-e48a-11ea-8204-0242ac110002</td><td>84.26675327837951</td><td>148.32893486707383</td><td>20.617185144378094</td><td>21.686624560088227</td><td>41.41524455188614</td><td>7277.405479452054</td></tr><tr><td>f74f4626-e48a-11ea-8204-0242ac110002</td><td>82.47564626725529</td><td>161.94810275938048</td><td>22.482185519017204</td><td>20.74971624801843</td><td>5.762080450208499</td><td>5216.58904109589</td></tr><tr><td>f7b5441c-e48a-11ea-8204-0242ac110002</td><td>65.35011601198796</td><td>140.2746567691522</td><td>30.610101971844696</td><td>29.302216384802584</td><td>34.15331287782829</td><td>6998.46301369863</td></tr><tr><td>fda05290-e48a-11ea-8204-0242ac110002</td><td>98.94335656346772</td><td>147.67636184790223</td><td>11.457475316081918</td><td>12.584896872740142</td><td>9.531686172768756</td><td>5293.8027397260275</td></tr><tr><td>fde2a19a-e48a-11ea-8204-0242ac110002</td><td>71.54477647842141</td><td>153.4906792637101</td><td>27.3980811836465</td><td>27.20634123084001</td><td>35.446607846177656</td><td>6998.613698630137</td></tr><tr><td>fef8b5ba-e48a-11ea-8204-0242ac110002</td><td>77.77225276387755</td><td>140.1281514905454</td><td>24.567715656777352</td><td>24.097067655235</td><td>37.387668041275326</td><td>7179.698630136986</td></tr><tr><td>d943c3c8-e48a-11ea-8204-0242ac110002</td><td>55.92316250731439</td><td>106.57672743148282</td><td>23.150497900885963</td><td>35.19611934121609</td><td>31.95400128833979</td><td>12899.750684931507</td></tr><tr><td>dc9685e2-e48a-11ea-8204-0242ac110002</td><td>61.65579185771142</td><td>109.49120859032261</td><td>26.13803110621547</td><td>32.677652484403836</td><td>27.717138293052567</td><td>11843.098630136987</td></tr><tr><td>dd448bce-e48a-11ea-8204-0242ac110002</td><td>53.160689634867076</td><td>112.25921906180508</td><td>18.565093273210454</td><td>37.85808980565666</td><td>49.43670735351825</td><td>11561.857534246576</td></tr><tr><td>ddede28c-e48a-11ea-8204-0242ac110002</td><td>58.73503301186563</td><td>121.67215316731667</td><td>24.567966317843354</td><td>31.909403407963254</td><td>41.33632788939527</td><td>10767.175342465753</td></tr><tr><td>e11f272c-e48a-11ea-8204-0242ac110002</td><td>66.27960345349815</td><td>126.02094087611287</td><td>33.64556495344897</td><td>27.018339753984215</td><td>30.79861715451807</td><td>6902.232876712329</td></tr><tr><td>e307a3ac-e48a-11ea-8204-0242ac110002</td><td>50.9838434743732</td><td>96.2339098442623</td><td>21.345238624396252</td><td>36.990248591408665</td><td>34.40015270515002</td><td>13112.306849315068</td></tr><tr><td>e6a31bea-e48a-11ea-8204-0242ac110002</td><td>51.29584914688839</td><td>107.10663896071661</td><td>21.197709099845326</td><td>38.90728971315249</td><td>34.279938210046154</td><td>13067.112328767123</td></tr><tr><td>e6a74260-e48a-11ea-8204-0242ac110002</td><td>51.88335555726663</td><td>86.54910822317491</td><td>14.761285540193347</td><td>35.0124449633488</td><td>42.07343113768361</td><td>14630.879452054794</td></tr><tr><td>e85ed4d8-e48a-11ea-8204-0242ac110002</td><td>55.788332645068195</td><td>111.54562117508921</td><td>11.06810718150895</td><td>28.432268473553222</td><td>54.46827414523149</td><td>16723.868493150683</td></tr><tr><td>ec0e5568-e48a-11ea-8204-0242ac110002</td><td>48.82327162973423</td><td>103.55506304995883</td><td>24.7054606197229</td><td>42.62809662674452</td><td>30.438599553461223</td><td>12425.846575342466</td></tr><tr><td>ec1a9c24-e48a-11ea-8204-0242ac110002</td><td>54.57237755994188</td><td>111.16880603287139</td><td>13.106855718266289</td><td>30.756004148986758</td><td>65.90650277513899</td><td>12829.197260273973</td></tr><tr><td>f29d2594-e48a-11ea-8204-0242ac110002</td><td>93.22479178802593</td><td>138.90665497678478</td><td>19.278391504416735</td><td>18.25904016497328</td><td>6.456615753152501</td><td>5195.427397260274</td></tr><tr><td>f316b36e-e48a-11ea-8204-0242ac110002</td><td>81.43129559928222</td><td>128.17131574104212</td><td>22.58765604490449</td><td>19.932266389590694</td><td>40.1220590934959</td><td>7194.4301369863015</td></tr><tr><td>fafbc844-e48a-11ea-8204-0242ac110002</td><td>84.18792330159694</td><td>139.27191315430406</td><td>22.332690769667945</td><td>22.22312268869081</td><td>39.962147112850445</td><td>7214.61095890411</td></tr><tr><td>fb0bf3a4-e48a-11ea-8204-0242ac110002</td><td>79.79898463530574</td><td>146.78786269272462</td><td>23.52272785708032</td><td>20.382443997954343</td><td>38.43219861116193</td><td>7070.224657534247</td></tr><tr><td>fcb98860-e48a-11ea-8204-0242ac110002</td><td>67.37689541322109</td><td>132.99293803037827</td><td>28.505875948256637</td><td>31.757824416137588</td><td>5.087648719313101</td><td>5116.767123287671</td></tr><tr><td>ff884734-e48a-11ea-8204-0242ac110002</td><td>84.57539766504237</td><td>136.3320272777947</td><td>22.980419684430718</td><td>21.867886972226827</td><td>38.88364004645493</td><td>7236.561643835616</td></tr><tr><td>d7c61406-e48a-11ea-8204-0242ac110002</td><td>58.44899085506251</td><td>124.784488078097</td><td>27.58508873264069</td><td>32.47573499625205</td><td>39.600604990246886</td><td>10588.542465753424</td></tr><tr><td>db1c21a4-e48a-11ea-8204-0242ac110002</td><td>60.5578959029652</td><td>120.25377403343214</td><td>26.631424038287147</td><td>32.52708481407817</td><td>39.956998014873335</td><td>10554.939726027398</td></tr><tr><td>e2e76718-e48a-11ea-8204-0242ac110002</td><td>49.99857754355491</td><td>103.44117602756867</td><td>19.618228208458905</td><td>42.321865062392185</td><td>48.456217762567725</td><td>11376.586301369864</td></tr><tr><td>ea601738-e48a-11ea-8204-0242ac110002</td><td>51.429365268350125</td><td>107.76371632095496</td><td>17.10943699535951</td><td>38.34969132123518</td><td>39.32442213290512</td><td>13848.0</td></tr><tr><td>eea1b7c0-e48a-11ea-8204-0242ac110002</td><td>51.32539829415776</td><td>109.72149437060764</td><td>19.503958533421972</td><td>39.96357785514246</td><td>49.63871832819448</td><td>11354.91506849315</td></tr><tr><td>eff0050a-e48a-11ea-8204-0242ac110002</td><td>50.0102264913165</td><td>108.31752882906278</td><td>20.13113937709419</td><td>39.35849128665699</td><td>34.32939199470943</td><td>13124.698630136987</td></tr><tr><td>f2349f24-e48a-11ea-8204-0242ac110002</td><td>79.9312052864553</td><td>130.22153765872721</td><td>24.895244974380336</td><td>24.026932964693174</td><td>38.052372603924724</td><td>7095.010958904109</td></tr><tr><td>f34d1dd2-e48a-11ea-8204-0242ac110002</td><td>82.90758112541404</td><td>128.9715713659483</td><td>20.428108887779757</td><td>21.721512081700034</td><td>43.25305434040558</td><td>7350.61095890411</td></tr><tr><td>f56c5b82-e48a-11ea-8204-0242ac110002</td><td>76.24834474812543</td><td>98.2436639722864</td><td>25.336498118505695</td><td>24.345011093277495</td><td>26.715084968274084</td><td>11865.4301369863</td></tr><tr><td>f65413dc-e48a-11ea-8204-0242ac110002</td><td>81.26169330828958</td><td>122.37252533005683</td><td>22.74559793860213</td><td>21.944173974639813</td><td>39.30988147602491</td><td>7056.868493150685</td></tr><tr><td>f762a3a6-e48a-11ea-8204-0242ac110002</td><td>74.57816285487402</td><td>124.92675176061647</td><td>28.224309815640417</td><td>23.87131919801712</td><td>34.79323509382743</td><td>7095.358904109589</td></tr><tr><td>f78e36c4-e48a-11ea-8204-0242ac110002</td><td>70.64833246793366</td><td>132.8077504984703</td><td>26.750234489631058</td><td>28.591612068571518</td><td>5.171479247936105</td><td>5138.438356164384</td></tr><tr><td>f83ac204-e48a-11ea-8204-0242ac110002</td><td>81.40604329073291</td><td>149.3810416598289</td><td>22.738234950600113</td><td>23.323575119834672</td><td>39.12377438905361</td><td>7191.742465753425</td></tr><tr><td>fb2437ac-e48a-11ea-8204-0242ac110002</td><td>89.82729453786752</td><td>128.6296441180221</td><td>17.773267635748926</td><td>22.17851265869709</td><td>48.07452019806479</td><td>7427.504109589041</td></tr><tr><td>d80a8e60-e48a-11ea-8204-0242ac110002</td><td>57.30860502202667</td><td>126.7622936129852</td><td>23.611763170376314</td><td>35.08140609783358</td><td>41.65231261561428</td><td>10662.227397260274</td></tr><tr><td>db2c9278-e48a-11ea-8204-0242ac110002</td><td>56.62340633709723</td><td>112.19802608551906</td><td>23.421183311773476</td><td>35.80101141716213</td><td>32.04602104783825</td><td>12889.928767123287</td></tr><tr><td>e1da9f0c-e48a-11ea-8204-0242ac110002</td><td>57.51598075116917</td><td>119.17341716846988</td><td>23.284803615136695</td><td>33.87420158730273</td><td>42.858063857892255</td><td>7259.895890410959</td></tr><tr><td>e38ab40e-e48a-11ea-8204-0242ac110002</td><td>49.66097882738659</td><td>112.23144048901753</td><td>20.29257055969071</td><td>38.704112085899354</td><td>35.36835867619624</td><td>13503.112328767123</td></tr><tr><td>ed73d2b6-e48a-11ea-8204-0242ac110002</td><td>52.809838814012586</td><td>105.78010844929494</td><td>16.553534576398274</td><td>37.333192686307974</td><td>55.95991675364746</td><td>11943.47397260274</td></tr><tr><td>f0b80fb4-e48a-11ea-8204-0242ac110002</td><td>49.256527906654966</td><td>95.54575838290025</td><td>23.26146792830937</td><td>43.15940671003929</td><td>32.694026057007775</td><td>13028.16712328767</td></tr><tr><td>f1d2d578-e48a-11ea-8204-0242ac110002</td><td>48.08737933077747</td><td>107.02711147579217</td><td>23.59150579687621</td><td>43.7131694644993</td><td>32.00247150972879</td><td>12822.501369863014</td></tr><tr><td>f2dea99c-e48a-11ea-8204-0242ac110002</td><td>75.15973578044002</td><td>146.42390871728134</td><td>24.463763020378572</td><td>23.08860580901536</td><td>37.67604828884744</td><td>7108.479452054795</td></tr><tr><td>f50b1ea8-e48a-11ea-8204-0242ac110002</td><td>86.74017772398093</td><td>145.27115953200396</td><td>22.387934452760298</td><td>17.781791114539853</td><td>40.107065754252304</td><td>7173.912328767124</td></tr><tr><td>00aeacca-e48b-11ea-8204-0242ac110002</td><td>84.97913919043351</td><td>144.7021608154585</td><td>20.72095361486682</td><td>23.35193615360757</td><td>41.50182880112607</td><td>7280.854794520548</td></tr><tr><td>00b2b50e-e48b-11ea-8204-0242ac110002</td><td>77.80871909524456</td><td>129.10762087334388</td><td>23.61704077988008</td><td>22.69033220436424</td><td>38.02291462557083</td><td>7198.46301369863</td></tr><tr><td>d37ec672-e48a-11ea-8204-0242ac110002</td><td>56.42035233630999</td><td>125.38464005676678</td><td>20.29190932347419</td><td>36.193079663086934</td><td>33.79667036494002</td><td>13041.876712328767</td></tr><tr><td>d41081fc-e48a-11ea-8204-0242ac110002</td><td>62.62736374059854</td><td>119.51593261971962</td><td>28.604028873348973</td><td>29.45044115242447</td><td>36.895989264856155</td><td>10341.528767123287</td></tr><tr><td>d6393cd0-e48a-11ea-8204-0242ac110002</td><td>63.08843411519338</td><td>126.09905832008154</td><td>28.795582474210292</td><td>29.702505749408346</td><td>36.898856048935876</td><td>7044.219178082192</td></tr><tr><td>d86bf9d4-e48a-11ea-8204-0242ac110002</td><td>61.42668813488618</td><td>110.46848506505148</td><td>25.770376824769013</td><td>34.070700290499744</td><td>39.5559410694787</td><td>10658.219178082192</td></tr><tr><td>dde62a42-e48a-11ea-8204-0242ac110002</td><td>64.15812516471786</td><td>120.63436845249677</td><td>28.51979514905716</td><td>29.053444577024354</td><td>35.93278671273852</td><td>7018.495890410959</td></tr><tr><td>df0a29aa-e48a-11ea-8204-0242ac110002</td><td>57.794114274188374</td><td>117.97940736465709</td><td>23.384008201790643</td><td>33.87621593810831</td><td>31.26986584507133</td><td>12483.46301369863</td></tr><tr><td>dfc2c816-e48a-11ea-8204-0242ac110002</td><td>62.09383012689898</td><td>115.48612739187658</td><td>24.673812296185595</td><td>30.469603239656365</td><td>39.18374871419092</td><td>10486.082191780823</td></tr><tr><td>e0ffee3e-e48a-11ea-8204-0242ac110002</td><td>55.41397580820315</td><td>118.1441248832529</td><td>24.620311768818937</td><td>32.5353731310961</td><td>41.81152319318608</td><td>10823.29315068493</td></tr><tr><td>e461b922-e48a-11ea-8204-0242ac110002</td><td>55.42267744527836</td><td>107.72238545202569</td><td>11.01414507691084</td><td>29.487937761890606</td><td>55.96995450150951</td><td>17481.479452054795</td></tr><tr><td>e4943604-e48a-11ea-8204-0242ac110002</td><td>52.00107160778547</td><td>112.62921146860468</td><td>16.970359328830263</td><td>35.38107308838863</td><td>57.121750084935876</td><td>12116.14794520548</td></tr><tr><td>ecb4caf6-e48a-11ea-8204-0242ac110002</td><td>48.936638100855966</td><td>100.03722748298176</td><td>21.09624449132232</td><td>43.975581962669246</td><td>47.42736193150153</td><td>11295.86301369863</td></tr><tr><td>edeffcd8-e48a-11ea-8204-0242ac110002</td><td>52.42003013181716</td><td>114.39957502260583</td><td>16.627914036616733</td><td>35.94509451648975</td><td>56.148587249458814</td><td>7763.917808219178</td></tr><tr><td>f2d3281a-e48a-11ea-8204-0242ac110002</td><td>81.8772020325288</td><td>154.77108511101176</td><td>24.55078710625568</td><td>22.429766137173004</td><td>37.362576597543026</td><td>7059.367123287671</td></tr><tr><td>f5c3f770-e48a-11ea-8204-0242ac110002</td><td>84.68136268925703</td><td>143.22129794921725</td><td>20.743343055999524</td><td>20.123959493015004</td><td>41.9908007252069</td><td>7250.542465753425</td></tr><tr><td>f5eac7ba-e48a-11ea-8204-0242ac110002</td><td>69.90799184681904</td><td>136.40822440512443</td><td>31.55254002340175</td><td>28.74543017542936</td><td>31.96472237416073</td><td>7014.364383561644</td></tr><tr><td>fdeac06e-e48a-11ea-8204-0242ac110002</td><td>81.82224277057894</td><td>150.98149558527587</td><td>21.924386111326697</td><td>24.93036325146038</td><td>5.858965478687472</td><td>5200.427397260274</td></tr><tr><td>003762aa-e48b-11ea-8204-0242ac110002</td><td>84.03137470273838</td><td>150.56703733080104</td><td>21.540962942918842</td><td>22.15966551690082</td><td>5.816435881132796</td><td>5166.986301369863</td></tr><tr><td>d46a524a-e48a-11ea-8204-0242ac110002</td><td>56.32850879426887</td><td>118.15092446289303</td><td>22.86431733996416</td><td>35.02202564366532</td><td>31.94276277237338</td><td>12850.0</td></tr><tr><td>d4c20d32-e48a-11ea-8204-0242ac110002</td><td>66.04979884279302</td><td>140.969821301336</td><td>32.23439633792334</td><td>25.690661565108172</td><td>31.542129263518305</td><td>9850.504109589041</td></tr><tr><td>d53d9c5e-e48a-11ea-8204-0242ac110002</td><td>60.38687385654139</td><td>117.63411672169848</td><td>26.147946769117773</td><td>33.3611375827272</td><td>39.145665629717016</td><td>7168.054794520548</td></tr><tr><td>d8ec5ae8-e48a-11ea-8204-0242ac110002</td><td>62.22928074355126</td><td>124.65402865381357</td><td>27.175385014874426</td><td>33.74440334450062</td><td>38.619307880285014</td><td>10558.128767123288</td></tr><tr><td>e7206f28-e48a-11ea-8204-0242ac110002</td><td>50.60917850838195</td><td>106.41827345594727</td><td>19.90236347480687</td><td>39.04988557877343</td><td>49.269581352543234</td><td>11351.547945205479</td></tr><tr><td>e8fb781a-e48a-11ea-8204-0242ac110002</td><td>51.51460717881761</td><td>102.31542957519115</td><td>18.41223139751123</td><td>39.0537919245676</td><td>36.81421047941326</td><td>13669.65205479452</td></tr><tr><td>f58c343e-e48a-11ea-8204-0242ac110002</td><td>68.21693853917763</td><td>113.9380324793409</td><td>29.778902617726875</td><td>29.475996099260133</td><td>33.45508435962868</td><td>10017.356164383562</td></tr><tr><td>f7207314-e48a-11ea-8204-0242ac110002</td><td>64.12604380335208</td><td>117.75989948763011</td><td>30.151096590823776</td><td>27.53864501237291</td><td>35.183569075054926</td><td>10266.413698630136</td></tr><tr><td>fc01806c-e48a-11ea-8204-0242ac110002</td><td>70.66337681282775</td><td>138.97956185338847</td><td>26.721711276438814</td><td>25.815440526299998</td><td>36.001287377237304</td><td>7133.438356164384</td></tr><tr><td>fee7ca98-e48a-11ea-8204-0242ac110002</td><td>83.38543812996747</td><td>136.9787014906125</td><td>23.25134310313378</td><td>21.015491358773193</td><td>38.319724451293084</td><td>7149.687671232877</td></tr><tr><td>00c65910-e48b-11ea-8204-0242ac110002</td><td>66.55094487461385</td><td>148.56226294063006</td><td>30.772872665647963</td><td>27.139271149879786</td><td>33.21722753348183</td><td>6946.501369863014</td></tr><tr><td>d5734a2a-e48a-11ea-8204-0242ac110002</td><td>56.16410340925965</td><td>115.99740688959257</td><td>21.136590082298383</td><td>35.60195060491414</td><td>33.783411649620255</td><td>13067.498630136986</td></tr><tr><td>d97b559a-e48a-11ea-8204-0242ac110002</td><td>60.97109331744125</td><td>115.44115326016546</td><td>26.277044599848896</td><td>31.956413107613923</td><td>26.413734912648305</td><td>11715.08493150685</td></tr><tr><td>e1e73348-e48a-11ea-8204-0242ac110002</td><td>58.042952638562504</td><td>130.94090092226082</td><td>27.95943555174896</td><td>30.57607167801311</td><td>37.87912401296603</td><td>7098.115068493151</td></tr><tr><td>e4d674c4-e48a-11ea-8204-0242ac110002</td><td>47.00035315806893</td><td>94.24177254440707</td><td>25.952904936924615</td><td>48.38688276080998</td><td>30.779877158431695</td><td>12474.846575342466</td></tr><tr><td>e4da8c3a-e48a-11ea-8204-0242ac110002</td><td>51.38868424401737</td><td>105.16242384217531</td><td>18.38394549665411</td><td>37.96508938322745</td><td>52.149303325646756</td><td>11688.90410958904</td></tr><tr><td>e6b70506-e48a-11ea-8204-0242ac110002</td><td>52.62751563262177</td><td>111.30782877923677</td><td>16.26703609542051</td><td>35.12691434365278</td><td>40.06373932012783</td><td>14210.342465753425</td></tr><tr><td>e91e4ffc-e48a-11ea-8204-0242ac110002</td><td>52.773629869867825</td><td>107.83817642505893</td><td>16.524920346440688</td><td>33.5530406115545</td><td>38.985791346166245</td><td>13999.846575342466</td></tr><tr><td>eb903890-e48a-11ea-8204-0242ac110002</td><td>51.94123394174965</td><td>106.2236948242049</td><td>15.832307638068803</td><td>33.7649949530752</td><td>41.64042543800067</td><td>14320.731506849315</td></tr><tr><td>f4a50528-e48a-11ea-8204-0242ac110002</td><td>90.10201784527491</td><td>145.48378104923077</td><td>18.977568593540255</td><td>20.000224155010077</td><td>44.45990247265076</td><td>7289.917808219178</td></tr><tr><td>f568637e-e48a-11ea-8204-0242ac110002</td><td>80.29169833240752</td><td>143.16180316713812</td><td>24.13894926721597</td><td>23.369528458825084</td><td>37.551513174309726</td><td>7198.753424657534</td></tr><tr><td>f8bf55a0-e48a-11ea-8204-0242ac110002</td><td>74.79398461223442</td><td>147.05869284648148</td><td>27.830803575028433</td><td>24.330142915734974</td><td>4.903079404213541</td><td>5174.7945205479455</td></tr><tr><td>fbe6d2c6-e48a-11ea-8204-0242ac110002</td><td>70.79701986146928</td><td>170.73311834835008</td><td>28.160202235371436</td><td>29.021311178394246</td><td>4.986927690542483</td><td>5193.402739726027</td></tr><tr><td>d39b94d2-e48a-11ea-8204-0242ac110002</td><td>59.18373070479178</td><td>119.07104339214368</td><td>25.579180661440443</td><td>34.19829366931423</td><td>27.78885868094115</td><td>11994.619178082192</td></tr><tr><td>d5928aa2-e48a-11ea-8204-0242ac110002</td><td>59.65207632404213</td><td>124.7832209748081</td><td>23.768276068168365</td><td>33.79559011698308</td><td>42.906908181207605</td><td>10846.520547945205</td></tr><tr><td>d7c9df8c-e48a-11ea-8204-0242ac110002</td><td>58.85354823346562</td><td>118.53790589078295</td><td>23.76623910377238</td><td>36.58821198682502</td><td>41.81896708212307</td><td>7257.882191780822</td></tr><tr><td>d96ace32-e48a-11ea-8204-0242ac110002</td><td>58.45620553052088</td><td>125.7429516323981</td><td>23.815497153041424</td><td>35.51301997963708</td><td>42.03644662132877</td><td>10818.487671232877</td></tr><tr><td>ddd5f8de-e48a-11ea-8204-0242ac110002</td><td>54.94050692136503</td><td>114.67645694324369</td><td>21.29467178321173</td><td>36.818514178762264</td><td>45.47477789683396</td><td>11089.432876712328</td></tr><tr><td>e990a908-e48a-11ea-8204-0242ac110002</td><td>53.61357542017553</td><td>106.35041546803801</td><td>16.415412709630544</td><td>32.88147441016406</td><td>40.8897090341679</td><td>14303.86301369863</td></tr><tr><td>ec61b4b0-e48a-11ea-8204-0242ac110002</td><td>49.27704035037176</td><td>103.4994922844514</td><td>21.841965446580645</td><td>39.65186903312745</td><td>33.454271046616896</td><td>13176.345205479452</td></tr><tr><td>ed8caa02-e48a-11ea-8204-0242ac110002</td><td>53.46963147972646</td><td>99.42845311188576</td><td>15.580461621297689</td><td>31.742941443595132</td><td>43.454934564746495</td><td>14864.120547945206</td></tr><tr><td>ef97f202-e48a-11ea-8204-0242ac110002</td><td>50.382648665021954</td><td>108.79619981100612</td><td>18.724876470799806</td><td>39.30682077244133</td><td>35.71865202363155</td><td>13369.684931506848</td></tr><tr><td>f0a7343c-e48a-11ea-8204-0242ac110002</td><td>52.019366936303975</td><td>97.29658293896782</td><td>16.23182770315783</td><td>34.135385246513145</td><td>40.19329247325724</td><td>14286.90410958904</td></tr><tr><td>f489ac6a-e48a-11ea-8204-0242ac110002</td><td>75.24226586746502</td><td>139.80068182561348</td><td>26.028322166794208</td><td>24.80249694815733</td><td>36.13602198523403</td><td>7110.024657534246</td></tr><tr><td>f5fa6e90-e48a-11ea-8204-0242ac110002</td><td>69.86667712195275</td><td>140.3489010532494</td><td>27.87157134051394</td><td>27.30219209741682</td><td>5.046327305071456</td><td>5126.956164383561</td></tr><tr><td>f87fc070-e48a-11ea-8204-0242ac110002</td><td>90.55153694667897</td><td>145.7364596119108</td><td>17.3808539023338</td><td>17.025708331930023</td><td>48.2550696333115</td><td>7466.358904109589</td></tr><tr><td>f92a275e-e48a-11ea-8204-0242ac110002</td><td>84.21926635609692</td><td>134.73553360941295</td><td>22.754451103490645</td><td>21.636867501880868</td><td>39.43592820212984</td><td>7146.739726027397</td></tr><tr><td>fc29ebb0-e48a-11ea-8204-0242ac110002</td><td>71.2861395269591</td><td>125.83700220923325</td><td>28.584748305951038</td><td>27.63453692587975</td><td>34.89644833400351</td><td>10186.482191780822</td></tr><tr><td>fdc68dac-e48a-11ea-8204-0242ac110002</td><td>87.62719202949523</td><td>136.52529324778527</td><td>18.672053943801377</td><td>20.79324345742633</td><td>6.569990324705162</td><td>5232.506849315068</td></tr><tr><td>fe2bbb46-e48a-11ea-8204-0242ac110002</td><td>53.4792711248995</td><td>109.51015813008</td><td>37.12319943148094</td><td>38.38055962368923</td><td>23.105479522413294</td><td>11115.871232876712</td></tr><tr><td>fff7e742-e48a-11ea-8204-0242ac110002</td><td>81.90773695447994</td><td>148.37881154512067</td><td>21.598410777870626</td><td>22.797690192330553</td><td>5.83814781136633</td><td>5153.890410958904</td></tr><tr><td>01546b4c-e48b-11ea-8204-0242ac110002</td><td>75.42280476038069</td><td>158.84278062934237</td><td>21.94086560466616</td><td>27.24766123954176</td><td>41.320817165907215</td><td>7199.61095890411</td></tr><tr><td>d86481e0-e48a-11ea-8204-0242ac110002</td><td>56.97188734611269</td><td>114.74029013116355</td><td>21.774009452753845</td><td>34.358903520886884</td><td>33.26424239307706</td><td>13000.82191780822</td></tr><tr><td>e663b248-e48a-11ea-8204-0242ac110002</td><td>51.33828133087156</td><td>107.23388422389844</td><td>21.10998757610911</td><td>36.04228467293787</td><td>32.67203465373042</td><td>12849.679452054794</td></tr><tr><td>eccd162e-e48a-11ea-8204-0242ac110002</td><td>51.40373622291533</td><td>102.48642470082426</td><td>19.27381253920902</td><td>37.68662125714665</td><td>50.34704209132349</td><td>11543.276712328767</td></tr><tr><td>ef836c10-e48a-11ea-8204-0242ac110002</td><td>49.66458980178769</td><td>96.50441584125117</td><td>23.007679552810696</td><td>40.85960575605249</td><td>31.86271035132029</td><td>12621.62191780822</td></tr><tr><td>f462add6-e48a-11ea-8204-0242ac110002</td><td>64.69975539974845</td><td>128.41392010717834</td><td>25.85805679502295</td><td>28.300471310388602</td><td>38.10673431009677</td><td>7094.191780821918</td></tr><tr><td>f701908e-e48a-11ea-8204-0242ac110002</td><td>94.55470470700647</td><td>137.5513675667157</td><td>18.633269508675145</td><td>15.050336434047146</td><td>45.22934210287284</td><td>7429.002739726027</td></tr><tr><td>fff00e82-e48a-11ea-8204-0242ac110002</td><td>82.05608649207487</td><td>140.6146785875998</td><td>21.432227058233284</td><td>24.16206365585868</td><td>41.55075711116614</td><td>7283.4301369863015</td></tr><tr><td>d3ac6f6e-e48a-11ea-8204-0242ac110002</td><td>61.25471147884661</td><td>122.8116654098448</td><td>28.451282876520732</td><td>30.719365499649143</td><td>36.64246781913964</td><td>10236.77808219178</td></tr><tr><td>d3e519cc-e48a-11ea-8204-0242ac110002</td><td>53.16517109969772</td><td>115.62674198696811</td><td>17.270236842971595</td><td>40.57778393965105</td><td>38.94223213181869</td><td>14030.032876712328</td></tr><tr><td>da01fb9a-e48a-11ea-8204-0242ac110002</td><td>59.519766266794825</td><td>110.39143807953738</td><td>24.630041165897687</td><td>35.66425229959803</td><td>39.53750320193133</td><td>10474.2</td></tr><tr><td>dce51b30-e48a-11ea-8204-0242ac110002</td><td>59.2172171158614</td><td>121.34623551413588</td><td>27.18594376995104</td><td>34.92977474623818</td><td>37.62063084352164</td><td>10491.583561643836</td></tr><tr><td>e40fe890-e48a-11ea-8204-0242ac110002</td><td>52.154705005345846</td><td>96.55600959957631</td><td>16.288154735168707</td><td>35.907786798480615</td><td>60.033439172756914</td><td>12289.972602739726</td></tr><tr><td>edc19384-e48a-11ea-8204-0242ac110002</td><td>50.39431165676138</td><td>93.43404061635621</td><td>22.749343925623183</td><td>40.40697754580372</td><td>32.67535169948869</td><td>12708.739726027397</td></tr><tr><td>efec2296-e48a-11ea-8204-0242ac110002</td><td>49.91411279797615</td><td>103.35765749258286</td><td>20.35031119146853</td><td>40.95011628076187</td><td>35.69528930374082</td><td>13399.367123287671</td></tr><tr><td>f0109c52-e48a-11ea-8204-0242ac110002</td><td>52.11551731962275</td><td>111.05265628498154</td><td>16.035160227468534</td><td>35.615162900782614</td><td>40.82410864205132</td><td>14407.583561643836</td></tr><tr><td>f2116162-e48a-11ea-8204-0242ac110002</td><td>77.88258420029649</td><td>136.36241480040746</td><td>23.442439042007685</td><td>24.50237691675693</td><td>39.04349124322213</td><td>7328.323287671233</td></tr><tr><td>f49959da-e48a-11ea-8204-0242ac110002</td><td>75.73137130294846</td><td>134.78811127430723</td><td>25.84186774586608</td><td>25.830314863350374</td><td>35.873338148266726</td><td>7073.2520547945205</td></tr><tr><td>f8de4f28-e48a-11ea-8204-0242ac110002</td><td>87.0020774101055</td><td>146.34897361902225</td><td>21.24879973069026</td><td>20.380318541098507</td><td>5.949348983474708</td><td>5203.013698630137</td></tr><tr><td>f981a6c8-e48a-11ea-8204-0242ac110002</td><td>67.65391469175754</td><td>148.51115922154477</td><td>31.688408945914503</td><td>31.1223953684516</td><td>4.590733131889687</td><td>5192.043835616439</td></tr><tr><td>f9ab3c40-e48a-11ea-8204-0242ac110002</td><td>54.87907154062808</td><td>155.6955982753746</td><td>32.71145184049389</td><td>29.81323605807516</td><td>33.76493369192554</td><td>6952.73698630137</td></tr><tr><td>fc8669e4-e48a-11ea-8204-0242ac110002</td><td>82.79161001946592</td><td>109.37201688999478</td><td>24.275255272375105</td><td>24.177008806783583</td><td>38.085215048408394</td><td>10389.353424657535</td></tr><tr><td>feb27d70-e48a-11ea-8204-0242ac110002</td><td>69.60980957168142</td><td>139.49042973864064</td><td>28.338743279026126</td><td>30.152107719338748</td><td>35.17278795210577</td><td>7111.558904109589</td></tr><tr><td>ff211410-e48a-11ea-8204-0242ac110002</td><td>71.76087661715162</td><td>158.55928783570008</td><td>27.408457582186617</td><td>26.98420633051487</td><td>5.246536911974788</td><td>5181.824657534246</td></tr><tr><td>ff34d4b4-e48a-11ea-8204-0242ac110002</td><td>87.80284431938016</td><td>129.33276554767258</td><td>24.61243383857319</td><td>19.647955712164077</td><td>36.5340693015028</td><td>7067.230136986302</td></tr><tr><td>d299fe2a-e48a-11ea-8204-0242ac110002</td><td>57.26230292060372</td><td>115.45418238633255</td><td>23.097373972766366</td><td>35.46238179086134</td><td>30.545475530599393</td><td>12634.424657534246</td></tr><tr><td>d5d9135a-e48a-11ea-8204-0242ac110002</td><td>58.109445804961396</td><td>113.58710886111574</td><td>23.14642447540807</td><td>34.11213522766497</td><td>30.918000283350736</td><td>12511.334246575343</td></tr><tr><td>d78ee346-e48a-11ea-8204-0242ac110002</td><td>61.47539833909047</td><td>122.54747723801965</td><td>27.95267289720851</td><td>30.888436946388946</td><td>36.678115658114415</td><td>7110.027397260274</td></tr><tr><td>d7cddd94-e48a-11ea-8204-0242ac110002</td><td>54.28943903517253</td><td>112.19161668363064</td><td>19.536671437859795</td><td>36.74369878715775</td><td>34.76203517756667</td><td>13123.4</td></tr><tr><td>dd512c94-e48a-11ea-8204-0242ac110002</td><td>62.53359130247873</td><td>116.25691974141833</td><td>26.5694919220041</td><td>31.283206514796873</td><td>37.15324379958417</td><td>7176.369863013699</td></tr><tr><td>defdc5b6-e48a-11ea-8204-0242ac110002</td><td>63.57873820725843</td><td>129.84737232682357</td><td>27.22952722947247</td><td>31.18089849884291</td><td>37.97066568680994</td><td>10366.101369863014</td></tr><tr><td>e0699d1c-e48a-11ea-8204-0242ac110002</td><td>55.02880779961458</td><td>114.20100003992687</td><td>19.37459202555439</td><td>37.44451632586952</td><td>35.51393680560937</td><td>13257.013698630137</td></tr><tr><td>e206f566-e48a-11ea-8204-0242ac110002</td><td>61.00707077983576</td><td>125.12935180810334</td><td>27.462319881383085</td><td>32.26014946857909</td><td>38.309754754920036</td><td>10436.128767123288</td></tr><tr><td>e37e2b26-e48a-11ea-8204-0242ac110002</td><td>48.02117478503042</td><td>94.33106299876877</td><td>23.324569811474035</td><td>45.81910356792797</td><td>31.45565165920469</td><td>12695.249315068493</td></tr><tr><td>e5e420f0-e48a-11ea-8204-0242ac110002</td><td>50.81201980566191</td><td>106.95079924255408</td><td>20.032610319957758</td><td>37.3595945532595</td><td>50.601281575549876</td><td>11815.282191780821</td></tr><tr><td>e68ee986-e48a-11ea-8204-0242ac110002</td><td>52.84922480247804</td><td>107.9871487576576</td><td>17.361177991137303</td><td>33.19359029474331</td><td>54.55425648130634</td><td>11887.813698630138</td></tr><tr><td>e9360f34-e48a-11ea-8204-0242ac110002</td><td>51.91919187565912</td><td>109.7208839360124</td><td>18.65802538776126</td><td>39.25923188127734</td><td>52.33493200283761</td><td>11740.92602739726</td></tr><tr><td>e951c468-e48a-11ea-8204-0242ac110002</td><td>51.12002776566303</td><td>103.47765183121848</td><td>17.84708689881385</td><td>39.96097432010631</td><td>37.67716356809314</td><td>13916.750684931507</td></tr><tr><td>ec06348c-e48a-11ea-8204-0242ac110002</td><td>49.71834626919846</td><td>97.36248032058369</td><td>19.34719314391897</td><td>40.612878566750204</td><td>35.45016920592582</td><td>13296.180821917807</td></tr><tr><td>ec6ddda8-e48a-11ea-8204-0242ac110002</td><td>52.85720784966517</td><td>98.37730944455471</td><td>16.543770272410455</td><td>37.16477011566555</td><td>39.050250595733026</td><td>14031.761643835616</td></tr><tr><td>f19474ae-e48a-11ea-8204-0242ac110002</td><td>51.89781842684654</td><td>104.45892170063796</td><td>16.24875902734533</td><td>35.70358905935458</td><td>56.926761995162906</td><td>12223.128767123288</td></tr><tr><td>f8cd06b4-e48a-11ea-8204-0242ac110002</td><td>61.08799741812013</td><td>127.81763933942916</td><td>33.15155797829772</td><td>30.32555623676971</td><td>33.21967326992338</td><td>10061.142465753424</td></tr><tr><td>f99f6c9e-e48a-11ea-8204-0242ac110002</td><td>87.24396377825528</td><td>125.03571170553633</td><td>21.377607604017232</td><td>20.24336628967446</td><td>41.253831391027305</td><td>7201.545205479452</td></tr><tr><td>facbeaac-e48a-11ea-8204-0242ac110002</td><td>67.6790540653053</td><td>135.79823372370592</td><td>27.320491667495254</td><td>30.21318417715775</td><td>5.132284042323191</td><td>5174.265753424657</td></tr><tr><td>fad414e8-e48a-11ea-8204-0242ac110002</td><td>84.86967327186849</td><td>133.09699329157155</td><td>21.517510974566097</td><td>20.422682762708945</td><td>40.83605024773172</td><td>7249.2054794520545</td></tr><tr><td>fdc26d9e-e48a-11ea-8204-0242ac110002</td><td>81.7977597842627</td><td>126.19116357904663</td><td>21.54631053862949</td><td>20.663148089481677</td><td>39.870484299611334</td><td>7180.035616438357</td></tr><tr><td>0007a88a-e48b-11ea-8204-0242ac110002</td><td>77.73294228506452</td><td>127.05715346661702</td><td>25.150812654086298</td><td>25.52747526955064</td><td>37.2167018100805</td><td>7115.591780821917</td></tr><tr><td>014aa530-e48b-11ea-8204-0242ac110002</td><td>74.92992734038577</td><td>146.09048372303903</td><td>26.000386735538115</td><td>24.672298662667362</td><td>5.292248197270801</td><td>5144.413698630137</td></tr><tr><td>01a3ff0e-e48b-11ea-8204-0242ac110002</td><td>78.39773957600025</td><td>121.15457280931726</td><td>26.25570381501219</td><td>24.76227352758212</td><td>35.21779011704292</td><td>6998.504109589041</td></tr><tr><td>029d7e6c-e48b-11ea-8204-0242ac110002</td><td>60.205445806520316</td><td>131.7232916580454</td><td>32.816546739590564</td><td>30.419301324996887</td><td>33.54502710159257</td><td>10043.0</td></tr><tr><td>d695d0ee-e48a-11ea-8204-0242ac110002</td><td>57.835324965111845</td><td>131.01524791232958</td><td>22.002599445269293</td><td>36.61937322334148</td><td>46.181198197827484</td><td>11235.709589041096</td></tr><tr><td>dd1ab31c-e48a-11ea-8204-0242ac110002</td><td>54.643446253894</td><td>115.59789329060403</td><td>18.099144626051967</td><td>38.86087500300234</td><td>37.476403695078254</td><td>13714.967123287672</td></tr><tr><td>de2988c8-e48a-11ea-8204-0242ac110002</td><td>57.436224079561434</td><td>114.71634409544491</td><td>22.4221323409762</td><td>35.82702852986877</td><td>43.353004233009045</td><td>7412.1972602739725</td></tr><tr><td>ec914bf8-e48a-11ea-8204-0242ac110002</td><td>52.549708745364995</td><td>103.39979932985001</td><td>17.540728754792923</td><td>35.41458148391084</td><td>38.75735468403143</td><td>14174.276712328767</td></tr><tr><td>f3e46480-e48a-11ea-8204-0242ac110002</td><td>75.4647338190798</td><td>123.51289317150288</td><td>25.539306109533367</td><td>26.24297300798499</td><td>37.003390331585464</td><td>7191.194520547945</td></tr><tr><td>fb587300-e48a-11ea-8204-0242ac110002</td><td>72.01129815640476</td><td>156.01782911630872</td><td>25.136987032709758</td><td>28.39063133305887</td><td>37.59289724992678</td><td>7214.257534246575</td></tr><tr><td>fbbd88d0-e48a-11ea-8204-0242ac110002</td><td>61.9540271405104</td><td>133.56589024350384</td><td>35.227445690380456</td><td>30.894289641956288</td><td>30.995926693170798</td><td>9849.906849315068</td></tr><tr><td>fd0f740a-e48a-11ea-8204-0242ac110002</td><td>66.07221509464111</td><td>145.76721445747702</td><td>31.518811655715158</td><td>33.72118766542686</td><td>33.3346732309786</td><td>6913.367123287671</td></tr><tr><td>fdceadc0-e48a-11ea-8204-0242ac110002</td><td>71.35845486131561</td><td>134.07639659831605</td><td>27.74747679471172</td><td>27.98597813349881</td><td>35.97595353100986</td><td>10235.643835616438</td></tr><tr><td>fe238dea-e48a-11ea-8204-0242ac110002</td><td>86.56164131231355</td><td>145.4112490648331</td><td>20.424386981741563</td><td>18.829251318283486</td><td>6.204752396474135</td><td>5115.082191780822</td></tr><tr><td>007592d2-e48b-11ea-8204-0242ac110002</td><td>91.75935861929266</td><td>137.60189558340846</td><td>17.46767496371642</td><td>17.052150976134484</td><td>47.13984439459484</td><td>7444.780821917808</td></tr><tr><td>d50b442a-e48a-11ea-8204-0242ac110002</td><td>51.982755410973475</td><td>110.08319786482704</td><td>16.797631819353374</td><td>38.83057066455222</td><td>39.96412877535476</td><td>14199.969863013699</td></tr><tr><td>d6a8febc-e48a-11ea-8204-0242ac110002</td><td>64.08072767669127</td><td>120.61859529978403</td><td>30.160455779405794</td><td>29.86769304553619</td><td>35.38212383100132</td><td>10164.917808219177</td></tr><tr><td>d806d766-e48a-11ea-8204-0242ac110002</td><td>53.09717436523624</td><td>118.45919117610936</td><td>19.601430563220585</td><td>38.59633592310724</td><td>49.48300562076395</td><td>7434.967123287671</td></tr><tr><td>dc89e328-e48a-11ea-8204-0242ac110002</td><td>60.51742609229526</td><td>125.94375909850712</td><td>27.013350739159986</td><td>32.70754706223071</td><td>37.09858210823809</td><td>10432.37808219178</td></tr><tr><td>e41b77be-e48a-11ea-8204-0242ac110002</td><td>54.057715119814134</td><td>104.5944086945621</td><td>14.186724845172414</td><td>34.2600262483588</td><td>64.7767684897164</td><td>12810.772602739726</td></tr><tr><td>e56fee9c-e48a-11ea-8204-0242ac110002</td><td>51.96649219354041</td><td>108.3451894536666</td><td>16.152893170857244</td><td>35.33159866576653</td><td>40.82045820636299</td><td>14574.715068493151</td></tr><tr><td>e7b25a96-e48a-11ea-8204-0242ac110002</td><td>49.57062600725417</td><td>106.40074052923484</td><td>23.823724355037623</td><td>44.34707949881509</td><td>31.302157941882758</td><td>12486.345205479452</td></tr><tr><td>e9885fa0-e48a-11ea-8204-0242ac110002</td><td>50.57172222858405</td><td>109.99227492017526</td><td>20.57378888420085</td><td>37.88708058876439</td><td>34.09073219039647</td><td>13068.646575342465</td></tr><tr><td>ece85344-e48a-11ea-8204-0242ac110002</td><td>51.127167956883284</td><td>108.97254352453243</td><td>16.38286230190308</td><td>39.81811884291267</td><td>39.78308232319729</td><td>14138.52602739726</td></tr><tr><td>f0dca446-e48a-11ea-8204-0242ac110002</td><td>50.17721343997739</td><td>99.63007516811923</td><td>21.165702096391975</td><td>39.61342577568157</td><td>33.21200223090052</td><td>12975.150684931506</td></tr><tr><td>f4d055e8-e48a-11ea-8204-0242ac110002</td><td>81.60811411125086</td><td>155.60878299698442</td><td>23.085881445743677</td><td>20.698725906532022</td><td>5.544388485151141</td><td>5176.035616438357</td></tr><tr><td>fc742e96-e48a-11ea-8204-0242ac110002</td><td>79.56617703350462</td><td>127.8665952209775</td><td>22.918520489338235</td><td>21.838790393496144</td><td>5.620262134232934</td><td>5187.843835616439</td></tr><tr><td>fd6bae00-e48a-11ea-8204-0242ac110002</td><td>61.10773985933963</td><td>129.01793262955286</td><td>30.029640955314434</td><td>30.37143813647781</td><td>36.43976690766056</td><td>10278.049315068492</td></tr><tr><td>fe7565fc-e48a-11ea-8204-0242ac110002</td><td>86.46619985632265</td><td>177.10321566565213</td><td>20.205640902664058</td><td>17.579610444216744</td><td>6.093045519424982</td><td>5209.67397260274</td></tr><tr><td>d4243aee-e48a-11ea-8204-0242ac110002</td><td>65.30887743077719</td><td>122.64464763599338</td><td>33.29137154144852</td><td>27.416446711165225</td><td>32.35530161259903</td><td>9858.986301369863</td></tr><tr><td>d73df8e6-e48a-11ea-8204-0242ac110002</td><td>50.611330310843165</td><td>112.3120283527534</td><td>18.59313727364571</td><td>40.716858527173216</td><td>37.338957178138166</td><td>13808.29315068493</td></tr><tr><td>d8480c0e-e48a-11ea-8204-0242ac110002</td><td>56.10517924894308</td><td>105.48061794549159</td><td>21.725952314375863</td><td>34.53844739460043</td><td>42.73691514394225</td><td>10815.213698630138</td></tr><tr><td>dcfd941c-e48a-11ea-8204-0242ac110002</td><td>65.40071948457934</td><td>115.32992844885707</td><td>29.67994369404616</td><td>27.968120418914335</td><td>35.17537415928957</td><td>10312.70684931507</td></tr><tr><td>de21a194-e48a-11ea-8204-0242ac110002</td><td>56.36906640976199</td><td>120.48896959989989</td><td>20.131171666902084</td><td>38.704661088682826</td><td>47.17406382579496</td><td>7338.564383561644</td></tr><tr><td>e08c2d46-e48a-11ea-8204-0242ac110002</td><td>54.03969249521646</td><td>104.03379752067514</td><td>19.572136955731853</td><td>37.326635741784585</td><td>34.507088274743616</td><td>13105.561643835616</td></tr><tr><td>e09b6e78-e48a-11ea-8204-0242ac110002</td><td>58.029249059579676</td><td>123.8533219949133</td><td>25.775522064642598</td><td>32.72549122898576</td><td>40.23636498766259</td><td>10563.841095890411</td></tr><tr><td>e2956986-e48a-11ea-8204-0242ac110002</td><td>50.852982023214956</td><td>107.55605246614847</td><td>18.961529609110055</td><td>38.75991517107901</td><td>36.37819158842073</td><td>13599.673972602739</td></tr><tr><td>e48c48ae-e48a-11ea-8204-0242ac110002</td><td>51.03571695576912</td><td>100.24269369254142</td><td>22.91183233576683</td><td>39.100629839347135</td><td>32.744738880280096</td><td>12956.09589041096</td></tr><tr><td>e68321f0-e48a-11ea-8204-0242ac110002</td><td>52.111001017245236</td><td>110.44397808026703</td><td>16.155248595231782</td><td>35.59662153417363</td><td>57.19064566284987</td><td>12171.46301369863</td></tr><tr><td>ea681276-e48a-11ea-8204-0242ac110002</td><td>52.4739735298063</td><td>97.77446836494083</td><td>17.039239867603587</td><td>34.81288702991518</td><td>40.02243004807422</td><td>14213.991780821918</td></tr><tr><td>eace5aea-e48a-11ea-8204-0242ac110002</td><td>51.38503227976079</td><td>109.82187305524252</td><td>15.76240787467376</td><td>37.762010087207514</td><td>61.24644994210757</td><td>12610.72602739726</td></tr><tr><td>eb4f5262-e48a-11ea-8204-0242ac110002</td><td>46.99550912108956</td><td>93.62144271626347</td><td>26.535044343177656</td><td>45.31166480796349</td><td>29.58591652074424</td><td>12354.575342465754</td></tr><tr><td>efffef38-e48a-11ea-8204-0242ac110002</td><td>52.93326938279752</td><td>98.53284771359245</td><td>17.3716464200879</td><td>34.02255342175387</td><td>39.44551485200638</td><td>14073.038356164383</td></tr><tr><td>f4c87a6c-e48a-11ea-8204-0242ac110002</td><td>71.73783846261541</td><td>140.45401173387177</td><td>25.691807949723064</td><td>25.5825505229051</td><td>37.555923036987465</td><td>7066.890410958904</td></tr><tr><td>f5f29666-e48a-11ea-8204-0242ac110002</td><td>67.69193510964692</td><td>141.16398667421132</td><td>29.57448188950935</td><td>27.54070315043576</td><td>4.779298819776393</td><td>5154.156164383561</td></tr><tr><td>f7a9bba6-e48a-11ea-8204-0242ac110002</td><td>81.26431637434719</td><td>130.11883686594325</td><td>24.851630424245727</td><td>24.743033017087356</td><td>37.24987716664225</td><td>7145.257534246575</td></tr><tr><td>fe68ef66-e48a-11ea-8204-0242ac110002</td><td>75.1987435315541</td><td>120.86733289196428</td><td>25.857867733703053</td><td>26.146878383537235</td><td>35.48641969305021</td><td>7086.572602739726</td></tr><tr><td>fea9e9bc-e48a-11ea-8204-0242ac110002</td><td>85.79237974819091</td><td>149.1871964486027</td><td>19.734672289612146</td><td>19.466131831022896</td><td>6.37723355704634</td><td>5150.684931506849</td></tr><tr><td>ff7c6c8e-e48a-11ea-8204-0242ac110002</td><td>62.74126122238504</td><td>129.19601260536146</td><td>32.22098778847037</td><td>32.47624436668679</td><td>33.34504066567698</td><td>10013.372602739726</td></tr><tr><td>01c0cd14-e48b-11ea-8204-0242ac110002</td><td>66.8850944611056</td><td>132.02660161290555</td><td>26.084241551333886</td><td>27.729583245870113</td><td>5.345524185589745</td><td>5106.53698630137</td></tr><tr><td>d3934174-e48a-11ea-8204-0242ac110002</td><td>55.98137455283126</td><td>113.76936252999718</td><td>20.175793389496437</td><td>36.7257740434282</td><td>32.32356384412532</td><td>12718.09589041096</td></tr><tr><td>d6128f5e-e48a-11ea-8204-0242ac110002</td><td>60.09986360833688</td><td>123.1092014897493</td><td>26.518299701605724</td><td>31.063404745298374</td><td>38.84433159961438</td><td>10480.361643835617</td></tr><tr><td>db456ec4-e48a-11ea-8204-0242ac110002</td><td>56.87280253319303</td><td>109.30891858135448</td><td>22.60570988170455</td><td>35.69791494417995</td><td>45.139219761315516</td><td>11051.4</td></tr><tr><td>de31b836-e48a-11ea-8204-0242ac110002</td><td>56.82676797959413</td><td>116.22593159811883</td><td>22.730038682324537</td><td>36.49424003092463</td><td>41.33278760511424</td><td>10759.876712328767</td></tr><tr><td>de9ee85c-e48a-11ea-8204-0242ac110002</td><td>62.63039111464387</td><td>125.30453890716987</td><td>28.250648021354678</td><td>31.62545132694326</td><td>36.25577030212352</td><td>7115.339726027397</td></tr><tr><td>e09f3166-e48a-11ea-8204-0242ac110002</td><td>58.63564429418372</td><td>122.48213755196167</td><td>24.161751463278396</td><td>34.55355367818838</td><td>41.21961825555038</td><td>10697.090410958905</td></tr><tr><td>e5219f26-e48a-11ea-8204-0242ac110002</td><td>53.96208148881395</td><td>99.07090041119321</td><td>13.92048067075747</td><td>34.06259352887107</td><td>44.697297780654786</td><td>15142.082191780823</td></tr><tr><td>e9221678-e48a-11ea-8204-0242ac110002</td><td>50.27965458265616</td><td>101.32849576199524</td><td>19.328320870024086</td><td>42.69139756160917</td><td>36.245838693692036</td><td>13547.509589041096</td></tr><tr><td>ea99e350-e48a-11ea-8204-0242ac110002</td><td>50.452831046703864</td><td>100.56288373552233</td><td>19.1927444856544</td><td>39.635117725427364</td><td>36.1746413649799</td><td>13459.668493150684</td></tr><tr><td>eb678cec-e48a-11ea-8204-0242ac110002</td><td>49.30276512106082</td><td>106.4494946518331</td><td>21.117991606774478</td><td>42.07584144374595</td><td>50.25018263031475</td><td>11419.098630136987</td></tr><tr><td>ee784c1e-e48a-11ea-8204-0242ac110002</td><td>49.46488401664138</td><td>94.92322283318956</td><td>19.954771221233287</td><td>42.868609940866016</td><td>35.171586740024914</td><td>13320.643835616438</td></tr><tr><td>ef93d014-e48a-11ea-8204-0242ac110002</td><td>53.8384350267013</td><td>109.3162887071896</td><td>17.37806544374018</td><td>30.55826301023052</td><td>54.13006155616537</td><td>7658.016438356164</td></tr><tr><td>f44ac356-e48a-11ea-8204-0242ac110002</td><td>68.48966494071489</td><td>136.65133010675427</td><td>26.367527301420555</td><td>28.26805233352178</td><td>37.43901208674884</td><td>7150.660273972603</td></tr><tr><td>f57810bc-e48a-11ea-8204-0242ac110002</td><td>85.87314246986101</td><td>156.263361528163</td><td>19.716734765659464</td><td>22.190079205007763</td><td>43.65593391367318</td><td>7250.6547945205475</td></tr><tr><td>f6195cc4-e48a-11ea-8204-0242ac110002</td><td>71.85536995906374</td><td>153.07874624613393</td><td>27.325137284134804</td><td>28.388146475665266</td><td>35.94843853212145</td><td>7101.421917808219</td></tr><tr><td>fcc2af9e-e48a-11ea-8204-0242ac110002</td><td>78.1794188908442</td><td>163.05770769476882</td><td>24.944758958852923</td><td>25.348864603462715</td><td>5.3616711745023276</td><td>5159.939726027397</td></tr><tr><td>fdf31a0c-e48a-11ea-8204-0242ac110002</td><td>76.4654214461702</td><td>127.14008809307397</td><td>25.419911306109334</td><td>25.609241990589183</td><td>35.28380429382074</td><td>10178.994520547945</td></tr><tr><td>fe64c67a-e48a-11ea-8204-0242ac110002</td><td>64.64890865918032</td><td>124.50024204332907</td><td>29.17455041194467</td><td>30.09934760210381</td><td>35.30866695511345</td><td>7031.320547945205</td></tr><tr><td>002765c6-e48b-11ea-8204-0242ac110002</td><td>89.51117796589962</td><td>126.57048164605168</td><td>19.830753716401606</td><td>19.750462151303648</td><td>43.30528046136424</td><td>7362.769863013698</td></tr><tr><td>d476ccd2-e48a-11ea-8204-0242ac110002</td><td>64.79134795080117</td><td>118.55985421086311</td><td>29.706667605007414</td><td>26.57808296856488</td><td>24.50925935539242</td><td>11484.819178082193</td></tr><tr><td>d6070e36-e48a-11ea-8204-0242ac110002</td><td>65.599364114848</td><td>120.59404304427035</td><td>29.401006943572405</td><td>28.93408621783856</td><td>33.91733804296907</td><td>9902.756164383562</td></tr><tr><td>d6635722-e48a-11ea-8204-0242ac110002</td><td>54.288352770972345</td><td>112.6691603905874</td><td>19.60167547747551</td><td>38.628813754557356</td><td>50.18233209248464</td><td>11495.824657534247</td></tr><tr><td>d7a3a24a-e48a-11ea-8204-0242ac110002</td><td>58.00759486462274</td><td>126.812097375776</td><td>23.781354077081705</td><td>33.17000169564908</td><td>43.03795378828864</td><td>10824.739726027397</td></tr><tr><td>d95013e4-e48a-11ea-8204-0242ac110002</td><td>56.30556822406241</td><td>116.51800511402877</td><td>23.12949085732348</td><td>33.781735753928494</td><td>44.306354382159086</td><td>10883.575342465754</td></tr><tr><td>ddb03aa4-e48a-11ea-8204-0242ac110002</td><td>60.776135313287305</td><td>119.4092902526288</td><td>23.938382623512286</td><td>33.795026200618416</td><td>40.24380577066079</td><td>10796.408219178082</td></tr><tr><td>e36dc25e-e48a-11ea-8204-0242ac110002</td><td>51.17094145186785</td><td>107.8474417830824</td><td>18.456836380195693</td><td>38.21517544176524</td><td>37.513605759437525</td><td>13845.038356164383</td></tr><tr><td>e7488558-e48a-11ea-8204-0242ac110002</td><td>48.08975181659002</td><td>91.23069035185698</td><td>22.01204494102688</td><td>42.778502420183756</td><td>33.39255180383449</td><td>13073.008219178082</td></tr><tr><td>e78a84c6-e48a-11ea-8204-0242ac110002</td><td>50.66211241817548</td><td>100.72723783584145</td><td>19.563771095972168</td><td>38.566985830526285</td><td>35.60968133661836</td><td>13356.375342465753</td></tr><tr><td>ec8d5bce-e48a-11ea-8204-0242ac110002</td><td>51.009025491003</td><td>104.90649346681548</td><td>16.422837810868003</td><td>37.4910612018153</td><td>40.159326939633566</td><td>14336.613698630137</td></tr><tr><td>ee3ed466-e48a-11ea-8204-0242ac110002</td><td>53.15419908587043</td><td>106.93390006963416</td><td>18.834999541742356</td><td>34.689990692506655</td><td>50.15165159097818</td><td>11492.265753424657</td></tr><tr><td>ee4fcf1e-e48a-11ea-8204-0242ac110002</td><td>49.57948690278583</td><td>108.41528786641291</td><td>21.52258994959195</td><td>42.69234645735176</td><td>46.19569963245733</td><td>11088.986301369863</td></tr><tr><td>f3ae5d5e-e48a-11ea-8204-0242ac110002</td><td>77.50309853146715</td><td>147.15956384082526</td><td>24.745550203664273</td><td>23.47639772402801</td><td>37.220105394737</td><td>7184.273972602739</td></tr><tr><td>f6bdccb4-e48a-11ea-8204-0242ac110002</td><td>69.52525408319302</td><td>130.9667413834649</td><td>30.08124676003637</td><td>27.15876759442095</td><td>33.98248426040798</td><td>10003.945205479453</td></tr><tr><td>fb93aef2-e48a-11ea-8204-0242ac110002</td><td>71.87297172003947</td><td>142.84797184012334</td><td>26.59959964790284</td><td>27.780124401530163</td><td>36.59376573522032</td><td>7169.769863013698</td></tr><tr><td>fe8d3e84-e48a-11ea-8204-0242ac110002</td><td>75.23045361308249</td><td>123.86607041541659</td><td>29.06820737894152</td><td>26.494996253530633</td><td>4.7615996825399245</td><td>5084.076712328767</td></tr><tr><td>dc5b9fea-e48a-11ea-8204-0242ac110002</td><td>58.8836286919934</td><td>126.50757811800645</td><td>27.12648389478849</td><td>33.82413267754718</td><td>37.22056984217793</td><td>10353.33698630137</td></tr><tr><td>dd2f4a8e-e48a-11ea-8204-0242ac110002</td><td>55.02257168869087</td><td>109.37710976796104</td><td>23.123347446089785</td><td>37.241569726510306</td><td>31.113833233995692</td><td>12574.054794520547</td></tr><tr><td>de72f42c-e48a-11ea-8204-0242ac110002</td><td>54.50771317100856</td><td>117.02039664885613</td><td>20.58364605188923</td><td>37.34019680056584</td><td>46.33027083350311</td><td>7364.071232876712</td></tr><tr><td>e4abf49c-e48a-11ea-8204-0242ac110002</td><td>47.62326143489802</td><td>105.08989184989882</td><td>24.233244290110616</td><td>45.75134595319622</td><td>32.493624497572604</td><td>12736.827397260275</td></tr><tr><td>e692b548-e48a-11ea-8204-0242ac110002</td><td>50.3377375355573</td><td>102.16953055476951</td><td>20.605518584950328</td><td>40.01824089276129</td><td>49.4073540489647</td><td>11387.169863013698</td></tr><tr><td>e6efa7a8-e48a-11ea-8204-0242ac110002</td><td>52.83624940447892</td><td>102.68469143983825</td><td>11.908911208573084</td><td>34.3403567423138</td><td>54.11385219180894</td><td>16694.86301369863</td></tr><tr><td>e7ecc492-e48a-11ea-8204-0242ac110002</td><td>50.23854092310931</td><td>103.2055733222784</td><td>21.777672377124095</td><td>39.92394366642654</td><td>33.22797525603262</td><td>12954.230136986302</td></tr><tr><td>ea4c12b0-e48a-11ea-8204-0242ac110002</td><td>51.70601673950734</td><td>101.17493507811271</td><td>18.34468869573697</td><td>39.946958128483246</td><td>36.69007331633551</td><td>13731.068493150686</td></tr><tr><td>ec23071a-e48a-11ea-8204-0242ac110002</td><td>49.31286936973657</td><td>110.55517872388245</td><td>21.913840844195995</td><td>42.11594027363247</td><td>33.94132585778483</td><td>13089.613698630137</td></tr><tr><td>ec9546c2-e48a-11ea-8204-0242ac110002</td><td>54.25068761316578</td><td>115.45200321298496</td><td>13.813239015213382</td><td>30.5037554014116</td><td>64.91376829880747</td><td>12817.021917808219</td></tr><tr><td>ef203dc0-e48a-11ea-8204-0242ac110002</td><td>54.18639339236873</td><td>111.58771310984702</td><td>13.03559668075051</td><td>32.09574204683362</td><td>67.59095528663016</td><td>12864.482191780822</td></tr><tr><td>ef772324-e48a-11ea-8204-0242ac110002</td><td>49.03467931374677</td><td>105.78833841305797</td><td>24.21009256948031</td><td>43.126698419200125</td><td>43.10158744580881</td><td>10854.180821917807</td></tr><tr><td>f24fd064-e48a-11ea-8204-0242ac110002</td><td>87.49114378979858</td><td>148.50518867849752</td><td>20.36726448536194</td><td>18.072371994320676</td><td>42.465442980519434</td><td>7289.372602739726</td></tr><tr><td>f3ec2526-e48a-11ea-8204-0242ac110002</td><td>77.16009871287238</td><td>161.72432275657673</td><td>25.089574612127475</td><td>26.128130957869743</td><td>36.28812648502729</td><td>6968.317808219178</td></tr><tr><td>f62cb710-e48a-11ea-8204-0242ac110002</td><td>84.88316315035327</td><td>140.4565586843277</td><td>18.762889865255207</td><td>23.360870465813502</td><td>46.10646587570917</td><td>7396.813698630137</td></tr><tr><td>f964adb6-e48a-11ea-8204-0242ac110002</td><td>71.5303092492772</td><td>132.38907672918143</td><td>27.555868460559832</td><td>26.1402383192084</td><td>5.030472686545297</td><td>5131.8328767123285</td></tr><tr><td>fac7c224-e48a-11ea-8204-0242ac110002</td><td>69.08469235746549</td><td>129.1414859020341</td><td>28.62463739641571</td><td>28.771116476756447</td><td>33.79566014112901</td><td>9975.92602739726</td></tr><tr><td>fe1b9b3a-e48a-11ea-8204-0242ac110002</td><td>66.61020398439902</td><td>129.71765153142942</td><td>26.355159348278466</td><td>27.278643729314712</td><td>37.81931744752861</td><td>7143.413698630137</td></tr><tr><td>d26a30fa-e48a-11ea-8204-0242ac110002</td><td>51.14876465002267</td><td>122.34556219040559</td><td>16.624215624796193</td><td>39.24000802887519</td><td>38.26153471956054</td><td>13794.816438356165</td></tr><tr><td>d3eccd2a-e48a-11ea-8204-0242ac110002</td><td>61.95540542156069</td><td>120.91617919844776</td><td>24.858895737373253</td><td>30.86135812439187</td><td>42.225207068971365</td><td>10717.632876712329</td></tr><tr><td>d4addcd6-e48a-11ea-8204-0242ac110002</td><td>57.887359466072745</td><td>116.0864856909213</td><td>22.16944847034355</td><td>35.346411017568755</td><td>43.575005592263786</td><td>7280.646575342465</td></tr><tr><td>db7ae612-e48a-11ea-8204-0242ac110002</td><td>58.3334885578808</td><td>116.39780216086642</td><td>26.517683620957936</td><td>33.22889646354606</td><td>37.84670009472337</td><td>10388.21095890411</td></tr><tr><td>de39be6e-e48a-11ea-8204-0242ac110002</td><td>56.078916803707614</td><td>106.10777196100128</td><td>23.4448549755871</td><td>34.19159431621135</td><td>43.52390943817471</td><td>10962.761643835616</td></tr><tr><td>deec6d70-e48a-11ea-8204-0242ac110002</td><td>54.475324988791286</td><td>118.66739666208903</td><td>17.848799722484117</td><td>38.69005249447466</td><td>36.26399960294384</td><td>13436.4301369863</td></tr><tr><td>df9b6690-e48a-11ea-8204-0242ac110002</td><td>55.694154165205205</td><td>139.24246545641395</td><td>25.87806477833358</td><td>32.78965445152354</td><td>42.50394757166575</td><td>10807.693150684932</td></tr><tr><td>e03a1ec0-e48a-11ea-8204-0242ac110002</td><td>56.94624848258019</td><td>102.92299067679453</td><td>21.847630573703093</td><td>35.90741980827099</td><td>31.942712114067284</td><td>12503.923287671232</td></tr><tr><td>e0aac4e0-e48a-11ea-8204-0242ac110002</td><td>54.50426864203231</td><td>131.54726587661048</td><td>22.51857224587603</td><td>37.58987903197072</td><td>47.445776187770704</td><td>11235.630136986301</td></tr><tr><td>e2858d68-e48a-11ea-8204-0242ac110002</td><td>52.08242558066806</td><td>97.6247590126588</td><td>15.963914541388197</td><td>35.120605206122065</td><td>41.22382847342585</td><td>14437.575342465754</td></tr><tr><td>e3c58fc0-e48a-11ea-8204-0242ac110002</td><td>52.72296345493234</td><td>110.73332837625297</td><td>15.74978053371483</td><td>34.80933702947698</td><td>57.98455758319841</td><td>12008.786301369862</td></tr><tr><td>e4cb1a52-e48a-11ea-8204-0242ac110002</td><td>53.569374425319054</td><td>106.71241031602442</td><td>14.372133380537116</td><td>33.66075319467196</td><td>64.94201635832779</td><td>12834.17808219178</td></tr><tr><td>e87fa0be-e48a-11ea-8204-0242ac110002</td><td>50.80745312737116</td><td>94.62293948772681</td><td>19.487014941687296</td><td>39.36419177130152</td><td>35.76787634810898</td><td>13388.161643835616</td></tr><tr><td>f535b956-e48a-11ea-8204-0242ac110002</td><td>70.85882779429593</td><td>136.38050290732662</td><td>23.754512776115888</td><td>23.638148394002073</td><td>39.898036188399956</td><td>10508.73698630137</td></tr><tr><td>f6d53fb6-e48a-11ea-8204-0242ac110002</td><td>86.81928579867424</td><td>153.04865891102907</td><td>20.69197615502277</td><td>21.05571077805728</td><td>41.611054674943674</td><td>7253.742465753425</td></tr><tr><td>f70d3146-e48a-11ea-8204-0242ac110002</td><td>68.87421394806061</td><td>138.15586199241991</td><td>29.642073702236626</td><td>31.416158373892497</td><td>4.839141199375907</td><td>5140.745205479452</td></tr><tr><td>f72c2d76-e48a-11ea-8204-0242ac110002</td><td>71.88483350184</td><td>129.41283689206628</td><td>24.718623288196433</td><td>23.7862011568107</td><td>36.696388130481225</td><td>10379.980821917808</td></tr><tr><td>f86af19a-e48a-11ea-8204-0242ac110002</td><td>70.66987446879969</td><td>127.21389865589755</td><td>28.365256899134454</td><td>26.579473072788723</td><td>35.07865771012897</td><td>7019.690410958904</td></tr><tr><td>d828f9fe-e48a-11ea-8204-0242ac110002</td><td>58.45265010195033</td><td>114.56097878766325</td><td>24.056421038657422</td><td>33.972097615129556</td><td>29.58182514245787</td><td>12262.208219178083</td></tr><tr><td>daae4670-e48a-11ea-8204-0242ac110002</td><td>55.26832589162107</td><td>119.91945736128281</td><td>21.17289292652917</td><td>38.8997294600747</td><td>46.06082889088886</td><td>7332.408219178083</td></tr><tr><td>dbcdc13e-e48a-11ea-8204-0242ac110002</td><td>61.5100382294741</td><td>120.43494373049676</td><td>28.434058292418</td><td>29.98741408851781</td><td>36.5466650154138</td><td>10239.967123287672</td></tr><tr><td>e327b0c0-e48a-11ea-8204-0242ac110002</td><td>53.11845832390339</td><td>112.86110641314016</td><td>12.169635751898184</td><td>32.34030152637409</td><td>72.30408441884454</td><td>13686.769863013698</td></tr><tr><td>ed01d03a-e48a-11ea-8204-0242ac110002</td><td>49.28373908061067</td><td>103.48675906957334</td><td>21.352977721940544</td><td>37.93401960206777</td><td>31.63072230571436</td><td>12741.78904109589</td></tr><tr><td>efdc959c-e48a-11ea-8204-0242ac110002</td><td>53.28637106771722</td><td>102.85415225403534</td><td>15.667394083485405</td><td>32.394359949104654</td><td>42.66997799419812</td><td>14506.257534246575</td></tr><tr><td>f14da830-e48a-11ea-8204-0242ac110002</td><td>47.899484405223866</td><td>96.74035882777503</td><td>26.126667923436955</td><td>43.5061978652149</td><td>29.8769004321938</td><td>12318.780821917808</td></tr><tr><td>f2a4bb1a-e48a-11ea-8204-0242ac110002</td><td>68.80957271032881</td><td>127.20958585214761</td><td>28.891060509315697</td><td>27.74070313521027</td><td>36.20526834790291</td><td>10377.758904109589</td></tr><tr><td>f335ada0-e48a-11ea-8204-0242ac110002</td><td>81.67068183349627</td><td>160.59339970220898</td><td>22.664018691612632</td><td>21.256988249312105</td><td>5.665605084626088</td><td>5174.364383561644</td></tr><tr><td>f4cc3bc0-e48a-11ea-8204-0242ac110002</td><td>78.90323545810038</td><td>138.30387246495874</td><td>23.940496319591453</td><td>22.9777797436221</td><td>37.567419731731604</td><td>7141.67397260274</td></tr><tr><td>f5fe4952-e48a-11ea-8204-0242ac110002</td><td>91.36760520474645</td><td>151.37538021629436</td><td>20.058705089860233</td><td>18.971878716096164</td><td>6.047970288851868</td><td>5212.852054794521</td></tr><tr><td>f87b7cea-e48a-11ea-8204-0242ac110002</td><td>62.564776524055745</td><td>122.02067264494033</td><td>28.4175694789847</td><td>30.462485338067903</td><td>35.763106626657496</td><td>10216.441095890412</td></tr><tr><td>00606bbe-e48b-11ea-8204-0242ac110002</td><td>88.23880457769332</td><td>150.01584026269904</td><td>20.4653777370021</td><td>23.396824791270674</td><td>42.498969865295635</td><td>7257.087671232876</td></tr><tr><td>d40c7c7e-e48a-11ea-8204-0242ac110002</td><td>56.477012111829985</td><td>128.50466283582685</td><td>23.310610847040017</td><td>35.803846124684696</td><td>45.12841920267836</td><td>11053.865753424658</td></tr><tr><td>d843cdec-e48a-11ea-8204-0242ac110002</td><td>63.39551450708027</td><td>119.98561031296448</td><td>29.536548020113138</td><td>29.137353379986617</td><td>36.48831994063035</td><td>10305.761643835616</td></tr><tr><td>d8f41062-e48a-11ea-8204-0242ac110002</td><td>58.419414650502375</td><td>131.75673559997063</td><td>24.79442742787898</td><td>33.886577044793576</td><td>39.882676790871216</td><td>7161.101369863014</td></tr><tr><td>d8f7e2b4-e48a-11ea-8204-0242ac110002</td><td>55.715498332792635</td><td>119.26622841931129</td><td>23.984614121853852</td><td>34.45684562071416</td><td>43.23308616608493</td><td>10888.665753424657</td></tr><tr><td>dcab7eb6-e48a-11ea-8204-0242ac110002</td><td>59.697399969139774</td><td>118.93853971938681</td><td>25.598615683213442</td><td>33.38431482151495</td><td>39.03040393688008</td><td>7231.969863013699</td></tr><tr><td>df2ea1f4-e48a-11ea-8204-0242ac110002</td><td>62.97375428447655</td><td>125.71332440649387</td><td>28.129680145938007</td><td>32.76757953909953</td><td>39.19264668468699</td><td>10429.282191780821</td></tr><tr><td>e141b940-e48a-11ea-8204-0242ac110002</td><td>62.342652189931165</td><td>117.7828470490736</td><td>28.157980114475947</td><td>30.731540380368784</td><td>37.53585533817445</td><td>10354.961643835617</td></tr><tr><td>e3dcf750-e48a-11ea-8204-0242ac110002</td><td>46.95022632819713</td><td>101.42580498200745</td><td>27.262394958509645</td><td>46.20089342880826</td><td>29.084246416829284</td><td>12221.923287671232</td></tr><tr><td>e9f2a946-e48a-11ea-8204-0242ac110002</td><td>50.1675187637986</td><td>91.74576814356936</td><td>22.523983946025705</td><td>39.699424755283026</td><td>32.602910067327954</td><td>12832.950684931508</td></tr><tr><td>f35894aa-e48a-11ea-8204-0242ac110002</td><td>67.9055981776997</td><td>133.00703084495856</td><td>28.176510220384607</td><td>27.057267646252996</td><td>34.75172136741417</td><td>7059.638356164383</td></tr><tr><td>f3878b7a-e48a-11ea-8204-0242ac110002</td><td>94.04031821351246</td><td>117.84525908636934</td><td>18.664337030350143</td><td>15.76336983591758</td><td>44.877100104025196</td><td>7403.339726027397</td></tr><tr><td>f3972864-e48a-11ea-8204-0242ac110002</td><td>79.2206956640358</td><td>146.10062026011815</td><td>24.123195430403655</td><td>20.22627527113453</td><td>5.353672793598056</td><td>5162.169863013699</td></tr><tr><td>f6158522-e48a-11ea-8204-0242ac110002</td><td>78.43312952248749</td><td>166.68397803553034</td><td>25.900929000074033</td><td>23.318715195366313</td><td>5.138171387524373</td><td>5089.687671232877</td></tr><tr><td>f835a15c-e48a-11ea-8204-0242ac110002</td><td>76.48974399625156</td><td>129.07255820524068</td><td>22.626460571320475</td><td>23.658935140740933</td><td>40.89884198589844</td><td>10533.172602739725</td></tr><tr><td>f9db60e6-e48a-11ea-8204-0242ac110002</td><td>74.49741203974699</td><td>128.02681179185922</td><td>24.914983179869743</td><td>26.748781046994004</td><td>37.463844553286826</td><td>7098.082191780822</td></tr><tr><td>fe7d92c2-e48a-11ea-8204-0242ac110002</td><td>71.77925475381427</td><td>125.62580592201479</td><td>26.14249966663113</td><td>26.343781712415527</td><td>5.228062812552472</td><td>5147.54794520548</td></tr><tr><td>0200ff60-e48b-11ea-8204-0242ac110002</td><td>86.05778494084096</td><td>143.20531597670237</td><td>20.75064867945998</td><td>19.997351439832244</td><td>6.0857229277737765</td><td>5168.334246575342</td></tr><tr><td>d386d344-e48a-11ea-8204-0242ac110002</td><td>66.20325828783598</td><td>128.26408437106238</td><td>29.911121751393665</td><td>29.18016132769827</td><td>35.66973259593655</td><td>10313.635616438356</td></tr><tr><td>da4000d4-e48a-11ea-8204-0242ac110002</td><td>60.64510737309693</td><td>130.05156585416438</td><td>24.0037748186779</td><td>35.63075274170465</td><td>40.410075731707934</td><td>10650.95890410959</td></tr><tr><td>decbfa9a-e48a-11ea-8204-0242ac110002</td><td>61.34590813216392</td><td>115.86280226817954</td><td>26.06239468455324</td><td>31.92873709360331</td><td>38.631442358675926</td><td>7079.728767123288</td></tr><tr><td>e4080bfc-e48a-11ea-8204-0242ac110002</td><td>50.46802217106089</td><td>98.07257151256998</td><td>20.316452654933915</td><td>38.44748526467328</td><td>34.429516362194775</td><td>13172.16712328767</td></tr><tr><td>e60f5e46-e48a-11ea-8204-0242ac110002</td><td>51.79506751052625</td><td>111.40598221232759</td><td>20.572647328596794</td><td>40.33096208742378</td><td>51.89158401569061</td><td>11798.421917808218</td></tr><tr><td>e769d032-e48a-11ea-8204-0242ac110002</td><td>50.88585241552309</td><td>105.92915260449278</td><td>21.803925348892815</td><td>38.62777336771438</td><td>33.412018727679424</td><td>12989.161643835616</td></tr><tr><td>e7a635d6-e48a-11ea-8204-0242ac110002</td><td>49.00038402322332</td><td>93.45111802548422</td><td>21.793919136527137</td><td>42.27250767320583</td><td>33.101654478409685</td><td>12990.605479452055</td></tr><tr><td>e8008cf2-e48a-11ea-8204-0242ac110002</td><td>46.08999010491773</td><td>90.35091312934821</td><td>28.032168723005203</td><td>49.86134852758129</td><td>29.1964312528743</td><td>12330.471232876713</td></tr><tr><td>e8569dae-e48a-11ea-8204-0242ac110002</td><td>52.04234974620694</td><td>110.32086551819931</td><td>18.31836632220348</td><td>34.92237679550771</td><td>36.10569193331647</td><td>13515.27397260274</td></tr><tr><td>ec9949e8-e48a-11ea-8204-0242ac110002</td><td>51.18932759574984</td><td>109.18736086779056</td><td>18.71312010113884</td><td>40.0578263381272</td><td>51.809857383434306</td><td>11789.361643835617</td></tr><tr><td>f25f4ae4-e48a-11ea-8204-0242ac110002</td><td>77.2375603284077</td><td>137.95054183369422</td><td>23.553561063792216</td><td>27.272284706654013</td><td>38.39813624998429</td><td>7247.301369863014</td></tr><tr><td>f42ad92e-e48a-11ea-8204-0242ac110002</td><td>59.11695334333173</td><td>139.77524329906993</td><td>31.846710544266376</td><td>33.11670859737853</td><td>4.852946612546435</td><td>5215.572602739726</td></tr><tr><td>f4d82c28-e48a-11ea-8204-0242ac110002</td><td>75.8432821258948</td><td>152.73448975031087</td><td>24.89158294837945</td><td>26.816501065717425</td><td>37.49679385023633</td><td>7152.506849315068</td></tr><tr><td>f611b546-e48a-11ea-8204-0242ac110002</td><td>80.01555103775252</td><td>133.86846500044328</td><td>23.752219114042212</td><td>20.246381266635588</td><td>38.15994708587605</td><td>7070.723287671233</td></tr><tr><td>f98eb610-e48a-11ea-8204-0242ac110002</td><td>79.87289811178888</td><td>139.29062208099484</td><td>23.591433382545272</td><td>25.26348906852873</td><td>38.44443767200339</td><td>7080.060273972603</td></tr><tr><td>01d34426-e48b-11ea-8204-0242ac110002</td><td>67.95998336922428</td><td>129.28550930666734</td><td>29.71175906741928</td><td>29.693764056385273</td><td>4.932420496494147</td><td>5129.964383561643</td></tr><tr><td>01ebf160-e48b-11ea-8204-0242ac110002</td><td>84.98913995824626</td><td>134.38202891060246</td><td>22.605775356040358</td><td>22.35117751150539</td><td>40.199154522432394</td><td>7241.676712328767</td></tr><tr><td>d482706e-e48a-11ea-8204-0242ac110002</td><td>59.03776643551868</td><td>113.2908055611793</td><td>24.230123176511043</td><td>32.77190128098849</td><td>30.46798172190553</td><td>12450.731506849315</td></tr><tr><td>d48dfce0-e48a-11ea-8204-0242ac110002</td><td>58.70310007504026</td><td>130.04399363898395</td><td>22.58716682566684</td><td>33.91403133685972</td><td>44.561696109781074</td><td>10890.26301369863</td></tr><tr><td>d78b2e7c-e48a-11ea-8204-0242ac110002</td><td>54.043554890747885</td><td>110.00526872564208</td><td>21.697582031615276</td><td>36.79038661291115</td><td>44.31997084806028</td><td>11092.728767123288</td></tr><tr><td>de5e9c66-e48a-11ea-8204-0242ac110002</td><td>61.11656973525727</td><td>125.02565617176346</td><td>25.419695278391345</td><td>30.988530099354687</td><td>38.422209893110434</td><td>10340.331506849316</td></tr><tr><td>de77202e-e48a-11ea-8204-0242ac110002</td><td>61.374530771407144</td><td>124.22253452875236</td><td>26.005817754580978</td><td>32.375794395627906</td><td>38.67083885555537</td><td>7196.361643835617</td></tr><tr><td>e43b84dc-e48a-11ea-8204-0242ac110002</td><td>52.618553148555286</td><td>110.08731363258508</td><td>19.337532485143683</td><td>37.84461475534781</td><td>35.49315781610685</td><td>13414.413698630136</td></tr><tr><td>e4bf655e-e48a-11ea-8204-0242ac110002</td><td>51.792029641237434</td><td>108.72894393217886</td><td>17.98023487193368</td><td>35.71122886273098</td><td>37.7168636056555</td><td>13939.17808219178</td></tr><tr><td>e78e9304-e48a-11ea-8204-0242ac110002</td><td>51.390543836087744</td><td>95.65545142916578</td><td>19.616806089311567</td><td>35.52965215515135</td><td>35.149083354829614</td><td>13327.016438356164</td></tr><tr><td>ed272268-e48a-11ea-8204-0242ac110002</td><td>52.384345965661005</td><td>96.29018072283736</td><td>17.229272530187263</td><td>35.93327296657029</td><td>39.488537817437226</td><td>13939.8</td></tr><tr><td>eee23a84-e48a-11ea-8204-0242ac110002</td><td>49.431263283989445</td><td>94.11411592643712</td><td>20.127177525184543</td><td>41.81798743141159</td><td>35.18992817102265</td><td>13430.44383561644</td></tr><tr><td>f570497c-e48a-11ea-8204-0242ac110002</td><td>85.52545026955532</td><td>133.2389212795569</td><td>21.487327847415347</td><td>21.308992184118306</td><td>40.08913016269376</td><td>7283.8410958904105</td></tr><tr><td>f588297a-e48a-11ea-8204-0242ac110002</td><td>79.38018597570343</td><td>150.0319406539588</td><td>26.10722131129375</td><td>24.50151432518615</td><td>5.173007379027553</td><td>5188.6547945205475</td></tr><tr><td>f9e4da72-e48a-11ea-8204-0242ac110002</td><td>73.86205135449453</td><td>140.1968866574789</td><td>29.420984325448355</td><td>28.04901629766088</td><td>32.92251822410247</td><td>6990.1123287671235</td></tr><tr><td>fbc635fc-e48a-11ea-8204-0242ac110002</td><td>83.19729028680509</td><td>174.56485207530582</td><td>21.135028657347892</td><td>23.70516024668906</td><td>6.000050679751631</td><td>5174.465753424657</td></tr><tr><td>fc81c1dc-e48a-11ea-8204-0242ac110002</td><td>63.133828850766996</td><td>132.15740630105938</td><td>29.11698146453668</td><td>32.94767392143365</td><td>36.33027121009201</td><td>10187.175342465753</td></tr><tr><td>d499f4b4-e48a-11ea-8204-0242ac110002</td><td>60.036906447910106</td><td>116.50853841568045</td><td>26.259218456845332</td><td>32.96264494238212</td><td>25.703278654679853</td><td>11677.931506849314</td></tr><tr><td>d917fcb6-e48a-11ea-8204-0242ac110002</td><td>54.28134299658563</td><td>117.03354288728103</td><td>20.161283170365557</td><td>36.77107198664776</td><td>35.0612603089892</td><td>13812.684931506848</td></tr><tr><td>de92c36a-e48a-11ea-8204-0242ac110002</td><td>59.696672900723684</td><td>112.76682579938621</td><td>23.85124546900044</td><td>34.368766563623474</td><td>41.26577877939166</td><td>7279.969863013699</td></tr><tr><td>e03624fa-e48a-11ea-8204-0242ac110002</td><td>54.945708082348766</td><td>118.58113027913242</td><td>22.581769591856776</td><td>37.94913870646003</td><td>46.08837213021851</td><td>11564.005479452055</td></tr><tr><td>f2eb429c-e48a-11ea-8204-0242ac110002</td><td>63.349234797627275</td><td>130.56284878324752</td><td>29.465455756380166</td><td>31.139321396716284</td><td>35.02626492337027</td><td>7098.432876712329</td></tr><tr><td>f4f7ad28-e48a-11ea-8204-0242ac110002</td><td>94.8586503067319</td><td>137.30999727559802</td><td>13.958622131586889</td><td>15.860396725202323</td><td>56.68443721218005</td><td>7684.953424657534</td></tr><tr><td>f8bab55e-e48a-11ea-8204-0242ac110002</td><td>84.52439192601861</td><td>140.95126880254566</td><td>20.51573057864418</td><td>22.21015316272662</td><td>42.232927925390335</td><td>7289.101369863014</td></tr><tr><td>fb34593e-e48a-11ea-8204-0242ac110002</td><td>87.95895916682275</td><td>131.76287147821827</td><td>17.265602557433624</td><td>17.46433191450828</td><td>48.12928384638729</td><td>7453.7479452054795</td></tr><tr><td>d3a8465a-e48a-11ea-8204-0242ac110002</td><td>58.60434862643907</td><td>134.67094497666878</td><td>23.26580798579684</td><td>34.56460131757791</td><td>43.220538639882335</td><td>11002.709589041096</td></tr><tr><td>d54d188c-e48a-11ea-8204-0242ac110002</td><td>56.93559514422796</td><td>112.88199814194881</td><td>23.197741294514703</td><td>37.080765691487436</td><td>30.502390387733627</td><td>12472.408219178082</td></tr><tr><td>d68e3672-e48a-11ea-8204-0242ac110002</td><td>63.26480113949964</td><td>122.61061777895682</td><td>27.829977954425956</td><td>31.078909612161013</td><td>36.3436632140844</td><td>7010.77808219178</td></tr><tr><td>d7039a0c-e48a-11ea-8204-0242ac110002</td><td>66.18080757875703</td><td>121.47800972881844</td><td>28.133255709129397</td><td>29.83778317473082</td><td>35.880607157040814</td><td>10327.619178082192</td></tr><tr><td>da4c4844-e48a-11ea-8204-0242ac110002</td><td>61.161841685916215</td><td>116.48023538627271</td><td>26.252972077664726</td><td>31.5998356541439</td><td>38.606345603709514</td><td>7233.183561643836</td></tr><tr><td>e0056630-e48a-11ea-8204-0242ac110002</td><td>60.53405407327022</td><td>110.54950900949781</td><td>23.65766417052111</td><td>33.98935231205849</td><td>29.494268628472152</td><td>12393.87397260274</td></tr><tr><td>e1b267e4-e48a-11ea-8204-0242ac110002</td><td>58.57094743982755</td><td>123.51001075363565</td><td>26.063117426437763</td><td>34.26068412248967</td><td>37.546560585486205</td><td>10366.416438356164</td></tr><tr><td>e2c2d678-e48a-11ea-8204-0242ac110002</td><td>52.027850360620405</td><td>99.96301038689208</td><td>15.923009807503544</td><td>35.987916147774456</td><td>42.35428845266895</td><td>14587.164383561643</td></tr><tr><td>e50953e4-e48a-11ea-8204-0242ac110002</td><td>51.37979517060368</td><td>121.88333181031625</td><td>19.60379381422235</td><td>37.03484824214531</td><td>49.16261753529497</td><td>11341.4301369863</td></tr><tr><td>e6e333ec-e48a-11ea-8204-0242ac110002</td><td>52.24689179861342</td><td>98.40676338652263</td><td>15.299235030214321</td><td>35.34186733277739</td><td>43.24929761082494</td><td>14756.120547945206</td></tr><tr><td>e740c4da-e48a-11ea-8204-0242ac110002</td><td>51.304019107702565</td><td>107.4044675286031</td><td>16.741506093064373</td><td>38.47921590160345</td><td>57.36982087697322</td><td>12224.120547945206</td></tr><tr><td>e965ff14-e48a-11ea-8204-0242ac110002</td><td>51.86209842541691</td><td>100.58950062163049</td><td>16.79727607362452</td><td>37.747147295866704</td><td>59.28411119880243</td><td>12293.509589041096</td></tr><tr><td>eaae2c5c-e48a-11ea-8204-0242ac110002</td><td>51.85873567423897</td><td>110.0067113569838</td><td>18.87800904635782</td><td>37.61278516215564</td><td>36.651177268010144</td><td>13480.197260273973</td></tr><tr><td>eb5b673c-e48a-11ea-8204-0242ac110002</td><td>48.54568825171694</td><td>98.7415474845754</td><td>25.657126474525246</td><td>47.865581809970074</td><td>29.006605171878867</td><td>12094.482191780822</td></tr><tr><td>efd8b260-e48a-11ea-8204-0242ac110002</td><td>50.69466667574024</td><td>102.5669337545321</td><td>20.651456807816242</td><td>38.06671031401044</td><td>35.07265389492312</td><td>13339.983561643836</td></tr><tr><td>f09efd8a-e48a-11ea-8204-0242ac110002</td><td>51.7372111181558</td><td>105.55225027163326</td><td>20.58955541145716</td><td>35.73390211789321</td><td>51.13267605451217</td><td>11583.684931506848</td></tr><tr><td>fb5d113a-e48a-11ea-8204-0242ac110002</td><td>62.09500176728598</td><td>117.69553404430732</td><td>31.250947159133815</td><td>33.64325787523994</td><td>35.25925831174727</td><td>10109.742465753425</td></tr><tr><td>fe0b9802-e48a-11ea-8204-0242ac110002</td><td>69.99710450735202</td><td>122.73367474704544</td><td>28.67637925298597</td><td>28.232355336649274</td><td>34.60605834430239</td><td>7023.704109589041</td></tr><tr><td>007dbb60-e48b-11ea-8204-0242ac110002</td><td>73.03301519285105</td><td>118.50464865660379</td><td>27.277566455764866</td><td>28.659579674475953</td><td>36.78524842061454</td><td>10305.506849315068</td></tr><tr><td>02433fa6-e48b-11ea-8204-0242ac110002</td><td>90.56336463403424</td><td>132.72085058866787</td><td>19.22673766623389</td><td>19.63788634512578</td><td>44.5981506050313</td><td>7419.717808219178</td></tr><tr><td>d8308dea-e48a-11ea-8204-0242ac110002</td><td>57.40375170050888</td><td>116.5242669776999</td><td>27.056626868225944</td><td>34.005457685529365</td><td>28.369876577823547</td><td>12077.742465753425</td></tr><tr><td>db0f84d0-e48a-11ea-8204-0242ac110002</td><td>59.24867835625371</td><td>116.75651098606524</td><td>23.07706698240328</td><td>33.88243255823257</td><td>31.12320539867008</td><td>12462.586301369864</td></tr><tr><td>dc0cbdd0-e48a-11ea-8204-0242ac110002</td><td>57.04036474027911</td><td>117.6876222034831</td><td>22.6586702566253</td><td>36.29877526446688</td><td>43.538167494195854</td><td>7223.402739726027</td></tr><tr><td>debfa81c-e48a-11ea-8204-0242ac110002</td><td>54.55419822150717</td><td>110.97374052560949</td><td>22.027844138244106</td><td>38.59271865016077</td><td>31.84638891772841</td><td>12769.391780821918</td></tr><tr><td>df4e3dac-e48a-11ea-8204-0242ac110002</td><td>65.29433963229101</td><td>135.06846154548484</td><td>28.15833597385826</td><td>26.73098229421267</td><td>34.593364928900854</td><td>7042.369863013699</td></tr><tr><td>e6cad4a0-e48a-11ea-8204-0242ac110002</td><td>47.30680566148874</td><td>104.86723809051702</td><td>23.46797691097089</td><td>46.42354862501897</td><td>32.546055821897866</td><td>12782.783561643835</td></tr><tr><td>ec6a0e80-e48a-11ea-8204-0242ac110002</td><td>51.795535330670226</td><td>105.77240336336138</td><td>16.72787799248346</td><td>37.58596522190293</td><td>39.33944413616018</td><td>14049.079452054795</td></tr><tr><td>eebe7a68-e48a-11ea-8204-0242ac110002</td><td>50.74699310439338</td><td>103.92431375724047</td><td>17.607463677181432</td><td>38.7986015806534</td><td>39.40159319570643</td><td>14194.616438356165</td></tr><tr><td>f38b5dfe-e48a-11ea-8204-0242ac110002</td><td>86.65669767965392</td><td>127.90495624158518</td><td>19.01762323073117</td><td>23.673811655278406</td><td>45.97940354413198</td><td>7445.6164383561645</td></tr><tr><td>f4040380-e48a-11ea-8204-0242ac110002</td><td>76.41374650370402</td><td>128.87041801764664</td><td>24.580216922329118</td><td>24.78930419245643</td><td>38.39723168191254</td><td>7124.186301369863</td></tr><tr><td>fb666d02-e48a-11ea-8204-0242ac110002</td><td>77.02058426532415</td><td>141.99845639052347</td><td>23.009088118597187</td><td>24.350972088610927</td><td>5.67457810225996</td><td>5131.54794520548</td></tr><tr><td>fbf8da0c-e48a-11ea-8204-0242ac110002</td><td>83.21878715981467</td><td>155.35536616139396</td><td>21.967900855364597</td><td>19.80101551826745</td><td>5.826705535026787</td><td>5138.021917808219</td></tr><tr><td>fdcaaf36-e48a-11ea-8204-0242ac110002</td><td>87.69234851463129</td><td>142.17224772383304</td><td>21.065737768514964</td><td>20.236508784882304</td><td>41.326406731624544</td><td>7224.183561643836</td></tr><tr><td>da060a0a-e48a-11ea-8204-0242ac110002</td><td>60.050105256400045</td><td>109.99573890048931</td><td>25.952285201153007</td><td>32.683915559326095</td><td>27.598054371006324</td><td>12276.649315068493</td></tr><tr><td>dac93200-e48a-11ea-8204-0242ac110002</td><td>56.49275327926298</td><td>114.54059607071302</td><td>21.747077016931602</td><td>34.446904914712825</td><td>33.29973417983038</td><td>13540.953424657535</td></tr><tr><td>db3cf5b4-e48a-11ea-8204-0242ac110002</td><td>57.37446787688233</td><td>114.39562417827285</td><td>23.407627733869738</td><td>35.30862019003548</td><td>42.55468988489801</td><td>7341.145205479452</td></tr><tr><td>dc4fb22a-e48a-11ea-8204-0242ac110002</td><td>58.06122525504476</td><td>114.93391735811856</td><td>24.41473450162436</td><td>33.15006290701331</td><td>39.83349158955206</td><td>10792.906849315068</td></tr><tr><td>df968864-e48a-11ea-8204-0242ac110002</td><td>60.371967892694876</td><td>120.834144381884</td><td>26.61380927551256</td><td>34.03078405730693</td><td>37.81995248331695</td><td>7154.495890410959</td></tr><tr><td>e18655aa-e48a-11ea-8204-0242ac110002</td><td>54.1644315103787</td><td>103.18290445204391</td><td>18.912678704822834</td><td>36.20466019900128</td><td>37.300013986202856</td><td>14346.77808219178</td></tr><tr><td>e30be8e0-e48a-11ea-8204-0242ac110002</td><td>51.90188956385291</td><td>101.53758769748447</td><td>19.61559851372494</td><td>36.82424542633642</td><td>35.7420741220479</td><td>13878.764383561644</td></tr><tr><td>e3b9c8d4-e48a-11ea-8204-0242ac110002</td><td>51.88358923659281</td><td>109.82581670603513</td><td>16.341091215639803</td><td>37.49573899794306</td><td>40.8379790762771</td><td>14844.17808219178</td></tr><tr><td>e5803608-e48a-11ea-8204-0242ac110002</td><td>47.38327639624978</td><td>102.17203822170465</td><td>25.0449583677272</td><td>45.73041060434734</td><td>31.43667584440403</td><td>13080.660273972602</td></tr><tr><td>e90ee6ca-e48a-11ea-8204-0242ac110002</td><td>49.87306409303781</td><td>105.62814782230969</td><td>22.136401947072052</td><td>40.75715154182441</td><td>47.076352458871</td><td>11619.912328767123</td></tr><tr><td>e94dc1ec-e48a-11ea-8204-0242ac110002</td><td>52.279641078005845</td><td>101.57665632976527</td><td>16.916960005803144</td><td>37.519021466656305</td><td>58.15410429542508</td><td>12817.742465753425</td></tr><tr><td>ec389a3a-e48a-11ea-8204-0242ac110002</td><td>47.757997343322785</td><td>110.73789643268775</td><td>24.523118665985713</td><td>43.19241049385844</td><td>46.49734530940597</td><td>11698.619178082192</td></tr><tr><td>ee604aba-e48a-11ea-8204-0242ac110002</td><td>52.28382816965788</td><td>110.03935860883018</td><td>16.901597712170734</td><td>33.72021572285373</td><td>41.02281762268209</td><td>14989.301369863013</td></tr><tr><td>f3dcc77a-e48a-11ea-8204-0242ac110002</td><td>76.62052532740138</td><td>121.34800977966687</td><td>23.891324840319115</td><td>25.304774987618025</td><td>39.80490009842157</td><td>10928.980821917808</td></tr><tr><td>f7dc0eda-e48a-11ea-8204-0242ac110002</td><td>72.69727424239056</td><td>138.81658845480243</td><td>25.257125161814233</td><td>24.904846959681702</td><td>36.84273488501997</td><td>7074.608219178082</td></tr><tr><td>f7ef49dc-e48a-11ea-8204-0242ac110002</td><td>82.45806347868694</td><td>142.37041530639883</td><td>24.673098166571933</td><td>24.5103186849087</td><td>5.191275166793198</td><td>5109.627397260274</td></tr><tr><td>f9ee9300-e48a-11ea-8204-0242ac110002</td><td>80.60116072875402</td><td>138.5905325707344</td><td>25.45964128596801</td><td>25.534671666190494</td><td>36.4520101513977</td><td>7147.060273972603</td></tr><tr><td>fa57e292-e48a-11ea-8204-0242ac110002</td><td>73.07182861292411</td><td>136.08592109556756</td><td>25.53357981834978</td><td>25.70170534145554</td><td>5.285751077395181</td><td>5152.194520547945</td></tr><tr><td>fb4261a0-e48a-11ea-8204-0242ac110002</td><td>75.12443311051973</td><td>142.05207109549784</td><td>25.94702461942228</td><td>24.54496346895654</td><td>5.193026876907001</td><td>5155.561643835616</td></tr><tr><td>fcc6f748-e48a-11ea-8204-0242ac110002</td><td>74.13871713788559</td><td>114.25243561735049</td><td>24.218945079824984</td><td>25.815763391757784</td><td>38.71513491740559</td><td>10762.931506849314</td></tr><tr><td>00337974-e48b-11ea-8204-0242ac110002</td><td>89.79743806208528</td><td>152.631637108012</td><td>17.76383666815434</td><td>19.07515065992139</td><td>6.746997303777693</td><td>5188.791780821918</td></tr><tr><td>011639bc-e48b-11ea-8204-0242ac110002</td><td>68.79908019300508</td><td>111.57732425719618</td><td>27.819443890433092</td><td>28.66791604661916</td><td>24.81849640632771</td><td>11399.326027397261</td></tr><tr><td>d76c87ec-e48a-11ea-8204-0242ac110002</td><td>60.61395871256956</td><td>109.85351402876162</td><td>26.742800639652277</td><td>31.36660269733902</td><td>27.109741402240257</td><td>11733.452054794521</td></tr><tr><td>d7e870c8-e48a-11ea-8204-0242ac110002</td><td>58.611991683118795</td><td>118.72983864594788</td><td>25.73459233052918</td><td>32.973882790786874</td><td>42.04832778196003</td><td>10713.931506849314</td></tr><tr><td>dbd5a610-e48a-11ea-8204-0242ac110002</td><td>52.27925842397876</td><td>115.82377368229831</td><td>16.461301895790317</td><td>40.56026049793733</td><td>56.20517557594792</td><td>11988.504109589041</td></tr><tr><td>dca752c8-e48a-11ea-8204-0242ac110002</td><td>51.71091925670311</td><td>115.970186923561</td><td>18.19972132731587</td><td>39.73876584103674</td><td>50.850687536339414</td><td>11566.109589041096</td></tr><tr><td>dd82ec66-e48a-11ea-8204-0242ac110002</td><td>52.34832291045158</td><td>118.74866135364226</td><td>21.911023265429616</td><td>37.605301570302906</td><td>44.77622733835064</td><td>10913.85205479452</td></tr><tr><td>de8297d8-e48a-11ea-8204-0242ac110002</td><td>61.42131995568504</td><td>114.40213969472232</td><td>27.292849068198624</td><td>31.087084209597474</td><td>26.940142451237893</td><td>11774.08493150685</td></tr><tr><td>df764a86-e48a-11ea-8204-0242ac110002</td><td>54.71673176618614</td><td>103.68101908687055</td><td>17.76680290367664</td><td>40.48759165618871</td><td>37.538702021834844</td><td>13875.643835616438</td></tr><tr><td>e3866ed0-e48a-11ea-8204-0242ac110002</td><td>51.54780700113487</td><td>99.93305764396133</td><td>19.597158160144676</td><td>37.6982255234929</td><td>35.05337961438132</td><td>13403.761643835616</td></tr><tr><td>eaa60e64-e48a-11ea-8204-0242ac110002</td><td>50.009002308091816</td><td>97.17862869421273</td><td>22.607859907013165</td><td>40.104884815192904</td><td>32.243748815160664</td><td>12766.66301369863</td></tr><tr><td>ebd67148-e48a-11ea-8204-0242ac110002</td><td>50.19276916526934</td><td>95.23530145169518</td><td>21.73136634710522</td><td>37.32935031617254</td><td>34.037015604399684</td><td>13153.698630136987</td></tr><tr><td>efcd6ad6-e48a-11ea-8204-0242ac110002</td><td>52.693679635402994</td><td>112.06884754047378</td><td>13.715907371843103</td><td>33.7621524738883</td><td>68.53627348826153</td><td>13163.780821917808</td></tr><tr><td>f05a4bb8-e48a-11ea-8204-0242ac110002</td><td>48.562938868011614</td><td>91.76251901212635</td><td>23.93446205340052</td><td>44.251975086941094</td><td>43.810199566382586</td><td>10978.972602739726</td></tr><tr><td>f1691714-e48a-11ea-8204-0242ac110002</td><td>51.39244562649121</td><td>118.00394986409893</td><td>21.326797406966865</td><td>38.39086133215872</td><td>46.53566709812955</td><td>11020.295890410958</td></tr><tr><td>f891757c-e48a-11ea-8204-0242ac110002</td><td>76.91466609829983</td><td>126.50625838872521</td><td>22.13073183694258</td><td>25.221245414679057</td><td>40.39662513318929</td><td>10566.257534246575</td></tr><tr><td>fe952cd4-e48a-11ea-8204-0242ac110002</td><td>66.4659469701817</td><td>133.61200790721205</td><td>29.59521859104199</td><td>32.9432175421907</td><td>34.258969923324365</td><td>6974.030136986301</td></tr><tr><td>01e04aa4-e48b-11ea-8204-0242ac110002</td><td>75.87241332954204</td><td>144.04122160463126</td><td>25.21266826798853</td><td>26.698668235737323</td><td>37.61636006164831</td><td>7142.945205479452</td></tr><tr><td>d60ae4de-e48a-11ea-8204-0242ac110002</td><td>65.09443389021877</td><td>115.11933899654937</td><td>30.534555761268297</td><td>29.26736263630372</td><td>24.881258646333208</td><td>11577.030136986301</td></tr><tr><td>d65bb29c-e48a-11ea-8204-0242ac110002</td><td>63.754478270084235</td><td>136.37618282724523</td><td>30.04420521854382</td><td>30.327438810698073</td><td>34.33886684907563</td><td>10050.567123287672</td></tr><tr><td>d8a97200-e48a-11ea-8204-0242ac110002</td><td>58.63084481320134</td><td>113.25985263616464</td><td>23.88992048486576</td><td>34.32311656479277</td><td>41.03868481741202</td><td>7307.734246575343</td></tr><tr><td>db8e77ae-e48a-11ea-8204-0242ac110002</td><td>57.74409026049309</td><td>118.17414212697211</td><td>25.318281830456907</td><td>32.55058016284553</td><td>39.60467268017598</td><td>10492.728767123288</td></tr><tr><td>dccc95d8-e48a-11ea-8204-0242ac110002</td><td>55.97399946709283</td><td>116.63857952031229</td><td>21.528508943969836</td><td>37.21616253944957</td><td>45.364026519192365</td><td>11081.232876712329</td></tr><tr><td>ded3f902-e48a-11ea-8204-0242ac110002</td><td>55.56364441103787</td><td>123.23252811687779</td><td>23.60847936642274</td><td>35.09587203712427</td><td>43.45936870409898</td><td>11041.936986301369</td></tr><tr><td>e01db8c0-e48a-11ea-8204-0242ac110002</td><td>57.165595681135535</td><td>116.93415886567132</td><td>22.03440862553645</td><td>36.90327346199233</td><td>32.542321398703706</td><td>12769.383561643835</td></tr><tr><td>e32fb8e2-e48a-11ea-8204-0242ac110002</td><td>51.33988885994735</td><td>97.62022929345018</td><td>18.706184866322268</td><td>36.80454676244681</td><td>36.57370954155426</td><td>13597.295890410958</td></tr><tr><td>e54fe598-e48a-11ea-8204-0242ac110002</td><td>48.9938535812492</td><td>96.55166414333543</td><td>25.831755124007465</td><td>40.7926134180722</td><td>30.850097010287243</td><td>12424.684931506848</td></tr><tr><td>e6eb5e82-e48a-11ea-8204-0242ac110002</td><td>53.12080310297062</td><td>105.7068821599469</td><td>13.553584561737209</td><td>33.35544821621486</td><td>64.58975344037695</td><td>12980.14794520548</td></tr><tr><td>ef45df30-e48a-11ea-8204-0242ac110002</td><td>49.81695630455849</td><td>95.7078124615437</td><td>21.178848303872016</td><td>39.798867006636264</td><td>33.97957987426971</td><td>13058.380821917808</td></tr><tr><td>f178b980-e48a-11ea-8204-0242ac110002</td><td>48.61732512108433</td><td>106.73741052212725</td><td>25.37339772264201</td><td>45.79319446942412</td><td>44.916944682085465</td><td>11068.345205479452</td></tr><tr><td>ffb7b622-e48a-11ea-8204-0242ac110002</td><td>76.06711231509303</td><td>135.6088418861024</td><td>22.673154905444186</td><td>23.2213208522061</td><td>39.73374694783692</td><td>7340.928767123288</td></tr><tr><td>00be826c-e48b-11ea-8204-0242ac110002</td><td>91.78362304967129</td><td>129.78489715444067</td><td>17.190082595544958</td><td>15.958628014380402</td><td>48.856428542938154</td><td>7471.553424657534</td></tr><tr><td>d6f6ec30-e48a-11ea-8204-0242ac110002</td><td>57.95667282844952</td><td>117.42153129646717</td><td>26.316222765465675</td><td>32.34644028134208</td><td>27.753405876724376</td><td>11888.208219178083</td></tr><tr><td>da483f2e-e48a-11ea-8204-0242ac110002</td><td>56.71542849136317</td><td>120.6598609948806</td><td>22.88614999057025</td><td>37.25676444863729</td><td>41.55576067633671</td><td>10875.287671232876</td></tr><tr><td>dec7ea68-e48a-11ea-8204-0242ac110002</td><td>53.73258518418602</td><td>117.81679017260672</td><td>22.039365933116528</td><td>36.16237387267516</td><td>45.65280862489404</td><td>7332.230136986302</td></tr><tr><td>e0c62834-e48a-11ea-8204-0242ac110002</td><td>57.93505763255714</td><td>110.47443873251835</td><td>23.542680048179278</td><td>32.77840871289809</td><td>29.380548290887273</td><td>12270.367123287671</td></tr><tr><td>e12a8cfc-e48a-11ea-8204-0242ac110002</td><td>62.24400760986823</td><td>134.14549955417135</td><td>30.10453983492369</td><td>28.783015788095724</td><td>34.99435833186795</td><td>7197.361643835617</td></tr><tr><td>e24b7bd2-e48a-11ea-8204-0242ac110002</td><td>53.90823283387261</td><td>111.49204762097959</td><td>16.26004735116332</td><td>33.459437417185306</td><td>40.5340551845257</td><td>14291.372602739726</td></tr><tr><td>e5b90d52-e48a-11ea-8204-0242ac110002</td><td>50.23189404290919</td><td>103.88878267024752</td><td>19.878550822867005</td><td>37.603386898275964</td><td>36.70095857565445</td><td>13466.09589041096</td></tr><tr><td>e80fe83c-e48a-11ea-8204-0242ac110002</td><td>50.810974081194445</td><td>96.72701851990291</td><td>19.765414167403016</td><td>39.68712404273563</td><td>35.61460185386591</td><td>13193.920547945205</td></tr><tr><td>ed4fb840-e48a-11ea-8204-0242ac110002</td><td>48.110022051006524</td><td>93.80892203731706</td><td>24.218215396159835</td><td>46.02670146860746</td><td>30.411112473587963</td><td>12296.605479452055</td></tr><tr><td>ede79b1a-e48a-11ea-8204-0242ac110002</td><td>50.56569418135739</td><td>112.63144254349373</td><td>20.266363099770864</td><td>41.351517132050525</td><td>50.7824808164742</td><td>11491.550684931506</td></tr><tr><td>eea9ff16-e48a-11ea-8204-0242ac110002</td><td>52.169554234195815</td><td>109.91997958791406</td><td>17.775780598385058</td><td>34.91161282174952</td><td>56.82792204418252</td><td>12107.65205479452</td></tr><tr><td>fabf70e2-e48a-11ea-8204-0242ac110002</td><td>69.71551319459671</td><td>143.8472477474902</td><td>26.568157980601903</td><td>26.11288087600854</td><td>5.280635917776737</td><td>5201.904109589041</td></tr><tr><td>fbb0d07c-e48a-11ea-8204-0242ac110002</td><td>80.84923891246515</td><td>130.56499169061928</td><td>20.883321604335347</td><td>21.213976085754275</td><td>42.35544566726539</td><td>7269.671232876713</td></tr><tr><td>d9734418-e48a-11ea-8204-0242ac110002</td><td>62.941062264718006</td><td>124.93585373720265</td><td>25.511677103694115</td><td>31.62185328629116</td><td>40.39544898996745</td><td>10623.230136986302</td></tr><tr><td>da6908e4-e48a-11ea-8204-0242ac110002</td><td>56.93138249497364</td><td>125.61731585225127</td><td>23.44003001615754</td><td>33.22026259447376</td><td>42.99141153804019</td><td>10970.0</td></tr><tr><td>df0e10ba-e48a-11ea-8204-0242ac110002</td><td>60.230703475408866</td><td>123.38365460823671</td><td>27.08783544140755</td><td>31.335716499516273</td><td>36.94141954066629</td><td>7090.852054794521</td></tr><tr><td>e275d1de-e48a-11ea-8204-0242ac110002</td><td>48.244139874603896</td><td>104.28076208413611</td><td>27.214351535864495</td><td>46.36537984102017</td><td>29.76294035175649</td><td>12480.019178082192</td></tr><tr><td>e686e7ea-e48a-11ea-8204-0242ac110002</td><td>49.64915248481883</td><td>102.27377440270291</td><td>22.766892994366625</td><td>43.82230953250608</td><td>44.630568415296956</td><td>11006.082191780823</td></tr><tr><td>ed9e6e36-e48a-11ea-8204-0242ac110002</td><td>49.709389081216116</td><td>87.53102193184509</td><td>22.480060601537346</td><td>40.78668675070441</td><td>33.1420517951398</td><td>12941.602739726028</td></tr><tr><td>ee0cf248-e48a-11ea-8204-0242ac110002</td><td>48.88530830682945</td><td>98.07288173904222</td><td>23.29455822267727</td><td>41.808633655368226</td><td>32.16106149037547</td><td>12899.506849315068</td></tr><tr><td>f0926674-e48a-11ea-8204-0242ac110002</td><td>52.92652685941721</td><td>104.85560815464399</td><td>17.815393853814466</td><td>31.555115399239924</td><td>39.16862159627757</td><td>13913.65205479452</td></tr><tr><td>f230b44a-e48a-11ea-8204-0242ac110002</td><td>70.11199906693497</td><td>145.31252422990744</td><td>28.242980624903222</td><td>24.405670204196035</td><td>35.019893856719726</td><td>7059.964383561643</td></tr><tr><td>f5a48e08-e48a-11ea-8204-0242ac110002</td><td>85.58990959022798</td><td>149.7240273927891</td><td>21.60018419750465</td><td>20.66598914819976</td><td>5.709645559386087</td><td>5120.865753424658</td></tr><tr><td>f80bbd88-e48a-11ea-8204-0242ac110002</td><td>87.56365120120763</td><td>151.25881197259585</td><td>19.528600302111276</td><td>20.55051843451458</td><td>6.355359959303167</td><td>5258.479452054795</td></tr><tr><td>fccb6eae-e48a-11ea-8204-0242ac110002</td><td>64.46127968540253</td><td>126.59090476338571</td><td>31.796521066477442</td><td>30.172881323215922</td><td>33.64814933772654</td><td>6969.789041095891</td></tr><tr><td>fdf7910e-e48a-11ea-8204-0242ac110002</td><td>88.61175635081773</td><td>154.18935039873205</td><td>19.296440835375726</td><td>19.575723669289722</td><td>6.397381311497759</td><td>5195.556164383562</td></tr><tr><td>ffa41ae0-e48a-11ea-8204-0242ac110002</td><td>86.2770783256306</td><td>128.99006837304995</td><td>20.449855403786174</td><td>21.795667489176537</td><td>42.468802272556765</td><td>7421.3835616438355</td></tr><tr><td>00aa978e-e48b-11ea-8204-0242ac110002</td><td>76.33341892264967</td><td>138.7795476586327</td><td>26.27111407090873</td><td>26.521328911180536</td><td>36.1982445141474</td><td>7088.246575342466</td></tr><tr><td>0143da48-e48b-11ea-8204-0242ac110002</td><td>78.65877986732369</td><td>135.37777913018073</td><td>26.67837013162875</td><td>25.133734295017597</td><td>35.21555608160214</td><td>6989.350684931507</td></tr><tr><td>01b4b1aa-e48b-11ea-8204-0242ac110002</td><td>85.04365028908231</td><td>141.1904457541055</td><td>20.70897002850501</td><td>19.968674723798564</td><td>41.991511756512324</td><td>7185.961643835616</td></tr><tr><td>d37ab672-e48a-11ea-8204-0242ac110002</td><td>55.861870809585845</td><td>108.48017276473779</td><td>23.143239953790705</td><td>33.43399114985911</td><td>29.88926070783344</td><td>12178.024657534246</td></tr><tr><td>d6505bae-e48a-11ea-8204-0242ac110002</td><td>57.65786534595617</td><td>120.37503973106395</td><td>24.403586728513744</td><td>32.53932065500557</td><td>42.08318637431461</td><td>10721.646575342465</td></tr><tr><td>e196cdf4-e48a-11ea-8204-0242ac110002</td><td>62.844140599519065</td><td>116.85710670133167</td><td>27.696896558439672</td><td>30.245941166113177</td><td>37.298060718520034</td><td>7084.695890410959</td></tr><tr><td>e2eb62a0-e48a-11ea-8204-0242ac110002</td><td>53.8499971944348</td><td>111.75882906467271</td><td>15.229845589924443</td><td>31.07434252511388</td><td>41.53864358102939</td><td>14595.709589041096</td></tr><tr><td>ed805644-e48a-11ea-8204-0242ac110002</td><td>52.30216762613208</td><td>108.73247805323427</td><td>15.429292961404542</td><td>36.22001721280708</td><td>58.389633642855486</td><td>12257.460273972603</td></tr><tr><td>ed90fecc-e48a-11ea-8204-0242ac110002</td><td>52.27335080798567</td><td>105.55820447725095</td><td>19.78867272068144</td><td>35.26229158455624</td><td>36.01886961456622</td><td>13461.482191780822</td></tr><tr><td>ef30beb6-e48a-11ea-8204-0242ac110002</td><td>50.85963067518544</td><td>97.57658153893723</td><td>18.942910932572573</td><td>39.58513668612304</td><td>37.49227877634065</td><td>13669.767123287671</td></tr><tr><td>f07699d0-e48a-11ea-8204-0242ac110002</td><td>51.84502286831189</td><td>112.37524482914081</td><td>19.41292973153959</td><td>34.76233556255001</td><td>36.5072020325695</td><td>13590.728767123288</td></tr><tr><td>f104f144-e48a-11ea-8204-0242ac110002</td><td>48.2481702861771</td><td>102.39138826417405</td><td>24.977220427091684</td><td>45.20330316458817</td><td>29.55337754606982</td><td>12192.05205479452</td></tr><tr><td>f9b72154-e48a-11ea-8204-0242ac110002</td><td>63.82246980934964</td><td>132.62699392749155</td><td>29.81305731050126</td><td>31.55870276819882</td><td>34.56841601056185</td><td>6961.054794520548</td></tr><tr><td>f9d482d0-e48a-11ea-8204-0242ac110002</td><td>77.78928408909773</td><td>138.01604075611826</td><td>25.359557945263187</td><td>22.369290755775904</td><td>35.52708090343086</td><td>7071.871232876712</td></tr><tr><td>fa53b014-e48a-11ea-8204-0242ac110002</td><td>63.60575223699051</td><td>143.51437814496046</td><td>31.2222438838391</td><td>29.06129215509836</td><td>4.801860282033583</td><td>5152.605479452055</td></tr><tr><td>d5d54040-e48a-11ea-8204-0242ac110002</td><td>59.78665652590695</td><td>113.30570823446087</td><td>27.26044370288362</td><td>32.2286912408749</td><td>26.549823072366</td><td>11783.180821917807</td></tr><tr><td>d903def2-e48a-11ea-8204-0242ac110002</td><td>61.381406016206036</td><td>114.08226883611219</td><td>26.960749993987893</td><td>30.58414683275863</td><td>27.56548550385671</td><td>11819.676712328766</td></tr><tr><td>dad6bd8a-e48a-11ea-8204-0242ac110002</td><td>54.42213856201946</td><td>116.91116416071802</td><td>20.94533999234218</td><td>36.401413888388014</td><td>46.91761315127553</td><td>7324.572602739726</td></tr><tr><td>df565b2c-e48a-11ea-8204-0242ac110002</td><td>61.87288735184264</td><td>126.89188564644219</td><td>26.883385792038755</td><td>33.52822247752566</td><td>38.54721778639395</td><td>10295.279452054794</td></tr><tr><td>e065ba76-e48a-11ea-8204-0242ac110002</td><td>52.90015247723608</td><td>111.42438865151135</td><td>17.08922527254259</td><td>39.879288912329926</td><td>56.950460239204176</td><td>11999.367123287671</td></tr><tr><td>e4b3a8ae-e48a-11ea-8204-0242ac110002</td><td>51.4466618023817</td><td>87.79573121555752</td><td>17.589993398944177</td><td>37.02881515293278</td><td>38.63964929457289</td><td>13917.323287671234</td></tr><tr><td>e5581a9c-e48a-11ea-8204-0242ac110002</td><td>50.100941219448316</td><td>94.39173123342484</td><td>21.02014132283705</td><td>39.477230234797</td><td>34.678509725836605</td><td>13356.342465753425</td></tr><tr><td>f476481e-e48a-11ea-8204-0242ac110002</td><td>75.56066108899132</td><td>117.50339540314098</td><td>26.838447001047392</td><td>26.613715061473002</td><td>35.3100660084595</td><td>10172.8</td></tr><tr><td>f4ad5ebc-e48a-11ea-8204-0242ac110002</td><td>68.15598680446494</td><td>154.32788767664513</td><td>28.408191381611314</td><td>28.310345766782344</td><td>34.31182757876962</td><td>7023.684931506849</td></tr><tr><td>f85a74c8-e48a-11ea-8204-0242ac110002</td><td>69.30663886623927</td><td>129.49509776515083</td><td>28.3819595998054</td><td>27.57909498259879</td><td>34.8728731806847</td><td>7002.315068493151</td></tr><tr><td>f9260c00-e48a-11ea-8204-0242ac110002</td><td>73.45478907310202</td><td>147.37589389305447</td><td>25.021989871377563</td><td>26.02912942012068</td><td>5.404552382650996</td><td>5176.301369863014</td></tr><tr><td>d2cb3166-e48a-11ea-8204-0242ac110002</td><td>57.89206597368129</td><td>117.34859398620202</td><td>24.75631963930908</td><td>32.958863516942756</td><td>29.049653751500102</td><td>12600.186301369862</td></tr><tr><td>d7f79ecc-e48a-11ea-8204-0242ac110002</td><td>59.70173920373684</td><td>115.61135864287056</td><td>24.629859707976223</td><td>34.26294343034571</td><td>28.26245520020928</td><td>12333.898630136986</td></tr><tr><td>d8bd9082-e48a-11ea-8204-0242ac110002</td><td>60.88386114539889</td><td>125.48157424510035</td><td>26.37183729664383</td><td>32.935190409147545</td><td>38.18216968967755</td><td>7185.602739726028</td></tr><tr><td>dcd8ee96-e48a-11ea-8204-0242ac110002</td><td>58.67513465619673</td><td>114.81637335515181</td><td>26.223507486876347</td><td>34.115485047878266</td><td>41.44177718375021</td><td>11179.964383561644</td></tr><tr><td>dea2f8de-e48a-11ea-8204-0242ac110002</td><td>61.6160076965517</td><td>132.1575915777525</td><td>29.214987110457216</td><td>28.55200873707323</td><td>35.315380841293674</td><td>7071.309589041096</td></tr><tr><td>df1e2658-e48a-11ea-8204-0242ac110002</td><td>57.79090434270172</td><td>113.48672292253409</td><td>24.58697369729779</td><td>34.10867280906385</td><td>28.34782775328702</td><td>12355.117808219178</td></tr><tr><td>e175ffd4-e48a-11ea-8204-0242ac110002</td><td>55.66397084404733</td><td>115.74118317285605</td><td>18.540802014734844</td><td>35.38276574356398</td><td>35.20058505138419</td><td>13661.55616438356</td></tr><tr><td>ec2762ba-e48a-11ea-8204-0242ac110002</td><td>52.8441469188351</td><td>102.95090267933823</td><td>18.224779182419883</td><td>37.017930590522795</td><td>37.59323329527445</td><td>14279.953424657535</td></tr><tr><td>f08e573c-e48a-11ea-8204-0242ac110002</td><td>49.81810232247416</td><td>93.82346077209935</td><td>20.500819186027325</td><td>41.96522993068775</td><td>34.665584542770816</td><td>13623.128767123288</td></tr><tr><td>f550e956-e48a-11ea-8204-0242ac110002</td><td>75.66324736410031</td><td>129.25310233755707</td><td>23.04929049310488</td><td>25.848400399973336</td><td>39.43233310254565</td><td>7195.621917808219</td></tr><tr><td>f583cf7e-e48a-11ea-8204-0242ac110002</td><td>59.461133711798084</td><td>127.72455541466206</td><td>32.14386805515248</td><td>30.679419609805784</td><td>33.67694723800225</td><td>7035.449315068493</td></tr><tr><td>f9057dbe-e48a-11ea-8204-0242ac110002</td><td>90.03768405949508</td><td>144.2294157205421</td><td>18.72742168682911</td><td>20.45548203900439</td><td>6.552069139492742</td><td>5246.3369863013695</td></tr><tr><td>00e65b8e-e48b-11ea-8204-0242ac110002</td><td>57.94548196762418</td><td>136.19133883336912</td><td>32.83360988345788</td><td>31.04002304494557</td><td>33.5751369225473</td><td>6968.054794520548</td></tr><tr><td>023d2df0-e48b-11ea-8204-0242ac110002</td><td>85.30888261659175</td><td>141.7124865877084</td><td>26.326650995920684</td><td>23.446564071470814</td><td>4.926707230906863</td><td>5152.742465753425</td></tr><tr><td>d3f4bc24-e48a-11ea-8204-0242ac110002</td><td>61.652766021920414</td><td>121.37708346141778</td><td>26.823912934209385</td><td>33.39299372602369</td><td>27.191694231532054</td><td>11895.079452054795</td></tr><tr><td>d8348436-e48a-11ea-8204-0242ac110002</td><td>61.808568830306434</td><td>131.12511890693497</td><td>28.1394153436464</td><td>30.75153968260508</td><td>35.62719500568843</td><td>10312.049315068492</td></tr><tr><td>d9541b60-e48a-11ea-8204-0242ac110002</td><td>56.92782277672679</td><td>132.66102759239462</td><td>25.042784344096763</td><td>33.312178624604336</td><td>39.76527588148516</td><td>7241.824657534246</td></tr><tr><td>db0b154e-e48a-11ea-8204-0242ac110002</td><td>59.882387338108316</td><td>125.64828889300395</td><td>27.79130026749712</td><td>31.50780677670688</td><td>37.79257032990701</td><td>10537.027397260274</td></tr><tr><td>dd0a2290-e48a-11ea-8204-0242ac110002</td><td>57.25465294961517</td><td>115.99647068308656</td><td>24.224572799138876</td><td>35.58131003997515</td><td>42.25208461738107</td><td>10841.241095890411</td></tr><tr><td>dde2127c-e48a-11ea-8204-0242ac110002</td><td>56.817393871565535</td><td>107.07546203408585</td><td>21.906211984341702</td><td>34.69260064769794</td><td>31.311724180749618</td><td>12622.517808219178</td></tr><tr><td>ddf5982e-e48a-11ea-8204-0242ac110002</td><td>50.63985379280536</td><td>117.21921064510943</td><td>18.69798737935665</td><td>39.92700201450553</td><td>37.01341707542084</td><td>13608.08493150685</td></tr><tr><td>ecc0f3ee-e48a-11ea-8204-0242ac110002</td><td>50.25365198761861</td><td>95.79577903785572</td><td>24.122579742598358</td><td>39.328554765320085</td><td>31.105601629428428</td><td>12699.895890410959</td></tr></tbody></table>Showing the first 1000 rows.</div>"
      ]
     },
     "metadata": {
      "application/vnd.databricks.v1+output": {
       "addedWidgets": {},
       "aggData": [],
       "aggError": "",
       "aggOverflow": false,
       "aggSchema": [],
       "aggSeriesLimitReached": false,
       "aggType": "",
       "arguments": {},
       "columnCustomDisplayInfos": {},
       "data": [
        [
         "fce425f2-e48a-11ea-8204-0242ac110002",
         73.84670492514974,
         141.7665518846971,
         25.972345531696856,
         30.314501989400497,
         35.606040834647395,
         7007.131506849315
        ],
        [
         "fd2073e0-e48a-11ea-8204-0242ac110002",
         66.65136141242354,
         147.19021975989776,
         28.65722391606316,
         26.331489109483055,
         4.933198514612545,
         5222.191780821918
        ],
        [
         "d5b6536a-e48a-11ea-8204-0242ac110002",
         61.535264221129054,
         115.35464938159883,
         28.069176174299653,
         30.505853565396492,
         26.80897921409271,
         11651.545205479451
        ],
        [
         "d62d31e2-e48a-11ea-8204-0242ac110002",
         60.12761602451012,
         109.56012470925296,
         24.272346749436057,
         33.00945987357762,
         30.203698416630907,
         12232.284931506849
        ],
        [
         "d72e7fc4-e48a-11ea-8204-0242ac110002",
         57.67928187578235,
         107.34804493259925,
         26.13666783325289,
         33.622191930293454,
         41.92978275902913,
         10685.441095890412
        ],
        [
         "da9cb91e-e48a-11ea-8204-0242ac110002",
         61.254321931199726,
         124.84391666265059,
         24.675104593153517,
         32.24746097933756,
         41.34549212923959,
         10838.29315068493
        ],
        [
         "dc1ca6a0-e48a-11ea-8204-0242ac110002",
         59.123912011085615,
         121.6281244436266,
         26.215711176682024,
         33.23270077091007,
         38.055842131738046,
         7065.627397260274
        ],
        [
         "e05a010e-e48a-11ea-8204-0242ac110002",
         59.16707870402215,
         116.63147065007492,
         23.407247625285702,
         32.46844382359828,
         29.13189427605095,
         12333.975342465754
        ],
        [
         "e3238450-e48a-11ea-8204-0242ac110002",
         51.09170520840786,
         100.52788927517386,
         18.986985488002624,
         36.84238854947035,
         36.64032984626558,
         13517.109589041096
        ],
        [
         "e4f5dbe8-e48a-11ea-8204-0242ac110002",
         54.801011028249995,
         106.12513976241605,
         12.015741781532324,
         32.37704612619004,
         50.81642676699068,
         15935.090410958905
        ],
        [
         "e59ca0a4-e48a-11ea-8204-0242ac110002",
         52.1729276612092,
         111.57535937884641,
         15.552439959550469,
         37.59653866674845,
         41.975831357511225,
         14439.605479452055
        ],
        [
         "e5b0cc1e-e48a-11ea-8204-0242ac110002",
         48.104230983510874,
         92.72362260806608,
         22.489283259356313,
         42.552903632600746,
         32.723643809631575,
         12853.046575342465
        ],
        [
         "eb166128-e48a-11ea-8204-0242ac110002",
         51.43238471397177,
         105.74228896808134,
         20.07048691407893,
         39.83324495449514,
         50.66111903277378,
         11489.575342465754
        ],
        [
         "eca52fce-e48a-11ea-8204-0242ac110002",
         52.78053533714782,
         103.65728791017254,
         16.23135862384661,
         35.16656333113875,
         57.510652278844304,
         12417.002739726027
        ],
        [
         "ecb0f67e-e48a-11ea-8204-0242ac110002",
         49.8238962579808,
         109.1045676499074,
         20.49992189885868,
         40.81412092234653,
         33.49009296189286,
         12956.421917808218
        ],
        [
         "ed062c70-e48a-11ea-8204-0242ac110002",
         49.14238265530357,
         107.32996469724922,
         21.442113302929403,
         40.17313241509794,
         34.5672112110386,
         13278.356164383562
        ],
        [
         "f22cdd02-e48a-11ea-8204-0242ac110002",
         84.8886924656848,
         134.04225881844263,
         18.042817588658984,
         23.579057397613973,
         46.470922797302535,
         7480.556164383562
        ],
        [
         "f35c9564-e48a-11ea-8204-0242ac110002",
         78.27364945255148,
         141.89891821172094,
         25.461460617680203,
         24.943419131939592,
         5.266287446222773,
         5107.780821917808
        ],
        [
         "f5db474a-e48a-11ea-8204-0242ac110002",
         87.0986493215451,
         144.31823150082644,
         20.123345487056913,
         17.704592230192308,
         43.00327981121245,
         7379.646575342465
        ],
        [
         "f6386a1a-e48a-11ea-8204-0242ac110002",
         62.5687340331704,
         134.21431710434746,
         32.06880104408597,
         31.36642810298621,
         33.8599098204542,
         7031.254794520548
        ],
        [
         "f803ced4-e48a-11ea-8204-0242ac110002",
         87.70207891311685,
         140.50505088888457,
         20.67371260191408,
         20.63694876479251,
         6.009250121282049,
         5222.356164383562
        ],
        [
         "fb7307b0-e48a-11ea-8204-0242ac110002",
         66.52760200418946,
         149.06735467346004,
         28.38913981291086,
         29.12212055812403,
         34.71343316527755,
         7042.054794520548
        ],
        [
         "fbce89dc-e48a-11ea-8204-0242ac110002",
         88.24288588315338,
         134.29493079534137,
         18.1656780435617,
         18.456347013808923,
         47.139200086000805,
         7358.265753424657
        ],
        [
         "fc39b8a6-e48a-11ea-8204-0242ac110002",
         92.13068081119378,
         135.37092095546004,
         19.545352482850898,
         20.074662094146422,
         6.332594842088452,
         5184.816438356164
        ],
        [
         "0172ca74-e48b-11ea-8204-0242ac110002",
         75.00885662609355,
         136.56308648262774,
         27.901649581485103,
         25.93513793993602,
         5.008305231717206,
         5188.698630136986
        ],
        [
         "d2e43148-e48a-11ea-8204-0242ac110002",
         61.81016901243939,
         121.27856076931529,
         26.88487647668526,
         31.132022177374978,
         27.6115003103222,
         12135.52602739726
        ],
        [
         "d5aa786a-e48a-11ea-8204-0242ac110002",
         62.36425430495572,
         128.8708375575252,
         29.403610188342196,
         31.33453565941563,
         34.41265489081717,
         10055.501369863014
        ],
        [
         "d6bc5eda-e48a-11ea-8204-0242ac110002",
         60.402179439927465,
         109.18660308739443,
         25.57978491198028,
         33.22973562288523,
         38.6209549007571,
         7239.254794520548
        ],
        [
         "d8d871ae-e48a-11ea-8204-0242ac110002",
         56.90077445583214,
         125.26374196054664,
         23.945897037249615,
         34.688177257987775,
         40.2208117779992,
         10650.030136986301
        ],
        [
         "d8f04b3a-e48a-11ea-8204-0242ac110002",
         57.89930165428551,
         107.84703922918236,
         23.994824089867546,
         34.51403680307999,
         39.373628100976696,
         10588.364383561644
        ],
        [
         "dc04d516-e48a-11ea-8204-0242ac110002",
         55.359089008766404,
         107.5777007372137,
         20.562537209499677,
         37.59454136239685,
         32.80871364617226,
         12809.465753424658
        ],
        [
         "dc2c6d4c-e48a-11ea-8204-0242ac110002",
         54.77494950167725,
         128.54677955505105,
         22.100005515666016,
         35.79725405982539,
         48.14001371848655,
         11314.109589041096
        ],
        [
         "e1656caa-e48a-11ea-8204-0242ac110002",
         53.873109043838085,
         117.8026430652205,
         24.841367578466222,
         35.70910646690161,
         40.3020752857574,
         10726.810958904109
        ],
        [
         "e216e336-e48a-11ea-8204-0242ac110002",
         56.04933056401842,
         112.27953434576361,
         21.30833485504356,
         37.44756098223453,
         33.23315266532934,
         12912.158904109589
        ],
        [
         "e2fe9dc0-e48a-11ea-8204-0242ac110002",
         50.53017732371145,
         105.02480262213606,
         20.894067378409385,
         41.3992673346787,
         47.52797549015212,
         11156.95890410959
        ],
        [
         "e8629afa-e48a-11ea-8204-0242ac110002",
         49.07927120837418,
         103.30157632784898,
         20.525452224019638,
         41.411405367808584,
         47.45501861646202,
         11363.753424657534
        ],
        [
         "ea583806-e48a-11ea-8204-0242ac110002",
         48.94862014141754,
         102.24117054025926,
         23.41126924155975,
         39.37431207211664,
         44.75723598204844,
         11132.46301369863
        ],
        [
         "f1c7770a-e48a-11ea-8204-0242ac110002",
         53.752166909272866,
         110.44612255306316,
         14.09321261301577,
         31.597868254505897,
         44.29241899239699,
         14951.47397260274
        ],
        [
         "f88d1252-e48a-11ea-8204-0242ac110002",
         82.71709277672224,
         123.75660244868575,
         21.775089958039707,
         18.609142842404506,
         40.607693444622576,
         10444.44383561644
        ],
        [
         "fcd408a2-e48a-11ea-8204-0242ac110002",
         81.29728754122128,
         141.4923500431348,
         25.04310604020817,
         22.51008522890539,
         37.837594936013176,
         7124.772602739726
        ],
        [
         "febabae4-e48a-11ea-8204-0242ac110002",
         71.50806666452638,
         124.86738881865753,
         27.39415454442328,
         26.791964022516982,
         35.2663394855009,
         7020.764383561644
        ],
        [
         "ffcfc604-e48a-11ea-8204-0242ac110002",
         81.58139174585331,
         132.86864717295038,
         21.278444448658725,
         21.478821518526686,
         41.838450501804466,
         7303.994520547945
        ],
        [
         "d686a718-e48a-11ea-8204-0242ac110002",
         63.96699762329367,
         131.25598020960956,
         30.88873992822753,
         27.962933235712143,
         34.773436340328736,
         10248.572602739727
        ],
        [
         "d6cfe9f0-e48a-11ea-8204-0242ac110002",
         67.92333682360739,
         125.68961511397892,
         33.05280963662026,
         26.834000168498918,
         33.806657364921925,
         9934.589041095891
        ],
        [
         "d895fa86-e48a-11ea-8204-0242ac110002",
         61.51804542764749,
         130.18468174164695,
         27.53789211469144,
         30.508931970137994,
         37.689519940163585,
         7217.293150684932
        ],
        [
         "d9adeaaa-e48a-11ea-8204-0242ac110002",
         57.586791777022334,
         112.53474603795883,
         23.575527654167857,
         35.843982438398434,
         44.36262906134772,
         10984.923287671232
        ],
        [
         "e0d90c42-e48a-11ea-8204-0242ac110002",
         58.62808831963434,
         110.88135511827161,
         21.346897679597724,
         34.24478499972493,
         49.853235075130065,
         11579.917808219177
        ],
        [
         "e7312818-e48a-11ea-8204-0242ac110002",
         50.89812017369735,
         110.03418695865089,
         21.772129689081144,
         38.868213305376564,
         32.58073782726549,
         12860.769863013698
        ],
        [
         "eeae1d6c-e48a-11ea-8204-0242ac110002",
         51.323193461668126,
         91.98169970496433,
         18.11178323988547,
         38.51508974510928,
         36.60370648233083,
         13443.134246575342
        ],
        [
         "f23871a8-e48a-11ea-8204-0242ac110002",
         79.8274663809113,
         134.23076591633279,
         24.549804704472077,
         23.23883327334918,
         38.1512982166703,
         7135.509589041096
        ],
        [
         "f26ee5a8-e48a-11ea-8204-0242ac110002",
         69.12913417737414,
         146.11332998075613,
         29.38374204779884,
         32.166117073130685,
         34.1408372212027,
         6987.871232876712
        ],
        [
         "f27e65b4-e48a-11ea-8204-0242ac110002",
         78.39923753827307,
         143.95985586220624,
         22.629430894967623,
         25.488802979366078,
         39.55001373481918,
         7259.572602739726
        ],
        [
         "f4d431d6-e48a-11ea-8204-0242ac110002",
         80.79791341761526,
         140.41920920273523,
         24.377772371866218,
         23.69856039873388,
         5.254346159903993,
         5186.704109589041
        ],
        [
         "0052ec46-e48b-11ea-8204-0242ac110002",
         74.80771257625209,
         147.73504483488392,
         27.447509711490927,
         27.409653663273698,
         35.34943781656176,
         6988.13698630137
        ],
        [
         "d796eca8-e48a-11ea-8204-0242ac110002",
         61.30986751566112,
         114.258712937288,
         23.20220183024238,
         32.86896921682895,
         29.937604185112153,
         12463.161643835616
        ],
        [
         "d92bf716-e48a-11ea-8204-0242ac110002",
         56.97155264411809,
         118.1735623873825,
         20.261517853356587,
         35.554798420373125,
         33.70424088483339,
         13034.021917808219
        ],
        [
         "dbc5cd6c-e48a-11ea-8204-0242ac110002",
         57.808517187983234,
         117.45322526181356,
         25.457589931633798,
         33.8959251362466,
         39.329045911567725,
         7101.7479452054795
        ],
        [
         "dbc9c412-e48a-11ea-8204-0242ac110002",
         64.41359390596016,
         125.44896497200112,
         29.976706625204034,
         29.528635367800337,
         34.91224968911891,
         10083.216438356165
        ],
        [
         "dc24a364-e48a-11ea-8204-0242ac110002",
         51.88279653151299,
         114.03474189111449,
         19.94894433476615,
         38.3313859415993,
         52.081264044956434,
         11628.213698630138
        ],
        [
         "e1badb18-e48a-11ea-8204-0242ac110002",
         60.84823138582831,
         118.49072174254,
         26.747687903037917,
         32.95062426002299,
         26.82408750909129,
         11761.882191780822
        ],
        [
         "e5cc8d32-e48a-11ea-8204-0242ac110002",
         48.762143913440646,
         104.76414920690912,
         20.70128248239255,
         46.361690723394055,
         33.65108947802256,
         13354.969863013699
        ],
        [
         "e6af3826-e48a-11ea-8204-0242ac110002",
         47.866581811707825,
         97.27046109954073,
         24.258299199865405,
         47.75900051412688,
         30.453644240593196,
         12448.408219178082
        ],
        [
         "eb6fa09e-e48a-11ea-8204-0242ac110002",
         48.52879071316672,
         98.20602072783392,
         22.14861089387847,
         41.50966039758097,
         33.478649486352055,
         13064.753424657534
        ],
        [
         "ebc9e72a-e48a-11ea-8204-0242ac110002",
         51.46070840563515,
         101.42237185762056,
         20.212204410061275,
         36.435615929273595,
         34.728772068529786,
         13403.950684931508
        ],
        [
         "f04dd4e6-e48a-11ea-8204-0242ac110002",
         54.62714744982512,
         109.48323900162823,
         11.926164009216038,
         29.94740575150986,
         71.61023853179071,
         13315.810958904109
        ],
        [
         "f1b7f3fc-e48a-11ea-8204-0242ac110002",
         50.25530631622987,
         104.67195244996489,
         19.996642045930074,
         42.15560227760649,
         49.81094686999591,
         11602.975342465754
        ],
        [
         "f3223874-e48a-11ea-8204-0242ac110002",
         65.72272907289437,
         118.06631319992727,
         30.637658406405823,
         29.296611071942223,
         35.43287398554681,
         10243.564383561645
        ],
        [
         "f3a6a500-e48a-11ea-8204-0242ac110002",
         84.23442393863549,
         130.19732821777882,
         21.30116314204588,
         20.611860258284818,
         41.875150488889474,
         7313.139726027397
        ],
        [
         "f516b538-e48a-11ea-8204-0242ac110002",
         82.04608150875858,
         141.83874055778352,
         24.013200173891622,
         21.93401204582778,
         37.55935395168877,
         7122.643835616438
        ],
        [
         "f6b6057e-e48a-11ea-8204-0242ac110002",
         67.41940632472789,
         124.97192837019098,
         30.434975337536766,
         27.256651128604325,
         33.121277965619214,
         6928.838356164383
        ],
        [
         "f73bcf38-e48a-11ea-8204-0242ac110002",
         79.89961004815562,
         154.86451745048947,
         24.93506274216052,
         22.390085170034077,
         36.50710906273343,
         7089.605479452055
        ],
        [
         "f7667620-e48a-11ea-8204-0242ac110002",
         77.7333072308708,
         132.41084489375783,
         23.262980142403144,
         26.527560369553324,
         5.589304241177653,
         5140.164383561644
        ],
        [
         "f919cc38-e48a-11ea-8204-0242ac110002",
         76.01058418201373,
         166.7946994558356,
         24.475092024445427,
         25.612477582673947,
         5.437064300648224,
         5214.827397260274
        ],
        [
         "f9482164-e48a-11ea-8204-0242ac110002",
         82.26518823248593,
         131.99013818744143,
         23.905210323902878,
         22.651258048466506,
         38.45877943992111,
         7192.227397260274
        ],
        [
         "fb7b38d6-e48a-11ea-8204-0242ac110002",
         76.41771785334471,
         130.99158754720912,
         22.447734051496603,
         26.926159009762404,
         40.307961741940886,
         7260.994520547945
        ],
        [
         "fe8535b8-e48a-11ea-8204-0242ac110002",
         92.40838570061604,
         144.43378582523044,
         16.049291658844425,
         18.95956267678733,
         7.457070619822079,
         5207.115068493151
        ],
        [
         "d3273556-e48a-11ea-8204-0242ac110002",
         59.53829561446549,
         115.52539287671375,
         25.070247701563314,
         35.233462586031955,
         27.37055679996618,
         11859.509589041096
        ],
        [
         "d3dcc1a0-e48a-11ea-8204-0242ac110002",
         60.443609480028066,
         108.59257884379294,
         25.30702979842124,
         32.798088386661505,
         28.73227977791393,
         12324.687671232878
        ],
        [
         "dbae1960-e48a-11ea-8204-0242ac110002",
         55.3162329444806,
         104.50309981334227,
         21.53748889137036,
         35.20190284592836,
         47.41417335092059,
         11342.312328767122
        ],
        [
         "df425424-e48a-11ea-8204-0242ac110002",
         64.54448914365467,
         125.74310763667447,
         30.927759752652655,
         26.498777792500103,
         34.706276701840345,
         10201.241095890411
        ],
        [
         "e11b60d8-e48a-11ea-8204-0242ac110002",
         54.41747063447426,
         110.5051350104737,
         19.895545497794476,
         37.63647143631193,
         47.803330387104985,
         11278.632876712329
        ],
        [
         "eb535196-e48a-11ea-8204-0242ac110002",
         51.44840948146743,
         107.43954489806605,
         18.86681966957981,
         36.546957793990224,
         37.03071211381379,
         13955.756164383562
        ],
        [
         "ee6c7a4c-e48a-11ea-8204-0242ac110002",
         54.47310835708724,
         119.19215990820823,
         12.729502439630172,
         30.40996571186052,
         46.45928054450589,
         15658.643835616438
        ],
        [
         "f2993be6-e48a-11ea-8204-0242ac110002",
         97.05243381840262,
         137.65222827749733,
         17.914906708276494,
         16.9276157601259,
         45.6413303509932,
         7277.490410958904
        ],
        [
         "fe795f18-e48a-11ea-8204-0242ac110002",
         77.38002481495131,
         134.4362126698503,
         25.165283707620475,
         24.32734229958964,
         37.26782785081406,
         7099.605479452055
        ],
        [
         "010c17d4-e48b-11ea-8204-0242ac110002",
         77.39961551014737,
         140.7798370656412,
         23.48907514439896,
         22.261332777073978,
         39.39578241306151,
         7145.424657534247
        ],
        [
         "d526c3d0-e48a-11ea-8204-0242ac110002",
         55.549513739766724,
         136.9984064487469,
         21.989491940733284,
         34.54544232529754,
         44.64956407264908,
         11017.734246575343
        ],
        [
         "db0247fc-e48a-11ea-8204-0242ac110002",
         63.75459244423359,
         126.60078507677378,
         31.738408259640636,
         28.94595660847724,
         36.25179350428057,
         10343.331506849316
        ],
        [
         "dd270d2e-e48a-11ea-8204-0242ac110002",
         63.42504824625127,
         114.7448105632515,
         26.748916959195164,
         31.91446904884055,
         38.5314138962088,
         7101.13698630137
        ],
        [
         "dee87666-e48a-11ea-8204-0242ac110002",
         52.50343103378747,
         111.98687353028524,
         20.497657539332668,
         39.34736360317646,
         33.040196417171344,
         12946.413698630136
        ],
        [
         "e0e4e74c-e48a-11ea-8204-0242ac110002",
         54.865037187063216,
         98.71245692107854,
         21.25414239742741,
         38.58232739500722,
         46.37976392084187,
         11074.994520547945
        ],
        [
         "e49c6608-e48a-11ea-8204-0242ac110002",
         53.34574533826861,
         99.08455603735425,
         15.31499801554432,
         33.28484766449523,
         41.94059619620464,
         14673.745205479452
        ],
        [
         "e590a556-e48a-11ea-8204-0242ac110002",
         53.40397008843942,
         113.24318745963672,
         15.590310012647901,
         33.13519735215482,
         42.46217955891683,
         14586.367123287671
        ],
        [
         "e5ebbea0-e48a-11ea-8204-0242ac110002",
         50.84578084970743,
         107.50569493692784,
         17.33211571751177,
         36.39331925798352,
         37.98689966182508,
         13850.060273972602
        ],
        [
         "ee57f464-e48a-11ea-8204-0242ac110002",
         48.04665146137309,
         82.0418343173024,
         25.314282768857677,
         43.13960299238746,
         29.614819656124457,
         12567.572602739727
        ],
        [
         "f12119d2-e48a-11ea-8204-0242ac110002",
         51.314541259051666,
         109.38225905308924,
         19.66868637186967,
         36.08258280985672,
         50.547662288883,
         11567.353424657535
        ],
        [
         "f4e84d92-e48a-11ea-8204-0242ac110002",
         78.197446472623,
         135.75965361926524,
         22.449874733751155,
         25.357058353857774,
         41.269399200715725,
         7172.594520547946
        ],
        [
         "f560a2ce-e48a-11ea-8204-0242ac110002",
         78.7552601756379,
         133.39407492136928,
         22.644420345459988,
         21.706851000464773,
         5.78692134768336,
         5114.210958904109
        ],
        [
         "fd7391ba-e48a-11ea-8204-0242ac110002",
         84.36277079158286,
         139.6226339434496,
         19.263800623322492,
         22.426761757178404,
         45.31292280555558,
         7240.271232876712
        ],
        [
         "d4553e32-e48a-11ea-8204-0242ac110002",
         53.74231225581977,
         120.17386166415825,
         20.25442467058411,
         38.70820223293655,
         34.516998740183226,
         13378.712328767124
        ],
        [
         "d586a12e-e48a-11ea-8204-0242ac110002",
         58.061657685029544,
         109.5841769139639,
         22.187735355482992,
         36.330552971240344,
         31.44372474069319,
         12820.219178082192
        ],
        [
         "d7588e68-e48a-11ea-8204-0242ac110002",
         57.436957451876424,
         126.59884320207662,
         23.28958480215289,
         34.435607871212916,
         42.77252773314802,
         7351.0657534246575
        ],
        [
         "d8d4a27c-e48a-11ea-8204-0242ac110002",
         56.597800875138866,
         123.19212379822282,
         21.273469122880183,
         37.23360302604681,
         44.86687805071861,
         11289.07397260274
        ],
        [
         "db17d8ba-e48a-11ea-8204-0242ac110002",
         60.36928552441222,
         119.94279309996101,
         26.062615723408353,
         33.3617555433927,
         39.542785320512714,
         7148.465753424657
        ],
        [
         "dced410c-e48a-11ea-8204-0242ac110002",
         60.00456337856645,
         123.88563033035199,
         24.590532826374215,
         33.5754675682548,
         41.754061513940364,
         10613.728767123288
        ],
        [
         "dd96957c-e48a-11ea-8204-0242ac110002",
         61.1460231306574,
         115.03564347650031,
         25.767990185239526,
         32.96541186774585,
         40.919712592156735,
         10804.367123287671
        ],
        [
         "ddde3030-e48a-11ea-8204-0242ac110002",
         52.92890368723142,
         103.66774253645279,
         20.409926096036234,
         37.444424792409144,
         35.22237893466876,
         13361.517808219178
        ],
        [
         "e06d6ee2-e48a-11ea-8204-0242ac110002",
         61.010114690708726,
         129.98934773452177,
         26.27908436575383,
         32.103207654704526,
         37.47809634750581,
         10293.64109589041
        ],
        [
         "e171ef7a-e48a-11ea-8204-0242ac110002",
         57.37740680706046,
         113.9679563189933,
         21.920737540720832,
         36.09955199891164,
         43.689297949974154,
         10803.882191780822
        ],
        [
         "ea37a28a-e48a-11ea-8204-0242ac110002",
         48.291426945448045,
         98.53809335893406,
         23.016558266072973,
         45.89444451463538,
         31.294323336755273,
         12678.824657534247
        ],
        [
         "eb3720b6-e48a-11ea-8204-0242ac110002",
         49.21775745106842,
         101.3837681199968,
         20.64515516116102,
         40.215318269452325,
         46.124064811998664,
         11194.750684931507
        ],
        [
         "ebe2966c-e48a-11ea-8204-0242ac110002",
         47.22154878383125,
         90.13426063782401,
         25.671482133140003,
         45.057928209849024,
         29.674874794595553,
         12384.679452054794
        ],
        [
         "ec3eae84-e48a-11ea-8204-0242ac110002",
         50.12132743232164,
         104.04248567475666,
         19.45134166433893,
         41.23708034381729,
         37.60153343348692,
         13698.77808219178
        ],
        [
         "f018d5b6-e48a-11ea-8204-0242ac110002",
         51.071046180234845,
         93.82995772069842,
         19.384446320024594,
         39.685974942760616,
         34.71183856000646,
         13409.608219178082
        ],
        [
         "f5cfac5a-e48a-11ea-8204-0242ac110002",
         82.63210183960753,
         139.46289176870994,
         22.870905512289205,
         22.574760137590264,
         5.650731218116725,
         5185.720547945206
        ],
        [
         "f8f498a0-e48a-11ea-8204-0242ac110002",
         79.19376763146178,
         141.89860289518953,
         24.229789939368313,
         21.19429347849946,
         37.633536733852715,
         7194.71506849315
        ],
        [
         "faa4271a-e48a-11ea-8204-0242ac110002",
         97.2277859486884,
         164.04864344108324,
         15.737134008228287,
         15.76288383716071,
         7.268747344014938,
         5269.493150684932
        ],
        [
         "fc995eaa-e48a-11ea-8204-0242ac110002",
         74.78764111864659,
         139.27192639709943,
         27.032433887570917,
         24.413181512860145,
         5.015382203837394,
         5103.909589041096
        ],
        [
         "d8ad4cea-e48a-11ea-8204-0242ac110002",
         63.01183947917495,
         120.65021651129216,
         29.683295488082546,
         28.684175763882994,
         34.953673683988875,
         10342.046575342465
        ],
        [
         "d9240ba0-e48a-11ea-8204-0242ac110002",
         57.844947355784335,
         116.85024264714268,
         23.8012426389807,
         36.121020661473544,
         30.46378267488823,
         12705.164383561643
        ],
        [
         "de528cc8-e48a-11ea-8204-0242ac110002",
         59.87483315696735,
         114.78079885803862,
         24.60353783358566,
         33.600084026531384,
         39.81520804380122,
         7104.134246575342
        ],
        [
         "e4042da2-e48a-11ea-8204-0242ac110002",
         49.78662572779362,
         103.92541865998427,
         22.498039830891223,
         42.17993108330432,
         31.627533357679273,
         12664.452054794521
        ],
        [
         "e65bd352-e48a-11ea-8204-0242ac110002",
         51.16614734336881,
         104.06669459551567,
         22.216039184323016,
         35.43470735679237,
         46.385952103698656,
         11180.983561643836
        ],
        [
         "e8369ca2-e48a-11ea-8204-0242ac110002",
         48.266765612887404,
         105.70832425156674,
         25.8283148580452,
         43.39074959425771,
         31.414256887917926,
         12729.701369863014
        ],
        [
         "e994c718-e48a-11ea-8204-0242ac110002",
         52.198874665242606,
         109.8578396113187,
         16.61228419544021,
         37.11061823991618,
         41.09720285036391,
         14271.254794520548
        ],
        [
         "eaaa1176-e48a-11ea-8204-0242ac110002",
         50.505075309315835,
         105.01834612534414,
         21.179791956560766,
         42.38786606755121,
         34.58943295911456,
         13106.673972602739
        ],
        [
         "edc57fb2-e48a-11ea-8204-0242ac110002",
         54.65683212557368,
         110.26062426718684,
         10.975399291225694,
         29.183789361817826,
         53.622766046330945,
         16649.802739726027
        ],
        [
         "f37b9694-e48a-11ea-8204-0242ac110002",
         72.89754644187117,
         139.53251155132457,
         25.862933964254392,
         27.199991287576836,
         36.394604661616775,
         7198.558904109589
        ],
        [
         "ff74939c-e48a-11ea-8204-0242ac110002",
         66.99207645595699,
         130.650766365193,
         29.273026976388568,
         26.115330192656305,
         34.66797691276043,
         7108.052054794521
        ],
        [
         "02a21436-e48b-11ea-8204-0242ac110002",
         72.17684418088463,
         132.3006239889619,
         25.53098313942924,
         24.90799191109451,
         36.84023871934775,
         7045.564383561644
        ],
        [
         "d5e0a94e-e48a-11ea-8204-0242ac110002",
         60.590923515730076,
         122.80820484232825,
         25.191123463905488,
         32.26858728572927,
         39.45275542047787,
         10480.616438356165
        ],
        [
         "dc3fab50-e48a-11ea-8204-0242ac110002",
         60.83454215377004,
         122.2552804001224,
         27.195901920511716,
         32.277919248411926,
         40.93619661614043,
         10693.257534246575
        ],
        [
         "dd731af2-e48a-11ea-8204-0242ac110002",
         63.71555486638507,
         117.41232447241495,
         26.612977405185287,
         31.356572050284434,
         37.2677541421163,
         7191.219178082192
        ],
        [
         "de016b2c-e48a-11ea-8204-0242ac110002",
         54.31524785446477,
         111.98913758978603,
         24.2906881972131,
         35.93620478812212,
         30.329650207573266,
         12367.427397260273
        ],
        [
         "eade161a-e48a-11ea-8204-0242ac110002",
         47.83463175230588,
         105.83318846141736,
         24.349787890944636,
         45.102630295238896,
         46.8117825633065,
         11265.457534246576
        ],
        [
         "ebc179aa-e48a-11ea-8204-0242ac110002",
         52.294545567147885,
         101.18064125150869,
         16.290962115351064,
         34.459042242168614,
         39.33676260767018,
         14213.04109589041
        ],
        [
         "f1bf9f12-e48a-11ea-8204-0242ac110002",
         52.07652631816169,
         99.6300525381692,
         19.800056073254936,
         39.46731030741948,
         36.38958370491774,
         13584.076712328768
        ],
        [
         "fac38538-e48a-11ea-8204-0242ac110002",
         69.18289869289372,
         132.0612266268321,
         27.49956413554908,
         30.285722652758185,
         36.696492371996904,
         10152.534246575342
        ],
        [
         "ffffb0d0-e48a-11ea-8204-0242ac110002",
         97.98210156671703,
         139.5673288947514,
         15.751330246281574,
         12.427258844120928,
         52.40329518345458,
         7559.28493150685
        ],
        [
         "00926484-e48b-11ea-8204-0242ac110002",
         79.70953288334813,
         136.3160602044928,
         23.878994328601486,
         22.199701612151358,
         37.7289873231296,
         7206
        ],
        [
         "dc20ae1c-e48a-11ea-8204-0242ac110002",
         61.392482856450016,
         120.68933912666003,
         26.306132299089885,
         32.77019835898926,
         26.332607452438218,
         11666.52602739726
        ],
        [
         "dec3b772-e48a-11ea-8204-0242ac110002",
         61.59359891608354,
         118.50307742327328,
         27.07233205780859,
         31.917788318472898,
         35.42363045735489,
         10225.4301369863
        ],
        [
         "e0262f00-e48a-11ea-8204-0242ac110002",
         59.57470862189963,
         109.41029730971778,
         28.340380241372433,
         32.301456094495684,
         36.1711669011898,
         7136.068493150685
        ],
        [
         "e12e6d68-e48a-11ea-8204-0242ac110002",
         56.546626419412796,
         123.2410492794507,
         27.452322288679273,
         33.09958028559852,
         41.120454414016194,
         10676.364383561644
        ],
        [
         "e4de5176-e48a-11ea-8204-0242ac110002",
         49.26258610428217,
         103.52668986525369,
         22.396190556423118,
         42.45780429844908,
         44.48089606936484,
         10873.254794520548
        ],
        [
         "e7ce9238-e48a-11ea-8204-0242ac110002",
         48.52539069633128,
         110.51854071866748,
         22.267074869501617,
         43.510901148776334,
         33.706676356642475,
         13081.408219178082
        ],
        [
         "ed2b4fe6-e48a-11ea-8204-0242ac110002",
         49.47569983037608,
         96.89824142584747,
         22.460867812657995,
         40.805410094217045,
         32.34967733214914,
         12850.74794520548
        ],
        [
         "ef4e017e-e48a-11ea-8204-0242ac110002",
         50.49516053365873,
         106.32026761283839,
         19.03916966626003,
         38.743317204353524,
         35.41586969650829,
         13481.838356164384
        ],
        [
         "f4570c92-e48a-11ea-8204-0242ac110002",
         70.55139985943653,
         140.8772232170616,
         27.34714981321343,
         28.528977475160538,
         35.37815032802201,
         7098.331506849315
        ],
        [
         "f6f1fca0-e48a-11ea-8204-0242ac110002",
         67.45717582014207,
         131.88716263204554,
         30.667697921394012,
         29.556588381551673,
         32.98917357382609,
         6970.134246575342
        ],
        [
         "fb0ff33c-e48a-11ea-8204-0242ac110002",
         67.7786650840229,
         145.9391886602553,
         28.917598567882752,
         30.029481512646328,
         4.90592678896246,
         5112.046575342466
        ],
        [
         "ffdf8d6e-e48a-11ea-8204-0242ac110002",
         88.5716514658319,
         139.15293999208205,
         20.120768310786026,
         21.056828200182487,
         6.306961722396013,
         5204.049315068493
        ],
        [
         "00eec706-e48b-11ea-8204-0242ac110002",
         72.88616293583084,
         137.9294373961837,
         26.426814259220585,
         24.83509429284389,
         35.719684803566814,
         7124.969863013699
        ],
        [
         "d5c5f450-e48a-11ea-8204-0242ac110002",
         60.34437835593993,
         126.06302458428354,
         24.79330199243264,
         33.27123185186094,
         40.03604994478605,
         10543.88493150685
        ],
        [
         "df7a5a54-e48a-11ea-8204-0242ac110002",
         58.71089511904646,
         119.82176989361852,
         24.36605533587214,
         32.896027722671036,
         43.292785065323244,
         10834.813698630138
        ],
        [
         "e49035ae-e48a-11ea-8204-0242ac110002",
         49.97180632785231,
         102.2267815405534,
         19.555993252286125,
         43.51484375859895,
         51.005794142200415,
         11597.380821917808
        ],
        [
         "e4fd95ea-e48a-11ea-8204-0242ac110002",
         52.10164434205249,
         108.07312992801697,
         18.22101095645998,
         35.57168499068133,
         37.16138402653044,
         13873.202739726028
        ],
        [
         "e8a3e82a-e48a-11ea-8204-0242ac110002",
         50.66956715856347,
         107.93893342916954,
         23.436938994403636,
         37.44161290424611,
         43.55337825023752,
         10863.216438356165
        ],
        [
         "e9803870-e48a-11ea-8204-0242ac110002",
         51.97169667387831,
         97.37855919643823,
         17.602905614124346,
         36.0805148733615,
         38.659189307444564,
         14066.394520547945
        ],
        [
         "eb2f3ec8-e48a-11ea-8204-0242ac110002",
         50.337455736086135,
         96.60513680382209,
         20.045197912464186,
         39.9514318171653,
         34.0789916605068,
         13220.298630136986
        ],
        [
         "eed75d94-e48a-11ea-8204-0242ac110002",
         52.08646461927272,
         113.18853834353536,
         17.79359455477763,
         36.47458453967823,
         36.80155360493595,
         13638.567123287672
        ],
        [
         "efd1296e-e48a-11ea-8204-0242ac110002",
         52.96395399372395,
         114.45003529724508,
         15.36681964372138,
         34.53324376942677,
         42.551413331743866,
         14450.446575342467
        ],
        [
         "f05e648c-e48a-11ea-8204-0242ac110002",
         51.14236171919587,
         98.1473261355229,
         19.96999263321462,
         40.21996670440302,
         35.267365131097996,
         13370.01095890411
        ],
        [
         "f1fcd940-e48a-11ea-8204-0242ac110002",
         50.895659595145816,
         101.85589165788531,
         17.561479749811106,
         36.89785245699215,
         53.322719473333365,
         11877.16712328767
        ],
        [
         "f2096494-e48a-11ea-8204-0242ac110002",
         67.7701706411636,
         142.2603336884476,
         26.88156213412654,
         30.485692505515704,
         5.229755942832337,
         5186.671232876713
        ],
        [
         "f442e1b8-e48a-11ea-8204-0242ac110002",
         82.15195249885598,
         137.126171055761,
         17.909178028342247,
         24.301262095930277,
         47.798449135920166,
         7481.068493150685
        ],
        [
         "f5c7e6e6-e48a-11ea-8204-0242ac110002",
         57.189617336695214,
         137.8270265840642,
         32.38875164956191,
         34.23856615606716,
         35.96862367031623,
         10236.701369863014
        ],
        [
         "f84dd4ca-e48a-11ea-8204-0242ac110002",
         80.63700153100609,
         152.47347233442775,
         22.412169777317843,
         22.227874838255353,
         40.55712060497155,
         7166.8027397260275
        ],
        [
         "fce0111a-e48a-11ea-8204-0242ac110002",
         96.97806941201232,
         146.23513070959507,
         18.007511963092774,
         18.0679670458958,
         6.754670397572991,
         5218.391780821918
        ],
        [
         "d33b96cc-e48a-11ea-8204-0242ac110002",
         59.69900344458013,
         123.29798296189819,
         28.36719082726712,
         31.600859886886173,
         36.956925001081125,
         10273.65205479452
        ],
        [
         "d35556e8-e48a-11ea-8204-0242ac110002",
         60.85271171763094,
         126.06206364026151,
         26.611962090715675,
         29.685177316745698,
         37.61455072339005,
         10419.123287671233
        ],
        [
         "d629703e-e48a-11ea-8204-0242ac110002",
         52.72219489285437,
         111.64093436298818,
         19.5724218601039,
         38.02749371049291,
         50.17544112621923,
         11682.197260273973
        ],
        [
         "d6fe928c-e48a-11ea-8204-0242ac110002",
         58.44167483222206,
         117.53943419692702,
         25.75489918020797,
         34.338946653640136,
         39.54562395236093,
         10441.712328767124
        ],
        [
         "d80300e6-e48a-11ea-8204-0242ac110002",
         67.20903239968082,
         121.73831621306792,
         32.26821615087665,
         26.654722331861525,
         32.798748326057485,
         7073.035616438357
        ],
        [
         "e9ca5040-e48a-11ea-8204-0242ac110002",
         54.0284328440395,
         108.28615934932891,
         12.654053882785398,
         33.03972742973578,
         49.85972670403038,
         15997.964383561644
        ],
        [
         "ea2ba73c-e48a-11ea-8204-0242ac110002",
         47.841673185195326,
         88.23569041947863,
         26.237657368710668,
         45.710421553388734,
         30.386243869857264,
         12565.764383561644
        ],
        [
         "ec125f82-e48a-11ea-8204-0242ac110002",
         50.27318218512682,
         92.29882419709426,
         19.477999283191433,
         39.691530689784535,
         35.58096212028507,
         13352.375342465753
        ],
        [
         "f0c0044e-e48a-11ea-8204-0242ac110002",
         45.73975839190175,
         93.41332378103513,
         27.261565167882395,
         48.887695985063615,
         31.254104438015755,
         12527.956164383562
        ],
        [
         "f37fcb74-e48a-11ea-8204-0242ac110002",
         74.70086634248925,
         121.67227153993254,
         28.792669925300466,
         25.805953355652942,
         34.87085859794914,
         7041.030136986301
        ],
        [
         "f743acee-e48a-11ea-8204-0242ac110002",
         61.636022011089764,
         121.40160312511519,
         29.64722751734138,
         32.60283703737775,
         34.44231022610492,
         6996.172602739726
        ],
        [
         "faabef04-e48a-11ea-8204-0242ac110002",
         102.433073882472,
         142.82228655296373,
         12.384873404672344,
         14.295550065912424,
         9.028399655930391,
         5324.021917808219
        ],
        [
         "fb17e4c0-e48a-11ea-8204-0242ac110002",
         62.086503357708665,
         136.69459762736102,
         30.299520683343523,
         32.1558290748916,
         34.3365376898588,
         7071.331506849315
        ],
        [
         "fc05a278-e48a-11ea-8204-0242ac110002",
         82.08816859054659,
         140.413369102464,
         22.189705172528654,
         20.29204722901298,
         40.62970645892074,
         7271.578082191781
        ],
        [
         "012e664a-e48b-11ea-8204-0242ac110002",
         77.16953216156257,
         152.14216014835466,
         25.30133777287467,
         23.523165325996214,
         37.147432032915226,
         7136.295890410959
        ],
        [
         "d2f410e0-e48a-11ea-8204-0242ac110002",
         63.98789553371525,
         107.68132919170525,
         28.75752329147849,
         29.511758604148284,
         25.88864762159443,
         11646.950684931508
        ],
        [
         "d7178382-e48a-11ea-8204-0242ac110002",
         53.984221025279155,
         125.92857265727432,
         23.536206245857485,
         35.55873078921698,
         44.76414382809076,
         10996.5698630137
        ],
        [
         "d7fb7498-e48a-11ea-8204-0242ac110002",
         60.77597299069474,
         117.94460726550128,
         28.676038619353236,
         31.471910635228124,
         35.959285212822415,
         7131.838356164383
        ],
        [
         "daed49ba-e48a-11ea-8204-0242ac110002",
         58.74451104495155,
         127.66231377721773,
         25.062247310271363,
         33.58404799489943,
         39.96364703666875,
         10690.112328767123
        ],
        [
         "e0dd410e-e48a-11ea-8204-0242ac110002",
         63.17199947338228,
         121.47944577879478,
         28.244299280156024,
         29.932915475891367,
         36.24611944047314,
         7047.34794520548
        ],
        [
         "ec02313e-e48a-11ea-8204-0242ac110002",
         52.15161203716407,
         118.72964376536049,
         18.290423922172877,
         35.18791259726164,
         36.69589816705382,
         13756.597260273973
        ],
        [
         "eea5e868-e48a-11ea-8204-0242ac110002",
         51.50339236818425,
         107.78735953343808,
         21.270200684362674,
         34.50889242462661,
         34.88985926187731,
         13307.835616438357
        ],
        [
         "f1ceefee-e48a-11ea-8204-0242ac110002",
         49.703058907487815,
         98.56874400958567,
         22.008430206077232,
         41.49075128882046,
         32.464485597567005,
         12894.375342465753
        ],
        [
         "f32607c4-e48a-11ea-8204-0242ac110002",
         84.21926523949949,
         150.647568536683,
         23.173584715482328,
         22.00601037926213,
         38.575055505548875,
         7095.750684931507
        ],
        [
         "f5f69a2c-e48a-11ea-8204-0242ac110002",
         71.98661046621574,
         146.9449013667757,
         24.374581864907704,
         24.788650459341355,
         38.88383095840996,
         7154.306849315069
        ],
        [
         "f6fdba68-e48a-11ea-8204-0242ac110002",
         65.76752777443474,
         143.36519609867835,
         32.65886290194771,
         29.384610472071166,
         33.08125002713363,
         7065.6630136986305
        ],
        [
         "f7570366-e48a-11ea-8204-0242ac110002",
         66.79459193210977,
         137.90214727760812,
         27.872690538042473,
         30.438245901782604,
         5.119390800546305,
         5132.052054794521
        ],
        [
         "fa6da6a4-e48a-11ea-8204-0242ac110002",
         77.35579577946514,
         142.09732393694884,
         22.963888628216807,
         23.511430132676264,
         39.43659917658651,
         7104.882191780822
        ],
        [
         "ff8457a0-e48a-11ea-8204-0242ac110002",
         77.91572955434921,
         138.72306476401693,
         22.16507297186388,
         25.33289242407642,
         39.715221180269744,
         7272.323287671233
        ],
        [
         "0121c98a-e48b-11ea-8204-0242ac110002",
         80.64818513746137,
         146.63741790802501,
         21.768760283880916,
         23.930543854094125,
         40.57750336600859,
         7220.761643835616
        ],
        [
         "d4388d46-e48a-11ea-8204-0242ac110002",
         59.71326130200061,
         116.03375987142172,
         23.00094155735317,
         35.302461821507244,
         31.55329050808766,
         13224.435616438355
        ],
        [
         "dbb63a0a-e48a-11ea-8204-0242ac110002",
         64.0896792266537,
         117.85483495128909,
         27.92401794424363,
         32.13509207399534,
         35.79538974412671,
         10449.797260273972
        ],
        [
         "dc10b2e6-e48a-11ea-8204-0242ac110002",
         58.23044135710293,
         129.86919535188835,
         24.679745341934755,
         35.18840183810128,
         40.536274104629264,
         7256.145205479452
        ],
        [
         "dd169ff2-e48a-11ea-8204-0242ac110002",
         53.91798687232555,
         112.58084108369881,
         18.79781740973854,
         36.89204713930544,
         36.623540285924086,
         14043.33698630137
        ],
        [
         "e0f05960-e48a-11ea-8204-0242ac110002",
         63.22939533529762,
         128.1702406358758,
         23.586699283483934,
         32.53334239157344,
         41.92705577698254,
         7414.528767123287
        ],
        [
         "e28d72da-e48a-11ea-8204-0242ac110002",
         48.31853683831922,
         98.3528856875481,
         24.60451319982971,
         44.972134727293074,
         31.056768315680248,
         12936.608219178082
        ],
        [
         "e8e31450-e48a-11ea-8204-0242ac110002",
         53.65058785764743,
         110.1208888295567,
         14.377771900916073,
         35.5376953653133,
         43.99316891394807,
         15450.901369863013
        ],
        [
         "ee2214b6-e48a-11ea-8204-0242ac110002",
         52.323954134668945,
         101.14397331744945,
         14.625999708433861,
         39.65292196265821,
         42.2385284687475,
         14932.493150684932
        ],
        [
         "efa05690-e48a-11ea-8204-0242ac110002",
         49.60484373737439,
         88.17284575898235,
         19.417129084110986,
         40.931475955134246,
         35.21734758474151,
         13644.682191780821
        ],
        [
         "efc98ed4-e48a-11ea-8204-0242ac110002",
         50.00149767875386,
         98.38003019241722,
         20.854524711551036,
         38.70491135855808,
         33.41473669203628,
         13306.978082191781
        ],
        [
         "f2fb64c4-e48a-11ea-8204-0242ac110002",
         77.53079011372486,
         150.97354345847086,
         23.666543024316912,
         25.362814361697914,
         5.534535781075262,
         5169.416438356165
        ],
        [
         "f5e3116e-e48a-11ea-8204-0242ac110002",
         69.46643474501647,
         132.95000970433662,
         28.48738268489761,
         26.06496413603982,
         5.029975300313707,
         5191.893150684931
        ],
        [
         "f9c37df0-e48a-11ea-8204-0242ac110002",
         72.55218198714103,
         129.1844739094914,
         26.753822139997077,
         27.861254902616928,
         35.703764484475265,
         7092.090410958904
        ],
        [
         "fa45b252-e48a-11ea-8204-0242ac110002",
         61.019769801987366,
         133.80332397764988,
         34.502974113544774,
         33.841694435604424,
         29.865668541142874,
         9740.4
        ],
        [
         "fef0bdc4-e48a-11ea-8204-0242ac110002",
         80.62784810710515,
         154.96792417736953,
         21.27389073047019,
         24.344154898274848,
         42.270548422841344,
         7373.46301369863
        ],
        [
         "ff0d522c-e48a-11ea-8204-0242ac110002",
         71.33314528241345,
         143.63775065411005,
         29.58531421235547,
         29.839759036328154,
         4.805441826563977,
         5152.605479452055
        ],
        [
         "d52e6784-e48a-11ea-8204-0242ac110002",
         62.30370604541888,
         130.56925808885606,
         28.625188777680876,
         30.24078970992756,
         35.18907447033306,
         10129.361643835617
        ],
        [
         "d736727e-e48a-11ea-8204-0242ac110002",
         59.30681070216743,
         122.65888419981579,
         24.11477694694083,
         31.238484498950367,
         40.1940564177759,
         10848.375342465753
        ],
        [
         "d8b1ca5e-e48a-11ea-8204-0242ac110002",
         59.25804887059636,
         121.18888085107355,
         24.66575892537066,
         31.92278797133222,
         40.458822734015286,
         7347.698630136986
        ],
        [
         "e093dee2-e48a-11ea-8204-0242ac110002",
         60.02584032712212,
         128.34113320310556,
         26.706071457385654,
         31.72071593973505,
         41.40797907828884,
         10589.624657534247
        ],
        [
         "e45dc164-e48a-11ea-8204-0242ac110002",
         52.0491409216597,
         111.48728368440102,
         17.510890419256455,
         38.298458135977725,
         56.68849850583429,
         12085.13698630137
        ],
        [
         "e653b244-e48a-11ea-8204-0242ac110002",
         49.735850735275804,
         97.55941178635518,
         23.877162116730684,
         43.54799421976518,
         31.922332034087695,
         12676.613698630137
        ],
        [
         "e97b8c1c-e48a-11ea-8204-0242ac110002",
         48.25180660004121,
         96.15421927076304,
         24.98969859099394,
         46.153149569640476,
         29.87152717641392,
         12457.46301369863
        ],
        [
         "eaf6bcec-e48a-11ea-8204-0242ac110002",
         49.10882284908352,
         105.37675235010111,
         23.82993377874876,
         37.43698579766689,
         30.95446403029735,
         12490.887671232877
        ],
        [
         "f02c7274-e48a-11ea-8204-0242ac110002",
         50.31322165821834,
         95.51297452347919,
         18.225214630137266,
         40.75385553404522,
         37.805659992174576,
         13690.030136986301
        ],
        [
         "f1b034d2-e48a-11ea-8204-0242ac110002",
         50.851666421607135,
         111.19345861388807,
         21.344253142081403,
         37.938631400495765,
         49.419672479184,
         11480.980821917808
        ],
        [
         "f45eb294-e48a-11ea-8204-0242ac110002",
         53.632604896430074,
         133.34144182480725,
         37.56740036277245,
         36.44236311230851,
         31.590922902239438,
         7053.0191780821915
        ],
        [
         "f8fd7682-e48a-11ea-8204-0242ac110002",
         81.1145477254848,
         131.062285127167,
         22.33872524194543,
         24.338430651153843,
         5.7806587919834,
         5219.717808219178
        ],
        [
         "fd4a0048-e48a-11ea-8204-0242ac110002",
         81.30723584595712,
         139.22593742471213,
         23.281457225595673,
         23.73846413447265,
         39.2621664463719,
         7238.323287671233
        ],
        [
         "d34406ae-e48a-11ea-8204-0242ac110002",
         58.39712755625085,
         116.92169781553366,
         23.821881767838278,
         35.046870248388004,
         28.93625197332771,
         12124.898630136986
        ],
        [
         "d3fc7cd4-e48a-11ea-8204-0242ac110002",
         59.661682753385875,
         118.77933453853898,
         26.91968049498751,
         31.731174550946545,
         37.25629807818841,
         10388.51506849315
        ],
        [
         "d40854fa-e48a-11ea-8204-0242ac110002",
         53.6579592554415,
         111.48543759687985,
         21.517337693804883,
         38.38554765207273,
         46.37263254082696,
         11107.493150684932
        ],
        [
         "d85841dc-e48a-11ea-8204-0242ac110002",
         57.22074719411959,
         119.46717089093544,
         21.706108276416135,
         37.960943364007754,
         46.62052843574268,
         11182.671232876712
        ],
        [
         "d983592a-e48a-11ea-8204-0242ac110002",
         54.14318434042509,
         108.8567983150523,
         18.6137051147236,
         39.01178984375068,
         51.52082180707746,
         11553.25205479452
        ],
        [
         "da747b84-e48a-11ea-8204-0242ac110002",
         58.232910132041916,
         123.03766510979133,
         26.467066314320853,
         34.12693640907328,
         36.12619679765843,
         10221.098630136987
        ],
        [
         "df1a3da4-e48a-11ea-8204-0242ac110002",
         60.94867828144888,
         128.25285587998005,
         26.90057707239164,
         30.245837764962623,
         39.452904664208184,
         10409.649315068493
        ],
        [
         "e32bc692-e48a-11ea-8204-0242ac110002",
         49.121654377406905,
         116.95658221162829,
         23.873621520980663,
         41.20961725020616,
         44.92626070562924,
         11117.441095890412
        ],
        [
         "e8c81c86-e48a-11ea-8204-0242ac110002",
         50.65775480950007,
         100.17813254108017,
         19.98497129658288,
         40.02908162278628,
         34.67742701293985,
         13170.791780821917
        ],
        [
         "f0d09782-e48a-11ea-8204-0242ac110002",
         50.769396796191295,
         95.07210994789438,
         19.582802509573344,
         41.1639418113691,
         36.21074871361149,
         13350.936986301369
        ],
        [
         "f1b40a80-e48a-11ea-8204-0242ac110002",
         51.49939437499574,
         107.39343852444325,
         19.132958072468313,
         34.119558668926686,
         49.917530709922076,
         11487.356164383562
        ],
        [
         "f1e242ba-e48a-11ea-8204-0242ac110002",
         52.55181280699337,
         107.16912047173555,
         15.29852472331325,
         38.28066054769095,
         60.939808549091524,
         12679.101369863014
        ],
        [
         "f3606c66-e48a-11ea-8204-0242ac110002",
         77.64781056626113,
         138.23385079031658,
         24.7080225383075,
         21.360133956586484,
         37.17703684967188,
         7099.865753424658
        ],
        [
         "f3739f02-e48a-11ea-8204-0242ac110002",
         71.40095083813472,
         149.87021355937964,
         27.730651971096833,
         25.82676033961699,
         34.864347587390924,
         7035.882191780822
        ],
        [
         "f43ed46a-e48a-11ea-8204-0242ac110002",
         83.05960052111892,
         111.55396339906464,
         25.272133478532687,
         22.054250977751078,
         35.150173905524795,
         10216.920547945205
        ],
        [
         "f6eda8d0-e48a-11ea-8204-0242ac110002",
         82.7275786219762,
         139.88891727495658,
         21.811331859747614,
         22.78533726539964,
         5.879853624603014,
         5187.852054794521
        ],
        [
         "f7fff4c6-e48a-11ea-8204-0242ac110002",
         65.26334036800314,
         131.68143090722074,
         29.490109316860543,
         27.23511810146577,
         35.1807849562131,
         10233.158904109589
        ],
        [
         "f88426b0-e48a-11ea-8204-0242ac110002",
         65.31126760369132,
         121.03826441405192,
         30.183855798779465,
         29.930103193316654,
         33.44871337438005,
         6944.175342465754
        ],
        [
         "fad0333c-e48a-11ea-8204-0242ac110002",
         78.59099901107022,
         134.69996882383086,
         24.653857475001267,
         23.24002798363751,
         5.3095704965986465,
         5093.45205479452
        ],
        [
         "fca70b5e-e48a-11ea-8204-0242ac110002",
         80.22599177900995,
         114.10714004717792,
         21.342862661963547,
         23.988329269657285,
         45.10888963904506,
         11120.419178082191
        ],
        [
         "fd35c308-e48a-11ea-8204-0242ac110002",
         83.59959863957276,
         136.93884660914546,
         22.947618168869163,
         23.907669417795056,
         38.79858438827385,
         7123.076712328767
        ],
        [
         "ffc78728-e48a-11ea-8204-0242ac110002",
         75.9067143001545,
         131.21625481118588,
         25.15560599288421,
         25.315525009949255,
         5.302106117061161,
         5227.2986301369865
        ],
        [
         "004dce50-e48b-11ea-8204-0242ac110002",
         75.74981399738974,
         130.93270399176032,
         22.035605849593626,
         25.10970186960966,
         43.6095186878573,
         10870.605479452055
        ],
        [
         "d3c49aa8-e48a-11ea-8204-0242ac110002",
         62.67832822341962,
         126.55070760439426,
         28.538456483092702,
         30.136315631288845,
         36.31521454706571,
         10320.065753424658
        ],
        [
         "d4599c48-e48a-11ea-8204-0242ac110002",
         58.17874362126202,
         100.40644378168756,
         21.379948776277136,
         36.16895762826443,
         30.456885826695295,
         12367.2
        ],
        [
         "d54185d0-e48a-11ea-8204-0242ac110002",
         53.45054361310295,
         107.34686137555215,
         17.880754195297573,
         39.76020927455288,
         53.528300595813654,
         11837.517808219178
        ],
        [
         "d5ec36ec-e48a-11ea-8204-0242ac110002",
         62.5424434514974,
         114.55230135096309,
         26.433814740667717,
         32.943273772822224,
         37.68818375234937,
         10353.906849315068
        ],
        [
         "da3bb4f2-e48a-11ea-8204-0242ac110002",
         58.244776511536855,
         117.19473480668364,
         27.432396698209438,
         33.85114874770899,
         38.15381930506995,
         7108.323287671233
        ],
        [
         "dd8ab022-e48a-11ea-8204-0242ac110002",
         64.74170224529291,
         123.33923642416373,
         31.043700919631046,
         26.157830045833787,
         32.283494503169294,
         9758.424657534246
        ],
        [
         "e0e1125c-e48a-11ea-8204-0242ac110002",
         59.0279432649924,
         123.79205919762592,
         29.17672975820263,
         31.965836534699967,
         37.78710956082261,
         10494.964383561644
        ],
        [
         "e16dca76-e48a-11ea-8204-0242ac110002",
         55.64833833463997,
         100.25369082365577,
         18.488468655822334,
         37.21691400588285,
         36.93618312239674,
         13597.068493150686
        ],
        [
         "ea17954e-e48a-11ea-8204-0242ac110002",
         50.47274665933407,
         103.21346440454373,
         18.907494131198845,
         38.862496245836816,
         37.11329759279284,
         13516.887671232877
        ],
        [
         "ea5c2a9c-e48a-11ea-8204-0242ac110002",
         51.95301865973605,
         113.48356948692958,
         18.61797374107357,
         37.783346623659696,
         50.95248945206013,
         11543.035616438356
        ],
        [
         "eba4e038-e48a-11ea-8204-0242ac110002",
         50.82088773817901,
         101.06092568460518,
         19.861421022578877,
         38.59522707607136,
         51.13986086724676,
         11781.92602739726
        ],
        [
         "eddf3916-e48a-11ea-8204-0242ac110002",
         50.43388940950823,
         97.48570832777617,
         20.3215770927813,
         38.61126207398186,
         46.22678813134224,
         11121.065753424658
        ],
        [
         "f4a9493a-e48a-11ea-8204-0242ac110002",
         69.46990578714984,
         153.08646741467527,
         26.93782639610473,
         27.443762879941705,
         35.62458463869204,
         7060.046575342466
        ],
        [
         "f95c91c6-e48a-11ea-8204-0242ac110002",
         70.1286048613818,
         142.36424600850296,
         24.688187634099066,
         27.8297590318578,
         38.79866692384987,
         7191.087671232876
        ],
        [
         "faafd9f2-e48a-11ea-8204-0242ac110002",
         74.93302918291309,
         147.64267319139938,
         25.524389819683805,
         25.698358417836165,
         37.67199543993961,
         7147.191780821918
        ],
        [
         "fecf46f8-e48a-11ea-8204-0242ac110002",
         82.34636038377299,
         134.18145921012803,
         22.097356873768963,
         23.02274886736096,
         5.8643576698878945,
         5189.378082191781
        ],
        [
         "0081c6f6-e48b-11ea-8204-0242ac110002",
         80.84581582831568,
         158.31010519024213,
         22.625503239256123,
         22.405370777087086,
         5.663216649037623,
         5127.06301369863
        ],
        [
         "d5fb8160-e48a-11ea-8204-0242ac110002",
         60.675501719665704,
         128.94147601951747,
         27.807012425532015,
         31.184625953980856,
         36.021915034284966,
         10171.849315068494
        ],
        [
         "de5699b2-e48a-11ea-8204-0242ac110002",
         58.94802983057048,
         120.49323569003941,
         25.745519832691365,
         32.75686784170032,
         39.90477713656761,
         10581.38904109589
        ],
        [
         "df8cb80c-e48a-11ea-8204-0242ac110002",
         70.82675077156924,
         124.37504491560769,
         35.61517149532035,
         24.4053951859252,
         29.874317516807114,
         6967.375342465753
        ],
        [
         "e097aedc-e48a-11ea-8204-0242ac110002",
         62.29352786151325,
         111.6601027711167,
         29.273142225213252,
         30.012148601759254,
         36.841030816923386,
         10258.238356164384
        ],
        [
         "e1b6de64-e48a-11ea-8204-0242ac110002",
         52.48377568461723,
         119.46450743472774,
         19.574291922701928,
         40.50784792057994,
         51.6299261306577,
         11699.301369863013
        ],
        [
         "e3b5c04a-e48a-11ea-8204-0242ac110002",
         49.51009208913985,
         96.86682229301171,
         21.097519055694672,
         42.871070898118035,
         33.74140817750597,
         13212.898630136986
        ],
        [
         "e43347c2-e48a-11ea-8204-0242ac110002",
         55.49445284647095,
         109.1143236957604,
         13.472981347925915,
         27.703380297894622,
         45.54996717966824,
         15120.158904109589
        ],
        [
         "e7e4d61a-e48a-11ea-8204-0242ac110002",
         54.05942048550783,
         121.59347857486752,
         13.555240895310991,
         32.708917447116676,
         67.16776450148268,
         12842.868493150685
        ],
        [
         "eb47752e-e48a-11ea-8204-0242ac110002",
         54.26461450083714,
         103.71286351132923,
         10.915575176918908,
         31.03586592396281,
         54.59267681206382,
         16852.446575342467
        ],
        [
         "ed538cea-e48a-11ea-8204-0242ac110002",
         48.31670375326011,
         98.89888307628269,
         22.750847921281554,
         45.05376657287627,
         34.00070537714422,
         13160.495890410959
        ],
        [
         "ee4b5c72-e48a-11ea-8204-0242ac110002",
         48.73760505163522,
         103.00149058439038,
         21.017327324207045,
         43.12600482305385,
         47.391552749549966,
         11327.150684931506
        ],
        [
         "ef566292-e48a-11ea-8204-0242ac110002",
         51.75950753366631,
         106.79907089950089,
         16.667147954982696,
         35.466803148634696,
         56.511517997598204,
         12095.61095890411
        ],
        [
         "f038b9f8-e48a-11ea-8204-0242ac110002",
         46.13704849373493,
         94.92286517975171,
         27.549106561793675,
         49.074008973875976,
         29.68017163923116,
         12305.230136986302
        ],
        [
         "f20d71ba-e48a-11ea-8204-0242ac110002",
         74.74110626538771,
         129.27913487991296,
         27.1869943758592,
         26.054514596868376,
         37.965162344530356,
         10312.591780821918
        ],
        [
         "fc6632f0-e48a-11ea-8204-0242ac110002",
         68.15336038335708,
         123.49948160687696,
         28.770606921098288,
         27.040774455278818,
         35.40786861458124,
         10254.098630136987
        ],
        [
         "020b15f4-e48b-11ea-8204-0242ac110002",
         56.74471373720562,
         138.59117352429064,
         32.87805898050823,
         33.594383095958264,
         35.75346435166791,
         10143.33698630137
        ],
        [
         "d261ca5a-e48a-11ea-8204-0242ac110002",
         59.88160138271605,
         116.91184235893107,
         26.600618064331748,
         32.83848460583375,
         29.247747058642428,
         12113.331506849316
        ],
        [
         "d4c9d760-e48a-11ea-8204-0242ac110002",
         55.59317171571702,
         123.20272867739769,
         25.60348531056864,
         33.68403346625655,
         40.08146640674562,
         10647.230136986302
        ],
        [
         "d6b0b418-e48a-11ea-8204-0242ac110002",
         57.62831794201286,
         107.29106725806511,
         22.31656896052068,
         34.48501235679275,
         42.95676753515693,
         10817.597260273973
        ],
        [
         "d7ff2e8a-e48a-11ea-8204-0242ac110002",
         56.97267569794542,
         110.08657464780161,
         23.254808942644416,
         31.990571583241547,
         31.620700843158332,
         12834.172602739725
        ],
        [
         "dbba22f0-e48a-11ea-8204-0242ac110002",
         57.484015311095156,
         120.56696271876777,
         23.00539344580523,
         35.789482694763244,
         42.903881347450366,
         7173.364383561644
        ],
        [
         "dd38cfa0-e48a-11ea-8204-0242ac110002",
         59.81120911831245,
         118.83189075712248,
         23.499676519244026,
         32.630823671166866,
         29.30629541630579,
         12282.87397260274
        ],
        [
         "e4e22dc8-e48a-11ea-8204-0242ac110002",
         51.371817442694876,
         100.16366810010165,
         17.190364299286276,
         36.469242842130534,
         37.78407282918378,
         13816.923287671232
        ],
        [
         "e8f31c74-e48a-11ea-8204-0242ac110002",
         47.29099176368603,
         98.10711735737662,
         27.474029613763435,
         46.473010525781724,
         29.28831467318904,
         12440.78904109589
        ],
        [
         "e9844e38-e48a-11ea-8204-0242ac110002",
         50.87859160691621,
         102.95249202856019,
         16.982470394601055,
         40.40596996912554,
         39.72111427491973,
         14151.808219178081
        ],
        [
         "ee114b4a-e48a-11ea-8204-0242ac110002",
         52.018004080722704,
         114.57080943567234,
         19.03727372804392,
         36.47676432567497,
         52.16820370798082,
         11715.27397260274
        ],
        [
         "f16cf3ca-e48a-11ea-8204-0242ac110002",
         51.10967720376565,
         116.38286613529245,
         20.658079143495815,
         38.69743648914008,
         47.31942591086953,
         11217.34794520548
        ],
        [
         "f2769956-e48a-11ea-8204-0242ac110002",
         97.5635974362899,
         136.25855145344673,
         14.694504007468097,
         13.673735264860575,
         8.020570410011425,
         5275.28493150685
        ],
        [
         "f776dd30-e48a-11ea-8204-0242ac110002",
         76.12679786354863,
         127.32997007091812,
         24.76234268826364,
         28.48426220124354,
         37.81968571843134,
         7090.972602739726
        ],
        [
         "f77ebd3e-e48a-11ea-8204-0242ac110002",
         73.19807256369835,
         122.19290662688053,
         26.842327005078175,
         26.713133845284094,
         37.7301148317767,
         10393.638356164383
        ],
        [
         "f817832a-e48a-11ea-8204-0242ac110002",
         59.444218240031226,
         144.19968675622127,
         32.21015909721712,
         33.060188440141516,
         34.27407503986197,
         6983.613698630137
        ],
        [
         "fccfadca-e48a-11ea-8204-0242ac110002",
         68.5375879192027,
         139.5356266978994,
         28.552137248151844,
         29.32184793792741,
         4.909479529541729,
         5175.139726027397
        ],
        [
         "d461b14e-e48a-11ea-8204-0242ac110002",
         62.805076898587416,
         113.56582168746057,
         30.26720121877874,
         31.09975087088779,
         24.993900997863943,
         11348.64109589041
        ],
        [
         "d65f85ca-e48a-11ea-8204-0242ac110002",
         55.21727743239163,
         113.37942058048388,
         22.847353245381097,
         35.17943992194622,
         31.44637336654106,
         12678.810958904109
        ],
        [
         "da784340-e48a-11ea-8204-0242ac110002",
         58.474829754183325,
         129.44825257668373,
         22.915534947220372,
         33.38219266981663,
         42.95403495882634,
         7305.761643835616
        ],
        [
         "db6f0e28-e48a-11ea-8204-0242ac110002",
         63.21882014205145,
         133.93380164006953,
         29.80858811511724,
         28.901219810386504,
         34.13302709604539,
         10236.72602739726
        ],
        [
         "dbfd1e48-e48a-11ea-8204-0242ac110002",
         63.85177801895798,
         127.1498377610549,
         30.4970714521141,
         28.70982973411587,
         33.36364563689809,
         6984.32602739726
        ],
        [
         "de054328-e48a-11ea-8204-0242ac110002",
         59.40737350689904,
         103.76472685954998,
         23.720215707496966,
         33.21313408281472,
         30.05846694787139,
         12427.698630136987
        ],
        [
         "df06166c-e48a-11ea-8204-0242ac110002",
         55.24772856990126,
         116.85939956088122,
         21.66214418732185,
         36.739182455174266,
         31.791768493565915,
         12705.48493150685
        ],
        [
         "e139f87c-e48a-11ea-8204-0242ac110002",
         56.4158640167109,
         110.78186489249646,
         21.871401028575328,
         34.29970019485322,
         33.28946152378355,
         13093.350684931507
        ],
        [
         "e9459594-e48a-11ea-8204-0242ac110002",
         50.74406696603269,
         111.65762389280079,
         21.664171762795863,
         36.523167133286265,
         31.568486681822204,
         12630.627397260274
        ],
        [
         "ecbcc850-e48a-11ea-8204-0242ac110002",
         52.26596336768353,
         105.38482504344559,
         20.52664276318311,
         36.54459390879822,
         48.732131520732466,
         11350.860273972603
        ],
        [
         "f7095404-e48a-11ea-8204-0242ac110002",
         70.94554618642964,
         135.25489953724565,
         27.41945022038156,
         25.14103847427577,
         35.65673264673946,
         7025.750684931507
        ],
        [
         "ff9812ea-e48a-11ea-8204-0242ac110002",
         93.68124858386508,
         141.95514359768345,
         17.87193806027034,
         17.03770828287063,
         6.840483529961455,
         5232.991780821918
        ],
        [
         "d67af65c-e48a-11ea-8204-0242ac110002",
         65.92411272793555,
         131.80671437687576,
         32.78585803218873,
         28.034488211478394,
         32.35016683941449,
         9856.630136986301
        ],
        [
         "d8fbea08-e48a-11ea-8204-0242ac110002",
         56.8705782716051,
         115.17087262215144,
         24.570706951584295,
         33.61474126990288,
         28.230322147207982,
         12275.660273972602
        ],
        [
         "d9e50c4c-e48a-11ea-8204-0242ac110002",
         54.50215319667901,
         105.51777831412313,
         20.748602153890744,
         38.52746520873855,
         45.91500585153434,
         11025.276712328767
        ],
        [
         "da17592c-e48a-11ea-8204-0242ac110002",
         54.77908266525594,
         108.15071784658238,
         20.91366854373003,
         36.50039642145559,
         32.38710983013407,
         12811.049315068492
        ],
        [
         "db55b6a8-e48a-11ea-8204-0242ac110002",
         58.77461392077637,
         109.90011966666101,
         23.940667070424034,
         33.70643357812861,
         41.888601023319296,
         10813.4
        ],
        [
         "dc18b784-e48a-11ea-8204-0242ac110002",
         59.17480122594441,
         109.9497666813794,
         23.807078663066786,
         34.6471924408034,
         30.272079402362756,
         12608.350684931507
        ],
        [
         "de7b0676-e48a-11ea-8204-0242ac110002",
         47.48485077139388,
         110.57459821640212,
         14.602902364864208,
         41.901478813776365,
         44.8532051406756,
         15140.931506849314
        ],
        [
         "de9ae3ce-e48a-11ea-8204-0242ac110002",
         57.17380840219266,
         107.23293570600454,
         23.092381538655378,
         35.17944075840353,
         28.731975196710753,
         12135.490410958904
        ],
        [
         "e3c19c9e-e48a-11ea-8204-0242ac110002",
         51.51274611596193,
         105.55812309031464,
         19.5643953093436,
         37.53059163762766,
         36.44106190901872,
         13360
        ],
        [
         "e88fa946-e48a-11ea-8204-0242ac110002",
         50.224601293821934,
         95.18168636284827,
         20.554673232841512,
         40.62693995908558,
         34.75104247708437,
         13165.449315068494
        ],
        [
         "f1f558dc-e48a-11ea-8204-0242ac110002",
         51.50065344004929,
         96.43299539730603,
         18.622789317448216,
         36.2643517103463,
         36.338612810038775,
         13425.405479452054
        ],
        [
         "f3454e7c-e48a-11ea-8204-0242ac110002",
         69.42333529552191,
         143.24605554627607,
         26.375522739355603,
         30.366858437134944,
         5.291975677523973,
         5156.627397260274
        ],
        [
         "f3a2afea-e48a-11ea-8204-0242ac110002",
         74.16055867888522,
         142.56066640982237,
         25.039328414839602,
         23.68651505488246,
         37.0189664778213,
         7163.594520547946
        ],
        [
         "f3b62976-e48a-11ea-8204-0242ac110002",
         68.16692559842218,
         128.60194645889925,
         28.399857582099973,
         30.835125511000903,
         35.96856945791363,
         10223.224657534247
        ],
        [
         "f8acde48-e48a-11ea-8204-0242ac110002",
         68.51613683552418,
         145.68093159684,
         28.163949996423217,
         26.5181600247372,
         34.93165593308399,
         6894.819178082192
        ],
        [
         "fa9c51d4-e48a-11ea-8204-0242ac110002",
         96.4231259113107,
         141.53117127540526,
         14.69516790283601,
         14.661409417063476,
         7.792555704346298,
         5276.1589041095895
        ],
        [
         "fbd6870e-e48a-11ea-8204-0242ac110002",
         70.93747006168968,
         141.7281580711131,
         28.731288306903735,
         26.5414782813157,
         33.61305244454736,
         7014.893150684931
        ],
        [
         "fc17561c-e48a-11ea-8204-0242ac110002",
         89.93361830694482,
         127.1555737611137,
         18.008203355925378,
         15.029882071480072,
         6.763090079720714,
         5177.61095890411
        ],
        [
         "ff1909e6-e48a-11ea-8204-0242ac110002",
         86.99345515819023,
         135.73435622910443,
         21.017008904054304,
         19.252631090291583,
         5.905710805774808,
         5199.52602739726
        ],
        [
         "d5ba328c-e48a-11ea-8204-0242ac110002",
         56.97346936884916,
         131.97780860360635,
         24.585698103836286,
         33.24780667953712,
         41.117546385633716,
         10608.66301369863
        ],
        [
         "d9656514-e48a-11ea-8204-0242ac110002",
         60.4645383183496,
         117.74630149275592,
         25.32490329959948,
         32.439455446728594,
         28.262321339646025,
         12203.112328767123
        ],
        [
         "ec854902-e48a-11ea-8204-0242ac110002",
         53.36855061132292,
         106.47744304628775,
         18.753372880402193,
         33.04532541869884,
         51.14320951475341,
         11530.476712328767
        ],
        [
         "eecb0292-e48a-11ea-8204-0242ac110002",
         48.46115314762967,
         96.9044046105752,
         23.189115183705162,
         41.5974160679984,
         32.86627228925507,
         13011.369863013699
        ],
        [
         "f1111d0c-e48a-11ea-8204-0242ac110002",
         50.487354972501805,
         106.37652231406894,
         19.405464018777934,
         40.53971000761969,
         49.75173907003634,
         11571.745205479452
        ],
        [
         "f26338a2-e48a-11ea-8204-0242ac110002",
         69.42165774193732,
         128.82811262108692,
         30.35790046171078,
         26.30236967280923,
         33.72857371789753,
         10061.945205479453
        ],
        [
         "f466a17a-e48a-11ea-8204-0242ac110002",
         71.94674682632085,
         151.3464565451322,
         25.650951436293152,
         30.258791525337145,
         36.73378782738133,
         7110.386301369863
        ],
        [
         "f4b5289a-e48a-11ea-8204-0242ac110002",
         65.44422655511507,
         123.46452143803404,
         29.690225355068712,
         32.12334214542241,
         35.88963276246843,
         10329.416438356164
        ],
        [
         "f6a67f1e-e48a-11ea-8204-0242ac110002",
         66.63316432983707,
         112.31727413363517,
         30.408515433189738,
         30.20674369328061,
         33.48605912749805,
         10221.194520547946
        ],
        [
         "fa0b9e3c-e48a-11ea-8204-0242ac110002",
         61.82754409438027,
         129.68117628800596,
         32.58407390494747,
         30.406375487623823,
         33.50303801018625,
         7072.408219178083
        ],
        [
         "fd9befc0-e48a-11ea-8204-0242ac110002",
         64.27290762205097,
         120.45678276149002,
         29.008190108495874,
         31.03535133093854,
         35.00143524853728,
         7033.7013698630135
        ],
        [
         "ffb3af6e-e48a-11ea-8204-0242ac110002",
         68.75323184176337,
         114.42073593783826,
         30.16271241955345,
         28.905605781864704,
         33.962646779153836,
         7074.139726027397
        ],
        [
         "ffebb788-e48a-11ea-8204-0242ac110002",
         74.48397735642521,
         144.68354002026777,
         26.586946089628967,
         25.755876506116817,
         36.41758779091882,
         7180.128767123288
        ],
        [
         "00573f6c-e48b-11ea-8204-0242ac110002",
         60.12813834027657,
         119.2243293003114,
         30.787674339113707,
         32.12788120767524,
         34.15499959666808,
         9960.898630136986
        ],
        [
         "d28a7b58-e48a-11ea-8204-0242ac110002",
         65.97734526032367,
         117.09415971997167,
         32.401118172084686,
         28.48170206175846,
         22.293027260230616,
         10953.978082191781
        ],
        [
         "d4dd2a18-e48a-11ea-8204-0242ac110002",
         53.91313260480513,
         116.91442623980258,
         20.67341270149798,
         36.34628186503768,
         31.929411557684563,
         12981.323287671234
        ],
        [
         "d71b45e4-e48a-11ea-8204-0242ac110002",
         64.59810731860013,
         121.80730818442949,
         27.116663181664087,
         31.476293488548926,
         36.303964629443385,
         7074.41095890411
        ],
        [
         "d91406d8-e48a-11ea-8204-0242ac110002",
         54.85617750715018,
         125.56642430144544,
         20.65182221014279,
         35.77032476948787,
         50.464701892953926,
         11532.780821917808
        ],
        [
         "dd926290-e48a-11ea-8204-0242ac110002",
         56.24263621621886,
         113.30761282217233,
         23.15058078072761,
         35.884331769183035,
         41.72785576768766,
         10770.287671232876
        ],
        [
         "e33bc90c-e48a-11ea-8204-0242ac110002",
         49.66376667792978,
         101.0290712689072,
         23.764545897887558,
         40.246459132481824,
         31.929718526346555,
         12805.101369863014
        ],
        [
         "e4981c1a-e48a-11ea-8204-0242ac110002",
         49.47856670062808,
         105.0778772937585,
         22.019190492854797,
         42.698072303587644,
         32.680782546322575,
         12862.005479452055
        ],
        [
         "ed0a8324-e48a-11ea-8204-0242ac110002",
         48.897203911306505,
         104.03573669422059,
         27.99930620403317,
         41.65602514007281,
         27.557092138434037,
         11879.767123287671
        ],
        [
         "ef3db4ae-e48a-11ea-8204-0242ac110002",
         49.25299378591106,
         94.83498318016622,
         23.63611733596046,
         43.71411776721962,
         31.253347296457243,
         12466.468493150685
        ],
        [
         "ef520738-e48a-11ea-8204-0242ac110002",
         51.8153679424872,
         114.45693272644286,
         17.777104360258516,
         35.999087938307056,
         52.908544382517604,
         11808.408219178082
        ],
        [
         "f11d262e-e48a-11ea-8204-0242ac110002",
         49.985720966255805,
         102.11908057271668,
         21.12659292838227,
         41.3322906424937,
         47.360636541998026,
         11230.980821917808
        ],
        [
         "f38f5274-e48a-11ea-8204-0242ac110002",
         89.83144735502731,
         141.44315697355458,
         17.596560134550263,
         17.511730435595297,
         7.029628015971148,
         5280.027397260274
        ],
        [
         "fa83797a-e48a-11ea-8204-0242ac110002",
         82.23193357821977,
         138.53324585681642,
         24.707027023043285,
         20.56033559557636,
         36.731238237383536,
         6987.106849315069
        ],
        [
         "d85c57ea-e48a-11ea-8204-0242ac110002",
         49.707665712666284,
         110.86456013040053,
         16.179799115801973,
         41.466420744556125,
         40.36970804214607,
         14140.112328767123
        ],
        [
         "df726808-e48a-11ea-8204-0242ac110002",
         54.645039302424856,
         112.90721234606201,
         23.50729001442424,
         36.229734845258676,
         31.4810026133495,
         12707.295890410958
        ],
        [
         "e03de60e-e48a-11ea-8204-0242ac110002",
         65.6136418286296,
         131.3180679466607,
         30.858295851652706,
         29.878884076400116,
         33.303490658333246,
         6970.8794520547945
        ],
        [
         "e813e108-e48a-11ea-8204-0242ac110002",
         51.157319835848824,
         99.12082662742658,
         20.61821677269104,
         39.524735716706786,
         35.08236967284796,
         13213.2
        ],
        [
         "ea0f5e1a-e48a-11ea-8204-0242ac110002",
         53.063015426517,
         101.1834012294331,
         14.391151247039568,
         35.42089448389043,
         65.54834304150624,
         12683.917808219177
        ],
        [
         "ef5a5a96-e48a-11ea-8204-0242ac110002",
         52.542751647968565,
         111.09732156292552,
         18.084253530949702,
         34.866763337360865,
         37.69188294521359,
         13900.191780821919
        ],
        [
         "f0041c3e-e48a-11ea-8204-0242ac110002",
         51.68366480403977,
         98.53633905747007,
         18.41774440597346,
         38.12560144042287,
         37.14039618315778,
         13674
        ],
        [
         "00a65476-e48b-11ea-8204-0242ac110002",
         58.283450201240946,
         120.07779187134611,
         34.45142239585158,
         32.127050196244994,
         32.99624866520692,
         6919.602739726028
        ],
        [
         "d4f019de-e48a-11ea-8204-0242ac110002",
         63.8218881911278,
         113.53055629236879,
         28.914647490010378,
         30.644597199152795,
         26.98658843110933,
         11825.85205479452
        ],
        [
         "d6db557e-e48a-11ea-8204-0242ac110002",
         55.92466673763762,
         124.87392038894166,
         22.453058611321314,
         34.85192254816756,
         46.47328976327869,
         11248.145205479452
        ],
        [
         "d77833b2-e48a-11ea-8204-0242ac110002",
         62.774220037074414,
         122.50538208722931,
         27.64949665191385,
         28.818709599094092,
         36.56411109140419,
         7088.742465753425
        ],
        [
         "d88e304e-e48a-11ea-8204-0242ac110002",
         53.26056758702376,
         105.43426536253541,
         18.718959541398387,
         40.87651127473394,
         37.144058845314866,
         13753.246575342466
        ],
        [
         "da37655a-e48a-11ea-8204-0242ac110002",
         59.7214596177144,
         105.88183089577025,
         26.41103715294509,
         31.882693286582782,
         41.3862306582092,
         10750.164383561643
        ],
        [
         "ddbcbe0a-e48a-11ea-8204-0242ac110002",
         62.49368737928978,
         119.12755391683814,
         28.957401600794345,
         30.735486277437662,
         34.87244621023027,
         10122.016438356164
        ],
        [
         "de96d6f8-e48a-11ea-8204-0242ac110002",
         53.563858524608236,
         101.83905826881336,
         21.17204070152068,
         38.84750303620322,
         32.912072689238144,
         13046.353424657535
        ],
        [
         "e1f73e3c-e48a-11ea-8204-0242ac110002",
         58.234251309971604,
         124.37959246678318,
         26.489814460613587,
         33.16937867590457,
         40.55080463293464,
         10542.446575342467
        ],
        [
         "e25c8b52-e48a-11ea-8204-0242ac110002",
         45.81016206867767,
         98.77711125526122,
         28.57052917410195,
         48.57960138367296,
         28.62471594539679,
         12114.241095890411
        ],
        [
         "e80bfbc8-e48a-11ea-8204-0242ac110002",
         50.65955299316272,
         97.48162608081856,
         21.207295997171727,
         37.68403975594763,
         34.34009560032275,
         13287.413698630136
        ],
        [
         "e8839584-e48a-11ea-8204-0242ac110002",
         50.653348084329856,
         93.63837484936484,
         22.738568358000858,
         38.72056517307858,
         32.033304878519345,
         12574.257534246575
        ],
        [
         "ee88b8c4-e48a-11ea-8204-0242ac110002",
         51.41062502880058,
         113.18082346625513,
         16.976223123031556,
         36.172629529761146,
         54.83273181549607,
         7540.367123287671
        ],
        [
         "f5743064-e48a-11ea-8204-0242ac110002",
         96.05237605034688,
         147.66059236683043,
         17.117911573521425,
         15.281249859214014,
         49.09652773997195,
         7418.1589041095895
        ],
        [
         "f5eebf8c-e48a-11ea-8204-0242ac110002",
         80.2400455693931,
         138.12710104962028,
         23.517067882107686,
         23.587203449344344,
         37.8377088988666,
         7138.180821917808
        ],
        [
         "fe5450ba-e48a-11ea-8204-0242ac110002",
         78.44060045163558,
         147.4744513553703,
         22.833675508928557,
         21.86774227998946,
         39.59678649715513,
         7142.076712328767
        ],
        [
         "001b6f0a-e48b-11ea-8204-0242ac110002",
         64.64397544858174,
         152.9654977304546,
         29.17716498363452,
         28.92795344089978,
         5.015081852287961,
         5167.789041095891
        ],
        [
         "d2beac70-e48a-11ea-8204-0242ac110002",
         61.19426102606033,
         118.93292417500302,
         27.77475550396417,
         30.894805595715518,
         26.42696468039833,
         11911.734246575343
        ],
        [
         "d376cbfc-e48a-11ea-8204-0242ac110002",
         56.24500626623722,
         111.4816471238144,
         21.25259771717051,
         36.03172732724774,
         33.3890460184699,
         12895.024657534246
        ],
        [
         "d58a94c8-e48a-11ea-8204-0242ac110002",
         65.34297928233957,
         118.49810617793833,
         27.903323349468824,
         30.72758637233813,
         37.33678974264538,
         7211.13698630137
        ],
        [
         "01c99836-e48b-11ea-8204-0242ac110002",
         76.78177278002545,
         129.17905020458878,
         24.27809568715765,
         23.54466972692042,
         35.936140969781505,
         10212.205479452055
        ],
        [
         "d27af598-e48a-11ea-8204-0242ac110002",
         59.03904904105346,
         113.88658081734816,
         24.765114212661622,
         33.98415737371395,
         29.500022861672388,
         12497.750684931507
        ],
        [
         "d2f7cdb6-e48a-11ea-8204-0242ac110002",
         60.14493078387789,
         112.9770273315414,
         26.324104930214727,
         33.163263517366246,
         27.143121550358256,
         12026.394520547945
        ],
        [
         "d38f5cf8-e48a-11ea-8204-0242ac110002",
         60.39190113928199,
         130.74839072755628,
         28.221315408606213,
         31.906228530675982,
         36.72584952285408,
         7181.635616438356
        ],
        [
         "d465e746-e48a-11ea-8204-0242ac110002",
         60.33176820110047,
         128.97349983040715,
         24.32104858798438,
         33.69906289717363,
         41.17765301685576,
         10830.093150684932
        ],
        [
         "d539cf7a-e48a-11ea-8204-0242ac110002",
         57.784613293791026,
         115.82969276693001,
         24.3668099694494,
         33.19171778659495,
         40.98199349700166,
         7255.147945205479
        ],
        [
         "d80e456e-e48a-11ea-8204-0242ac110002",
         61.95797531245902,
         123.27502734801213,
         26.947832360333095,
         32.00402413919382,
         39.22699917562814,
         10412.827397260275
        ],
        [
         "d83c0f94-e48a-11ea-8204-0242ac110002",
         60.72894626375877,
         114.90536765539285,
         25.6725695933842,
         34.58087971634923,
         39.91861458425267,
         10585.202739726028
        ],
        [
         "d873a09e-e48a-11ea-8204-0242ac110002",
         54.46631685374545,
         111.49242628560009,
         19.290950233189314,
         38.86703607909046,
         35.24564078605464,
         13150.767123287671
        ],
        [
         "da506960-e48a-11ea-8204-0242ac110002",
         59.130983394235344,
         118.93575808039463,
         26.120222884635204,
         33.70817172843563,
         40.640829742801714,
         10733.654794520548
        ],
        [
         "daa57e5a-e48a-11ea-8204-0242ac110002",
         60.051252145819724,
         119.03828456435141,
         22.958087330924606,
         33.59642936920589,
         41.2977051751276,
         10785.046575342465
        ],
        [
         "db49ba38-e48a-11ea-8204-0242ac110002",
         64.72291172304485,
         125.53702452095317,
         27.761156832286805,
         29.898660948940922,
         36.381819868026824,
         6994.0191780821915
        ],
        [
         "e071534a-e48a-11ea-8204-0242ac110002",
         55.184868085233845,
         122.10109826826186,
         22.769518919249702,
         35.32471245581274,
         43.497598437679706,
         7303.45205479452
        ],
        [
         "e5016986-e48a-11ea-8204-0242ac110002",
         52.14955620839972,
         88.16449544440117,
         18.654649103577626,
         34.357912924374965,
         37.33348076380963,
         13704.394520547945
        ],
        [
         "e8b39e0a-e48a-11ea-8204-0242ac110002",
         46.08693045818607,
         92.24316535668308,
         28.800484843835697,
         50.749875611703935,
         29.220560961080658,
         12184.183561643835
        ],
        [
         "e9ae0c3c-e48a-11ea-8204-0242ac110002",
         53.8153805516512,
         113.30721094656626,
         13.65977106120192,
         32.00509131794127,
         46.27313763529784,
         15591.402739726027
        ],
        [
         "edd5c9d0-e48a-11ea-8204-0242ac110002",
         52.706824588643,
         105.567755239334,
         15.381418086693301,
         36.391632662604835,
         59.79920611036778,
         12467.394520547945
        ],
        [
         "f8d58348-e48a-11ea-8204-0242ac110002",
         88.75060893354853,
         143.93620162480704,
         21.837167887509537,
         19.08329490559864,
         40.071330266630525,
         7216.901369863013
        ],
        [
         "fa767450-e48a-11ea-8204-0242ac110002",
         72.01961981543899,
         137.5528643763997,
         27.15964293759638,
         26.63943290010385,
         5.092136354465133,
         5133.528767123287
        ],
        [
         "fbefc818-e48a-11ea-8204-0242ac110002",
         72.09911167268326,
         140.83359004795366,
         28.88641128147107,
         26.014067358036996,
         4.85685104864966,
         5190.123287671233
        ],
        [
         "0086063a-e48b-11ea-8204-0242ac110002",
         79.53887594717567,
         149.37867198043944,
         22.799319087802758,
         24.063043479580205,
         40.27476376737357,
         7256.1506849315065
        ],
        [
         "d8251d0c-e48a-11ea-8204-0242ac110002",
         59.3180284743097,
         117.92057791367135,
         24.449035175509568,
         34.19192318617704,
         30.158387868885193,
         12515.082191780823
        ],
        [
         "d8c52b30-e48a-11ea-8204-0242ac110002",
         53.598010695445076,
         116.09025305225222,
         19.176732132499225,
         38.02215782921741,
         35.323262364358875,
         13361.47397260274
        ],
        [
         "da64fcb8-e48a-11ea-8204-0242ac110002",
         60.792963094367806,
         112.31210378465445,
         26.230405518542675,
         33.26614809274604,
         38.53207307447889,
         7152.268493150685
        ],
        [
         "e014a898-e48a-11ea-8204-0242ac110002",
         60.848173600606046,
         117.2033234619613,
         26.721739803446916,
         31.122044885155738,
         38.33644818346534,
         10450.671232876712
        ],
        [
         "e2f53eba-e48a-11ea-8204-0242ac110002",
         49.799720865887224,
         99.00695220509475,
         21.389035855506304,
         41.12915759831977,
         49.119076381335894,
         11453.871232876712
        ],
        [
         "e7be461c-e48a-11ea-8204-0242ac110002",
         51.966797535474846,
         104.80762734409139,
         17.34355625230713,
         37.502119661498995,
         38.679860653285786,
         13942.53698630137
        ],
        [
         "ed400d96-e48a-11ea-8204-0242ac110002",
         53.916509482390104,
         116.30739209848025,
         13.906576714666134,
         28.377978725622214,
         46.77428828763734,
         15452.109589041096
        ],
        [
         "ed5b77de-e48a-11ea-8204-0242ac110002",
         51.03912772943997,
         100.32251622502783,
         20.333683745375815,
         39.853055182561214,
         34.79436746392415,
         13216.986301369863
        ],
        [
         "ee32a592-e48a-11ea-8204-0242ac110002",
         50.32740588218883,
         87.71328424959526,
         18.52561270555824,
         41.32701750048009,
         36.82961478883865,
         13765.967123287672
        ],
        [
         "ef8fb33a-e48a-11ea-8204-0242ac110002",
         52.922581855045806,
         98.50898190862061,
         14.66794191948592,
         37.642528134875676,
         43.220963515597276,
         14813.375342465753
        ],
        [
         "efa94250-e48a-11ea-8204-0242ac110002",
         48.444804065500854,
         87.42229496569306,
         25.881221713758062,
         43.850622387544085,
         30.377552078904767,
         12404.09589041096
        ],
        [
         "f4f3e4cc-e48a-11ea-8204-0242ac110002",
         80.75667069359712,
         110.45192548858846,
         23.285659587684037,
         20.718758226450447,
         38.74480832249086,
         7187.77808219178
        ],
        [
         "f60a0882-e48a-11ea-8204-0242ac110002",
         79.62226987115773,
         135.18084653590242,
         23.216265706245466,
         22.258047893552764,
         38.58705603884527,
         7180.131506849315
        ],
        [
         "f737cf96-e48a-11ea-8204-0242ac110002",
         77.99233698888233,
         132.11630313460194,
         25.142639905604934,
         22.861880704949623,
         36.853674809528485,
         7070.34794520548
        ],
        [
         "f7e3d6a6-e48a-11ea-8204-0242ac110002",
         85.69131438459284,
         144.89162919007012,
         21.008389829385507,
         21.523469878970722,
         41.49568997407763,
         7261.471232876713
        ],
        [
         "fde6ba78-e48a-11ea-8204-0242ac110002",
         73.0347968797731,
         141.91861189134633,
         24.38730195863408,
         25.68860480668845,
         5.618392606865881,
         5138.356164383562
        ],
        [
         "00d68416-e48b-11ea-8204-0242ac110002",
         71.87877201400556,
         141.25830265927655,
         26.64838214825805,
         27.954666961755994,
         5.220250370742572,
         5140.871232876712
        ],
        [
         "d2cf657e-e48a-11ea-8204-0242ac110002",
         61.735430782299446,
         125.6348668736099,
         25.32279102315175,
         32.11808692630453,
         40.92876202963181,
         10652.46301369863
        ],
        [
         "d4fbb3de-e48a-11ea-8204-0242ac110002",
         56.416785245686334,
         116.07197606258173,
         21.385730030810702,
         35.54719366853739,
         32.42283130426701,
         12819.687671232878
        ],
        [
         "d87b42d6-e48a-11ea-8204-0242ac110002",
         60.721794773948815,
         119.13784679648283,
         25.03753783427391,
         34.03987123780181,
         39.65502654250608,
         7166.043835616439
        ],
        [
         "df221c18-e48a-11ea-8204-0242ac110002",
         60.768631321068376,
         127.80996788494905,
         24.389650516064243,
         31.565435702376814,
         40.88041873453851,
         10604.4301369863
        ],
        [
         "e07ce34a-e48a-11ea-8204-0242ac110002",
         59.987129312348394,
         112.5806736117697,
         26.7946230346969,
         33.25836147248404,
         38.40513465621364,
         10501.841095890411
        ],
        [
         "e145ac30-e48a-11ea-8204-0242ac110002",
         60.84445989810876,
         119.49730229125157,
         25.25704301851652,
         31.325770170437384,
         39.79195801798443,
         10638.87397260274
        ],
        [
         "e1a59582-e48a-11ea-8204-0242ac110002",
         52.533265891872766,
         110.07266795448614,
         17.932320585659102,
         38.00916739323384,
         37.50064657262309,
         13731.624657534247
        ],
        [
         "e7592a20-e48a-11ea-8204-0242ac110002",
         51.95743850589838,
         106.85575810604125,
         18.00014364808456,
         37.5040072475969,
         37.55914447659775,
         14019.720547945206
        ],
        [
         "f31e6bae-e48a-11ea-8204-0242ac110002",
         75.72950034260217,
         132.95254112384956,
         27.5535252725077,
         22.411596292912837,
         35.489920887215476,
         7156.8328767123285
        ],
        [
         "f48d8f4c-e48a-11ea-8204-0242ac110002",
         71.58282101192242,
         131.90263306593434,
         26.8376153105161,
         27.13333656869724,
         36.110639238256894,
         7161.884931506849
        ],
        [
         "f4916fb8-e48a-11ea-8204-0242ac110002",
         73.79201632353629,
         145.00551899291284,
         23.708051134939225,
         26.776915600206227,
         5.5262209882373226,
         5229.67397260274
        ],
        [
         "d9bca4a0-e48a-11ea-8204-0242ac110002",
         54.90410407622516,
         123.51589382805233,
         20.552942332872593,
         36.891628914215374,
         33.57949676879141,
         13080.698630136987
        ],
        [
         "da6108e2-e48a-11ea-8204-0242ac110002",
         60.79652679630013,
         120.49346593821107,
         26.000261790521147,
         32.80002147313527,
         39.289004840453366,
         10395.65205479452
        ],
        [
         "db38d10a-e48a-11ea-8204-0242ac110002",
         56.19930431692095,
         127.12082146097072,
         19.515680262735753,
         38.490634308277215,
         49.58369155863163,
         7485.032876712329
        ],
        [
         "deaf4454-e48a-11ea-8204-0242ac110002",
         70.51223426993495,
         123.73304211760811,
         38.47558010246429,
         22.053317429310034,
         28.956897512881536,
         9485.4301369863
        ],
        [
         "dfad3744-e48a-11ea-8204-0242ac110002",
         61.86220126523169,
         118.77839669373454,
         26.534210315914756,
         30.851839228252413,
         37.48656152868951,
         7188.1123287671235
        ],
        [
         "e6ceceac-e48a-11ea-8204-0242ac110002",
         52.052209395267916,
         104.39303330829112,
         18.33520199457723,
         32.9664151184826,
         37.45075694063162,
         13827.668493150684
        ],
        [
         "e92de6ce-e48a-11ea-8204-0242ac110002",
         50.81803080995028,
         107.05888050154519,
         21.759426167534322,
         39.506776386122546,
         33.44658714571346,
         12816.720547945206
        ],
        [
         "e959ceb0-e48a-11ea-8204-0242ac110002",
         52.71869130113522,
         98.17843293857379,
         17.773428463424843,
         33.618783460957935,
         37.45914055344573,
         13738.249315068493
        ],
        [
         "edd0f70c-e48a-11ea-8204-0242ac110002",
         50.139382010459016,
         116.11568546610484,
         22.095347122511548,
         39.25180978003053,
         33.198965430585694,
         12917.898630136986
        ],
        [
         "f2ef53b4-e48a-11ea-8204-0242ac110002",
         79.22163776162797,
         123.5827725532239,
         21.79284603786115,
         22.524367548354487,
         40.681630219321576,
         7167.86301369863
        ],
        [
         "f3e09076-e48a-11ea-8204-0242ac110002",
         79.9579519571355,
         147.36440735709823,
         21.8817450033379,
         24.918977487804252,
         5.850843200196577,
         5267.386301369863
        ],
        [
         "f554b7ca-e48a-11ea-8204-0242ac110002",
         88.49269286158761,
         141.07927645876273,
         18.599126547482435,
         17.81173496675879,
         6.597442118298822,
         5228.216438356164
        ],
        [
         "f628bcfa-e48a-11ea-8204-0242ac110002",
         68.68011931766124,
         150.93680343011007,
         25.48913815489226,
         26.471832046798287,
         37.61243490089223,
         7144.86301369863
        ],
        [
         "f7b91c2c-e48a-11ea-8204-0242ac110002",
         69.20978396183031,
         130.0096180384838,
         31.115988771998737,
         29.341222469184295,
         32.71468686633713,
         9900.745205479452
        ],
        [
         "f8d9b77e-e48a-11ea-8204-0242ac110002",
         68.13081177405002,
         147.13021212420676,
         27.80183058558763,
         28.350424554026155,
         35.615138945749855,
         7130.183561643836
        ],
        [
         "faf76ba0-e48a-11ea-8204-0242ac110002",
         65.29126255410016,
         137.88076695803068,
         28.723067334814427,
         30.01945661697666,
         5.009503164017261,
         5149.545205479452
        ],
        [
         "fb6ade3c-e48a-11ea-8204-0242ac110002",
         85.34134304663364,
         140.75248798707347,
         22.265501880856597,
         20.395691113120186,
         39.259332374605506,
         7138.923287671233
        ],
        [
         "fcec6c80-e48a-11ea-8204-0242ac110002",
         64.45536545066544,
         140.3464886175064,
         30.618907197580373,
         30.5465082252819,
         4.860889648361843,
         5195.956164383561
        ],
        [
         "fd3dc36e-e48a-11ea-8204-0242ac110002",
         80.08309920229101,
         151.31911082893498,
         22.841330961053032,
         21.791188467913244,
         5.729386736292561,
         5153.884931506849
        ],
        [
         "00a2791e-e48b-11ea-8204-0242ac110002",
         90.86679398042912,
         127.6482052188282,
         20.23437677126419,
         18.810642183294437,
         42.6330935606208,
         7353.764383561644
        ],
        [
         "d7e0bee6-e48a-11ea-8204-0242ac110002",
         62.182037894911566,
         127.64092187031855,
         26.766227721422432,
         32.81442507535419,
         38.821063804564,
         10478.241095890411
        ],
        [
         "dacde26e-e48a-11ea-8204-0242ac110002",
         61.68581857394101,
         123.79855529104447,
         28.886973151983025,
         29.231059698061,
         35.708494290094954,
         10125.449315068494
        ],
        [
         "e78277d6-e48a-11ea-8204-0242ac110002",
         50.08828788576366,
         97.94864068023027,
         20.225233130459717,
         39.630634733939345,
         50.24184460109788,
         11399.66301369863
        ],
        [
         "f47a2858-e48a-11ea-8204-0242ac110002",
         57.415035764962056,
         130.98636405421382,
         34.47324555179472,
         30.52402791228877,
         32.49601327317359,
         9965.668493150684
        ],
        [
         "f7a1da76-e48a-11ea-8204-0242ac110002",
         78.0121859097429,
         143.65785759245415,
         23.39051511366773,
         24.687385258449066,
         5.583585044781946,
         5164.564383561644
        ],
        [
         "f7dfeb90-e48a-11ea-8204-0242ac110002",
         65.56466038508293,
         111.19935676207218,
         29.395534334552167,
         29.444251278819728,
         25.241563334354634,
         11645.578082191782
        ],
        [
         "d2a5908c-e48a-11ea-8204-0242ac110002",
         57.44589185511159,
         108.65296530868542,
         23.48364432235864,
         34.92201753784124,
         30.372655621728292,
         12438.367123287671
        ],
        [
         "d54549fe-e48a-11ea-8204-0242ac110002",
         62.51187808522047,
         129.93351467008648,
         27.08156700598253,
         31.594859750505197,
         38.75943122024592,
         10431.635616438356
        ],
        [
         "d8c8ee28-e48a-11ea-8204-0242ac110002",
         56.096582706922625,
         112.06331123649046,
         24.071821659398395,
         35.42843991046238,
         42.14726470537534,
         10910.750684931507
        ],
        [
         "d90bc752-e48a-11ea-8204-0242ac110002",
         64.2361964609091,
         125.96808526915677,
         30.180737699306054,
         29.484059357096264,
         34.28002954907088,
         10086.961643835617
        ],
        [
         "da2959a6-e48a-11ea-8204-0242ac110002",
         56.96541138953618,
         108.68509544472596,
         25.161228278800532,
         34.69392863460614,
         41.139008404211445,
         10836.879452054794
        ],
        [
         "ddc11cf2-e48a-11ea-8204-0242ac110002",
         57.02468612271015,
         119.81487521609104,
         20.706711017492395,
         38.0874779021053,
         32.91184539933407,
         12761.25205479452
        ],
        [
         "e2ba7e7e-e48a-11ea-8204-0242ac110002",
         51.73734254056393,
         104.2453581669994,
         18.56599257586025,
         38.5157042044431,
         36.20033737075352,
         13610.350684931507
        ],
        [
         "e40c0734-e48a-11ea-8204-0242ac110002",
         52.12893742651265,
         92.61037734226912,
         18.159266720965505,
         36.024460392854614,
         37.71358578947294,
         13877.975342465754
        ],
        [
         "ec9d41f6-e48a-11ea-8204-0242ac110002",
         48.51666544270631,
         105.11044281204546,
         24.75353909497272,
         41.83324086288092,
         31.697052049638444,
         12685.153424657534
        ],
        [
         "ed5f5d7c-e48a-11ea-8204-0242ac110002",
         50.63341067412213,
         90.87165495275433,
         19.888824468229227,
         41.69084179531484,
         35.089892146582976,
         13229.282191780821
        ],
        [
         "efd4ea54-e48a-11ea-8204-0242ac110002",
         51.731543159961674,
         110.55875108976512,
         17.832585582960416,
         39.213440697103074,
         57.590069936661244,
         12091.002739726027
        ],
        [
         "f85eb416-e48a-11ea-8204-0242ac110002",
         83.4455799043246,
         157.11773118604364,
         23.71461254197311,
         21.74130520963779,
         5.547379816791614,
         5171.320547945205
        ],
        [
         "fe37c936-e48a-11ea-8204-0242ac110002",
         88.25367872075994,
         144.0201331411336,
         18.59389847751982,
         19.910217746151737,
         46.565626768309755,
         7367.52602739726
        ],
        [
         "01643f86-e48b-11ea-8204-0242ac110002",
         78.95000946605,
         145.6542752685093,
         24.13918196177898,
         22.79399444125811,
         5.395584618188388,
         5234.4767123287675
        ],
        [
         "d2ec42d4-e48a-11ea-8204-0242ac110002",
         55.85493668778006,
         111.45636317529656,
         21.714602340572768,
         35.375541092818644,
         31.847881384213807,
         12587.893150684931
        ],
        [
         "db66a954-e48a-11ea-8204-0242ac110002",
         62.43319898009765,
         121.84602763738359,
         27.245597616259523,
         29.741955420934662,
         37.71217160846411,
         10349.923287671232
        ],
        [
         "dc08abfa-e48a-11ea-8204-0242ac110002",
         59.29356130866706,
         126.78767101632376,
         24.673368389561638,
         33.21108357076395,
         40.22972336783089,
         7232.424657534247
        ],
        [
         "dedc1894-e48a-11ea-8204-0242ac110002",
         58.415693492011485,
         119.10608734584757,
         26.542592694442543,
         33.31964099681816,
         38.404975778140795,
         10445.750684931507
        ],
        [
         "e6200958-e48a-11ea-8204-0242ac110002",
         53.402967620930085,
         103.7400237373952,
         17.462338452304586,
         40.64231691492944,
         55.37380708939676,
         12136.44383561644
        ],
        [
         "e69f2210-e48a-11ea-8204-0242ac110002",
         50.54253492412094,
         105.84662633063094,
         18.190689612684867,
         37.89557500237757,
         38.74539673788554,
         13999.66301369863
        ],
        [
         "e8bb7940-e48a-11ea-8204-0242ac110002",
         50.41052703059923,
         92.24205533889516,
         21.24243439744211,
         38.67944506454293,
         33.584434061765776,
         12887.619178082192
        ],
        [
         "e8bfb2bc-e48a-11ea-8204-0242ac110002",
         52.68197011134767,
         94.40019366490688,
         18.55734961569411,
         36.754907037343735,
         38.321458936372714,
         14132.739726027397
        ],
        [
         "e8ee85e2-e48a-11ea-8204-0242ac110002",
         49.757197444870826,
         97.85353564184909,
         22.737851202461552,
         41.833375907190295,
         33.580862134009216,
         12945.6
        ],
        [
         "ebb0eb12-e48a-11ea-8204-0242ac110002",
         53.71546177973554,
         100.17379589471541,
         13.805215061169887,
         30.846047561352165,
         47.37032652521721,
         15475.372602739726
        ],
        [
         "ec79a62e-e48a-11ea-8204-0242ac110002",
         48.100803602904,
         94.0520890371886,
         25.33526904610341,
         43.01313053340211,
         31.627049220824503,
         12648.83287671233
        ],
        [
         "f0f4bf22-e48a-11ea-8204-0242ac110002",
         51.79637062061783,
         104.87211669811352,
         18.013991353591095,
         39.9996294124884,
         53.96801884400296,
         11917.74794520548
        ],
        [
         "f6aa5404-e48a-11ea-8204-0242ac110002",
         91.76204303342523,
         143.08950659607268,
         19.361971061588967,
         17.565758635066153,
         42.96933428590542,
         7310.367123287671
        ],
        [
         "f9d048dc-e48a-11ea-8204-0242ac110002",
         86.5062697448016,
         145.1985961543419,
         19.37562281106217,
         19.2799031546436,
         44.342017669623885,
         7273.457534246575
        ],
        [
         "fb9795a8-e48a-11ea-8204-0242ac110002",
         80.526597440852,
         150.76506514715902,
         20.61280648251742,
         22.38277494883212,
         41.816172093296565,
         7244.816438356164
        ],
        [
         "e0900aec-e48a-11ea-8204-0242ac110002",
         59.57184620657788,
         117.95223833997834,
         24.65024943266286,
         34.62216602862366,
         28.675819403360972,
         12098.638356164383
        ],
        [
         "e271cd64-e48a-11ea-8204-0242ac110002",
         52.798652503949356,
         113.29059505788,
         15.404991452687003,
         29.607252986333105,
         44.26910300840673,
         14898.186301369862
        ],
        [
         "e3969f1c-e48a-11ea-8204-0242ac110002",
         50.65898075584289,
         112.05584418533353,
         19.15243407948064,
         41.26014703763021,
         54.70169727673837,
         11943.728767123288
        ],
        [
         "e47d0362-e48a-11ea-8204-0242ac110002",
         52.9544551876135,
         118.22750201384144,
         17.70488363501496,
         33.608275675374415,
         56.16037469897449,
         12086.583561643836
        ],
        [
         "e81f731a-e48a-11ea-8204-0242ac110002",
         53.398388502443545,
         115.07074793385557,
         15.150015586915071,
         32.84730240069731,
         64.05413520111892,
         12800.4301369863
        ],
        [
         "ea3ba8ee-e48a-11ea-8204-0242ac110002",
         53.77132003929741,
         108.888584153531,
         14.597321207193065,
         29.243956204884164,
         44.30053430738106,
         14798.08493150685
        ],
        [
         "f0ab639a-e48a-11ea-8204-0242ac110002",
         48.07147515948831,
         89.51692662157137,
         25.013440464697688,
         48.15631655356029,
         29.62969134774064,
         12213.013698630137
        ],
        [
         "f5c01bdc-e48a-11ea-8204-0242ac110002",
         101.69991871599724,
         152.76157011831654,
         14.893036614919195,
         14.786545642351888,
         53.986257123465904,
         7694.915068493151
        ],
        [
         "f6c1a6fe-e48a-11ea-8204-0242ac110002",
         84.26675327837951,
         148.32893486707383,
         20.617185144378094,
         21.686624560088227,
         41.41524455188614,
         7277.405479452054
        ],
        [
         "f74f4626-e48a-11ea-8204-0242ac110002",
         82.47564626725529,
         161.94810275938048,
         22.482185519017204,
         20.74971624801843,
         5.762080450208499,
         5216.58904109589
        ],
        [
         "f7b5441c-e48a-11ea-8204-0242ac110002",
         65.35011601198796,
         140.2746567691522,
         30.610101971844696,
         29.302216384802584,
         34.15331287782829,
         6998.46301369863
        ],
        [
         "fda05290-e48a-11ea-8204-0242ac110002",
         98.94335656346772,
         147.67636184790223,
         11.457475316081918,
         12.584896872740142,
         9.531686172768756,
         5293.8027397260275
        ],
        [
         "fde2a19a-e48a-11ea-8204-0242ac110002",
         71.54477647842141,
         153.4906792637101,
         27.3980811836465,
         27.20634123084001,
         35.446607846177656,
         6998.613698630137
        ],
        [
         "fef8b5ba-e48a-11ea-8204-0242ac110002",
         77.77225276387755,
         140.1281514905454,
         24.567715656777352,
         24.097067655235,
         37.387668041275326,
         7179.698630136986
        ],
        [
         "d943c3c8-e48a-11ea-8204-0242ac110002",
         55.92316250731439,
         106.57672743148282,
         23.150497900885963,
         35.19611934121609,
         31.95400128833979,
         12899.750684931507
        ],
        [
         "dc9685e2-e48a-11ea-8204-0242ac110002",
         61.65579185771142,
         109.49120859032261,
         26.13803110621547,
         32.677652484403836,
         27.717138293052567,
         11843.098630136987
        ],
        [
         "dd448bce-e48a-11ea-8204-0242ac110002",
         53.160689634867076,
         112.25921906180508,
         18.565093273210454,
         37.85808980565666,
         49.43670735351825,
         11561.857534246576
        ],
        [
         "ddede28c-e48a-11ea-8204-0242ac110002",
         58.73503301186563,
         121.67215316731667,
         24.567966317843354,
         31.909403407963254,
         41.33632788939527,
         10767.175342465753
        ],
        [
         "e11f272c-e48a-11ea-8204-0242ac110002",
         66.27960345349815,
         126.02094087611287,
         33.64556495344897,
         27.018339753984215,
         30.79861715451807,
         6902.232876712329
        ],
        [
         "e307a3ac-e48a-11ea-8204-0242ac110002",
         50.9838434743732,
         96.2339098442623,
         21.345238624396252,
         36.990248591408665,
         34.40015270515002,
         13112.306849315068
        ],
        [
         "e6a31bea-e48a-11ea-8204-0242ac110002",
         51.29584914688839,
         107.10663896071661,
         21.197709099845326,
         38.90728971315249,
         34.279938210046154,
         13067.112328767123
        ],
        [
         "e6a74260-e48a-11ea-8204-0242ac110002",
         51.88335555726663,
         86.54910822317491,
         14.761285540193347,
         35.0124449633488,
         42.07343113768361,
         14630.879452054794
        ],
        [
         "e85ed4d8-e48a-11ea-8204-0242ac110002",
         55.788332645068195,
         111.54562117508921,
         11.06810718150895,
         28.432268473553222,
         54.46827414523149,
         16723.868493150683
        ],
        [
         "ec0e5568-e48a-11ea-8204-0242ac110002",
         48.82327162973423,
         103.55506304995883,
         24.7054606197229,
         42.62809662674452,
         30.438599553461223,
         12425.846575342466
        ],
        [
         "ec1a9c24-e48a-11ea-8204-0242ac110002",
         54.57237755994188,
         111.16880603287139,
         13.106855718266289,
         30.756004148986758,
         65.90650277513899,
         12829.197260273973
        ],
        [
         "f29d2594-e48a-11ea-8204-0242ac110002",
         93.22479178802593,
         138.90665497678478,
         19.278391504416735,
         18.25904016497328,
         6.456615753152501,
         5195.427397260274
        ],
        [
         "f316b36e-e48a-11ea-8204-0242ac110002",
         81.43129559928222,
         128.17131574104212,
         22.58765604490449,
         19.932266389590694,
         40.1220590934959,
         7194.4301369863015
        ],
        [
         "fafbc844-e48a-11ea-8204-0242ac110002",
         84.18792330159694,
         139.27191315430406,
         22.332690769667945,
         22.22312268869081,
         39.962147112850445,
         7214.61095890411
        ],
        [
         "fb0bf3a4-e48a-11ea-8204-0242ac110002",
         79.79898463530574,
         146.78786269272462,
         23.52272785708032,
         20.382443997954343,
         38.43219861116193,
         7070.224657534247
        ],
        [
         "fcb98860-e48a-11ea-8204-0242ac110002",
         67.37689541322109,
         132.99293803037827,
         28.505875948256637,
         31.757824416137588,
         5.087648719313101,
         5116.767123287671
        ],
        [
         "ff884734-e48a-11ea-8204-0242ac110002",
         84.57539766504237,
         136.3320272777947,
         22.980419684430718,
         21.867886972226827,
         38.88364004645493,
         7236.561643835616
        ],
        [
         "d7c61406-e48a-11ea-8204-0242ac110002",
         58.44899085506251,
         124.784488078097,
         27.58508873264069,
         32.47573499625205,
         39.600604990246886,
         10588.542465753424
        ],
        [
         "db1c21a4-e48a-11ea-8204-0242ac110002",
         60.5578959029652,
         120.25377403343214,
         26.631424038287147,
         32.52708481407817,
         39.956998014873335,
         10554.939726027398
        ],
        [
         "e2e76718-e48a-11ea-8204-0242ac110002",
         49.99857754355491,
         103.44117602756867,
         19.618228208458905,
         42.321865062392185,
         48.456217762567725,
         11376.586301369864
        ],
        [
         "ea601738-e48a-11ea-8204-0242ac110002",
         51.429365268350125,
         107.76371632095496,
         17.10943699535951,
         38.34969132123518,
         39.32442213290512,
         13848
        ],
        [
         "eea1b7c0-e48a-11ea-8204-0242ac110002",
         51.32539829415776,
         109.72149437060764,
         19.503958533421972,
         39.96357785514246,
         49.63871832819448,
         11354.91506849315
        ],
        [
         "eff0050a-e48a-11ea-8204-0242ac110002",
         50.0102264913165,
         108.31752882906278,
         20.13113937709419,
         39.35849128665699,
         34.32939199470943,
         13124.698630136987
        ],
        [
         "f2349f24-e48a-11ea-8204-0242ac110002",
         79.9312052864553,
         130.22153765872721,
         24.895244974380336,
         24.026932964693174,
         38.052372603924724,
         7095.010958904109
        ],
        [
         "f34d1dd2-e48a-11ea-8204-0242ac110002",
         82.90758112541404,
         128.9715713659483,
         20.428108887779757,
         21.721512081700034,
         43.25305434040558,
         7350.61095890411
        ],
        [
         "f56c5b82-e48a-11ea-8204-0242ac110002",
         76.24834474812543,
         98.2436639722864,
         25.336498118505695,
         24.345011093277495,
         26.715084968274084,
         11865.4301369863
        ],
        [
         "f65413dc-e48a-11ea-8204-0242ac110002",
         81.26169330828958,
         122.37252533005683,
         22.74559793860213,
         21.944173974639813,
         39.30988147602491,
         7056.868493150685
        ],
        [
         "f762a3a6-e48a-11ea-8204-0242ac110002",
         74.57816285487402,
         124.92675176061647,
         28.224309815640417,
         23.87131919801712,
         34.79323509382743,
         7095.358904109589
        ],
        [
         "f78e36c4-e48a-11ea-8204-0242ac110002",
         70.64833246793366,
         132.8077504984703,
         26.750234489631058,
         28.591612068571518,
         5.171479247936105,
         5138.438356164384
        ],
        [
         "f83ac204-e48a-11ea-8204-0242ac110002",
         81.40604329073291,
         149.3810416598289,
         22.738234950600113,
         23.323575119834672,
         39.12377438905361,
         7191.742465753425
        ],
        [
         "fb2437ac-e48a-11ea-8204-0242ac110002",
         89.82729453786752,
         128.6296441180221,
         17.773267635748926,
         22.17851265869709,
         48.07452019806479,
         7427.504109589041
        ],
        [
         "d80a8e60-e48a-11ea-8204-0242ac110002",
         57.30860502202667,
         126.7622936129852,
         23.611763170376314,
         35.08140609783358,
         41.65231261561428,
         10662.227397260274
        ],
        [
         "db2c9278-e48a-11ea-8204-0242ac110002",
         56.62340633709723,
         112.19802608551906,
         23.421183311773476,
         35.80101141716213,
         32.04602104783825,
         12889.928767123287
        ],
        [
         "e1da9f0c-e48a-11ea-8204-0242ac110002",
         57.51598075116917,
         119.17341716846988,
         23.284803615136695,
         33.87420158730273,
         42.858063857892255,
         7259.895890410959
        ],
        [
         "e38ab40e-e48a-11ea-8204-0242ac110002",
         49.66097882738659,
         112.23144048901753,
         20.29257055969071,
         38.704112085899354,
         35.36835867619624,
         13503.112328767123
        ],
        [
         "ed73d2b6-e48a-11ea-8204-0242ac110002",
         52.809838814012586,
         105.78010844929494,
         16.553534576398274,
         37.333192686307974,
         55.95991675364746,
         11943.47397260274
        ],
        [
         "f0b80fb4-e48a-11ea-8204-0242ac110002",
         49.256527906654966,
         95.54575838290025,
         23.26146792830937,
         43.15940671003929,
         32.694026057007775,
         13028.16712328767
        ],
        [
         "f1d2d578-e48a-11ea-8204-0242ac110002",
         48.08737933077747,
         107.02711147579217,
         23.59150579687621,
         43.7131694644993,
         32.00247150972879,
         12822.501369863014
        ],
        [
         "f2dea99c-e48a-11ea-8204-0242ac110002",
         75.15973578044002,
         146.42390871728134,
         24.463763020378572,
         23.08860580901536,
         37.67604828884744,
         7108.479452054795
        ],
        [
         "f50b1ea8-e48a-11ea-8204-0242ac110002",
         86.74017772398093,
         145.27115953200396,
         22.387934452760298,
         17.781791114539853,
         40.107065754252304,
         7173.912328767124
        ],
        [
         "00aeacca-e48b-11ea-8204-0242ac110002",
         84.97913919043351,
         144.7021608154585,
         20.72095361486682,
         23.35193615360757,
         41.50182880112607,
         7280.854794520548
        ],
        [
         "00b2b50e-e48b-11ea-8204-0242ac110002",
         77.80871909524456,
         129.10762087334388,
         23.61704077988008,
         22.69033220436424,
         38.02291462557083,
         7198.46301369863
        ],
        [
         "d37ec672-e48a-11ea-8204-0242ac110002",
         56.42035233630999,
         125.38464005676678,
         20.29190932347419,
         36.193079663086934,
         33.79667036494002,
         13041.876712328767
        ],
        [
         "d41081fc-e48a-11ea-8204-0242ac110002",
         62.62736374059854,
         119.51593261971962,
         28.604028873348973,
         29.45044115242447,
         36.895989264856155,
         10341.528767123287
        ],
        [
         "d6393cd0-e48a-11ea-8204-0242ac110002",
         63.08843411519338,
         126.09905832008154,
         28.795582474210292,
         29.702505749408346,
         36.898856048935876,
         7044.219178082192
        ],
        [
         "d86bf9d4-e48a-11ea-8204-0242ac110002",
         61.42668813488618,
         110.46848506505148,
         25.770376824769013,
         34.070700290499744,
         39.5559410694787,
         10658.219178082192
        ],
        [
         "dde62a42-e48a-11ea-8204-0242ac110002",
         64.15812516471786,
         120.63436845249677,
         28.51979514905716,
         29.053444577024354,
         35.93278671273852,
         7018.495890410959
        ],
        [
         "df0a29aa-e48a-11ea-8204-0242ac110002",
         57.794114274188374,
         117.97940736465709,
         23.384008201790643,
         33.87621593810831,
         31.26986584507133,
         12483.46301369863
        ],
        [
         "dfc2c816-e48a-11ea-8204-0242ac110002",
         62.09383012689898,
         115.48612739187658,
         24.673812296185595,
         30.469603239656365,
         39.18374871419092,
         10486.082191780823
        ],
        [
         "e0ffee3e-e48a-11ea-8204-0242ac110002",
         55.41397580820315,
         118.1441248832529,
         24.620311768818937,
         32.5353731310961,
         41.81152319318608,
         10823.29315068493
        ],
        [
         "e461b922-e48a-11ea-8204-0242ac110002",
         55.42267744527836,
         107.72238545202569,
         11.01414507691084,
         29.487937761890606,
         55.96995450150951,
         17481.479452054795
        ],
        [
         "e4943604-e48a-11ea-8204-0242ac110002",
         52.00107160778547,
         112.62921146860468,
         16.970359328830263,
         35.38107308838863,
         57.121750084935876,
         12116.14794520548
        ],
        [
         "ecb4caf6-e48a-11ea-8204-0242ac110002",
         48.936638100855966,
         100.03722748298176,
         21.09624449132232,
         43.975581962669246,
         47.42736193150153,
         11295.86301369863
        ],
        [
         "edeffcd8-e48a-11ea-8204-0242ac110002",
         52.42003013181716,
         114.39957502260583,
         16.627914036616733,
         35.94509451648975,
         56.148587249458814,
         7763.917808219178
        ],
        [
         "f2d3281a-e48a-11ea-8204-0242ac110002",
         81.8772020325288,
         154.77108511101176,
         24.55078710625568,
         22.429766137173004,
         37.362576597543026,
         7059.367123287671
        ],
        [
         "f5c3f770-e48a-11ea-8204-0242ac110002",
         84.68136268925703,
         143.22129794921725,
         20.743343055999524,
         20.123959493015004,
         41.9908007252069,
         7250.542465753425
        ],
        [
         "f5eac7ba-e48a-11ea-8204-0242ac110002",
         69.90799184681904,
         136.40822440512443,
         31.55254002340175,
         28.74543017542936,
         31.96472237416073,
         7014.364383561644
        ],
        [
         "fdeac06e-e48a-11ea-8204-0242ac110002",
         81.82224277057894,
         150.98149558527587,
         21.924386111326697,
         24.93036325146038,
         5.858965478687472,
         5200.427397260274
        ],
        [
         "003762aa-e48b-11ea-8204-0242ac110002",
         84.03137470273838,
         150.56703733080104,
         21.540962942918842,
         22.15966551690082,
         5.816435881132796,
         5166.986301369863
        ],
        [
         "d46a524a-e48a-11ea-8204-0242ac110002",
         56.32850879426887,
         118.15092446289303,
         22.86431733996416,
         35.02202564366532,
         31.94276277237338,
         12850
        ],
        [
         "d4c20d32-e48a-11ea-8204-0242ac110002",
         66.04979884279302,
         140.969821301336,
         32.23439633792334,
         25.690661565108172,
         31.542129263518305,
         9850.504109589041
        ],
        [
         "d53d9c5e-e48a-11ea-8204-0242ac110002",
         60.38687385654139,
         117.63411672169848,
         26.147946769117773,
         33.3611375827272,
         39.145665629717016,
         7168.054794520548
        ],
        [
         "d8ec5ae8-e48a-11ea-8204-0242ac110002",
         62.22928074355126,
         124.65402865381357,
         27.175385014874426,
         33.74440334450062,
         38.619307880285014,
         10558.128767123288
        ],
        [
         "e7206f28-e48a-11ea-8204-0242ac110002",
         50.60917850838195,
         106.41827345594727,
         19.90236347480687,
         39.04988557877343,
         49.269581352543234,
         11351.547945205479
        ],
        [
         "e8fb781a-e48a-11ea-8204-0242ac110002",
         51.51460717881761,
         102.31542957519115,
         18.41223139751123,
         39.0537919245676,
         36.81421047941326,
         13669.65205479452
        ],
        [
         "f58c343e-e48a-11ea-8204-0242ac110002",
         68.21693853917763,
         113.9380324793409,
         29.778902617726875,
         29.475996099260133,
         33.45508435962868,
         10017.356164383562
        ],
        [
         "f7207314-e48a-11ea-8204-0242ac110002",
         64.12604380335208,
         117.75989948763011,
         30.151096590823776,
         27.53864501237291,
         35.183569075054926,
         10266.413698630136
        ],
        [
         "fc01806c-e48a-11ea-8204-0242ac110002",
         70.66337681282775,
         138.97956185338847,
         26.721711276438814,
         25.815440526299998,
         36.001287377237304,
         7133.438356164384
        ],
        [
         "fee7ca98-e48a-11ea-8204-0242ac110002",
         83.38543812996747,
         136.9787014906125,
         23.25134310313378,
         21.015491358773193,
         38.319724451293084,
         7149.687671232877
        ],
        [
         "00c65910-e48b-11ea-8204-0242ac110002",
         66.55094487461385,
         148.56226294063006,
         30.772872665647963,
         27.139271149879786,
         33.21722753348183,
         6946.501369863014
        ],
        [
         "d5734a2a-e48a-11ea-8204-0242ac110002",
         56.16410340925965,
         115.99740688959257,
         21.136590082298383,
         35.60195060491414,
         33.783411649620255,
         13067.498630136986
        ],
        [
         "d97b559a-e48a-11ea-8204-0242ac110002",
         60.97109331744125,
         115.44115326016546,
         26.277044599848896,
         31.956413107613923,
         26.413734912648305,
         11715.08493150685
        ],
        [
         "e1e73348-e48a-11ea-8204-0242ac110002",
         58.042952638562504,
         130.94090092226082,
         27.95943555174896,
         30.57607167801311,
         37.87912401296603,
         7098.115068493151
        ],
        [
         "e4d674c4-e48a-11ea-8204-0242ac110002",
         47.00035315806893,
         94.24177254440707,
         25.952904936924615,
         48.38688276080998,
         30.779877158431695,
         12474.846575342466
        ],
        [
         "e4da8c3a-e48a-11ea-8204-0242ac110002",
         51.38868424401737,
         105.16242384217531,
         18.38394549665411,
         37.96508938322745,
         52.149303325646756,
         11688.90410958904
        ],
        [
         "e6b70506-e48a-11ea-8204-0242ac110002",
         52.62751563262177,
         111.30782877923677,
         16.26703609542051,
         35.12691434365278,
         40.06373932012783,
         14210.342465753425
        ],
        [
         "e91e4ffc-e48a-11ea-8204-0242ac110002",
         52.773629869867825,
         107.83817642505893,
         16.524920346440688,
         33.5530406115545,
         38.985791346166245,
         13999.846575342466
        ],
        [
         "eb903890-e48a-11ea-8204-0242ac110002",
         51.94123394174965,
         106.2236948242049,
         15.832307638068803,
         33.7649949530752,
         41.64042543800067,
         14320.731506849315
        ],
        [
         "f4a50528-e48a-11ea-8204-0242ac110002",
         90.10201784527491,
         145.48378104923077,
         18.977568593540255,
         20.000224155010077,
         44.45990247265076,
         7289.917808219178
        ],
        [
         "f568637e-e48a-11ea-8204-0242ac110002",
         80.29169833240752,
         143.16180316713812,
         24.13894926721597,
         23.369528458825084,
         37.551513174309726,
         7198.753424657534
        ],
        [
         "f8bf55a0-e48a-11ea-8204-0242ac110002",
         74.79398461223442,
         147.05869284648148,
         27.830803575028433,
         24.330142915734974,
         4.903079404213541,
         5174.7945205479455
        ],
        [
         "fbe6d2c6-e48a-11ea-8204-0242ac110002",
         70.79701986146928,
         170.73311834835008,
         28.160202235371436,
         29.021311178394246,
         4.986927690542483,
         5193.402739726027
        ],
        [
         "d39b94d2-e48a-11ea-8204-0242ac110002",
         59.18373070479178,
         119.07104339214368,
         25.579180661440443,
         34.19829366931423,
         27.78885868094115,
         11994.619178082192
        ],
        [
         "d5928aa2-e48a-11ea-8204-0242ac110002",
         59.65207632404213,
         124.7832209748081,
         23.768276068168365,
         33.79559011698308,
         42.906908181207605,
         10846.520547945205
        ],
        [
         "d7c9df8c-e48a-11ea-8204-0242ac110002",
         58.85354823346562,
         118.53790589078295,
         23.76623910377238,
         36.58821198682502,
         41.81896708212307,
         7257.882191780822
        ],
        [
         "d96ace32-e48a-11ea-8204-0242ac110002",
         58.45620553052088,
         125.7429516323981,
         23.815497153041424,
         35.51301997963708,
         42.03644662132877,
         10818.487671232877
        ],
        [
         "ddd5f8de-e48a-11ea-8204-0242ac110002",
         54.94050692136503,
         114.67645694324369,
         21.29467178321173,
         36.818514178762264,
         45.47477789683396,
         11089.432876712328
        ],
        [
         "e990a908-e48a-11ea-8204-0242ac110002",
         53.61357542017553,
         106.35041546803801,
         16.415412709630544,
         32.88147441016406,
         40.8897090341679,
         14303.86301369863
        ],
        [
         "ec61b4b0-e48a-11ea-8204-0242ac110002",
         49.27704035037176,
         103.4994922844514,
         21.841965446580645,
         39.65186903312745,
         33.454271046616896,
         13176.345205479452
        ],
        [
         "ed8caa02-e48a-11ea-8204-0242ac110002",
         53.46963147972646,
         99.42845311188576,
         15.580461621297689,
         31.742941443595132,
         43.454934564746495,
         14864.120547945206
        ],
        [
         "ef97f202-e48a-11ea-8204-0242ac110002",
         50.382648665021954,
         108.79619981100612,
         18.724876470799806,
         39.30682077244133,
         35.71865202363155,
         13369.684931506848
        ],
        [
         "f0a7343c-e48a-11ea-8204-0242ac110002",
         52.019366936303975,
         97.29658293896782,
         16.23182770315783,
         34.135385246513145,
         40.19329247325724,
         14286.90410958904
        ],
        [
         "f489ac6a-e48a-11ea-8204-0242ac110002",
         75.24226586746502,
         139.80068182561348,
         26.028322166794208,
         24.80249694815733,
         36.13602198523403,
         7110.024657534246
        ],
        [
         "f5fa6e90-e48a-11ea-8204-0242ac110002",
         69.86667712195275,
         140.3489010532494,
         27.87157134051394,
         27.30219209741682,
         5.046327305071456,
         5126.956164383561
        ],
        [
         "f87fc070-e48a-11ea-8204-0242ac110002",
         90.55153694667897,
         145.7364596119108,
         17.3808539023338,
         17.025708331930023,
         48.2550696333115,
         7466.358904109589
        ],
        [
         "f92a275e-e48a-11ea-8204-0242ac110002",
         84.21926635609692,
         134.73553360941295,
         22.754451103490645,
         21.636867501880868,
         39.43592820212984,
         7146.739726027397
        ],
        [
         "fc29ebb0-e48a-11ea-8204-0242ac110002",
         71.2861395269591,
         125.83700220923325,
         28.584748305951038,
         27.63453692587975,
         34.89644833400351,
         10186.482191780822
        ],
        [
         "fdc68dac-e48a-11ea-8204-0242ac110002",
         87.62719202949523,
         136.52529324778527,
         18.672053943801377,
         20.79324345742633,
         6.569990324705162,
         5232.506849315068
        ],
        [
         "fe2bbb46-e48a-11ea-8204-0242ac110002",
         53.4792711248995,
         109.51015813008,
         37.12319943148094,
         38.38055962368923,
         23.105479522413294,
         11115.871232876712
        ],
        [
         "fff7e742-e48a-11ea-8204-0242ac110002",
         81.90773695447994,
         148.37881154512067,
         21.598410777870626,
         22.797690192330553,
         5.83814781136633,
         5153.890410958904
        ],
        [
         "01546b4c-e48b-11ea-8204-0242ac110002",
         75.42280476038069,
         158.84278062934237,
         21.94086560466616,
         27.24766123954176,
         41.320817165907215,
         7199.61095890411
        ],
        [
         "d86481e0-e48a-11ea-8204-0242ac110002",
         56.97188734611269,
         114.74029013116355,
         21.774009452753845,
         34.358903520886884,
         33.26424239307706,
         13000.82191780822
        ],
        [
         "e663b248-e48a-11ea-8204-0242ac110002",
         51.33828133087156,
         107.23388422389844,
         21.10998757610911,
         36.04228467293787,
         32.67203465373042,
         12849.679452054794
        ],
        [
         "eccd162e-e48a-11ea-8204-0242ac110002",
         51.40373622291533,
         102.48642470082426,
         19.27381253920902,
         37.68662125714665,
         50.34704209132349,
         11543.276712328767
        ],
        [
         "ef836c10-e48a-11ea-8204-0242ac110002",
         49.66458980178769,
         96.50441584125117,
         23.007679552810696,
         40.85960575605249,
         31.86271035132029,
         12621.62191780822
        ],
        [
         "f462add6-e48a-11ea-8204-0242ac110002",
         64.69975539974845,
         128.41392010717834,
         25.85805679502295,
         28.300471310388602,
         38.10673431009677,
         7094.191780821918
        ],
        [
         "f701908e-e48a-11ea-8204-0242ac110002",
         94.55470470700647,
         137.5513675667157,
         18.633269508675145,
         15.050336434047146,
         45.22934210287284,
         7429.002739726027
        ],
        [
         "fff00e82-e48a-11ea-8204-0242ac110002",
         82.05608649207487,
         140.6146785875998,
         21.432227058233284,
         24.16206365585868,
         41.55075711116614,
         7283.4301369863015
        ],
        [
         "d3ac6f6e-e48a-11ea-8204-0242ac110002",
         61.25471147884661,
         122.8116654098448,
         28.451282876520732,
         30.719365499649143,
         36.64246781913964,
         10236.77808219178
        ],
        [
         "d3e519cc-e48a-11ea-8204-0242ac110002",
         53.16517109969772,
         115.62674198696811,
         17.270236842971595,
         40.57778393965105,
         38.94223213181869,
         14030.032876712328
        ],
        [
         "da01fb9a-e48a-11ea-8204-0242ac110002",
         59.519766266794825,
         110.39143807953738,
         24.630041165897687,
         35.66425229959803,
         39.53750320193133,
         10474.2
        ],
        [
         "dce51b30-e48a-11ea-8204-0242ac110002",
         59.2172171158614,
         121.34623551413588,
         27.18594376995104,
         34.92977474623818,
         37.62063084352164,
         10491.583561643836
        ],
        [
         "e40fe890-e48a-11ea-8204-0242ac110002",
         52.154705005345846,
         96.55600959957631,
         16.288154735168707,
         35.907786798480615,
         60.033439172756914,
         12289.972602739726
        ],
        [
         "edc19384-e48a-11ea-8204-0242ac110002",
         50.39431165676138,
         93.43404061635621,
         22.749343925623183,
         40.40697754580372,
         32.67535169948869,
         12708.739726027397
        ],
        [
         "efec2296-e48a-11ea-8204-0242ac110002",
         49.91411279797615,
         103.35765749258286,
         20.35031119146853,
         40.95011628076187,
         35.69528930374082,
         13399.367123287671
        ],
        [
         "f0109c52-e48a-11ea-8204-0242ac110002",
         52.11551731962275,
         111.05265628498154,
         16.035160227468534,
         35.615162900782614,
         40.82410864205132,
         14407.583561643836
        ],
        [
         "f2116162-e48a-11ea-8204-0242ac110002",
         77.88258420029649,
         136.36241480040746,
         23.442439042007685,
         24.50237691675693,
         39.04349124322213,
         7328.323287671233
        ],
        [
         "f49959da-e48a-11ea-8204-0242ac110002",
         75.73137130294846,
         134.78811127430723,
         25.84186774586608,
         25.830314863350374,
         35.873338148266726,
         7073.2520547945205
        ],
        [
         "f8de4f28-e48a-11ea-8204-0242ac110002",
         87.0020774101055,
         146.34897361902225,
         21.24879973069026,
         20.380318541098507,
         5.949348983474708,
         5203.013698630137
        ],
        [
         "f981a6c8-e48a-11ea-8204-0242ac110002",
         67.65391469175754,
         148.51115922154477,
         31.688408945914503,
         31.1223953684516,
         4.590733131889687,
         5192.043835616439
        ],
        [
         "f9ab3c40-e48a-11ea-8204-0242ac110002",
         54.87907154062808,
         155.6955982753746,
         32.71145184049389,
         29.81323605807516,
         33.76493369192554,
         6952.73698630137
        ],
        [
         "fc8669e4-e48a-11ea-8204-0242ac110002",
         82.79161001946592,
         109.37201688999478,
         24.275255272375105,
         24.177008806783583,
         38.085215048408394,
         10389.353424657535
        ],
        [
         "feb27d70-e48a-11ea-8204-0242ac110002",
         69.60980957168142,
         139.49042973864064,
         28.338743279026126,
         30.152107719338748,
         35.17278795210577,
         7111.558904109589
        ],
        [
         "ff211410-e48a-11ea-8204-0242ac110002",
         71.76087661715162,
         158.55928783570008,
         27.408457582186617,
         26.98420633051487,
         5.246536911974788,
         5181.824657534246
        ],
        [
         "ff34d4b4-e48a-11ea-8204-0242ac110002",
         87.80284431938016,
         129.33276554767258,
         24.61243383857319,
         19.647955712164077,
         36.5340693015028,
         7067.230136986302
        ],
        [
         "d299fe2a-e48a-11ea-8204-0242ac110002",
         57.26230292060372,
         115.45418238633255,
         23.097373972766366,
         35.46238179086134,
         30.545475530599393,
         12634.424657534246
        ],
        [
         "d5d9135a-e48a-11ea-8204-0242ac110002",
         58.109445804961396,
         113.58710886111574,
         23.14642447540807,
         34.11213522766497,
         30.918000283350736,
         12511.334246575343
        ],
        [
         "d78ee346-e48a-11ea-8204-0242ac110002",
         61.47539833909047,
         122.54747723801965,
         27.95267289720851,
         30.888436946388946,
         36.678115658114415,
         7110.027397260274
        ],
        [
         "d7cddd94-e48a-11ea-8204-0242ac110002",
         54.28943903517253,
         112.19161668363064,
         19.536671437859795,
         36.74369878715775,
         34.76203517756667,
         13123.4
        ],
        [
         "dd512c94-e48a-11ea-8204-0242ac110002",
         62.53359130247873,
         116.25691974141833,
         26.5694919220041,
         31.283206514796873,
         37.15324379958417,
         7176.369863013699
        ],
        [
         "defdc5b6-e48a-11ea-8204-0242ac110002",
         63.57873820725843,
         129.84737232682357,
         27.22952722947247,
         31.18089849884291,
         37.97066568680994,
         10366.101369863014
        ],
        [
         "e0699d1c-e48a-11ea-8204-0242ac110002",
         55.02880779961458,
         114.20100003992687,
         19.37459202555439,
         37.44451632586952,
         35.51393680560937,
         13257.013698630137
        ],
        [
         "e206f566-e48a-11ea-8204-0242ac110002",
         61.00707077983576,
         125.12935180810334,
         27.462319881383085,
         32.26014946857909,
         38.309754754920036,
         10436.128767123288
        ],
        [
         "e37e2b26-e48a-11ea-8204-0242ac110002",
         48.02117478503042,
         94.33106299876877,
         23.324569811474035,
         45.81910356792797,
         31.45565165920469,
         12695.249315068493
        ],
        [
         "e5e420f0-e48a-11ea-8204-0242ac110002",
         50.81201980566191,
         106.95079924255408,
         20.032610319957758,
         37.3595945532595,
         50.601281575549876,
         11815.282191780821
        ],
        [
         "e68ee986-e48a-11ea-8204-0242ac110002",
         52.84922480247804,
         107.9871487576576,
         17.361177991137303,
         33.19359029474331,
         54.55425648130634,
         11887.813698630138
        ],
        [
         "e9360f34-e48a-11ea-8204-0242ac110002",
         51.91919187565912,
         109.7208839360124,
         18.65802538776126,
         39.25923188127734,
         52.33493200283761,
         11740.92602739726
        ],
        [
         "e951c468-e48a-11ea-8204-0242ac110002",
         51.12002776566303,
         103.47765183121848,
         17.84708689881385,
         39.96097432010631,
         37.67716356809314,
         13916.750684931507
        ],
        [
         "ec06348c-e48a-11ea-8204-0242ac110002",
         49.71834626919846,
         97.36248032058369,
         19.34719314391897,
         40.612878566750204,
         35.45016920592582,
         13296.180821917807
        ],
        [
         "ec6ddda8-e48a-11ea-8204-0242ac110002",
         52.85720784966517,
         98.37730944455471,
         16.543770272410455,
         37.16477011566555,
         39.050250595733026,
         14031.761643835616
        ],
        [
         "f19474ae-e48a-11ea-8204-0242ac110002",
         51.89781842684654,
         104.45892170063796,
         16.24875902734533,
         35.70358905935458,
         56.926761995162906,
         12223.128767123288
        ],
        [
         "f8cd06b4-e48a-11ea-8204-0242ac110002",
         61.08799741812013,
         127.81763933942916,
         33.15155797829772,
         30.32555623676971,
         33.21967326992338,
         10061.142465753424
        ],
        [
         "f99f6c9e-e48a-11ea-8204-0242ac110002",
         87.24396377825528,
         125.03571170553633,
         21.377607604017232,
         20.24336628967446,
         41.253831391027305,
         7201.545205479452
        ],
        [
         "facbeaac-e48a-11ea-8204-0242ac110002",
         67.6790540653053,
         135.79823372370592,
         27.320491667495254,
         30.21318417715775,
         5.132284042323191,
         5174.265753424657
        ],
        [
         "fad414e8-e48a-11ea-8204-0242ac110002",
         84.86967327186849,
         133.09699329157155,
         21.517510974566097,
         20.422682762708945,
         40.83605024773172,
         7249.2054794520545
        ],
        [
         "fdc26d9e-e48a-11ea-8204-0242ac110002",
         81.7977597842627,
         126.19116357904663,
         21.54631053862949,
         20.663148089481677,
         39.870484299611334,
         7180.035616438357
        ],
        [
         "0007a88a-e48b-11ea-8204-0242ac110002",
         77.73294228506452,
         127.05715346661702,
         25.150812654086298,
         25.52747526955064,
         37.2167018100805,
         7115.591780821917
        ],
        [
         "014aa530-e48b-11ea-8204-0242ac110002",
         74.92992734038577,
         146.09048372303903,
         26.000386735538115,
         24.672298662667362,
         5.292248197270801,
         5144.413698630137
        ],
        [
         "01a3ff0e-e48b-11ea-8204-0242ac110002",
         78.39773957600025,
         121.15457280931726,
         26.25570381501219,
         24.76227352758212,
         35.21779011704292,
         6998.504109589041
        ],
        [
         "029d7e6c-e48b-11ea-8204-0242ac110002",
         60.205445806520316,
         131.7232916580454,
         32.816546739590564,
         30.419301324996887,
         33.54502710159257,
         10043
        ],
        [
         "d695d0ee-e48a-11ea-8204-0242ac110002",
         57.835324965111845,
         131.01524791232958,
         22.002599445269293,
         36.61937322334148,
         46.181198197827484,
         11235.709589041096
        ],
        [
         "dd1ab31c-e48a-11ea-8204-0242ac110002",
         54.643446253894,
         115.59789329060403,
         18.099144626051967,
         38.86087500300234,
         37.476403695078254,
         13714.967123287672
        ],
        [
         "de2988c8-e48a-11ea-8204-0242ac110002",
         57.436224079561434,
         114.71634409544491,
         22.4221323409762,
         35.82702852986877,
         43.353004233009045,
         7412.1972602739725
        ],
        [
         "ec914bf8-e48a-11ea-8204-0242ac110002",
         52.549708745364995,
         103.39979932985001,
         17.540728754792923,
         35.41458148391084,
         38.75735468403143,
         14174.276712328767
        ],
        [
         "f3e46480-e48a-11ea-8204-0242ac110002",
         75.4647338190798,
         123.51289317150288,
         25.539306109533367,
         26.24297300798499,
         37.003390331585464,
         7191.194520547945
        ],
        [
         "fb587300-e48a-11ea-8204-0242ac110002",
         72.01129815640476,
         156.01782911630872,
         25.136987032709758,
         28.39063133305887,
         37.59289724992678,
         7214.257534246575
        ],
        [
         "fbbd88d0-e48a-11ea-8204-0242ac110002",
         61.9540271405104,
         133.56589024350384,
         35.227445690380456,
         30.894289641956288,
         30.995926693170798,
         9849.906849315068
        ],
        [
         "fd0f740a-e48a-11ea-8204-0242ac110002",
         66.07221509464111,
         145.76721445747702,
         31.518811655715158,
         33.72118766542686,
         33.3346732309786,
         6913.367123287671
        ],
        [
         "fdceadc0-e48a-11ea-8204-0242ac110002",
         71.35845486131561,
         134.07639659831605,
         27.74747679471172,
         27.98597813349881,
         35.97595353100986,
         10235.643835616438
        ],
        [
         "fe238dea-e48a-11ea-8204-0242ac110002",
         86.56164131231355,
         145.4112490648331,
         20.424386981741563,
         18.829251318283486,
         6.204752396474135,
         5115.082191780822
        ],
        [
         "007592d2-e48b-11ea-8204-0242ac110002",
         91.75935861929266,
         137.60189558340846,
         17.46767496371642,
         17.052150976134484,
         47.13984439459484,
         7444.780821917808
        ],
        [
         "d50b442a-e48a-11ea-8204-0242ac110002",
         51.982755410973475,
         110.08319786482704,
         16.797631819353374,
         38.83057066455222,
         39.96412877535476,
         14199.969863013699
        ],
        [
         "d6a8febc-e48a-11ea-8204-0242ac110002",
         64.08072767669127,
         120.61859529978403,
         30.160455779405794,
         29.86769304553619,
         35.38212383100132,
         10164.917808219177
        ],
        [
         "d806d766-e48a-11ea-8204-0242ac110002",
         53.09717436523624,
         118.45919117610936,
         19.601430563220585,
         38.59633592310724,
         49.48300562076395,
         7434.967123287671
        ],
        [
         "dc89e328-e48a-11ea-8204-0242ac110002",
         60.51742609229526,
         125.94375909850712,
         27.013350739159986,
         32.70754706223071,
         37.09858210823809,
         10432.37808219178
        ],
        [
         "e41b77be-e48a-11ea-8204-0242ac110002",
         54.057715119814134,
         104.5944086945621,
         14.186724845172414,
         34.2600262483588,
         64.7767684897164,
         12810.772602739726
        ],
        [
         "e56fee9c-e48a-11ea-8204-0242ac110002",
         51.96649219354041,
         108.3451894536666,
         16.152893170857244,
         35.33159866576653,
         40.82045820636299,
         14574.715068493151
        ],
        [
         "e7b25a96-e48a-11ea-8204-0242ac110002",
         49.57062600725417,
         106.40074052923484,
         23.823724355037623,
         44.34707949881509,
         31.302157941882758,
         12486.345205479452
        ],
        [
         "e9885fa0-e48a-11ea-8204-0242ac110002",
         50.57172222858405,
         109.99227492017526,
         20.57378888420085,
         37.88708058876439,
         34.09073219039647,
         13068.646575342465
        ],
        [
         "ece85344-e48a-11ea-8204-0242ac110002",
         51.127167956883284,
         108.97254352453243,
         16.38286230190308,
         39.81811884291267,
         39.78308232319729,
         14138.52602739726
        ],
        [
         "f0dca446-e48a-11ea-8204-0242ac110002",
         50.17721343997739,
         99.63007516811923,
         21.165702096391975,
         39.61342577568157,
         33.21200223090052,
         12975.150684931506
        ],
        [
         "f4d055e8-e48a-11ea-8204-0242ac110002",
         81.60811411125086,
         155.60878299698442,
         23.085881445743677,
         20.698725906532022,
         5.544388485151141,
         5176.035616438357
        ],
        [
         "fc742e96-e48a-11ea-8204-0242ac110002",
         79.56617703350462,
         127.8665952209775,
         22.918520489338235,
         21.838790393496144,
         5.620262134232934,
         5187.843835616439
        ],
        [
         "fd6bae00-e48a-11ea-8204-0242ac110002",
         61.10773985933963,
         129.01793262955286,
         30.029640955314434,
         30.37143813647781,
         36.43976690766056,
         10278.049315068492
        ],
        [
         "fe7565fc-e48a-11ea-8204-0242ac110002",
         86.46619985632265,
         177.10321566565213,
         20.205640902664058,
         17.579610444216744,
         6.093045519424982,
         5209.67397260274
        ],
        [
         "d4243aee-e48a-11ea-8204-0242ac110002",
         65.30887743077719,
         122.64464763599338,
         33.29137154144852,
         27.416446711165225,
         32.35530161259903,
         9858.986301369863
        ],
        [
         "d73df8e6-e48a-11ea-8204-0242ac110002",
         50.611330310843165,
         112.3120283527534,
         18.59313727364571,
         40.716858527173216,
         37.338957178138166,
         13808.29315068493
        ],
        [
         "d8480c0e-e48a-11ea-8204-0242ac110002",
         56.10517924894308,
         105.48061794549159,
         21.725952314375863,
         34.53844739460043,
         42.73691514394225,
         10815.213698630138
        ],
        [
         "dcfd941c-e48a-11ea-8204-0242ac110002",
         65.40071948457934,
         115.32992844885707,
         29.67994369404616,
         27.968120418914335,
         35.17537415928957,
         10312.70684931507
        ],
        [
         "de21a194-e48a-11ea-8204-0242ac110002",
         56.36906640976199,
         120.48896959989989,
         20.131171666902084,
         38.704661088682826,
         47.17406382579496,
         7338.564383561644
        ],
        [
         "e08c2d46-e48a-11ea-8204-0242ac110002",
         54.03969249521646,
         104.03379752067514,
         19.572136955731853,
         37.326635741784585,
         34.507088274743616,
         13105.561643835616
        ],
        [
         "e09b6e78-e48a-11ea-8204-0242ac110002",
         58.029249059579676,
         123.8533219949133,
         25.775522064642598,
         32.72549122898576,
         40.23636498766259,
         10563.841095890411
        ],
        [
         "e2956986-e48a-11ea-8204-0242ac110002",
         50.852982023214956,
         107.55605246614847,
         18.961529609110055,
         38.75991517107901,
         36.37819158842073,
         13599.673972602739
        ],
        [
         "e48c48ae-e48a-11ea-8204-0242ac110002",
         51.03571695576912,
         100.24269369254142,
         22.91183233576683,
         39.100629839347135,
         32.744738880280096,
         12956.09589041096
        ],
        [
         "e68321f0-e48a-11ea-8204-0242ac110002",
         52.111001017245236,
         110.44397808026703,
         16.155248595231782,
         35.59662153417363,
         57.19064566284987,
         12171.46301369863
        ],
        [
         "ea681276-e48a-11ea-8204-0242ac110002",
         52.4739735298063,
         97.77446836494083,
         17.039239867603587,
         34.81288702991518,
         40.02243004807422,
         14213.991780821918
        ],
        [
         "eace5aea-e48a-11ea-8204-0242ac110002",
         51.38503227976079,
         109.82187305524252,
         15.76240787467376,
         37.762010087207514,
         61.24644994210757,
         12610.72602739726
        ],
        [
         "eb4f5262-e48a-11ea-8204-0242ac110002",
         46.99550912108956,
         93.62144271626347,
         26.535044343177656,
         45.31166480796349,
         29.58591652074424,
         12354.575342465754
        ],
        [
         "efffef38-e48a-11ea-8204-0242ac110002",
         52.93326938279752,
         98.53284771359245,
         17.3716464200879,
         34.02255342175387,
         39.44551485200638,
         14073.038356164383
        ],
        [
         "f4c87a6c-e48a-11ea-8204-0242ac110002",
         71.73783846261541,
         140.45401173387177,
         25.691807949723064,
         25.5825505229051,
         37.555923036987465,
         7066.890410958904
        ],
        [
         "f5f29666-e48a-11ea-8204-0242ac110002",
         67.69193510964692,
         141.16398667421132,
         29.57448188950935,
         27.54070315043576,
         4.779298819776393,
         5154.156164383561
        ],
        [
         "f7a9bba6-e48a-11ea-8204-0242ac110002",
         81.26431637434719,
         130.11883686594325,
         24.851630424245727,
         24.743033017087356,
         37.24987716664225,
         7145.257534246575
        ],
        [
         "fe68ef66-e48a-11ea-8204-0242ac110002",
         75.1987435315541,
         120.86733289196428,
         25.857867733703053,
         26.146878383537235,
         35.48641969305021,
         7086.572602739726
        ],
        [
         "fea9e9bc-e48a-11ea-8204-0242ac110002",
         85.79237974819091,
         149.1871964486027,
         19.734672289612146,
         19.466131831022896,
         6.37723355704634,
         5150.684931506849
        ],
        [
         "ff7c6c8e-e48a-11ea-8204-0242ac110002",
         62.74126122238504,
         129.19601260536146,
         32.22098778847037,
         32.47624436668679,
         33.34504066567698,
         10013.372602739726
        ],
        [
         "01c0cd14-e48b-11ea-8204-0242ac110002",
         66.8850944611056,
         132.02660161290555,
         26.084241551333886,
         27.729583245870113,
         5.345524185589745,
         5106.53698630137
        ],
        [
         "d3934174-e48a-11ea-8204-0242ac110002",
         55.98137455283126,
         113.76936252999718,
         20.175793389496437,
         36.7257740434282,
         32.32356384412532,
         12718.09589041096
        ],
        [
         "d6128f5e-e48a-11ea-8204-0242ac110002",
         60.09986360833688,
         123.1092014897493,
         26.518299701605724,
         31.063404745298374,
         38.84433159961438,
         10480.361643835617
        ],
        [
         "db456ec4-e48a-11ea-8204-0242ac110002",
         56.87280253319303,
         109.30891858135448,
         22.60570988170455,
         35.69791494417995,
         45.139219761315516,
         11051.4
        ],
        [
         "de31b836-e48a-11ea-8204-0242ac110002",
         56.82676797959413,
         116.22593159811883,
         22.730038682324537,
         36.49424003092463,
         41.33278760511424,
         10759.876712328767
        ],
        [
         "de9ee85c-e48a-11ea-8204-0242ac110002",
         62.63039111464387,
         125.30453890716987,
         28.250648021354678,
         31.62545132694326,
         36.25577030212352,
         7115.339726027397
        ],
        [
         "e09f3166-e48a-11ea-8204-0242ac110002",
         58.63564429418372,
         122.48213755196167,
         24.161751463278396,
         34.55355367818838,
         41.21961825555038,
         10697.090410958905
        ],
        [
         "e5219f26-e48a-11ea-8204-0242ac110002",
         53.96208148881395,
         99.07090041119321,
         13.92048067075747,
         34.06259352887107,
         44.697297780654786,
         15142.082191780823
        ],
        [
         "e9221678-e48a-11ea-8204-0242ac110002",
         50.27965458265616,
         101.32849576199524,
         19.328320870024086,
         42.69139756160917,
         36.245838693692036,
         13547.509589041096
        ],
        [
         "ea99e350-e48a-11ea-8204-0242ac110002",
         50.452831046703864,
         100.56288373552233,
         19.1927444856544,
         39.635117725427364,
         36.1746413649799,
         13459.668493150684
        ],
        [
         "eb678cec-e48a-11ea-8204-0242ac110002",
         49.30276512106082,
         106.4494946518331,
         21.117991606774478,
         42.07584144374595,
         50.25018263031475,
         11419.098630136987
        ],
        [
         "ee784c1e-e48a-11ea-8204-0242ac110002",
         49.46488401664138,
         94.92322283318956,
         19.954771221233287,
         42.868609940866016,
         35.171586740024914,
         13320.643835616438
        ],
        [
         "ef93d014-e48a-11ea-8204-0242ac110002",
         53.8384350267013,
         109.3162887071896,
         17.37806544374018,
         30.55826301023052,
         54.13006155616537,
         7658.016438356164
        ],
        [
         "f44ac356-e48a-11ea-8204-0242ac110002",
         68.48966494071489,
         136.65133010675427,
         26.367527301420555,
         28.26805233352178,
         37.43901208674884,
         7150.660273972603
        ],
        [
         "f57810bc-e48a-11ea-8204-0242ac110002",
         85.87314246986101,
         156.263361528163,
         19.716734765659464,
         22.190079205007763,
         43.65593391367318,
         7250.6547945205475
        ],
        [
         "f6195cc4-e48a-11ea-8204-0242ac110002",
         71.85536995906374,
         153.07874624613393,
         27.325137284134804,
         28.388146475665266,
         35.94843853212145,
         7101.421917808219
        ],
        [
         "fcc2af9e-e48a-11ea-8204-0242ac110002",
         78.1794188908442,
         163.05770769476882,
         24.944758958852923,
         25.348864603462715,
         5.3616711745023276,
         5159.939726027397
        ],
        [
         "fdf31a0c-e48a-11ea-8204-0242ac110002",
         76.4654214461702,
         127.14008809307397,
         25.419911306109334,
         25.609241990589183,
         35.28380429382074,
         10178.994520547945
        ],
        [
         "fe64c67a-e48a-11ea-8204-0242ac110002",
         64.64890865918032,
         124.50024204332907,
         29.17455041194467,
         30.09934760210381,
         35.30866695511345,
         7031.320547945205
        ],
        [
         "002765c6-e48b-11ea-8204-0242ac110002",
         89.51117796589962,
         126.57048164605168,
         19.830753716401606,
         19.750462151303648,
         43.30528046136424,
         7362.769863013698
        ],
        [
         "d476ccd2-e48a-11ea-8204-0242ac110002",
         64.79134795080117,
         118.55985421086311,
         29.706667605007414,
         26.57808296856488,
         24.50925935539242,
         11484.819178082193
        ],
        [
         "d6070e36-e48a-11ea-8204-0242ac110002",
         65.599364114848,
         120.59404304427035,
         29.401006943572405,
         28.93408621783856,
         33.91733804296907,
         9902.756164383562
        ],
        [
         "d6635722-e48a-11ea-8204-0242ac110002",
         54.288352770972345,
         112.6691603905874,
         19.60167547747551,
         38.628813754557356,
         50.18233209248464,
         11495.824657534247
        ],
        [
         "d7a3a24a-e48a-11ea-8204-0242ac110002",
         58.00759486462274,
         126.812097375776,
         23.781354077081705,
         33.17000169564908,
         43.03795378828864,
         10824.739726027397
        ],
        [
         "d95013e4-e48a-11ea-8204-0242ac110002",
         56.30556822406241,
         116.51800511402877,
         23.12949085732348,
         33.781735753928494,
         44.306354382159086,
         10883.575342465754
        ],
        [
         "ddb03aa4-e48a-11ea-8204-0242ac110002",
         60.776135313287305,
         119.4092902526288,
         23.938382623512286,
         33.795026200618416,
         40.24380577066079,
         10796.408219178082
        ],
        [
         "e36dc25e-e48a-11ea-8204-0242ac110002",
         51.17094145186785,
         107.8474417830824,
         18.456836380195693,
         38.21517544176524,
         37.513605759437525,
         13845.038356164383
        ],
        [
         "e7488558-e48a-11ea-8204-0242ac110002",
         48.08975181659002,
         91.23069035185698,
         22.01204494102688,
         42.778502420183756,
         33.39255180383449,
         13073.008219178082
        ],
        [
         "e78a84c6-e48a-11ea-8204-0242ac110002",
         50.66211241817548,
         100.72723783584145,
         19.563771095972168,
         38.566985830526285,
         35.60968133661836,
         13356.375342465753
        ],
        [
         "ec8d5bce-e48a-11ea-8204-0242ac110002",
         51.009025491003,
         104.90649346681548,
         16.422837810868003,
         37.4910612018153,
         40.159326939633566,
         14336.613698630137
        ],
        [
         "ee3ed466-e48a-11ea-8204-0242ac110002",
         53.15419908587043,
         106.93390006963416,
         18.834999541742356,
         34.689990692506655,
         50.15165159097818,
         11492.265753424657
        ],
        [
         "ee4fcf1e-e48a-11ea-8204-0242ac110002",
         49.57948690278583,
         108.41528786641291,
         21.52258994959195,
         42.69234645735176,
         46.19569963245733,
         11088.986301369863
        ],
        [
         "f3ae5d5e-e48a-11ea-8204-0242ac110002",
         77.50309853146715,
         147.15956384082526,
         24.745550203664273,
         23.47639772402801,
         37.220105394737,
         7184.273972602739
        ],
        [
         "f6bdccb4-e48a-11ea-8204-0242ac110002",
         69.52525408319302,
         130.9667413834649,
         30.08124676003637,
         27.15876759442095,
         33.98248426040798,
         10003.945205479453
        ],
        [
         "fb93aef2-e48a-11ea-8204-0242ac110002",
         71.87297172003947,
         142.84797184012334,
         26.59959964790284,
         27.780124401530163,
         36.59376573522032,
         7169.769863013698
        ],
        [
         "fe8d3e84-e48a-11ea-8204-0242ac110002",
         75.23045361308249,
         123.86607041541659,
         29.06820737894152,
         26.494996253530633,
         4.7615996825399245,
         5084.076712328767
        ],
        [
         "dc5b9fea-e48a-11ea-8204-0242ac110002",
         58.8836286919934,
         126.50757811800645,
         27.12648389478849,
         33.82413267754718,
         37.22056984217793,
         10353.33698630137
        ],
        [
         "dd2f4a8e-e48a-11ea-8204-0242ac110002",
         55.02257168869087,
         109.37710976796104,
         23.123347446089785,
         37.241569726510306,
         31.113833233995692,
         12574.054794520547
        ],
        [
         "de72f42c-e48a-11ea-8204-0242ac110002",
         54.50771317100856,
         117.02039664885613,
         20.58364605188923,
         37.34019680056584,
         46.33027083350311,
         7364.071232876712
        ],
        [
         "e4abf49c-e48a-11ea-8204-0242ac110002",
         47.62326143489802,
         105.08989184989882,
         24.233244290110616,
         45.75134595319622,
         32.493624497572604,
         12736.827397260275
        ],
        [
         "e692b548-e48a-11ea-8204-0242ac110002",
         50.3377375355573,
         102.16953055476951,
         20.605518584950328,
         40.01824089276129,
         49.4073540489647,
         11387.169863013698
        ],
        [
         "e6efa7a8-e48a-11ea-8204-0242ac110002",
         52.83624940447892,
         102.68469143983825,
         11.908911208573084,
         34.3403567423138,
         54.11385219180894,
         16694.86301369863
        ],
        [
         "e7ecc492-e48a-11ea-8204-0242ac110002",
         50.23854092310931,
         103.2055733222784,
         21.777672377124095,
         39.92394366642654,
         33.22797525603262,
         12954.230136986302
        ],
        [
         "ea4c12b0-e48a-11ea-8204-0242ac110002",
         51.70601673950734,
         101.17493507811271,
         18.34468869573697,
         39.946958128483246,
         36.69007331633551,
         13731.068493150686
        ],
        [
         "ec23071a-e48a-11ea-8204-0242ac110002",
         49.31286936973657,
         110.55517872388245,
         21.913840844195995,
         42.11594027363247,
         33.94132585778483,
         13089.613698630137
        ],
        [
         "ec9546c2-e48a-11ea-8204-0242ac110002",
         54.25068761316578,
         115.45200321298496,
         13.813239015213382,
         30.5037554014116,
         64.91376829880747,
         12817.021917808219
        ],
        [
         "ef203dc0-e48a-11ea-8204-0242ac110002",
         54.18639339236873,
         111.58771310984702,
         13.03559668075051,
         32.09574204683362,
         67.59095528663016,
         12864.482191780822
        ],
        [
         "ef772324-e48a-11ea-8204-0242ac110002",
         49.03467931374677,
         105.78833841305797,
         24.21009256948031,
         43.126698419200125,
         43.10158744580881,
         10854.180821917807
        ],
        [
         "f24fd064-e48a-11ea-8204-0242ac110002",
         87.49114378979858,
         148.50518867849752,
         20.36726448536194,
         18.072371994320676,
         42.465442980519434,
         7289.372602739726
        ],
        [
         "f3ec2526-e48a-11ea-8204-0242ac110002",
         77.16009871287238,
         161.72432275657673,
         25.089574612127475,
         26.128130957869743,
         36.28812648502729,
         6968.317808219178
        ],
        [
         "f62cb710-e48a-11ea-8204-0242ac110002",
         84.88316315035327,
         140.4565586843277,
         18.762889865255207,
         23.360870465813502,
         46.10646587570917,
         7396.813698630137
        ],
        [
         "f964adb6-e48a-11ea-8204-0242ac110002",
         71.5303092492772,
         132.38907672918143,
         27.555868460559832,
         26.1402383192084,
         5.030472686545297,
         5131.8328767123285
        ],
        [
         "fac7c224-e48a-11ea-8204-0242ac110002",
         69.08469235746549,
         129.1414859020341,
         28.62463739641571,
         28.771116476756447,
         33.79566014112901,
         9975.92602739726
        ],
        [
         "fe1b9b3a-e48a-11ea-8204-0242ac110002",
         66.61020398439902,
         129.71765153142942,
         26.355159348278466,
         27.278643729314712,
         37.81931744752861,
         7143.413698630137
        ],
        [
         "d26a30fa-e48a-11ea-8204-0242ac110002",
         51.14876465002267,
         122.34556219040559,
         16.624215624796193,
         39.24000802887519,
         38.26153471956054,
         13794.816438356165
        ],
        [
         "d3eccd2a-e48a-11ea-8204-0242ac110002",
         61.95540542156069,
         120.91617919844776,
         24.858895737373253,
         30.86135812439187,
         42.225207068971365,
         10717.632876712329
        ],
        [
         "d4addcd6-e48a-11ea-8204-0242ac110002",
         57.887359466072745,
         116.0864856909213,
         22.16944847034355,
         35.346411017568755,
         43.575005592263786,
         7280.646575342465
        ],
        [
         "db7ae612-e48a-11ea-8204-0242ac110002",
         58.3334885578808,
         116.39780216086642,
         26.517683620957936,
         33.22889646354606,
         37.84670009472337,
         10388.21095890411
        ],
        [
         "de39be6e-e48a-11ea-8204-0242ac110002",
         56.078916803707614,
         106.10777196100128,
         23.4448549755871,
         34.19159431621135,
         43.52390943817471,
         10962.761643835616
        ],
        [
         "deec6d70-e48a-11ea-8204-0242ac110002",
         54.475324988791286,
         118.66739666208903,
         17.848799722484117,
         38.69005249447466,
         36.26399960294384,
         13436.4301369863
        ],
        [
         "df9b6690-e48a-11ea-8204-0242ac110002",
         55.694154165205205,
         139.24246545641395,
         25.87806477833358,
         32.78965445152354,
         42.50394757166575,
         10807.693150684932
        ],
        [
         "e03a1ec0-e48a-11ea-8204-0242ac110002",
         56.94624848258019,
         102.92299067679453,
         21.847630573703093,
         35.90741980827099,
         31.942712114067284,
         12503.923287671232
        ],
        [
         "e0aac4e0-e48a-11ea-8204-0242ac110002",
         54.50426864203231,
         131.54726587661048,
         22.51857224587603,
         37.58987903197072,
         47.445776187770704,
         11235.630136986301
        ],
        [
         "e2858d68-e48a-11ea-8204-0242ac110002",
         52.08242558066806,
         97.6247590126588,
         15.963914541388197,
         35.120605206122065,
         41.22382847342585,
         14437.575342465754
        ],
        [
         "e3c58fc0-e48a-11ea-8204-0242ac110002",
         52.72296345493234,
         110.73332837625297,
         15.74978053371483,
         34.80933702947698,
         57.98455758319841,
         12008.786301369862
        ],
        [
         "e4cb1a52-e48a-11ea-8204-0242ac110002",
         53.569374425319054,
         106.71241031602442,
         14.372133380537116,
         33.66075319467196,
         64.94201635832779,
         12834.17808219178
        ],
        [
         "e87fa0be-e48a-11ea-8204-0242ac110002",
         50.80745312737116,
         94.62293948772681,
         19.487014941687296,
         39.36419177130152,
         35.76787634810898,
         13388.161643835616
        ],
        [
         "f535b956-e48a-11ea-8204-0242ac110002",
         70.85882779429593,
         136.38050290732662,
         23.754512776115888,
         23.638148394002073,
         39.898036188399956,
         10508.73698630137
        ],
        [
         "f6d53fb6-e48a-11ea-8204-0242ac110002",
         86.81928579867424,
         153.04865891102907,
         20.69197615502277,
         21.05571077805728,
         41.611054674943674,
         7253.742465753425
        ],
        [
         "f70d3146-e48a-11ea-8204-0242ac110002",
         68.87421394806061,
         138.15586199241991,
         29.642073702236626,
         31.416158373892497,
         4.839141199375907,
         5140.745205479452
        ],
        [
         "f72c2d76-e48a-11ea-8204-0242ac110002",
         71.88483350184,
         129.41283689206628,
         24.718623288196433,
         23.7862011568107,
         36.696388130481225,
         10379.980821917808
        ],
        [
         "f86af19a-e48a-11ea-8204-0242ac110002",
         70.66987446879969,
         127.21389865589755,
         28.365256899134454,
         26.579473072788723,
         35.07865771012897,
         7019.690410958904
        ],
        [
         "d828f9fe-e48a-11ea-8204-0242ac110002",
         58.45265010195033,
         114.56097878766325,
         24.056421038657422,
         33.972097615129556,
         29.58182514245787,
         12262.208219178083
        ],
        [
         "daae4670-e48a-11ea-8204-0242ac110002",
         55.26832589162107,
         119.91945736128281,
         21.17289292652917,
         38.8997294600747,
         46.06082889088886,
         7332.408219178083
        ],
        [
         "dbcdc13e-e48a-11ea-8204-0242ac110002",
         61.5100382294741,
         120.43494373049676,
         28.434058292418,
         29.98741408851781,
         36.5466650154138,
         10239.967123287672
        ],
        [
         "e327b0c0-e48a-11ea-8204-0242ac110002",
         53.11845832390339,
         112.86110641314016,
         12.169635751898184,
         32.34030152637409,
         72.30408441884454,
         13686.769863013698
        ],
        [
         "ed01d03a-e48a-11ea-8204-0242ac110002",
         49.28373908061067,
         103.48675906957334,
         21.352977721940544,
         37.93401960206777,
         31.63072230571436,
         12741.78904109589
        ],
        [
         "efdc959c-e48a-11ea-8204-0242ac110002",
         53.28637106771722,
         102.85415225403534,
         15.667394083485405,
         32.394359949104654,
         42.66997799419812,
         14506.257534246575
        ],
        [
         "f14da830-e48a-11ea-8204-0242ac110002",
         47.899484405223866,
         96.74035882777503,
         26.126667923436955,
         43.5061978652149,
         29.8769004321938,
         12318.780821917808
        ],
        [
         "f2a4bb1a-e48a-11ea-8204-0242ac110002",
         68.80957271032881,
         127.20958585214761,
         28.891060509315697,
         27.74070313521027,
         36.20526834790291,
         10377.758904109589
        ],
        [
         "f335ada0-e48a-11ea-8204-0242ac110002",
         81.67068183349627,
         160.59339970220898,
         22.664018691612632,
         21.256988249312105,
         5.665605084626088,
         5174.364383561644
        ],
        [
         "f4cc3bc0-e48a-11ea-8204-0242ac110002",
         78.90323545810038,
         138.30387246495874,
         23.940496319591453,
         22.9777797436221,
         37.567419731731604,
         7141.67397260274
        ],
        [
         "f5fe4952-e48a-11ea-8204-0242ac110002",
         91.36760520474645,
         151.37538021629436,
         20.058705089860233,
         18.971878716096164,
         6.047970288851868,
         5212.852054794521
        ],
        [
         "f87b7cea-e48a-11ea-8204-0242ac110002",
         62.564776524055745,
         122.02067264494033,
         28.4175694789847,
         30.462485338067903,
         35.763106626657496,
         10216.441095890412
        ],
        [
         "00606bbe-e48b-11ea-8204-0242ac110002",
         88.23880457769332,
         150.01584026269904,
         20.4653777370021,
         23.396824791270674,
         42.498969865295635,
         7257.087671232876
        ],
        [
         "d40c7c7e-e48a-11ea-8204-0242ac110002",
         56.477012111829985,
         128.50466283582685,
         23.310610847040017,
         35.803846124684696,
         45.12841920267836,
         11053.865753424658
        ],
        [
         "d843cdec-e48a-11ea-8204-0242ac110002",
         63.39551450708027,
         119.98561031296448,
         29.536548020113138,
         29.137353379986617,
         36.48831994063035,
         10305.761643835616
        ],
        [
         "d8f41062-e48a-11ea-8204-0242ac110002",
         58.419414650502375,
         131.75673559997063,
         24.79442742787898,
         33.886577044793576,
         39.882676790871216,
         7161.101369863014
        ],
        [
         "d8f7e2b4-e48a-11ea-8204-0242ac110002",
         55.715498332792635,
         119.26622841931129,
         23.984614121853852,
         34.45684562071416,
         43.23308616608493,
         10888.665753424657
        ],
        [
         "dcab7eb6-e48a-11ea-8204-0242ac110002",
         59.697399969139774,
         118.93853971938681,
         25.598615683213442,
         33.38431482151495,
         39.03040393688008,
         7231.969863013699
        ],
        [
         "df2ea1f4-e48a-11ea-8204-0242ac110002",
         62.97375428447655,
         125.71332440649387,
         28.129680145938007,
         32.76757953909953,
         39.19264668468699,
         10429.282191780821
        ],
        [
         "e141b940-e48a-11ea-8204-0242ac110002",
         62.342652189931165,
         117.7828470490736,
         28.157980114475947,
         30.731540380368784,
         37.53585533817445,
         10354.961643835617
        ],
        [
         "e3dcf750-e48a-11ea-8204-0242ac110002",
         46.95022632819713,
         101.42580498200745,
         27.262394958509645,
         46.20089342880826,
         29.084246416829284,
         12221.923287671232
        ],
        [
         "e9f2a946-e48a-11ea-8204-0242ac110002",
         50.1675187637986,
         91.74576814356936,
         22.523983946025705,
         39.699424755283026,
         32.602910067327954,
         12832.950684931508
        ],
        [
         "f35894aa-e48a-11ea-8204-0242ac110002",
         67.9055981776997,
         133.00703084495856,
         28.176510220384607,
         27.057267646252996,
         34.75172136741417,
         7059.638356164383
        ],
        [
         "f3878b7a-e48a-11ea-8204-0242ac110002",
         94.04031821351246,
         117.84525908636934,
         18.664337030350143,
         15.76336983591758,
         44.877100104025196,
         7403.339726027397
        ],
        [
         "f3972864-e48a-11ea-8204-0242ac110002",
         79.2206956640358,
         146.10062026011815,
         24.123195430403655,
         20.22627527113453,
         5.353672793598056,
         5162.169863013699
        ],
        [
         "f6158522-e48a-11ea-8204-0242ac110002",
         78.43312952248749,
         166.68397803553034,
         25.900929000074033,
         23.318715195366313,
         5.138171387524373,
         5089.687671232877
        ],
        [
         "f835a15c-e48a-11ea-8204-0242ac110002",
         76.48974399625156,
         129.07255820524068,
         22.626460571320475,
         23.658935140740933,
         40.89884198589844,
         10533.172602739725
        ],
        [
         "f9db60e6-e48a-11ea-8204-0242ac110002",
         74.49741203974699,
         128.02681179185922,
         24.914983179869743,
         26.748781046994004,
         37.463844553286826,
         7098.082191780822
        ],
        [
         "fe7d92c2-e48a-11ea-8204-0242ac110002",
         71.77925475381427,
         125.62580592201479,
         26.14249966663113,
         26.343781712415527,
         5.228062812552472,
         5147.54794520548
        ],
        [
         "0200ff60-e48b-11ea-8204-0242ac110002",
         86.05778494084096,
         143.20531597670237,
         20.75064867945998,
         19.997351439832244,
         6.0857229277737765,
         5168.334246575342
        ],
        [
         "d386d344-e48a-11ea-8204-0242ac110002",
         66.20325828783598,
         128.26408437106238,
         29.911121751393665,
         29.18016132769827,
         35.66973259593655,
         10313.635616438356
        ],
        [
         "da4000d4-e48a-11ea-8204-0242ac110002",
         60.64510737309693,
         130.05156585416438,
         24.0037748186779,
         35.63075274170465,
         40.410075731707934,
         10650.95890410959
        ],
        [
         "decbfa9a-e48a-11ea-8204-0242ac110002",
         61.34590813216392,
         115.86280226817954,
         26.06239468455324,
         31.92873709360331,
         38.631442358675926,
         7079.728767123288
        ],
        [
         "e4080bfc-e48a-11ea-8204-0242ac110002",
         50.46802217106089,
         98.07257151256998,
         20.316452654933915,
         38.44748526467328,
         34.429516362194775,
         13172.16712328767
        ],
        [
         "e60f5e46-e48a-11ea-8204-0242ac110002",
         51.79506751052625,
         111.40598221232759,
         20.572647328596794,
         40.33096208742378,
         51.89158401569061,
         11798.421917808218
        ],
        [
         "e769d032-e48a-11ea-8204-0242ac110002",
         50.88585241552309,
         105.92915260449278,
         21.803925348892815,
         38.62777336771438,
         33.412018727679424,
         12989.161643835616
        ],
        [
         "e7a635d6-e48a-11ea-8204-0242ac110002",
         49.00038402322332,
         93.45111802548422,
         21.793919136527137,
         42.27250767320583,
         33.101654478409685,
         12990.605479452055
        ],
        [
         "e8008cf2-e48a-11ea-8204-0242ac110002",
         46.08999010491773,
         90.35091312934821,
         28.032168723005203,
         49.86134852758129,
         29.1964312528743,
         12330.471232876713
        ],
        [
         "e8569dae-e48a-11ea-8204-0242ac110002",
         52.04234974620694,
         110.32086551819931,
         18.31836632220348,
         34.92237679550771,
         36.10569193331647,
         13515.27397260274
        ],
        [
         "ec9949e8-e48a-11ea-8204-0242ac110002",
         51.18932759574984,
         109.18736086779056,
         18.71312010113884,
         40.0578263381272,
         51.809857383434306,
         11789.361643835617
        ],
        [
         "f25f4ae4-e48a-11ea-8204-0242ac110002",
         77.2375603284077,
         137.95054183369422,
         23.553561063792216,
         27.272284706654013,
         38.39813624998429,
         7247.301369863014
        ],
        [
         "f42ad92e-e48a-11ea-8204-0242ac110002",
         59.11695334333173,
         139.77524329906993,
         31.846710544266376,
         33.11670859737853,
         4.852946612546435,
         5215.572602739726
        ],
        [
         "f4d82c28-e48a-11ea-8204-0242ac110002",
         75.8432821258948,
         152.73448975031087,
         24.89158294837945,
         26.816501065717425,
         37.49679385023633,
         7152.506849315068
        ],
        [
         "f611b546-e48a-11ea-8204-0242ac110002",
         80.01555103775252,
         133.86846500044328,
         23.752219114042212,
         20.246381266635588,
         38.15994708587605,
         7070.723287671233
        ],
        [
         "f98eb610-e48a-11ea-8204-0242ac110002",
         79.87289811178888,
         139.29062208099484,
         23.591433382545272,
         25.26348906852873,
         38.44443767200339,
         7080.060273972603
        ],
        [
         "01d34426-e48b-11ea-8204-0242ac110002",
         67.95998336922428,
         129.28550930666734,
         29.71175906741928,
         29.693764056385273,
         4.932420496494147,
         5129.964383561643
        ],
        [
         "01ebf160-e48b-11ea-8204-0242ac110002",
         84.98913995824626,
         134.38202891060246,
         22.605775356040358,
         22.35117751150539,
         40.199154522432394,
         7241.676712328767
        ],
        [
         "d482706e-e48a-11ea-8204-0242ac110002",
         59.03776643551868,
         113.2908055611793,
         24.230123176511043,
         32.77190128098849,
         30.46798172190553,
         12450.731506849315
        ],
        [
         "d48dfce0-e48a-11ea-8204-0242ac110002",
         58.70310007504026,
         130.04399363898395,
         22.58716682566684,
         33.91403133685972,
         44.561696109781074,
         10890.26301369863
        ],
        [
         "d78b2e7c-e48a-11ea-8204-0242ac110002",
         54.043554890747885,
         110.00526872564208,
         21.697582031615276,
         36.79038661291115,
         44.31997084806028,
         11092.728767123288
        ],
        [
         "de5e9c66-e48a-11ea-8204-0242ac110002",
         61.11656973525727,
         125.02565617176346,
         25.419695278391345,
         30.988530099354687,
         38.422209893110434,
         10340.331506849316
        ],
        [
         "de77202e-e48a-11ea-8204-0242ac110002",
         61.374530771407144,
         124.22253452875236,
         26.005817754580978,
         32.375794395627906,
         38.67083885555537,
         7196.361643835617
        ],
        [
         "e43b84dc-e48a-11ea-8204-0242ac110002",
         52.618553148555286,
         110.08731363258508,
         19.337532485143683,
         37.84461475534781,
         35.49315781610685,
         13414.413698630136
        ],
        [
         "e4bf655e-e48a-11ea-8204-0242ac110002",
         51.792029641237434,
         108.72894393217886,
         17.98023487193368,
         35.71122886273098,
         37.7168636056555,
         13939.17808219178
        ],
        [
         "e78e9304-e48a-11ea-8204-0242ac110002",
         51.390543836087744,
         95.65545142916578,
         19.616806089311567,
         35.52965215515135,
         35.149083354829614,
         13327.016438356164
        ],
        [
         "ed272268-e48a-11ea-8204-0242ac110002",
         52.384345965661005,
         96.29018072283736,
         17.229272530187263,
         35.93327296657029,
         39.488537817437226,
         13939.8
        ],
        [
         "eee23a84-e48a-11ea-8204-0242ac110002",
         49.431263283989445,
         94.11411592643712,
         20.127177525184543,
         41.81798743141159,
         35.18992817102265,
         13430.44383561644
        ],
        [
         "f570497c-e48a-11ea-8204-0242ac110002",
         85.52545026955532,
         133.2389212795569,
         21.487327847415347,
         21.308992184118306,
         40.08913016269376,
         7283.8410958904105
        ],
        [
         "f588297a-e48a-11ea-8204-0242ac110002",
         79.38018597570343,
         150.0319406539588,
         26.10722131129375,
         24.50151432518615,
         5.173007379027553,
         5188.6547945205475
        ],
        [
         "f9e4da72-e48a-11ea-8204-0242ac110002",
         73.86205135449453,
         140.1968866574789,
         29.420984325448355,
         28.04901629766088,
         32.92251822410247,
         6990.1123287671235
        ],
        [
         "fbc635fc-e48a-11ea-8204-0242ac110002",
         83.19729028680509,
         174.56485207530582,
         21.135028657347892,
         23.70516024668906,
         6.000050679751631,
         5174.465753424657
        ],
        [
         "fc81c1dc-e48a-11ea-8204-0242ac110002",
         63.133828850766996,
         132.15740630105938,
         29.11698146453668,
         32.94767392143365,
         36.33027121009201,
         10187.175342465753
        ],
        [
         "d499f4b4-e48a-11ea-8204-0242ac110002",
         60.036906447910106,
         116.50853841568045,
         26.259218456845332,
         32.96264494238212,
         25.703278654679853,
         11677.931506849314
        ],
        [
         "d917fcb6-e48a-11ea-8204-0242ac110002",
         54.28134299658563,
         117.03354288728103,
         20.161283170365557,
         36.77107198664776,
         35.0612603089892,
         13812.684931506848
        ],
        [
         "de92c36a-e48a-11ea-8204-0242ac110002",
         59.696672900723684,
         112.76682579938621,
         23.85124546900044,
         34.368766563623474,
         41.26577877939166,
         7279.969863013699
        ],
        [
         "e03624fa-e48a-11ea-8204-0242ac110002",
         54.945708082348766,
         118.58113027913242,
         22.581769591856776,
         37.94913870646003,
         46.08837213021851,
         11564.005479452055
        ],
        [
         "f2eb429c-e48a-11ea-8204-0242ac110002",
         63.349234797627275,
         130.56284878324752,
         29.465455756380166,
         31.139321396716284,
         35.02626492337027,
         7098.432876712329
        ],
        [
         "f4f7ad28-e48a-11ea-8204-0242ac110002",
         94.8586503067319,
         137.30999727559802,
         13.958622131586889,
         15.860396725202323,
         56.68443721218005,
         7684.953424657534
        ],
        [
         "f8bab55e-e48a-11ea-8204-0242ac110002",
         84.52439192601861,
         140.95126880254566,
         20.51573057864418,
         22.21015316272662,
         42.232927925390335,
         7289.101369863014
        ],
        [
         "fb34593e-e48a-11ea-8204-0242ac110002",
         87.95895916682275,
         131.76287147821827,
         17.265602557433624,
         17.46433191450828,
         48.12928384638729,
         7453.7479452054795
        ],
        [
         "d3a8465a-e48a-11ea-8204-0242ac110002",
         58.60434862643907,
         134.67094497666878,
         23.26580798579684,
         34.56460131757791,
         43.220538639882335,
         11002.709589041096
        ],
        [
         "d54d188c-e48a-11ea-8204-0242ac110002",
         56.93559514422796,
         112.88199814194881,
         23.197741294514703,
         37.080765691487436,
         30.502390387733627,
         12472.408219178082
        ],
        [
         "d68e3672-e48a-11ea-8204-0242ac110002",
         63.26480113949964,
         122.61061777895682,
         27.829977954425956,
         31.078909612161013,
         36.3436632140844,
         7010.77808219178
        ],
        [
         "d7039a0c-e48a-11ea-8204-0242ac110002",
         66.18080757875703,
         121.47800972881844,
         28.133255709129397,
         29.83778317473082,
         35.880607157040814,
         10327.619178082192
        ],
        [
         "da4c4844-e48a-11ea-8204-0242ac110002",
         61.161841685916215,
         116.48023538627271,
         26.252972077664726,
         31.5998356541439,
         38.606345603709514,
         7233.183561643836
        ],
        [
         "e0056630-e48a-11ea-8204-0242ac110002",
         60.53405407327022,
         110.54950900949781,
         23.65766417052111,
         33.98935231205849,
         29.494268628472152,
         12393.87397260274
        ],
        [
         "e1b267e4-e48a-11ea-8204-0242ac110002",
         58.57094743982755,
         123.51001075363565,
         26.063117426437763,
         34.26068412248967,
         37.546560585486205,
         10366.416438356164
        ],
        [
         "e2c2d678-e48a-11ea-8204-0242ac110002",
         52.027850360620405,
         99.96301038689208,
         15.923009807503544,
         35.987916147774456,
         42.35428845266895,
         14587.164383561643
        ],
        [
         "e50953e4-e48a-11ea-8204-0242ac110002",
         51.37979517060368,
         121.88333181031625,
         19.60379381422235,
         37.03484824214531,
         49.16261753529497,
         11341.4301369863
        ],
        [
         "e6e333ec-e48a-11ea-8204-0242ac110002",
         52.24689179861342,
         98.40676338652263,
         15.299235030214321,
         35.34186733277739,
         43.24929761082494,
         14756.120547945206
        ],
        [
         "e740c4da-e48a-11ea-8204-0242ac110002",
         51.304019107702565,
         107.4044675286031,
         16.741506093064373,
         38.47921590160345,
         57.36982087697322,
         12224.120547945206
        ],
        [
         "e965ff14-e48a-11ea-8204-0242ac110002",
         51.86209842541691,
         100.58950062163049,
         16.79727607362452,
         37.747147295866704,
         59.28411119880243,
         12293.509589041096
        ],
        [
         "eaae2c5c-e48a-11ea-8204-0242ac110002",
         51.85873567423897,
         110.0067113569838,
         18.87800904635782,
         37.61278516215564,
         36.651177268010144,
         13480.197260273973
        ],
        [
         "eb5b673c-e48a-11ea-8204-0242ac110002",
         48.54568825171694,
         98.7415474845754,
         25.657126474525246,
         47.865581809970074,
         29.006605171878867,
         12094.482191780822
        ],
        [
         "efd8b260-e48a-11ea-8204-0242ac110002",
         50.69466667574024,
         102.5669337545321,
         20.651456807816242,
         38.06671031401044,
         35.07265389492312,
         13339.983561643836
        ],
        [
         "f09efd8a-e48a-11ea-8204-0242ac110002",
         51.7372111181558,
         105.55225027163326,
         20.58955541145716,
         35.73390211789321,
         51.13267605451217,
         11583.684931506848
        ],
        [
         "fb5d113a-e48a-11ea-8204-0242ac110002",
         62.09500176728598,
         117.69553404430732,
         31.250947159133815,
         33.64325787523994,
         35.25925831174727,
         10109.742465753425
        ],
        [
         "fe0b9802-e48a-11ea-8204-0242ac110002",
         69.99710450735202,
         122.73367474704544,
         28.67637925298597,
         28.232355336649274,
         34.60605834430239,
         7023.704109589041
        ],
        [
         "007dbb60-e48b-11ea-8204-0242ac110002",
         73.03301519285105,
         118.50464865660379,
         27.277566455764866,
         28.659579674475953,
         36.78524842061454,
         10305.506849315068
        ],
        [
         "02433fa6-e48b-11ea-8204-0242ac110002",
         90.56336463403424,
         132.72085058866787,
         19.22673766623389,
         19.63788634512578,
         44.5981506050313,
         7419.717808219178
        ],
        [
         "d8308dea-e48a-11ea-8204-0242ac110002",
         57.40375170050888,
         116.5242669776999,
         27.056626868225944,
         34.005457685529365,
         28.369876577823547,
         12077.742465753425
        ],
        [
         "db0f84d0-e48a-11ea-8204-0242ac110002",
         59.24867835625371,
         116.75651098606524,
         23.07706698240328,
         33.88243255823257,
         31.12320539867008,
         12462.586301369864
        ],
        [
         "dc0cbdd0-e48a-11ea-8204-0242ac110002",
         57.04036474027911,
         117.6876222034831,
         22.6586702566253,
         36.29877526446688,
         43.538167494195854,
         7223.402739726027
        ],
        [
         "debfa81c-e48a-11ea-8204-0242ac110002",
         54.55419822150717,
         110.97374052560949,
         22.027844138244106,
         38.59271865016077,
         31.84638891772841,
         12769.391780821918
        ],
        [
         "df4e3dac-e48a-11ea-8204-0242ac110002",
         65.29433963229101,
         135.06846154548484,
         28.15833597385826,
         26.73098229421267,
         34.593364928900854,
         7042.369863013699
        ],
        [
         "e6cad4a0-e48a-11ea-8204-0242ac110002",
         47.30680566148874,
         104.86723809051702,
         23.46797691097089,
         46.42354862501897,
         32.546055821897866,
         12782.783561643835
        ],
        [
         "ec6a0e80-e48a-11ea-8204-0242ac110002",
         51.795535330670226,
         105.77240336336138,
         16.72787799248346,
         37.58596522190293,
         39.33944413616018,
         14049.079452054795
        ],
        [
         "eebe7a68-e48a-11ea-8204-0242ac110002",
         50.74699310439338,
         103.92431375724047,
         17.607463677181432,
         38.7986015806534,
         39.40159319570643,
         14194.616438356165
        ],
        [
         "f38b5dfe-e48a-11ea-8204-0242ac110002",
         86.65669767965392,
         127.90495624158518,
         19.01762323073117,
         23.673811655278406,
         45.97940354413198,
         7445.6164383561645
        ],
        [
         "f4040380-e48a-11ea-8204-0242ac110002",
         76.41374650370402,
         128.87041801764664,
         24.580216922329118,
         24.78930419245643,
         38.39723168191254,
         7124.186301369863
        ],
        [
         "fb666d02-e48a-11ea-8204-0242ac110002",
         77.02058426532415,
         141.99845639052347,
         23.009088118597187,
         24.350972088610927,
         5.67457810225996,
         5131.54794520548
        ],
        [
         "fbf8da0c-e48a-11ea-8204-0242ac110002",
         83.21878715981467,
         155.35536616139396,
         21.967900855364597,
         19.80101551826745,
         5.826705535026787,
         5138.021917808219
        ],
        [
         "fdcaaf36-e48a-11ea-8204-0242ac110002",
         87.69234851463129,
         142.17224772383304,
         21.065737768514964,
         20.236508784882304,
         41.326406731624544,
         7224.183561643836
        ],
        [
         "da060a0a-e48a-11ea-8204-0242ac110002",
         60.050105256400045,
         109.99573890048931,
         25.952285201153007,
         32.683915559326095,
         27.598054371006324,
         12276.649315068493
        ],
        [
         "dac93200-e48a-11ea-8204-0242ac110002",
         56.49275327926298,
         114.54059607071302,
         21.747077016931602,
         34.446904914712825,
         33.29973417983038,
         13540.953424657535
        ],
        [
         "db3cf5b4-e48a-11ea-8204-0242ac110002",
         57.37446787688233,
         114.39562417827285,
         23.407627733869738,
         35.30862019003548,
         42.55468988489801,
         7341.145205479452
        ],
        [
         "dc4fb22a-e48a-11ea-8204-0242ac110002",
         58.06122525504476,
         114.93391735811856,
         24.41473450162436,
         33.15006290701331,
         39.83349158955206,
         10792.906849315068
        ],
        [
         "df968864-e48a-11ea-8204-0242ac110002",
         60.371967892694876,
         120.834144381884,
         26.61380927551256,
         34.03078405730693,
         37.81995248331695,
         7154.495890410959
        ],
        [
         "e18655aa-e48a-11ea-8204-0242ac110002",
         54.1644315103787,
         103.18290445204391,
         18.912678704822834,
         36.20466019900128,
         37.300013986202856,
         14346.77808219178
        ],
        [
         "e30be8e0-e48a-11ea-8204-0242ac110002",
         51.90188956385291,
         101.53758769748447,
         19.61559851372494,
         36.82424542633642,
         35.7420741220479,
         13878.764383561644
        ],
        [
         "e3b9c8d4-e48a-11ea-8204-0242ac110002",
         51.88358923659281,
         109.82581670603513,
         16.341091215639803,
         37.49573899794306,
         40.8379790762771,
         14844.17808219178
        ],
        [
         "e5803608-e48a-11ea-8204-0242ac110002",
         47.38327639624978,
         102.17203822170465,
         25.0449583677272,
         45.73041060434734,
         31.43667584440403,
         13080.660273972602
        ],
        [
         "e90ee6ca-e48a-11ea-8204-0242ac110002",
         49.87306409303781,
         105.62814782230969,
         22.136401947072052,
         40.75715154182441,
         47.076352458871,
         11619.912328767123
        ],
        [
         "e94dc1ec-e48a-11ea-8204-0242ac110002",
         52.279641078005845,
         101.57665632976527,
         16.916960005803144,
         37.519021466656305,
         58.15410429542508,
         12817.742465753425
        ],
        [
         "ec389a3a-e48a-11ea-8204-0242ac110002",
         47.757997343322785,
         110.73789643268775,
         24.523118665985713,
         43.19241049385844,
         46.49734530940597,
         11698.619178082192
        ],
        [
         "ee604aba-e48a-11ea-8204-0242ac110002",
         52.28382816965788,
         110.03935860883018,
         16.901597712170734,
         33.72021572285373,
         41.02281762268209,
         14989.301369863013
        ],
        [
         "f3dcc77a-e48a-11ea-8204-0242ac110002",
         76.62052532740138,
         121.34800977966687,
         23.891324840319115,
         25.304774987618025,
         39.80490009842157,
         10928.980821917808
        ],
        [
         "f7dc0eda-e48a-11ea-8204-0242ac110002",
         72.69727424239056,
         138.81658845480243,
         25.257125161814233,
         24.904846959681702,
         36.84273488501997,
         7074.608219178082
        ],
        [
         "f7ef49dc-e48a-11ea-8204-0242ac110002",
         82.45806347868694,
         142.37041530639883,
         24.673098166571933,
         24.5103186849087,
         5.191275166793198,
         5109.627397260274
        ],
        [
         "f9ee9300-e48a-11ea-8204-0242ac110002",
         80.60116072875402,
         138.5905325707344,
         25.45964128596801,
         25.534671666190494,
         36.4520101513977,
         7147.060273972603
        ],
        [
         "fa57e292-e48a-11ea-8204-0242ac110002",
         73.07182861292411,
         136.08592109556756,
         25.53357981834978,
         25.70170534145554,
         5.285751077395181,
         5152.194520547945
        ],
        [
         "fb4261a0-e48a-11ea-8204-0242ac110002",
         75.12443311051973,
         142.05207109549784,
         25.94702461942228,
         24.54496346895654,
         5.193026876907001,
         5155.561643835616
        ],
        [
         "fcc6f748-e48a-11ea-8204-0242ac110002",
         74.13871713788559,
         114.25243561735049,
         24.218945079824984,
         25.815763391757784,
         38.71513491740559,
         10762.931506849314
        ],
        [
         "00337974-e48b-11ea-8204-0242ac110002",
         89.79743806208528,
         152.631637108012,
         17.76383666815434,
         19.07515065992139,
         6.746997303777693,
         5188.791780821918
        ],
        [
         "011639bc-e48b-11ea-8204-0242ac110002",
         68.79908019300508,
         111.57732425719618,
         27.819443890433092,
         28.66791604661916,
         24.81849640632771,
         11399.326027397261
        ],
        [
         "d76c87ec-e48a-11ea-8204-0242ac110002",
         60.61395871256956,
         109.85351402876162,
         26.742800639652277,
         31.36660269733902,
         27.109741402240257,
         11733.452054794521
        ],
        [
         "d7e870c8-e48a-11ea-8204-0242ac110002",
         58.611991683118795,
         118.72983864594788,
         25.73459233052918,
         32.973882790786874,
         42.04832778196003,
         10713.931506849314
        ],
        [
         "dbd5a610-e48a-11ea-8204-0242ac110002",
         52.27925842397876,
         115.82377368229831,
         16.461301895790317,
         40.56026049793733,
         56.20517557594792,
         11988.504109589041
        ],
        [
         "dca752c8-e48a-11ea-8204-0242ac110002",
         51.71091925670311,
         115.970186923561,
         18.19972132731587,
         39.73876584103674,
         50.850687536339414,
         11566.109589041096
        ],
        [
         "dd82ec66-e48a-11ea-8204-0242ac110002",
         52.34832291045158,
         118.74866135364226,
         21.911023265429616,
         37.605301570302906,
         44.77622733835064,
         10913.85205479452
        ],
        [
         "de8297d8-e48a-11ea-8204-0242ac110002",
         61.42131995568504,
         114.40213969472232,
         27.292849068198624,
         31.087084209597474,
         26.940142451237893,
         11774.08493150685
        ],
        [
         "df764a86-e48a-11ea-8204-0242ac110002",
         54.71673176618614,
         103.68101908687055,
         17.76680290367664,
         40.48759165618871,
         37.538702021834844,
         13875.643835616438
        ],
        [
         "e3866ed0-e48a-11ea-8204-0242ac110002",
         51.54780700113487,
         99.93305764396133,
         19.597158160144676,
         37.6982255234929,
         35.05337961438132,
         13403.761643835616
        ],
        [
         "eaa60e64-e48a-11ea-8204-0242ac110002",
         50.009002308091816,
         97.17862869421273,
         22.607859907013165,
         40.104884815192904,
         32.243748815160664,
         12766.66301369863
        ],
        [
         "ebd67148-e48a-11ea-8204-0242ac110002",
         50.19276916526934,
         95.23530145169518,
         21.73136634710522,
         37.32935031617254,
         34.037015604399684,
         13153.698630136987
        ],
        [
         "efcd6ad6-e48a-11ea-8204-0242ac110002",
         52.693679635402994,
         112.06884754047378,
         13.715907371843103,
         33.7621524738883,
         68.53627348826153,
         13163.780821917808
        ],
        [
         "f05a4bb8-e48a-11ea-8204-0242ac110002",
         48.562938868011614,
         91.76251901212635,
         23.93446205340052,
         44.251975086941094,
         43.810199566382586,
         10978.972602739726
        ],
        [
         "f1691714-e48a-11ea-8204-0242ac110002",
         51.39244562649121,
         118.00394986409893,
         21.326797406966865,
         38.39086133215872,
         46.53566709812955,
         11020.295890410958
        ],
        [
         "f891757c-e48a-11ea-8204-0242ac110002",
         76.91466609829983,
         126.50625838872521,
         22.13073183694258,
         25.221245414679057,
         40.39662513318929,
         10566.257534246575
        ],
        [
         "fe952cd4-e48a-11ea-8204-0242ac110002",
         66.4659469701817,
         133.61200790721205,
         29.59521859104199,
         32.9432175421907,
         34.258969923324365,
         6974.030136986301
        ],
        [
         "01e04aa4-e48b-11ea-8204-0242ac110002",
         75.87241332954204,
         144.04122160463126,
         25.21266826798853,
         26.698668235737323,
         37.61636006164831,
         7142.945205479452
        ],
        [
         "d60ae4de-e48a-11ea-8204-0242ac110002",
         65.09443389021877,
         115.11933899654937,
         30.534555761268297,
         29.26736263630372,
         24.881258646333208,
         11577.030136986301
        ],
        [
         "d65bb29c-e48a-11ea-8204-0242ac110002",
         63.754478270084235,
         136.37618282724523,
         30.04420521854382,
         30.327438810698073,
         34.33886684907563,
         10050.567123287672
        ],
        [
         "d8a97200-e48a-11ea-8204-0242ac110002",
         58.63084481320134,
         113.25985263616464,
         23.88992048486576,
         34.32311656479277,
         41.03868481741202,
         7307.734246575343
        ],
        [
         "db8e77ae-e48a-11ea-8204-0242ac110002",
         57.74409026049309,
         118.17414212697211,
         25.318281830456907,
         32.55058016284553,
         39.60467268017598,
         10492.728767123288
        ],
        [
         "dccc95d8-e48a-11ea-8204-0242ac110002",
         55.97399946709283,
         116.63857952031229,
         21.528508943969836,
         37.21616253944957,
         45.364026519192365,
         11081.232876712329
        ],
        [
         "ded3f902-e48a-11ea-8204-0242ac110002",
         55.56364441103787,
         123.23252811687779,
         23.60847936642274,
         35.09587203712427,
         43.45936870409898,
         11041.936986301369
        ],
        [
         "e01db8c0-e48a-11ea-8204-0242ac110002",
         57.165595681135535,
         116.93415886567132,
         22.03440862553645,
         36.90327346199233,
         32.542321398703706,
         12769.383561643835
        ],
        [
         "e32fb8e2-e48a-11ea-8204-0242ac110002",
         51.33988885994735,
         97.62022929345018,
         18.706184866322268,
         36.80454676244681,
         36.57370954155426,
         13597.295890410958
        ],
        [
         "e54fe598-e48a-11ea-8204-0242ac110002",
         48.9938535812492,
         96.55166414333543,
         25.831755124007465,
         40.7926134180722,
         30.850097010287243,
         12424.684931506848
        ],
        [
         "e6eb5e82-e48a-11ea-8204-0242ac110002",
         53.12080310297062,
         105.7068821599469,
         13.553584561737209,
         33.35544821621486,
         64.58975344037695,
         12980.14794520548
        ],
        [
         "ef45df30-e48a-11ea-8204-0242ac110002",
         49.81695630455849,
         95.7078124615437,
         21.178848303872016,
         39.798867006636264,
         33.97957987426971,
         13058.380821917808
        ],
        [
         "f178b980-e48a-11ea-8204-0242ac110002",
         48.61732512108433,
         106.73741052212725,
         25.37339772264201,
         45.79319446942412,
         44.916944682085465,
         11068.345205479452
        ],
        [
         "ffb7b622-e48a-11ea-8204-0242ac110002",
         76.06711231509303,
         135.6088418861024,
         22.673154905444186,
         23.2213208522061,
         39.73374694783692,
         7340.928767123288
        ],
        [
         "00be826c-e48b-11ea-8204-0242ac110002",
         91.78362304967129,
         129.78489715444067,
         17.190082595544958,
         15.958628014380402,
         48.856428542938154,
         7471.553424657534
        ],
        [
         "d6f6ec30-e48a-11ea-8204-0242ac110002",
         57.95667282844952,
         117.42153129646717,
         26.316222765465675,
         32.34644028134208,
         27.753405876724376,
         11888.208219178083
        ],
        [
         "da483f2e-e48a-11ea-8204-0242ac110002",
         56.71542849136317,
         120.6598609948806,
         22.88614999057025,
         37.25676444863729,
         41.55576067633671,
         10875.287671232876
        ],
        [
         "dec7ea68-e48a-11ea-8204-0242ac110002",
         53.73258518418602,
         117.81679017260672,
         22.039365933116528,
         36.16237387267516,
         45.65280862489404,
         7332.230136986302
        ],
        [
         "e0c62834-e48a-11ea-8204-0242ac110002",
         57.93505763255714,
         110.47443873251835,
         23.542680048179278,
         32.77840871289809,
         29.380548290887273,
         12270.367123287671
        ],
        [
         "e12a8cfc-e48a-11ea-8204-0242ac110002",
         62.24400760986823,
         134.14549955417135,
         30.10453983492369,
         28.783015788095724,
         34.99435833186795,
         7197.361643835617
        ],
        [
         "e24b7bd2-e48a-11ea-8204-0242ac110002",
         53.90823283387261,
         111.49204762097959,
         16.26004735116332,
         33.459437417185306,
         40.5340551845257,
         14291.372602739726
        ],
        [
         "e5b90d52-e48a-11ea-8204-0242ac110002",
         50.23189404290919,
         103.88878267024752,
         19.878550822867005,
         37.603386898275964,
         36.70095857565445,
         13466.09589041096
        ],
        [
         "e80fe83c-e48a-11ea-8204-0242ac110002",
         50.810974081194445,
         96.72701851990291,
         19.765414167403016,
         39.68712404273563,
         35.61460185386591,
         13193.920547945205
        ],
        [
         "ed4fb840-e48a-11ea-8204-0242ac110002",
         48.110022051006524,
         93.80892203731706,
         24.218215396159835,
         46.02670146860746,
         30.411112473587963,
         12296.605479452055
        ],
        [
         "ede79b1a-e48a-11ea-8204-0242ac110002",
         50.56569418135739,
         112.63144254349373,
         20.266363099770864,
         41.351517132050525,
         50.7824808164742,
         11491.550684931506
        ],
        [
         "eea9ff16-e48a-11ea-8204-0242ac110002",
         52.169554234195815,
         109.91997958791406,
         17.775780598385058,
         34.91161282174952,
         56.82792204418252,
         12107.65205479452
        ],
        [
         "fabf70e2-e48a-11ea-8204-0242ac110002",
         69.71551319459671,
         143.8472477474902,
         26.568157980601903,
         26.11288087600854,
         5.280635917776737,
         5201.904109589041
        ],
        [
         "fbb0d07c-e48a-11ea-8204-0242ac110002",
         80.84923891246515,
         130.56499169061928,
         20.883321604335347,
         21.213976085754275,
         42.35544566726539,
         7269.671232876713
        ],
        [
         "d9734418-e48a-11ea-8204-0242ac110002",
         62.941062264718006,
         124.93585373720265,
         25.511677103694115,
         31.62185328629116,
         40.39544898996745,
         10623.230136986302
        ],
        [
         "da6908e4-e48a-11ea-8204-0242ac110002",
         56.93138249497364,
         125.61731585225127,
         23.44003001615754,
         33.22026259447376,
         42.99141153804019,
         10970
        ],
        [
         "df0e10ba-e48a-11ea-8204-0242ac110002",
         60.230703475408866,
         123.38365460823671,
         27.08783544140755,
         31.335716499516273,
         36.94141954066629,
         7090.852054794521
        ],
        [
         "e275d1de-e48a-11ea-8204-0242ac110002",
         48.244139874603896,
         104.28076208413611,
         27.214351535864495,
         46.36537984102017,
         29.76294035175649,
         12480.019178082192
        ],
        [
         "e686e7ea-e48a-11ea-8204-0242ac110002",
         49.64915248481883,
         102.27377440270291,
         22.766892994366625,
         43.82230953250608,
         44.630568415296956,
         11006.082191780823
        ],
        [
         "ed9e6e36-e48a-11ea-8204-0242ac110002",
         49.709389081216116,
         87.53102193184509,
         22.480060601537346,
         40.78668675070441,
         33.1420517951398,
         12941.602739726028
        ],
        [
         "ee0cf248-e48a-11ea-8204-0242ac110002",
         48.88530830682945,
         98.07288173904222,
         23.29455822267727,
         41.808633655368226,
         32.16106149037547,
         12899.506849315068
        ],
        [
         "f0926674-e48a-11ea-8204-0242ac110002",
         52.92652685941721,
         104.85560815464399,
         17.815393853814466,
         31.555115399239924,
         39.16862159627757,
         13913.65205479452
        ],
        [
         "f230b44a-e48a-11ea-8204-0242ac110002",
         70.11199906693497,
         145.31252422990744,
         28.242980624903222,
         24.405670204196035,
         35.019893856719726,
         7059.964383561643
        ],
        [
         "f5a48e08-e48a-11ea-8204-0242ac110002",
         85.58990959022798,
         149.7240273927891,
         21.60018419750465,
         20.66598914819976,
         5.709645559386087,
         5120.865753424658
        ],
        [
         "f80bbd88-e48a-11ea-8204-0242ac110002",
         87.56365120120763,
         151.25881197259585,
         19.528600302111276,
         20.55051843451458,
         6.355359959303167,
         5258.479452054795
        ],
        [
         "fccb6eae-e48a-11ea-8204-0242ac110002",
         64.46127968540253,
         126.59090476338571,
         31.796521066477442,
         30.172881323215922,
         33.64814933772654,
         6969.789041095891
        ],
        [
         "fdf7910e-e48a-11ea-8204-0242ac110002",
         88.61175635081773,
         154.18935039873205,
         19.296440835375726,
         19.575723669289722,
         6.397381311497759,
         5195.556164383562
        ],
        [
         "ffa41ae0-e48a-11ea-8204-0242ac110002",
         86.2770783256306,
         128.99006837304995,
         20.449855403786174,
         21.795667489176537,
         42.468802272556765,
         7421.3835616438355
        ],
        [
         "00aa978e-e48b-11ea-8204-0242ac110002",
         76.33341892264967,
         138.7795476586327,
         26.27111407090873,
         26.521328911180536,
         36.1982445141474,
         7088.246575342466
        ],
        [
         "0143da48-e48b-11ea-8204-0242ac110002",
         78.65877986732369,
         135.37777913018073,
         26.67837013162875,
         25.133734295017597,
         35.21555608160214,
         6989.350684931507
        ],
        [
         "01b4b1aa-e48b-11ea-8204-0242ac110002",
         85.04365028908231,
         141.1904457541055,
         20.70897002850501,
         19.968674723798564,
         41.991511756512324,
         7185.961643835616
        ],
        [
         "d37ab672-e48a-11ea-8204-0242ac110002",
         55.861870809585845,
         108.48017276473779,
         23.143239953790705,
         33.43399114985911,
         29.88926070783344,
         12178.024657534246
        ],
        [
         "d6505bae-e48a-11ea-8204-0242ac110002",
         57.65786534595617,
         120.37503973106395,
         24.403586728513744,
         32.53932065500557,
         42.08318637431461,
         10721.646575342465
        ],
        [
         "e196cdf4-e48a-11ea-8204-0242ac110002",
         62.844140599519065,
         116.85710670133167,
         27.696896558439672,
         30.245941166113177,
         37.298060718520034,
         7084.695890410959
        ],
        [
         "e2eb62a0-e48a-11ea-8204-0242ac110002",
         53.8499971944348,
         111.75882906467271,
         15.229845589924443,
         31.07434252511388,
         41.53864358102939,
         14595.709589041096
        ],
        [
         "ed805644-e48a-11ea-8204-0242ac110002",
         52.30216762613208,
         108.73247805323427,
         15.429292961404542,
         36.22001721280708,
         58.389633642855486,
         12257.460273972603
        ],
        [
         "ed90fecc-e48a-11ea-8204-0242ac110002",
         52.27335080798567,
         105.55820447725095,
         19.78867272068144,
         35.26229158455624,
         36.01886961456622,
         13461.482191780822
        ],
        [
         "ef30beb6-e48a-11ea-8204-0242ac110002",
         50.85963067518544,
         97.57658153893723,
         18.942910932572573,
         39.58513668612304,
         37.49227877634065,
         13669.767123287671
        ],
        [
         "f07699d0-e48a-11ea-8204-0242ac110002",
         51.84502286831189,
         112.37524482914081,
         19.41292973153959,
         34.76233556255001,
         36.5072020325695,
         13590.728767123288
        ],
        [
         "f104f144-e48a-11ea-8204-0242ac110002",
         48.2481702861771,
         102.39138826417405,
         24.977220427091684,
         45.20330316458817,
         29.55337754606982,
         12192.05205479452
        ],
        [
         "f9b72154-e48a-11ea-8204-0242ac110002",
         63.82246980934964,
         132.62699392749155,
         29.81305731050126,
         31.55870276819882,
         34.56841601056185,
         6961.054794520548
        ],
        [
         "f9d482d0-e48a-11ea-8204-0242ac110002",
         77.78928408909773,
         138.01604075611826,
         25.359557945263187,
         22.369290755775904,
         35.52708090343086,
         7071.871232876712
        ],
        [
         "fa53b014-e48a-11ea-8204-0242ac110002",
         63.60575223699051,
         143.51437814496046,
         31.2222438838391,
         29.06129215509836,
         4.801860282033583,
         5152.605479452055
        ],
        [
         "d5d54040-e48a-11ea-8204-0242ac110002",
         59.78665652590695,
         113.30570823446087,
         27.26044370288362,
         32.2286912408749,
         26.549823072366,
         11783.180821917807
        ],
        [
         "d903def2-e48a-11ea-8204-0242ac110002",
         61.381406016206036,
         114.08226883611219,
         26.960749993987893,
         30.58414683275863,
         27.56548550385671,
         11819.676712328766
        ],
        [
         "dad6bd8a-e48a-11ea-8204-0242ac110002",
         54.42213856201946,
         116.91116416071802,
         20.94533999234218,
         36.401413888388014,
         46.91761315127553,
         7324.572602739726
        ],
        [
         "df565b2c-e48a-11ea-8204-0242ac110002",
         61.87288735184264,
         126.89188564644219,
         26.883385792038755,
         33.52822247752566,
         38.54721778639395,
         10295.279452054794
        ],
        [
         "e065ba76-e48a-11ea-8204-0242ac110002",
         52.90015247723608,
         111.42438865151135,
         17.08922527254259,
         39.879288912329926,
         56.950460239204176,
         11999.367123287671
        ],
        [
         "e4b3a8ae-e48a-11ea-8204-0242ac110002",
         51.4466618023817,
         87.79573121555752,
         17.589993398944177,
         37.02881515293278,
         38.63964929457289,
         13917.323287671234
        ],
        [
         "e5581a9c-e48a-11ea-8204-0242ac110002",
         50.100941219448316,
         94.39173123342484,
         21.02014132283705,
         39.477230234797,
         34.678509725836605,
         13356.342465753425
        ],
        [
         "f476481e-e48a-11ea-8204-0242ac110002",
         75.56066108899132,
         117.50339540314098,
         26.838447001047392,
         26.613715061473002,
         35.3100660084595,
         10172.8
        ],
        [
         "f4ad5ebc-e48a-11ea-8204-0242ac110002",
         68.15598680446494,
         154.32788767664513,
         28.408191381611314,
         28.310345766782344,
         34.31182757876962,
         7023.684931506849
        ],
        [
         "f85a74c8-e48a-11ea-8204-0242ac110002",
         69.30663886623927,
         129.49509776515083,
         28.3819595998054,
         27.57909498259879,
         34.8728731806847,
         7002.315068493151
        ],
        [
         "f9260c00-e48a-11ea-8204-0242ac110002",
         73.45478907310202,
         147.37589389305447,
         25.021989871377563,
         26.02912942012068,
         5.404552382650996,
         5176.301369863014
        ],
        [
         "d2cb3166-e48a-11ea-8204-0242ac110002",
         57.89206597368129,
         117.34859398620202,
         24.75631963930908,
         32.958863516942756,
         29.049653751500102,
         12600.186301369862
        ],
        [
         "d7f79ecc-e48a-11ea-8204-0242ac110002",
         59.70173920373684,
         115.61135864287056,
         24.629859707976223,
         34.26294343034571,
         28.26245520020928,
         12333.898630136986
        ],
        [
         "d8bd9082-e48a-11ea-8204-0242ac110002",
         60.88386114539889,
         125.48157424510035,
         26.37183729664383,
         32.935190409147545,
         38.18216968967755,
         7185.602739726028
        ],
        [
         "dcd8ee96-e48a-11ea-8204-0242ac110002",
         58.67513465619673,
         114.81637335515181,
         26.223507486876347,
         34.115485047878266,
         41.44177718375021,
         11179.964383561644
        ],
        [
         "dea2f8de-e48a-11ea-8204-0242ac110002",
         61.6160076965517,
         132.1575915777525,
         29.214987110457216,
         28.55200873707323,
         35.315380841293674,
         7071.309589041096
        ],
        [
         "df1e2658-e48a-11ea-8204-0242ac110002",
         57.79090434270172,
         113.48672292253409,
         24.58697369729779,
         34.10867280906385,
         28.34782775328702,
         12355.117808219178
        ],
        [
         "e175ffd4-e48a-11ea-8204-0242ac110002",
         55.66397084404733,
         115.74118317285605,
         18.540802014734844,
         35.38276574356398,
         35.20058505138419,
         13661.55616438356
        ],
        [
         "ec2762ba-e48a-11ea-8204-0242ac110002",
         52.8441469188351,
         102.95090267933823,
         18.224779182419883,
         37.017930590522795,
         37.59323329527445,
         14279.953424657535
        ],
        [
         "f08e573c-e48a-11ea-8204-0242ac110002",
         49.81810232247416,
         93.82346077209935,
         20.500819186027325,
         41.96522993068775,
         34.665584542770816,
         13623.128767123288
        ],
        [
         "f550e956-e48a-11ea-8204-0242ac110002",
         75.66324736410031,
         129.25310233755707,
         23.04929049310488,
         25.848400399973336,
         39.43233310254565,
         7195.621917808219
        ],
        [
         "f583cf7e-e48a-11ea-8204-0242ac110002",
         59.461133711798084,
         127.72455541466206,
         32.14386805515248,
         30.679419609805784,
         33.67694723800225,
         7035.449315068493
        ],
        [
         "f9057dbe-e48a-11ea-8204-0242ac110002",
         90.03768405949508,
         144.2294157205421,
         18.72742168682911,
         20.45548203900439,
         6.552069139492742,
         5246.3369863013695
        ],
        [
         "00e65b8e-e48b-11ea-8204-0242ac110002",
         57.94548196762418,
         136.19133883336912,
         32.83360988345788,
         31.04002304494557,
         33.5751369225473,
         6968.054794520548
        ],
        [
         "023d2df0-e48b-11ea-8204-0242ac110002",
         85.30888261659175,
         141.7124865877084,
         26.326650995920684,
         23.446564071470814,
         4.926707230906863,
         5152.742465753425
        ],
        [
         "d3f4bc24-e48a-11ea-8204-0242ac110002",
         61.652766021920414,
         121.37708346141778,
         26.823912934209385,
         33.39299372602369,
         27.191694231532054,
         11895.079452054795
        ],
        [
         "d8348436-e48a-11ea-8204-0242ac110002",
         61.808568830306434,
         131.12511890693497,
         28.1394153436464,
         30.75153968260508,
         35.62719500568843,
         10312.049315068492
        ],
        [
         "d9541b60-e48a-11ea-8204-0242ac110002",
         56.92782277672679,
         132.66102759239462,
         25.042784344096763,
         33.312178624604336,
         39.76527588148516,
         7241.824657534246
        ],
        [
         "db0b154e-e48a-11ea-8204-0242ac110002",
         59.882387338108316,
         125.64828889300395,
         27.79130026749712,
         31.50780677670688,
         37.79257032990701,
         10537.027397260274
        ],
        [
         "dd0a2290-e48a-11ea-8204-0242ac110002",
         57.25465294961517,
         115.99647068308656,
         24.224572799138876,
         35.58131003997515,
         42.25208461738107,
         10841.241095890411
        ],
        [
         "dde2127c-e48a-11ea-8204-0242ac110002",
         56.817393871565535,
         107.07546203408585,
         21.906211984341702,
         34.69260064769794,
         31.311724180749618,
         12622.517808219178
        ],
        [
         "ddf5982e-e48a-11ea-8204-0242ac110002",
         50.63985379280536,
         117.21921064510943,
         18.69798737935665,
         39.92700201450553,
         37.01341707542084,
         13608.08493150685
        ],
        [
         "ecc0f3ee-e48a-11ea-8204-0242ac110002",
         50.25365198761861,
         95.79577903785572,
         24.122579742598358,
         39.328554765320085,
         31.105601629428428,
         12699.895890410959
        ]
       ],
       "datasetInfos": [],
       "dbfsResultPath": null,
       "isJsonSchema": true,
       "overflow": true,
       "plotOptions": {
        "customPlotOptions": {},
        "displayType": "table",
        "pivotAggregation": null,
        "pivotColumns": null,
        "xColumns": null,
        "yColumns": null
       },
       "removedWidgets": [],
       "schema": [
        {
         "metadata": "{}",
         "name": "device_id",
         "type": "\"string\""
        },
        {
         "metadata": "{}",
         "name": "avg_resting_heartrate",
         "type": "\"double\""
        },
        {
         "metadata": "{}",
         "name": "avg_active_heartrate",
         "type": "\"double\""
        },
        {
         "metadata": "{}",
         "name": "bmi",
         "type": "\"double\""
        },
        {
         "metadata": "{}",
         "name": "avg_vo2",
         "type": "\"double\""
        },
        {
         "metadata": "{}",
         "name": "avg_workout_minutes",
         "type": "\"double\""
        },
        {
         "metadata": "{}",
         "name": "steps",
         "type": "\"double\""
        }
       ],
       "type": "table"
      }
     },
     "output_type": "display_data"
    }
   ],
   "source": [
    "%sql\n",
    "\n",
    "SELECT *\n",
    "FROM adsda.ht_daily_metrics_agg"
   ]
  },
  {
   "cell_type": "markdown",
   "metadata": {
    "application/vnd.databricks.v1+cell": {
     "inputWidgets": {},
     "nuid": "4b912318-0c8c-4c24-b94e-21a98f6f2ca2",
     "showTitle": false,
     "title": ""
    }
   },
   "source": [
    "**Coursera Quiz:** How many distinct values of `device_id` are in the aggregated table?\n",
    "\n",
    "Write your code in the below empty cell to answer the question."
   ]
  },
  {
   "cell_type": "code",
   "execution_count": 0,
   "metadata": {
    "application/vnd.databricks.v1+cell": {
     "inputWidgets": {},
     "nuid": "099328bd-9df4-4597-9702-320a17f9388c",
     "showTitle": false,
     "title": ""
    }
   },
   "outputs": [
    {
     "data": {
      "text/html": [
       "<style scoped>\n",
       "  .table-result-container {\n",
       "    max-height: 300px;\n",
       "    overflow: auto;\n",
       "  }\n",
       "  table, th, td {\n",
       "    border: 1px solid black;\n",
       "    border-collapse: collapse;\n",
       "  }\n",
       "  th, td {\n",
       "    padding: 5px;\n",
       "  }\n",
       "  th {\n",
       "    text-align: left;\n",
       "  }\n",
       "</style><div class='table-result-container'><table class='table-result'><thead style='background-color: white'><tr><th>count(DISTINCT device_id)</th></tr></thead><tbody><tr><td>3000</td></tr></tbody></table></div>"
      ]
     },
     "metadata": {
      "application/vnd.databricks.v1+output": {
       "addedWidgets": {},
       "aggData": [],
       "aggError": "",
       "aggOverflow": false,
       "aggSchema": [],
       "aggSeriesLimitReached": false,
       "aggType": "",
       "arguments": {},
       "columnCustomDisplayInfos": {},
       "data": [
        [
         3000
        ]
       ],
       "datasetInfos": [],
       "dbfsResultPath": null,
       "isJsonSchema": true,
       "overflow": false,
       "plotOptions": {
        "customPlotOptions": {},
        "displayType": "table",
        "pivotAggregation": null,
        "pivotColumns": null,
        "xColumns": null,
        "yColumns": null
       },
       "removedWidgets": [],
       "schema": [
        {
         "metadata": "{}",
         "name": "count(DISTINCT device_id)",
         "type": "\"long\""
        }
       ],
       "type": "table"
      }
     },
     "output_type": "display_data"
    }
   ],
   "source": [
    "%sql\n",
    "-- ANSWER\n",
    "SELECT COUNT (DISTINCT device_id)\n",
    "FROM adsda.ht_daily_metrics_agg"
   ]
  },
  {
   "cell_type": "markdown",
   "metadata": {
    "application/vnd.databricks.v1+cell": {
     "inputWidgets": {},
     "nuid": "67c841c1-6421-49f2-bd89-c431dfeb5152",
     "showTitle": false,
     "title": ""
    }
   },
   "source": [
    "Fill in the following cell to create a Pandas DataFrame from the Spark table."
   ]
  },
  {
   "cell_type": "code",
   "execution_count": 0,
   "metadata": {
    "application/vnd.databricks.v1+cell": {
     "inputWidgets": {},
     "nuid": "aac5f9e4-0047-4ae9-be9e-1f543dc0de4e",
     "showTitle": false,
     "title": ""
    }
   },
   "outputs": [
    {
     "data": {
      "text/html": [
       "<style scoped>\n",
       "  .ansiout {\n",
       "    display: block;\n",
       "    unicode-bidi: embed;\n",
       "    white-space: pre-wrap;\n",
       "    word-wrap: break-word;\n",
       "    word-break: break-all;\n",
       "    font-family: \"Source Code Pro\", \"Menlo\", monospace;;\n",
       "    font-size: 13px;\n",
       "    color: #555;\n",
       "    margin-left: 4px;\n",
       "    line-height: 19px;\n",
       "  }\n",
       "</style>\n",
       "<div class=\"ansiout\"></div>"
      ]
     },
     "metadata": {
      "application/vnd.databricks.v1+output": {
       "addedWidgets": {},
       "arguments": {},
       "data": "<div class=\"ansiout\"></div>",
       "datasetInfos": [],
       "removedWidgets": [],
       "type": "html"
      }
     },
     "output_type": "display_data"
    }
   ],
   "source": [
    "# ANSWER\n",
    "ht_metrics_pd_df = spark.table(\"adsda.ht_daily_metrics_agg\").toPandas()"
   ]
  },
  {
   "cell_type": "markdown",
   "metadata": {
    "application/vnd.databricks.v1+cell": {
     "inputWidgets": {},
     "nuid": "dcd3f626-ee20-4177-8648-750fcded9bcd",
     "showTitle": false,
     "title": ""
    }
   },
   "source": [
    "Separate the DataFrame into the features (X) and the target (y). In this case, we want to predict a user's average workout minutes, using only the numeric features as predictors."
   ]
  },
  {
   "cell_type": "code",
   "execution_count": 0,
   "metadata": {
    "application/vnd.databricks.v1+cell": {
     "inputWidgets": {},
     "nuid": "10c5107c-c518-4210-80b9-c4b337f6ac2c",
     "showTitle": false,
     "title": ""
    }
   },
   "outputs": [
    {
     "data": {
      "text/html": [
       "<style scoped>\n",
       "  .ansiout {\n",
       "    display: block;\n",
       "    unicode-bidi: embed;\n",
       "    white-space: pre-wrap;\n",
       "    word-wrap: break-word;\n",
       "    word-break: break-all;\n",
       "    font-family: \"Source Code Pro\", \"Menlo\", monospace;;\n",
       "    font-size: 13px;\n",
       "    color: #555;\n",
       "    margin-left: 4px;\n",
       "    line-height: 19px;\n",
       "  }\n",
       "</style>\n",
       "<div class=\"ansiout\"></div>"
      ]
     },
     "metadata": {
      "application/vnd.databricks.v1+output": {
       "addedWidgets": {},
       "arguments": {},
       "data": "<div class=\"ansiout\"></div>",
       "datasetInfos": [],
       "removedWidgets": [],
       "type": "html"
      }
     },
     "output_type": "display_data"
    }
   ],
   "source": [
    "# ANSWER\n",
    "X = ht_metrics_pd_df[['avg_resting_heartrate', 'avg_active_heartrate', 'bmi', 'avg_vo2', 'steps']]\n",
    "y = ht_metrics_pd_df['avg_workout_minutes']"
   ]
  },
  {
   "cell_type": "markdown",
   "metadata": {
    "application/vnd.databricks.v1+cell": {
     "inputWidgets": {},
     "nuid": "c87acd1c-3d82-4ec2-995a-a7b643b4a1a1",
     "showTitle": false,
     "title": ""
    }
   },
   "source": [
    "Perform a train-test split. Set a random state seed to 42 so that you will obtain consistent results."
   ]
  },
  {
   "cell_type": "code",
   "execution_count": 0,
   "metadata": {
    "application/vnd.databricks.v1+cell": {
     "inputWidgets": {},
     "nuid": "0690c7e3-a986-437b-8a85-aa569bc0d502",
     "showTitle": false,
     "title": ""
    }
   },
   "outputs": [
    {
     "data": {
      "text/html": [
       "<style scoped>\n",
       "  .ansiout {\n",
       "    display: block;\n",
       "    unicode-bidi: embed;\n",
       "    white-space: pre-wrap;\n",
       "    word-wrap: break-word;\n",
       "    word-break: break-all;\n",
       "    font-family: \"Source Code Pro\", \"Menlo\", monospace;;\n",
       "    font-size: 13px;\n",
       "    color: #555;\n",
       "    margin-left: 4px;\n",
       "    line-height: 19px;\n",
       "  }\n",
       "</style>\n",
       "<div class=\"ansiout\"></div>"
      ]
     },
     "metadata": {
      "application/vnd.databricks.v1+output": {
       "addedWidgets": {},
       "arguments": {},
       "data": "<div class=\"ansiout\"></div>",
       "datasetInfos": [],
       "removedWidgets": [],
       "type": "html"
      }
     },
     "output_type": "display_data"
    }
   ],
   "source": [
    "# ANSWER\n",
    "from sklearn.model_selection import train_test_split\n",
    "\n",
    "X_train, X_test, y_train, y_test = train_test_split(X, y, random_state=42)"
   ]
  },
  {
   "cell_type": "markdown",
   "metadata": {
    "application/vnd.databricks.v1+cell": {
     "inputWidgets": {},
     "nuid": "ecab14d2-0e4d-4393-ba1b-5dc240a5d577",
     "showTitle": false,
     "title": ""
    }
   },
   "source": [
    "**Coursera Quiz:** How many rows are in the training and test sets?"
   ]
  },
  {
   "cell_type": "code",
   "execution_count": 0,
   "metadata": {
    "application/vnd.databricks.v1+cell": {
     "inputWidgets": {},
     "nuid": "7838365b-6f81-4d7a-bdec-b7a493fd9e0e",
     "showTitle": false,
     "title": ""
    }
   },
   "outputs": [
    {
     "data": {
      "text/html": [
       "<style scoped>\n",
       "  .ansiout {\n",
       "    display: block;\n",
       "    unicode-bidi: embed;\n",
       "    white-space: pre-wrap;\n",
       "    word-wrap: break-word;\n",
       "    word-break: break-all;\n",
       "    font-family: \"Source Code Pro\", \"Menlo\", monospace;;\n",
       "    font-size: 13px;\n",
       "    color: #555;\n",
       "    margin-left: 4px;\n",
       "    line-height: 19px;\n",
       "  }\n",
       "</style>\n",
       "<div class=\"ansiout\">Out[16]: ((2250, 5), (750, 5))</div>"
      ]
     },
     "metadata": {
      "application/vnd.databricks.v1+output": {
       "addedWidgets": {},
       "arguments": {},
       "data": "<div class=\"ansiout\">Out[16]: ((2250, 5), (750, 5))</div>",
       "datasetInfos": [],
       "removedWidgets": [],
       "type": "html"
      }
     },
     "output_type": "display_data"
    }
   ],
   "source": [
    "X_train.shape, X_test.shape"
   ]
  },
  {
   "cell_type": "markdown",
   "metadata": {
    "application/vnd.databricks.v1+cell": {
     "inputWidgets": {},
     "nuid": "9e24c10c-2c01-431f-a5da-9c0830c5725d",
     "showTitle": false,
     "title": ""
    }
   },
   "source": [
    "## Exercise 2 \n",
    "\n",
    "In this exercise, you will fit and train a base decision tree regression model.\n",
    "\n",
    "For this first model, use the default hyperparameters.\n",
    "\n",
    "Fill in the blanks of the below code block."
   ]
  },
  {
   "cell_type": "code",
   "execution_count": 0,
   "metadata": {
    "application/vnd.databricks.v1+cell": {
     "inputWidgets": {},
     "nuid": "00f80be7-22cb-43d0-b625-0892860e6099",
     "showTitle": false,
     "title": ""
    }
   },
   "outputs": [
    {
     "data": {
      "text/html": [
       "<style scoped>\n",
       "  .ansiout {\n",
       "    display: block;\n",
       "    unicode-bidi: embed;\n",
       "    white-space: pre-wrap;\n",
       "    word-wrap: break-word;\n",
       "    word-break: break-all;\n",
       "    font-family: \"Source Code Pro\", \"Menlo\", monospace;;\n",
       "    font-size: 13px;\n",
       "    color: #555;\n",
       "    margin-left: 4px;\n",
       "    line-height: 19px;\n",
       "  }\n",
       "</style>\n",
       "<div class=\"ansiout\">Out[17]: DecisionTreeRegressor(ccp_alpha=0.0, criterion=&#39;mse&#39;, max_depth=None,\n",
       "                      max_features=None, max_leaf_nodes=None,\n",
       "                      min_impurity_decrease=0.0, min_impurity_split=None,\n",
       "                      min_samples_leaf=1, min_samples_split=2,\n",
       "                      min_weight_fraction_leaf=0.0, presort=&#39;deprecated&#39;,\n",
       "                      random_state=42, splitter=&#39;best&#39;)</div>"
      ]
     },
     "metadata": {
      "application/vnd.databricks.v1+output": {
       "addedWidgets": {},
       "arguments": {},
       "data": "<div class=\"ansiout\">Out[17]: DecisionTreeRegressor(ccp_alpha=0.0, criterion=&#39;mse&#39;, max_depth=None,\n                      max_features=None, max_leaf_nodes=None,\n                      min_impurity_decrease=0.0, min_impurity_split=None,\n                      min_samples_leaf=1, min_samples_split=2,\n                      min_weight_fraction_leaf=0.0, presort=&#39;deprecated&#39;,\n                      random_state=42, splitter=&#39;best&#39;)</div>",
       "datasetInfos": [],
       "removedWidgets": [],
       "type": "html"
      }
     },
     "output_type": "display_data"
    }
   ],
   "source": [
    "# ANSWER\n",
    "from sklearn.tree import DecisionTreeRegressor\n",
    "\n",
    "dt = DecisionTreeRegressor(random_state=42)\n",
    "\n",
    "dt.fit(X_train, y_train)"
   ]
  },
  {
   "cell_type": "markdown",
   "metadata": {
    "application/vnd.databricks.v1+cell": {
     "inputWidgets": {},
     "nuid": "29d1ed62-129f-4091-ae6c-3243617dcfcb",
     "showTitle": false,
     "title": ""
    }
   },
   "source": [
    "**Coursera Quiz:** What is the R-squared on the training set and on the test set?"
   ]
  },
  {
   "cell_type": "code",
   "execution_count": 0,
   "metadata": {
    "application/vnd.databricks.v1+cell": {
     "inputWidgets": {},
     "nuid": "cf0e1cf5-81a9-4a04-bdfc-c56ed25e80c8",
     "showTitle": false,
     "title": ""
    }
   },
   "outputs": [
    {
     "data": {
      "text/html": [
       "<style scoped>\n",
       "  .ansiout {\n",
       "    display: block;\n",
       "    unicode-bidi: embed;\n",
       "    white-space: pre-wrap;\n",
       "    word-wrap: break-word;\n",
       "    word-break: break-all;\n",
       "    font-family: \"Source Code Pro\", \"Menlo\", monospace;;\n",
       "    font-size: 13px;\n",
       "    color: #555;\n",
       "    margin-left: 4px;\n",
       "    line-height: 19px;\n",
       "  }\n",
       "</style>\n",
       "<div class=\"ansiout\">R2 on training set:  1.0\n",
       "R2 on test set:  0.988\n",
       "</div>"
      ]
     },
     "metadata": {
      "application/vnd.databricks.v1+output": {
       "addedWidgets": {},
       "arguments": {},
       "data": "<div class=\"ansiout\">R2 on training set:  1.0\nR2 on test set:  0.988\n</div>",
       "datasetInfos": [],
       "removedWidgets": [],
       "type": "html"
      }
     },
     "output_type": "display_data"
    }
   ],
   "source": [
    "# ANSWER\n",
    "y_train_predicted = dt.predict(X_train)\n",
    "y_test_predicted = dt.predict(X_test)\n",
    "\n",
    "print(\"R2 on training set: \", round(dt.score(X_train, y_train),3))\n",
    "print(\"R2 on test set: \", round(dt.score(X_test, y_test), 3))"
   ]
  },
  {
   "cell_type": "markdown",
   "metadata": {
    "application/vnd.databricks.v1+cell": {
     "inputWidgets": {},
     "nuid": "d68ddf4a-bc09-4361-8d46-2367c79f48c5",
     "showTitle": false,
     "title": ""
    }
   },
   "source": [
    "Congratulations, you built a decision tree that does and excellent job predicting a user's average workout minutes, on both training and test sets! No overfitting or high variance here. There must be a particular feature or features that are highly correlated with the target.\n",
    "\n",
    "Now let's see how a decision tree regression model will perform with a new target: a user's average `vo2`."
   ]
  },
  {
   "cell_type": "code",
   "execution_count": 0,
   "metadata": {
    "application/vnd.databricks.v1+cell": {
     "inputWidgets": {},
     "nuid": "21f4dd7a-1c45-49be-a7b6-d2e0ce7bcdcb",
     "showTitle": false,
     "title": ""
    }
   },
   "outputs": [
    {
     "data": {
      "text/html": [
       "<style scoped>\n",
       "  .ansiout {\n",
       "    display: block;\n",
       "    unicode-bidi: embed;\n",
       "    white-space: pre-wrap;\n",
       "    word-wrap: break-word;\n",
       "    word-break: break-all;\n",
       "    font-family: \"Source Code Pro\", \"Menlo\", monospace;;\n",
       "    font-size: 13px;\n",
       "    color: #555;\n",
       "    margin-left: 4px;\n",
       "    line-height: 19px;\n",
       "  }\n",
       "</style>\n",
       "<div class=\"ansiout\">R2 on training set:  1.0\n",
       "R2 on test set:  0.893\n",
       "</div>"
      ]
     },
     "metadata": {
      "application/vnd.databricks.v1+output": {
       "addedWidgets": {},
       "arguments": {},
       "data": "<div class=\"ansiout\">R2 on training set:  1.0\nR2 on test set:  0.893\n</div>",
       "datasetInfos": [],
       "removedWidgets": [],
       "type": "html"
      }
     },
     "output_type": "display_data"
    }
   ],
   "source": [
    "# ANSWER\n",
    "X = ht_metrics_pd_df[['avg_resting_heartrate', 'avg_active_heartrate', 'bmi', 'steps', 'avg_workout_minutes']]\n",
    "y = ht_metrics_pd_df['avg_vo2']\n",
    "\n",
    "X_train, X_test, y_train, y_test = train_test_split(X, y, random_state=42)\n",
    "\n",
    "dt = DecisionTreeRegressor(random_state=42)\n",
    "\n",
    "dt.fit(X_train, y_train)\n",
    "\n",
    "y_train_predicted = dt.predict(X_train)\n",
    "y_test_predicted = dt.predict(X_test)\n",
    "\n",
    "print(\"R2 on training set: \", round(dt.score(X_train, y_train),3))\n",
    "print(\"R2 on test set: \", round(dt.score(X_test, y_test), 3))"
   ]
  },
  {
   "cell_type": "markdown",
   "metadata": {
    "application/vnd.databricks.v1+cell": {
     "inputWidgets": {},
     "nuid": "afc0bd04-a3c8-4833-89af-c96b03b33729",
     "showTitle": false,
     "title": ""
    }
   },
   "source": [
    "Looks like we now have a model that is overfitting to the training set, as the test set accuracy is much lower."
   ]
  },
  {
   "cell_type": "markdown",
   "metadata": {
    "application/vnd.databricks.v1+cell": {
     "inputWidgets": {},
     "nuid": "1b926bf7-e5a4-4035-8f5e-26776d9b9c14",
     "showTitle": false,
     "title": ""
    }
   },
   "source": [
    "## Exercise 3 \n",
    "\n",
    "In this exercise, you will try some hyperparameter tuning to prune the tree and prevent it from overfitting, thus decreasing the variance and improving performance on the test set.\n",
    "\n",
    "Build three decision tree models with three different `max_depth` options: 3, 5, and 9. Then compare which one performs the best. Remember to set the `random_state` to 42."
   ]
  },
  {
   "cell_type": "code",
   "execution_count": 0,
   "metadata": {
    "application/vnd.databricks.v1+cell": {
     "inputWidgets": {},
     "nuid": "773e6837-8d70-4c77-9b86-3aa35bbe60f5",
     "showTitle": false,
     "title": ""
    }
   },
   "outputs": [
    {
     "data": {
      "text/html": [
       "<style scoped>\n",
       "  .ansiout {\n",
       "    display: block;\n",
       "    unicode-bidi: embed;\n",
       "    white-space: pre-wrap;\n",
       "    word-wrap: break-word;\n",
       "    word-break: break-all;\n",
       "    font-family: \"Source Code Pro\", \"Menlo\", monospace;;\n",
       "    font-size: 13px;\n",
       "    color: #555;\n",
       "    margin-left: 4px;\n",
       "    line-height: 19px;\n",
       "  }\n",
       "</style>\n",
       "<div class=\"ansiout\">R2 on training set:  0.913\n",
       "R2 on test set:  0.909\n",
       "</div>"
      ]
     },
     "metadata": {
      "application/vnd.databricks.v1+output": {
       "addedWidgets": {},
       "arguments": {},
       "data": "<div class=\"ansiout\">R2 on training set:  0.913\nR2 on test set:  0.909\n</div>",
       "datasetInfos": [],
       "removedWidgets": [],
       "type": "html"
      }
     },
     "output_type": "display_data"
    }
   ],
   "source": [
    "# ANSWER\n",
    "dt_depth_3 = DecisionTreeRegressor(max_depth=3, random_state=42)\n",
    "dt_depth_3.fit(X_train, y_train)\n",
    "\n",
    "y_train_predicted = dt_depth_3.predict(X_train)\n",
    "y_test_predicted = dt_depth_3.predict(X_test)\n",
    "\n",
    "print(\"R2 on training set: \", round(dt_depth_3.score(X_train, y_train),3))\n",
    "print(\"R2 on test set: \", round(dt_depth_3.score(X_test, y_test), 3))"
   ]
  },
  {
   "cell_type": "code",
   "execution_count": 0,
   "metadata": {
    "application/vnd.databricks.v1+cell": {
     "inputWidgets": {},
     "nuid": "11c0da54-ebbe-49ec-8fd6-c092da1790e4",
     "showTitle": false,
     "title": ""
    }
   },
   "outputs": [
    {
     "data": {
      "text/html": [
       "<style scoped>\n",
       "  .ansiout {\n",
       "    display: block;\n",
       "    unicode-bidi: embed;\n",
       "    white-space: pre-wrap;\n",
       "    word-wrap: break-word;\n",
       "    word-break: break-all;\n",
       "    font-family: \"Source Code Pro\", \"Menlo\", monospace;;\n",
       "    font-size: 13px;\n",
       "    color: #555;\n",
       "    margin-left: 4px;\n",
       "    line-height: 19px;\n",
       "  }\n",
       "</style>\n",
       "<div class=\"ansiout\">R2 on training set:  0.947\n",
       "R2 on test set:  0.937\n",
       "</div>"
      ]
     },
     "metadata": {
      "application/vnd.databricks.v1+output": {
       "addedWidgets": {},
       "arguments": {},
       "data": "<div class=\"ansiout\">R2 on training set:  0.947\nR2 on test set:  0.937\n</div>",
       "datasetInfos": [],
       "removedWidgets": [],
       "type": "html"
      }
     },
     "output_type": "display_data"
    }
   ],
   "source": [
    "# ANSWER\n",
    "dt_depth_5 = DecisionTreeRegressor(max_depth=5, random_state=42)\n",
    "dt_depth_5.fit(X_train, y_train)\n",
    "\n",
    "y_train_predicted = dt_depth_5.predict(X_train)\n",
    "y_test_predicted = dt_depth_5.predict(X_test)\n",
    "\n",
    "print(\"R2 on training set: \", round(dt_depth_5.score(X_train, y_train),3))\n",
    "print(\"R2 on test set: \", round(dt_depth_5.score(X_test, y_test), 3))"
   ]
  },
  {
   "cell_type": "code",
   "execution_count": 0,
   "metadata": {
    "application/vnd.databricks.v1+cell": {
     "inputWidgets": {},
     "nuid": "7583b749-8246-48cc-903c-163fa7e26d78",
     "showTitle": false,
     "title": ""
    }
   },
   "outputs": [
    {
     "data": {
      "text/html": [
       "<style scoped>\n",
       "  .ansiout {\n",
       "    display: block;\n",
       "    unicode-bidi: embed;\n",
       "    white-space: pre-wrap;\n",
       "    word-wrap: break-word;\n",
       "    word-break: break-all;\n",
       "    font-family: \"Source Code Pro\", \"Menlo\", monospace;;\n",
       "    font-size: 13px;\n",
       "    color: #555;\n",
       "    margin-left: 4px;\n",
       "    line-height: 19px;\n",
       "  }\n",
       "</style>\n",
       "<div class=\"ansiout\">R2 on training set:  0.974\n",
       "R2 on test set:  0.926\n",
       "</div>"
      ]
     },
     "metadata": {
      "application/vnd.databricks.v1+output": {
       "addedWidgets": {},
       "arguments": {},
       "data": "<div class=\"ansiout\">R2 on training set:  0.974\nR2 on test set:  0.926\n</div>",
       "datasetInfos": [],
       "removedWidgets": [],
       "type": "html"
      }
     },
     "output_type": "display_data"
    }
   ],
   "source": [
    "# ANSWER\n",
    "dt_depth_9 = DecisionTreeRegressor(max_depth=9, random_state=42)\n",
    "dt_depth_9.fit(X_train, y_train)\n",
    "\n",
    "y_train_predicted = dt_depth_9.predict(X_train)\n",
    "y_test_predicted = dt_depth_9.predict(X_test)\n",
    "\n",
    "print(\"R2 on training set: \", round(dt_depth_9.score(X_train, y_train),3))\n",
    "print(\"R2 on test set: \", round(dt_depth_9.score(X_test, y_test), 3))"
   ]
  },
  {
   "cell_type": "markdown",
   "metadata": {
    "application/vnd.databricks.v1+cell": {
     "inputWidgets": {},
     "nuid": "ee27e84d-1e73-4eaf-96ab-4d0ac9635ae2",
     "showTitle": false,
     "title": ""
    }
   },
   "source": [
    "**Coursera Quiz:** Which value for `max_depth` gives the best R-squared score on the test set, and what is the score?"
   ]
  },
  {
   "cell_type": "markdown",
   "metadata": {
    "application/vnd.databricks.v1+cell": {
     "inputWidgets": {},
     "nuid": "b83a3013-7f56-4484-a796-6b04caeab1dc",
     "showTitle": false,
     "title": ""
    }
   },
   "source": [
    "## Exercise 4\n",
    "\n",
    "In this exercise, you will practice visualizing the decision tree.\n",
    "\n",
    "Since decision trees are a highly transparent model, we can actually visualize the decisions and splits it made at each step. \n",
    "\n",
    "Run the following cell to create a visualization of the decision tree with `max_depth` of 3."
   ]
  },
  {
   "cell_type": "code",
   "execution_count": 0,
   "metadata": {
    "application/vnd.databricks.v1+cell": {
     "inputWidgets": {},
     "nuid": "5d89f19b-c40a-4688-b460-3127a02be3bb",
     "showTitle": false,
     "title": ""
    }
   },
   "outputs": [
    {
     "data": {
      "text/html": [
       "<style scoped>\n",
       "  .ansiout {\n",
       "    display: block;\n",
       "    unicode-bidi: embed;\n",
       "    white-space: pre-wrap;\n",
       "    word-wrap: break-word;\n",
       "    word-break: break-all;\n",
       "    font-family: \"Source Code Pro\", \"Menlo\", monospace;;\n",
       "    font-size: 13px;\n",
       "    color: #555;\n",
       "    margin-left: 4px;\n",
       "    line-height: 19px;\n",
       "  }\n",
       "</style>\n",
       "<div class=\"ansiout\">Out[23]: </div>"
      ]
     },
     "metadata": {
      "application/vnd.databricks.v1+output": {
       "addedWidgets": {},
       "arguments": {},
       "data": "<div class=\"ansiout\">Out[23]: </div>",
       "datasetInfos": [],
       "removedWidgets": [],
       "type": "html"
      }
     },
     "output_type": "display_data"
    },
    {
     "data": {
      "image/png": "[encoded data removed]"
     },
     "metadata": {
      "application/vnd.databricks.v1+output": {
       "addedWidgets": {},
       "arguments": {},
       "data": "/plots/aebdc5b2-b928-4345-b6b8-b848bb98c0d6.png",
       "datasetInfos": [],
       "removedWidgets": [],
       "type": "image"
      }
     },
     "output_type": "display_data"
    },
    {
     "data": {
      "text/html": [
       "<style scoped>\n",
       "  .ansiout {\n",
       "    display: block;\n",
       "    unicode-bidi: embed;\n",
       "    white-space: pre-wrap;\n",
       "    word-wrap: break-word;\n",
       "    word-break: break-all;\n",
       "    font-family: \"Source Code Pro\", \"Menlo\", monospace;;\n",
       "    font-size: 13px;\n",
       "    color: #555;\n",
       "    margin-left: 4px;\n",
       "    line-height: 19px;\n",
       "  }\n",
       "</style>\n",
       "<div class=\"ansiout\">[Text(1240.0, 1057.0, &#39;avg_resting_heartrate &lt;= 63.596\\nmse = 49.633\\nsamples = 2250\\nvalue = 32.23&#39;),\n",
       " Text(620.0, 755.0, &#39;avg_resting_heartrate &lt;= 51.16\\nmse = 16.988\\nsamples = 1486\\nvalue = 36.336&#39;),\n",
       " Text(310.0, 453.0, &#39;avg_resting_heartrate &lt;= 49.522\\nmse = 8.11\\nsamples = 401\\nvalue = 41.323&#39;),\n",
       " Text(155.0, 151.0, &#39;mse = 6.228\\nsamples = 160\\nvalue = 43.665&#39;),\n",
       " Text(465.0, 151.0, &#39;mse = 3.299\\nsamples = 241\\nvalue = 39.768&#39;),\n",
       " Text(930.0, 453.0, &#39;bmi &lt;= 24.096\\nmse = 7.68\\nsamples = 1085\\nvalue = 34.492&#39;),\n",
       " Text(775.0, 151.0, &#39;mse = 6.111\\nsamples = 687\\nvalue = 35.769&#39;),\n",
       " Text(1085.0, 151.0, &#39;mse = 2.717\\nsamples = 398\\nvalue = 32.288&#39;),\n",
       " Text(1860.0, 755.0, &#39;avg_resting_heartrate &lt;= 78.308\\nmse = 16.577\\nsamples = 764\\nvalue = 24.245&#39;),\n",
       " Text(1550.0, 453.0, &#39;avg_resting_heartrate &lt;= 72.767\\nmse = 5.977\\nsamples = 408\\nvalue = 27.141&#39;),\n",
       " Text(1395.0, 151.0, &#39;mse = 3.597\\nsamples = 249\\nvalue = 28.458&#39;),\n",
       " Text(1705.0, 151.0, &#39;mse = 2.734\\nsamples = 159\\nvalue = 25.079&#39;),\n",
       " Text(2170.0, 453.0, &#39;avg_resting_heartrate &lt;= 88.241\\nmse = 8.089\\nsamples = 356\\nvalue = 20.925&#39;),\n",
       " Text(2015.0, 151.0, &#39;mse = 3.078\\nsamples = 261\\nvalue = 22.183&#39;),\n",
       " Text(2325.0, 151.0, &#39;mse = 5.563\\nsamples = 95\\nvalue = 17.469&#39;)]</div>"
      ]
     },
     "metadata": {
      "application/vnd.databricks.v1+output": {
       "addedWidgets": {},
       "arguments": {},
       "data": "<div class=\"ansiout\">[Text(1240.0, 1057.0, &#39;avg_resting_heartrate &lt;= 63.596\\nmse = 49.633\\nsamples = 2250\\nvalue = 32.23&#39;),\n Text(620.0, 755.0, &#39;avg_resting_heartrate &lt;= 51.16\\nmse = 16.988\\nsamples = 1486\\nvalue = 36.336&#39;),\n Text(310.0, 453.0, &#39;avg_resting_heartrate &lt;= 49.522\\nmse = 8.11\\nsamples = 401\\nvalue = 41.323&#39;),\n Text(155.0, 151.0, &#39;mse = 6.228\\nsamples = 160\\nvalue = 43.665&#39;),\n Text(465.0, 151.0, &#39;mse = 3.299\\nsamples = 241\\nvalue = 39.768&#39;),\n Text(930.0, 453.0, &#39;bmi &lt;= 24.096\\nmse = 7.68\\nsamples = 1085\\nvalue = 34.492&#39;),\n Text(775.0, 151.0, &#39;mse = 6.111\\nsamples = 687\\nvalue = 35.769&#39;),\n Text(1085.0, 151.0, &#39;mse = 2.717\\nsamples = 398\\nvalue = 32.288&#39;),\n Text(1860.0, 755.0, &#39;avg_resting_heartrate &lt;= 78.308\\nmse = 16.577\\nsamples = 764\\nvalue = 24.245&#39;),\n Text(1550.0, 453.0, &#39;avg_resting_heartrate &lt;= 72.767\\nmse = 5.977\\nsamples = 408\\nvalue = 27.141&#39;),\n Text(1395.0, 151.0, &#39;mse = 3.597\\nsamples = 249\\nvalue = 28.458&#39;),\n Text(1705.0, 151.0, &#39;mse = 2.734\\nsamples = 159\\nvalue = 25.079&#39;),\n Text(2170.0, 453.0, &#39;avg_resting_heartrate &lt;= 88.241\\nmse = 8.089\\nsamples = 356\\nvalue = 20.925&#39;),\n Text(2015.0, 151.0, &#39;mse = 3.078\\nsamples = 261\\nvalue = 22.183&#39;),\n Text(2325.0, 151.0, &#39;mse = 5.563\\nsamples = 95\\nvalue = 17.469&#39;)]</div>",
       "datasetInfos": [],
       "removedWidgets": [],
       "type": "html"
      }
     },
     "output_type": "display_data"
    }
   ],
   "source": [
    "from sklearn import tree\n",
    "import matplotlib.pyplot as plt\n",
    "\n",
    "fig, axes = plt.subplots(nrows = 1, ncols = 1,figsize = (8, 4), dpi=400)\n",
    "\n",
    "tree.plot_tree(\n",
    "  dt_depth_3,\n",
    "  feature_names = ['avg_resting_heartrate', 'avg_active_heartrate', 'bmi', 'steps', 'avg_workout_minutes'],\n",
    "  filled = True\n",
    ")"
   ]
  },
  {
   "cell_type": "markdown",
   "metadata": {
    "application/vnd.databricks.v1+cell": {
     "inputWidgets": {},
     "nuid": "3e47a323-dec1-4500-b8e1-0f5b80beca88",
     "showTitle": false,
     "title": ""
    }
   },
   "source": [
    "**Coursera Quiz:** Which feature did the decision tree choose for most of the splits?"
   ]
  },
  {
   "cell_type": "markdown",
   "metadata": {
    "application/vnd.databricks.v1+cell": {
     "inputWidgets": {},
     "nuid": "789da451-d0bc-49be-9b95-f21502a0a455",
     "showTitle": false,
     "title": ""
    }
   },
   "source": [
    "**Coursera Quiz:** How many samples are in the terminal node at the far left?"
   ]
  },
  {
   "cell_type": "markdown",
   "metadata": {
    "application/vnd.databricks.v1+cell": {
     "inputWidgets": {},
     "nuid": "792e540b-9845-4785-9096-0ea2639174c9",
     "showTitle": false,
     "title": ""
    }
   },
   "source": [
    "-sandbox\n",
    "**Coursera Quiz:** What value would the decision tree predict for `avg_vo2` if the `avg_resting_heartrate` is 60 and bmi is 22? \n",
    "\n",
    "<img alt=\"Hint\" title=\"Hint\" style=\"vertical-align: text-bottom; position: relative; height:1.75em; top:0.3em\" src=\"https://files.training.databricks.com/static/images/icon-light-bulb.svg\"/>&nbsp;**Hint:** If a data point meets the criteria in the top row of each node, i.e. a \"yes\", follow the tree down to the left; if not, follow the tree down to the right."
   ]
  },
  {
   "cell_type": "markdown",
   "metadata": {
    "application/vnd.databricks.v1+cell": {
     "inputWidgets": {},
     "nuid": "e123b136-2cc3-4993-b864-9489d01dcb16",
     "showTitle": false,
     "title": ""
    }
   },
   "source": [
    "-sandbox\n",
    "&copy; 2020 Databricks, Inc. All rights reserved.<br/>\n",
    "Apache, Apache Spark, Spark and the Spark logo are trademarks of the <a href=\"http://www.apache.org/\">Apache Software Foundation</a>.<br/>\n",
    "<br/>\n",
    "<a href=\"https://databricks.com/privacy-policy\">Privacy Policy</a> | <a href=\"https://databricks.com/terms-of-use\">Terms of Use</a> | <a href=\"http://help.databricks.com/\">Support</a>"
   ]
  }
 ],
 "metadata": {
  "application/vnd.databricks.v1+notebook": {
   "dashboards": [],
   "language": "python",
   "notebookName": "4.1.3 Lab - Applied Decision Trees",
   "notebookOrigID": 3313410096668718,
   "widgets": {}
  },
  "kernelspec": {
   "display_name": "Python 3",
   "language": "python",
   "name": "python3"
  },
  "language_info": {
   "codemirror_mode": {
    "name": "ipython",
    "version": 3
   },
   "file_extension": ".py",
   "mimetype": "text/x-python",
   "name": "python",
   "nbconvert_exporter": "python",
   "pygments_lexer": "ipython3",
   "version": "3.8.3"
  }
 },
 "nbformat": 4,
 "nbformat_minor": 1
}
