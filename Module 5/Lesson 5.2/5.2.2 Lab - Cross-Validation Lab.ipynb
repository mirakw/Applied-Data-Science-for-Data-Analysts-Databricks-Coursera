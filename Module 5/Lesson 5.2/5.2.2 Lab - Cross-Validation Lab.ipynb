{
 "cells": [
  {
   "cell_type": "markdown",
   "metadata": {
    "application/vnd.databricks.v1+cell": {
     "inputWidgets": {},
     "nuid": "14befc3c-cab3-4080-9862-616c3eef7881",
     "showTitle": false,
     "title": ""
    }
   },
   "source": [
    "d-sandbox\n",
    "\n",
    "<div style=\"text-align: center; line-height: 0; padding-top: 9px;\">\n",
    "  <img src=\"https://databricks.com/wp-content/uploads/2018/03/db-academy-rgb-1200px.png\" alt=\"Databricks Learning\" style=\"width: 600px\">\n",
    "</div>"
   ]
  },
  {
   "cell_type": "markdown",
   "metadata": {
    "application/vnd.databricks.v1+cell": {
     "inputWidgets": {},
     "nuid": "e4222679-84db-409e-b1b0-741e928b6174",
     "showTitle": false,
     "title": ""
    }
   },
   "source": [
    "# Cross-Validation Lab\n",
    "\n",
    "**Objective**: *Assess your ability to apply cross-validated hyperparameter tuning to a model.*\n",
    "\n",
    "In this lab, you will apply what you've learned in this lesson. When complete, please use the answers to the exercises to answer questions in the following quiz within Coursera."
   ]
  },
  {
   "cell_type": "code",
   "execution_count": 0,
   "metadata": {
    "application/vnd.databricks.v1+cell": {
     "inputWidgets": {},
     "nuid": "99ef0ee2-1442-4035-b4b3-d838c7acb655",
     "showTitle": false,
     "title": ""
    }
   },
   "outputs": [
    {
     "data": {
      "text/html": [
       "<style scoped>\n",
       "  .ansiout {\n",
       "    display: block;\n",
       "    unicode-bidi: embed;\n",
       "    white-space: pre-wrap;\n",
       "    word-wrap: break-word;\n",
       "    word-break: break-all;\n",
       "    font-family: \"Source Code Pro\", \"Menlo\", monospace;;\n",
       "    font-size: 13px;\n",
       "    color: #555;\n",
       "    margin-left: 4px;\n",
       "    line-height: 19px;\n",
       "  }\n",
       "</style>\n",
       "<div class=\"ansiout\"></div>"
      ]
     },
     "metadata": {
      "application/vnd.databricks.v1+output": {
       "addedWidgets": {},
       "arguments": {},
       "data": "<div class=\"ansiout\"></div>",
       "datasetInfos": [],
       "removedWidgets": [],
       "type": "html"
      }
     },
     "output_type": "display_data"
    },
    {
     "data": {
      "text/html": [
       "Mounting course-specific datasets to <b>/mnt/training</b>...</br>Datasets are already mounted to <b>/mnt/training</b> from <b>s3a://databricks-corp-training/common</b>"
      ]
     },
     "metadata": {
      "application/vnd.databricks.v1+output": {
       "addedWidgets": {},
       "arguments": {},
       "data": "Mounting course-specific datasets to <b>/mnt/training</b>...</br>Datasets are already mounted to <b>/mnt/training</b> from <b>s3a://databricks-corp-training/common</b>",
       "datasetInfos": [],
       "removedWidgets": [],
       "textData": null,
       "type": "htmlSandbox"
      }
     },
     "output_type": "display_data"
    },
    {
     "data": {
      "text/html": [
       "<style scoped>\n",
       "  .ansiout {\n",
       "    display: block;\n",
       "    unicode-bidi: embed;\n",
       "    white-space: pre-wrap;\n",
       "    word-wrap: break-word;\n",
       "    word-break: break-all;\n",
       "    font-family: \"Source Code Pro\", \"Menlo\", monospace;;\n",
       "    font-size: 13px;\n",
       "    color: #555;\n",
       "    margin-left: 4px;\n",
       "    line-height: 19px;\n",
       "  }\n",
       "</style>\n",
       "<div class=\"ansiout\">Out[6]: DataFrame[]</div>"
      ]
     },
     "metadata": {
      "application/vnd.databricks.v1+output": {
       "addedWidgets": {},
       "arguments": {},
       "data": "<div class=\"ansiout\">Out[6]: DataFrame[]</div>",
       "datasetInfos": [],
       "removedWidgets": [],
       "type": "html"
      }
     },
     "output_type": "display_data"
    },
    {
     "data": {
      "text/html": [
       "<style scoped>\n",
       "  .ansiout {\n",
       "    display: block;\n",
       "    unicode-bidi: embed;\n",
       "    white-space: pre-wrap;\n",
       "    word-wrap: break-word;\n",
       "    word-break: break-all;\n",
       "    font-family: \"Source Code Pro\", \"Menlo\", monospace;;\n",
       "    font-size: 13px;\n",
       "    color: #555;\n",
       "    margin-left: 4px;\n",
       "    line-height: 19px;\n",
       "  }\n",
       "</style>\n",
       "<div class=\"ansiout\"></div>"
      ]
     },
     "metadata": {
      "application/vnd.databricks.v1+output": {
       "addedWidgets": {},
       "arguments": {},
       "data": "<div class=\"ansiout\"></div>",
       "datasetInfos": [],
       "removedWidgets": [],
       "type": "html"
      }
     },
     "output_type": "display_data"
    },
    {
     "data": {
      "text/html": [
       "<style scoped>\n",
       "  .ansiout {\n",
       "    display: block;\n",
       "    unicode-bidi: embed;\n",
       "    white-space: pre-wrap;\n",
       "    word-wrap: break-word;\n",
       "    word-break: break-all;\n",
       "    font-family: \"Source Code Pro\", \"Menlo\", monospace;;\n",
       "    font-size: 13px;\n",
       "    color: #555;\n",
       "    margin-left: 4px;\n",
       "    line-height: 19px;\n",
       "  }\n",
       "</style>\n",
       "<div class=\"ansiout\"></div>"
      ]
     },
     "metadata": {
      "application/vnd.databricks.v1+output": {
       "addedWidgets": {},
       "arguments": {},
       "data": "<div class=\"ansiout\"></div>",
       "datasetInfos": [],
       "removedWidgets": [],
       "type": "html"
      }
     },
     "output_type": "display_data"
    },
    {
     "data": {
      "text/html": [
       "<style scoped>\n",
       "  .ansiout {\n",
       "    display: block;\n",
       "    unicode-bidi: embed;\n",
       "    white-space: pre-wrap;\n",
       "    word-wrap: break-word;\n",
       "    word-break: break-all;\n",
       "    font-family: \"Source Code Pro\", \"Menlo\", monospace;;\n",
       "    font-size: 13px;\n",
       "    color: #555;\n",
       "    margin-left: 4px;\n",
       "    line-height: 19px;\n",
       "  }\n",
       "</style>\n",
       "<div class=\"ansiout\">res5: Boolean = false\n",
       "</div>"
      ]
     },
     "metadata": {
      "application/vnd.databricks.v1+output": {
       "addedWidgets": {},
       "arguments": {},
       "data": "<div class=\"ansiout\">res5: Boolean = false\n</div>",
       "datasetInfos": [],
       "removedWidgets": [],
       "type": "html"
      }
     },
     "output_type": "display_data"
    },
    {
     "data": {
      "text/html": [
       "<style scoped>\n",
       "  .ansiout {\n",
       "    display: block;\n",
       "    unicode-bidi: embed;\n",
       "    white-space: pre-wrap;\n",
       "    word-wrap: break-word;\n",
       "    word-break: break-all;\n",
       "    font-family: \"Source Code Pro\", \"Menlo\", monospace;;\n",
       "    font-size: 13px;\n",
       "    color: #555;\n",
       "    margin-left: 4px;\n",
       "    line-height: 19px;\n",
       "  }\n",
       "</style>\n",
       "<div class=\"ansiout\">res6: Boolean = false\n",
       "</div>"
      ]
     },
     "metadata": {
      "application/vnd.databricks.v1+output": {
       "addedWidgets": {},
       "arguments": {},
       "data": "<div class=\"ansiout\">res6: Boolean = false\n</div>",
       "datasetInfos": [],
       "removedWidgets": [],
       "type": "html"
      }
     },
     "output_type": "display_data"
    },
    {
     "data": {
      "text/html": [
       "<style scoped>\n",
       "  .ansiout {\n",
       "    display: block;\n",
       "    unicode-bidi: embed;\n",
       "    white-space: pre-wrap;\n",
       "    word-wrap: break-word;\n",
       "    word-break: break-all;\n",
       "    font-family: \"Source Code Pro\", \"Menlo\", monospace;;\n",
       "    font-size: 13px;\n",
       "    color: #555;\n",
       "    margin-left: 4px;\n",
       "    line-height: 19px;\n",
       "  }\n",
       "</style>\n",
       "<div class=\"ansiout\">res7: Boolean = false\n",
       "</div>"
      ]
     },
     "metadata": {
      "application/vnd.databricks.v1+output": {
       "addedWidgets": {},
       "arguments": {},
       "data": "<div class=\"ansiout\">res7: Boolean = false\n</div>",
       "datasetInfos": [],
       "removedWidgets": [],
       "type": "html"
      }
     },
     "output_type": "display_data"
    },
    {
     "data": {
      "text/html": [
       "<style scoped>\n",
       "  .table-result-container {\n",
       "    max-height: 300px;\n",
       "    overflow: auto;\n",
       "  }\n",
       "  table, th, td {\n",
       "    border: 1px solid black;\n",
       "    border-collapse: collapse;\n",
       "  }\n",
       "  th, td {\n",
       "    padding: 5px;\n",
       "  }\n",
       "  th {\n",
       "    text-align: left;\n",
       "  }\n",
       "</style><div class='table-result-container'><table class='table-result'><thead style='background-color: white'><tr></tr></thead><tbody></tbody></table></div>"
      ]
     },
     "metadata": {
      "application/vnd.databricks.v1+output": {
       "addedWidgets": {},
       "aggData": [],
       "aggError": "",
       "aggOverflow": false,
       "aggSchema": [],
       "aggSeriesLimitReached": false,
       "aggType": "",
       "arguments": {},
       "columnCustomDisplayInfos": {},
       "data": [],
       "datasetInfos": [],
       "dbfsResultPath": null,
       "isJsonSchema": true,
       "overflow": false,
       "plotOptions": {
        "customPlotOptions": {},
        "displayType": "table",
        "pivotAggregation": null,
        "pivotColumns": null,
        "xColumns": null,
        "yColumns": null
       },
       "removedWidgets": [],
       "schema": [],
       "type": "table"
      }
     },
     "output_type": "display_data"
    }
   ],
   "source": [
    "%run \"../../Includes/Classroom-Setup\""
   ]
  },
  {
   "cell_type": "markdown",
   "metadata": {
    "application/vnd.databricks.v1+cell": {
     "inputWidgets": {},
     "nuid": "29280fea-7ea4-4366-8dae-3c182aa280bc",
     "showTitle": false,
     "title": ""
    }
   },
   "source": [
    "-sandbox\n",
    "\n",
    "## Exercise 1\n",
    "\n",
    "In this exercise, you will create an enhanced user-level table to try to better predict whether or not each user takes at least *8,000* steps in a day. For this exercise, assume we only have access to heart rate information.\n",
    "\n",
    "Fill in the blanks in the below cell to create the `adsda.ht_user_metrics_cv_lab` table.\n",
    "\n",
    "<img alt=\"Side Note\" title=\"Side Note\" style=\"vertical-align: text-bottom; position: relative; height:1.75em; top:0.05em; transform:rotate(15deg)\" src=\"https://files.training.databricks.com/static/images/icon-note.webp\"/> Note that this lab is focused on predicting whether users take 8,000 steps per day rather than 10,000 steps per day."
   ]
  },
  {
   "cell_type": "code",
   "execution_count": 0,
   "metadata": {
    "application/vnd.databricks.v1+cell": {
     "inputWidgets": {},
     "nuid": "278a671d-4196-4bf4-ab5d-e0602ec8ae29",
     "showTitle": false,
     "title": ""
    }
   },
   "outputs": [
    {
     "data": {
      "text/html": [
       "<style scoped>\n",
       "  .table-result-container {\n",
       "    max-height: 300px;\n",
       "    overflow: auto;\n",
       "  }\n",
       "  table, th, td {\n",
       "    border: 1px solid black;\n",
       "    border-collapse: collapse;\n",
       "  }\n",
       "  th, td {\n",
       "    padding: 5px;\n",
       "  }\n",
       "  th {\n",
       "    text-align: left;\n",
       "  }\n",
       "</style><div class='table-result-container'><table class='table-result'><thead style='background-color: white'><tr></tr></thead><tbody></tbody></table></div>"
      ]
     },
     "metadata": {
      "application/vnd.databricks.v1+output": {
       "addedWidgets": {},
       "aggData": [],
       "aggError": "",
       "aggOverflow": false,
       "aggSchema": [],
       "aggSeriesLimitReached": false,
       "aggType": "",
       "arguments": {},
       "columnCustomDisplayInfos": {},
       "data": [],
       "datasetInfos": [],
       "dbfsResultPath": null,
       "isJsonSchema": true,
       "overflow": false,
       "plotOptions": {
        "customPlotOptions": {},
        "displayType": "table",
        "pivotAggregation": null,
        "pivotColumns": null,
        "xColumns": null,
        "yColumns": null
       },
       "removedWidgets": [],
       "schema": [],
       "type": "table"
      }
     },
     "output_type": "display_data"
    }
   ],
   "source": [
    "%sql\n",
    "-- ANSWER\n",
    "CREATE OR REPLACE TABLE adsda.ht_user_metrics_cv_lab\n",
    "USING DELTA LOCATION \"/adsda/ht-user-metrics-cv-lab\" AS (\n",
    "  SELECT min(resting_heartrate) AS min_resting_heartrate,\n",
    "         avg(resting_heartrate) AS avg_resting_heartrate,\n",
    "         max(resting_heartrate) AS max_resting_heartrate,\n",
    "         max(resting_heartrate) - min(resting_heartrate) AS resting_heartrate_change,\n",
    "         min(active_heartrate) AS min_active_heartrate,\n",
    "         avg(active_heartrate) AS avg_active_heartrate,\n",
    "         max(active_heartrate) AS max_active_heartrate,\n",
    "         max(active_heartrate) - min(active_heartrate) AS active_heartrate_change,\n",
    "         CASE WHEN avg(steps) > 8000 THEN 1 ELSE 0 END AS steps_8000\n",
    "  FROM adsda.ht_daily_metrics\n",
    "  GROUP BY device_id\n",
    ")"
   ]
  },
  {
   "cell_type": "code",
   "execution_count": 0,
   "metadata": {
    "application/vnd.databricks.v1+cell": {
     "inputWidgets": {},
     "nuid": "a8c35570-b05e-4d6f-8666-2132afaea346",
     "showTitle": false,
     "title": ""
    }
   },
   "outputs": [
    {
     "data": {
      "text/html": [
       "<style scoped>\n",
       "  .table-result-container {\n",
       "    max-height: 300px;\n",
       "    overflow: auto;\n",
       "  }\n",
       "  table, th, td {\n",
       "    border: 1px solid black;\n",
       "    border-collapse: collapse;\n",
       "  }\n",
       "  th, td {\n",
       "    padding: 5px;\n",
       "  }\n",
       "  th {\n",
       "    text-align: left;\n",
       "  }\n",
       "</style><div class='table-result-container'><table class='table-result'><thead style='background-color: white'><tr><th>min_resting_heartrate</th><th>avg_resting_heartrate</th><th>max_resting_heartrate</th><th>resting_heartrate_change</th><th>min_active_heartrate</th><th>avg_active_heartrate</th><th>max_active_heartrate</th><th>active_heartrate_change</th><th>steps_8000</th></tr></thead><tbody><tr><td>100.12190323385116</td><td>82.68379727873081</td><td>99.13828099149359</td><td>-0.9836222423575691</td><td>120.30779135992243</td><td>139.43487473206162</td><td>162.34782728523246</td><td>42.04003592531002</td><td>0</td></tr><tr><td>52.71287564903336</td><td>77.73294228506452</td><td>97.93773119202254</td><td>45.22485554298918</td><td>109.04938651327842</td><td>127.05715346661702</td><td>146.86986814834722</td><td>37.8204816350688</td><td>0</td></tr><tr><td>100.37366097806768</td><td>86.51162895591307</td><td>99.78933645583436</td><td>-0.5843245222333167</td><td>129.5517281106538</td><td>147.31573126952208</td><td>177.78314996951866</td><td>48.23142185886485</td><td>0</td></tr><tr><td>58.41880559722201</td><td>77.55054135762612</td><td>98.87532936858241</td><td>40.4565237713604</td><td>110.84551702943472</td><td>129.5770039396946</td><td>146.7386499653505</td><td>35.89313293591579</td><td>0</td></tr><tr><td>49.81689070901131</td><td>68.93310580458204</td><td>92.68678860925904</td><td>42.86989790024773</td><td>116.68894230853843</td><td>136.50268661405897</td><td>162.3638297702582</td><td>45.67488746171978</td><td>0</td></tr><tr><td>47.35569868189229</td><td>69.31244794850774</td><td>92.76249605385787</td><td>45.40679737196558</td><td>147.8761660158842</td><td>167.18585016710105</td><td>186.28361490243202</td><td>38.407448886547826</td><td>0</td></tr><tr><td>43.51461112051503</td><td>64.64397544858174</td><td>82.07381856112256</td><td>38.55920744060754</td><td>126.14263661366581</td><td>152.9654977304546</td><td>173.98748183735378</td><td>47.84484522368797</td><td>0</td></tr><tr><td>100.00309226714643</td><td>81.33282756113321</td><td>99.23741546147319</td><td>-0.7656768056732375</td><td>119.40382197892441</td><td>137.57131998347788</td><td>156.9670310686102</td><td>37.563209089685785</td><td>0</td></tr><tr><td>40.714172943212596</td><td>64.79507042723496</td><td>82.96829328067244</td><td>42.254120337459845</td><td>116.41765662495979</td><td>139.39836367080545</td><td>157.39528580691194</td><td>40.97762918195215</td><td>0</td></tr><tr><td>100.00362526100596</td><td>89.51117796589962</td><td>99.91629552898303</td><td>-0.08732973202293692</td><td>106.10261352131862</td><td>126.57048164605168</td><td>148.28320037619991</td><td>42.1805868548813</td><td>0</td></tr><tr><td>100.09977220335628</td><td>86.21818958751346</td><td>98.98948931572193</td><td>-1.1102828876343551</td><td>124.6863540616992</td><td>144.21087862838124</td><td>166.1429728819897</td><td>41.45661882029049</td><td>0</td></tr><tr><td>100.37023423129305</td><td>87.30070759200832</td><td>99.84497517146329</td><td>-0.5252590598297644</td><td>121.10821029149942</td><td>139.97122582181592</td><td>157.72950643719122</td><td>36.6212961456918</td><td>0</td></tr><tr><td>100.17682849120425</td><td>89.79743806208528</td><td>99.76985890634596</td><td>-0.40696958485828816</td><td>132.48104553959288</td><td>152.631637108012</td><td>178.30064489891916</td><td>45.819599359326276</td><td>0</td></tr><tr><td>100.12409524742978</td><td>84.03137470273838</td><td>99.71350686515446</td><td>-0.41058838227532135</td><td>133.0269343956513</td><td>150.56703733080104</td><td>168.93259914721637</td><td>35.90566475156507</td><td>0</td></tr><tr><td>102.23915790822053</td><td>80.1338443085794</td><td>97.85976072574366</td><td>-4.379397182476879</td><td>120.54801974348959</td><td>139.1112118995804</td><td>160.68584595227696</td><td>40.137826208787374</td><td>0</td></tr><tr><td>45.073870610996735</td><td>63.81019197505969</td><td>85.58895986492655</td><td>40.515089253929816</td><td>108.84906790820897</td><td>127.98945894646793</td><td>149.1653291086743</td><td>40.31626120046535</td><td>0</td></tr><tr><td>100.72739674123571</td><td>80.8985477248526</td><td>98.23251674511442</td><td>-2.494879996121284</td><td>114.74439736892054</td><td>133.876183209391</td><td>155.97112641868222</td><td>41.22672904976167</td><td>0</td></tr><tr><td>101.53796777052537</td><td>75.74981399738974</td><td>99.06004607386267</td><td>-2.4779216966627047</td><td>106.04130560240088</td><td>130.93270399176032</td><td>150.64418851883968</td><td>44.6028829164388</td><td>1</td></tr><tr><td>57.265880912537874</td><td>74.80771257625209</td><td>92.80076116334737</td><td>35.5348802508095</td><td>127.52062343722739</td><td>147.73504483488392</td><td>165.54217552709446</td><td>38.02155208986707</td><td>0</td></tr><tr><td>41.132383445370124</td><td>60.12813834027657</td><td>85.46479020932821</td><td>44.33240676395809</td><td>101.03804626654917</td><td>119.2243293003114</td><td>97.53020601746209</td><td>-3.5078402490870815</td><td>1</td></tr><tr><td>51.35915229378244</td><td>70.0112751088516</td><td>91.17777793973075</td><td>39.81862564594831</td><td>118.19727970591728</td><td>139.1288157090193</td><td>159.120122527444</td><td>40.92284282152673</td><td>0</td></tr><tr><td>100.0343518188607</td><td>88.23880457769332</td><td>99.63884228046132</td><td>-0.39550953839938074</td><td>126.17418397345081</td><td>150.01584026269904</td><td>169.3115210789682</td><td>43.1373371055174</td><td>0</td></tr><tr><td>100.77477376906393</td><td>82.02245243435067</td><td>99.85102043998442</td><td>-0.9237533290795028</td><td>125.78877932473299</td><td>143.72592567021516</td><td>164.80421048687074</td><td>39.01543116213776</td><td>0</td></tr><tr><td>52.1721101904964</td><td>75.32980422409445</td><td>94.76160712323956</td><td>42.58949693274316</td><td>107.99617529356007</td><td>131.27781213261363</td><td>155.97168223081815</td><td>47.975506937258075</td><td>0</td></tr><tr><td>55.172968233551266</td><td>79.07966466710211</td><td>96.5846431011176</td><td>41.41167486756634</td><td>125.29309722189646</td><td>146.31114516507122</td><td>166.57874479587582</td><td>41.28564757397936</td><td>0</td></tr><tr><td>100.51562253180968</td><td>85.39254588635652</td><td>99.69793222129356</td><td>-0.8176903105161273</td><td>118.07236469788819</td><td>137.26660215248359</td><td>158.0222769085385</td><td>39.9499122106503</td><td>0</td></tr><tr><td>100.05369822017947</td><td>91.75935861929266</td><td>99.90326895601238</td><td>-0.15042926416708724</td><td>117.15194093542787</td><td>137.60189558340846</td><td>157.11982075116416</td><td>39.96787981573628</td><td>0</td></tr><tr><td>101.76611768048025</td><td>82.47189663319496</td><td>97.41687876053113</td><td>-4.349238919949116</td><td>100.02134870399757</td><td>105.81296980596466</td><td>99.87166462832933</td><td>-0.14968407566824737</td><td>0</td></tr><tr><td>51.90328499865765</td><td>73.03301519285105</td><td>90.41588700905844</td><td>38.51260201040079</td><td>100.29810971562218</td><td>118.50464865660379</td><td>99.98339486768663</td><td>-0.31471484793554794</td><td>1</td></tr><tr><td>62.85927798956088</td><td>80.84581582831568</td><td>99.49974810702821</td><td>36.64047011746733</td><td>138.12378532607113</td><td>158.31010519024213</td><td>182.82590397529606</td><td>44.70211864922493</td><td>0</td></tr><tr><td>59.10086477663545</td><td>79.53887594717567</td><td>97.77284594847148</td><td>38.67198117183604</td><td>129.82750712710467</td><td>149.37867198043944</td><td>169.0771823666545</td><td>39.249675239549845</td><td>0</td></tr><tr><td>100.15192699541772</td><td>96.59424538906785</td><td>99.99750735905104</td><td>-0.15441963636668277</td><td>106.59117182774568</td><td>127.22416938150873</td><td>146.15979100873233</td><td>39.568619180986644</td><td>0</td></tr><tr><td>100.61142863935883</td><td>81.76113649954415</td><td>99.02650608496269</td><td>-1.5849225543961438</td><td>133.56831511708498</td><td>156.23502999900032</td><td>176.28393240705134</td><td>42.71561728996636</td><td>0</td></tr><tr><td>60.677518528020975</td><td>79.70953288334813</td><td>98.68055071665187</td><td>38.00303218863089</td><td>118.72354751216028</td><td>136.3160602044928</td><td>160.0281727216799</td><td>41.30462520951963</td><td>0</td></tr><tr><td>56.644997575877795</td><td>76.1759103001824</td><td>99.06807918138666</td><td>42.42308160550887</td><td>125.05053881286672</td><td>142.83238674539368</td><td>162.0348373178748</td><td>36.984298505008084</td><td>0</td></tr><tr><td>100.00039204173717</td><td>86.29797311739541</td><td>99.96302646417453</td><td>-0.03736557756263892</td><td>106.6586968604667</td><td>128.10447052170923</td><td>147.29004212696213</td><td>40.63134526649543</td><td>0</td></tr><tr><td>100.00925531528956</td><td>85.55874850075973</td><td>99.97097988033855</td><td>-0.03827543495101793</td><td>138.1381286752834</td><td>154.71508240752146</td><td>176.7826353759268</td><td>38.644506700643376</td><td>0</td></tr><tr><td>100.08187740913334</td><td>90.86679398042912</td><td>99.88906858625796</td><td>-0.19280882287537793</td><td>111.31567578330285</td><td>127.6482052188282</td><td>144.65948141302673</td><td>33.343805629723875</td><td>0</td></tr><tr><td>41.47509020423088</td><td>58.283450201240946</td><td>78.6216706081196</td><td>37.14658040388872</td><td>102.15511707087619</td><td>120.07779187134611</td><td>140.81609909295452</td><td>38.66098202207833</td><td>0</td></tr><tr><td>100.13405579577942</td><td>76.33341892264967</td><td>94.32373807309772</td><td>-5.810317722681702</td><td>120.25775056763668</td><td>138.7795476586327</td><td>159.19050787509434</td><td>38.93275730745766</td><td>0</td></tr><tr><td>100.39697334215725</td><td>84.97913919043351</td><td>99.81098852639474</td><td>-0.5859848157625152</td><td>125.38360039101518</td><td>144.7021608154585</td><td>162.33800011659912</td><td>36.95439972558394</td><td>0</td></tr><tr><td>56.730602863464206</td><td>77.80871909524456</td><td>95.2271219246107</td><td>38.49651906114649</td><td>109.91516258133318</td><td>129.10762087334388</td><td>149.48147429169939</td><td>39.56631171036621</td><td>0</td></tr><tr><td>58.87614897714715</td><td>78.31990185660892</td><td>98.60804459924393</td><td>39.73189562209677</td><td>121.20004838185055</td><td>142.2464663389185</td><td>164.27621108414502</td><td>43.07616270229447</td><td>0</td></tr><tr><td>59.8648590999634</td><td>79.36298551754204</td><td>97.75947128426657</td><td>37.89461218430317</td><td>130.2219821097677</td><td>148.230268844504</td><td>169.27789300917146</td><td>39.055910899403756</td><td>0</td></tr><tr><td>100.04442454828008</td><td>91.78362304967129</td><td>99.57915429319921</td><td>-0.46527025508086695</td><td>110.71265163113358</td><td>129.78489715444067</td><td>149.1185788044226</td><td>38.40592717328903</td><td>0</td></tr><tr><td>51.857449505772834</td><td>75.2625914539711</td><td>96.12151055520435</td><td>44.26406104943152</td><td>140.8241847518637</td><td>158.52396442488805</td><td>178.47375090232157</td><td>37.64956615045787</td><td>0</td></tr><tr><td>48.862645142384906</td><td>66.55094487461385</td><td>84.28986661173887</td><td>35.42722146935397</td><td>128.57437667161636</td><td>148.56226294063006</td><td>167.56641924629838</td><td>38.99204257468202</td><td>0</td></tr><tr><td>42.32127158970859</td><td>63.024702740672396</td><td>88.85545188909413</td><td>46.53418029938554</td><td>122.19021915732799</td><td>144.5213042769217</td><td>163.65397563355552</td><td>41.46375647622753</td><td>0</td></tr><tr><td>60.51976558875029</td><td>80.73781202552018</td><td>99.92486033310371</td><td>39.40509474435342</td><td>101.17918386271643</td><td>124.84102512739325</td><td>143.3688060454923</td><td>42.18962218277588</td><td>0</td></tr><tr><td>47.436174750019106</td><td>74.68715833116123</td><td>93.38920436934674</td><td>45.95302961932764</td><td>124.70435293297768</td><td>143.0190158600752</td><td>160.2241458346329</td><td>35.51979290165522</td><td>0</td></tr><tr><td>55.61415565576392</td><td>71.87877201400556</td><td>90.95295103110047</td><td>35.338795375336545</td><td>119.15516616481567</td><td>141.25830265927655</td><td>160.60878321080608</td><td>41.45361704599041</td><td>0</td></tr><tr><td>44.7549428357911</td><td>66.9018691618088</td><td>88.5794083148816</td><td>43.824465479090506</td><td>108.11610209928057</td><td>130.8018283213408</td><td>155.46938937628727</td><td>47.3532872770067</td><td>1</td></tr><tr><td>101.0159142832813</td><td>82.26251589363093</td><td>99.51152655926829</td><td>-1.5043877240130143</td><td>130.9376489040225</td><td>150.93057490483585</td><td>168.09500379321656</td><td>37.15735488919407</td><td>0</td></tr><tr><td>55.37858568557478</td><td>78.38571152064517</td><td>95.42464425475112</td><td>40.04605856917634</td><td>118.60265380623001</td><td>135.00887073933623</td><td>156.1081406780234</td><td>37.505486871793394</td><td>0</td></tr><tr><td>37.630832998295226</td><td>57.94548196762418</td><td>80.72480753592875</td><td>43.09397453763352</td><td>117.55743548998781</td><td>136.19133883336912</td><td>155.14687937099828</td><td>37.58944388101047</td><td>0</td></tr><tr><td>46.22849655654342</td><td>67.90443674612256</td><td>88.20168122637745</td><td>41.973184669834026</td><td>144.26447543647876</td><td>166.5766258715207</td><td>193.74232895614432</td><td>49.47785351966556</td><td>0</td></tr><tr><td>55.14345163626818</td><td>72.88616293583084</td><td>92.67245302362923</td><td>37.52900138736105</td><td>113.88620783775951</td><td>137.9294373961837</td><td>159.8147864085337</td><td>45.92857857077419</td><td>0</td></tr><tr><td>39.2537149882173</td><td>60.171445119139456</td><td>82.28925713582369</td><td>43.03554214760639</td><td>124.17302787980843</td><td>140.61199806987605</td><td>158.449515722443</td><td>34.27648784263458</td><td>0</td></tr><tr><td>55.441406508653884</td><td>74.6509661738901</td><td>97.87928879418185</td><td>42.43788228552796</td><td>116.12947830966434</td><td>138.33686603930732</td><td>156.14555786124458</td><td>40.01607955158025</td><td>0</td></tr><tr><td>25.906853798847894</td><td>49.62570291257958</td><td>67.35891966179842</td><td>41.45206586295053</td><td>110.96778741938124</td><td>132.03025386483975</td><td>148.1158330567546</td><td>37.14804563737337</td><td>0</td></tr><tr><td>53.57946950419877</td><td>74.53118274987001</td><td>95.171325288402</td><td>41.59185578420323</td><td>113.46867013044746</td><td>134.61643475231443</td><td>156.6251392003851</td><td>43.15646906993763</td><td>0</td></tr><tr><td>58.41210006454247</td><td>77.39961551014737</td><td>95.48162492092085</td><td>37.06952485637838</td><td>115.1325597499308</td><td>140.7798370656412</td><td>156.4213841616066</td><td>41.28882441167579</td><td>0</td></tr><tr><td>48.736822133052286</td><td>68.79908019300508</td><td>84.16900396686654</td><td>35.432181833814255</td><td>100.05727462460159</td><td>111.57732425719618</td><td>99.96393163565989</td><td>-0.0933429889416999</td><td>1</td></tr><tr><td>100.54943665948171</td><td>80.64818513746137</td><td>98.87253010119873</td><td>-1.6769065582829796</td><td>125.98389950840797</td><td>146.63741790802501</td><td>167.99815702571456</td><td>42.01425751730659</td><td>0</td></tr><tr><td>102.60014853209336</td><td>77.16953216156257</td><td>97.43081245477694</td><td>-5.169336077316416</td><td>135.65945959309624</td><td>152.14216014835466</td><td>170.95413736308726</td><td>35.29467776999101</td><td>0</td></tr><tr><td>100.00972476169679</td><td>94.37891237773836</td><td>99.9737650685333</td><td>-0.035959693163491124</td><td>116.62653118337279</td><td>138.93152723780642</td><td>162.31440304315922</td><td>45.687871859786426</td><td>0</td></tr><tr><td>45.21843043211545</td><td>65.03398840492504</td><td>83.96493528307434</td><td>38.74650485095889</td><td>107.46056046044711</td><td>131.05205977194015</td><td>153.88591938855023</td><td>46.42535892810312</td><td>1</td></tr><tr><td>61.05559924051184</td><td>78.65877986732369</td><td>99.74358770141811</td><td>38.68798846090627</td><td>116.87936326942598</td><td>135.37777913018073</td><td>155.47919777796346</td><td>38.599834508537484</td><td>0</td></tr><tr><td>52.585547227070464</td><td>74.92992734038577</td><td>90.59202814434425</td><td>38.00648091727379</td><td>122.23816036254092</td><td>146.09048372303903</td><td>166.77834692361876</td><td>44.54018656107783</td><td>0</td></tr><tr><td>102.04117673180241</td><td>84.03445391589842</td><td>99.97483238878988</td><td>-2.0663443430125312</td><td>100.13446938187553</td><td>112.70046078016543</td><td>99.88737246374144</td><td>-0.24709691813409052</td><td>1</td></tr><tr><td>54.9539310408747</td><td>75.42280476038069</td><td>99.22785578635009</td><td>44.27392474547539</td><td>139.72388395717988</td><td>158.84278062934237</td><td>182.16918933442653</td><td>42.445305377246655</td><td>0</td></tr><tr><td>106.84205161543939</td><td>80.37069396366697</td><td>99.29241030447389</td><td>-7.549641310965498</td><td>132.37635756428617</td><td>152.53383095485142</td><td>175.53128410181822</td><td>43.15492653753205</td><td>0</td></tr><tr><td>58.57315325259116</td><td>79.91435587530242</td><td>99.76206188860094</td><td>41.18890863600978</td><td>130.3966305931341</td><td>148.69642968723986</td><td>167.37062504790288</td><td>36.973994454768786</td><td>0</td></tr><tr><td>54.965557501171396</td><td>78.95000946605</td><td>97.71414762247646</td><td>42.748590121305064</td><td>126.0885579507362</td><td>145.6542752685093</td><td>165.90965466595088</td><td>39.82109671521468</td><td>0</td></tr><tr><td>57.14093983569253</td><td>73.15790751770896</td><td>90.14763518002098</td><td>33.006695344328456</td><td>125.24506538390804</td><td>146.98453832103462</td><td>165.43929030510333</td><td>40.194224921195286</td><td>0</td></tr><tr><td>59.8467387410295</td><td>78.23927852511324</td><td>96.78718936391188</td><td>36.94045062288238</td><td>114.38153355748597</td><td>132.94451888980393</td><td>155.0370238937561</td><td>40.655490336270134</td><td>0</td></tr><tr><td>55.05636623483991</td><td>75.00885662609355</td><td>95.88305465778429</td><td>40.82668842294437</td><td>110.95125719062766</td><td>136.56308648262774</td><td>157.17266948090187</td><td>46.221412290274216</td><td>0</td></tr><tr><td>100.01586313588675</td><td>88.7656987622352</td><td>99.76250283666775</td><td>-0.25336029921899694</td><td>134.52911409222452</td><td>156.37384775563277</td><td>178.43275432357146</td><td>43.90364023134694</td><td>0</td></tr><tr><td>44.056248199558226</td><td>64.9927903023742</td><td>83.75793372385132</td><td>39.7016855242931</td><td>131.72854180585986</td><td>153.85669965239762</td><td>173.42705649564775</td><td>41.698514689787885</td><td>0</td></tr><tr><td>46.18079637486741</td><td>65.8781842335083</td><td>93.4765795522548</td><td>47.29578317738739</td><td>118.38848704023408</td><td>143.74718810992513</td><td>164.5005750109057</td><td>46.11208797067161</td><td>0</td></tr><tr><td>100.00910704351271</td><td>84.14083096276687</td><td>99.85184226826772</td><td>-0.1572647752449967</td><td>102.80333037695829</td><td>123.80709571761675</td><td>142.22492093407106</td><td>39.42159055711278</td><td>0</td></tr><tr><td>52.38607486547297</td><td>72.57769161456511</td><td>95.20404091410343</td><td>42.81796604863046</td><td>102.77180529877938</td><td>124.50458460216126</td><td>143.77301149466174</td><td>41.00120619588236</td><td>0</td></tr><tr><td>49.66734920878908</td><td>70.19092479909872</td><td>91.67433055597056</td><td>42.00698134718147</td><td>120.23782032820435</td><td>141.29996045745602</td><td>163.43372586405357</td><td>43.19590553584922</td><td>0</td></tr><tr><td>51.39387815530719</td><td>71.51063765716303</td><td>90.53980831064231</td><td>39.14593015533512</td><td>117.05481580453984</td><td>134.92176148854168</td><td>155.0115720038933</td><td>37.95675619935345</td><td>0</td></tr><tr><td>104.6059995890405</td><td>78.39773957600025</td><td>98.51696703405557</td><td>-6.089032554984925</td><td>102.47541319318404</td><td>121.15457280931726</td><td>147.43595875061408</td><td>44.96054555743004</td><td>0</td></tr><tr><td>100.00575762962659</td><td>96.05781052449841</td><td>99.96168815805872</td><td>-0.044069471567866</td><td>145.09731750110527</td><td>167.3799641644368</td><td>187.17819203658416</td><td>42.0808745354789</td><td>0</td></tr><tr><td>52.181490399018855</td><td>73.05281680613992</td><td>97.66859576489512</td><td>45.48710536587626</td><td>112.0978444118738</td><td>130.64648155221283</td><td>152.4699967866481</td><td>40.3721523747743</td><td>1</td></tr><tr><td>100.12872442806672</td><td>89.57257304381355</td><td>99.83604810596111</td><td>-0.29267632210560635</td><td>115.89919286307888</td><td>133.54378303306746</td><td>149.90003613164674</td><td>34.00084326856786</td><td>0</td></tr><tr><td>100.41633157711549</td><td>85.04365028908231</td><td>99.91746344107587</td><td>-0.49886813603961855</td><td>121.16521292160958</td><td>141.1904457541055</td><td>158.98806499200842</td><td>37.82285207039884</td><td>0</td></tr><tr><td>56.339668993502094</td><td>77.97855204718948</td><td>99.56173970791028</td><td>43.22207071440818</td><td>150.20630249403564</td><td>170.62021643969118</td><td>191.6284172520955</td><td>41.42211475805985</td><td>0</td></tr><tr><td>56.68335223100482</td><td>80.75370761805064</td><td>97.99366138689103</td><td>41.310309155886216</td><td>114.32283302759333</td><td>134.9706425046512</td><td>157.085859293315</td><td>42.76302626572166</td><td>0</td></tr><tr><td>41.59549035169695</td><td>66.8850944611056</td><td>84.98762656822701</td><td>43.39213621653006</td><td>112.19376212170697</td><td>132.02660161290555</td><td>152.73757861013493</td><td>40.543816488427964</td><td>0</td></tr><tr><td>61.7814560057151</td><td>79.35206212670943</td><td>97.72627641376886</td><td>35.94482040805376</td><td>108.8322760767961</td><td>132.88231199796377</td><td>154.97932099319652</td><td>46.14704491640042</td><td>0</td></tr><tr><td>56.707257281231534</td><td>76.78177278002545</td><td>97.73273949189264</td><td>41.02548221066111</td><td>112.02405640453662</td><td>129.17905020458878</td><td>148.633327751741</td><td>36.609271347204384</td><td>1</td></tr><tr><td>59.75737024441291</td><td>78.14050043142562</td><td>97.46287387758966</td><td>37.70550363317675</td><td>109.64475703565671</td><td>130.11569425994432</td><td>147.85123136696285</td><td>38.20647433130614</td><td>0</td></tr><tr><td>49.45652930464692</td><td>67.95998336922428</td><td>88.9661671476962</td><td>39.509637843049276</td><td>108.52774780012109</td><td>129.28550930666734</td><td>149.6864869842812</td><td>41.15873918416011</td><td>0</td></tr><tr><td>101.56697311834807</td><td>83.2702974046847</td><td>99.71541087710398</td><td>-1.8515622412440962</td><td>113.435533778174</td><td>134.22247901459153</td><td>159.44675139435697</td><td>46.01121761618296</td><td>0</td></tr><tr><td>54.30621220361477</td><td>75.87241332954204</td><td>93.84793972580978</td><td>39.54172752219501</td><td>118.94834341516098</td><td>144.04122160463126</td><td>167.20787842918776</td><td>48.25953501402678</td><td>0</td></tr><tr><td>50.649963738916504</td><td>69.44616160131915</td><td>86.70186803499631</td><td>36.051904296079805</td><td>122.66584622890082</td><td>145.89594463604163</td><td>169.37524451529958</td><td>46.709398286398766</td><td>0</td></tr><tr><td>100.27962490936676</td><td>84.98913995824626</td><td>99.5633937159709</td><td>-0.7162311933958563</td><td>118.56401905058621</td><td>134.38202891060246</td><td>151.202572915626</td><td>32.638553865039796</td><td>0</td></tr><tr><td>100.43109978726638</td><td>78.21933108698207</td><td>96.00400999676651</td><td>-4.427089790499863</td><td>118.62238147707345</td><td>148.03838841597576</td><td>165.72032826721264</td><td>47.09794679013919</td><td>0</td></tr><tr><td>100.07860321928048</td><td>83.9554094659091</td><td>99.20083090526572</td><td>-0.8777723140147629</td><td>123.19982867346022</td><td>142.59271589875036</td><td>161.5815992173976</td><td>38.38177054393739</td><td>0</td></tr><tr><td>100.5469733503288</td><td>86.05778494084096</td><td>99.67044041949028</td><td>-0.8765329308385219</td><td>124.29245360091538</td><td>143.20531597670237</td><td>164.63425153894676</td><td>40.34179793803138</td><td>0</td></tr><tr><td>100.21670716112357</td><td>93.77691704242918</td><td>99.96956561662255</td><td>-0.24714154450101944</td><td>129.14957717842464</td><td>150.8943759639396</td><td>172.74644342181833</td><td>43.59686624339369</td><td>0</td></tr><tr><td>29.21742481129167</td><td>56.74471373720562</td><td>79.62763513593711</td><td>50.41021032464544</td><td>117.58643110117485</td><td>138.59117352429064</td><td>164.26070909415117</td><td>46.674277992976315</td><td>1</td></tr><tr><td>61.247117065765224</td><td>81.25723713152367</td><td>97.37411763227917</td><td>36.12700056651394</td><td>117.13778807228452</td><td>137.2774925117852</td><td>158.6220646220593</td><td>41.484276549774776</td><td>0</td></tr><tr><td>58.225108338698846</td><td>77.14954705848463</td><td>94.9738307856296</td><td>36.748722446930756</td><td>123.43456386703181</td><td>140.1894847629503</td><td>155.9844764119402</td><td>32.54991254490838</td><td>0</td></tr><tr><td>100.15853179950574</td><td>91.82377942788189</td><td>99.92926805747861</td><td>-0.22926374202712907</td><td>126.35706244994354</td><td>149.278320867884</td><td>170.28011708554405</td><td>43.92305463560051</td><td>0</td></tr><tr><td>57.305545428273334</td><td>76.03140197754537</td><td>94.49467125657665</td><td>37.18912582830332</td><td>114.11564870760706</td><td>136.11322364381357</td><td>155.06712401307806</td><td>40.95147530547099</td><td>0</td></tr><tr><td>45.8429015585365</td><td>62.81501097446878</td><td>85.48893795211976</td><td>39.64603639358326</td><td>112.20200010263734</td><td>131.33009313201697</td><td>158.44567760034178</td><td>46.24367749770444</td><td>1</td></tr><tr><td>47.53639003347381</td><td>69.86778960425255</td><td>96.33485125469997</td><td>48.79846122122616</td><td>105.83337090369696</td><td>125.78481938005214</td><td>152.17076434214843</td><td>46.33739343845147</td><td>1</td></tr><tr><td>50.932441354981194</td><td>73.92100780000042</td><td>93.17467795607432</td><td>42.242236601093126</td><td>109.87384075434056</td><td>130.34554336059117</td><td>151.40626147473003</td><td>41.53242072038947</td><td>0</td></tr><tr><td>101.29635929537852</td><td>83.81620150415655</td><td>99.60069720936228</td><td>-1.6956620860162417</td><td>140.41294245791593</td><td>157.4780711526527</td><td>175.67554655671304</td><td>35.26260409879711</td><td>0</td></tr><tr><td>100.08940787240144</td><td>89.10979224476363</td><td>99.99997543630867</td><td>-0.08943243609276408</td><td>123.87465794357014</td><td>149.1744889253188</td><td>166.71070968179714</td><td>42.836051738227</td><td>0</td></tr><tr><td>100.29011984617921</td><td>85.30888261659175</td><td>99.57950193967812</td><td>-0.7106179065010849</td><td>120.2718696591743</td><td>141.7124865877084</td><td>160.6745864334772</td><td>40.4027167743029</td><td>0</td></tr><tr><td>100.09479996985198</td><td>90.56336463403424</td><td>99.99777235609068</td><td>-0.09702761376129843</td><td>114.16017924043389</td><td>132.72085058866787</td><td>151.31190099003643</td><td>37.151721749602544</td><td>0</td></tr><tr><td>46.25377467347052</td><td>64.4739930994436</td><td>81.55324044980922</td><td>35.29946577633871</td><td>131.15538238020235</td><td>151.06254540616243</td><td>172.17597796720958</td><td>41.02059558700722</td><td>0</td></tr><tr><td>57.24736715087586</td><td>76.34732087915248</td><td>99.78025172690917</td><td>42.53288457603331</td><td>137.12494818291847</td><td>158.39872002693158</td><td>178.21495451729282</td><td>41.09000633437435</td><td>0</td></tr><tr><td>57.363317419953944</td><td>74.3181459018075</td><td>98.54093644720346</td><td>41.17761902724952</td><td>118.2459995892381</td><td>141.5155317413264</td><td>157.94506406009518</td><td>39.69906447085708</td><td>0</td></tr><tr><td>100.0422550916805</td><td>87.40592051771256</td><td>98.9670402806025</td><td>-1.0752148110779984</td><td>120.97532223035704</td><td>138.13883211710743</td><td>158.33084618700332</td><td>37.35552395664628</td><td>0</td></tr><tr><td>100.06608364999822</td><td>105.56116710479847</td><td>99.98873619357302</td><td>-0.07734745642520124</td><td>105.46212270627389</td><td>123.98372497219884</td><td>98.6427968004655</td><td>-6.819325905808384</td><td>0</td></tr><tr><td>100.06511075350788</td><td>84.58599060332494</td><td>99.39768254635848</td><td>-0.6674282071493991</td><td>127.98635740972199</td><td>150.0051842406588</td><td>168.30589989034178</td><td>40.31954248061979</td><td>0</td></tr><tr><td>101.56687022447876</td><td>83.76529067159797</td><td>99.94376268910978</td><td>-1.6231075353689874</td><td>111.39057306090818</td><td>132.19919593350193</td><td>152.90610374898426</td><td>41.51553068807608</td><td>0</td></tr><tr><td>44.24302865187127</td><td>72.91187758882933</td><td>91.39144490283215</td><td>47.14841625096088</td><td>136.9048822374281</td><td>153.50596356039634</td><td>175.6543848866425</td><td>38.749502649214406</td><td>0</td></tr><tr><td>100.09113952714124</td><td>90.65700666208801</td><td>99.83251534490901</td><td>-0.25862418223222505</td><td>126.20292297595152</td><td>142.87669878734118</td><td>158.49086058073797</td><td>32.28793760478645</td><td>0</td></tr><tr><td>39.92309214423753</td><td>60.1603991911593</td><td>85.24644289118629</td><td>45.32335074694876</td><td>120.3898995980444</td><td>142.10136330635206</td><td>164.06314103802043</td><td>43.67324143997604</td><td>0</td></tr><tr><td>100.26712740899202</td><td>83.75657621794355</td><td>98.52210204122179</td><td>-1.7450253677702392</td><td>114.46336599444362</td><td>132.65415379517015</td><td>154.51544390929118</td><td>40.05207791484756</td><td>0</td></tr><tr><td>60.39980081394364</td><td>79.7179323148506</td><td>96.0401181950092</td><td>35.64031738106556</td><td>122.19794316747817</td><td>143.74897757457794</td><td>161.14849253607872</td><td>38.95054936860055</td><td>0</td></tr><tr><td>100.16625466288309</td><td>87.33750149881547</td><td>99.9169645861561</td><td>-0.249290076726993</td><td>130.92062611997432</td><td>147.5630296955698</td><td>167.73881529783804</td><td>36.81818917786373</td><td>0</td></tr><tr><td>55.158893307266744</td><td>77.29601773458806</td><td>97.65043227405009</td><td>42.491538966783345</td><td>112.25017791393154</td><td>131.92053244548055</td><td>152.07102855046236</td><td>39.82085063653082</td><td>0</td></tr><tr><td>100.33777602237258</td><td>81.05115557787796</td><td>99.42958339476127</td><td>-0.9081926276113137</td><td>100.90804757371208</td><td>113.20985112056634</td><td>99.95000900979714</td><td>-0.9580385639149398</td><td>1</td></tr><tr><td>45.5240584422931</td><td>69.97295409996424</td><td>93.09958365012994</td><td>47.57552520783685</td><td>115.53639058640474</td><td>136.24038944272525</td><td>154.11830261985864</td><td>38.581912033453904</td><td>0</td></tr><tr><td>37.43262850437133</td><td>60.205445806520316</td><td>83.9931719755161</td><td>46.560543471144776</td><td>112.09611965973744</td><td>131.7232916580454</td><td>150.22039795624087</td><td>38.124278296503434</td><td>1</td></tr><tr><td>46.682800186288674</td><td>72.17684418088463</td><td>92.41528610618366</td><td>45.732485919894984</td><td>113.91900089341473</td><td>132.3006239889619</td><td>149.32509241265572</td><td>35.40609151924099</td><td>0</td></tr><tr><td>54.81155747994396</td><td>73.915187654545</td><td>92.91615949721091</td><td>38.104602017266956</td><td>122.56006166378194</td><td>141.5388952706151</td><td>159.36751639174128</td><td>36.80745472795934</td><td>0</td></tr><tr><td>46.7254988689734</td><td>63.65635162020989</td><td>82.40659268944435</td><td>35.68109382047095</td><td>103.67000276619483</td><td>121.66711852000763</td><td>140.93045300699026</td><td>37.260450240795436</td><td>1</td></tr><tr><td>40.85074932298404</td><td>62.18377741749582</td><td>81.99230307934349</td><td>41.14155375635944</td><td>100.18382685039641</td><td>112.50144253975849</td><td>99.70082621329014</td><td>-0.4830006371062723</td><td>1</td></tr><tr><td>43.695967594202656</td><td>61.57120337249202</td><td>80.94064972195731</td><td>37.24468212775466</td><td>103.72605556502106</td><td>120.64899320613401</td><td>138.8007533383386</td><td>35.07469777331755</td><td>1</td></tr><tr><td>41.72239337683967</td><td>59.88160138271605</td><td>81.82503541667214</td><td>40.10264203983247</td><td>100.46083071135577</td><td>116.91184235893107</td><td>99.27515267079457</td><td>-1.1856780405612</td><td>1</td></tr><tr><td>40.844223991170935</td><td>60.02577993409127</td><td>84.42880085007117</td><td>43.584576858900235</td><td>100.083142621837</td><td>115.37427316932879</td><td>98.94043555088719</td><td>-1.142707070949811</td><td>1</td></tr><tr><td>30.749443188593624</td><td>51.14876465002267</td><td>73.63727115279953</td><td>42.887827964205904</td><td>102.56257800404273</td><td>122.34556219040559</td><td>147.7196149328089</td><td>45.15703692876616</td><td>1</td></tr><tr><td>38.93994782758667</td><td>62.32347209185888</td><td>82.00303917362754</td><td>43.06309134604087</td><td>103.59491904378987</td><td>121.3689886327361</td><td>145.13843272608338</td><td>41.54351368229351</td><td>1</td></tr><tr><td>38.50663526345485</td><td>56.48400329005388</td><td>74.65150979753028</td><td>36.144874534075434</td><td>100.3714267419114</td><td>111.50936643651579</td><td>99.96267360509587</td><td>-0.40875313681553394</td><td>1</td></tr><tr><td>45.90714580573464</td><td>67.22829167108915</td><td>85.66148324998431</td><td>39.75433744424967</td><td>100.34944351336526</td><td>121.62868062863001</td><td>98.64029597693121</td><td>-1.7091475364340454</td><td>1</td></tr><tr><td>39.95098943435936</td><td>59.03904904105346</td><td>78.40300412157936</td><td>38.45201468722</td><td>100.18946628963671</td><td>113.88658081734816</td><td>99.31501876464432</td><td>-0.8744475249923909</td><td>1</td></tr><tr><td>37.85543531932936</td><td>59.63567581097966</td><td>81.06442222130349</td><td>43.20898690197413</td><td>100.01458256088624</td><td>109.35985656786998</td><td>99.92782364150732</td><td>-0.08675891937892288</td><td>1</td></tr><tr><td>41.784285923028484</td><td>59.774689221856015</td><td>77.65325836166033</td><td>35.86897243863185</td><td>101.2222133474955</td><td>116.64715789746114</td><td>99.84906386820344</td><td>-1.3731494792920529</td><td>1</td></tr><tr><td>37.231610813916035</td><td>61.40290766476605</td><td>81.07225371532533</td><td>43.840642901409296</td><td>100.3825084097207</td><td>113.52566191116902</td><td>98.73307537551584</td><td>-1.6494330342048613</td><td>1</td></tr><tr><td>43.78888270117476</td><td>65.97734526032367</td><td>86.3440307774863</td><td>42.55514807631154</td><td>101.04984811695363</td><td>117.09415971997167</td><td>95.56876868058411</td><td>-5.481079436369512</td><td>1</td></tr><tr><td>37.347237809768615</td><td>56.85189373460229</td><td>79.46534529005112</td><td>42.118107480282504</td><td>103.15371442379238</td><td>120.78490921655529</td><td>142.029296752905</td><td>38.87558232911262</td><td>1</td></tr><tr><td>41.97992562679054</td><td>61.91396930425246</td><td>89.23646306330699</td><td>47.256537436516446</td><td>100.35365062314689</td><td>121.91779820213486</td><td>139.6970530658711</td><td>39.34340244272421</td><td>1</td></tr><tr><td>33.94046173052125</td><td>55.16818254263742</td><td>73.81762834811309</td><td>39.87716661759184</td><td>101.44944112112766</td><td>120.9605607500116</td><td>141.0175608335369</td><td>39.56811971240923</td><td>1</td></tr><tr><td>39.80954784951346</td><td>57.26230292060372</td><td>77.38740864393085</td><td>37.5778607944174</td><td>100.22427497397182</td><td>115.45418238633255</td><td>99.8936681414362</td><td>-0.3306068325356222</td><td>1</td></tr><tr><td>38.04149991242643</td><td>61.16626117259425</td><td>83.05176265861463</td><td>45.010262746188204</td><td>100.16534389752955</td><td>116.92754504628522</td><td>99.2741690955614</td><td>-0.8911748019681482</td><td>1</td></tr><tr><td>41.61973530015142</td><td>60.81223388010112</td><td>80.9801008062702</td><td>39.36036550611878</td><td>100.5719662658936</td><td>117.58618520274116</td><td>99.73100421778337</td><td>-0.840962048110228</td><td>1</td></tr><tr><td>40.56108192583805</td><td>57.44589185511159</td><td>74.07037091091587</td><td>33.509288985077816</td><td>100.00258790189699</td><td>108.65296530868542</td><td>99.99931033493743</td><td>-0.003277566959553724</td><td>1</td></tr><tr><td>37.03233229078373</td><td>56.87395138324474</td><td>79.0635030826823</td><td>42.031170791898575</td><td>101.91747796568241</td><td>116.12085134327036</td><td>97.60792074767178</td><td>-4.3095572180106245</td><td>1</td></tr><tr><td>37.877150963486045</td><td>57.73421505954286</td><td>82.68663264672858</td><td>44.80948168324254</td><td>104.51374133924531</td><td>123.46767699168869</td><td>142.78329743260156</td><td>38.26955609335624</td><td>1</td></tr><tr><td>33.63706778046999</td><td>55.06156777181855</td><td>72.73351121564869</td><td>39.0964434351787</td><td>100.27876871889153</td><td>114.13763327543047</td><td>99.91245880579113</td><td>-0.3663099131003946</td><td>1</td></tr><tr><td>42.187763222681134</td><td>62.15622034328543</td><td>84.89430266121741</td><td>42.706539438536275</td><td>100.3158147930954</td><td>122.39259726876325</td><td>148.77140332340022</td><td>48.45558853030482</td><td>1</td></tr><tr><td>40.87777910862023</td><td>59.88696940933446</td><td>77.79956839178759</td><td>36.92178928316736</td><td>102.49272049365193</td><td>121.19367228381046</td><td>94.47255835803958</td><td>-8.020162135612352</td><td>1</td></tr><tr><td>39.04171251737092</td><td>61.19426102606033</td><td>82.91307934662832</td><td>43.871366829257404</td><td>100.86090041087168</td><td>118.93292417500302</td><td>96.41757355223262</td><td>-4.443326858639054</td><td>1</td></tr><tr><td>41.998268232563504</td><td>62.964149120621016</td><td>83.87652528070058</td><td>41.87825704813707</td><td>100.42364989434965</td><td>115.05908570280502</td><td>99.02249080304395</td><td>-1.4011590913057006</td><td>1</td></tr><tr><td>40.20366989240486</td><td>59.39615368475331</td><td>79.14735459711522</td><td>38.943684704710364</td><td>100.28983811198967</td><td>111.974548225912</td><td>99.98332338610047</td><td>-0.30651472588920115</td><td>1</td></tr><tr><td>37.7431762152425</td><td>57.89206597368129</td><td>81.26607968909325</td><td>43.52290347385075</td><td>100.00233357023382</td><td>117.34859398620202</td><td>99.77441431099317</td><td>-0.22791925924065026</td><td>1</td></tr><tr><td>42.28623991362288</td><td>61.735430782299446</td><td>82.58235478234769</td><td>40.296114868724814</td><td>105.64000251362751</td><td>125.6348668736099</td><td>97.38641112846996</td><td>-8.253591385157549</td><td>1</td></tr><tr><td>31.364025424661556</td><td>55.25032306438423</td><td>75.01634481517839</td><td>43.65231939051683</td><td>100.00844629929027</td><td>104.3663236128095</td><td>99.94428603176314</td><td>-0.06416026752712867</td><td>1</td></tr><tr><td>33.97816944656128</td><td>53.80485556833107</td><td>74.61138604390348</td><td>40.6332165973422</td><td>100.83167124426197</td><td>115.30415213256805</td><td>99.85200975015574</td><td>-0.9796614941062245</td><td>1</td></tr><tr><td>33.90946293711009</td><td>51.991556130167886</td><td>74.4279120175606</td><td>40.51844908045051</td><td>100.01148736836535</td><td>103.28515530956494</td><td>99.99371178758922</td><td>-0.017775580776131505</td><td>1</td></tr><tr><td>37.65404692474468</td><td>56.84171591012216</td><td>77.62094718280238</td><td>39.966900258057706</td><td>106.13865472153185</td><td>128.25059216113326</td><td>150.70780993882022</td><td>44.56915521728837</td><td>1</td></tr><tr><td>47.09134879850373</td><td>61.81016901243939</td><td>81.774241037398</td><td>34.68289223889427</td><td>103.24186045916746</td><td>121.27856076931529</td><td>143.7365345492378</td><td>40.49467409007035</td><td>1</td></tr><tr><td>36.358248115628655</td><td>58.52515175564874</td><td>81.45558996182945</td><td>45.09734184620079</td><td>100.20096029514734</td><td>105.8032799909231</td><td>99.91499440645127</td><td>-0.28596588869606876</td><td>1</td></tr><tr><td>37.57094339177537</td><td>55.85493668778006</td><td>76.28773683163233</td><td>38.71679343985696</td><td>100.06044164869175</td><td>111.45636317529656</td><td>99.85053002157204</td><td>-0.209911627119709</td><td>1</td></tr><tr><td>39.82780573612642</td><td>59.5025069796857</td><td>78.12406994690888</td><td>38.296264210782454</td><td>111.4002391037705</td><td>133.576843281807</td><td>153.8136674706854</td><td>42.4134283669149</td><td>1</td></tr><tr><td>45.27531200993789</td><td>63.98789553371525</td><td>83.49327181568873</td><td>38.21795980575084</td><td>100.131210360921</td><td>107.68132919170525</td><td>99.90654452265406</td><td>-0.22466583826694375</td><td>1</td></tr><tr><td>40.04887480302176</td><td>60.14493078387789</td><td>82.74476675030718</td><td>42.69589194728542</td><td>100.08122691282762</td><td>112.9770273315414</td><td>99.95715474663945</td><td>-0.12407216618817074</td><td>1</td></tr><tr><td>32.75427665993155</td><td>53.23240304823345</td><td>73.81075610737673</td><td>41.056479447445184</td><td>100.05960918936657</td><td>105.87663295602755</td><td>99.95386724500793</td><td>-0.10574194435864115</td><td>1</td></tr><tr><td>28.833196126694887</td><td>53.17853646896617</td><td>78.35292172499697</td><td>49.51972559830209</td><td>100.27295995749643</td><td>113.54332973809957</td><td>99.55511521660024</td><td>-0.717844740896183</td><td>1</td></tr><tr><td>36.84784402879175</td><td>61.71563856652535</td><td>83.27581989116334</td><td>46.42797586237159</td><td>103.80297323432092</td><td>126.99151261584073</td><td>146.51012571790656</td><td>42.707152483585645</td><td>1</td></tr><tr><td>35.58769847360992</td><td>55.195643337510816</td><td>77.65574934273072</td><td>42.068050869120796</td><td>100.06611239532741</td><td>102.9659270026852</td><td>99.98450344648275</td><td>-0.08160894884466074</td><td>1</td></tr><tr><td>41.29677284271688</td><td>59.41771501368002</td><td>82.74278656259867</td><td>41.44601371988179</td><td>100.39579367670156</td><td>115.95608598875336</td><td>99.05165364009963</td><td>-1.344140036601928</td><td>1</td></tr><tr><td>32.96447460749626</td><td>53.93660226209157</td><td>71.57834149142288</td><td>38.61386688392662</td><td>113.23067903822377</td><td>131.85903737953427</td><td>151.2931606228152</td><td>38.06248158459144</td><td>1</td></tr><tr><td>31.6958782213678</td><td>52.08834253704847</td><td>73.3225283089797</td><td>41.6266500876119</td><td>100.05476249318103</td><td>104.71369517728523</td><td>99.74430533704306</td><td>-0.3104571561379714</td><td>1</td></tr><tr><td>41.958915177214394</td><td>61.59883046172661</td><td>82.98035116384048</td><td>41.02143598662609</td><td>100.77943290230098</td><td>118.08994500679982</td><td>97.45738941450925</td><td>-3.3220434877917313</td><td>1</td></tr><tr><td>42.931728299320106</td><td>59.568225047146136</td><td>78.4666146045907</td><td>35.5348863052706</td><td>100.01116703556124</td><td>111.13589943626472</td><td>99.9701510045653</td><td>-0.04101603099594797</td><td>1</td></tr><tr><td>35.77476818319131</td><td>58.781104539384074</td><td>78.08207873801169</td><td>42.307310554820376</td><td>100.707815863401</td><td>116.55702604444389</td><td>99.95080980316413</td><td>-0.7570060602368613</td><td>1</td></tr><tr><td>36.997349740593584</td><td>57.01372838160132</td><td>80.5400933056752</td><td>43.542743565081615</td><td>100.005812162746</td><td>115.3763393176766</td><td>99.78815595644173</td><td>-0.21765620630426952</td><td>1</td></tr><tr><td>42.45809967943224</td><td>59.53829561446549</td><td>78.41314946435816</td><td>35.95504978492592</td><td>100.02190574443262</td><td>115.52539287671375</td><td>99.96363052068116</td><td>-0.05827522375145122</td><td>1</td></tr><tr><td>41.22737324820907</td><td>62.16257885493416</td><td>84.10644981195938</td><td>42.87907656375031</td><td>100.89350299714243</td><td>119.41111499949771</td><td>99.94176369762872</td><td>-0.9517392995137186</td><td>1</td></tr><tr><td>37.24260593730989</td><td>61.08115523536878</td><td>79.50485278455018</td><td>42.26224684724029</td><td>104.80056532440351</td><td>125.800708244545</td><td>147.94265311250388</td><td>43.14208778810037</td><td>1</td></tr><tr><td>35.78541842185366</td><td>54.17446431271471</td><td>72.3784527994666</td><td>36.59303437761294</td><td>100.074587604933</td><td>110.64221512318157</td><td>99.99450723328465</td><td>-0.08008037164835002</td><td>1</td></tr><tr><td>31.009037976870594</td><td>56.4794541620005</td><td>75.41316664550877</td><td>44.40412866863817</td><td>100.12905999366612</td><td>114.93578084142209</td><td>99.63139637802841</td><td>-0.49766361563770545</td><td>1</td></tr><tr><td>38.122330099776704</td><td>59.69900344458013</td><td>79.95568012974866</td><td>41.83335002997195</td><td>100.00737196023559</td><td>123.29798296189819</td><td>146.27084668700513</td><td>46.263474726769545</td><td>1</td></tr><tr><td>34.6880642636995</td><td>55.35442103773249</td><td>78.03984418540242</td><td>43.351779921702914</td><td>100.02861718106348</td><td>104.27532757072748</td><td>99.93926627335158</td><td>-0.08935090771190346</td><td>1</td></tr><tr><td>36.35019509997538</td><td>58.39712755625085</td><td>83.20604704491485</td><td>46.855851944939474</td><td>100.12715151508266</td><td>116.92169781553366</td><td>98.86584363613657</td><td>-1.2613078789460843</td><td>1</td></tr><tr><td>38.95369649424592</td><td>58.97641246953485</td><td>82.51192158885004</td><td>43.558225094604126</td><td>100.36687281438897</td><td>112.61119633733892</td><td>99.09302150611376</td><td>-1.273851308275212</td><td>1</td></tr><tr><td>35.8947442492491</td><td>55.72894632313095</td><td>73.09711283286121</td><td>37.20236858361211</td><td>103.17988769798137</td><td>124.22595830035797</td><td>99.95087580787832</td><td>-3.2290118901030525</td><td>1</td></tr><tr><td>40.678225508178</td><td>61.300310129103735</td><td>78.96209498676527</td><td>38.28386947858726</td><td>103.53544233027668</td><td>121.82842638538483</td><td>144.65326505070632</td><td>41.11782272042964</td><td>1</td></tr><tr><td>38.8008497839447</td><td>60.85271171763094</td><td>82.0523079937688</td><td>43.25145820982411</td><td>102.8166140873471</td><td>126.06206364026151</td><td>156.19964500941492</td><td>53.38303092206782</td><td>1</td></tr><tr><td>36.71249601136436</td><td>58.179106939315744</td><td>81.55122959834333</td><td>44.83873358697897</td><td>104.84521798445193</td><td>124.04123247566405</td><td>144.7498376420376</td><td>39.904619657585656</td><td>1</td></tr><tr><td>36.80896349486929</td><td>59.596531434266126</td><td>78.6995283247929</td><td>41.890564829923605</td><td>100.51781507942232</td><td>120.19526799621751</td><td>140.5259882605754</td><td>40.00817318115307</td><td>1</td></tr><tr><td>36.142798372679906</td><td>58.841074564956095</td><td>78.35020408710629</td><td>42.207405714426386</td><td>100.04418769188584</td><td>110.55945679145891</td><td>99.89536032954977</td><td>-0.14882736233606408</td><td>1</td></tr><tr><td>24.16039598267194</td><td>47.30893563750382</td><td>73.97376613074337</td><td>49.81337014807143</td><td>100.0246117880647</td><td>96.01337774080402</td><td>99.99081102672332</td><td>-0.03380076134138221</td><td>1</td></tr><tr><td>39.57393929695378</td><td>56.51849206779723</td><td>79.69419456296819</td><td>40.12025526601441</td><td>100.10072192142513</td><td>112.26760118121356</td><td>99.75232914702029</td><td>-0.34839277440484295</td><td>1</td></tr><tr><td>36.994293158637944</td><td>55.73348255832497</td><td>76.70432402088936</td><td>39.710030862251415</td><td>100.77908389269109</td><td>111.03559780524533</td><td>99.87199712021199</td><td>-0.9070867724791043</td><td>1</td></tr><tr><td>34.2147042990359</td><td>55.7417800035269</td><td>74.59079985148126</td><td>40.37609555244536</td><td>100.17077833144491</td><td>115.045665074979</td><td>99.81415803925859</td><td>-0.35662029218632085</td><td>1</td></tr><tr><td>34.7101436036393</td><td>56.24500626623722</td><td>76.24432763188119</td><td>41.53418402824189</td><td>100.03349074081937</td><td>111.4816471238144</td><td>99.94002950854177</td><td>-0.09346123227760472</td><td>1</td></tr><tr><td>35.54554371290257</td><td>55.861870809585845</td><td>80.88590849769417</td><td>45.3403647847916</td><td>100.27895547517353</td><td>108.48017276473779</td><td>99.93375145540197</td><td>-0.34520401977155757</td><td>1</td></tr><tr><td>35.0377843469195</td><td>56.42035233630999</td><td>84.37327081028826</td><td>49.33548646336876</td><td>104.16777488680191</td><td>125.38464005676678</td><td>145.55688477380804</td><td>41.38910988700613</td><td>1</td></tr><tr><td>35.64449957200637</td><td>59.16636968443583</td><td>76.57397605254317</td><td>40.929476480536806</td><td>100.24115426091669</td><td>112.87249148028252</td><td>99.69290930335652</td><td>-0.548244957560172</td><td>0</td></tr><tr><td>42.96786756066699</td><td>66.20325828783598</td><td>83.89412688835813</td><td>40.92625932769114</td><td>106.25804115508403</td><td>128.26408437106238</td><td>151.9955921661961</td><td>45.737551011112075</td><td>1</td></tr><tr><td>38.02489816602977</td><td>62.36645022759148</td><td>80.7252591398919</td><td>42.70036097386213</td><td>100.71742492063157</td><td>115.30233311320656</td><td>99.9260390737363</td><td>-0.7913858468952668</td><td>1</td></tr><tr><td>36.572273088790276</td><td>60.39190113928199</td><td>85.02606258072436</td><td>48.45378949193408</td><td>110.08615606984006</td><td>130.74839072755628</td><td>152.74931523378493</td><td>42.66315916394487</td><td>0</td></tr><tr><td>36.951294035077844</td><td>55.98137455283126</td><td>75.05851802004207</td><td>38.10722398496423</td><td>100.51137874268753</td><td>113.76936252999718</td><td>99.99696992781693</td><td>-0.5144088148705919</td><td>1</td></tr><tr><td>38.172489746203034</td><td>58.70641094395226</td><td>79.51698605454035</td><td>41.34449630833732</td><td>108.62326166041082</td><td>128.31952678887902</td><td>149.99554550584332</td><td>41.372283845432506</td><td>1</td></tr><tr><td>38.48284188257806</td><td>59.18373070479178</td><td>81.2470405930102</td><td>42.76419871043214</td><td>101.11348485739354</td><td>119.07104339214368</td><td>97.90192900869788</td><td>-3.2115558486956672</td><td>1</td></tr><tr><td>41.37518731653766</td><td>61.124237141458984</td><td>83.0326628540663</td><td>41.65747553752864</td><td>109.364058352992</td><td>127.40506275414165</td><td>147.0124139290516</td><td>37.6483555760596</td><td>0</td></tr><tr><td>35.4036954382195</td><td>59.6364668468525</td><td>78.52265254376931</td><td>43.11895710554981</td><td>111.35762475764543</td><td>128.3562371952466</td><td>146.92591143894765</td><td>35.568286681302226</td><td>1</td></tr><tr><td>37.315415634860905</td><td>58.60434862643907</td><td>80.34988828210206</td><td>43.03447264724115</td><td>114.71073719059623</td><td>134.67094497666878</td><td>154.47960971238405</td><td>39.76887252178781</td><td>1</td></tr><tr><td>42.877512798441174</td><td>61.25471147884661</td><td>80.82297795058595</td><td>37.94546515214478</td><td>105.16922209015223</td><td>122.8116654098448</td><td>144.55540900427027</td><td>39.38618691411804</td><td>1</td></tr><tr><td>40.21092397389356</td><td>58.076204934781785</td><td>78.13923839381007</td><td>37.92831441991652</td><td>100.42183210797047</td><td>112.90113342338167</td><td>99.88795809035815</td><td>-0.5338740176123196</td><td>1</td></tr><tr><td>30.221990328754934</td><td>54.62494068862075</td><td>77.66773601135542</td><td>47.44574568260048</td><td>102.420325450782</td><td>122.90505410145667</td><td>144.06259020027127</td><td>41.64226474948927</td><td>1</td></tr><tr><td>43.7229301915121</td><td>63.859231037418894</td><td>82.35198720333005</td><td>38.629057011817956</td><td>101.87636585567114</td><td>118.44034484028866</td><td>99.44364017198555</td><td>-2.4327256836855895</td><td>1</td></tr><tr><td>33.47753398208298</td><td>51.535181965006</td><td>71.35974575466714</td><td>37.882211772584164</td><td>100.06653648193864</td><td>109.85499426322706</td><td>99.6086903924312</td><td>-0.45784608950744143</td><td>1</td></tr><tr><td>37.02208335130687</td><td>57.670334613312455</td><td>77.00394786894165</td><td>39.98186451763478</td><td>100.01183944939315</td><td>111.32759554416225</td><td>99.96303266250685</td><td>-0.04880678688630269</td><td>1</td></tr><tr><td>43.407137089597775</td><td>62.67832822341962</td><td>81.7050063867</td><td>38.29786929710223</td><td>106.9716683248407</td><td>126.55070760439426</td><td>146.4053587896286</td><td>39.43369046478789</td><td>1</td></tr><tr><td>44.94963612474395</td><td>65.84083702716866</td><td>84.97298617799348</td><td>40.02335005324953</td><td>102.13745337251356</td><td>124.43757211270496</td><td>143.58025827243478</td><td>41.442804899921214</td><td>1</td></tr><tr><td>39.1724693761784</td><td>57.30630587979575</td><td>78.19451992795686</td><td>39.02205055177846</td><td>104.38393031765186</td><td>122.88110162277245</td><td>145.0628870652554</td><td>40.67895674760355</td><td>1</td></tr><tr><td>43.0170654940453</td><td>65.44018059187476</td><td>90.7534143061302</td><td>47.7363488120849</td><td>103.68324093623784</td><td>124.7490704498664</td><td>145.56630189343443</td><td>41.88306095719659</td><td>0</td></tr><tr><td>37.44922678089938</td><td>58.53345810370388</td><td>78.19954097898503</td><td>40.75031419808565</td><td>105.30281020864425</td><td>122.13627504494715</td><td>96.92626041939846</td><td>-8.376549789245786</td><td>1</td></tr><tr><td>33.92245025468625</td><td>56.72274303389302</td><td>84.20653457637908</td><td>50.28408432169284</td><td>103.8975293863174</td><td>123.23919839185446</td><td>143.96220005635087</td><td>40.064670670033465</td><td>1</td></tr><tr><td>42.277971065893134</td><td>60.443609480028066</td><td>82.44493353791107</td><td>40.166962472017936</td><td>100.00298513613882</td><td>108.59257884379294</td><td>99.8054847513266</td><td>-0.19750038481221566</td><td>1</td></tr><tr><td>35.634477607544696</td><td>57.688384040812856</td><td>74.67452543092011</td><td>39.04004782337542</td><td>100.44463576384332</td><td>114.51771873649803</td><td>99.00617090257128</td><td>-1.4384648612720383</td><td>1</td></tr><tr><td>26.18148580867487</td><td>53.16517109969772</td><td>73.29093159812199</td><td>47.109445789447115</td><td>100.20345949881661</td><td>115.62674198696811</td><td>99.31025547972226</td><td>-0.8932040190943553</td><td>1</td></tr><tr><td>38.223997687345076</td><td>55.21663100215819</td><td>75.67952668497466</td><td>37.455528997629585</td><td>105.17439576338347</td><td>123.51961548345015</td><td>141.63760908203324</td><td>36.463213318649764</td><td>1</td></tr><tr><td>44.35445577018108</td><td>61.95540542156069</td><td>81.20875440496066</td><td>36.854298634779575</td><td>104.20487745568278</td><td>120.91617919844776</td><td>143.8271540763841</td><td>39.622276620701314</td><td>1</td></tr><tr><td>36.81406309851633</td><td>54.4339823194824</td><td>76.36418300659116</td><td>39.550119908074834</td><td>100.5608925326968</td><td>112.20606118225142</td><td>99.89611493028052</td><td>-0.6647776024162795</td><td>1</td></tr><tr><td>40.024351184725774</td><td>61.652766021920414</td><td>83.22122399352996</td><td>43.19687280880419</td><td>101.55993721568387</td><td>121.37708346141778</td><td>99.51128778648365</td><td>-2.048649429200225</td><td>1</td></tr><tr><td>35.92965156502626</td><td>53.314315585235725</td><td>74.47032781077272</td><td>38.540676245746454</td><td>101.95236586140553</td><td>121.87615886167916</td><td>144.29566215791942</td><td>42.3432962965139</td><td>1</td></tr><tr><td>42.71965532344482</td><td>59.661682753385875</td><td>78.54006968628039</td><td>35.82041436283557</td><td>101.24766664337469</td><td>118.77933453853898</td><td>98.75735380231494</td><td>-2.4903128410597475</td><td>1</td></tr><tr><td>38.85193785884918</td><td>62.55338774202914</td><td>83.12070953911339</td><td>44.26877168026421</td><td>102.76851026595187</td><td>118.82138447110043</td><td>95.90034954284673</td><td>-6.868160723105149</td><td>1</td></tr><tr><td>32.68625035990432</td><td>51.36133477284503</td><td>71.54897600821283</td><td>38.86272564830851</td><td>100.03710192981279</td><td>106.77299647392528</td><td>99.85946806016283</td><td>-0.1776338696499664</td><td>1</td></tr><tr><td>30.00390505213028</td><td>53.6579592554415</td><td>77.36629576636899</td><td>47.362390714238714</td><td>100.65191443160079</td><td>111.48543759687985</td><td>99.99648662677893</td><td>-0.6554278048218549</td><td>1</td></tr><tr><td>30.134792507649784</td><td>56.477012111829985</td><td>77.38503632489399</td><td>47.250243817244204</td><td>108.18404576803667</td><td>128.50466283582685</td><td>150.6067975879257</td><td>42.422751819889044</td><td>1</td></tr><tr><td>43.10299583442954</td><td>62.62736374059854</td><td>81.57610939982213</td><td>38.47311356539259</td><td>100.02315595998233</td><td>119.51593261971962</td><td>99.8908164532402</td><td>-0.13233950674212736</td><td>1</td></tr><tr><td>35.72535615290032</td><td>56.329534164466686</td><td>77.19145523896785</td><td>41.46609908606753</td><td>100.97448897600228</td><td>120.26710017246361</td><td>99.6666023602518</td><td>-1.3078866157504763</td><td>1</td></tr><tr><td>33.9056477289612</td><td>56.40869454138809</td><td>74.03929708210964</td><td>40.13364935314844</td><td>105.73805711511447</td><td>121.87969308496396</td><td>99.35146082293346</td><td>-6.386596292181011</td><td>1</td></tr><tr><td>40.49944632814733</td><td>58.56369765520543</td><td>78.02156646785872</td><td>37.52212013971139</td><td>100.35506019353943</td><td>115.7241270873586</td><td>99.94483972207499</td><td>-0.4102204714644415</td><td>1</td></tr><tr><td>37.98976563119547</td><td>59.432606305310784</td><td>80.7420443308655</td><td>42.75227869967003</td><td>102.53986455750491</td><td>120.08173341752732</td><td>96.92103302367588</td><td>-5.618831533829038</td><td>0</td></tr><tr><td>42.47106991296488</td><td>65.30887743077719</td><td>85.04844438717723</td><td>42.57737447421235</td><td>106.5229787975943</td><td>122.64464763599338</td><td>147.1891777350246</td><td>40.666198937430295</td><td>1</td></tr><tr><td>40.299951023587994</td><td>59.092764935906835</td><td>80.07327392571305</td><td>39.77332290212506</td><td>108.26855869243059</td><td>128.2957239321252</td><td>151.48915467270928</td><td>43.22059598027869</td><td>0</td></tr><tr><td>44.22412737749816</td><td>61.32834614409234</td><td>79.99695996104387</td><td>35.772832583545714</td><td>103.00894054256176</td><td>121.74960550823344</td><td>141.2452799751352</td><td>38.23633943257343</td><td>1</td></tr><tr><td>45.05551173109922</td><td>65.84474174841579</td><td>85.11455313396846</td><td>40.059041402869234</td><td>102.69039802122393</td><td>122.20813740188376</td><td>99.69356799818723</td><td>-2.9968300230366935</td><td>1</td></tr><tr><td>38.36447734436659</td><td>56.38135926472063</td><td>74.01795514638569</td><td>35.6534778020191</td><td>101.01455845177527</td><td>116.52358168556279</td><td>99.57822009968841</td><td>-1.4363383520868638</td><td>1</td></tr><tr><td>42.57376319665232</td><td>59.71326130200061</td><td>78.21781961907703</td><td>35.64405642242471</td><td>100.79311322431349</td><td>116.03375987142172</td><td>99.81716297162967</td><td>-0.9759502526838162</td><td>1</td></tr><tr><td>39.236121270157625</td><td>59.61091189646644</td><td>80.85579700593345</td><td>41.61967573577583</td><td>100.58150248726287</td><td>113.71744510742225</td><td>99.07980584332066</td><td>-1.5016966439422106</td><td>1</td></tr><tr><td>40.227863010015</td><td>61.20715986491478</td><td>78.37845498743934</td><td>38.15059197742434</td><td>100.44711082480892</td><td>115.93713240214971</td><td>99.88346091604912</td><td>-0.5636499087597997</td><td>1</td></tr><tr><td>39.6936021567909</td><td>61.49211901932896</td><td>86.45044995778102</td><td>46.756847800990116</td><td>104.27677296777895</td><td>124.02647231805112</td><td>141.16456103248962</td><td>36.88778806471066</td><td>1</td></tr><tr><td>44.66502977701769</td><td>65.12749573319316</td><td>86.24424587923258</td><td>41.579216102214886</td><td>108.24960345125153</td><td>124.32648089199358</td><td>141.7619949886343</td><td>33.51239153738278</td><td>1</td></tr><tr><td>34.81950002559885</td><td>55.69245338568137</td><td>76.10577105358198</td><td>41.286271027983126</td><td>100.01364325114614</td><td>102.33009979234093</td><td>99.97287431644703</td><td>-0.04076893469910203</td><td>1</td></tr><tr><td>33.400281366803284</td><td>57.48523045574371</td><td>80.5306240176236</td><td>47.13034265082031</td><td>104.33459351255246</td><td>123.1973253380942</td><td>143.7132324775448</td><td>39.37863896499235</td><td>0</td></tr><tr><td>33.19117183035631</td><td>53.74231225581977</td><td>74.0936769336067</td><td>40.90250510325039</td><td>100.42182523021239</td><td>120.17386166415825</td><td>146.07362133249322</td><td>45.65179610228083</td><td>1</td></tr><tr><td>39.76327946781694</td><td>58.17874362126202</td><td>76.46183463076959</td><td>36.698555162952644</td><td>100.07335495549334</td><td>100.40644378168756</td><td>99.9974306673814</td><td>-0.07592428811194907</td><td>1</td></tr><tr><td>46.0899248599749</td><td>62.00305444616367</td><td>81.76329843931848</td><td>35.673373579343576</td><td>101.29110936258297</td><td>120.7887993879325</td><td>99.95601621302347</td><td>-1.3350931495594978</td><td>1</td></tr><tr><td>46.12391410598095</td><td>62.805076898587416</td><td>85.57447013613562</td><td>39.450556030154665</td><td>100.22337480414744</td><td>113.56582168746057</td><td>99.5805981698524</td><td>-0.6427766342950463</td><td>1</td></tr><tr><td>41.47980034204188</td><td>60.33176820110047</td><td>79.09800816683128</td><td>37.6182078247894</td><td>111.03640895663345</td><td>128.97349983040715</td><td>145.42186649178058</td><td>34.385457535147125</td><td>1</td></tr><tr><td>34.095892303800554</td><td>56.32850879426887</td><td>79.21182886106195</td><td>45.11593655726139</td><td>100.50524783102894</td><td>118.15092446289303</td><td>99.97655279485326</td><td>-0.5286950361756766</td><td>1</td></tr><tr><td>38.593996078166626</td><td>57.09841706831352</td><td>77.3091791027802</td><td>38.71518302461358</td><td>110.93163640465659</td><td>128.2647892266181</td><td>146.86434592188235</td><td>35.93270951722576</td><td>1</td></tr><tr><td>36.15229748676353</td><td>60.69659714319948</td><td>86.3659746069859</td><td>50.21367712022237</td><td>100.28426375765864</td><td>114.03051092791738</td><td>99.85172580624139</td><td>-0.4325379514172454</td><td>1</td></tr><tr><td>44.389930254465185</td><td>64.79134795080117</td><td>85.20837248472212</td><td>40.818442230256935</td><td>100.27239663992964</td><td>118.55985421086311</td><td>137.9072834399244</td><td>37.634886799994774</td><td>1</td></tr><tr><td>38.89026207654081</td><td>59.59871991222752</td><td>80.21293093771789</td><td>41.32266886117708</td><td>111.40192768570455</td><td>127.8120588451098</td><td>145.58412304766318</td><td>34.182195361958634</td><td>1</td></tr><tr><td>40.24373154948981</td><td>61.4501530961313</td><td>78.43823812308922</td><td>38.19450657359941</td><td>100.03352664082689</td><td>113.97401562040766</td><td>99.72196152697484</td><td>-0.31156511385205476</td><td>0</td></tr><tr><td>33.234369336413764</td><td>59.03776643551868</td><td>76.46113150608367</td><td>43.22676216966991</td><td>100.620450020546</td><td>113.2908055611793</td><td>99.63962079835427</td><td>-0.9808292221917299</td><td>1</td></tr><tr><td>35.65815247230847</td><td>54.041664494120965</td><td>75.73365775275602</td><td>40.075505280447544</td><td>100.34823326675331</td><td>118.61660315609313</td><td>98.22391720814383</td><td>-2.1243160586094803</td><td>1</td></tr><tr><td>41.68597213395739</td><td>60.86858172730279</td><td>80.9377646099696</td><td>39.25179247601221</td><td>100.10212304971185</td><td>115.72039120387171</td><td>99.68778150762296</td><td>-0.4143415420888914</td><td>1</td></tr><tr><td>35.861049110231455</td><td>58.70310007504026</td><td>79.73720803978584</td><td>43.876158929554386</td><td>109.51022829964553</td><td>130.04399363898395</td><td>157.1145588771367</td><td>47.604330577491154</td><td>1</td></tr><tr><td>34.53460083172412</td><td>54.53415609599712</td><td>72.02885450327871</td><td>37.49425367155459</td><td>106.13267191980174</td><td>125.63253952582863</td><td>146.15429852308597</td><td>40.02162660328423</td><td>1</td></tr><tr><td>34.35938396572287</td><td>55.22064537219994</td><td>77.90939431970732</td><td>43.55001035398445</td><td>100.52903907529074</td><td>118.35158886208228</td><td>140.4254435193391</td><td>39.89640444404836</td><td>1</td></tr><tr><td>37.72115984533641</td><td>60.036906447910106</td><td>77.1815899974846</td><td>39.460430152148184</td><td>100.83469564631903</td><td>116.50853841568045</td><td>99.37310073722026</td><td>-1.4615949090987783</td><td>1</td></tr><tr><td>37.62393055249669</td><td>55.73095401934351</td><td>72.63669758951863</td><td>35.012767037021945</td><td>100.00508910227533</td><td>101.21382047770688</td><td>99.99853187098664</td><td>-0.006557231288695675</td><td>1</td></tr><tr><td>36.53058196137597</td><td>58.06265766863436</td><td>81.93748394656768</td><td>45.40690198519171</td><td>109.56353722125286</td><td>139.56763935762407</td><td>159.2742694198884</td><td>49.710732198635554</td><td>1</td></tr><tr><td>33.44787850223434</td><td>60.26394902297492</td><td>84.15786982953017</td><td>50.70999132729583</td><td>100.06067636529934</td><td>108.84968518037822</td><td>99.89464677033509</td><td>-0.1660295949642574</td><td>1</td></tr><tr><td>40.28566599441181</td><td>59.27462071544993</td><td>80.22447181438994</td><td>39.938805819978136</td><td>100.09177671619176</td><td>112.97301740331201</td><td>99.25510173201752</td><td>-0.8366749841742376</td><td>1</td></tr><tr><td>39.3775162836676</td><td>57.887359466072745</td><td>76.55445602554573</td><td>37.17693974187813</td><td>101.32231870413801</td><td>116.0864856909213</td><td>99.55852980772548</td><td>-1.7637888964125352</td><td>0</td></tr><tr><td>37.5634360306536</td><td>62.0158739965664</td><td>80.80542422241086</td><td>43.241988191757265</td><td>100.15134638573684</td><td>115.31312956169607</td><td>99.9713903757204</td><td>-0.1799560100164399</td><td>1</td></tr><tr><td>36.913842980507965</td><td>52.388374294475874</td><td>75.13578989430718</td><td>38.221946913799215</td><td>100.05063666458214</td><td>106.5808433930933</td><td>99.75963730086131</td><td>-0.2909993637208288</td><td>1</td></tr><tr><td>40.557471134468756</td><td>59.483376445330684</td><td>82.52588120834453</td><td>41.96841007387577</td><td>100.34084991029982</td><td>118.43949066983181</td><td>99.68481418402484</td><td>-0.656035726274979</td><td>1</td></tr><tr><td>45.98493909872015</td><td>64.0755237505133</td><td>88.10602364114983</td><td>42.121084542429685</td><td>102.61513242694042</td><td>121.33615592328697</td><td>99.67999932624261</td><td>-2.9351331006978114</td><td>1</td></tr><tr><td>47.717402100209206</td><td>66.04979884279302</td><td>85.2138914437905</td><td>37.496489343581295</td><td>116.83870412831813</td><td>140.969821301336</td><td>160.09399116884356</td><td>43.25528704052543</td><td>1</td></tr><tr><td>35.44611988565245</td><td>59.37348105733873</td><td>87.52594298392826</td><td>52.07982309827581</td><td>100.12396777950165</td><td>117.84760442488825</td><td>99.84949236297605</td><td>-0.27447541652560403</td><td>1</td></tr><tr><td>39.862452336278935</td><td>55.59317171571702</td><td>75.53289465746508</td><td>35.670442321186144</td><td>106.66590039547704</td><td>123.20272867739769</td><td>143.50530269508084</td><td>36.839402299603805</td><td>1</td></tr><tr><td>32.47036248551807</td><td>52.424440352134525</td><td>80.33124785976788</td><td>47.86088537424981</td><td>101.65720242629189</td><td>118.48339844488035</td><td>99.00261420583612</td><td>-2.6545882204557643</td><td>1</td></tr><tr><td>45.877855596835644</td><td>65.77158795983792</td><td>87.38550966987225</td><td>41.507654073036605</td><td>109.88395411696797</td><td>129.93410943916564</td><td>150.01785937865634</td><td>40.13390526168837</td><td>0</td></tr><tr><td>37.35310699220359</td><td>55.63367481429592</td><td>77.13048980524098</td><td>39.77738281303739</td><td>100.68006184924917</td><td>119.41640895320889</td><td>94.11140182645445</td><td>-6.568660022794717</td><td>1</td></tr><tr><td>34.999010898971946</td><td>55.34491181509667</td><td>80.7669362745489</td><td>45.76792537557695</td><td>104.42860577922332</td><td>133.6650718140567</td><td>152.78536218773195</td><td>48.35675640850863</td><td>1</td></tr><tr><td>34.670437164541866</td><td>53.91313260480513</td><td>77.21329892876813</td><td>42.54286176422626</td><td>100.89333763879179</td><td>116.91442623980258</td><td>97.92058014037217</td><td>-2.972757498419625</td><td>1</td></tr><tr><td>39.81456292834374</td><td>62.421957213310804</td><td>80.4448543296616</td><td>40.630291401317855</td><td>100.07559171604476</td><td>111.50575055466899</td><td>99.84629065270894</td><td>-0.2293010633358108</td><td>1</td></tr><tr><td>40.5725871113477</td><td>59.22153492409577</td><td>78.94901103302296</td><td>38.376423921675254</td><td>100.55049225185775</td><td>112.2799833660019</td><td>99.76607157415609</td><td>-0.7844206777016609</td><td>1</td></tr><tr><td>42.191854767488216</td><td>63.45575454517263</td><td>84.66563405886801</td><td>42.47377929137979</td><td>110.1060234499856</td><td>130.22813006992754</td><td>147.8921652099337</td><td>37.786141759948094</td><td>1</td></tr><tr><td>37.06748642508646</td><td>58.061897581508255</td><td>79.649591667893</td><td>42.58210524280655</td><td>101.14321943906779</td><td>117.35604991652369</td><td>98.48446582608204</td><td>-2.6587536129857483</td><td>1</td></tr><tr><td>46.78409831410639</td><td>63.8218881911278</td><td>83.96043684463683</td><td>37.176338530530444</td><td>100.03205145313527</td><td>113.53055629236879</td><td>99.83320933263089</td><td>-0.19884212050438066</td><td>1</td></tr><tr><td>39.06188814482455</td><td>59.853724234695115</td><td>81.8554938003488</td><td>42.793605655524246</td><td>100.37520168653883</td><td>113.47557653289192</td><td>99.16005858935392</td><td>-1.2151430971849067</td><td>1</td></tr><tr><td>38.63588872373943</td><td>60.781093249067546</td><td>78.6298167213985</td><td>39.99392799765907</td><td>103.63154407671576</td><td>120.80376285323405</td><td>140.52698289526586</td><td>36.895438818550105</td><td>1</td></tr><tr><td>37.76622929576435</td><td>56.416785245686334</td><td>73.51938029831156</td><td>35.75315100254721</td><td>100.18696215656882</td><td>116.07197606258173</td><td>99.01914108867909</td><td>-1.167821067889733</td><td>1</td></tr><tr><td>40.380267084910116</td><td>57.456167330787096</td><td>81.0670561150617</td><td>40.68678903015159</td><td>100.4010415346881</td><td>117.2521961079475</td><td>97.11068860762674</td><td>-3.290352927061363</td><td>1</td></tr><tr><td>37.480067605560265</td><td>60.66545457362957</td><td>79.88658410626604</td><td>42.40651650070578</td><td>100.29650523998708</td><td>113.35362962050536</td><td>99.92300231213113</td><td>-0.3735029278559523</td><td>1</td></tr><tr><td>34.17605647297362</td><td>61.338694535177986</td><td>77.92535698891709</td><td>43.74930051594347</td><td>101.67873989513386</td><td>119.60388671617247</td><td>144.3898684322334</td><td>42.711128537099555</td><td>1</td></tr><tr><td>30.941541620663333</td><td>51.982755410973475</td><td>71.23092396372233</td><td>40.289382343059</td><td>100.47035829651166</td><td>110.08319786482704</td><td>99.97635116362574</td><td>-0.4940071328859261</td><td>1</td></tr><tr><td>37.977666814567435</td><td>56.789874025879016</td><td>80.33052213837009</td><td>42.35285532380265</td><td>100.16124683537826</td><td>113.73447546275965</td><td>99.90579845128438</td><td>-0.2554483840938815</td><td>1</td></tr><tr><td>30.746553415539502</td><td>56.004742387198554</td><td>78.93520022859508</td><td>48.18864681305558</td><td>100.023862769662</td><td>104.80020775544126</td><td>99.93326590961809</td><td>-0.09059686004391665</td><td>1</td></tr><tr><td>38.76727629397246</td><td>59.9893379579239</td><td>80.06706881130991</td><td>41.29979251733745</td><td>100.23276968479614</td><td>117.33106969921658</td><td>135.13542154110272</td><td>34.902651856306576</td><td>1</td></tr><tr><td>35.80080564755191</td><td>57.13580445457</td><td>80.67264002675559</td><td>44.871834379203676</td><td>110.60998891887887</td><td>131.30424109599002</td><td>146.91028444818068</td><td>36.300295529301806</td><td>1</td></tr><tr><td>41.342599324061865</td><td>58.98893820302224</td><td>78.364252455226</td><td>37.02165313116413</td><td>100.00469966754196</td><td>110.50618900827641</td><td>99.99900889132657</td><td>-0.005690776215388382</td><td>1</td></tr><tr><td>40.46772739505505</td><td>58.56506475677454</td><td>76.9090465893668</td><td>36.441319194311745</td><td>100.57890022836835</td><td>119.51206774464029</td><td>145.08445622091955</td><td>44.505555992551194</td><td>0</td></tr><tr><td>38.53275911743127</td><td>55.549513739766724</td><td>77.12150458544271</td><td>38.58874546801144</td><td>119.42356854777685</td><td>136.9984064487469</td><td>155.14685705125075</td><td>35.723288503473896</td><td>1</td></tr><tr><td>42.29377614541016</td><td>62.873972970644594</td><td>86.12892342409583</td><td>43.83514727868567</td><td>112.36316417755248</td><td>132.34321833006277</td><td>152.6201794351445</td><td>40.25701525759203</td><td>1</td></tr><tr><td>44.42509102001331</td><td>62.30370604541888</td><td>82.8763771361188</td><td>38.45128611610549</td><td>108.9761263948096</td><td>130.56925808885606</td><td>151.20949572618994</td><td>42.233369331380345</td><td>1</td></tr><tr><td>36.387152489058735</td><td>56.97282837219495</td><td>80.35332943506626</td><td>43.96617694600752</td><td>100.51204250736872</td><td>119.31251113885675</td><td>135.9219360504323</td><td>35.409893543063575</td><td>0</td></tr><tr><td>39.547544972743154</td><td>62.44551695326597</td><td>83.13041784592205</td><td>43.5828728731789</td><td>103.51399866306971</td><td>121.62587497704517</td><td>141.1536933322524</td><td>37.63969466918269</td><td>1</td></tr><tr><td>35.33082972916675</td><td>57.784613293791026</td><td>74.51493900252812</td><td>39.18410927336137</td><td>101.04096255445059</td><td>115.82969276693001</td><td>99.55575114216543</td><td>-1.4852114122851532</td><td>0</td></tr><tr><td>40.72571048453764</td><td>60.38687385654139</td><td>77.89597991266936</td><td>37.17026942813172</td><td>100.40163556952835</td><td>117.63411672169848</td><td>99.50216920652616</td><td>-0.8994663630021904</td><td>0</td></tr><tr><td>31.151609878214547</td><td>53.45054361310295</td><td>73.52563505704856</td><td>42.37402517883402</td><td>100.00047494315271</td><td>107.34686137555215</td><td>99.79624211704936</td><td>-0.20423282610335036</td><td>1</td></tr><tr><td>41.92294668719911</td><td>62.51187808522047</td><td>82.49467018543965</td><td>40.57172349824054</td><td>113.28881806796403</td><td>129.93351467008648</td><td>149.78673697749298</td><td>36.49791890952895</td><td>1</td></tr><tr><td>34.4822532594155</td><td>53.395754822290634</td><td>71.55322464132297</td><td>37.07097138190747</td><td>100.20568224291313</td><td>111.41058016577429</td><td>99.6450282141568</td><td>-0.560654028756332</td><td>1</td></tr><tr><td>36.325196767655086</td><td>56.93559514422796</td><td>76.20593056790283</td><td>39.88073380024774</td><td>100.36492359632338</td><td>112.88199814194881</td><td>99.78508649915624</td><td>-0.5798370971671432</td><td>1</td></tr><tr><td>35.98140816648891</td><td>55.62044968533331</td><td>76.283627254242</td><td>40.302219087753095</td><td>100.74720147277876</td><td>116.93630692247784</td><td>98.55109046185203</td><td>-2.196111010926728</td><td>1</td></tr><tr><td>35.434933252289945</td><td>53.1177851516478</td><td>71.80707548328652</td><td>36.37214223099658</td><td>103.65774554236587</td><td>124.01514830131207</td><td>143.3153487380608</td><td>39.65760319569493</td><td>1</td></tr><tr><td>42.05196486363794</td><td>61.16568117110159</td><td>81.072907693763</td><td>39.02094283012506</td><td>105.96643345848128</td><td>128.12016382327522</td><td>144.39547452077326</td><td>38.42904106229199</td><td>1</td></tr><tr><td>38.89609932937924</td><td>58.62649961926906</td><td>79.12902489058696</td><td>40.23292556120772</td><td>101.64090145166051</td><td>119.91799181850597</td><td>97.11729869844962</td><td>-4.523602753210895</td><td>1</td></tr><tr><td>42.36374086384707</td><td>60.98687597401643</td><td>82.76505891691431</td><td>40.40131805306724</td><td>100.01981941439784</td><td>103.23098995635644</td><td>99.99221544601205</td><td>-0.027603968385790267</td><td>1</td></tr><tr><td>35.77165648637379</td><td>53.70145732314793</td><td>76.71074007758504</td><td>40.93908359121125</td><td>100.41341993098916</td><td>110.34828598517</td><td>99.8405726504618</td><td>-0.5728472805273697</td><td>1</td></tr><tr><td>38.41046788949144</td><td>58.97467160584214</td><td>78.17559480613683</td><td>39.765126916645386</td><td>105.13715753594184</td><td>126.83363868111576</td><td>144.07045293783375</td><td>38.93329540189191</td><td>1</td></tr><tr><td>38.62034674106212</td><td>56.609171210201616</td><td>83.07291123700497</td><td>44.45256449594285</td><td>100.66942306705548</td><td>114.19553447990967</td><td>99.86124642864893</td><td>-0.8081766384065503</td><td>1</td></tr><tr><td>33.5796062557465</td><td>53.70277803556437</td><td>77.87212191646968</td><td>44.29251566072318</td><td>100.01453173180866</td><td>105.05718882099545</td><td>99.95243842093767</td><td>-0.06209331087099201</td><td>1</td></tr><tr><td>34.15892511930976</td><td>56.16410340925965</td><td>77.10505835048048</td><td>42.94613323117072</td><td>100.21148395377882</td><td>115.99740688959257</td><td>99.69192403230895</td><td>-0.5195599214698774</td><td>1</td></tr><tr><td>35.536286684492836</td><td>56.49875893257005</td><td>75.44054317484212</td><td>39.90425649034928</td><td>106.34678078804504</td><td>125.44598372762361</td><td>146.60931180891322</td><td>40.26253102086818</td><td>0</td></tr><tr><td>39.7806560676494</td><td>62.88579165028098</td><td>85.32391782180024</td><td>45.543261754150834</td><td>100.409847500516</td><td>113.3775897316643</td><td>99.32207985745423</td><td>-1.0877676430617669</td><td>1</td></tr><tr><td>31.290072788176666</td><td>54.899711934948215</td><td>75.99414222594729</td><td>44.70406943777062</td><td>100.13061805310629</td><td>114.34595970020983</td><td>99.43230188879039</td><td>-0.6983161643158979</td><td>1</td></tr><tr><td>32.23604812189599</td><td>56.90481970066103</td><td>78.97563292848301</td><td>46.73958480658702</td><td>100.11123256790542</td><td>102.44450666746518</td><td>99.93026145285762</td><td>-0.18097111504779662</td><td>1</td></tr><tr><td>39.96826142850969</td><td>58.061657685029544</td><td>76.18595636998592</td><td>36.217694941476225</td><td>100.0112382796429</td><td>109.5841769139639</td><td>99.95951710420148</td><td>-0.05172117544141486</td><td>1</td></tr><tr><td>45.65510079226791</td><td>65.34297928233957</td><td>88.2611430673509</td><td>42.60604227508299</td><td>100.68676185889211</td><td>118.49810617793833</td><td>138.51606716037833</td><td>37.829305301486215</td><td>0</td></tr><tr><td>34.02186124121887</td><td>56.88267102244904</td><td>82.69321189137617</td><td>48.671350650157294</td><td>105.24318163048709</td><td>123.96687405542409</td><td>149.32803097254558</td><td>44.08484934205849</td><td>0</td></tr><tr><td>35.1852252874053</td><td>59.65207632404213</td><td>80.97003504544736</td><td>45.78480975804206</td><td>109.12265219084095</td><td>124.7832209748081</td><td>142.83875668536132</td><td>33.716104494520366</td><td>1</td></tr><tr><td>32.754803941113664</td><td>54.827834189170176</td><td>72.86464787124947</td><td>40.10984393013581</td><td>103.19125431866156</td><td>122.83209401833943</td><td>143.53152071474673</td><td>40.34026639608517</td><td>1</td></tr><tr><td>35.215331654684036</td><td>56.09250379342897</td><td>76.5261388854639</td><td>41.31080723077986</td><td>100.31088741409124</td><td>112.59051339511332</td><td>99.99172233621148</td><td>-0.31916507787975945</td><td>1</td></tr><tr><td>30.83377142173874</td><td>50.335146758794565</td><td>66.48645905116236</td><td>35.65268762942362</td><td>100.01926212423875</td><td>101.17717775211234</td><td>99.9304225460753</td><td>-0.08883957816344434</td><td>1</td></tr><tr><td>31.706367174058034</td><td>53.39830045019755</td><td>76.88274624420878</td><td>45.176379070150745</td><td>100.06533907794939</td><td>109.2322476287906</td><td>99.96728497955553</td><td>-0.09805409839385959</td><td>1</td></tr><tr><td>39.86099265021096</td><td>58.90129165964046</td><td>78.21619803475096</td><td>38.35520538454</td><td>103.44149792380148</td><td>127.36188780526082</td><td>150.54875911364795</td><td>47.10726118984647</td><td>1</td></tr><tr><td>42.75943526703975</td><td>62.36425430495572</td><td>85.55416412040407</td><td>42.79472885336432</td><td>108.577058160028</td><td>128.8708375575252</td><td>148.2206587122707</td><td>39.6436005522427</td><td>1</td></tr><tr><td>42.340254162019534</td><td>61.28096061852517</td><td>78.96645218462324</td><td>36.6261980226037</td><td>100.11899754017378</td><td>117.45913094553258</td><td>99.45785962212673</td><td>-0.6611379180470465</td><td>1</td></tr><tr><td>41.047313796984255</td><td>62.56235734124698</td><td>82.96399126959079</td><td>41.91667747260654</td><td>100.14930757932704</td><td>118.4369344442009</td><td>140.55210568319228</td><td>40.40279810386524</td><td>1</td></tr><tr><td>43.51272059399926</td><td>61.535264221129054</td><td>78.68280187787781</td><td>35.170081283878545</td><td>100.27774516131498</td><td>115.35464938159883</td><td>99.96311136002484</td><td>-0.3146338012901424</td><td>1</td></tr><tr><td>32.575230975987424</td><td>56.97346936884916</td><td>82.30258352967006</td><td>49.727352553682636</td><td>107.46778935710063</td><td>131.97780860360635</td><td>153.0332235860397</td><td>45.56543422893907</td><td>1</td></tr><tr><td>43.50860920899864</td><td>61.09860402408016</td><td>78.40134816237098</td><td>34.89273895337234</td><td>101.44474633867947</td><td>122.74774992463762</td><td>143.41181218653503</td><td>41.967065847855565</td><td>1</td></tr><tr><td>36.608102671950334</td><td>55.614447990215</td><td>74.31304701802445</td><td>37.704944346074114</td><td>100.05687157930936</td><td>103.6615626240543</td><td>99.93201647884199</td><td>-0.12485510046737147</td><td>1</td></tr><tr><td>39.13179522924644</td><td>60.34437835593993</td><td>80.77263818383852</td><td>41.64084295459208</td><td>104.86737812247382</td><td>126.06302458428354</td><td>144.35451282151604</td><td>39.487134699042215</td><td>1</td></tr><tr><td>31.142248604411336</td><td>54.32716658737448</td><td>72.83649877117173</td><td>41.6942501667604</td><td>101.25966773785103</td><td>119.8851060718591</td><td>98.12203011041326</td><td>-3.137637627437769</td><td>1</td></tr><tr><td>36.95203323444619</td><td>56.69285915627584</td><td>73.5698769549164</td><td>36.617843720470205</td><td>113.50636967319714</td><td>131.58807500473574</td><td>152.50599986530545</td><td>38.99963019210831</td><td>1</td></tr><tr><td>39.5308701887711</td><td>62.2207798629222</td><td>80.28403989507044</td><td>40.75316970629934</td><td>109.16689213922479</td><td>126.95512466743256</td><td>144.596638994211</td><td>35.429746854986206</td><td>0</td></tr><tr><td>40.08755979350509</td><td>59.78665652590695</td><td>84.67186085143157</td><td>44.58430105792648</td><td>100.05146695384728</td><td>113.30570823446087</td><td>99.69749691268568</td><td>-0.35397004116160247</td><td>1</td></tr><tr><td>37.72266185063575</td><td>58.109445804961396</td><td>79.14050598789314</td><td>41.41784413725738</td><td>100.06038767638879</td><td>113.58710886111574</td><td>99.58964066868249</td><td>-0.47074700770629363</td><td>1</td></tr><tr><td>34.62919814659236</td><td>56.04499310330301</td><td>80.93974333149336</td><td>46.310545184901</td><td>106.4310844802903</td><td>123.74481661471785</td><td>146.57202772967057</td><td>40.14094324938027</td><td>0</td></tr><tr><td>40.69405711634003</td><td>60.590923515730076</td><td>84.33467330191542</td><td>43.64061618557538</td><td>101.2675731835248</td><td>122.80820484232825</td><td>141.9686277762023</td><td>40.70105459267751</td><td>1</td></tr><tr><td>35.081533242156155</td><td>52.5994830048387</td><td>75.13529512118356</td><td>40.053761879027405</td><td>100.97384813770287</td><td>118.48186286205126</td><td>98.33581963181763</td><td>-2.638028505885245</td><td>1</td></tr><tr><td>34.63565893256789</td><td>52.552178979645504</td><td>68.63211998551064</td><td>33.99646105294275</td><td>100.27600684477886</td><td>107.78240829735611</td><td>99.64322809394629</td><td>-0.6327787508325713</td><td>1</td></tr><tr><td>42.45777991563946</td><td>62.5424434514974</td><td>81.13869678054732</td><td>38.68091686490786</td><td>100.05132656925797</td><td>114.55230135096309</td><td>99.22272953631628</td><td>-0.828597032941687</td><td>1</td></tr><tr><td>38.23017216577439</td><td>57.032067274628595</td><td>75.29136160623966</td><td>37.06118944046527</td><td>100.07523492530424</td><td>111.5132823320559</td><td>99.92718449172682</td><td>-0.1480504335774242</td><td>1</td></tr><tr><td>37.20960952493616</td><td>57.7572613547451</td><td>76.500532513026</td><td>39.29092298808984</td><td>100.00718672327974</td><td>108.8329637914066</td><td>99.93779907155307</td><td>-0.0693876517266716</td><td>1</td></tr><tr><td>34.06089227642805</td><td>57.699605539494904</td><td>76.60923583250687</td><td>42.54834355607882</td><td>100.09401059774561</td><td>112.23873368478687</td><td>99.61273934277108</td><td>-0.48127125497452994</td><td>0</td></tr><tr><td>36.55140653156983</td><td>60.675501719665704</td><td>80.65897629036112</td><td>44.10756975879129</td><td>111.7771085642273</td><td>128.94147601951747</td><td>147.77884388043665</td><td>36.00173531620935</td><td>1</td></tr><tr><td>39.27842141080888</td><td>62.349673580982575</td><td>86.181626232445</td><td>46.903204821636116</td><td>101.25234748774054</td><td>120.6266374192412</td><td>99.60570793230565</td><td>-1.6466395554348878</td><td>1</td></tr><tr><td>37.91714651730291</td><td>59.535291523259666</td><td>81.04600857615985</td><td>43.12886205885694</td><td>103.51055149885407</td><td>123.48098652565811</td><td>141.31486623399098</td><td>37.80431473513691</td><td>1</td></tr><tr><td>43.43393972289699</td><td>65.599364114848</td><td>90.06316877516574</td><td>46.62922905226875</td><td>100.14841227738043</td><td>120.59404304427035</td><td>140.70893801557898</td><td>40.56052573819855</td><td>1</td></tr><tr><td>47.497751789457865</td><td>65.09443389021877</td><td>83.46510632944569</td><td>35.967354539987824</td><td>100.49948598998331</td><td>115.11933899654937</td><td>99.19782250471113</td><td>-1.3016634852721864</td><td>1</td></tr><tr><td>43.30164972871465</td><td>60.9169779524695</td><td>78.7312930178713</td><td>35.429643289156644</td><td>100.19903382399012</td><td>119.08647638675849</td><td>98.62849113902928</td><td>-1.5705426849608415</td><td>0</td></tr><tr><td>38.02099057616416</td><td>60.09986360833688</td><td>81.1244513505504</td><td>43.10346077438624</td><td>103.93742827880531</td><td>123.1092014897493</td><td>142.0331189981927</td><td>38.09569071938738</td><td>1</td></tr><tr><td>32.85102451121916</td><td>53.996109697722694</td><td>74.01764493263713</td><td>41.16662042141797</td><td>100.20829217725561</td><td>109.95984042773122</td><td>99.9479671105992</td><td>-0.26032506665642074</td><td>1</td></tr><tr><td>33.09345079387374</td><td>52.44417122106422</td><td>68.76633239763808</td><td>35.67288160376434</td><td>100.0001296195089</td><td>107.17945905721444</td><td>99.98304974462894</td><td>-0.017079874879954104</td><td>1</td></tr><tr><td>31.697221923792224</td><td>54.4723519845188</td><td>74.80235255967617</td><td>43.10513063588394</td><td>100.05161379213656</td><td>99.35687844317113</td><td>99.96935348634521</td><td>-0.08226030579135113</td><td>1</td></tr><tr><td>44.235326260249394</td><td>60.42256176314894</td><td>78.89107161553368</td><td>34.65574535528428</td><td>101.08175815534649</td><td>119.9613164392822</td><td>143.03267046187136</td><td>41.95091230652487</td><td>1</td></tr><tr><td>50.878013535195336</td><td>69.7582290562508</td><td>89.62675208783813</td><td>38.74873855264279</td><td>108.49214484277707</td><td>134.30676746473694</td><td>156.88865587353385</td><td>48.396511030756784</td><td>0</td></tr><tr><td>29.248031720920373</td><td>52.72219489285437</td><td>73.85747729657956</td><td>44.60944557565919</td><td>100.07754157362515</td><td>111.64093436298818</td><td>98.93700118469363</td><td>-1.1405403889315266</td><td>1</td></tr><tr><td>42.0715353555213</td><td>60.12761602451012</td><td>79.3788950879054</td><td>37.30735973238411</td><td>100.34504046144191</td><td>109.56012470925296</td><td>99.61525738715396</td><td>-0.7297830742879512</td><td>1</td></tr><tr><td>38.571519625319674</td><td>59.48189159524812</td><td>75.27806804728438</td><td>36.706548421964705</td><td>100.5853449357723</td><td>123.95945125575354</td><td>142.69399797447076</td><td>42.10865303869846</td><td>1</td></tr><tr><td>36.81314524579027</td><td>56.885933665210395</td><td>77.40979894826015</td><td>40.59665370246988</td><td>100.26116884121716</td><td>112.64005489184483</td><td>99.92821460244328</td><td>-0.33295423877387975</td><td>1</td></tr><tr><td>40.93492114340846</td><td>63.08843411519338</td><td>82.0187006307799</td><td>41.083779487371444</td><td>107.06705288162065</td><td>126.09905832008154</td><td>145.20776487303473</td><td>38.14071199141408</td><td>0</td></tr><tr><td>34.62440883844944</td><td>51.8140340588965</td><td>74.84566435202666</td><td>40.22125551357722</td><td>100.2412619647662</td><td>114.13918373266662</td><td>99.45160714433264</td><td>-0.7896548204335545</td><td>1</td></tr><tr><td>36.59431466517516</td><td>59.05038854482371</td><td>79.36029710831231</td><td>42.76598244313715</td><td>101.15981451209782</td><td>115.9732815932727</td><td>97.57051238695342</td><td>-3.5893021251443997</td><td>0</td></tr><tr><td>30.02317882045495</td><td>54.620975473001145</td><td>79.06158841467433</td><td>49.03840959421938</td><td>100.08133062919269</td><td>104.4547683421351</td><td>99.99281855573945</td><td>-0.08851207345324497</td><td>1</td></tr><tr><td>35.75245157388686</td><td>53.706214183601965</td><td>73.7159139431681</td><td>37.963462369281245</td><td>109.56250495550148</td><td>128.12308584176236</td><td>146.9241345883675</td><td>37.36162963286603</td><td>1</td></tr><tr><td>44.68478356669803</td><td>63.85453517599894</td><td>89.94019376696926</td><td>45.25541020027123</td><td>105.14394539164846</td><td>124.34403326122224</td><td>147.06054867875744</td><td>41.916603287108984</td><td>1</td></tr><tr><td>37.3774360494513</td><td>57.65786534595617</td><td>78.43791258501716</td><td>41.06047653556586</td><td>100.56297908044064</td><td>120.37503973106395</td><td>141.89050770228567</td><td>41.32752862184503</td><td>1</td></tr><tr><td>31.423244170845372</td><td>54.72651413549743</td><td>72.96256176844041</td><td>41.53931759759504</td><td>101.7343773385541</td><td>120.62348199335035</td><td>99.13315342356002</td><td>-2.6012239149940797</td><td>1</td></tr><tr><td>42.43505840565152</td><td>58.02327833352048</td><td>79.93849815787117</td><td>37.50343975221965</td><td>111.31490640656057</td><td>129.58700135158583</td><td>155.02273448271052</td><td>43.70782807614995</td><td>1</td></tr><tr><td>38.94534186556935</td><td>63.754478270084235</td><td>85.1011099308985</td><td>46.155768065329156</td><td>116.49862553823117</td><td>136.37618282724523</td><td>153.90237990264023</td><td>37.40375436440907</td><td>1</td></tr><tr><td>36.50139972148455</td><td>55.21727743239163</td><td>72.06143171049794</td><td>35.56003198901339</td><td>100.1452427818188</td><td>113.37942058048388</td><td>99.63606264217827</td><td>-0.5091801396405202</td><td>1</td></tr><tr><td>33.62787524901559</td><td>54.288352770972345</td><td>71.58238018375592</td><td>37.95450493474033</td><td>100.07128168202232</td><td>112.6691603905874</td><td>99.78984148191341</td><td>-0.2814402001089036</td><td>1</td></tr><tr><td>37.8325622321328</td><td>56.03588560510597</td><td>76.13506513762941</td><td>38.30250290549661</td><td>100.13518138626496</td><td>107.4757531704789</td><td>99.97473823291188</td><td>-0.16044315335308568</td><td>1</td></tr><tr><td>38.34683388591853</td><td>57.824454441449014</td><td>77.21141830939618</td><td>38.86458442347765</td><td>100.07659987636079</td><td>108.70754172171173</td><td>99.85440882920892</td><td>-0.22219104715186688</td><td>1</td></tr><tr><td>38.15849899661341</td><td>55.36269820138385</td><td>71.69159589858783</td><td>33.533096901974424</td><td>100.03975150168135</td><td>112.46132395619571</td><td>99.34959542306073</td><td>-0.6901560786206176</td><td>1</td></tr><tr><td>38.79487987004811</td><td>62.30198218313579</td><td>78.23762698341028</td><td>39.44274711336217</td><td>104.83455377118872</td><td>128.76082086570102</td><td>149.2726918677935</td><td>44.438138096604774</td><td>1</td></tr><tr><td>41.446143345683545</td><td>62.058096235317926</td><td>81.24101574794206</td><td>39.79487240225851</td><td>105.96962678839257</td><td>125.89084628451705</td><td>145.7203154992813</td><td>39.750688710888724</td><td>1</td></tr><tr><td>46.692892347885376</td><td>65.92411272793555</td><td>85.77974164236753</td><td>39.08684929448215</td><td>108.7242374970565</td><td>131.80671437687576</td><td>156.32473894599153</td><td>47.60050144893502</td><td>1</td></tr><tr><td>44.59685767846577</td><td>63.43213272101563</td><td>85.2325229003548</td><td>40.63566522188903</td><td>108.20585983059442</td><td>128.41715085654386</td><td>149.68051690080603</td><td>41.474657070211606</td><td>0</td></tr><tr><td>37.431368578779775</td><td>57.75708563241984</td><td>76.66075129987732</td><td>39.229382721097544</td><td>108.81608504488571</td><td>127.57827349780985</td><td>150.1601993939451</td><td>41.344114349059396</td><td>0</td></tr><tr><td>44.01926572182347</td><td>63.96699762329367</td><td>83.03923799644545</td><td>39.01997227462198</td><td>113.3833545243216</td><td>131.25598020960956</td><td>147.08515230490008</td><td>33.701797780578474</td><td>1</td></tr><tr><td>40.32060462047961</td><td>61.78684693865401</td><td>81.47748759150431</td><td>41.15688297102471</td><td>101.45894699044896</td><td>118.924256596633</td><td>139.4494329222769</td><td>37.99048593182795</td><td>1</td></tr><tr><td>42.067548205891526</td><td>63.26480113949964</td><td>83.93751935909847</td><td>41.86997115320695</td><td>104.71987834091121</td><td>122.61061777895682</td><td>141.39876279057336</td><td>36.67888444966215</td><td>0</td></tr><tr><td>33.39239064597901</td><td>55.62611638208487</td><td>79.57110683000664</td><td>46.17871618402763</td><td>101.90365554918239</td><td>124.9288693267704</td><td>141.52284337957937</td><td>39.61918783039698</td><td>1</td></tr><tr><td>36.71976278746209</td><td>57.835324965111845</td><td>82.65524663315216</td><td>45.93548384569007</td><td>113.90796547073948</td><td>131.01524791232958</td><td>157.7001804323445</td><td>43.79221496160501</td><td>1</td></tr><tr><td>26.714183282858983</td><td>52.036689879174055</td><td>72.0770399754235</td><td>45.36285669256452</td><td>117.10177394628582</td><td>134.64253295640225</td><td>155.30809644445776</td><td>38.20632249817194</td><td>0</td></tr><tr><td>37.07152933085631</td><td>53.881895153509646</td><td>73.94033776204172</td><td>36.868808431185414</td><td>102.99893805449534</td><td>120.79738857548645</td><td>143.0512274149513</td><td>40.05228936045597</td><td>1</td></tr><tr><td>37.51879039642482</td><td>55.45382330004167</td><td>75.07073405850848</td><td>37.55194366208366</td><td>100.1680737962876</td><td>111.00320860480426</td><td>99.9043569139793</td><td>-0.2637168823083016</td><td>1</td></tr><tr><td>41.92953554264682</td><td>62.29819571161441</td><td>83.78974879904956</td><td>41.860213256402744</td><td>100.29438408704195</td><td>118.81225298235427</td><td>97.6506836443842</td><td>-2.643700442657746</td><td>1</td></tr><tr><td>43.01967224239864</td><td>64.08072767669127</td><td>81.75017163587808</td><td>38.730499393479434</td><td>104.16019434221414</td><td>120.61859529978403</td><td>99.57209964930895</td><td>-4.588094692905187</td><td>1</td></tr><tr><td>37.606220020111984</td><td>58.60155877734689</td><td>80.18926748106554</td><td>42.58304746095356</td><td>104.12213663136374</td><td>123.98802300128749</td><td>143.64816514957164</td><td>39.526028518207895</td><td>1</td></tr><tr><td>39.251589800111034</td><td>57.62831794201286</td><td>76.1901275165362</td><td>36.93853771642516</td><td>100.08365515284909</td><td>107.29106725806511</td><td>99.9679085601819</td><td>-0.11574659266719323</td><td>1</td></tr><tr><td>39.202583936933564</td><td>58.94065036176202</td><td>76.9280900093893</td><td>37.72550607245573</td><td>100.89767754952145</td><td>115.78840993124115</td><td>98.82702800388044</td><td>-2.070649545641004</td><td>1</td></tr><tr><td>45.312039497966296</td><td>62.7170593937312</td><td>82.35898284980048</td><td>37.04694335183419</td><td>108.14285951840861</td><td>130.6445793474258</td><td>149.02210011510763</td><td>40.87924059669902</td><td>0</td></tr><tr><td>38.87839586512797</td><td>60.402179439927465</td><td>82.69743105160143</td><td>43.81903518647346</td><td>100.06948800245699</td><td>109.18660308739443</td><td>99.78758210528552</td><td>-0.28190589717146963</td><td>0</td></tr><tr><td>33.416627990695</td><td>55.152509753685244</td><td>74.08791012110079</td><td>40.67128213040579</td><td>100.07998940115425</td><td>90.90327359269132</td><td>99.96154870214222</td><td>-0.11844069901202658</td><td>1</td></tr><tr><td>42.301462910592306</td><td>64.40963379323513</td><td>84.09762079103149</td><td>41.79615788043918</td><td>100.00980543989932</td><td>110.24646939483446</td><td>99.9465213245519</td><td>-0.06328411534742884</td><td>0</td></tr><tr><td>35.09627452604817</td><td>55.37917223913553</td><td>78.7026029347937</td><td>43.60632840874553</td><td>100.66191005186872</td><td>114.84728825384997</td><td>99.94306037728472</td><td>-0.7188496745839927</td><td>1</td></tr><tr><td>41.69699546390764</td><td>59.93692524845954</td><td>78.11049022253167</td><td>36.413494758624026</td><td>102.77838874756836</td><td>122.9215671522778</td><td>140.59823847028963</td><td>37.81984972272127</td><td>1</td></tr><tr><td>47.44241579919658</td><td>67.92333682360739</td><td>90.4961046803034</td><td>43.05368888110682</td><td>103.7423913024125</td><td>125.68961511397892</td><td>145.0152911913778</td><td>41.2728998889653</td><td>1</td></tr><tr><td>39.795096382082654</td><td>60.08340813330605</td><td>83.49837207243496</td><td>43.70327569035231</td><td>100.02986462503098</td><td>110.17805710904949</td><td>99.78881380636453</td><td>-0.2410508186664515</td><td>1</td></tr><tr><td>40.96442980944876</td><td>58.240063062486705</td><td>76.53704080720688</td><td>35.57261099775812</td><td>103.76421293728114</td><td>123.23041861091512</td><td>97.30480858687261</td><td>-6.4594043504085334</td><td>1</td></tr><tr><td>34.42647771780861</td><td>55.92466673763762</td><td>72.69505054036415</td><td>38.26857282255554</td><td>104.67283663461625</td><td>124.87392038894166</td><td>142.68764002617496</td><td>38.014803391558715</td><td>1</td></tr><tr><td>39.42934599801716</td><td>61.378836868231396</td><td>79.30327288879684</td><td>39.87392689077968</td><td>100.01557257301279</td><td>111.5840652108337</td><td>99.72337347437949</td><td>-0.2921990986333043</td><td>1</td></tr><tr><td>41.994626212228596</td><td>61.53406983566494</td><td>82.69339776683405</td><td>40.69877155460546</td><td>101.83701830911524</td><td>120.87635728212987</td><td>143.16022915506946</td><td>41.32321084595422</td><td>0</td></tr><tr><td>36.04690725025848</td><td>58.48350628120981</td><td>76.66684453414948</td><td>40.619937283891</td><td>107.15331265925063</td><td>127.96437930369802</td><td>155.09144356407876</td><td>47.93813090482813</td><td>1</td></tr><tr><td>36.97087173330954</td><td>57.848588788290535</td><td>76.80252740228127</td><td>39.831655668971734</td><td>108.37503015612427</td><td>127.84447226948697</td><td>148.64885662711936</td><td>40.27382647099509</td><td>1</td></tr><tr><td>41.94480043838476</td><td>61.93783235386212</td><td>82.5579349417665</td><td>40.613134503381744</td><td>108.32855630195297</td><td>130.11542570989485</td><td>150.644554424863</td><td>42.31599812291003</td><td>1</td></tr><tr><td>44.21118191084501</td><td>62.25347820208023</td><td>80.73169711414272</td><td>36.520515203297705</td><td>111.97893944054648</td><td>132.58700814364744</td><td>151.92185440376647</td><td>39.94291496321999</td><td>1</td></tr><tr><td>33.23883212520572</td><td>57.95667282844952</td><td>77.31777618542523</td><td>44.07894406021951</td><td>100.05957735748349</td><td>117.42153129646717</td><td>98.72841602545851</td><td>-1.3311613320249762</td><td>1</td></tr><tr><td>35.672432409382715</td><td>58.92840730841861</td><td>85.41529845730905</td><td>49.742866047926334</td><td>100.02169477240041</td><td>109.74572462936136</td><td>99.93689968703265</td><td>-0.08479508536775882</td><td>1</td></tr><tr><td>39.65444337095623</td><td>58.44167483222206</td><td>79.08039488135822</td><td>39.42595151040199</td><td>101.51509599445632</td><td>117.53943419692702</td><td>99.48710980228707</td><td>-2.0279861921692515</td><td>1</td></tr><tr><td>42.80874805943937</td><td>66.18080757875703</td><td>82.93248411520558</td><td>40.123736055766216</td><td>103.33525257283824</td><td>121.47800972881844</td><td>142.38545598071647</td><td>39.05020340787823</td><td>1</td></tr><tr><td>43.45349198378285</td><td>64.06500785678034</td><td>87.38127412363279</td><td>43.927782139849946</td><td>112.66037137669989</td><td>132.6423256508121</td><td>151.5415210735796</td><td>38.8811496968797</td><td>1</td></tr><tr><td>37.641454881488634</td><td>54.96504088473752</td><td>76.93226879698366</td><td>39.29081391549503</td><td>100.04718263100037</td><td>113.79085581686539</td><td>99.99556938720293</td><td>-0.05161324379743348</td><td>1</td></tr><tr><td>31.799416144730642</td><td>52.40217316821898</td><td>72.60411644630238</td><td>40.80470030157174</td><td>100.01542637809771</td><td>104.66097364718492</td><td>99.99858695559203</td><td>-0.016839422505682933</td><td>1</td></tr><tr><td>36.222795422701786</td><td>58.163494155017894</td><td>74.30021110808217</td><td>38.07741568538038</td><td>100.15440726420394</td><td>115.11476137771768</td><td>99.01452117937839</td><td>-1.139886084825548</td><td>0</td></tr><tr><td>34.90560795290995</td><td>53.984221025279155</td><td>73.49136369044737</td><td>38.58575573753742</td><td>103.88268937819149</td><td>125.92857265727432</td><td>146.60159721792513</td><td>42.718907839733646</td><td>1</td></tr><tr><td>44.362820583663726</td><td>64.59810731860013</td><td>89.10774457264557</td><td>44.744923988981846</td><td>102.55656784674366</td><td>121.80730818442949</td><td>97.90118667882783</td><td>-4.655381167915834</td><td>0</td></tr><tr><td>31.73319652547088</td><td>58.11243456382602</td><td>77.69766606559767</td><td>45.96446954012679</td><td>100.07648181619498</td><td>109.17174592271977</td><td>99.77133986247898</td><td>-0.30514195371600294</td><td>1</td></tr><tr><td>35.977944377413465</td><td>62.51313520424651</td><td>84.59070603960618</td><td>48.61276166219271</td><td>102.7788037402837</td><td>123.93241814474094</td><td>145.29264767811395</td><td>42.513843937830245</td><td>1</td></tr><tr><td>42.19769511553186</td><td>62.30229620828168</td><td>88.02989190756058</td><td>45.832196792028725</td><td>107.53320946397155</td><td>126.10467081021973</td><td>143.6318973608166</td><td>36.09868789684505</td><td>1</td></tr><tr><td>39.883052380242006</td><td>60.51711411609363</td><td>81.86623065086624</td><td>41.98317827062424</td><td>100.02802293802893</td><td>110.68540316550727</td><td>99.6353765937969</td><td>-0.39264634423201983</td><td>1</td></tr><tr><td>36.790092629412925</td><td>57.67928187578235</td><td>76.8062378093683</td><td>40.01614517995537</td><td>100.00300976272243</td><td>107.34804493259925</td><td>99.9890760463062</td><td>-0.013933716416232755</td><td>1</td></tr><tr><td>34.825513215686144</td><td>56.80505189318202</td><td>74.46948327483655</td><td>39.643970059150405</td><td>101.2422448085325</td><td>124.07578548892548</td><td>145.6423378730522</td><td>44.40009306451971</td><td>1</td></tr><tr><td>39.94905211344235</td><td>59.30681070216743</td><td>81.98262389659607</td><td>42.03357178315372</td><td>103.1649839578034</td><td>122.65888419981579</td><td>139.1992848402334</td><td>36.03430088242999</td><td>1</td></tr><tr><td>35.90193516999098</td><td>56.142751230895016</td><td>76.60680797841296</td><td>40.70487280842198</td><td>104.5381619802161</td><td>126.57405681848671</td><td>144.79359368236106</td><td>40.25543170214496</td><td>1</td></tr><tr><td>33.91673909582137</td><td>50.611330310843165</td><td>72.12760979952454</td><td>38.210870703703165</td><td>100.09438482328896</td><td>112.3120283527534</td><td>99.96638007408085</td><td>-0.12800474920811666</td><td>1</td></tr><tr><td>32.05255826482776</td><td>54.6766359180268</td><td>77.68269335394895</td><td>45.63013508912119</td><td>101.64371372233335</td><td>116.3661288301152</td><td>98.5197423117958</td><td>-3.12397141053755</td><td>0</td></tr><tr><td>34.97178573595456</td><td>54.14983769857486</td><td>74.2129000741987</td><td>39.24111433824414</td><td>100.01471020658866</td><td>107.52589008911818</td><td>99.97861887865606</td><td>-0.03609132793259562</td><td>1</td></tr><tr><td>32.500854951875375</td><td>58.117270329664116</td><td>79.72260948721363</td><td>47.221754535338256</td><td>106.9513354954884</td><td>123.36710998953104</td><td>148.81956369530224</td><td>41.86822819981384</td><td>0</td></tr><tr><td>35.15852243901574</td><td>58.10250757236348</td><td>79.46223320380915</td><td>44.30371076479341</td><td>100.10050001673085</td><td>106.38645839526069</td><td>99.96553597030986</td><td>-0.1349640464209898</td><td>1</td></tr><tr><td>38.00375709718247</td><td>55.263476688560075</td><td>75.66599440186026</td><td>37.66223730467779</td><td>100.49863380017214</td><td>115.49597879897287</td><td>99.41459669208588</td><td>-1.0840371080862639</td><td>0</td></tr><tr><td>36.83584301488294</td><td>58.66288335369646</td><td>74.44815866725352</td><td>37.61231565237058</td><td>112.11852047524465</td><td>129.43487686010218</td><td>150.112184797213</td><td>37.99366432196834</td><td>0</td></tr><tr><td>39.52339692280101</td><td>57.436957451876424</td><td>79.62525874946981</td><td>40.101861826668795</td><td>100.12083037028614</td><td>126.59884320207662</td><td>148.3680868105997</td><td>48.24725644031355</td><td>0</td></tr><tr><td>37.758806906413554</td><td>58.88021295914786</td><td>75.30347623760902</td><td>37.544669331195465</td><td>104.92368074737298</td><td>123.14111660878439</td><td>140.48960384494805</td><td>35.565923097575066</td><td>1</td></tr><tr><td>37.400158021180744</td><td>59.174875660754545</td><td>82.74653369603121</td><td>45.346375674850464</td><td>100.1598756243349</td><td>117.99953455187713</td><td>99.35895711587284</td><td>-0.8009185084620611</td><td>1</td></tr><tr><td>37.22247708519408</td><td>57.00934325124097</td><td>78.77361980687428</td><td>41.5511427216802</td><td>100.58241427113512</td><td>119.64383779233268</td><td>98.77808484771455</td><td>-1.804329423420569</td><td>1</td></tr><tr><td>38.78123480914541</td><td>58.56108065908863</td><td>80.37962733231572</td><td>41.59839252317031</td><td>100.21356912734716</td><td>119.6199288540448</td><td>97.7108747699312</td><td>-2.5026943574159617</td><td>1</td></tr><tr><td>41.02034652488336</td><td>60.61395871256956</td><td>80.04733770373811</td><td>39.02699117885475</td><td>100.3356464665199</td><td>109.85351402876162</td><td>99.9655889988699</td><td>-0.3700574676499997</td><td>1</td></tr><tr><td>46.4039626281556</td><td>62.26279249429451</td><td>84.20463572967962</td><td>37.800673101524026</td><td>110.51635848602726</td><td>133.106810900366</td><td>158.4552435372343</td><td>47.93888505120705</td><td>0</td></tr><tr><td>40.072550463213034</td><td>59.61883400286007</td><td>76.62893435610076</td><td>36.55638389288772</td><td>101.09887678310153</td><td>123.463110345989</td><td>99.61068220738701</td><td>-1.488194575714516</td><td>0</td></tr><tr><td>42.413135128499896</td><td>62.774220037074414</td><td>82.80375850828594</td><td>40.39062337978604</td><td>102.78442410193988</td><td>122.50538208722931</td><td>148.70224830275023</td><td>45.91782420081036</td><td>0</td></tr><tr><td>36.60699674243644</td><td>57.33249302793963</td><td>77.56726320425864</td><td>40.960266461822194</td><td>101.82927828054852</td><td>122.85794513521158</td><td>143.23578581397652</td><td>41.406507533428</td><td>0</td></tr><tr><td>43.946863494173954</td><td>61.775624660847264</td><td>81.81499799640473</td><td>37.868134502230774</td><td>104.74698208065989</td><td>122.9402984901657</td><td>145.43100876154185</td><td>40.684026680881956</td><td>1</td></tr><tr><td>38.37432461971616</td><td>58.6598170774426</td><td>81.20450523314531</td><td>42.83018061342915</td><td>106.08549384363758</td><td>123.73624993151113</td><td>99.57873008111758</td><td>-6.506763762519995</td><td>0</td></tr><tr><td>35.01528297315696</td><td>53.838267952105014</td><td>73.73590575160883</td><td>38.72062277845187</td><td>100.08910540042183</td><td>111.44028556084955</td><td>99.15194432382873</td><td>-0.9371610765930996</td><td>1</td></tr><tr><td>30.82771275174982</td><td>54.043554890747885</td><td>74.83116123962502</td><td>44.0034484878752</td><td>100.03106759175883</td><td>110.00526872564208</td><td>99.92354050704539</td><td>-0.10752708471343908</td><td>1</td></tr><tr><td>39.09685321920433</td><td>61.47539833909047</td><td>78.30848327052051</td><td>39.211630051316185</td><td>101.83945109690963</td><td>122.54747723801965</td><td>140.9635306145089</td><td>39.12407951759927</td><td>0</td></tr><tr><td>37.41225294754851</td><td>59.30476906386263</td><td>77.46073003577797</td><td>40.04847708822946</td><td>100.3636919387779</td><td>117.11845607220734</td><td>138.15204539583377</td><td>37.78835345705586</td><td>1</td></tr><tr><td>40.03286183266154</td><td>61.30986751566112</td><td>87.83393175305306</td><td>47.80106992039153</td><td>100.41081453864889</td><td>114.258712937288</td><td>99.57039161825865</td><td>-0.8404229203902389</td><td>1</td></tr><tr><td>39.210617556607076</td><td>61.20378646928706</td><td>78.50834546197103</td><td>39.297727905363956</td><td>110.48880571562964</td><td>128.66891882765813</td><td>151.74827325037216</td><td>41.25946753474253</td><td>1</td></tr><tr><td>36.7662171477762</td><td>59.75302895462926</td><td>76.6124732708505</td><td>39.8462561230743</td><td>101.0311470126154</td><td>117.89843159097195</td><td>97.90295214826513</td><td>-3.1281948643502773</td><td>1</td></tr><tr><td>40.236305898029215</td><td>58.00759486462274</td><td>79.82987370370354</td><td>39.593567805674326</td><td>108.6311105108689</td><td>126.812097375776</td><td>148.8131147111328</td><td>40.18200420026392</td><td>1</td></tr><tr><td>19.86994318929201</td><td>47.64031240613424</td><td>66.16505670668724</td><td>46.29511351739523</td><td>100.00014944649999</td><td>99.24786552189941</td><td>99.99890773184364</td><td>-0.0012417146563450387</td><td>1</td></tr><tr><td>30.458192073211524</td><td>53.99363219237273</td><td>74.01407498169044</td><td>43.55588290847892</td><td>100.2515361515485</td><td>114.89388884878993</td><td>99.83146937889174</td><td>-0.4200667726567673</td><td>1</td></tr><tr><td>45.14165229213876</td><td>63.59019076514745</td><td>83.53510698581638</td><td>38.393454693677626</td><td>100.29942539368768</td><td>114.07185804723335</td><td>99.86367096476613</td><td>-0.43575442892155536</td><td>0</td></tr><tr><td>36.31308321072902</td><td>62.68259265126539</td><td>82.71014445774408</td><td>46.39706124701506</td><td>118.29722523557137</td><td>138.11610660577736</td><td>157.61111412808856</td><td>39.313888892517184</td><td>1</td></tr><tr><td>44.25789955476604</td><td>66.41181719173882</td><td>87.89864476951843</td><td>43.640745214752386</td><td>100.08178787774025</td><td>113.04592765449763</td><td>99.91784174327925</td><td>-0.16394613446099982</td><td>0</td></tr><tr><td>35.499807519803774</td><td>53.95130223187843</td><td>72.10098328731203</td><td>36.60117576750826</td><td>101.02724309771298</td><td>114.0526328569994</td><td>98.09087633064121</td><td>-2.9363667670717746</td><td>1</td></tr><tr><td>41.8046345670967</td><td>59.79432466627325</td><td>84.77795128792843</td><td>42.97331672083173</td><td>100.0809298726778</td><td>108.3709384195135</td><td>99.98911932287831</td><td>-0.0918105497994901</td><td>1</td></tr><tr><td>35.22271215048764</td><td>53.11048920098877</td><td>71.76304473972425</td><td>36.54033258923661</td><td>103.47965089334073</td><td>126.70056604723004</td><td>147.83829626649407</td><td>44.35864537315334</td><td>0</td></tr><tr><td>37.25265892397475</td><td>58.44899085506251</td><td>77.30084964436095</td><td>40.0481907203862</td><td>106.3977177547271</td><td>124.784488078097</td><td>148.7113499770294</td><td>42.31363222230232</td><td>1</td></tr><tr><td>37.65958704422766</td><td>58.85354823346562</td><td>81.44574909745737</td><td>43.7861620532297</td><td>100.68528108166807</td><td>118.53790589078295</td><td>138.38388737252532</td><td>37.698606290857256</td><td>0</td></tr><tr><td>36.711783195363736</td><td>54.28943903517253</td><td>74.95834718692385</td><td>38.24656399156011</td><td>100.18846557334408</td><td>112.19161668363064</td><td>99.08116198722595</td><td>-1.107303586118121</td><td>1</td></tr><tr><td>38.74596890771315</td><td>59.57345378548099</td><td>78.97523991599458</td><td>40.22927100828143</td><td>102.42223621089576</td><td>121.00816190688136</td><td>137.18695250601743</td><td>34.76471629512167</td><td>1</td></tr><tr><td>37.3666975391138</td><td>56.44607229888862</td><td>79.64845026309547</td><td>42.28175272398167</td><td>101.17792335942825</td><td>115.3615684125437</td><td>99.93308901369915</td><td>-1.2448343457291031</td><td>1</td></tr><tr><td>37.03310747574866</td><td>58.89887484762447</td><td>76.85522260600462</td><td>39.82211513025596</td><td>100.78669107024604</td><td>111.92317957559794</td><td>99.09387300722268</td><td>-1.6928180630233527</td><td>1</td></tr><tr><td>34.77235750787867</td><td>56.576312194863796</td><td>76.73101504721507</td><td>41.9586575393364</td><td>102.1776366169788</td><td>115.45332006123694</td><td>99.37123421430627</td><td>-2.806402402672532</td><td>1</td></tr><tr><td>42.559564970596774</td><td>62.182037894911566</td><td>82.7619256373124</td><td>40.20236066671563</td><td>104.66828243729577</td><td>127.64092187031855</td><td>147.1824592098848</td><td>42.514176772589025</td><td>1</td></tr><tr><td>36.211865209851865</td><td>59.371598100237165</td><td>80.13550163039346</td><td>43.9236364205416</td><td>106.39151617628829</td><td>124.49333845701672</td><td>143.53140969237205</td><td>37.13989351608376</td><td>1</td></tr><tr><td>39.02964055405016</td><td>58.611991683118795</td><td>77.55829763962305</td><td>38.52865708557289</td><td>101.6899222496169</td><td>118.72983864594788</td><td>97.2505664742611</td><td>-4.439355775355793</td><td>1</td></tr><tr><td>38.84655634965516</td><td>60.42992338489764</td><td>81.06823794382106</td><td>42.2216815941659</td><td>101.03211321392507</td><td>122.6855036064835</td><td>96.46808419919692</td><td>-4.564029014728149</td><td>0</td></tr><tr><td>31.291278193032927</td><td>55.11809735971847</td><td>75.61630795776718</td><td>44.32502976473425</td><td>100.05496886304006</td><td>113.46029561921635</td><td>99.9993721280064</td><td>-0.05559673503366014</td><td>1</td></tr><tr><td>33.80149668096987</td><td>56.552968444572365</td><td>76.96109306025456</td><td>43.159596379284686</td><td>100.02651182997249</td><td>105.16388226342019</td><td>99.82304053350174</td><td>-0.20347129647075235</td><td>1</td></tr><tr><td>36.546215158957594</td><td>59.70173920373684</td><td>80.83205375119532</td><td>44.285838592237724</td><td>100.31999569890745</td><td>115.61135864287056</td><td>99.17789502806251</td><td>-1.1421006708449397</td><td>1</td></tr><tr><td>41.332327258527414</td><td>60.77597299069474</td><td>78.48266898544166</td><td>37.15034172691425</td><td>100.16359387093723</td><td>117.94460726550128</td><td>135.8118197404478</td><td>35.648225869510554</td><td>0</td></tr><tr><td>36.83358624301919</td><td>56.97267569794542</td><td>81.60824930412868</td><td>44.774663061109486</td><td>100.19012838655203</td><td>110.08657464780161</td><td>99.96808895756774</td><td>-0.22203942898428863</td><td>1</td></tr><tr><td>49.04389408567108</td><td>67.20903239968082</td><td>86.53321543885819</td><td>37.489321353187115</td><td>102.00922223500943</td><td>121.73831621306792</td><td>144.22435177556198</td><td>42.21512954055255</td><td>0</td></tr><tr><td>27.746922263631802</td><td>53.09717436523624</td><td>75.30073682755761</td><td>47.55381456392581</td><td>100.32160136391683</td><td>118.45919117610936</td><td>136.6325520921097</td><td>36.31095072819288</td><td>0</td></tr><tr><td>40.321060061599766</td><td>57.30860502202667</td><td>80.51776493749081</td><td>40.196704875891044</td><td>108.64849555637765</td><td>126.7622936129852</td><td>145.11496626525718</td><td>36.46647070887953</td><td>1</td></tr><tr><td>38.56231663727689</td><td>61.95797531245902</td><td>84.76393423057884</td><td>46.20161759330195</td><td>105.7874419833544</td><td>123.27502734801213</td><td>142.49032760661908</td><td>36.70288562326468</td><td>1</td></tr><tr><td>35.337686086439106</td><td>54.82781484988716</td><td>77.04109395956146</td><td>41.70340787312236</td><td>100.0525683953286</td><td>104.17462679237505</td><td>99.97813877136213</td><td>-0.07442962396648056</td><td>1</td></tr><tr><td>37.055895934187404</td><td>59.05030624952398</td><td>77.61936234152954</td><td>40.56346640734213</td><td>100.04520059827871</td><td>108.44166030873036</td><td>99.99371591915701</td><td>-0.05148467912169963</td><td>1</td></tr><tr><td>41.950825971327134</td><td>63.04460618653344</td><td>84.45060746559233</td><td>42.49978149426519</td><td>100.64523155510545</td><td>113.87693589774763</td><td>99.29914728413655</td><td>-1.3460842709689018</td><td>0</td></tr><tr><td>44.625549691177014</td><td>60.20378083143608</td><td>80.3646114190137</td><td>35.739061727836685</td><td>100.09947301445818</td><td>106.93009268597045</td><td>99.96460278023058</td><td>-0.13487023422760558</td><td>1</td></tr><tr><td>35.30444702245594</td><td>54.938906309937884</td><td>76.64722586747405</td><td>41.34277884501811</td><td>100.74068216763199</td><td>119.11049978521238</td><td>98.9590699188915</td><td>-1.7816122487404868</td><td>0</td></tr><tr><td>40.81985152090036</td><td>59.3180284743097</td><td>79.5066678405584</td><td>38.68681631965805</td><td>100.71612253011465</td><td>117.92057791367135</td><td>99.70060656394297</td><td>-1.0155159661716766</td><td>1</td></tr><tr><td>37.08940838729017</td><td>58.45265010195033</td><td>76.53217781587135</td><td>39.44276942858118</td><td>101.45821644377595</td><td>114.56097878766325</td><td>99.37936028698377</td><td>-2.0788561567921846</td><td>1</td></tr><tr><td>39.188229499537755</td><td>59.51174959980764</td><td>80.2414045097944</td><td>41.05317501025665</td><td>100.85168591762472</td><td>122.54736205745364</td><td>142.78438922467848</td><td>41.93270330705376</td><td>0</td></tr><tr><td>36.87944265902608</td><td>57.40375170050888</td><td>80.54905088602985</td><td>43.66960822700376</td><td>100.345317942196</td><td>116.5242669776999</td><td>99.41133301629893</td><td>-0.9339849258970787</td><td>1</td></tr><tr><td>35.982086617912756</td><td>61.808568830306434</td><td>82.16436689740064</td><td>46.182280279487884</td><td>111.81859379077542</td><td>131.12511890693497</td><td>149.56468037790052</td><td>37.74608658712509</td><td>1</td></tr><tr><td>39.607547739923504</td><td>59.00022922606996</td><td>78.58275322932305</td><td>38.97520548939954</td><td>105.08233484599268</td><td>122.13254720003094</td><td>142.96215691102518</td><td>37.8798220650325</td><td>1</td></tr><tr><td>40.096511375948296</td><td>60.72894626375877</td><td>80.48006755833568</td><td>40.38355618238738</td><td>100.56446077655664</td><td>114.90536765539285</td><td>99.55050499445584</td><td>-1.0139557821008083</td><td>1</td></tr><tr><td>28.56052406619729</td><td>52.4341602462425</td><td>69.519873022432</td><td>40.959348956234706</td><td>100.17211992247708</td><td>112.79672401937134</td><td>98.99231574946481</td><td>-1.179804173012272</td><td>1</td></tr><tr><td>40.40437316800153</td><td>63.39551450708027</td><td>82.84519930996933</td><td>42.440826141967804</td><td>101.12602581936858</td><td>119.98561031296448</td><td>88.74736281318388</td><td>-12.378663006184695</td><td>1</td></tr><tr><td>31.884458194375647</td><td>56.10517924894308</td><td>83.47330107211383</td><td>51.58884287773818</td><td>100.00114309173722</td><td>105.48061794549159</td><td>99.93300365777719</td><td>-0.06813943396002742</td><td>1</td></tr><tr><td>39.74372067075532</td><td>61.63125573441172</td><td>82.5726439613623</td><td>42.82892329060698</td><td>100.01276415641786</td><td>109.2144177275311</td><td>99.9256078983886</td><td>-0.08715625802925331</td><td>1</td></tr><tr><td>36.84402503434417</td><td>54.92488864056813</td><td>73.92033222353797</td><td>37.0763071891938</td><td>100.80425701654356</td><td>117.3369163236745</td><td>99.0713070256694</td><td>-1.732949990874161</td><td>0</td></tr><tr><td>31.367380247101842</td><td>52.46038134645494</td><td>73.56791039702743</td><td>42.20053014992559</td><td>100.5102294353438</td><td>117.76424664811631</td><td>99.60468720109783</td><td>-0.9055422342459707</td><td>1</td></tr><tr><td>37.59784945628338</td><td>57.22074719411959</td><td>74.00477477964708</td><td>36.4069253233637</td><td>102.01662961822021</td><td>119.46717089093544</td><td>99.44875243491197</td><td>-2.5678771833082408</td><td>1</td></tr><tr><td>28.20434795495692</td><td>49.707665712666284</td><td>73.74203989998851</td><td>45.5376919450316</td><td>100.06248979312298</td><td>110.86456013040053</td><td>99.87031103428242</td><td>-0.19217875884055502</td><td>1</td></tr><tr><td>35.52006409580889</td><td>55.010315896727924</td><td>77.33958242402427</td><td>41.81951832821538</td><td>100.21713289705774</td><td>113.06628183781201</td><td>99.92622934207601</td><td>-0.2909035549817247</td><td>1</td></tr><tr><td>37.608963201075085</td><td>56.97188734611269</td><td>75.14603690233453</td><td>37.537073701259445</td><td>100.3297774843685</td><td>114.74029013116355</td><td>97.9711406198609</td><td>-2.358636864507602</td><td>1</td></tr><tr><td>43.52453306818595</td><td>62.684455913633336</td><td>82.31975974671128</td><td>38.79522667852533</td><td>100.02838115346681</td><td>112.08859201428278</td><td>99.93460870640641</td><td>-0.09377244706040244</td><td>1</td></tr><tr><td>34.759773953781874</td><td>61.42668813488618</td><td>86.1801448211913</td><td>51.42037086740943</td><td>100.3770252747309</td><td>110.46848506505148</td><td>99.73111568558188</td><td>-0.6459095891490136</td><td>1</td></tr><tr><td>36.157013210192275</td><td>58.07916797561877</td><td>80.45274119000234</td><td>44.29572797981007</td><td>104.77550573036777</td><td>122.3248255760537</td><td>97.87327752738973</td><td>-6.902228202978037</td><td>1</td></tr><tr><td>35.791066606544724</td><td>54.46631685374545</td><td>71.7721069400724</td><td>35.98104033352768</td><td>100.09059992046122</td><td>111.49242628560009</td><td>99.98485786221356</td><td>-0.1057420582476567</td><td>1</td></tr><tr><td>39.72951654590071</td><td>59.361554546774286</td><td>79.8007909444793</td><td>40.071274398578595</td><td>100.05911871972992</td><td>118.47935566246872</td><td>99.83152060659128</td><td>-0.2275981131386402</td><td>1</td></tr><tr><td>42.4109819621832</td><td>60.721794773948815</td><td>85.06461505418059</td><td>42.65363309199739</td><td>100.87458870622224</td><td>119.13784679648283</td><td>99.95739025325797</td><td>-0.9171984529642714</td><td>0</td></tr><tr><td>33.90844367912045</td><td>54.81864692979189</td><td>79.30199595382574</td><td>45.393552274705286</td><td>107.49024250961172</td><td>122.21381410455807</td><td>140.4990045900107</td><td>33.008762080398995</td><td>1</td></tr><tr><td>39.11514779328033</td><td>60.066071161991886</td><td>76.40235578775757</td><td>37.28720799447724</td><td>101.63305678073829</td><td>117.5175276066004</td><td>98.46966860821198</td><td>-3.163388172526311</td><td>1</td></tr><tr><td>38.960534469087634</td><td>61.97849401747265</td><td>81.46977055582258</td><td>42.509236086734944</td><td>100.36394444365419</td><td>117.02451984305894</td><td>99.81879954131593</td><td>-0.5451449023382651</td><td>1</td></tr><tr><td>38.941777711209866</td><td>58.768104608748835</td><td>75.67829080089292</td><td>36.73651308968306</td><td>100.06850273391285</td><td>112.38480423017455</td><td>99.98150883135736</td><td>-0.08699390255549133</td><td>1</td></tr><tr><td>25.177021083856808</td><td>53.26056758702376</td><td>76.78048086117593</td><td>51.603459777319124</td><td>100.09401145825919</td><td>105.43426536253541</td><td>99.99320275071764</td><td>-0.10080870754154603</td><td>1</td></tr><tr><td>37.355863985575304</td><td>57.19816136927272</td><td>79.77463217111276</td><td>42.41876818553745</td><td>100.46531088690082</td><td>121.03765865200566</td><td>140.75579706340693</td><td>40.29048617650611</td><td>1</td></tr><tr><td>43.477695348052436</td><td>61.51804542764749</td><td>81.38379312206725</td><td>37.90609777401481</td><td>111.05705980311429</td><td>130.18468174164695</td><td>150.59309754285024</td><td>39.53603773973596</td><td>0</td></tr><tr><td>36.985442773928206</td><td>57.500405624212874</td><td>80.46589120143715</td><td>43.48044842750894</td><td>101.22485435132292</td><td>124.646974274697</td><td>97.13240730777198</td><td>-4.0924470435509335</td><td>1</td></tr><tr><td>38.36813718190298</td><td>58.601821563224284</td><td>80.21902784147754</td><td>41.85089065957456</td><td>103.43984356316193</td><td>126.56705034435639</td><td>149.22810796546898</td><td>45.78826440230705</td><td>0</td></tr><tr><td>34.66714061782336</td><td>55.04866239529643</td><td>72.44636245339859</td><td>37.779221835575235</td><td>100.03605942735791</td><td>116.41496444836062</td><td>95.31694062485954</td><td>-4.719118802498372</td><td>1</td></tr><tr><td>31.167723590033297</td><td>55.87114674216364</td><td>76.75969978135862</td><td>45.59197619132532</td><td>100.14804643791429</td><td>119.81123298679928</td><td>98.98659936726182</td><td>-1.1614470706524713</td><td>0</td></tr><tr><td>38.74000852962705</td><td>58.63084481320134</td><td>88.23192676309043</td><td>49.49191823346338</td><td>100.20613805716069</td><td>113.25985263616464</td><td>99.87448814214113</td><td>-0.331649915019554</td><td>0</td></tr><tr><td>45.25069582293989</td><td>63.01183947917495</td><td>86.09456320561108</td><td>40.84386738267119</td><td>101.022133263115</td><td>120.65021651129216</td><td>137.5946530599817</td><td>36.572519796866715</td><td>1</td></tr><tr><td>41.82191555800633</td><td>59.25804887059636</td><td>81.13088885641</td><td>39.308973298403664</td><td>103.29717424366663</td><td>121.18888085107355</td><td>139.48857699193505</td><td>36.191402748268416</td><td>0</td></tr><tr><td>32.81748695925132</td><td>52.178480938174474</td><td>71.12928436465575</td><td>38.31179740540443</td><td>100.03267125987352</td><td>107.29293030261685</td><td>99.81693223264229</td><td>-0.21573902723123695</td><td>1</td></tr><tr><td>36.66087930989926</td><td>55.96004509976964</td><td>75.49115102015566</td><td>38.8302717102564</td><td>100.01477648141483</td><td>101.46422909871865</td><td>99.87882577991195</td><td>-0.13595070150287825</td><td>1</td></tr><tr><td>41.86442551110898</td><td>60.88386114539889</td><td>82.10906360662995</td><td>40.24463809552096</td><td>103.44418617307213</td><td>125.48157424510035</td><td>147.54288715388154</td><td>44.09870098080941</td><td>0</td></tr><tr><td>42.529618991263845</td><td>59.86950120049168</td><td>82.1095729079824</td><td>39.57995391671855</td><td>104.65031973663932</td><td>123.03145835684863</td><td>147.05651182061214</td><td>42.406192083972826</td><td>0</td></tr><tr><td>36.62318272008909</td><td>53.598010695445076</td><td>72.9045883762325</td><td>36.281405656143406</td><td>100.54178550873229</td><td>116.09025305225222</td><td>99.5787503160432</td><td>-0.963035192689091</td><td>1</td></tr><tr><td>37.46235205123066</td><td>56.096582706922625</td><td>78.38811000193907</td><td>40.92575795070841</td><td>100.36641958173855</td><td>112.06331123649046</td><td>99.8035317428172</td><td>-0.5628878389213554</td><td>1</td></tr><tr><td>35.751502621752884</td><td>53.95633887819064</td><td>71.36243883952814</td><td>35.610936217775254</td><td>100.18733770214473</td><td>115.596752205022</td><td>99.22232691091058</td><td>-0.9650107912341497</td><td>1</td></tr><tr><td>30.614310849121775</td><td>52.61525693779644</td><td>68.45088699309143</td><td>37.83657614396965</td><td>100.74967410182207</td><td>120.56504913969002</td><td>142.34290764963023</td><td>41.59323354780817</td><td>0</td></tr><tr><td>30.77992238333818</td><td>56.597800875138866</td><td>77.82853431004187</td><td>47.04861192670369</td><td>104.86117651543508</td><td>123.19212379822282</td><td>141.2530352114914</td><td>36.39185869605633</td><td>1</td></tr><tr><td>33.85084128779408</td><td>56.90077445583214</td><td>76.30405160326659</td><td>42.453210315472504</td><td>107.86443991226305</td><td>125.26374196054664</td><td>145.91160002320024</td><td>38.047160110937185</td><td>1</td></tr><tr><td>41.2127879120247</td><td>60.70651237575465</td><td>83.32596623017875</td><td>42.11317831815405</td><td>100.42153215813704</td><td>113.81724756102125</td><td>99.72200183221712</td><td>-0.6995303259199233</td><td>1</td></tr><tr><td>39.499229588192335</td><td>58.845460320710416</td><td>76.79150562461992</td><td>37.29227603642758</td><td>107.59604435229065</td><td>129.2498125259004</td><td>145.49745147289815</td><td>37.9014071206075</td><td>0</td></tr><tr><td>38.934300187679284</td><td>59.61474612419353</td><td>83.54453042757311</td><td>44.61023023989382</td><td>114.71389766291584</td><td>133.91010774786747</td><td>154.9752527735149</td><td>40.26135511059907</td><td>0</td></tr><tr><td>33.95857201069484</td><td>55.06979101545159</td><td>74.42314787467677</td><td>40.464575863981935</td><td>100.1614790890152</td><td>111.71193480037871</td><td>99.6618829960304</td><td>-0.49959609298480245</td><td>1</td></tr><tr><td>43.175988206653436</td><td>62.22928074355126</td><td>81.26864452781061</td><td>38.09265632115717</td><td>106.33288516899998</td><td>124.65402865381357</td><td>145.76014058609965</td><td>39.42725541709967</td><td>1</td></tr><tr><td>41.92968744029854</td><td>57.89930165428551</td><td>79.7214894876735</td><td>37.79180204737496</td><td>100.01739807968153</td><td>107.84703922918236</td><td>99.86471654922107</td><td>-0.1526815304604554</td><td>1</td></tr><tr><td>41.638919155763965</td><td>58.419414650502375</td><td>74.36928039662413</td><td>32.73036124086017</td><td>111.00233935229657</td><td>131.75673559997063</td><td>156.8173615197444</td><td>45.81502216744782</td><td>0</td></tr><tr><td>36.96191248132983</td><td>55.715498332792635</td><td>75.18069216229227</td><td>38.21877968096244</td><td>105.21258640491712</td><td>119.26622841931129</td><td>98.25843143132002</td><td>-6.954154973597099</td><td>1</td></tr><tr><td>37.05325392420501</td><td>56.8705782716051</td><td>76.81515025667274</td><td>39.76189633246773</td><td>100.32088328073108</td><td>115.17087262215144</td><td>99.91860863768888</td><td>-0.4022746430422046</td><td>1</td></tr><tr><td>42.566645670588784</td><td>58.62275473604264</td><td>80.60208182434599</td><td>38.0354361537572</td><td>107.07348850789298</td><td>127.25508352162805</td><td>149.41345843974602</td><td>42.33996993185305</td><td>1</td></tr><tr><td>39.57894390656108</td><td>61.381406016206036</td><td>79.3546384358398</td><td>39.775694529278724</td><td>100.26073415804072</td><td>114.08226883611219</td><td>99.58299862444947</td><td>-0.677735533591246</td><td>1</td></tr><tr><td>41.20938107067251</td><td>63.71062821619158</td><td>81.28726361528943</td><td>40.07788254461693</td><td>106.97215312678541</td><td>128.67573788420398</td><td>145.65131350801244</td><td>38.67916038122702</td><td>1</td></tr><tr><td>43.57718298581039</td><td>64.2361964609091</td><td>85.00050903088676</td><td>41.42332604507637</td><td>101.24449070390907</td><td>125.96808526915677</td><td>153.46698990065101</td><td>52.22249919674195</td><td>1</td></tr><tr><td>40.72440480486962</td><td>61.9169100751911</td><td>82.72210134196926</td><td>41.99769653709964</td><td>110.00379789005667</td><td>127.56901816488676</td><td>153.99660243756335</td><td>43.99280454750668</td><td>1</td></tr><tr><td>20.494023469368983</td><td>54.85617750715018</td><td>82.26827675476162</td><td>61.77425328539263</td><td>101.95474560216331</td><td>125.56642430144544</td><td>145.24909364197418</td><td>43.29434803981087</td><td>1</td></tr><tr><td>32.50268793626636</td><td>54.28134299658563</td><td>71.05804029308997</td><td>38.55535235682361</td><td>100.32102466292892</td><td>117.03354288728103</td><td>98.49425477395381</td><td>-1.8267698889751074</td><td>1</td></tr><tr><td>46.49632401242869</td><td>65.21684883126926</td><td>83.70060588093023</td><td>37.20428186850154</td><td>105.60654969021479</td><td>124.38060597577739</td><td>143.50883942956668</td><td>37.902289739351886</td><td>1</td></tr><tr><td>39.20269827743168</td><td>60.51569827108522</td><td>82.27798424221797</td><td>43.07528596478629</td><td>100.14260971753069</td><td>105.84704990806648</td><td>99.96984099693198</td><td>-0.17276872059871096</td><td>1</td></tr><tr><td>39.4678219282536</td><td>57.844947355784335</td><td>75.8561706771903</td><td>36.38834874893671</td><td>100.28631646043142</td><td>116.85024264714268</td><td>98.14814256719299</td><td>-2.138173893238431</td><td>1</td></tr><tr><td>38.88757264573215</td><td>58.35330637377733</td><td>81.0845461518552</td><td>42.19697350612306</td><td>100.20898227068425</td><td>113.70852017780473</td><td>99.76037510727289</td><td>-0.44860716341135287</td><td>1</td></tr><tr><td>29.39840348074665</td><td>56.97155264411809</td><td>75.30713618617844</td><td>45.90873270543179</td><td>101.82215228682962</td><td>118.1735623873825</td><td>99.84656403588744</td><td>-1.975588250942181</td><td>1</td></tr><tr><td>43.984402935751824</td><td>63.57479645715812</td><td>81.23855120524536</td><td>37.254148269493534</td><td>100.30347460775018</td><td>124.41245423099706</td><td>145.28740711888813</td><td>44.98393251113795</td><td>1</td></tr><tr><td>40.89639938151207</td><td>63.73596070293806</td><td>92.67958083235199</td><td>51.78318145083992</td><td>100.01816506273668</td><td>115.02184882553509</td><td>99.38041297535396</td><td>-0.6377520873827223</td><td>1</td></tr><tr><td>38.774525878079636</td><td>60.75149388108682</td><td>79.34716669503658</td><td>40.57264081695694</td><td>106.93828541356935</td><td>123.98681446142143</td><td>143.15503560274985</td><td>36.2167501891805</td><td>1</td></tr><tr><td>36.65426766443156</td><td>58.66738435247839</td><td>79.11252833270976</td><td>42.4582606682782</td><td>100.77493958892289</td><td>119.914240632625</td><td>141.60062735924163</td><td>40.82568777031874</td><td>0</td></tr><tr><td>36.805387993302716</td><td>56.32391421732216</td><td>77.08544292671777</td><td>40.28005493341506</td><td>100.01985679931164</td><td>104.55094816947813</td><td>99.98324425543709</td><td>-0.03661254387455415</td><td>1</td></tr><tr><td>37.24347335542279</td><td>55.92316250731439</td><td>79.26898753155365</td><td>42.025514176130855</td><td>100.09330632285038</td><td>106.57672743148282</td><td>99.97812604524924</td><td>-0.1151802776011408</td><td>1</td></tr><tr><td>24.374661995992682</td><td>53.2855790131251</td><td>72.7546392981988</td><td>48.379977302206115</td><td>100.05752946445003</td><td>100.66703507071301</td><td>99.96923266394589</td><td>-0.08829680050413913</td><td>1</td></tr><tr><td>41.556313613251916</td><td>61.215973057098246</td><td>80.573964096115</td><td>39.01765048286309</td><td>100.04658699645896</td><td>118.9765034211321</td><td>97.68704121588493</td><td>-2.359545780574024</td><td>1</td></tr><tr><td>40.33044441930174</td><td>56.30556822406241</td><td>75.47533520004704</td><td>35.1448907807453</td><td>100.16002342163621</td><td>116.51800511402877</td><td>99.72835094750403</td><td>-0.4316724741321849</td><td>1</td></tr><tr><td>37.9219207559792</td><td>56.92782277672679</td><td>75.5955503297851</td><td>37.6736295738059</td><td>116.90586730817103</td><td>132.66102759239462</td><td>157.48650660395782</td><td>40.580639295786796</td><td>0</td></tr><tr><td>33.281274719972856</td><td>52.0096210429088</td><td>68.95956710895695</td><td>35.67829238898409</td><td>101.11305828522124</td><td>116.53081568707569</td><td>99.70236259313901</td><td>-1.4106956920822284</td><td>1</td></tr><tr><td>43.84779036697695</td><td>62.94126279656919</td><td>83.23679576149135</td><td>39.3890053945144</td><td>101.94520370984422</td><td>118.25276191201179</td><td>99.4052199948759</td><td>-2.539983714968315</td><td>0</td></tr><tr><td>41.7738566253996</td><td>62.314107055844744</td><td>84.08992152037698</td><td>42.31606489497737</td><td>101.35862518384454</td><td>120.36158452247102</td><td>139.1166866756781</td><td>37.75806149183356</td><td>1</td></tr><tr><td>42.31530624409022</td><td>60.4645383183496</td><td>85.07171692650911</td><td>42.75641068241889</td><td>100.56411383219488</td><td>117.74630149275592</td><td>93.57878337544624</td><td>-6.985330456748642</td><td>1</td></tr><tr><td>37.4893121694668</td><td>58.45620553052088</td><td>82.69557526304152</td><td>45.20626309357472</td><td>104.2411422513538</td><td>125.7429516323981</td><td>98.92686574780508</td><td>-5.314276503548726</td><td>1</td></tr><tr><td>27.681884441410812</td><td>45.04648959260299</td><td>64.90156665321794</td><td>37.219682211807125</td><td>100.54766440477937</td><td>120.1910754269829</td><td>139.81762563730882</td><td>39.269961232529454</td><td>1</td></tr><tr><td>41.92689216589397</td><td>62.941062264718006</td><td>88.51933357655788</td><td>46.592441410663916</td><td>104.63276953583127</td><td>124.93585373720265</td><td>147.59737097655264</td><td>42.96460144072137</td><td>1</td></tr><tr><td>33.17281478490405</td><td>54.18638192941806</td><td>75.00811759927433</td><td>41.83530281437028</td><td>100.31795385380094</td><td>115.3368827928255</td><td>98.83666022765229</td><td>-1.4812936261486556</td><td>1</td></tr><tr><td>36.79976302718765</td><td>60.97109331744125</td><td>82.42394564274757</td><td>45.62418261555992</td><td>100.13281394001297</td><td>115.44115326016546</td><td>99.64095987865127</td><td>-0.49185406136169263</td><td>1</td></tr><tr><td>44.28198413570236</td><td>62.31247430306399</td><td>80.44454810349689</td><td>36.162563967794526</td><td>108.1015355342553</td><td>125.45503457245412</td><td>142.7559329134071</td><td>34.65439737915179</td><td>1</td></tr><tr><td>33.48998891695262</td><td>54.14318434042509</td><td>76.58448803667149</td><td>43.09449911971887</td><td>100.00571005641216</td><td>108.8567983150523</td><td>99.9645085589938</td><td>-0.041201497418356325</td><td>1</td></tr><tr><td>35.17932042825225</td><td>53.084659414560264</td><td>74.93498624034424</td><td>39.755665812092</td><td>100.01707483806901</td><td>106.00631686770174</td><td>99.97723093079485</td><td>-0.03984390727416098</td><td>1</td></tr><tr><td>44.36428872027689</td><td>60.88535406271261</td><td>82.60854347118376</td><td>38.244254750906876</td><td>101.16424228305222</td><td>121.75349629676664</td><td>99.10402839081469</td><td>-2.0602138922375275</td><td>1</td></tr><tr><td>35.813245362004594</td><td>55.608881409859464</td><td>76.72378194581498</td><td>40.910536583810384</td><td>100.43859658882377</td><td>116.24461109901517</td><td>99.08122004994273</td><td>-1.3573765388810415</td><td>1</td></tr><tr><td>36.49734608205857</td><td>56.46798592570579</td><td>75.17239642553426</td><td>38.67505034347569</td><td>100.07388822088124</td><td>116.11959702289157</td><td>99.86038850423654</td><td>-0.21349971664470502</td><td>1</td></tr><tr><td>40.4048190243278</td><td>56.84748784375159</td><td>74.64623567317159</td><td>34.24141664884379</td><td>101.03508209327754</td><td>120.94891266295897</td><td>141.47277016274174</td><td>40.4376880694642</td><td>0</td></tr><tr><td>39.87080199014437</td><td>58.746499544490455</td><td>78.09917577232714</td><td>38.22837378218277</td><td>103.8047332553393</td><td>123.20506711848344</td><td>98.58890919996605</td><td>-5.215824055373247</td><td>0</td></tr><tr><td>43.199855206587486</td><td>59.45941084053709</td><td>78.22312748723385</td><td>35.02327228064637</td><td>101.38149326069833</td><td>123.01758361166239</td><td>142.3488785756043</td><td>40.967385314905954</td><td>0</td></tr><tr><td>38.93856228322398</td><td>60.53954244967175</td><td>80.82583370780048</td><td>41.887271424576504</td><td>100.22266643370016</td><td>115.03143141267587</td><td>99.96875440684194</td><td>-0.2539120268582167</td><td>0</td></tr><tr><td>40.080404951276236</td><td>57.23393798679459</td><td>75.98579623449662</td><td>35.90539128322038</td><td>100.4521910258944</td><td>112.17416452603295</td><td>99.85952789929206</td><td>-0.5926631266023321</td><td>1</td></tr><tr><td>37.17990972767402</td><td>57.586791777022334</td><td>79.63542763782657</td><td>42.455517910152544</td><td>100.84288444972456</td><td>112.53474603795883</td><td>99.75327784811806</td><td>-1.089606601606505</td><td>1</td></tr><tr><td>40.46311518571782</td><td>57.44003826692847</td><td>75.54711878247635</td><td>35.08400359675853</td><td>103.72771885572877</td><td>123.51922241070429</td><td>143.08102558948244</td><td>39.35330673375367</td><td>1</td></tr><tr><td>35.05363425978381</td><td>55.83688473420666</td><td>75.12890765727295</td><td>40.075273397489134</td><td>101.30164947602614</td><td>117.15530412761206</td><td>99.73564703466326</td><td>-1.5660024413628832</td><td>1</td></tr><tr><td>38.1933855837988</td><td>54.90410407622516</td><td>73.41471950638605</td><td>35.22133392258725</td><td>103.64258672125356</td><td>123.51589382805233</td><td>145.1287949656473</td><td>41.48620824439374</td><td>1</td></tr><tr><td>37.71455850640875</td><td>57.743096463586845</td><td>77.8347954380541</td><td>40.12023693164535</td><td>102.88131645455569</td><td>120.79028074209509</td><td>141.57439917731324</td><td>38.69308272275755</td><td>1</td></tr><tr><td>38.09163924029659</td><td>55.643750386083184</td><td>77.35320235035992</td><td>39.261563110063335</td><td>100.91263721216805</td><td>118.1690266302615</td><td>99.54311225818847</td><td>-1.3695249539795782</td><td>1</td></tr><tr><td>40.252910150660526</td><td>63.52839593660444</td><td>81.28594958240376</td><td>41.033039431743234</td><td>108.54717005262351</td><td>129.54892698435035</td><td>147.46313855561658</td><td>38.91596850299307</td><td>1</td></tr><tr><td>40.72300126656932</td><td>60.75848106759463</td><td>79.04441221920055</td><td>38.32141095263123</td><td>103.70192381309249</td><td>120.28822528200892</td><td>138.58744036963026</td><td>34.885516556537766</td><td>1</td></tr><tr><td>31.22146188196565</td><td>57.086302248971194</td><td>79.4904857143392</td><td>48.26902383237355</td><td>100.12147682688071</td><td>114.7130129828622</td><td>99.91085965463608</td><td>-0.21061717224462484</td><td>1</td></tr><tr><td>46.1842294654857</td><td>66.91057861092591</td><td>85.68182955149821</td><td>39.49760008601251</td><td>100.00351738714767</td><td>121.58852940614906</td><td>143.8479096324082</td><td>43.844392245260536</td><td>0</td></tr><tr><td>43.872372300811854</td><td>61.403212100649654</td><td>84.25249444183106</td><td>40.38012214101921</td><td>100.09183164371717</td><td>117.8184971893036</td><td>99.42867989741308</td><td>-0.663151746304095</td><td>1</td></tr><tr><td>30.976208823287426</td><td>53.35452170449633</td><td>79.02621529940424</td><td>48.05000647611682</td><td>100.01577502654312</td><td>108.86928190916838</td><td>99.76832284092612</td><td>-0.2474521856170071</td><td>1</td></tr><tr><td>40.76899002660163</td><td>63.48448847063964</td><td>83.79651554179244</td><td>43.02752551519082</td><td>103.02122165200277</td><td>122.52060476149542</td><td>99.96532039723759</td><td>-3.0559012547651747</td><td>1</td></tr><tr><td>35.502171942491046</td><td>54.50215319667901</td><td>72.52859484907415</td><td>37.02642290658311</td><td>100.16693981101261</td><td>105.51777831412313</td><td>99.91088677287566</td><td>-0.25605303813695457</td><td>1</td></tr><tr><td>35.1757136476148</td><td>55.11765363263543</td><td>72.47855674116227</td><td>37.302843093547466</td><td>100.10855571256273</td><td>107.55084345376511</td><td>99.99203229904018</td><td>-0.11652341352255746</td><td>1</td></tr><tr><td>41.847080666516774</td><td>60.59804948370092</td><td>79.92824146316963</td><td>38.08116079665285</td><td>100.4372687154453</td><td>117.15898508144296</td><td>134.89101876056637</td><td>34.45375004512107</td><td>1</td></tr><tr><td>42.032026498605674</td><td>60.081750777182336</td><td>85.69202131210393</td><td>43.65999481349826</td><td>103.55710028433214</td><td>126.06980319697907</td><td>144.576886192178</td><td>41.01978590784586</td><td>0</td></tr><tr><td>41.03604972978201</td><td>58.77591664682451</td><td>78.41972314782257</td><td>37.38367341804056</td><td>103.11172012633952</td><td>118.10926397117612</td><td>142.30057536920103</td><td>39.18885524286151</td><td>1</td></tr><tr><td>37.53847522832306</td><td>57.64574875331738</td><td>78.28980548349483</td><td>40.75133025517177</td><td>103.21970856613922</td><td>126.06549344581256</td><td>154.07652024148885</td><td>50.85681167534963</td><td>1</td></tr><tr><td>27.669564969041105</td><td>48.833447955853245</td><td>69.24768731654738</td><td>41.57812234750628</td><td>100.02661077946877</td><td>105.68802623968206</td><td>99.84649083965331</td><td>-0.18011993981545515</td><td>1</td></tr><tr><td>39.658066538814424</td><td>59.519766266794825</td><td>82.44512511356506</td><td>42.78705857475063</td><td>100.17666564572602</td><td>110.39143807953738</td><td>99.89283657381074</td><td>-0.28382907191527806</td><td>1</td></tr><tr><td>42.14527461445208</td><td>60.050105256400045</td><td>78.711155054367</td><td>36.56588043991492</td><td>100.05580710432214</td><td>109.99573890048931</td><td>99.10919356282744</td><td>-0.946613541494699</td><td>1</td></tr><tr><td>38.27646273165159</td><td>57.41175982710583</td><td>79.57105786356757</td><td>41.29459513191598</td><td>100.13291822843681</td><td>107.3392295878961</td><td>99.99342472789401</td><td>-0.1394935005427982</td><td>1</td></tr><tr><td>37.125117008386525</td><td>57.71529455584744</td><td>83.23578562288994</td><td>46.11066861450341</td><td>105.1481718508584</td><td>124.9172190636509</td><td>148.72584595986322</td><td>43.57767410900482</td><td>1</td></tr><tr><td>34.42876324081465</td><td>50.520359633888006</td><td>71.45493053653988</td><td>37.02616729572523</td><td>104.70371812634947</td><td>124.49812490351609</td><td>150.95156158332406</td><td>46.24784345697459</td><td>1</td></tr><tr><td>36.54546846645174</td><td>54.77908266525594</td><td>79.03478058070513</td><td>42.489312114253394</td><td>100.00096885821188</td><td>108.15071784658238</td><td>99.98149672298722</td><td>-0.019472135224660292</td><td>1</td></tr><tr><td>40.83849922332487</td><td>56.27155282904892</td><td>75.52466471716448</td><td>34.68616549383962</td><td>101.33025769468887</td><td>116.4521198879896</td><td>99.96323034286218</td><td>-1.3670273518266924</td><td>1</td></tr><tr><td>40.484993346946155</td><td>62.764533830466476</td><td>81.57077845524309</td><td>41.08578510829693</td><td>103.06834606947602</td><td>122.13645927078953</td><td>146.13717862647968</td><td>43.06883255700366</td><td>1</td></tr><tr><td>42.352431269524004</td><td>61.13177349181686</td><td>83.23701692163061</td><td>40.88458565210661</td><td>100.72279611713245</td><td>113.7179704363474</td><td>99.56610238565794</td><td>-1.1566937314745047</td><td>1</td></tr><tr><td>37.58862222751746</td><td>56.96541138953618</td><td>80.10588832443653</td><td>42.51726609691907</td><td>100.26820764031757</td><td>108.68509544472596</td><td>99.86645191058535</td><td>-0.4017557297322156</td><td>1</td></tr><tr><td>39.93374701701781</td><td>61.87059346778505</td><td>80.4869208652469</td><td>40.55317384822909</td><td>115.31913270912413</td><td>133.52179489555778</td><td>151.9311356436473</td><td>36.612002934523176</td><td>0</td></tr><tr><td>35.98469976867604</td><td>56.758138619949364</td><td>79.68159031918863</td><td>43.69689055051259</td><td>100.01891175285441</td><td>113.478522461237</td><td>99.71164527679296</td><td>-0.307266476061443</td><td>1</td></tr><tr><td>36.97992931236472</td><td>59.7214596177144</td><td>81.53584236768376</td><td>44.55591305531904</td><td>100.01601447735757</td><td>105.88183089577025</td><td>99.96384142083078</td><td>-0.05217305652679727</td><td>1</td></tr><tr><td>37.347087307551675</td><td>58.244776511536855</td><td>76.29269707824574</td><td>38.94560977069406</td><td>101.07343584700885</td><td>117.19473480668364</td><td>99.9314983943303</td><td>-1.1419374526785475</td><td>0</td></tr><tr><td>40.80788680267191</td><td>60.64510737309693</td><td>81.3539922320611</td><td>40.54610542938919</td><td>110.87827391702871</td><td>130.05156585416438</td><td>147.82832146713838</td><td>36.95004755010967</td><td>1</td></tr><tr><td>38.82521545809914</td><td>59.558087744794555</td><td>80.23978539456293</td><td>41.41456993646379</td><td>121.01902777056324</td><td>138.66568322554883</td><td>164.15188530507535</td><td>43.13285753451211</td><td>0</td></tr><tr><td>33.76400273082582</td><td>56.71542849136317</td><td>76.53408535128503</td><td>42.770082620459206</td><td>100.65496850150934</td><td>120.6598609948806</td><td>98.9713579751996</td><td>-1.6836105263097494</td><td>1</td></tr><tr><td>40.22614257380664</td><td>61.161841685916215</td><td>82.5523013771792</td><td>42.326158803372564</td><td>100.50122450451923</td><td>116.48023538627271</td><td>97.79671374370513</td><td>-2.7045107608141024</td><td>0</td></tr><tr><td>41.835426323574346</td><td>59.130983394235344</td><td>79.79293646186811</td><td>37.95751013829376</td><td>100.08098709165054</td><td>118.93575808039463</td><td>99.72069415263942</td><td>-0.36029293901111714</td><td>1</td></tr><tr><td>38.6831234126063</td><td>59.33718492876486</td><td>79.14215204805345</td><td>40.45902863544715</td><td>100.03665979635517</td><td>113.67589137617506</td><td>99.70837883106788</td><td>-0.32828096528729134</td><td>0</td></tr><tr><td>35.99613769317578</td><td>54.6878436693339</td><td>74.61374949958683</td><td>38.61761180641105</td><td>100.01359088659224</td><td>112.34831131305073</td><td>99.85065008005047</td><td>-0.16294080654176923</td><td>1</td></tr><tr><td>51.34438880867344</td><td>70.26015929145018</td><td>88.45781911396409</td><td>37.11343030529065</td><td>115.54502112684656</td><td>136.813227412628</td><td>158.3331126407857</td><td>42.78809151393915</td><td>0</td></tr><tr><td>35.73597237599367</td><td>60.79652679630013</td><td>78.53731468780205</td><td>42.801342311808384</td><td>100.6977713686816</td><td>120.49346593821107</td><td>96.56472202892215</td><td>-4.133049339759452</td><td>1</td></tr><tr><td>43.19446619543222</td><td>60.792963094367806</td><td>85.49698067349831</td><td>42.302514478066094</td><td>100.03549903693396</td><td>112.31210378465445</td><td>99.87686493933107</td><td>-0.15863409760288505</td><td>0</td></tr><tr><td>34.20915472089169</td><td>56.93138249497364</td><td>74.59069669359835</td><td>40.38154197270666</td><td>101.78528562706262</td><td>125.61731585225127</td><td>96.28631810771567</td><td>-5.498967519346948</td><td>1</td></tr><tr><td>37.27006336934335</td><td>56.749975531897455</td><td>76.5056207678108</td><td>39.23555739846745</td><td>100.21169751092182</td><td>109.28161688112502</td><td>99.60555479474098</td><td>-0.606142716180841</td><td>1</td></tr><tr><td>40.6200490447695</td><td>62.7381762547686</td><td>84.7628583624323</td><td>44.142809317662795</td><td>101.0133880410508</td><td>113.26842068306608</td><td>99.93747509187017</td><td>-1.0759129491806334</td><td>0</td></tr><tr><td>39.039369615862</td><td>58.232910132041916</td><td>77.01689458152195</td><td>37.97752496565995</td><td>104.88962522344924</td><td>123.03766510979133</td><td>145.29313086905867</td><td>40.40350564560943</td><td>1</td></tr><tr><td>35.52113815892808</td><td>58.474829754183325</td><td>79.65197184179594</td><td>44.13083368286786</td><td>110.67286845875567</td><td>129.44825257668373</td><td>151.91316961343495</td><td>41.24030115467927</td><td>0</td></tr><tr><td>31.29405060268869</td><td>52.33168108269186</td><td>72.23335349683623</td><td>40.939302894147545</td><td>101.74213648864657</td><td>121.23835471692182</td><td>140.5569205456646</td><td>38.814784057018045</td><td>1</td></tr><tr><td>43.24842433415757</td><td>60.30760031453048</td><td>76.53430271197125</td><td>33.28587837781368</td><td>102.1273672047938</td><td>118.52136196576636</td><td>99.44721797892063</td><td>-2.6801492258731656</td><td>1</td></tr><tr><td>41.088154273750646</td><td>60.51141675407734</td><td>89.67063778055459</td><td>48.58248350680394</td><td>109.54537770015962</td><td>127.441222093766</td><td>146.6133288554706</td><td>37.06795115531098</td><td>1</td></tr><tr><td>40.22477920102749</td><td>58.08933098574057</td><td>74.9639551512522</td><td>34.739175950224706</td><td>100.86461850788992</td><td>114.66961571720717</td><td>99.56418340639527</td><td>-1.3004351014946423</td><td>1</td></tr><tr><td>29.98585954456264</td><td>53.108013134385615</td><td>71.41867304153092</td><td>41.43281349696828</td><td>102.69769689737062</td><td>122.53833837950882</td><td>98.53681800470972</td><td>-4.160878892660904</td><td>1</td></tr><tr><td>40.41949305049413</td><td>62.99573144989152</td><td>88.89049825068412</td><td>48.471005200189985</td><td>104.94378234169494</td><td>125.59136261119495</td><td>146.8464265940876</td><td>41.90264425239266</td><td>0</td></tr><tr><td>33.83881180091588</td><td>53.04945822727006</td><td>72.56969899288273</td><td>38.73088719196686</td><td>101.56343856784326</td><td>121.42732399715267</td><td>99.2068979348607</td><td>-2.356540632982558</td><td>1</td></tr><tr><td>39.10610570941912</td><td>57.527759282738614</td><td>74.09518442192818</td><td>34.98907871250906</td><td>103.05359800944004</td><td>120.20413199502256</td><td>139.0521233295924</td><td>35.99852532015237</td><td>1</td></tr><tr><td>41.36481377676601</td><td>61.254321931199726</td><td>84.07148025908563</td><td>42.70666648231962</td><td>104.51722418982301</td><td>124.84391666265059</td><td>141.25223177913648</td><td>36.73500758931347</td><td>1</td></tr><tr><td>30.09259640340542</td><td>53.64803691758188</td><td>75.63826321651914</td><td>45.54566681311371</td><td>104.05205079096497</td><td>122.32014235137632</td><td>96.26370020241663</td><td>-7.78835058854834</td><td>1</td></tr><tr><td>38.071848538280506</td><td>60.051252145819724</td><td>81.46505722674047</td><td>43.393208688459964</td><td>100.59218219556084</td><td>119.03828456435141</td><td>98.7725546108835</td><td>-1.8196275846773347</td><td>1</td></tr><tr><td>37.734695885246836</td><td>58.948936451488215</td><td>79.05954977907788</td><td>41.32485389383105</td><td>101.48293841770266</td><td>119.9466797695983</td><td>98.469290207613</td><td>-3.0136482100896558</td><td>1</td></tr><tr><td>36.30085148979973</td><td>55.26832589162107</td><td>73.81816038320969</td><td>37.517308893409954</td><td>100.17560185327154</td><td>119.91945736128281</td><td>136.00267847904772</td><td>35.82707662577617</td><td>0</td></tr><tr><td>35.827164129030656</td><td>54.884010989612314</td><td>72.51549225013153</td><td>36.688328121100874</td><td>100.02951198921623</td><td>108.2649733803372</td><td>99.61211251927278</td><td>-0.41739946994344734</td><td>1</td></tr><tr><td>32.90581561739786</td><td>59.67735819417807</td><td>81.43619524642</td><td>48.530379629022136</td><td>109.47233176231234</td><td>127.54076014258865</td><td>144.29876156726064</td><td>34.826429804948305</td><td>1</td></tr><tr><td>38.271005390301525</td><td>60.33180210857119</td><td>79.37237229389237</td><td>41.10136690359084</td><td>100.71117762402613</td><td>114.95665554698799</td><td>99.94548517280492</td><td>-0.7656924512212129</td><td>1</td></tr><tr><td>43.53134230275967</td><td>59.6580331118628</td><td>80.2741439608836</td><td>36.74280165812394</td><td>100.29679985346091</td><td>114.99976827289649</td><td>99.95009859723008</td><td>-0.3467012562308298</td><td>0</td></tr><tr><td>28.295183189165986</td><td>50.99499233019534</td><td>74.67273364337709</td><td>46.377550454211104</td><td>101.49979294559891</td><td>118.10309893477736</td><td>98.86066780467874</td><td>-2.6391251409201715</td><td>1</td></tr><tr><td>37.36607227089216</td><td>56.49275327926298</td><td>76.6435136258205</td><td>39.27744135492834</td><td>100.79860811443058</td><td>114.54059607071302</td><td>99.3644761989393</td><td>-1.4341319154912782</td><td>1</td></tr><tr><td>42.26073128523868</td><td>61.68581857394101</td><td>83.14974850030967</td><td>40.88901721507099</td><td>106.23820846190628</td><td>123.79855529104447</td><td>144.754427605803</td><td>38.516219143896706</td><td>1</td></tr><tr><td>40.30256252871122</td><td>59.74207118425487</td><td>86.64990893454433</td><td>46.34734640583311</td><td>103.30716613460403</td><td>126.92174543843697</td><td>145.80231196794685</td><td>42.49514583334282</td><td>1</td></tr><tr><td>35.1659119549376</td><td>54.42213856201946</td><td>77.33936513292016</td><td>42.173453177982566</td><td>101.32856622961926</td><td>116.91116416071802</td><td>93.95661073752966</td><td>-7.371955492089597</td><td>0</td></tr><tr><td>43.310908803456954</td><td>61.055649680372134</td><td>80.58916994675928</td><td>37.27826114330233</td><td>106.747540960941</td><td>125.91170433427756</td><td>149.69718526217792</td><td>42.94964430123693</td><td>1</td></tr><tr><td>30.640088398475555</td><td>55.85827541238903</td><td>76.05453792292747</td><td>45.41444952445191</td><td>100.44168924431123</td><td>113.50297559954389</td><td>99.92376321491109</td><td>-0.5179260294001438</td><td>1</td></tr><tr><td>41.50294449841755</td><td>64.8670095938843</td><td>87.99909911724512</td><td>46.496154618827575</td><td>100.28734862047261</td><td>111.1154334432822</td><td>99.91924176963194</td><td>-0.3681068508406753</td><td>1</td></tr><tr><td>38.2572710048679</td><td>58.170949623813286</td><td>77.23107395812296</td><td>38.97380295325506</td><td>101.27459706085551</td><td>116.44127917599391</td><td>98.15690760218351</td><td>-3.117689458672004</td><td>1</td></tr><tr><td>40.760656197781685</td><td>58.74451104495155</td><td>83.76323938767632</td><td>43.00258318989464</td><td>104.7852682863471</td><td>127.66231377721773</td><td>151.60605567269678</td><td>46.82078738634968</td><td>1</td></tr><tr><td>33.86498688812477</td><td>55.49951400359887</td><td>76.54620684826119</td><td>42.681219960136424</td><td>100.07476099902452</td><td>107.65623591130397</td><td>99.8517794375784</td><td>-0.2229815614461188</td><td>1</td></tr><tr><td>42.435412578535136</td><td>65.73465125425083</td><td>84.79391960352771</td><td>42.358507024992576</td><td>100.05577592323752</td><td>121.51986484328651</td><td>143.71723100233288</td><td>43.66145507909536</td><td>0</td></tr><tr><td>43.21664307836144</td><td>60.68952635105326</td><td>82.21443804176849</td><td>38.997794963407046</td><td>102.88807332845295</td><td>119.24273788067909</td><td>99.18947980239903</td><td>-3.6985935260539122</td><td>1</td></tr><tr><td>37.99336376258624</td><td>63.75459244423359</td><td>80.34370157954484</td><td>42.3503378169586</td><td>106.23439348381518</td><td>126.60078507677378</td><td>144.3339327890742</td><td>38.099539305259015</td><td>1</td></tr><tr><td>43.478078839195035</td><td>64.929476035843</td><td>87.19184950974707</td><td>43.71377067055204</td><td>107.2870779911976</td><td>127.32637252141868</td><td>145.8163776064062</td><td>38.5292996152086</td><td>1</td></tr><tr><td>42.90980523066878</td><td>59.882387338108316</td><td>77.36439897189385</td><td>34.45459374122507</td><td>107.49546605688631</td><td>125.64828889300395</td><td>144.40047626243734</td><td>36.90501020555102</td><td>1</td></tr><tr><td>37.85114455608591</td><td>59.24867835625371</td><td>87.79459294560438</td><td>49.943448389518466</td><td>100.61367672310875</td><td>116.75651098606524</td><td>99.30385662082512</td><td>-1.3098201022836378</td><td>1</td></tr><tr><td>37.47447798881702</td><td>59.82946808345293</td><td>80.5776250165963</td><td>43.10314702777928</td><td>100.00349674274909</td><td>101.69119593651925</td><td>99.883601938339</td><td>-0.11989480441009448</td><td>1</td></tr><tr><td>40.965503714805536</td><td>60.36928552441222</td><td>80.98344501322165</td><td>40.01794129841612</td><td>100.01467269039557</td><td>119.94279309996101</td><td>99.06116885606222</td><td>-0.9535038343333468</td><td>0</td></tr><tr><td>42.40060106122659</td><td>60.5578959029652</td><td>77.418329863523</td><td>35.01772880229641</td><td>102.13374132664246</td><td>120.25377403343214</td><td>98.91301290217972</td><td>-3.2207284244627488</td><td>1</td></tr><tr><td>43.58625410512195</td><td>62.321972650924195</td><td>81.62515812244463</td><td>38.03890401732268</td><td>105.1213148536591</td><td>122.63970249871541</td><td>144.76211386264828</td><td>39.64079900898918</td><td>0</td></tr><tr><td>42.89780191987165</td><td>62.62669276023352</td><td>84.55260869096487</td><td>41.65480677109323</td><td>108.09823567627271</td><td>124.03712689270272</td><td>99.85981020599928</td><td>-8.238425470273427</td><td>0</td></tr><tr><td>35.623307410683125</td><td>57.12170329343213</td><td>83.45728828671108</td><td>47.83398087602795</td><td>100.07939692348201</td><td>111.5060192767841</td><td>99.91935923841255</td><td>-0.16003768506945448</td><td>1</td></tr><tr><td>33.73145546734798</td><td>56.62340633709723</td><td>77.7699219621276</td><td>44.03846649477962</td><td>100.0656021802878</td><td>112.19802608551906</td><td>99.58221220147267</td><td>-0.4833899788151257</td><td>1</td></tr><tr><td>33.80363561754412</td><td>52.56322125763742</td><td>75.16124661414177</td><td>41.35761099659766</td><td>100.15612344453154</td><td>112.51501201098064</td><td>99.66739831668133</td><td>-0.48872512785021627</td><td>1</td></tr><tr><td>45.45384098878547</td><td>61.92941270973362</td><td>81.60193284299126</td><td>36.14809185420579</td><td>111.72573430196874</td><td>129.5975516578576</td><td>150.7166147384123</td><td>38.99088043644355</td><td>1</td></tr><tr><td>38.86928115586238</td><td>56.19930431692095</td><td>81.72855981718021</td><td>42.85927866131783</td><td>108.28845191433486</td><td>127.12082146097072</td><td>146.4263544199796</td><td>38.13790250564473</td><td>0</td></tr><tr><td>36.599954996597376</td><td>57.37446787688233</td><td>76.96423882792234</td><td>40.36428383132497</td><td>100.31185921699209</td><td>114.39562417827285</td><td>99.78232440853614</td><td>-0.5295348084559492</td><td>0</td></tr><tr><td>34.98190220771248</td><td>58.117212826086984</td><td>79.72148101953121</td><td>44.73957881181873</td><td>100.05434358717486</td><td>116.09633522392711</td><td>99.72106441213515</td><td>-0.3332791750397064</td><td>0</td></tr><tr><td>38.72898022166521</td><td>56.87280253319303</td><td>79.62888787570952</td><td>40.89990765404431</td><td>100.06712466786422</td><td>109.30891858135448</td><td>99.98659885460553</td><td>-0.08052581325868857</td><td>1</td></tr><tr><td>42.56502264536426</td><td>64.72291172304485</td><td>84.62235074105375</td><td>42.05732809568949</td><td>105.06201192446962</td><td>125.53702452095317</td><td>148.59930894420518</td><td>43.53729701973556</td><td>0</td></tr><tr><td>39.71329950032912</td><td>61.66719825332334</td><td>80.64912409831226</td><td>40.935824597983135</td><td>102.47334792269464</td><td>123.16812909153892</td><td>146.9925580040338</td><td>44.51921008133917</td><td>0</td></tr><tr><td>38.6177563690088</td><td>59.48912387416849</td><td>86.493154511435</td><td>47.87539814242619</td><td>106.64673079481001</td><td>125.48719384499998</td><td>144.78578192700365</td><td>38.13905113219364</td><td>1</td></tr><tr><td>39.01190937992024</td><td>58.77461392077637</td><td>82.49924789161487</td><td>43.48733851169463</td><td>100.25867428886318</td><td>109.90011966666101</td><td>99.99788463659338</td><td>-0.2607896522697928</td><td>1</td></tr><tr><td>35.63154473864108</td><td>58.0906589433627</td><td>78.82106129103997</td><td>43.189516552398885</td><td>100.0125609198642</td><td>108.68671547277015</td><td>99.98284656884076</td><td>-0.02971435102344344</td><td>1</td></tr><tr><td>32.87882074076137</td><td>51.66919236397093</td><td>71.40720457260261</td><td>38.52838383184124</td><td>100.27860869328669</td><td>118.5676517689127</td><td>139.18625402183812</td><td>38.90764532855144</td><td>1</td></tr><tr><td>41.56357631841207</td><td>59.63581931164719</td><td>80.39785894081768</td><td>38.83428262240562</td><td>100.15644313284206</td><td>109.66780905604932</td><td>99.69795132362096</td><td>-0.4584918092211012</td><td>1</td></tr><tr><td>42.85275488085284</td><td>62.43319898009765</td><td>86.57353449103154</td><td>43.720779610178695</td><td>102.6775484151472</td><td>121.84602763738359</td><td>99.4691436732111</td><td>-3.208404741936107</td><td>1</td></tr><tr><td>33.794745936881064</td><td>54.93697697578613</td><td>76.01443230721603</td><td>42.21968637033496</td><td>100.44400290994201</td><td>116.63197895793415</td><td>99.12177353837593</td><td>-1.3222293715660811</td><td>1</td></tr><tr><td>43.63373024291191</td><td>63.21882014205145</td><td>81.0723512414614</td><td>37.438620998549496</td><td>116.92044478970146</td><td>133.93380164006953</td><td>153.12790621213463</td><td>36.20746142243317</td><td>1</td></tr><tr><td>44.56287046416937</td><td>62.23003316528379</td><td>81.12987667554658</td><td>36.56700621137721</td><td>100.00380183232852</td><td>107.91464505808487</td><td>99.98083652587474</td><td>-0.02296530645378425</td><td>1</td></tr><tr><td>31.336567925090186</td><td>52.28657667933259</td><td>77.3723712426187</td><td>46.03580331752851</td><td>100.19021148331362</td><td>116.43347827979353</td><td>99.53871779833513</td><td>-0.6514936849784903</td><td>1</td></tr><tr><td>35.035769607069966</td><td>58.3334885578808</td><td>76.30286576108557</td><td>41.267096154015604</td><td>100.0833051667222</td><td>116.39780216086642</td><td>99.28999187604823</td><td>-0.7933132906739644</td><td>1</td></tr><tr><td>38.26724130811739</td><td>58.37032850405048</td><td>78.55239637618823</td><td>40.285155068070836</td><td>100.43758545353363</td><td>114.22557627768688</td><td>99.77353252688387</td><td>-0.6640529266497595</td><td>0</td></tr><tr><td>36.35466438894996</td><td>59.74509258860806</td><td>84.87591783643059</td><td>48.521253447480625</td><td>100.37163170492785</td><td>114.3568756804936</td><td>99.57984845406801</td><td>-0.7917832508598366</td><td>0</td></tr><tr><td>42.434471149108525</td><td>61.75088963126336</td><td>81.71414726169155</td><td>39.279676112583026</td><td>104.26521546518265</td><td>123.57873520862512</td><td>139.32205047625945</td><td>35.0568350110768</td><td>1</td></tr><tr><td>38.195061976187766</td><td>58.74313582686823</td><td>79.38897494716988</td><td>41.19391297098212</td><td>108.5519798344238</td><td>127.22330844150338</td><td>146.34227153131184</td><td>37.79029169688803</td><td>1</td></tr><tr><td>40.73370482484116</td><td>57.74409026049309</td><td>76.49752390985701</td><td>35.76381908501585</td><td>100.08746254949213</td><td>118.17414212697211</td><td>138.69193122840494</td><td>38.60446867891281</td><td>1</td></tr><tr><td>34.663047219583845</td><td>54.76114173456838</td><td>75.19994392186828</td><td>40.53689670228444</td><td>101.63814810894688</td><td>120.92183302604876</td><td>139.07409019286888</td><td>37.435942083922</td><td>0</td></tr><tr><td>43.95313896714806</td><td>63.70383396077375</td><td>82.16748470781857</td><td>38.21434574067052</td><td>100.33557926133544</td><td>115.68223552257544</td><td>99.98655263019401</td><td>-0.3490266311414274</td><td>0</td></tr><tr><td>41.94621067035001</td><td>60.056329763141704</td><td>83.39172752924014</td><td>41.44551685889013</td><td>106.13093656960315</td><td>126.53702156596906</td><td>148.56138591300194</td><td>42.43044934339879</td><td>0</td></tr><tr><td>34.038508594126085</td><td>55.700227805447454</td><td>74.915391091296</td><td>40.876882497169916</td><td>101.22534769123442</td><td>122.41809601939703</td><td>98.4616680709571</td><td>-2.7636796202773155</td><td>0</td></tr><tr><td>35.08360047113726</td><td>53.785954439848204</td><td>74.16862345245852</td><td>39.08502298132126</td><td>100.0024980231488</td><td>106.56147143433986</td><td>99.91061746147429</td><td>-0.09188056167451464</td><td>1</td></tr><tr><td>32.04571352371572</td><td>55.496437787118985</td><td>74.42716312168854</td><td>42.38144959797282</td><td>100.04167380328788</td><td>101.7923147269507</td><td>99.9831469340788</td><td>-0.058526869209075016</td><td>1</td></tr><tr><td>39.57136351358272</td><td>58.14293734441531</td><td>79.70215748422476</td><td>40.13079397064204</td><td>100.19854122392415</td><td>113.2807384785064</td><td>99.71520602583425</td><td>-0.4833351980899039</td><td>1</td></tr><tr><td>33.07371770743033</td><td>55.3162329444806</td><td>79.62127944791715</td><td>46.54756174048681</td><td>100.1652479068495</td><td>104.50309981334227</td><td>99.97896420173944</td><td>-0.18628370511005699</td><td>1</td></tr><tr><td>36.23648220792941</td><td>56.18353003805876</td><td>79.20398187372496</td><td>42.96749966579554</td><td>100.09729790625336</td><td>112.3216630298011</td><td>99.71306659757958</td><td>-0.3842313086737761</td><td>1</td></tr><tr><td>45.98370330466611</td><td>64.0896792266537</td><td>88.95338596688951</td><td>42.969682662223406</td><td>101.08102106948162</td><td>117.85483495128909</td><td>99.38414732995236</td><td>-1.6968737395292663</td><td>1</td></tr><tr><td>31.74185389711032</td><td>57.484015311095156</td><td>74.60132796135049</td><td>42.859474064240175</td><td>100.99966959562992</td><td>120.56696271876777</td><td>95.55703295426999</td><td>-5.44263664135994</td><td>0</td></tr><tr><td>36.44395964662683</td><td>60.189461875049574</td><td>78.7673420186746</td><td>42.32338237204777</td><td>100.07854508642612</td><td>111.57082754953385</td><td>99.70600611635767</td><td>-0.3725389700684474</td><td>1</td></tr><tr><td>35.00819104362698</td><td>58.97453124833312</td><td>83.55091074709864</td><td>48.54271970347166</td><td>103.76208539441248</td><td>124.97781064847429</td><td>146.11127600854317</td><td>42.34919061413069</td><td>1</td></tr><tr><td>40.40274703457592</td><td>57.808517187983234</td><td>76.72727343241394</td><td>36.32452639783802</td><td>100.03666887017638</td><td>117.45322526181356</td><td>99.34086414247307</td><td>-0.6958047277033188</td><td>0</td></tr><tr><td>46.17539853800993</td><td>64.41359390596016</td><td>82.5362815038065</td><td>36.36088296579658</td><td>104.15335442664856</td><td>125.44896497200112</td><td>146.60445477067032</td><td>42.451100344021754</td><td>1</td></tr><tr><td>39.85339895013486</td><td>61.5100382294741</td><td>83.21181315579281</td><td>43.35841420565795</td><td>100.89150573883143</td><td>120.43494373049676</td><td>99.51901262183799</td><td>-1.3724931169934393</td><td>1</td></tr><tr><td>36.245751399012896</td><td>59.58965174974811</td><td>79.54726881355853</td><td>43.301517414545636</td><td>107.01157121929225</td><td>133.07036556270515</td><td>150.83395520946073</td><td>43.822383990168476</td><td>0</td></tr><tr><td>32.94708579445856</td><td>52.27925842397876</td><td>81.81960180152798</td><td>48.87251600706942</td><td>100.51109988350547</td><td>115.82377368229831</td><td>99.98609754452015</td><td>-0.5250023389853169</td><td>1</td></tr><tr><td>33.70887388161272</td><td>56.2953262728783</td><td>74.50335004654403</td><td>40.79447616493131</td><td>101.4201624095977</td><td>116.16658978925203</td><td>99.33821257519519</td><td>-2.081949834402508</td><td>1</td></tr><tr><td>46.64187282217329</td><td>66.51426955581631</td><td>87.6701001004722</td><td>41.02822727829891</td><td>103.25855429440716</td><td>128.6240394172462</td><td>147.5532380791147</td><td>44.29468378470753</td><td>1</td></tr><tr><td>36.501550680145314</td><td>54.683108953036324</td><td>75.35221637892147</td><td>38.850665698776154</td><td>100.17493061772429</td><td>113.08132585343053</td><td>99.69556951078886</td><td>-0.47936110693542844</td><td>1</td></tr><tr><td>44.70571300079467</td><td>65.50430660907364</td><td>85.9000449802634</td><td>41.194331979468735</td><td>101.40680326116241</td><td>118.84254856151468</td><td>99.44083845012813</td><td>-1.9659648110342829</td><td>0</td></tr><tr><td>37.362539576246405</td><td>58.2837464775193</td><td>80.71292247047593</td><td>43.350382894229526</td><td>101.66399444769957</td><td>123.2428330425414</td><td>143.7661972949681</td><td>42.10220284726853</td><td>1</td></tr><tr><td>36.27428965451574</td><td>51.977790788122164</td><td>75.76071178899608</td><td>39.486422134480335</td><td>105.79596233951278</td><td>123.04980981805839</td><td>144.94815908120222</td><td>39.15219674168944</td><td>1</td></tr><tr><td>37.538342507961474</td><td>58.45531449553141</td><td>81.18918846219745</td><td>43.650845954235976</td><td>100.41675897911715</td><td>116.603295864717</td><td>98.83831749268903</td><td>-1.5784414864281189</td><td>1</td></tr><tr><td>32.609302952414644</td><td>55.37656949362634</td><td>75.65241621321421</td><td>43.043113260799565</td><td>106.22655726667335</td><td>125.61305122414252</td><td>146.3866579796995</td><td>40.16010071302614</td><td>1</td></tr><tr><td>35.347273744158244</td><td>55.72456420517472</td><td>77.56109567905895</td><td>42.21382193490071</td><td>101.35647616857787</td><td>121.24085797908994</td><td>143.15419669525517</td><td>41.797720526677296</td><td>1</td></tr><tr><td>42.1097648686347</td><td>63.85177801895798</td><td>81.52024865625302</td><td>39.41048378761832</td><td>104.27922478603446</td><td>127.1498377610549</td><td>148.2218075239475</td><td>43.94258273791303</td><td>0</td></tr><tr><td>33.10846742507748</td><td>58.13220322949126</td><td>75.785567248297</td><td>42.67709982321952</td><td>100.01949524229434</td><td>115.05602501653811</td><td>99.34177893347257</td><td>-0.6777163088217719</td><td>1</td></tr><tr><td>35.092143618043394</td><td>55.359089008766404</td><td>72.59670555187658</td><td>37.50456193383319</td><td>100.01363523100935</td><td>107.5777007372137</td><td>99.97939326928595</td><td>-0.034241961723395775</td><td>1</td></tr><tr><td>36.93766757605141</td><td>59.29356130866706</td><td>80.95666647912331</td><td>44.0189989030719</td><td>104.55854329081463</td><td>126.78767101632376</td><td>149.1815506417143</td><td>44.62300735089967</td><td>0</td></tr><tr><td>35.231706567616</td><td>57.04036474027911</td><td>74.3319496896343</td><td>39.1002431220183</td><td>100.94029442721774</td><td>117.6876222034831</td><td>99.60511267256591</td><td>-1.3351817546518276</td><td>0</td></tr><tr><td>38.59488155526141</td><td>58.23044135710293</td><td>77.26039878997109</td><td>38.66551723470968</td><td>108.27827050152092</td><td>129.86919535188835</td><td>152.1878295595943</td><td>43.90955905807337</td><td>0</td></tr><tr><td>33.01067391105494</td><td>57.64890541763329</td><td>79.22476323461558</td><td>46.21408932356064</td><td>103.04029047082207</td><td>120.76659438169928</td><td>143.3593424606484</td><td>40.319051989826335</td><td>1</td></tr><tr><td>38.68997124615397</td><td>59.17480122594441</td><td>79.61505568881137</td><td>40.92508444265739</td><td>100.12297858818586</td><td>109.9497666813794</td><td>99.8109314102064</td><td>-0.3120471779794656</td><td>1</td></tr><tr><td>37.39322024770269</td><td>59.123912011085615</td><td>74.07178191351748</td><td>36.67856166581479</td><td>103.98614386549076</td><td>121.6281244436266</td><td>99.90238155994325</td><td>-4.083762305547509</td><td>0</td></tr><tr><td>39.52309711052408</td><td>61.392482856450016</td><td>82.45782703683966</td><td>42.93472992631558</td><td>102.20859947141855</td><td>120.68933912666003</td><td>98.94190119046658</td><td>-3.266698280951971</td><td>1</td></tr><tr><td>29.750202307571758</td><td>51.88279653151299</td><td>70.64642162570063</td><td>40.89621931812887</td><td>100.0217593141035</td><td>114.03474189111449</td><td>99.67370835829294</td><td>-0.3480509558105638</td><td>1</td></tr><tr><td>38.592120967658026</td><td>60.13982886981369</td><td>80.24318439032947</td><td>41.65106342267145</td><td>100.92670961468075</td><td>115.6698249794907</td><td>99.88738315432573</td><td>-1.0393264603550136</td><td>1</td></tr><tr><td>32.99169985065753</td><td>54.77494950167725</td><td>75.26978963800671</td><td>42.27808978734918</td><td>104.46058028909616</td><td>128.54677955505105</td><td>154.19261174789216</td><td>49.732031458796</td><td>1</td></tr><tr><td>39.34127572000159</td><td>62.779384800069344</td><td>90.86545875823646</td><td>51.52418303823487</td><td>101.67215127705542</td><td>122.27386538299851</td><td>143.4340848104445</td><td>41.76193353338907</td><td>0</td></tr><tr><td>43.788567378155626</td><td>62.019929388555</td><td>81.24071452903242</td><td>37.45214715087679</td><td>100.10107142028116</td><td>109.67450040898964</td><td>99.98731554206768</td><td>-0.11375587821348176</td><td>1</td></tr><tr><td>37.55331704169637</td><td>59.67006852800983</td><td>82.1159522223665</td><td>44.562635180670135</td><td>105.83184764720465</td><td>125.33602698489648</td><td>147.80544088941235</td><td>41.9735932422077</td><td>1</td></tr><tr><td>40.00528259638493</td><td>57.24418799905581</td><td>89.69098993491852</td><td>49.68570733853359</td><td>103.16867388363706</td><td>121.70889725953812</td><td>141.54410570227813</td><td>38.375431818641076</td><td>1</td></tr><tr><td>41.254271787603344</td><td>60.83454215377004</td><td>77.57892120594207</td><td>36.32464941833872</td><td>107.45972032378816</td><td>122.2552804001224</td><td>142.21070932750845</td><td>34.75098900372029</td><td>1</td></tr><tr><td>34.54591938989749</td><td>59.090256116241235</td><td>77.30066517042827</td><td>42.75474578053078</td><td>101.9068377905187</td><td>118.96709786380663</td><td>139.03976733046554</td><td>37.13292953994684</td><td>0</td></tr><tr><td>18.70194163199097</td><td>50.98926590700781</td><td>69.14507877440957</td><td>50.4431371424186</td><td>100.00212246397587</td><td>103.06993765101106</td><td>99.98973543268765</td><td>-0.01238703128821328</td><td>1</td></tr><tr><td>35.210843146121654</td><td>56.44068838107502</td><td>81.24483345931642</td><td>46.03399031319477</td><td>100.49312625733343</td><td>115.88578476664242</td><td>99.87443315826238</td><td>-0.6186930990710522</td><td>1</td></tr><tr><td>35.83715272535113</td><td>58.06122525504476</td><td>80.12353552338143</td><td>44.2863827980303</td><td>100.40380604205701</td><td>114.93391735811856</td><td>99.71853511655598</td><td>-0.6852709255010296</td><td>1</td></tr><tr><td>32.64580165257222</td><td>55.50082568204779</td><td>74.8222839462905</td><td>42.17648229371828</td><td>100.3473388671155</td><td>108.97231169695804</td><td>99.88759251947538</td><td>-0.45974634764012023</td><td>1</td></tr><tr><td>38.11160795028917</td><td>62.73478669542737</td><td>85.13496499306538</td><td>47.02335704277621</td><td>100.03611172263537</td><td>109.66216180092513</td><td>99.87289206970948</td><td>-0.16321965292588914</td><td>1</td></tr><tr><td>41.30816265617659</td><td>58.8836286919934</td><td>79.6719303426863</td><td>38.3637676865097</td><td>107.86337808725861</td><td>126.50757811800645</td><td>99.80335341249184</td><td>-8.060024674766765</td><td>1</td></tr><tr><td>38.24203596337317</td><td>59.49166205782983</td><td>77.04353235692733</td><td>38.80149639355416</td><td>104.97427697904902</td><td>123.5524726156427</td><td>144.50325844733445</td><td>39.52898146828542</td><td>0</td></tr><tr><td>36.04581763455996</td><td>55.598696937771166</td><td>77.92610259978325</td><td>41.88028496522329</td><td>100.21014017682757</td><td>115.45725430678965</td><td>99.26217961487659</td><td>-0.9479605619509783</td><td>1</td></tr><tr><td>33.65997558241378</td><td>53.596319302871585</td><td>75.27585669473919</td><td>41.61588111232541</td><td>100.01701530664874</td><td>108.85648588741378</td><td>99.93122958994489</td><td>-0.08578571670385315</td><td>1</td></tr><tr><td>41.61185831232014</td><td>63.24733786193865</td><td>84.7481197989205</td><td>43.13626148660036</td><td>113.9093365315278</td><td>134.57642390674215</td><td>155.47281981433653</td><td>41.56348328280873</td><td>1</td></tr><tr><td>42.939959554414386</td><td>60.28131763749105</td><td>78.66267613024763</td><td>35.722716575833246</td><td>108.4455772268989</td><td>127.03991583410237</td><td>98.40955229372315</td><td>-10.036024933175753</td><td>0</td></tr><tr><td>31.120582741279847</td><td>59.10323274030146</td><td>76.94980890753905</td><td>45.829226166259204</td><td>100.4566086470196</td><td>119.57488053255311</td><td>138.82481056383662</td><td>38.368201916817014</td><td>0</td></tr><tr><td>42.45497304091808</td><td>62.70724455526794</td><td>81.35541744995611</td><td>38.90044440903803</td><td>107.88983266374129</td><td>128.69601488391956</td><td>153.4804505399373</td><td>45.590617876196006</td><td>1</td></tr><tr><td>45.09161551493369</td><td>61.85341226832276</td><td>79.29701978240674</td><td>34.20540426747304</td><td>106.4986271723579</td><td>126.12364304605927</td><td>147.12000250299744</td><td>40.62137533063954</td><td>1</td></tr><tr><td>37.94412563947813</td><td>59.10599183541332</td><td>80.03048147407613</td><td>42.086355834597995</td><td>103.35529367105647</td><td>125.27629974693633</td><td>141.8686525927625</td><td>38.513358921706015</td><td>1</td></tr><tr><td>39.268585968425946</td><td>67.82483099279018</td><td>90.918630950996</td><td>51.65004498257006</td><td>100.16170765034506</td><td>115.66376288760532</td><td>97.26438246909296</td><td>-2.8973251812521</td><td>0</td></tr><tr><td>34.88073947887332</td><td>60.51742609229526</td><td>81.23497812651789</td><td>46.354238647644564</td><td>107.82936159668765</td><td>125.94375909850712</td><td>149.00197944033005</td><td>41.1726178436424</td><td>1</td></tr><tr><td>34.77297823060798</td><td>54.835508745554826</td><td>79.31263195960256</td><td>44.53965372899457</td><td>100.16895646456682</td><td>111.31081431074531</td><td>99.40136429006282</td><td>-0.7675921745040029</td><td>1</td></tr><tr><td>35.876039087981624</td><td>54.23697457001822</td><td>71.54263715182753</td><td>35.66659806384591</td><td>100.08312975898802</td><td>107.10919894740252</td><td>99.99127066378287</td><td>-0.09185909520515168</td><td>1</td></tr><tr><td>42.78972837405428</td><td>61.65579185771142</td><td>80.98493783352764</td><td>38.19520945947336</td><td>100.12419180257226</td><td>109.49120859032261</td><td>99.65025447747463</td><td>-0.4739373250976229</td><td>1</td></tr><tr><td>32.92663502603472</td><td>54.80088049476601</td><td>79.80749524686672</td><td>46.880860220832005</td><td>100.18606564503084</td><td>110.13024068934169</td><td>99.95796600015522</td><td>-0.22809964487561274</td><td>1</td></tr><tr><td>32.45489357453941</td><td>52.65298181477997</td><td>69.74151076017824</td><td>37.28661718563883</td><td>100.151730769755</td><td>111.36899313263896</td><td>99.66306805338765</td><td>-0.48866271636735803</td><td>1</td></tr><tr><td>38.87283358968524</td><td>60.97558822666267</td><td>84.8439432287813</td><td>45.971109639096056</td><td>102.15140282368061</td><td>123.86647448998504</td><td>143.6452732415229</td><td>41.493870417842274</td><td>0</td></tr><tr><td>32.93847870476128</td><td>51.71091925670311</td><td>72.21518390620112</td><td>39.27670520143984</td><td>100.7959751868994</td><td>115.970186923561</td><td>99.19243294183865</td><td>-1.6035422450607513</td><td>1</td></tr><tr><td>38.77273309285839</td><td>59.697399969139774</td><td>81.85028461491078</td><td>43.07755152205239</td><td>103.51066443259154</td><td>118.93853971938681</td><td>98.05301718350688</td><td>-5.457647249084658</td><td>0</td></tr><tr><td>39.9323313299948</td><td>56.97116235110734</td><td>77.8261762623598</td><td>37.89384493236499</td><td>100.02923011210692</td><td>107.31438140613982</td><td>99.94961992437817</td><td>-0.07961018772874695</td><td>1</td></tr><tr><td>38.959959058359175</td><td>58.527322760914224</td><td>78.16516300619428</td><td>39.2052039478351</td><td>101.93162351261765</td><td>123.48344603866003</td><td>143.305857912696</td><td>41.374234400078365</td><td>1</td></tr><tr><td>39.61106802526449</td><td>57.57756303343325</td><td>78.49706124411826</td><td>38.88599321885377</td><td>100.02818647525037</td><td>100.22670618923988</td><td>99.98843314042568</td><td>-0.03975333482468102</td><td>1</td></tr><tr><td>44.16155104504068</td><td>65.23011823553784</td><td>84.96715427134603</td><td>40.80560322630535</td><td>114.03518315850759</td><td>135.83409411884003</td><td>155.4698834373311</td><td>41.43470027882351</td><td>0</td></tr><tr><td>36.34243515262779</td><td>55.37258178188007</td><td>74.24923056266574</td><td>37.90679541003795</td><td>100.20530841375793</td><td>110.94941239978387</td><td>99.92858326642865</td><td>-0.2767251473292873</td><td>1</td></tr><tr><td>34.63022723500327</td><td>52.04578417886367</td><td>75.58339376247557</td><td>40.9531665274723</td><td>107.47341812698707</td><td>125.23135189466456</td><td>144.73528398841938</td><td>37.26186586143231</td><td>1</td></tr><tr><td>40.09241699089736</td><td>62.66230326147014</td><td>82.1557873639149</td><td>42.063370373017534</td><td>101.2255750809448</td><td>117.8728331897126</td><td>140.32378603770462</td><td>39.09821095675983</td><td>1</td></tr><tr><td>35.32018949133866</td><td>55.97399946709283</td><td>77.1202179983361</td><td>41.80002850699744</td><td>100.1999594103455</td><td>116.63857952031229</td><td>98.77663643248275</td><td>-1.4233229778627532</td><td>1</td></tr><tr><td>40.24447749816605</td><td>56.4852109795093</td><td>77.38142976047973</td><td>37.136952262313685</td><td>103.2482370007524</td><td>121.02895105939852</td><td>138.5845996349399</td><td>35.33636263418751</td><td>1</td></tr><tr><td>40.777224308658006</td><td>64.81086442522394</td><td>81.90467593781548</td><td>41.12745162915748</td><td>103.25517769288572</td><td>120.7452626275594</td><td>99.52807599188009</td><td>-3.727101701005637</td><td>1</td></tr><tr><td>38.05940884067348</td><td>58.67513465619673</td><td>76.97239382926146</td><td>38.912984988587986</td><td>100.06764649610923</td><td>114.81637335515181</td><td>98.58694915795776</td><td>-1.4806973381514723</td><td>1</td></tr><tr><td>46.693106951407664</td><td>63.85321010556477</td><td>82.58547340042102</td><td>35.89236644901336</td><td>110.39159443368818</td><td>129.56658109504747</td><td>150.35682180183258</td><td>39.9652273681444</td><td>0</td></tr><tr><td>35.99807296505319</td><td>55.20761372002523</td><td>78.19381672299681</td><td>42.195743757943625</td><td>100.05501664835303</td><td>108.3764076490055</td><td>99.47095972910789</td><td>-0.5840569192451426</td><td>1</td></tr><tr><td>34.25052499283569</td><td>59.2172171158614</td><td>78.11212324410536</td><td>43.86159825126967</td><td>103.54467609617598</td><td>121.34623551413588</td><td>93.99607492256669</td><td>-9.548601173609285</td><td>1</td></tr><tr><td>38.18468530367041</td><td>57.58756210335856</td><td>74.96343213213677</td><td>36.77874682846636</td><td>102.65784877607209</td><td>121.09452816475199</td><td>99.76427760047096</td><td>-2.8935711756011244</td><td>1</td></tr><tr><td>39.44575536154981</td><td>60.00456337856645</td><td>85.1209580914341</td><td>45.6752027298843</td><td>102.4975805761474</td><td>123.88563033035199</td><td>145.56053387285272</td><td>43.06295329670532</td><td>1</td></tr><tr><td>32.61058825116629</td><td>53.77557233737891</td><td>73.99181506898283</td><td>41.38122681781654</td><td>100.73934431066859</td><td>118.32327060959574</td><td>96.04823630304732</td><td>-4.691108007621267</td><td>1</td></tr><tr><td>33.57960053987931</td><td>56.087193306867675</td><td>76.60394055962453</td><td>43.024340019745225</td><td>100.9484821506663</td><td>116.28764828240872</td><td>99.98631233816377</td><td>-0.9621698125025233</td><td>0</td></tr><tr><td>40.66161854294766</td><td>59.235186981649484</td><td>84.47145054403006</td><td>43.809832001082405</td><td>100.4481135702788</td><td>117.73436456611779</td><td>99.92965033411284</td><td>-0.5184632361659709</td><td>0</td></tr><tr><td>44.93319687836778</td><td>65.40071948457934</td><td>85.85881845416057</td><td>40.92562157579279</td><td>100.17692957289358</td><td>115.32992844885707</td><td>98.86584200545366</td><td>-1.3110875674399267</td><td>1</td></tr><tr><td>35.88919486825348</td><td>56.54761701641668</td><td>75.80872951251803</td><td>39.919534644264544</td><td>100.31934425106226</td><td>112.46024388546282</td><td>99.81574717976355</td><td>-0.5035970712987137</td><td>1</td></tr><tr><td>39.07713365857043</td><td>60.261080419249616</td><td>86.19531688317618</td><td>47.118183224605744</td><td>100.00350323358123</td><td>113.4472150070024</td><td>99.89719925330103</td><td>-0.10630398028020238</td><td>1</td></tr><tr><td>26.54097537960229</td><td>57.25465294961517</td><td>75.75120184925716</td><td>49.21022646965487</td><td>101.34448283783362</td><td>115.99647068308656</td><td>98.93897951510176</td><td>-2.4055033227318603</td><td>1</td></tr><tr><td>39.64944290713021</td><td>58.717980588717275</td><td>75.5148305990872</td><td>35.865387691957</td><td>100.2074180844744</td><td>114.50734802031647</td><td>98.86906839731512</td><td>-1.3383496871592797</td><td>1</td></tr><tr><td>38.236479897226054</td><td>58.34886983336869</td><td>75.49225323891886</td><td>37.25577334169281</td><td>100.06932295347772</td><td>116.05859666122126</td><td>99.83762170858935</td><td>-0.23170124488837018</td><td>0</td></tr><tr><td>29.772830711108536</td><td>53.91798687232555</td><td>76.51965160584962</td><td>46.74682089474108</td><td>100.95572214874517</td><td>112.58084108369881</td><td>99.83757621544144</td><td>-1.1181459333037225</td><td>1</td></tr><tr><td>36.35704769855141</td><td>54.643446253894</td><td>72.38008766156504</td><td>36.02303996301363</td><td>100.28343926403078</td><td>115.59789329060403</td><td>99.34405825042998</td><td>-0.9393810136007943</td><td>1</td></tr><tr><td>40.684870027555455</td><td>61.9283857028306</td><td>80.34635369879445</td><td>39.66148367123899</td><td>100.89085862735277</td><td>116.24516722026132</td><td>99.4315337317629</td><td>-1.459324895589873</td><td>1</td></tr><tr><td>42.14710869806267</td><td>64.57034975498566</td><td>83.5024045305984</td><td>41.35529583253573</td><td>100.05091691558748</td><td>122.40785235723304</td><td>141.1789578923753</td><td>41.12804097678783</td><td>1</td></tr><tr><td>41.56526289605706</td><td>63.42504824625127</td><td>85.88628222782009</td><td>44.32101933176303</td><td>100.16130094074651</td><td>114.7448105632515</td><td>99.82252444446767</td><td>-0.33877649627883955</td><td>0</td></tr><tr><td>36.55926457709475</td><td>60.676003119688254</td><td>81.36991809889247</td><td>44.81065352179772</td><td>106.9303643886696</td><td>125.61421795112439</td><td>142.73341133711241</td><td>35.80304694844281</td><td>1</td></tr><tr><td>37.156105608167294</td><td>55.02257168869087</td><td>73.39529139904838</td><td>36.23918579088108</td><td>100.03344804479696</td><td>109.37710976796104</td><td>99.9232044971113</td><td>-0.11024354768565559</td><td>1</td></tr><tr><td>31.276512522611387</td><td>53.27301680568832</td><td>73.81204039400136</td><td>42.535527871389974</td><td>107.3906818173132</td><td>127.1640078839546</td><td>146.24494249273803</td><td>38.85426067542484</td><td>0</td></tr><tr><td>36.12966644583982</td><td>59.81120911831245</td><td>81.44762720916563</td><td>45.317960763325814</td><td>101.21284426422437</td><td>118.83189075712248</td><td>139.7437041107263</td><td>38.530859846501926</td><td>1</td></tr><tr><td>41.097285408310896</td><td>57.17222624730187</td><td>75.68146378880071</td><td>34.58417838048982</td><td>100.0187872739322</td><td>113.93329980299876</td><td>99.8831155937518</td><td>-0.13567168018040832</td><td>1</td></tr><tr><td>41.48855653602568</td><td>59.16844173546254</td><td>80.88817558691369</td><td>39.399619050888006</td><td>109.93629953743947</td><td>128.29494685934267</td><td>149.8002292889896</td><td>39.863929751550145</td><td>1</td></tr><tr><td>31.8049218803244</td><td>53.160689634867076</td><td>71.94947553140216</td><td>40.14455365107776</td><td>100.08848377806811</td><td>112.25921906180508</td><td>99.8987114915368</td><td>-0.1897722865313085</td><td>1</td></tr><tr><td>46.920123478625115</td><td>65.36268904771936</td><td>86.26884738875567</td><td>39.34872391013056</td><td>100.24871205033375</td><td>119.0599529584417</td><td>136.08942542674183</td><td>35.840713376408075</td><td>1</td></tr><tr><td>36.634583692927315</td><td>58.39673211756915</td><td>77.7494417610529</td><td>41.11485806812559</td><td>101.63693581876043</td><td>120.77056839759278</td><td>139.99218380023257</td><td>38.35524798147213</td><td>0</td></tr><tr><td>44.254394041712175</td><td>62.53359130247873</td><td>84.56204890867838</td><td>40.3076548669662</td><td>100.24114761796308</td><td>116.25691974141833</td><td>95.72373859677289</td><td>-4.51740902119019</td><td>0</td></tr><tr><td>41.72530826580438</td><td>64.49941143835191</td><td>85.42713151742883</td><td>43.701823251624454</td><td>100.10466422951244</td><td>116.19318699382116</td><td>99.98267466777325</td><td>-0.12198956173918418</td><td>0</td></tr><tr><td>37.86702430151897</td><td>59.33089233416426</td><td>85.00624676040276</td><td>47.13922245888379</td><td>103.30551779256848</td><td>130.0153871803558</td><td>149.08371201998358</td><td>45.7781942274151</td><td>1</td></tr><tr><td>44.432103758393</td><td>63.824642828105546</td><td>85.41017244383924</td><td>40.978068685446246</td><td>102.01031101504384</td><td>119.15103608093466</td><td>138.47033237808904</td><td>36.4600213630452</td><td>1</td></tr><tr><td>38.385654878052875</td><td>56.996729779886515</td><td>77.4349981396004</td><td>39.04934326154752</td><td>100.13963836554538</td><td>116.00557317717136</td><td>99.49789078255048</td><td>-0.6417475829948955</td><td>1</td></tr><tr><td>38.981615013481616</td><td>58.54413285061819</td><td>80.45800821345716</td><td>41.47639319997555</td><td>101.80146857563409</td><td>118.06570110859745</td><td>99.88264113517859</td><td>-1.9188274404555017</td><td>1</td></tr><tr><td>38.16649894875767</td><td>57.59161851263474</td><td>76.20206314478783</td><td>38.03556419603016</td><td>103.40942830257241</td><td>123.8847549325359</td><td>139.0854121121075</td><td>35.67598380953508</td><td>0</td></tr><tr><td>36.69092532499047</td><td>56.86252708259498</td><td>80.05915691521955</td><td>43.36823159022908</td><td>101.82090229181762</td><td>125.15414279189173</td><td>140.9233854211002</td><td>39.102483129282575</td><td>0</td></tr><tr><td>46.33198108805503</td><td>63.71555486638507</td><td>84.36800482984665</td><td>38.036023741791624</td><td>100.32080033928878</td><td>117.41232447241495</td><td>99.35741365198902</td><td>-0.9633866872997601</td><td>0</td></tr><tr><td>34.77321930550815</td><td>54.141542701832485</td><td>73.67143820900716</td><td>38.898218903499014</td><td>100.05926357619745</td><td>110.95457204593788</td><td>99.86153613377236</td><td>-0.19772744242509077</td><td>1</td></tr><tr><td>41.244527826843594</td><td>62.70319493745673</td><td>81.89603458669532</td><td>40.65150675985173</td><td>116.5499734336814</td><td>135.75495581163088</td><td>154.20125856697246</td><td>37.651285133291054</td><td>0</td></tr><tr><td>36.873940191963726</td><td>56.48234938235956</td><td>77.80265817693167</td><td>40.928717984967946</td><td>102.18513221291131</td><td>122.07978475089362</td><td>139.5482268021545</td><td>37.363094589243175</td><td>0</td></tr><tr><td>34.41091066364187</td><td>52.34832291045158</td><td>66.51844639267036</td><td>32.107535729028484</td><td>100.97582959947803</td><td>118.74866135364226</td><td>99.27392460073278</td><td>-1.701904998745249</td><td>1</td></tr><tr><td>40.62966692837915</td><td>59.878301686802345</td><td>79.55117457382502</td><td>38.92150764544587</td><td>112.41721855520157</td><td>130.60374880273866</td><td>151.79042990955554</td><td>39.37321135435397</td><td>1</td></tr><tr><td>40.736738058480086</td><td>64.74170224529291</td><td>85.26199694329823</td><td>44.52525888481814</td><td>103.88141910298462</td><td>123.33923642416373</td><td>143.72472447411954</td><td>39.84330537113492</td><td>1</td></tr><tr><td>39.844997663172016</td><td>59.11306326435514</td><td>78.89452804439276</td><td>39.04953038122074</td><td>100.02133876808834</td><td>114.97197154171873</td><td>99.70977461146163</td><td>-0.31156415662671577</td><td>1</td></tr><tr><td>32.21926286296496</td><td>56.24263621621886</td><td>79.05489853042289</td><td>46.83563566745793</td><td>100.02399974099355</td><td>113.30761282217233</td><td>99.10366672150792</td><td>-0.920333019485625</td><td>1</td></tr><tr><td>37.221717696193245</td><td>61.1460231306574</td><td>82.20736481431265</td><td>44.98564711811941</td><td>100.00461248481511</td><td>115.03564347650031</td><td>99.8534778985047</td><td>-0.15113458631040544</td><td>1</td></tr><tr><td>37.24440872627857</td><td>56.647578043672226</td><td>81.27363616849874</td><td>44.02922744222017</td><td>100.32679961156015</td><td>115.1663021765674</td><td>99.08754032739483</td><td>-1.239259284165314</td><td>1</td></tr><tr><td>36.50642834300045</td><td>52.508159551104455</td><td>76.61766667853733</td><td>40.11123833553688</td><td>100.0325669639934</td><td>114.95304034639412</td><td>99.67802861371723</td><td>-0.3545383502761723</td><td>1</td></tr><tr><td>32.16366269660031</td><td>51.29399445013559</td><td>72.09395540089513</td><td>39.930292704294814</td><td>100.37209927760631</td><td>118.58517746050902</td><td>99.39105758843348</td><td>-0.9810416891728266</td><td>1</td></tr><tr><td>42.21667547997046</td><td>63.60165405494934</td><td>85.61282247169366</td><td>43.3961469917232</td><td>108.65306981675572</td><td>129.34169434087437</td><td>147.0328672398787</td><td>38.37979742312298</td><td>1</td></tr><tr><td>37.32554837326526</td><td>57.83991935404277</td><td>75.88700431155348</td><td>38.56145593828822</td><td>101.62562310361442</td><td>119.09646021995918</td><td>97.85491701924077</td><td>-3.770706084373643</td><td>1</td></tr><tr><td>36.20069839000815</td><td>60.776135313287305</td><td>81.96358561747768</td><td>45.76288722746953</td><td>100.18167856801855</td><td>119.4092902526288</td><td>139.5740875843896</td><td>39.39240901637103</td><td>1</td></tr><tr><td>33.26347177441873</td><td>50.975940437446255</td><td>70.0368996027991</td><td>36.77342782838036</td><td>100.15325244095017</td><td>111.55261802564793</td><td>99.29914340794167</td><td>-0.8541090330084984</td><td>1</td></tr><tr><td>37.83088186745707</td><td>59.01064265627112</td><td>77.21755959192629</td><td>39.386677724469216</td><td>100.06483102812639</td><td>117.32600655316422</td><td>99.7107915895459</td><td>-0.3540394385804859</td><td>1</td></tr><tr><td>39.25102509627639</td><td>62.49368737928978</td><td>78.1673059417242</td><td>38.9162808454478</td><td>101.24032861597038</td><td>119.12755391683814</td><td>99.17824850055942</td><td>-2.0620801154109643</td><td>1</td></tr><tr><td>36.143994001523815</td><td>57.02468612271015</td><td>81.76672819194823</td><td>45.62273419042442</td><td>102.54373621446459</td><td>119.81487521609104</td><td>141.43104697201187</td><td>38.88731075754728</td><td>1</td></tr><tr><td>38.84235663564215</td><td>57.22982888521049</td><td>75.98950925249446</td><td>37.14715261685231</td><td>100.48165690330022</td><td>118.65679516377452</td><td>148.5892547564081</td><td>48.10759785310789</td><td>0</td></tr><tr><td>32.222407438130105</td><td>51.875349523999546</td><td>77.14306971608858</td><td>44.92066227795847</td><td>103.19818114023354</td><td>118.82847014677058</td><td>99.86025506814627</td><td>-3.3379260720872708</td><td>1</td></tr><tr><td>32.604974870576925</td><td>52.976289192659365</td><td>69.37133752499868</td><td>36.766362654421755</td><td>100.16269356777997</td><td>105.02264696702348</td><td>99.9819170541632</td><td>-0.18077651361676317</td><td>1</td></tr><tr><td>40.48029874559683</td><td>63.20596178489216</td><td>80.75901959283966</td><td>40.27872084724283</td><td>103.92855820176649</td><td>122.29177763534602</td><td>98.12157756538954</td><td>-5.806980636376949</td><td>1</td></tr><tr><td>31.793758110357885</td><td>54.94050692136503</td><td>76.71766559216252</td><td>44.92390748180463</td><td>100.10129264997882</td><td>114.67645694324369</td><td>99.64568722625151</td><td>-0.45560542372730595</td><td>1</td></tr><tr><td>39.762287147231724</td><td>57.65545756432986</td><td>81.61882617419772</td><td>41.856539026966</td><td>106.17852674785823</td><td>126.05033151933071</td><td>147.4696204471253</td><td>41.291093699267066</td><td>0</td></tr><tr><td>33.00355473782426</td><td>52.92890368723142</td><td>75.43651558362802</td><td>42.43296084580376</td><td>100.06356621748928</td><td>103.66774253645279</td><td>99.99480426706428</td><td>-0.06876195042499944</td><td>1</td></tr><tr><td>37.58298842363946</td><td>56.817393871565535</td><td>75.90458298211526</td><td>38.321594558475795</td><td>100.15318418295946</td><td>107.07546203408585</td><td>99.97977059736003</td><td>-0.17341358559943387</td><td>1</td></tr><tr><td>40.101024773825756</td><td>64.15812516471786</td><td>86.37096800950397</td><td>46.26994323567821</td><td>101.27504228936722</td><td>120.63436845249677</td><td>96.45980245301277</td><td>-4.815239836354451</td><td>0</td></tr><tr><td>30.34450616848568</td><td>50.57851892102195</td><td>74.51910342927565</td><td>44.174597260789966</td><td>101.62787952818026</td><td>116.79738955622042</td><td>97.02776035593597</td><td>-4.600119172244291</td><td>1</td></tr><tr><td>37.35909515328133</td><td>58.73503301186563</td><td>80.20974613348388</td><td>42.850650980202545</td><td>100.30764873248698</td><td>121.67215316731667</td><td>99.20327346363948</td><td>-1.1043752688475053</td><td>1</td></tr><tr><td>41.14847071363205</td><td>61.56094333863085</td><td>78.86185928107727</td><td>37.71338856744522</td><td>100.03121812723639</td><td>110.11351332828177</td><td>99.91994761667863</td><td>-0.11127051055775894</td><td>1</td></tr><tr><td>33.34076334055253</td><td>50.63985379280536</td><td>66.87846279060662</td><td>33.53769945005409</td><td>100.01178664011125</td><td>117.21921064510943</td><td>99.68416309872433</td><td>-0.3276235413869273</td><td>1</td></tr><tr><td>31.777016049579352</td><td>55.444813255821245</td><td>75.88611216251653</td><td>44.10909611293717</td><td>103.54029690590728</td><td>121.45474349010473</td><td>141.6205011613052</td><td>38.08020425539793</td><td>1</td></tr><tr><td>37.80322566415262</td><td>58.18633074875368</td><td>83.639838386505</td><td>45.836612722352385</td><td>100.48531489914687</td><td>119.9767420730735</td><td>95.0293605833509</td><td>-5.455954315795978</td><td>1</td></tr><tr><td>34.11005693102527</td><td>54.31524785446477</td><td>77.84550712127562</td><td>43.73545019025035</td><td>100.04413652871092</td><td>111.98913758978603</td><td>99.80268949361368</td><td>-0.24144703509723797</td><td>1</td></tr><tr><td>36.644304474374366</td><td>59.40737350689904</td><td>79.81098136432635</td><td>43.16667688995199</td><td>100.02779695892191</td><td>103.76472685954998</td><td>99.99066975659068</td><td>-0.037127202331234344</td><td>1</td></tr><tr><td>30.189602757438948</td><td>55.96873582057071</td><td>76.55825452440186</td><td>46.36865176696291</td><td>100.04188017540656</td><td>108.80473819908029</td><td>99.88845916181285</td><td>-0.1534210135937144</td><td>1</td></tr><tr><td>38.18227464434185</td><td>58.21639987952211</td><td>75.95846679688748</td><td>37.776192152545626</td><td>100.77368565648064</td><td>118.39555038066587</td><td>98.46676897184577</td><td>-2.3069166846348708</td><td>1</td></tr><tr><td>47.21388006825258</td><td>64.12815984532868</td><td>87.69264883824704</td><td>40.47876876999446</td><td>107.30622605761342</td><td>127.45655362943532</td><td>149.0316556591242</td><td>41.72542960151078</td><td>1</td></tr><tr><td>38.16772058580614</td><td>56.24733727845043</td><td>74.47013555705158</td><td>36.30241497124544</td><td>101.5018364632746</td><td>121.83147545382056</td><td>98.51788844275382</td><td>-2.983948020520785</td><td>1</td></tr><tr><td>31.83277236866004</td><td>54.162113188325826</td><td>73.80883178069111</td><td>41.97605941203106</td><td>101.85824279980771</td><td>121.23566594162507</td><td>98.96162696851012</td><td>-2.896615831297595</td><td>1</td></tr><tr><td>40.131928810375456</td><td>58.81996662292639</td><td>81.05416523373063</td><td>40.92223642335517</td><td>108.45088754838653</td><td>128.30009996691507</td><td>144.6805804112926</td><td>36.22969286290606</td><td>1</td></tr><tr><td>33.82884864674749</td><td>56.36906640976199</td><td>76.272210819944</td><td>42.443362173196505</td><td>100.37539942552209</td><td>120.48896959989989</td><td>99.14538444974744</td><td>-1.230014975774651</td><td>0</td></tr><tr><td>42.08570506807752</td><td>64.0710372893866</td><td>86.80805391188389</td><td>44.722348843806365</td><td>103.259508305658</td><td>124.53463827567047</td><td>141.1742543615379</td><td>37.91474605587989</td><td>0</td></tr><tr><td>37.67045353208902</td><td>57.436224079561434</td><td>80.18105982626733</td><td>42.51060629417831</td><td>100.18428491659517</td><td>114.71634409544491</td><td>99.882322807124</td><td>-0.30196210947117663</td><td>0</td></tr><tr><td>38.10607436115648</td><td>59.90775323588766</td><td>84.94559084110509</td><td>46.83951647994861</td><td>105.4380727816279</td><td>121.96198473570927</td><td>99.91298211825095</td><td>-5.525090663376943</td><td>1</td></tr><tr><td>36.22629375861975</td><td>56.82676797959413</td><td>75.18864535868585</td><td>38.9623516000661</td><td>100.12581690011164</td><td>116.22593159811883</td><td>99.29797801466569</td><td>-0.8278388854459564</td><td>1</td></tr><tr><td>38.860939163965604</td><td>57.7985387699023</td><td>77.735218017644</td><td>38.8742788536784</td><td>101.12210385986342</td><td>117.72416336968566</td><td>99.52918774603336</td><td>-1.5929161138300572</td><td>1</td></tr><tr><td>36.009485339921625</td><td>56.078916803707614</td><td>74.96104932205286</td><td>38.95156398213123</td><td>100.00149609774628</td><td>106.10777196100128</td><td>99.9935947114827</td><td>-0.007901386263583277</td><td>1</td></tr><tr><td>31.08239113093835</td><td>50.89046704911599</td><td>68.547786718866</td><td>37.46539558792766</td><td>102.36632865853728</td><td>122.71111594251609</td><td>139.12758223131308</td><td>36.7612535727758</td><td>0</td></tr><tr><td>37.51193427961332</td><td>58.85614350053807</td><td>77.55898966245246</td><td>40.04705538283914</td><td>100.13256886818863</td><td>114.04338051909693</td><td>99.20572446455215</td><td>-0.9268444036364798</td><td>1</td></tr><tr><td>44.63262273596938</td><td>64.21802034615231</td><td>84.89605665665654</td><td>40.26343392068716</td><td>103.8355656208347</td><td>124.75271357802097</td><td>150.2493307739245</td><td>46.4137651530898</td><td>1</td></tr><tr><td>33.80061042782352</td><td>55.83591696671313</td><td>75.73930585186788</td><td>41.93869542404436</td><td>103.04503248855673</td><td>122.31844630917051</td><td>144.5183459298017</td><td>41.47331344124498</td><td>0</td></tr><tr><td>35.26279012936301</td><td>54.434821075051865</td><td>73.71809208802831</td><td>38.4553019586653</td><td>101.28380737437466</td><td>120.94061645859237</td><td>142.46659327425843</td><td>41.18278589988377</td><td>1</td></tr><tr><td>33.57405835978404</td><td>59.87483315696735</td><td>80.85984732427056</td><td>47.28578896448652</td><td>100.33591219736971</td><td>114.78079885803862</td><td>97.8394098151479</td><td>-2.4965023822218058</td><td>0</td></tr><tr><td>42.077207485878404</td><td>58.94802983057048</td><td>78.88855143088377</td><td>36.81134394500536</td><td>100.51972852031409</td><td>120.49323569003941</td><td>99.48609956648221</td><td>-1.0336289538318795</td><td>1</td></tr><tr><td>38.08590187755819</td><td>59.5324400312867</td><td>78.86527360775612</td><td>40.77937173019793</td><td>105.00206213017982</td><td>125.27985349834282</td><td>99.41798965724854</td><td>-5.5840724729312825</td><td>1</td></tr><tr><td>39.7431429470535</td><td>61.11656973525727</td><td>76.80973784526488</td><td>37.06659489821138</td><td>105.11748069993088</td><td>125.02565617176346</td><td>144.54746031112987</td><td>39.42997961119899</td><td>1</td></tr><tr><td>36.47147233047187</td><td>56.25546707581672</td><td>75.31888250121655</td><td>38.84741017074468</td><td>105.85805702049043</td><td>127.7607108751919</td><td>147.15214525494363</td><td>41.2940882344532</td><td>1</td></tr><tr><td>40.70156286044548</td><td>59.26213587016435</td><td>79.93881602627792</td><td>39.23725316583244</td><td>100.1612091504033</td><td>118.4213390554681</td><td>99.48790346884141</td><td>-0.6733056815618852</td><td>1</td></tr><tr><td>36.008551867815186</td><td>56.970138720748736</td><td>76.01306662272201</td><td>40.00451475490682</td><td>100.06186512076806</td><td>102.85994612051684</td><td>99.98338535960184</td><td>-0.07847976116622135</td><td>1</td></tr><tr><td>38.63549915279406</td><td>58.59152379065956</td><td>75.18520407469036</td><td>36.5497049218963</td><td>100.06842354310756</td><td>109.66312654382925</td><td>99.88057927096199</td><td>-0.18784427214556843</td><td>1</td></tr><tr><td>32.614257436258086</td><td>54.50771317100856</td><td>71.76090375491995</td><td>39.146646318661865</td><td>100.9302294735479</td><td>117.02039664885613</td><td>99.47235892034979</td><td>-1.4578705531981058</td><td>0</td></tr><tr><td>31.8178355589267</td><td>61.374530771407144</td><td>78.44221656200402</td><td>46.62438100307732</td><td>105.3713672914731</td><td>124.22253452875236</td><td>145.88497599514588</td><td>40.51360870367277</td><td>0</td></tr><tr><td>27.37523017929985</td><td>47.48485077139388</td><td>67.98261400047622</td><td>40.60738382117637</td><td>100.11006535706207</td><td>110.57459821640212</td><td>99.78128308080454</td><td>-0.32878227625752743</td><td>1</td></tr><tr><td>33.2893223186446</td><td>52.2796614769968</td><td>70.25177639014495</td><td>36.96245407150035</td><td>100.24673401890709</td><td>115.48346807910801</td><td>99.98026499249256</td><td>-0.2664690264145264</td><td>1</td></tr><tr><td>44.066511758145815</td><td>61.42131995568504</td><td>79.73765697422587</td><td>35.671145216080056</td><td>100.07013557596605</td><td>114.40213969472232</td><td>99.16527760118366</td><td>-0.9048579747823879</td><td>1</td></tr><tr><td>39.66093395209039</td><td>61.122881505299006</td><td>80.70588147643541</td><td>41.04494752434502</td><td>108.32324644055359</td><td>123.80360404930865</td><td>144.93272534232798</td><td>36.609478901774395</td><td>1</td></tr><tr><td>35.874730598918774</td><td>53.12052945694209</td><td>71.48701751904491</td><td>35.61228692012614</td><td>100.07585527831858</td><td>110.72824978585498</td><td>99.92768397937752</td><td>-0.1481712989410653</td><td>1</td></tr><tr><td>41.14845326410834</td><td>63.316979154467376</td><td>82.93086477959902</td><td>41.78241151549068</td><td>100.02851397445822</td><td>110.25757822793143</td><td>99.9896102106213</td><td>-0.038903763836927396</td><td>1</td></tr><tr><td>38.10796919764259</td><td>59.696672900723684</td><td>78.19160651453939</td><td>40.0836373168968</td><td>100.0037067429219</td><td>112.76682579938621</td><td>99.9604698072901</td><td>-0.043236935631810525</td><td>0</td></tr><tr><td>34.83975232652527</td><td>53.563858524608236</td><td>72.51629573195636</td><td>37.67654340543109</td><td>100.0148379419751</td><td>101.83905826881336</td><td>99.87717152251435</td><td>-0.13766641946075708</td><td>1</td></tr><tr><td>35.36167751625282</td><td>57.17380840219266</td><td>80.0653527302745</td><td>44.70367521402168</td><td>100.06842615246573</td><td>107.23293570600454</td><td>99.90750131553348</td><td>-0.1609248369322529</td><td>1</td></tr><tr><td>43.29488549741161</td><td>62.63039111464387</td><td>82.78273683561183</td><td>39.487851338200215</td><td>106.13586363538528</td><td>125.30453890716987</td><td>145.01375959926597</td><td>38.87789596388069</td><td>0</td></tr><tr><td>41.01584489627632</td><td>61.6160076965517</td><td>82.35584740770483</td><td>41.34000251142851</td><td>110.46052286165468</td><td>132.1575915777525</td><td>149.07308161736074</td><td>38.61255875570606</td><td>0</td></tr><tr><td>32.55006109624641</td><td>52.84560643555675</td><td>76.06331773407237</td><td>43.51325663782596</td><td>100.00414759948309</td><td>111.44503288277878</td><td>99.73801879263173</td><td>-0.26612880685135565</td><td>1</td></tr><tr><td>37.058752258401086</td><td>61.41922970079497</td><td>83.01467759464936</td><td>45.95592533624827</td><td>100.00924100147225</td><td>115.13083245268042</td><td>99.6632621050941</td><td>-0.34597889637814205</td><td>1</td></tr><tr><td>49.934592965097295</td><td>70.51223426993495</td><td>88.16486039720277</td><td>38.23026743210548</td><td>103.4775680431193</td><td>123.73304211760811</td><td>142.60427661785857</td><td>39.12670857473927</td><td>1</td></tr><tr><td>36.03932174012506</td><td>53.44732888674302</td><td>76.57330767155443</td><td>40.53398593142937</td><td>102.30072194767003</td><td>119.53494033341592</td><td>144.09809855488822</td><td>41.7973766072182</td><td>1</td></tr><tr><td>37.09643162030256</td><td>57.182929154345125</td><td>73.7568058104639</td><td>36.66037419016134</td><td>100.02136568449924</td><td>97.9019086809376</td><td>99.96509315492514</td><td>-0.05627252957410178</td><td>1</td></tr><tr><td>34.52996384851621</td><td>55.37647010422617</td><td>73.70079509469029</td><td>39.17083124617408</td><td>100.11338535473605</td><td>111.26624083900346</td><td>99.9722050863609</td><td>-0.14118026837515174</td><td>1</td></tr><tr><td>32.59493599373478</td><td>54.55419822150717</td><td>75.01256427045166</td><td>42.41762827671688</td><td>100.09818091794564</td><td>110.97374052560949</td><td>99.9715790014153</td><td>-0.12660191653034758</td><td>1</td></tr><tr><td>42.61196281324057</td><td>61.59359891608354</td><td>81.1896928829268</td><td>38.57773006968624</td><td>101.64909597195913</td><td>118.50307742327328</td><td>98.54662422487114</td><td>-3.1024717470879892</td><td>1</td></tr><tr><td>34.477388672025526</td><td>53.73258518418602</td><td>73.90576432630132</td><td>39.4283756542758</td><td>102.70573447734265</td><td>117.81679017260672</td><td>99.12379791743543</td><td>-3.58193655990722</td><td>0</td></tr><tr><td>42.77807105562846</td><td>61.34590813216392</td><td>80.59359266306078</td><td>37.815521607432316</td><td>101.32588496472673</td><td>115.86280226817954</td><td>98.52429295178216</td><td>-2.8015920129445675</td><td>0</td></tr><tr><td>39.20400347928605</td><td>57.428464949405466</td><td>83.94495703288597</td><td>44.740953553599915</td><td>102.47311963834663</td><td>118.90600026857243</td><td>136.09188475537178</td><td>33.61876511702515</td><td>1</td></tr><tr><td>37.06510240258926</td><td>55.56364441103787</td><td>73.07007425049719</td><td>36.004971847907925</td><td>106.88278954829492</td><td>123.23252811687779</td><td>146.11951497769786</td><td>39.23672542940294</td><td>1</td></tr><tr><td>42.47799859290063</td><td>58.61123236904557</td><td>83.26352374651535</td><td>40.785525153614714</td><td>100.06206754282512</td><td>109.67310327909156</td><td>99.94871670509372</td><td>-0.11335083773140298</td><td>1</td></tr><tr><td>41.82091839871417</td><td>58.415693492011485</td><td>77.42934344802194</td><td>35.60842504930777</td><td>102.0036151855053</td><td>119.10608734584757</td><td>144.2658112383972</td><td>42.262196052891895</td><td>1</td></tr><tr><td>35.12154191038019</td><td>53.978078419479495</td><td>76.03203063043446</td><td>40.910488720054275</td><td>100.02870292153334</td><td>101.96122273538283</td><td>99.99322874803558</td><td>-0.03547417349776083</td><td>1</td></tr><tr><td>36.52477051630206</td><td>56.9720374224014</td><td>75.01121363373942</td><td>38.486443117437354</td><td>100.00330408810383</td><td>109.87469265528871</td><td>99.79646755109346</td><td>-0.20683653701037485</td><td>1</td></tr><tr><td>30.98878106944347</td><td>52.50343103378747</td><td>79.20461062753746</td><td>48.21582955809399</td><td>100.1754049726329</td><td>111.98687353028524</td><td>99.8042117157155</td><td>-0.3711932569174081</td><td>1</td></tr><tr><td>29.718358531316117</td><td>54.475324988791286</td><td>73.9405726120321</td><td>44.222214080715986</td><td>100.53763812662154</td><td>118.66739666208903</td><td>140.67121303969566</td><td>40.13357491307411</td><td>1</td></tr><tr><td>38.67307349854467</td><td>56.695966734014725</td><td>80.7360641931836</td><td>42.06299069463893</td><td>100.54620306274207</td><td>112.44232343853817</td><td>99.49586189821335</td><td>-1.0503411645287173</td><td>1</td></tr><tr><td>37.6155965815465</td><td>60.38336733913602</td><td>81.47457524399724</td><td>43.85897866245074</td><td>106.63307334913159</td><td>127.6025431654871</td><td>149.32482963613057</td><td>42.69175628699898</td><td>1</td></tr><tr><td>37.68729015963055</td><td>58.97089833138009</td><td>80.95383871696669</td><td>43.26654855733614</td><td>109.22254947433572</td><td>127.69830555360825</td><td>148.13588474499144</td><td>38.91333527065572</td><td>1</td></tr><tr><td>43.08861999147689</td><td>63.57873820725843</td><td>81.9766837524719</td><td>38.88806376099501</td><td>109.98781729500168</td><td>129.84737232682357</td><td>148.62207071848775</td><td>38.63425342348607</td><td>1</td></tr><tr><td>42.14281856668732</td><td>62.76928775026749</td><td>88.87805752333796</td><td>46.73523895665064</td><td>100.60847382561042</td><td>118.08804511975598</td><td>99.90384643602371</td><td>-0.7046273895867046</td><td>0</td></tr><tr><td>35.52224150879337</td><td>55.24772856990126</td><td>74.75773915544364</td><td>39.23549764665027</td><td>101.4425207534573</td><td>116.85939956088122</td><td>99.09361399128694</td><td>-2.3489067621703583</td><td>1</td></tr><tr><td>38.84337640649022</td><td>57.794114274188374</td><td>82.41339175102719</td><td>43.57001534453697</td><td>100.67515118110799</td><td>117.97940736465709</td><td>98.46499090988476</td><td>-2.2101602712232307</td><td>1</td></tr><tr><td>38.03226852267949</td><td>60.230703475408866</td><td>77.57137225490766</td><td>39.53910373222817</td><td>100.05885016291701</td><td>123.38365460823671</td><td>141.43309628526416</td><td>41.374246122347145</td><td>0</td></tr><tr><td>36.3755006629025</td><td>59.50391366045179</td><td>82.91048453056263</td><td>46.534983867660124</td><td>102.19107865493092</td><td>120.94449378965955</td><td>143.1639326076083</td><td>40.97285395267738</td><td>1</td></tr><tr><td>36.62825071837584</td><td>55.67034019356224</td><td>76.61877787412345</td><td>39.990527155747614</td><td>100.09333622880564</td><td>109.45849449664443</td><td>99.91918121725156</td><td>-0.17415501155407753</td><td>1</td></tr><tr><td>39.14120872099717</td><td>60.94867828144888</td><td>80.2991760411599</td><td>41.157967320162726</td><td>109.56917110105783</td><td>128.25285587998005</td><td>144.8813528027793</td><td>35.31218170172147</td><td>1</td></tr><tr><td>38.788153502584464</td><td>57.79090434270172</td><td>79.91841943531811</td><td>41.13026593273365</td><td>100.02808649497851</td><td>113.48672292253409</td><td>99.67874219087582</td><td>-0.34934430410268646</td><td>1</td></tr><tr><td>39.776355858719484</td><td>60.768631321068376</td><td>82.06521490718815</td><td>42.288859048468666</td><td>105.48705705680699</td><td>127.80996788494905</td><td>147.9768845514056</td><td>42.4898274945986</td><td>1</td></tr><tr><td>28.76971480932028</td><td>54.39729151029968</td><td>77.4007945086386</td><td>48.63107969931832</td><td>105.65496441454876</td><td>127.89286493605327</td><td>151.6488039366095</td><td>45.99383952206075</td><td>1</td></tr><tr><td>39.38604522800365</td><td>60.64418878120395</td><td>78.94327510102059</td><td>39.55722987301694</td><td>100.96149168057723</td><td>116.21009585949271</td><td>99.39631499955772</td><td>-1.5651766810195085</td><td>0</td></tr><tr><td>40.762238900177394</td><td>62.97375428447655</td><td>81.87818198449358</td><td>41.115943084316186</td><td>103.44300024891878</td><td>125.71332440649387</td><td>143.74681826495208</td><td>40.303818016033304</td><td>1</td></tr><tr><td>42.67493572382554</td><td>61.76444536106824</td><td>85.60927955839</td><td>42.93434383456446</td><td>108.27441756553576</td><td>127.3002555270563</td><td>147.17618877080994</td><td>38.90177120527419</td><td>1</td></tr><tr><td>37.93715208178956</td><td>58.529598162003914</td><td>80.6612284726828</td><td>42.72407639089323</td><td>108.42100424327633</td><td>129.46627902087042</td><td>152.89194986996216</td><td>44.47094562668583</td><td>1</td></tr><tr><td>36.33683804254915</td><td>61.52802320104961</td><td>79.19268699040978</td><td>42.855848947860636</td><td>101.48171339480307</td><td>123.37669282413998</td><td>142.5682495386734</td><td>41.08653614387033</td><td>0</td></tr><tr><td>38.71879047930171</td><td>57.218445846257175</td><td>78.23193060877547</td><td>39.51314012947376</td><td>100.27261042249476</td><td>116.80978665134553</td><td>99.50128473872562</td><td>-0.7713256837691489</td><td>1</td></tr><tr><td>38.8033472862076</td><td>64.54448914365467</td><td>82.58924333208111</td><td>43.785896045873514</td><td>104.99627517915891</td><td>125.74310763667447</td><td>143.39181307339965</td><td>38.39553789424073</td><td>1</td></tr><tr><td>33.473281840025805</td><td>57.440743226488856</td><td>79.97376192235241</td><td>46.500480082326604</td><td>100.16494210337366</td><td>108.80311645473816</td><td>99.95244964079134</td><td>-0.21249246258231835</td><td>1</td></tr><tr><td>35.47908581898288</td><td>59.29142511692009</td><td>83.09846287082098</td><td>47.6193770518381</td><td>103.89320644116196</td><td>121.49804535593333</td><td>138.82166216748575</td><td>34.92845572632379</td><td>1</td></tr><tr><td>48.852608947250005</td><td>65.29433963229101</td><td>82.70845327821704</td><td>33.85584433096703</td><td>115.0411716601705</td><td>135.06846154548484</td><td>154.8534065039064</td><td>39.812234843735894</td><td>0</td></tr><tr><td>35.6816882580559</td><td>54.695494950088346</td><td>79.33856223920638</td><td>43.65687398115048</td><td>100.32257441763207</td><td>110.91442386829013</td><td>99.89295097991253</td><td>-0.4296234377195418</td><td>1</td></tr><tr><td>42.13729931367675</td><td>61.87288735184264</td><td>82.6822411466314</td><td>40.54494183295465</td><td>108.23967836562721</td><td>126.89188564644219</td><td>148.56360520850075</td><td>40.32392684287353</td><td>1</td></tr><tr><td>40.9180422231898</td><td>58.84885478311658</td><td>79.68634704403648</td><td>38.76830482084668</td><td>100.46603592025336</td><td>116.60085588519021</td><td>99.93701057585974</td><td>-0.5290253443936166</td><td>1</td></tr><tr><td>39.09953728275549</td><td>59.258926351674404</td><td>83.62463001849146</td><td>44.52509273573597</td><td>106.30833784172836</td><td>121.69334003029607</td><td>140.86063780681684</td><td>34.55229996508848</td><td>1</td></tr><tr><td>41.09959752891303</td><td>62.80303338686844</td><td>81.11328731271014</td><td>40.01368978379711</td><td>100.17736579866755</td><td>115.11732974343795</td><td>99.61088523724814</td><td>-0.5664805614194108</td><td>1</td></tr><tr><td>40.336859784776536</td><td>58.96768267401441</td><td>77.16993668291684</td><td>36.833076898140305</td><td>100.05077712242071</td><td>108.80358064367525</td><td>99.69182057099323</td><td>-0.3589565514274824</td><td>1</td></tr><tr><td>35.808212041812865</td><td>56.56728800888731</td><td>76.59698729980084</td><td>40.78877525798798</td><td>100.00500953136168</td><td>111.86119034652039</td><td>99.94121702409562</td><td>-0.0637925072660579</td><td>1</td></tr><tr><td>45.738454025349654</td><td>66.8709380631079</td><td>90.37867220569571</td><td>44.640218180346054</td><td>106.0934235949964</td><td>126.89940246107281</td><td>151.69114392345128</td><td>45.59772032845488</td><td>1</td></tr><tr><td>29.007875101016623</td><td>54.645039302424856</td><td>82.4264635562549</td><td>53.41858845523828</td><td>100.29911997200185</td><td>112.90721234606201</td><td>99.88598045735456</td><td>-0.41313951464728405</td><td>1</td></tr><tr><td>35.96349297975455</td><td>54.71673176618614</td><td>74.055822167575</td><td>38.092329187820454</td><td>100.02199362388602</td><td>103.68101908687055</td><td>99.995288730243</td><td>-0.026704893643014316</td><td>1</td></tr><tr><td>35.562679857414146</td><td>58.71089511904646</td><td>75.40533543501792</td><td>39.84265557760377</td><td>100.99048546230614</td><td>119.82176989361852</td><td>141.73556400892528</td><td>40.74507854661914</td><td>1</td></tr><tr><td>38.66559679984857</td><td>61.516787575216846</td><td>79.78712095187376</td><td>41.12152415202519</td><td>111.30423322516427</td><td>132.96777637464098</td><td>152.06611175194163</td><td>40.761878526777366</td><td>1</td></tr><tr><td>41.56556703035375</td><td>58.07696049733711</td><td>75.7838425834496</td><td>34.21827555309585</td><td>104.64938766229454</td><td>119.83276071015932</td><td>97.16122871457901</td><td>-7.488158947715533</td><td>0</td></tr><tr><td>35.84892640261788</td><td>57.388694208363596</td><td>76.65804820077004</td><td>40.80912179815216</td><td>103.81657529943033</td><td>122.00863540760648</td><td>142.71990462267746</td><td>38.903329323247135</td><td>1</td></tr><tr><td>44.23734802532731</td><td>70.82675077156924</td><td>89.11362676288564</td><td>44.87627873755834</td><td>106.63340405241486</td><td>124.37504491560769</td><td>141.75295514289334</td><td>35.11955109047848</td><td>0</td></tr><tr><td>38.538849506976035</td><td>59.10848401004029</td><td>76.10880818270294</td><td>37.56995867572691</td><td>100.53773387133403</td><td>122.02339366946593</td><td>96.55685014493713</td><td>-3.980883726396897</td><td>1</td></tr><tr><td>41.19824461241659</td><td>60.371967892694876</td><td>80.19226580344498</td><td>38.994021191028395</td><td>102.87337257154618</td><td>120.834144381884</td><td>137.7101112176667</td><td>34.83673864612052</td><td>0</td></tr><tr><td>35.586288382801634</td><td>55.694154165205205</td><td>77.95208659889822</td><td>42.365798216096586</td><td>118.99824641207925</td><td>139.24246545641395</td><td>158.0027947898672</td><td>39.004548377787955</td><td>1</td></tr><tr><td>40.13218347913124</td><td>57.64751097968571</td><td>77.72747403728211</td><td>37.595290558150865</td><td>100.01927906510959</td><td>111.48550136756253</td><td>99.98585100893936</td><td>-0.03342805617022293</td><td>1</td></tr><tr><td>35.52276628443495</td><td>58.899928426003</td><td>77.84430867239219</td><td>42.32154238795724</td><td>107.5613604207549</td><td>125.7493141057638</td><td>145.30339505186942</td><td>37.74203463111452</td><td>1</td></tr><tr><td>38.459295283238795</td><td>61.27856081469</td><td>82.79098027874741</td><td>44.33168499550862</td><td>105.71951624366326</td><td>122.88118720961602</td><td>142.13934787349396</td><td>36.419831629830696</td><td>0</td></tr><tr><td>39.52378925288102</td><td>61.86220126523169</td><td>89.40553297500303</td><td>49.881743722122</td><td>101.77908890720424</td><td>118.77839669373454</td><td>99.18953208028829</td><td>-2.5895568269159526</td><td>0</td></tr><tr><td>38.877208074870616</td><td>59.203874658703846</td><td>78.5647462112132</td><td>39.68753813634259</td><td>102.3679468439168</td><td>117.98410460095624</td><td>99.29356218961102</td><td>-3.0743846543057742</td><td>0</td></tr><tr><td>43.48095924056118</td><td>61.17008800424</td><td>85.07463828118713</td><td>41.59367904062596</td><td>100.0641858060246</td><td>124.94723616536375</td><td>142.83926339751582</td><td>42.775077591491225</td><td>1</td></tr><tr><td>41.46747023370987</td><td>62.09383012689898</td><td>84.55309358248162</td><td>43.085623348771755</td><td>100.27256668120597</td><td>115.48612739187658</td><td>99.92782498198744</td><td>-0.34474169921853104</td><td>1</td></tr><tr><td>27.134745230857906</td><td>54.260651373613136</td><td>70.13978351839143</td><td>43.00503828753352</td><td>102.37925292542914</td><td>117.26551420862963</td><td>136.8284617567106</td><td>34.44920883128145</td><td>1</td></tr><tr><td>34.90257797839022</td><td>53.47274535192001</td><td>71.36115971476201</td><td>36.45858173637179</td><td>100.03444415873005</td><td>105.9810910319113</td><td>99.84841849593684</td><td>-0.1860256627932131</td><td>1</td></tr><tr><td>49.920289376300886</td><td>67.00840488398771</td><td>92.50207998849788</td><td>42.581790612197</td><td>103.49385440553613</td><td>122.2998222700246</td><td>137.6591134824006</td><td>34.16525907686449</td><td>1</td></tr><tr><td>28.708656536045574</td><td>50.02240956733325</td><td>69.66734809233901</td><td>40.95869155629344</td><td>100.02848942271731</td><td>98.75343427944188</td><td>99.95464393146806</td><td>-0.07384549124925854</td><td>1</td></tr><tr><td>45.849112107854125</td><td>63.50506837002921</td><td>89.58195783649023</td><td>43.73284572863611</td><td>107.8102095077348</td><td>128.07944274959027</td><td>148.16725252049596</td><td>40.35704301276117</td><td>1</td></tr><tr><td>40.62365029491502</td><td>57.413937670849705</td><td>75.62769503969032</td><td>35.0040447447753</td><td>100.54546450179316</td><td>116.54235685007453</td><td>99.87545574208163</td><td>-0.6700087597115356</td><td>1</td></tr><tr><td>35.16156983983914</td><td>55.87658370629187</td><td>75.35380404111301</td><td>40.19223420127387</td><td>109.64666704829685</td><td>131.97045350803464</td><td>149.75934247479188</td><td>40.11267542649503</td><td>1</td></tr><tr><td>43.14327971636279</td><td>63.413443070127975</td><td>82.47617968415966</td><td>39.33289996779687</td><td>104.40717075772224</td><td>125.8874930735858</td><td>144.0929135018936</td><td>39.685742744171364</td><td>1</td></tr><tr><td>36.59144509811311</td><td>60.96476679648908</td><td>83.04371750249582</td><td>46.45227240438271</td><td>112.5309982512936</td><td>132.08483465148572</td><td>154.02344542427164</td><td>41.492447172978046</td><td>1</td></tr><tr><td>37.000862304550864</td><td>61.43499297014584</td><td>81.29390302680861</td><td>44.29304072225774</td><td>100.02671607103889</td><td>111.43601841050383</td><td>99.83669080558374</td><td>-0.19002526545514797</td><td>1</td></tr><tr><td>41.87293240554169</td><td>61.86292969254332</td><td>82.19847249095778</td><td>40.325540085416094</td><td>104.22005112075317</td><td>126.2201557470767</td><td>145.44991076700776</td><td>41.229859646254596</td><td>1</td></tr><tr><td>29.946618069191818</td><td>56.97508863418521</td><td>80.57193997657131</td><td>50.6253219073795</td><td>100.05446270256515</td><td>112.65703451441597</td><td>99.67373198986924</td><td>-0.3807307126959074</td><td>1</td></tr><tr><td>44.07228543742415</td><td>60.78808167183931</td><td>81.82690723427788</td><td>37.75462179685373</td><td>101.8122952115061</td><td>121.29788149025282</td><td>142.80673687587063</td><td>40.99444166436453</td><td>1</td></tr><tr><td>38.573802795780125</td><td>56.92679964452233</td><td>76.04113015847551</td><td>37.467327362695386</td><td>102.34244314866181</td><td>124.67019446565975</td><td>144.26249997952527</td><td>41.92005683086346</td><td>1</td></tr><tr><td>40.95986913097104</td><td>60.53405407327022</td><td>83.52764103133863</td><td>42.56777190036759</td><td>100.12298300559331</td><td>110.54950900949781</td><td>99.86545160480011</td><td>-0.2575314007931979</td><td>1</td></tr></tbody></table>Showing the first 1000 rows.</div>"
      ]
     },
     "metadata": {
      "application/vnd.databricks.v1+output": {
       "addedWidgets": {},
       "aggData": [],
       "aggError": "",
       "aggOverflow": false,
       "aggSchema": [],
       "aggSeriesLimitReached": false,
       "aggType": "",
       "arguments": {},
       "columnCustomDisplayInfos": {},
       "data": [
        [
         "100.12190323385116",
         82.68379727873081,
         "99.13828099149359",
         -0.9836222423575691,
         "120.30779135992243",
         139.43487473206162,
         "162.34782728523246",
         42.04003592531002,
         0
        ],
        [
         "52.71287564903336",
         77.73294228506452,
         "97.93773119202254",
         45.22485554298918,
         "109.04938651327842",
         127.05715346661702,
         "146.86986814834722",
         37.8204816350688,
         0
        ],
        [
         "100.37366097806768",
         86.51162895591307,
         "99.78933645583436",
         -0.5843245222333167,
         "129.5517281106538",
         147.31573126952208,
         "177.78314996951866",
         48.23142185886485,
         0
        ],
        [
         "58.41880559722201",
         77.55054135762612,
         "98.87532936858241",
         40.4565237713604,
         "110.84551702943472",
         129.5770039396946,
         "146.7386499653505",
         35.89313293591579,
         0
        ],
        [
         "49.81689070901131",
         68.93310580458204,
         "92.68678860925904",
         42.86989790024773,
         "116.68894230853843",
         136.50268661405897,
         "162.3638297702582",
         45.67488746171978,
         0
        ],
        [
         "47.35569868189229",
         69.31244794850774,
         "92.76249605385787",
         45.40679737196558,
         "147.8761660158842",
         167.18585016710105,
         "186.28361490243202",
         38.407448886547826,
         0
        ],
        [
         "43.51461112051503",
         64.64397544858174,
         "82.07381856112256",
         38.55920744060754,
         "126.14263661366581",
         152.9654977304546,
         "173.98748183735378",
         47.84484522368797,
         0
        ],
        [
         "100.00309226714643",
         81.33282756113321,
         "99.23741546147319",
         -0.7656768056732375,
         "119.40382197892441",
         137.57131998347788,
         "156.9670310686102",
         37.563209089685785,
         0
        ],
        [
         "40.714172943212596",
         64.79507042723496,
         "82.96829328067244",
         42.254120337459845,
         "116.41765662495979",
         139.39836367080545,
         "157.39528580691194",
         40.97762918195215,
         0
        ],
        [
         "100.00362526100596",
         89.51117796589962,
         "99.91629552898303",
         -0.08732973202293692,
         "106.10261352131862",
         126.57048164605168,
         "148.28320037619991",
         42.1805868548813,
         0
        ],
        [
         "100.09977220335628",
         86.21818958751346,
         "98.98948931572193",
         -1.1102828876343551,
         "124.6863540616992",
         144.21087862838124,
         "166.1429728819897",
         41.45661882029049,
         0
        ],
        [
         "100.37023423129305",
         87.30070759200832,
         "99.84497517146329",
         -0.5252590598297644,
         "121.10821029149942",
         139.97122582181592,
         "157.72950643719122",
         36.6212961456918,
         0
        ],
        [
         "100.17682849120425",
         89.79743806208528,
         "99.76985890634596",
         -0.40696958485828816,
         "132.48104553959288",
         152.631637108012,
         "178.30064489891916",
         45.819599359326276,
         0
        ],
        [
         "100.12409524742978",
         84.03137470273838,
         "99.71350686515446",
         -0.41058838227532135,
         "133.0269343956513",
         150.56703733080104,
         "168.93259914721637",
         35.90566475156507,
         0
        ],
        [
         "102.23915790822053",
         80.1338443085794,
         "97.85976072574366",
         -4.379397182476879,
         "120.54801974348959",
         139.1112118995804,
         "160.68584595227696",
         40.137826208787374,
         0
        ],
        [
         "45.073870610996735",
         63.81019197505969,
         "85.58895986492655",
         40.515089253929816,
         "108.84906790820897",
         127.98945894646793,
         "149.1653291086743",
         40.31626120046535,
         0
        ],
        [
         "100.72739674123571",
         80.8985477248526,
         "98.23251674511442",
         -2.494879996121284,
         "114.74439736892054",
         133.876183209391,
         "155.97112641868222",
         41.22672904976167,
         0
        ],
        [
         "101.53796777052537",
         75.74981399738974,
         "99.06004607386267",
         -2.4779216966627047,
         "106.04130560240088",
         130.93270399176032,
         "150.64418851883968",
         44.6028829164388,
         1
        ],
        [
         "57.265880912537874",
         74.80771257625209,
         "92.80076116334737",
         35.5348802508095,
         "127.52062343722739",
         147.73504483488392,
         "165.54217552709446",
         38.02155208986707,
         0
        ],
        [
         "41.132383445370124",
         60.12813834027657,
         "85.46479020932821",
         44.33240676395809,
         "101.03804626654917",
         119.2243293003114,
         "97.53020601746209",
         -3.5078402490870815,
         1
        ],
        [
         "51.35915229378244",
         70.0112751088516,
         "91.17777793973075",
         39.81862564594831,
         "118.19727970591728",
         139.1288157090193,
         "159.120122527444",
         40.92284282152673,
         0
        ],
        [
         "100.0343518188607",
         88.23880457769332,
         "99.63884228046132",
         -0.39550953839938074,
         "126.17418397345081",
         150.01584026269904,
         "169.3115210789682",
         43.1373371055174,
         0
        ],
        [
         "100.77477376906393",
         82.02245243435067,
         "99.85102043998442",
         -0.9237533290795028,
         "125.78877932473299",
         143.72592567021516,
         "164.80421048687074",
         39.01543116213776,
         0
        ],
        [
         "52.1721101904964",
         75.32980422409445,
         "94.76160712323956",
         42.58949693274316,
         "107.99617529356007",
         131.27781213261363,
         "155.97168223081815",
         47.975506937258075,
         0
        ],
        [
         "55.172968233551266",
         79.07966466710211,
         "96.5846431011176",
         41.41167486756634,
         "125.29309722189646",
         146.31114516507122,
         "166.57874479587582",
         41.28564757397936,
         0
        ],
        [
         "100.51562253180968",
         85.39254588635652,
         "99.69793222129356",
         -0.8176903105161273,
         "118.07236469788819",
         137.26660215248359,
         "158.0222769085385",
         39.9499122106503,
         0
        ],
        [
         "100.05369822017947",
         91.75935861929266,
         "99.90326895601238",
         -0.15042926416708724,
         "117.15194093542787",
         137.60189558340846,
         "157.11982075116416",
         39.96787981573628,
         0
        ],
        [
         "101.76611768048025",
         82.47189663319496,
         "97.41687876053113",
         -4.349238919949116,
         "100.02134870399757",
         105.81296980596466,
         "99.87166462832933",
         -0.14968407566824737,
         0
        ],
        [
         "51.90328499865765",
         73.03301519285105,
         "90.41588700905844",
         38.51260201040079,
         "100.29810971562218",
         118.50464865660379,
         "99.98339486768663",
         -0.31471484793554794,
         1
        ],
        [
         "62.85927798956088",
         80.84581582831568,
         "99.49974810702821",
         36.64047011746733,
         "138.12378532607113",
         158.31010519024213,
         "182.82590397529606",
         44.70211864922493,
         0
        ],
        [
         "59.10086477663545",
         79.53887594717567,
         "97.77284594847148",
         38.67198117183604,
         "129.82750712710467",
         149.37867198043944,
         "169.0771823666545",
         39.249675239549845,
         0
        ],
        [
         "100.15192699541772",
         96.59424538906785,
         "99.99750735905104",
         -0.15441963636668277,
         "106.59117182774568",
         127.22416938150873,
         "146.15979100873233",
         39.568619180986644,
         0
        ],
        [
         "100.61142863935883",
         81.76113649954415,
         "99.02650608496269",
         -1.5849225543961438,
         "133.56831511708498",
         156.23502999900032,
         "176.28393240705134",
         42.71561728996636,
         0
        ],
        [
         "60.677518528020975",
         79.70953288334813,
         "98.68055071665187",
         38.00303218863089,
         "118.72354751216028",
         136.3160602044928,
         "160.0281727216799",
         41.30462520951963,
         0
        ],
        [
         "56.644997575877795",
         76.1759103001824,
         "99.06807918138666",
         42.42308160550887,
         "125.05053881286672",
         142.83238674539368,
         "162.0348373178748",
         36.984298505008084,
         0
        ],
        [
         "100.00039204173717",
         86.29797311739541,
         "99.96302646417453",
         -0.03736557756263892,
         "106.6586968604667",
         128.10447052170923,
         "147.29004212696213",
         40.63134526649543,
         0
        ],
        [
         "100.00925531528956",
         85.55874850075973,
         "99.97097988033855",
         -0.03827543495101793,
         "138.1381286752834",
         154.71508240752146,
         "176.7826353759268",
         38.644506700643376,
         0
        ],
        [
         "100.08187740913334",
         90.86679398042912,
         "99.88906858625796",
         -0.19280882287537793,
         "111.31567578330285",
         127.6482052188282,
         "144.65948141302673",
         33.343805629723875,
         0
        ],
        [
         "41.47509020423088",
         58.283450201240946,
         "78.6216706081196",
         37.14658040388872,
         "102.15511707087619",
         120.07779187134611,
         "140.81609909295452",
         38.66098202207833,
         0
        ],
        [
         "100.13405579577942",
         76.33341892264967,
         "94.32373807309772",
         -5.810317722681702,
         "120.25775056763668",
         138.7795476586327,
         "159.19050787509434",
         38.93275730745766,
         0
        ],
        [
         "100.39697334215725",
         84.97913919043351,
         "99.81098852639474",
         -0.5859848157625152,
         "125.38360039101518",
         144.7021608154585,
         "162.33800011659912",
         36.95439972558394,
         0
        ],
        [
         "56.730602863464206",
         77.80871909524456,
         "95.2271219246107",
         38.49651906114649,
         "109.91516258133318",
         129.10762087334388,
         "149.48147429169939",
         39.56631171036621,
         0
        ],
        [
         "58.87614897714715",
         78.31990185660892,
         "98.60804459924393",
         39.73189562209677,
         "121.20004838185055",
         142.2464663389185,
         "164.27621108414502",
         43.07616270229447,
         0
        ],
        [
         "59.8648590999634",
         79.36298551754204,
         "97.75947128426657",
         37.89461218430317,
         "130.2219821097677",
         148.230268844504,
         "169.27789300917146",
         39.055910899403756,
         0
        ],
        [
         "100.04442454828008",
         91.78362304967129,
         "99.57915429319921",
         -0.46527025508086695,
         "110.71265163113358",
         129.78489715444067,
         "149.1185788044226",
         38.40592717328903,
         0
        ],
        [
         "51.857449505772834",
         75.2625914539711,
         "96.12151055520435",
         44.26406104943152,
         "140.8241847518637",
         158.52396442488805,
         "178.47375090232157",
         37.64956615045787,
         0
        ],
        [
         "48.862645142384906",
         66.55094487461385,
         "84.28986661173887",
         35.42722146935397,
         "128.57437667161636",
         148.56226294063006,
         "167.56641924629838",
         38.99204257468202,
         0
        ],
        [
         "42.32127158970859",
         63.024702740672396,
         "88.85545188909413",
         46.53418029938554,
         "122.19021915732799",
         144.5213042769217,
         "163.65397563355552",
         41.46375647622753,
         0
        ],
        [
         "60.51976558875029",
         80.73781202552018,
         "99.92486033310371",
         39.40509474435342,
         "101.17918386271643",
         124.84102512739325,
         "143.3688060454923",
         42.18962218277588,
         0
        ],
        [
         "47.436174750019106",
         74.68715833116123,
         "93.38920436934674",
         45.95302961932764,
         "124.70435293297768",
         143.0190158600752,
         "160.2241458346329",
         35.51979290165522,
         0
        ],
        [
         "55.61415565576392",
         71.87877201400556,
         "90.95295103110047",
         35.338795375336545,
         "119.15516616481567",
         141.25830265927655,
         "160.60878321080608",
         41.45361704599041,
         0
        ],
        [
         "44.7549428357911",
         66.9018691618088,
         "88.5794083148816",
         43.824465479090506,
         "108.11610209928057",
         130.8018283213408,
         "155.46938937628727",
         47.3532872770067,
         1
        ],
        [
         "101.0159142832813",
         82.26251589363093,
         "99.51152655926829",
         -1.5043877240130143,
         "130.9376489040225",
         150.93057490483585,
         "168.09500379321656",
         37.15735488919407,
         0
        ],
        [
         "55.37858568557478",
         78.38571152064517,
         "95.42464425475112",
         40.04605856917634,
         "118.60265380623001",
         135.00887073933623,
         "156.1081406780234",
         37.505486871793394,
         0
        ],
        [
         "37.630832998295226",
         57.94548196762418,
         "80.72480753592875",
         43.09397453763352,
         "117.55743548998781",
         136.19133883336912,
         "155.14687937099828",
         37.58944388101047,
         0
        ],
        [
         "46.22849655654342",
         67.90443674612256,
         "88.20168122637745",
         41.973184669834026,
         "144.26447543647876",
         166.5766258715207,
         "193.74232895614432",
         49.47785351966556,
         0
        ],
        [
         "55.14345163626818",
         72.88616293583084,
         "92.67245302362923",
         37.52900138736105,
         "113.88620783775951",
         137.9294373961837,
         "159.8147864085337",
         45.92857857077419,
         0
        ],
        [
         "39.2537149882173",
         60.171445119139456,
         "82.28925713582369",
         43.03554214760639,
         "124.17302787980843",
         140.61199806987605,
         "158.449515722443",
         34.27648784263458,
         0
        ],
        [
         "55.441406508653884",
         74.6509661738901,
         "97.87928879418185",
         42.43788228552796,
         "116.12947830966434",
         138.33686603930732,
         "156.14555786124458",
         40.01607955158025,
         0
        ],
        [
         "25.906853798847894",
         49.62570291257958,
         "67.35891966179842",
         41.45206586295053,
         "110.96778741938124",
         132.03025386483975,
         "148.1158330567546",
         37.14804563737337,
         0
        ],
        [
         "53.57946950419877",
         74.53118274987001,
         "95.171325288402",
         41.59185578420323,
         "113.46867013044746",
         134.61643475231443,
         "156.6251392003851",
         43.15646906993763,
         0
        ],
        [
         "58.41210006454247",
         77.39961551014737,
         "95.48162492092085",
         37.06952485637838,
         "115.1325597499308",
         140.7798370656412,
         "156.4213841616066",
         41.28882441167579,
         0
        ],
        [
         "48.736822133052286",
         68.79908019300508,
         "84.16900396686654",
         35.432181833814255,
         "100.05727462460159",
         111.57732425719618,
         "99.96393163565989",
         -0.0933429889416999,
         1
        ],
        [
         "100.54943665948171",
         80.64818513746137,
         "98.87253010119873",
         -1.6769065582829796,
         "125.98389950840797",
         146.63741790802501,
         "167.99815702571456",
         42.01425751730659,
         0
        ],
        [
         "102.60014853209336",
         77.16953216156257,
         "97.43081245477694",
         -5.169336077316416,
         "135.65945959309624",
         152.14216014835466,
         "170.95413736308726",
         35.29467776999101,
         0
        ],
        [
         "100.00972476169679",
         94.37891237773836,
         "99.9737650685333",
         -0.035959693163491124,
         "116.62653118337279",
         138.93152723780642,
         "162.31440304315922",
         45.687871859786426,
         0
        ],
        [
         "45.21843043211545",
         65.03398840492504,
         "83.96493528307434",
         38.74650485095889,
         "107.46056046044711",
         131.05205977194015,
         "153.88591938855023",
         46.42535892810312,
         1
        ],
        [
         "61.05559924051184",
         78.65877986732369,
         "99.74358770141811",
         38.68798846090627,
         "116.87936326942598",
         135.37777913018073,
         "155.47919777796346",
         38.599834508537484,
         0
        ],
        [
         "52.585547227070464",
         74.92992734038577,
         "90.59202814434425",
         38.00648091727379,
         "122.23816036254092",
         146.09048372303903,
         "166.77834692361876",
         44.54018656107783,
         0
        ],
        [
         "102.04117673180241",
         84.03445391589842,
         "99.97483238878988",
         -2.0663443430125312,
         "100.13446938187553",
         112.70046078016543,
         "99.88737246374144",
         -0.24709691813409052,
         1
        ],
        [
         "54.9539310408747",
         75.42280476038069,
         "99.22785578635009",
         44.27392474547539,
         "139.72388395717988",
         158.84278062934237,
         "182.16918933442653",
         42.445305377246655,
         0
        ],
        [
         "106.84205161543939",
         80.37069396366697,
         "99.29241030447389",
         -7.549641310965498,
         "132.37635756428617",
         152.53383095485142,
         "175.53128410181822",
         43.15492653753205,
         0
        ],
        [
         "58.57315325259116",
         79.91435587530242,
         "99.76206188860094",
         41.18890863600978,
         "130.3966305931341",
         148.69642968723986,
         "167.37062504790288",
         36.973994454768786,
         0
        ],
        [
         "54.965557501171396",
         78.95000946605,
         "97.71414762247646",
         42.748590121305064,
         "126.0885579507362",
         145.6542752685093,
         "165.90965466595088",
         39.82109671521468,
         0
        ],
        [
         "57.14093983569253",
         73.15790751770896,
         "90.14763518002098",
         33.006695344328456,
         "125.24506538390804",
         146.98453832103462,
         "165.43929030510333",
         40.194224921195286,
         0
        ],
        [
         "59.8467387410295",
         78.23927852511324,
         "96.78718936391188",
         36.94045062288238,
         "114.38153355748597",
         132.94451888980393,
         "155.0370238937561",
         40.655490336270134,
         0
        ],
        [
         "55.05636623483991",
         75.00885662609355,
         "95.88305465778429",
         40.82668842294437,
         "110.95125719062766",
         136.56308648262774,
         "157.17266948090187",
         46.221412290274216,
         0
        ],
        [
         "100.01586313588675",
         88.7656987622352,
         "99.76250283666775",
         -0.25336029921899694,
         "134.52911409222452",
         156.37384775563277,
         "178.43275432357146",
         43.90364023134694,
         0
        ],
        [
         "44.056248199558226",
         64.9927903023742,
         "83.75793372385132",
         39.7016855242931,
         "131.72854180585986",
         153.85669965239762,
         "173.42705649564775",
         41.698514689787885,
         0
        ],
        [
         "46.18079637486741",
         65.8781842335083,
         "93.4765795522548",
         47.29578317738739,
         "118.38848704023408",
         143.74718810992513,
         "164.5005750109057",
         46.11208797067161,
         0
        ],
        [
         "100.00910704351271",
         84.14083096276687,
         "99.85184226826772",
         -0.1572647752449967,
         "102.80333037695829",
         123.80709571761675,
         "142.22492093407106",
         39.42159055711278,
         0
        ],
        [
         "52.38607486547297",
         72.57769161456511,
         "95.20404091410343",
         42.81796604863046,
         "102.77180529877938",
         124.50458460216126,
         "143.77301149466174",
         41.00120619588236,
         0
        ],
        [
         "49.66734920878908",
         70.19092479909872,
         "91.67433055597056",
         42.00698134718147,
         "120.23782032820435",
         141.29996045745602,
         "163.43372586405357",
         43.19590553584922,
         0
        ],
        [
         "51.39387815530719",
         71.51063765716303,
         "90.53980831064231",
         39.14593015533512,
         "117.05481580453984",
         134.92176148854168,
         "155.0115720038933",
         37.95675619935345,
         0
        ],
        [
         "104.6059995890405",
         78.39773957600025,
         "98.51696703405557",
         -6.089032554984925,
         "102.47541319318404",
         121.15457280931726,
         "147.43595875061408",
         44.96054555743004,
         0
        ],
        [
         "100.00575762962659",
         96.05781052449841,
         "99.96168815805872",
         -0.044069471567866,
         "145.09731750110527",
         167.3799641644368,
         "187.17819203658416",
         42.0808745354789,
         0
        ],
        [
         "52.181490399018855",
         73.05281680613992,
         "97.66859576489512",
         45.48710536587626,
         "112.0978444118738",
         130.64648155221283,
         "152.4699967866481",
         40.3721523747743,
         1
        ],
        [
         "100.12872442806672",
         89.57257304381355,
         "99.83604810596111",
         -0.29267632210560635,
         "115.89919286307888",
         133.54378303306746,
         "149.90003613164674",
         34.00084326856786,
         0
        ],
        [
         "100.41633157711549",
         85.04365028908231,
         "99.91746344107587",
         -0.49886813603961855,
         "121.16521292160958",
         141.1904457541055,
         "158.98806499200842",
         37.82285207039884,
         0
        ],
        [
         "56.339668993502094",
         77.97855204718948,
         "99.56173970791028",
         43.22207071440818,
         "150.20630249403564",
         170.62021643969118,
         "191.6284172520955",
         41.42211475805985,
         0
        ],
        [
         "56.68335223100482",
         80.75370761805064,
         "97.99366138689103",
         41.310309155886216,
         "114.32283302759333",
         134.9706425046512,
         "157.085859293315",
         42.76302626572166,
         0
        ],
        [
         "41.59549035169695",
         66.8850944611056,
         "84.98762656822701",
         43.39213621653006,
         "112.19376212170697",
         132.02660161290555,
         "152.73757861013493",
         40.543816488427964,
         0
        ],
        [
         "61.7814560057151",
         79.35206212670943,
         "97.72627641376886",
         35.94482040805376,
         "108.8322760767961",
         132.88231199796377,
         "154.97932099319652",
         46.14704491640042,
         0
        ],
        [
         "56.707257281231534",
         76.78177278002545,
         "97.73273949189264",
         41.02548221066111,
         "112.02405640453662",
         129.17905020458878,
         "148.633327751741",
         36.609271347204384,
         1
        ],
        [
         "59.75737024441291",
         78.14050043142562,
         "97.46287387758966",
         37.70550363317675,
         "109.64475703565671",
         130.11569425994432,
         "147.85123136696285",
         38.20647433130614,
         0
        ],
        [
         "49.45652930464692",
         67.95998336922428,
         "88.9661671476962",
         39.509637843049276,
         "108.52774780012109",
         129.28550930666734,
         "149.6864869842812",
         41.15873918416011,
         0
        ],
        [
         "101.56697311834807",
         83.2702974046847,
         "99.71541087710398",
         -1.8515622412440962,
         "113.435533778174",
         134.22247901459153,
         "159.44675139435697",
         46.01121761618296,
         0
        ],
        [
         "54.30621220361477",
         75.87241332954204,
         "93.84793972580978",
         39.54172752219501,
         "118.94834341516098",
         144.04122160463126,
         "167.20787842918776",
         48.25953501402678,
         0
        ],
        [
         "50.649963738916504",
         69.44616160131915,
         "86.70186803499631",
         36.051904296079805,
         "122.66584622890082",
         145.89594463604163,
         "169.37524451529958",
         46.709398286398766,
         0
        ],
        [
         "100.27962490936676",
         84.98913995824626,
         "99.5633937159709",
         -0.7162311933958563,
         "118.56401905058621",
         134.38202891060246,
         "151.202572915626",
         32.638553865039796,
         0
        ],
        [
         "100.43109978726638",
         78.21933108698207,
         "96.00400999676651",
         -4.427089790499863,
         "118.62238147707345",
         148.03838841597576,
         "165.72032826721264",
         47.09794679013919,
         0
        ],
        [
         "100.07860321928048",
         83.9554094659091,
         "99.20083090526572",
         -0.8777723140147629,
         "123.19982867346022",
         142.59271589875036,
         "161.5815992173976",
         38.38177054393739,
         0
        ],
        [
         "100.5469733503288",
         86.05778494084096,
         "99.67044041949028",
         -0.8765329308385219,
         "124.29245360091538",
         143.20531597670237,
         "164.63425153894676",
         40.34179793803138,
         0
        ],
        [
         "100.21670716112357",
         93.77691704242918,
         "99.96956561662255",
         -0.24714154450101944,
         "129.14957717842464",
         150.8943759639396,
         "172.74644342181833",
         43.59686624339369,
         0
        ],
        [
         "29.21742481129167",
         56.74471373720562,
         "79.62763513593711",
         50.41021032464544,
         "117.58643110117485",
         138.59117352429064,
         "164.26070909415117",
         46.674277992976315,
         1
        ],
        [
         "61.247117065765224",
         81.25723713152367,
         "97.37411763227917",
         36.12700056651394,
         "117.13778807228452",
         137.2774925117852,
         "158.6220646220593",
         41.484276549774776,
         0
        ],
        [
         "58.225108338698846",
         77.14954705848463,
         "94.9738307856296",
         36.748722446930756,
         "123.43456386703181",
         140.1894847629503,
         "155.9844764119402",
         32.54991254490838,
         0
        ],
        [
         "100.15853179950574",
         91.82377942788189,
         "99.92926805747861",
         -0.22926374202712907,
         "126.35706244994354",
         149.278320867884,
         "170.28011708554405",
         43.92305463560051,
         0
        ],
        [
         "57.305545428273334",
         76.03140197754537,
         "94.49467125657665",
         37.18912582830332,
         "114.11564870760706",
         136.11322364381357,
         "155.06712401307806",
         40.95147530547099,
         0
        ],
        [
         "45.8429015585365",
         62.81501097446878,
         "85.48893795211976",
         39.64603639358326,
         "112.20200010263734",
         131.33009313201697,
         "158.44567760034178",
         46.24367749770444,
         1
        ],
        [
         "47.53639003347381",
         69.86778960425255,
         "96.33485125469997",
         48.79846122122616,
         "105.83337090369696",
         125.78481938005214,
         "152.17076434214843",
         46.33739343845147,
         1
        ],
        [
         "50.932441354981194",
         73.92100780000042,
         "93.17467795607432",
         42.242236601093126,
         "109.87384075434056",
         130.34554336059117,
         "151.40626147473003",
         41.53242072038947,
         0
        ],
        [
         "101.29635929537852",
         83.81620150415655,
         "99.60069720936228",
         -1.6956620860162417,
         "140.41294245791593",
         157.4780711526527,
         "175.67554655671304",
         35.26260409879711,
         0
        ],
        [
         "100.08940787240144",
         89.10979224476363,
         "99.99997543630867",
         -0.08943243609276408,
         "123.87465794357014",
         149.1744889253188,
         "166.71070968179714",
         42.836051738227,
         0
        ],
        [
         "100.29011984617921",
         85.30888261659175,
         "99.57950193967812",
         -0.7106179065010849,
         "120.2718696591743",
         141.7124865877084,
         "160.6745864334772",
         40.4027167743029,
         0
        ],
        [
         "100.09479996985198",
         90.56336463403424,
         "99.99777235609068",
         -0.09702761376129843,
         "114.16017924043389",
         132.72085058866787,
         "151.31190099003643",
         37.151721749602544,
         0
        ],
        [
         "46.25377467347052",
         64.4739930994436,
         "81.55324044980922",
         35.29946577633871,
         "131.15538238020235",
         151.06254540616243,
         "172.17597796720958",
         41.02059558700722,
         0
        ],
        [
         "57.24736715087586",
         76.34732087915248,
         "99.78025172690917",
         42.53288457603331,
         "137.12494818291847",
         158.39872002693158,
         "178.21495451729282",
         41.09000633437435,
         0
        ],
        [
         "57.363317419953944",
         74.3181459018075,
         "98.54093644720346",
         41.17761902724952,
         "118.2459995892381",
         141.5155317413264,
         "157.94506406009518",
         39.69906447085708,
         0
        ],
        [
         "100.0422550916805",
         87.40592051771256,
         "98.9670402806025",
         -1.0752148110779984,
         "120.97532223035704",
         138.13883211710743,
         "158.33084618700332",
         37.35552395664628,
         0
        ],
        [
         "100.06608364999822",
         105.56116710479847,
         "99.98873619357302",
         -0.07734745642520124,
         "105.46212270627389",
         123.98372497219884,
         "98.6427968004655",
         -6.819325905808384,
         0
        ],
        [
         "100.06511075350788",
         84.58599060332494,
         "99.39768254635848",
         -0.6674282071493991,
         "127.98635740972199",
         150.0051842406588,
         "168.30589989034178",
         40.31954248061979,
         0
        ],
        [
         "101.56687022447876",
         83.76529067159797,
         "99.94376268910978",
         -1.6231075353689874,
         "111.39057306090818",
         132.19919593350193,
         "152.90610374898426",
         41.51553068807608,
         0
        ],
        [
         "44.24302865187127",
         72.91187758882933,
         "91.39144490283215",
         47.14841625096088,
         "136.9048822374281",
         153.50596356039634,
         "175.6543848866425",
         38.749502649214406,
         0
        ],
        [
         "100.09113952714124",
         90.65700666208801,
         "99.83251534490901",
         -0.25862418223222505,
         "126.20292297595152",
         142.87669878734118,
         "158.49086058073797",
         32.28793760478645,
         0
        ],
        [
         "39.92309214423753",
         60.1603991911593,
         "85.24644289118629",
         45.32335074694876,
         "120.3898995980444",
         142.10136330635206,
         "164.06314103802043",
         43.67324143997604,
         0
        ],
        [
         "100.26712740899202",
         83.75657621794355,
         "98.52210204122179",
         -1.7450253677702392,
         "114.46336599444362",
         132.65415379517015,
         "154.51544390929118",
         40.05207791484756,
         0
        ],
        [
         "60.39980081394364",
         79.7179323148506,
         "96.0401181950092",
         35.64031738106556,
         "122.19794316747817",
         143.74897757457794,
         "161.14849253607872",
         38.95054936860055,
         0
        ],
        [
         "100.16625466288309",
         87.33750149881547,
         "99.9169645861561",
         -0.249290076726993,
         "130.92062611997432",
         147.5630296955698,
         "167.73881529783804",
         36.81818917786373,
         0
        ],
        [
         "55.158893307266744",
         77.29601773458806,
         "97.65043227405009",
         42.491538966783345,
         "112.25017791393154",
         131.92053244548055,
         "152.07102855046236",
         39.82085063653082,
         0
        ],
        [
         "100.33777602237258",
         81.05115557787796,
         "99.42958339476127",
         -0.9081926276113137,
         "100.90804757371208",
         113.20985112056634,
         "99.95000900979714",
         -0.9580385639149398,
         1
        ],
        [
         "45.5240584422931",
         69.97295409996424,
         "93.09958365012994",
         47.57552520783685,
         "115.53639058640474",
         136.24038944272525,
         "154.11830261985864",
         38.581912033453904,
         0
        ],
        [
         "37.43262850437133",
         60.205445806520316,
         "83.9931719755161",
         46.560543471144776,
         "112.09611965973744",
         131.7232916580454,
         "150.22039795624087",
         38.124278296503434,
         1
        ],
        [
         "46.682800186288674",
         72.17684418088463,
         "92.41528610618366",
         45.732485919894984,
         "113.91900089341473",
         132.3006239889619,
         "149.32509241265572",
         35.40609151924099,
         0
        ],
        [
         "54.81155747994396",
         73.915187654545,
         "92.91615949721091",
         38.104602017266956,
         "122.56006166378194",
         141.5388952706151,
         "159.36751639174128",
         36.80745472795934,
         0
        ],
        [
         "46.7254988689734",
         63.65635162020989,
         "82.40659268944435",
         35.68109382047095,
         "103.67000276619483",
         121.66711852000763,
         "140.93045300699026",
         37.260450240795436,
         1
        ],
        [
         "40.85074932298404",
         62.18377741749582,
         "81.99230307934349",
         41.14155375635944,
         "100.18382685039641",
         112.50144253975849,
         "99.70082621329014",
         -0.4830006371062723,
         1
        ],
        [
         "43.695967594202656",
         61.57120337249202,
         "80.94064972195731",
         37.24468212775466,
         "103.72605556502106",
         120.64899320613401,
         "138.8007533383386",
         35.07469777331755,
         1
        ],
        [
         "41.72239337683967",
         59.88160138271605,
         "81.82503541667214",
         40.10264203983247,
         "100.46083071135577",
         116.91184235893107,
         "99.27515267079457",
         -1.1856780405612,
         1
        ],
        [
         "40.844223991170935",
         60.02577993409127,
         "84.42880085007117",
         43.584576858900235,
         "100.083142621837",
         115.37427316932879,
         "98.94043555088719",
         -1.142707070949811,
         1
        ],
        [
         "30.749443188593624",
         51.14876465002267,
         "73.63727115279953",
         42.887827964205904,
         "102.56257800404273",
         122.34556219040559,
         "147.7196149328089",
         45.15703692876616,
         1
        ],
        [
         "38.93994782758667",
         62.32347209185888,
         "82.00303917362754",
         43.06309134604087,
         "103.59491904378987",
         121.3689886327361,
         "145.13843272608338",
         41.54351368229351,
         1
        ],
        [
         "38.50663526345485",
         56.48400329005388,
         "74.65150979753028",
         36.144874534075434,
         "100.3714267419114",
         111.50936643651579,
         "99.96267360509587",
         -0.40875313681553394,
         1
        ],
        [
         "45.90714580573464",
         67.22829167108915,
         "85.66148324998431",
         39.75433744424967,
         "100.34944351336526",
         121.62868062863001,
         "98.64029597693121",
         -1.7091475364340454,
         1
        ],
        [
         "39.95098943435936",
         59.03904904105346,
         "78.40300412157936",
         38.45201468722,
         "100.18946628963671",
         113.88658081734816,
         "99.31501876464432",
         -0.8744475249923909,
         1
        ],
        [
         "37.85543531932936",
         59.63567581097966,
         "81.06442222130349",
         43.20898690197413,
         "100.01458256088624",
         109.35985656786998,
         "99.92782364150732",
         -0.08675891937892288,
         1
        ],
        [
         "41.784285923028484",
         59.774689221856015,
         "77.65325836166033",
         35.86897243863185,
         "101.2222133474955",
         116.64715789746114,
         "99.84906386820344",
         -1.3731494792920529,
         1
        ],
        [
         "37.231610813916035",
         61.40290766476605,
         "81.07225371532533",
         43.840642901409296,
         "100.3825084097207",
         113.52566191116902,
         "98.73307537551584",
         -1.6494330342048613,
         1
        ],
        [
         "43.78888270117476",
         65.97734526032367,
         "86.3440307774863",
         42.55514807631154,
         "101.04984811695363",
         117.09415971997167,
         "95.56876868058411",
         -5.481079436369512,
         1
        ],
        [
         "37.347237809768615",
         56.85189373460229,
         "79.46534529005112",
         42.118107480282504,
         "103.15371442379238",
         120.78490921655529,
         "142.029296752905",
         38.87558232911262,
         1
        ],
        [
         "41.97992562679054",
         61.91396930425246,
         "89.23646306330699",
         47.256537436516446,
         "100.35365062314689",
         121.91779820213486,
         "139.6970530658711",
         39.34340244272421,
         1
        ],
        [
         "33.94046173052125",
         55.16818254263742,
         "73.81762834811309",
         39.87716661759184,
         "101.44944112112766",
         120.9605607500116,
         "141.0175608335369",
         39.56811971240923,
         1
        ],
        [
         "39.80954784951346",
         57.26230292060372,
         "77.38740864393085",
         37.5778607944174,
         "100.22427497397182",
         115.45418238633255,
         "99.8936681414362",
         -0.3306068325356222,
         1
        ],
        [
         "38.04149991242643",
         61.16626117259425,
         "83.05176265861463",
         45.010262746188204,
         "100.16534389752955",
         116.92754504628522,
         "99.2741690955614",
         -0.8911748019681482,
         1
        ],
        [
         "41.61973530015142",
         60.81223388010112,
         "80.9801008062702",
         39.36036550611878,
         "100.5719662658936",
         117.58618520274116,
         "99.73100421778337",
         -0.840962048110228,
         1
        ],
        [
         "40.56108192583805",
         57.44589185511159,
         "74.07037091091587",
         33.509288985077816,
         "100.00258790189699",
         108.65296530868542,
         "99.99931033493743",
         -0.003277566959553724,
         1
        ],
        [
         "37.03233229078373",
         56.87395138324474,
         "79.0635030826823",
         42.031170791898575,
         "101.91747796568241",
         116.12085134327036,
         "97.60792074767178",
         -4.3095572180106245,
         1
        ],
        [
         "37.877150963486045",
         57.73421505954286,
         "82.68663264672858",
         44.80948168324254,
         "104.51374133924531",
         123.46767699168869,
         "142.78329743260156",
         38.26955609335624,
         1
        ],
        [
         "33.63706778046999",
         55.06156777181855,
         "72.73351121564869",
         39.0964434351787,
         "100.27876871889153",
         114.13763327543047,
         "99.91245880579113",
         -0.3663099131003946,
         1
        ],
        [
         "42.187763222681134",
         62.15622034328543,
         "84.89430266121741",
         42.706539438536275,
         "100.3158147930954",
         122.39259726876325,
         "148.77140332340022",
         48.45558853030482,
         1
        ],
        [
         "40.87777910862023",
         59.88696940933446,
         "77.79956839178759",
         36.92178928316736,
         "102.49272049365193",
         121.19367228381046,
         "94.47255835803958",
         -8.020162135612352,
         1
        ],
        [
         "39.04171251737092",
         61.19426102606033,
         "82.91307934662832",
         43.871366829257404,
         "100.86090041087168",
         118.93292417500302,
         "96.41757355223262",
         -4.443326858639054,
         1
        ],
        [
         "41.998268232563504",
         62.964149120621016,
         "83.87652528070058",
         41.87825704813707,
         "100.42364989434965",
         115.05908570280502,
         "99.02249080304395",
         -1.4011590913057006,
         1
        ],
        [
         "40.20366989240486",
         59.39615368475331,
         "79.14735459711522",
         38.943684704710364,
         "100.28983811198967",
         111.974548225912,
         "99.98332338610047",
         -0.30651472588920115,
         1
        ],
        [
         "37.7431762152425",
         57.89206597368129,
         "81.26607968909325",
         43.52290347385075,
         "100.00233357023382",
         117.34859398620202,
         "99.77441431099317",
         -0.22791925924065026,
         1
        ],
        [
         "42.28623991362288",
         61.735430782299446,
         "82.58235478234769",
         40.296114868724814,
         "105.64000251362751",
         125.6348668736099,
         "97.38641112846996",
         -8.253591385157549,
         1
        ],
        [
         "31.364025424661556",
         55.25032306438423,
         "75.01634481517839",
         43.65231939051683,
         "100.00844629929027",
         104.3663236128095,
         "99.94428603176314",
         -0.06416026752712867,
         1
        ],
        [
         "33.97816944656128",
         53.80485556833107,
         "74.61138604390348",
         40.6332165973422,
         "100.83167124426197",
         115.30415213256805,
         "99.85200975015574",
         -0.9796614941062245,
         1
        ],
        [
         "33.90946293711009",
         51.991556130167886,
         "74.4279120175606",
         40.51844908045051,
         "100.01148736836535",
         103.28515530956494,
         "99.99371178758922",
         -0.017775580776131505,
         1
        ],
        [
         "37.65404692474468",
         56.84171591012216,
         "77.62094718280238",
         39.966900258057706,
         "106.13865472153185",
         128.25059216113326,
         "150.70780993882022",
         44.56915521728837,
         1
        ],
        [
         "47.09134879850373",
         61.81016901243939,
         "81.774241037398",
         34.68289223889427,
         "103.24186045916746",
         121.27856076931529,
         "143.7365345492378",
         40.49467409007035,
         1
        ],
        [
         "36.358248115628655",
         58.52515175564874,
         "81.45558996182945",
         45.09734184620079,
         "100.20096029514734",
         105.8032799909231,
         "99.91499440645127",
         -0.28596588869606876,
         1
        ],
        [
         "37.57094339177537",
         55.85493668778006,
         "76.28773683163233",
         38.71679343985696,
         "100.06044164869175",
         111.45636317529656,
         "99.85053002157204",
         -0.209911627119709,
         1
        ],
        [
         "39.82780573612642",
         59.5025069796857,
         "78.12406994690888",
         38.296264210782454,
         "111.4002391037705",
         133.576843281807,
         "153.8136674706854",
         42.4134283669149,
         1
        ],
        [
         "45.27531200993789",
         63.98789553371525,
         "83.49327181568873",
         38.21795980575084,
         "100.131210360921",
         107.68132919170525,
         "99.90654452265406",
         -0.22466583826694375,
         1
        ],
        [
         "40.04887480302176",
         60.14493078387789,
         "82.74476675030718",
         42.69589194728542,
         "100.08122691282762",
         112.9770273315414,
         "99.95715474663945",
         -0.12407216618817074,
         1
        ],
        [
         "32.75427665993155",
         53.23240304823345,
         "73.81075610737673",
         41.056479447445184,
         "100.05960918936657",
         105.87663295602755,
         "99.95386724500793",
         -0.10574194435864115,
         1
        ],
        [
         "28.833196126694887",
         53.17853646896617,
         "78.35292172499697",
         49.51972559830209,
         "100.27295995749643",
         113.54332973809957,
         "99.55511521660024",
         -0.717844740896183,
         1
        ],
        [
         "36.84784402879175",
         61.71563856652535,
         "83.27581989116334",
         46.42797586237159,
         "103.80297323432092",
         126.99151261584073,
         "146.51012571790656",
         42.707152483585645,
         1
        ],
        [
         "35.58769847360992",
         55.195643337510816,
         "77.65574934273072",
         42.068050869120796,
         "100.06611239532741",
         102.9659270026852,
         "99.98450344648275",
         -0.08160894884466074,
         1
        ],
        [
         "41.29677284271688",
         59.41771501368002,
         "82.74278656259867",
         41.44601371988179,
         "100.39579367670156",
         115.95608598875336,
         "99.05165364009963",
         -1.344140036601928,
         1
        ],
        [
         "32.96447460749626",
         53.93660226209157,
         "71.57834149142288",
         38.61386688392662,
         "113.23067903822377",
         131.85903737953427,
         "151.2931606228152",
         38.06248158459144,
         1
        ],
        [
         "31.6958782213678",
         52.08834253704847,
         "73.3225283089797",
         41.6266500876119,
         "100.05476249318103",
         104.71369517728523,
         "99.74430533704306",
         -0.3104571561379714,
         1
        ],
        [
         "41.958915177214394",
         61.59883046172661,
         "82.98035116384048",
         41.02143598662609,
         "100.77943290230098",
         118.08994500679982,
         "97.45738941450925",
         -3.3220434877917313,
         1
        ],
        [
         "42.931728299320106",
         59.568225047146136,
         "78.4666146045907",
         35.5348863052706,
         "100.01116703556124",
         111.13589943626472,
         "99.9701510045653",
         -0.04101603099594797,
         1
        ],
        [
         "35.77476818319131",
         58.781104539384074,
         "78.08207873801169",
         42.307310554820376,
         "100.707815863401",
         116.55702604444389,
         "99.95080980316413",
         -0.7570060602368613,
         1
        ],
        [
         "36.997349740593584",
         57.01372838160132,
         "80.5400933056752",
         43.542743565081615,
         "100.005812162746",
         115.3763393176766,
         "99.78815595644173",
         -0.21765620630426952,
         1
        ],
        [
         "42.45809967943224",
         59.53829561446549,
         "78.41314946435816",
         35.95504978492592,
         "100.02190574443262",
         115.52539287671375,
         "99.96363052068116",
         -0.05827522375145122,
         1
        ],
        [
         "41.22737324820907",
         62.16257885493416,
         "84.10644981195938",
         42.87907656375031,
         "100.89350299714243",
         119.41111499949771,
         "99.94176369762872",
         -0.9517392995137186,
         1
        ],
        [
         "37.24260593730989",
         61.08115523536878,
         "79.50485278455018",
         42.26224684724029,
         "104.80056532440351",
         125.800708244545,
         "147.94265311250388",
         43.14208778810037,
         1
        ],
        [
         "35.78541842185366",
         54.17446431271471,
         "72.3784527994666",
         36.59303437761294,
         "100.074587604933",
         110.64221512318157,
         "99.99450723328465",
         -0.08008037164835002,
         1
        ],
        [
         "31.009037976870594",
         56.4794541620005,
         "75.41316664550877",
         44.40412866863817,
         "100.12905999366612",
         114.93578084142209,
         "99.63139637802841",
         -0.49766361563770545,
         1
        ],
        [
         "38.122330099776704",
         59.69900344458013,
         "79.95568012974866",
         41.83335002997195,
         "100.00737196023559",
         123.29798296189819,
         "146.27084668700513",
         46.263474726769545,
         1
        ],
        [
         "34.6880642636995",
         55.35442103773249,
         "78.03984418540242",
         43.351779921702914,
         "100.02861718106348",
         104.27532757072748,
         "99.93926627335158",
         -0.08935090771190346,
         1
        ],
        [
         "36.35019509997538",
         58.39712755625085,
         "83.20604704491485",
         46.855851944939474,
         "100.12715151508266",
         116.92169781553366,
         "98.86584363613657",
         -1.2613078789460843,
         1
        ],
        [
         "38.95369649424592",
         58.97641246953485,
         "82.51192158885004",
         43.558225094604126,
         "100.36687281438897",
         112.61119633733892,
         "99.09302150611376",
         -1.273851308275212,
         1
        ],
        [
         "35.8947442492491",
         55.72894632313095,
         "73.09711283286121",
         37.20236858361211,
         "103.17988769798137",
         124.22595830035797,
         "99.95087580787832",
         -3.2290118901030525,
         1
        ],
        [
         "40.678225508178",
         61.300310129103735,
         "78.96209498676527",
         38.28386947858726,
         "103.53544233027668",
         121.82842638538483,
         "144.65326505070632",
         41.11782272042964,
         1
        ],
        [
         "38.8008497839447",
         60.85271171763094,
         "82.0523079937688",
         43.25145820982411,
         "102.8166140873471",
         126.06206364026151,
         "156.19964500941492",
         53.38303092206782,
         1
        ],
        [
         "36.71249601136436",
         58.179106939315744,
         "81.55122959834333",
         44.83873358697897,
         "104.84521798445193",
         124.04123247566405,
         "144.7498376420376",
         39.904619657585656,
         1
        ],
        [
         "36.80896349486929",
         59.596531434266126,
         "78.6995283247929",
         41.890564829923605,
         "100.51781507942232",
         120.19526799621751,
         "140.5259882605754",
         40.00817318115307,
         1
        ],
        [
         "36.142798372679906",
         58.841074564956095,
         "78.35020408710629",
         42.207405714426386,
         "100.04418769188584",
         110.55945679145891,
         "99.89536032954977",
         -0.14882736233606408,
         1
        ],
        [
         "24.16039598267194",
         47.30893563750382,
         "73.97376613074337",
         49.81337014807143,
         "100.0246117880647",
         96.01337774080402,
         "99.99081102672332",
         -0.03380076134138221,
         1
        ],
        [
         "39.57393929695378",
         56.51849206779723,
         "79.69419456296819",
         40.12025526601441,
         "100.10072192142513",
         112.26760118121356,
         "99.75232914702029",
         -0.34839277440484295,
         1
        ],
        [
         "36.994293158637944",
         55.73348255832497,
         "76.70432402088936",
         39.710030862251415,
         "100.77908389269109",
         111.03559780524533,
         "99.87199712021199",
         -0.9070867724791043,
         1
        ],
        [
         "34.2147042990359",
         55.7417800035269,
         "74.59079985148126",
         40.37609555244536,
         "100.17077833144491",
         115.045665074979,
         "99.81415803925859",
         -0.35662029218632085,
         1
        ],
        [
         "34.7101436036393",
         56.24500626623722,
         "76.24432763188119",
         41.53418402824189,
         "100.03349074081937",
         111.4816471238144,
         "99.94002950854177",
         -0.09346123227760472,
         1
        ],
        [
         "35.54554371290257",
         55.861870809585845,
         "80.88590849769417",
         45.3403647847916,
         "100.27895547517353",
         108.48017276473779,
         "99.93375145540197",
         -0.34520401977155757,
         1
        ],
        [
         "35.0377843469195",
         56.42035233630999,
         "84.37327081028826",
         49.33548646336876,
         "104.16777488680191",
         125.38464005676678,
         "145.55688477380804",
         41.38910988700613,
         1
        ],
        [
         "35.64449957200637",
         59.16636968443583,
         "76.57397605254317",
         40.929476480536806,
         "100.24115426091669",
         112.87249148028252,
         "99.69290930335652",
         -0.548244957560172,
         0
        ],
        [
         "42.96786756066699",
         66.20325828783598,
         "83.89412688835813",
         40.92625932769114,
         "106.25804115508403",
         128.26408437106238,
         "151.9955921661961",
         45.737551011112075,
         1
        ],
        [
         "38.02489816602977",
         62.36645022759148,
         "80.7252591398919",
         42.70036097386213,
         "100.71742492063157",
         115.30233311320656,
         "99.9260390737363",
         -0.7913858468952668,
         1
        ],
        [
         "36.572273088790276",
         60.39190113928199,
         "85.02606258072436",
         48.45378949193408,
         "110.08615606984006",
         130.74839072755628,
         "152.74931523378493",
         42.66315916394487,
         0
        ],
        [
         "36.951294035077844",
         55.98137455283126,
         "75.05851802004207",
         38.10722398496423,
         "100.51137874268753",
         113.76936252999718,
         "99.99696992781693",
         -0.5144088148705919,
         1
        ],
        [
         "38.172489746203034",
         58.70641094395226,
         "79.51698605454035",
         41.34449630833732,
         "108.62326166041082",
         128.31952678887902,
         "149.99554550584332",
         41.372283845432506,
         1
        ],
        [
         "38.48284188257806",
         59.18373070479178,
         "81.2470405930102",
         42.76419871043214,
         "101.11348485739354",
         119.07104339214368,
         "97.90192900869788",
         -3.2115558486956672,
         1
        ],
        [
         "41.37518731653766",
         61.124237141458984,
         "83.0326628540663",
         41.65747553752864,
         "109.364058352992",
         127.40506275414165,
         "147.0124139290516",
         37.6483555760596,
         0
        ],
        [
         "35.4036954382195",
         59.6364668468525,
         "78.52265254376931",
         43.11895710554981,
         "111.35762475764543",
         128.3562371952466,
         "146.92591143894765",
         35.568286681302226,
         1
        ],
        [
         "37.315415634860905",
         58.60434862643907,
         "80.34988828210206",
         43.03447264724115,
         "114.71073719059623",
         134.67094497666878,
         "154.47960971238405",
         39.76887252178781,
         1
        ],
        [
         "42.877512798441174",
         61.25471147884661,
         "80.82297795058595",
         37.94546515214478,
         "105.16922209015223",
         122.8116654098448,
         "144.55540900427027",
         39.38618691411804,
         1
        ],
        [
         "40.21092397389356",
         58.076204934781785,
         "78.13923839381007",
         37.92831441991652,
         "100.42183210797047",
         112.90113342338167,
         "99.88795809035815",
         -0.5338740176123196,
         1
        ],
        [
         "30.221990328754934",
         54.62494068862075,
         "77.66773601135542",
         47.44574568260048,
         "102.420325450782",
         122.90505410145667,
         "144.06259020027127",
         41.64226474948927,
         1
        ],
        [
         "43.7229301915121",
         63.859231037418894,
         "82.35198720333005",
         38.629057011817956,
         "101.87636585567114",
         118.44034484028866,
         "99.44364017198555",
         -2.4327256836855895,
         1
        ],
        [
         "33.47753398208298",
         51.535181965006,
         "71.35974575466714",
         37.882211772584164,
         "100.06653648193864",
         109.85499426322706,
         "99.6086903924312",
         -0.45784608950744143,
         1
        ],
        [
         "37.02208335130687",
         57.670334613312455,
         "77.00394786894165",
         39.98186451763478,
         "100.01183944939315",
         111.32759554416225,
         "99.96303266250685",
         -0.04880678688630269,
         1
        ],
        [
         "43.407137089597775",
         62.67832822341962,
         "81.7050063867",
         38.29786929710223,
         "106.9716683248407",
         126.55070760439426,
         "146.4053587896286",
         39.43369046478789,
         1
        ],
        [
         "44.94963612474395",
         65.84083702716866,
         "84.97298617799348",
         40.02335005324953,
         "102.13745337251356",
         124.43757211270496,
         "143.58025827243478",
         41.442804899921214,
         1
        ],
        [
         "39.1724693761784",
         57.30630587979575,
         "78.19451992795686",
         39.02205055177846,
         "104.38393031765186",
         122.88110162277245,
         "145.0628870652554",
         40.67895674760355,
         1
        ],
        [
         "43.0170654940453",
         65.44018059187476,
         "90.7534143061302",
         47.7363488120849,
         "103.68324093623784",
         124.7490704498664,
         "145.56630189343443",
         41.88306095719659,
         0
        ],
        [
         "37.44922678089938",
         58.53345810370388,
         "78.19954097898503",
         40.75031419808565,
         "105.30281020864425",
         122.13627504494715,
         "96.92626041939846",
         -8.376549789245786,
         1
        ],
        [
         "33.92245025468625",
         56.72274303389302,
         "84.20653457637908",
         50.28408432169284,
         "103.8975293863174",
         123.23919839185446,
         "143.96220005635087",
         40.064670670033465,
         1
        ],
        [
         "42.277971065893134",
         60.443609480028066,
         "82.44493353791107",
         40.166962472017936,
         "100.00298513613882",
         108.59257884379294,
         "99.8054847513266",
         -0.19750038481221566,
         1
        ],
        [
         "35.634477607544696",
         57.688384040812856,
         "74.67452543092011",
         39.04004782337542,
         "100.44463576384332",
         114.51771873649803,
         "99.00617090257128",
         -1.4384648612720383,
         1
        ],
        [
         "26.18148580867487",
         53.16517109969772,
         "73.29093159812199",
         47.109445789447115,
         "100.20345949881661",
         115.62674198696811,
         "99.31025547972226",
         -0.8932040190943553,
         1
        ],
        [
         "38.223997687345076",
         55.21663100215819,
         "75.67952668497466",
         37.455528997629585,
         "105.17439576338347",
         123.51961548345015,
         "141.63760908203324",
         36.463213318649764,
         1
        ],
        [
         "44.35445577018108",
         61.95540542156069,
         "81.20875440496066",
         36.854298634779575,
         "104.20487745568278",
         120.91617919844776,
         "143.8271540763841",
         39.622276620701314,
         1
        ],
        [
         "36.81406309851633",
         54.4339823194824,
         "76.36418300659116",
         39.550119908074834,
         "100.5608925326968",
         112.20606118225142,
         "99.89611493028052",
         -0.6647776024162795,
         1
        ],
        [
         "40.024351184725774",
         61.652766021920414,
         "83.22122399352996",
         43.19687280880419,
         "101.55993721568387",
         121.37708346141778,
         "99.51128778648365",
         -2.048649429200225,
         1
        ],
        [
         "35.92965156502626",
         53.314315585235725,
         "74.47032781077272",
         38.540676245746454,
         "101.95236586140553",
         121.87615886167916,
         "144.29566215791942",
         42.3432962965139,
         1
        ],
        [
         "42.71965532344482",
         59.661682753385875,
         "78.54006968628039",
         35.82041436283557,
         "101.24766664337469",
         118.77933453853898,
         "98.75735380231494",
         -2.4903128410597475,
         1
        ],
        [
         "38.85193785884918",
         62.55338774202914,
         "83.12070953911339",
         44.26877168026421,
         "102.76851026595187",
         118.82138447110043,
         "95.90034954284673",
         -6.868160723105149,
         1
        ],
        [
         "32.68625035990432",
         51.36133477284503,
         "71.54897600821283",
         38.86272564830851,
         "100.03710192981279",
         106.77299647392528,
         "99.85946806016283",
         -0.1776338696499664,
         1
        ],
        [
         "30.00390505213028",
         53.6579592554415,
         "77.36629576636899",
         47.362390714238714,
         "100.65191443160079",
         111.48543759687985,
         "99.99648662677893",
         -0.6554278048218549,
         1
        ],
        [
         "30.134792507649784",
         56.477012111829985,
         "77.38503632489399",
         47.250243817244204,
         "108.18404576803667",
         128.50466283582685,
         "150.6067975879257",
         42.422751819889044,
         1
        ],
        [
         "43.10299583442954",
         62.62736374059854,
         "81.57610939982213",
         38.47311356539259,
         "100.02315595998233",
         119.51593261971962,
         "99.8908164532402",
         -0.13233950674212736,
         1
        ],
        [
         "35.72535615290032",
         56.329534164466686,
         "77.19145523896785",
         41.46609908606753,
         "100.97448897600228",
         120.26710017246361,
         "99.6666023602518",
         -1.3078866157504763,
         1
        ],
        [
         "33.9056477289612",
         56.40869454138809,
         "74.03929708210964",
         40.13364935314844,
         "105.73805711511447",
         121.87969308496396,
         "99.35146082293346",
         -6.386596292181011,
         1
        ],
        [
         "40.49944632814733",
         58.56369765520543,
         "78.02156646785872",
         37.52212013971139,
         "100.35506019353943",
         115.7241270873586,
         "99.94483972207499",
         -0.4102204714644415,
         1
        ],
        [
         "37.98976563119547",
         59.432606305310784,
         "80.7420443308655",
         42.75227869967003,
         "102.53986455750491",
         120.08173341752732,
         "96.92103302367588",
         -5.618831533829038,
         0
        ],
        [
         "42.47106991296488",
         65.30887743077719,
         "85.04844438717723",
         42.57737447421235,
         "106.5229787975943",
         122.64464763599338,
         "147.1891777350246",
         40.666198937430295,
         1
        ],
        [
         "40.299951023587994",
         59.092764935906835,
         "80.07327392571305",
         39.77332290212506,
         "108.26855869243059",
         128.2957239321252,
         "151.48915467270928",
         43.22059598027869,
         0
        ],
        [
         "44.22412737749816",
         61.32834614409234,
         "79.99695996104387",
         35.772832583545714,
         "103.00894054256176",
         121.74960550823344,
         "141.2452799751352",
         38.23633943257343,
         1
        ],
        [
         "45.05551173109922",
         65.84474174841579,
         "85.11455313396846",
         40.059041402869234,
         "102.69039802122393",
         122.20813740188376,
         "99.69356799818723",
         -2.9968300230366935,
         1
        ],
        [
         "38.36447734436659",
         56.38135926472063,
         "74.01795514638569",
         35.6534778020191,
         "101.01455845177527",
         116.52358168556279,
         "99.57822009968841",
         -1.4363383520868638,
         1
        ],
        [
         "42.57376319665232",
         59.71326130200061,
         "78.21781961907703",
         35.64405642242471,
         "100.79311322431349",
         116.03375987142172,
         "99.81716297162967",
         -0.9759502526838162,
         1
        ],
        [
         "39.236121270157625",
         59.61091189646644,
         "80.85579700593345",
         41.61967573577583,
         "100.58150248726287",
         113.71744510742225,
         "99.07980584332066",
         -1.5016966439422106,
         1
        ],
        [
         "40.227863010015",
         61.20715986491478,
         "78.37845498743934",
         38.15059197742434,
         "100.44711082480892",
         115.93713240214971,
         "99.88346091604912",
         -0.5636499087597997,
         1
        ],
        [
         "39.6936021567909",
         61.49211901932896,
         "86.45044995778102",
         46.756847800990116,
         "104.27677296777895",
         124.02647231805112,
         "141.16456103248962",
         36.88778806471066,
         1
        ],
        [
         "44.66502977701769",
         65.12749573319316,
         "86.24424587923258",
         41.579216102214886,
         "108.24960345125153",
         124.32648089199358,
         "141.7619949886343",
         33.51239153738278,
         1
        ],
        [
         "34.81950002559885",
         55.69245338568137,
         "76.10577105358198",
         41.286271027983126,
         "100.01364325114614",
         102.33009979234093,
         "99.97287431644703",
         -0.04076893469910203,
         1
        ],
        [
         "33.400281366803284",
         57.48523045574371,
         "80.5306240176236",
         47.13034265082031,
         "104.33459351255246",
         123.1973253380942,
         "143.7132324775448",
         39.37863896499235,
         0
        ],
        [
         "33.19117183035631",
         53.74231225581977,
         "74.0936769336067",
         40.90250510325039,
         "100.42182523021239",
         120.17386166415825,
         "146.07362133249322",
         45.65179610228083,
         1
        ],
        [
         "39.76327946781694",
         58.17874362126202,
         "76.46183463076959",
         36.698555162952644,
         "100.07335495549334",
         100.40644378168756,
         "99.9974306673814",
         -0.07592428811194907,
         1
        ],
        [
         "46.0899248599749",
         62.00305444616367,
         "81.76329843931848",
         35.673373579343576,
         "101.29110936258297",
         120.7887993879325,
         "99.95601621302347",
         -1.3350931495594978,
         1
        ],
        [
         "46.12391410598095",
         62.805076898587416,
         "85.57447013613562",
         39.450556030154665,
         "100.22337480414744",
         113.56582168746057,
         "99.5805981698524",
         -0.6427766342950463,
         1
        ],
        [
         "41.47980034204188",
         60.33176820110047,
         "79.09800816683128",
         37.6182078247894,
         "111.03640895663345",
         128.97349983040715,
         "145.42186649178058",
         34.385457535147125,
         1
        ],
        [
         "34.095892303800554",
         56.32850879426887,
         "79.21182886106195",
         45.11593655726139,
         "100.50524783102894",
         118.15092446289303,
         "99.97655279485326",
         -0.5286950361756766,
         1
        ],
        [
         "38.593996078166626",
         57.09841706831352,
         "77.3091791027802",
         38.71518302461358,
         "110.93163640465659",
         128.2647892266181,
         "146.86434592188235",
         35.93270951722576,
         1
        ],
        [
         "36.15229748676353",
         60.69659714319948,
         "86.3659746069859",
         50.21367712022237,
         "100.28426375765864",
         114.03051092791738,
         "99.85172580624139",
         -0.4325379514172454,
         1
        ],
        [
         "44.389930254465185",
         64.79134795080117,
         "85.20837248472212",
         40.818442230256935,
         "100.27239663992964",
         118.55985421086311,
         "137.9072834399244",
         37.634886799994774,
         1
        ],
        [
         "38.89026207654081",
         59.59871991222752,
         "80.21293093771789",
         41.32266886117708,
         "111.40192768570455",
         127.8120588451098,
         "145.58412304766318",
         34.182195361958634,
         1
        ],
        [
         "40.24373154948981",
         61.4501530961313,
         "78.43823812308922",
         38.19450657359941,
         "100.03352664082689",
         113.97401562040766,
         "99.72196152697484",
         -0.31156511385205476,
         0
        ],
        [
         "33.234369336413764",
         59.03776643551868,
         "76.46113150608367",
         43.22676216966991,
         "100.620450020546",
         113.2908055611793,
         "99.63962079835427",
         -0.9808292221917299,
         1
        ],
        [
         "35.65815247230847",
         54.041664494120965,
         "75.73365775275602",
         40.075505280447544,
         "100.34823326675331",
         118.61660315609313,
         "98.22391720814383",
         -2.1243160586094803,
         1
        ],
        [
         "41.68597213395739",
         60.86858172730279,
         "80.9377646099696",
         39.25179247601221,
         "100.10212304971185",
         115.72039120387171,
         "99.68778150762296",
         -0.4143415420888914,
         1
        ],
        [
         "35.861049110231455",
         58.70310007504026,
         "79.73720803978584",
         43.876158929554386,
         "109.51022829964553",
         130.04399363898395,
         "157.1145588771367",
         47.604330577491154,
         1
        ],
        [
         "34.53460083172412",
         54.53415609599712,
         "72.02885450327871",
         37.49425367155459,
         "106.13267191980174",
         125.63253952582863,
         "146.15429852308597",
         40.02162660328423,
         1
        ],
        [
         "34.35938396572287",
         55.22064537219994,
         "77.90939431970732",
         43.55001035398445,
         "100.52903907529074",
         118.35158886208228,
         "140.4254435193391",
         39.89640444404836,
         1
        ],
        [
         "37.72115984533641",
         60.036906447910106,
         "77.1815899974846",
         39.460430152148184,
         "100.83469564631903",
         116.50853841568045,
         "99.37310073722026",
         -1.4615949090987783,
         1
        ],
        [
         "37.62393055249669",
         55.73095401934351,
         "72.63669758951863",
         35.012767037021945,
         "100.00508910227533",
         101.21382047770688,
         "99.99853187098664",
         -0.006557231288695675,
         1
        ],
        [
         "36.53058196137597",
         58.06265766863436,
         "81.93748394656768",
         45.40690198519171,
         "109.56353722125286",
         139.56763935762407,
         "159.2742694198884",
         49.710732198635554,
         1
        ],
        [
         "33.44787850223434",
         60.26394902297492,
         "84.15786982953017",
         50.70999132729583,
         "100.06067636529934",
         108.84968518037822,
         "99.89464677033509",
         -0.1660295949642574,
         1
        ],
        [
         "40.28566599441181",
         59.27462071544993,
         "80.22447181438994",
         39.938805819978136,
         "100.09177671619176",
         112.97301740331201,
         "99.25510173201752",
         -0.8366749841742376,
         1
        ],
        [
         "39.3775162836676",
         57.887359466072745,
         "76.55445602554573",
         37.17693974187813,
         "101.32231870413801",
         116.0864856909213,
         "99.55852980772548",
         -1.7637888964125352,
         0
        ],
        [
         "37.5634360306536",
         62.0158739965664,
         "80.80542422241086",
         43.241988191757265,
         "100.15134638573684",
         115.31312956169607,
         "99.9713903757204",
         -0.1799560100164399,
         1
        ],
        [
         "36.913842980507965",
         52.388374294475874,
         "75.13578989430718",
         38.221946913799215,
         "100.05063666458214",
         106.5808433930933,
         "99.75963730086131",
         -0.2909993637208288,
         1
        ],
        [
         "40.557471134468756",
         59.483376445330684,
         "82.52588120834453",
         41.96841007387577,
         "100.34084991029982",
         118.43949066983181,
         "99.68481418402484",
         -0.656035726274979,
         1
        ],
        [
         "45.98493909872015",
         64.0755237505133,
         "88.10602364114983",
         42.121084542429685,
         "102.61513242694042",
         121.33615592328697,
         "99.67999932624261",
         -2.9351331006978114,
         1
        ],
        [
         "47.717402100209206",
         66.04979884279302,
         "85.2138914437905",
         37.496489343581295,
         "116.83870412831813",
         140.969821301336,
         "160.09399116884356",
         43.25528704052543,
         1
        ],
        [
         "35.44611988565245",
         59.37348105733873,
         "87.52594298392826",
         52.07982309827581,
         "100.12396777950165",
         117.84760442488825,
         "99.84949236297605",
         -0.27447541652560403,
         1
        ],
        [
         "39.862452336278935",
         55.59317171571702,
         "75.53289465746508",
         35.670442321186144,
         "106.66590039547704",
         123.20272867739769,
         "143.50530269508084",
         36.839402299603805,
         1
        ],
        [
         "32.47036248551807",
         52.424440352134525,
         "80.33124785976788",
         47.86088537424981,
         "101.65720242629189",
         118.48339844488035,
         "99.00261420583612",
         -2.6545882204557643,
         1
        ],
        [
         "45.877855596835644",
         65.77158795983792,
         "87.38550966987225",
         41.507654073036605,
         "109.88395411696797",
         129.93410943916564,
         "150.01785937865634",
         40.13390526168837,
         0
        ],
        [
         "37.35310699220359",
         55.63367481429592,
         "77.13048980524098",
         39.77738281303739,
         "100.68006184924917",
         119.41640895320889,
         "94.11140182645445",
         -6.568660022794717,
         1
        ],
        [
         "34.999010898971946",
         55.34491181509667,
         "80.7669362745489",
         45.76792537557695,
         "104.42860577922332",
         133.6650718140567,
         "152.78536218773195",
         48.35675640850863,
         1
        ],
        [
         "34.670437164541866",
         53.91313260480513,
         "77.21329892876813",
         42.54286176422626,
         "100.89333763879179",
         116.91442623980258,
         "97.92058014037217",
         -2.972757498419625,
         1
        ],
        [
         "39.81456292834374",
         62.421957213310804,
         "80.4448543296616",
         40.630291401317855,
         "100.07559171604476",
         111.50575055466899,
         "99.84629065270894",
         -0.2293010633358108,
         1
        ],
        [
         "40.5725871113477",
         59.22153492409577,
         "78.94901103302296",
         38.376423921675254,
         "100.55049225185775",
         112.2799833660019,
         "99.76607157415609",
         -0.7844206777016609,
         1
        ],
        [
         "42.191854767488216",
         63.45575454517263,
         "84.66563405886801",
         42.47377929137979,
         "110.1060234499856",
         130.22813006992754,
         "147.8921652099337",
         37.786141759948094,
         1
        ],
        [
         "37.06748642508646",
         58.061897581508255,
         "79.649591667893",
         42.58210524280655,
         "101.14321943906779",
         117.35604991652369,
         "98.48446582608204",
         -2.6587536129857483,
         1
        ],
        [
         "46.78409831410639",
         63.8218881911278,
         "83.96043684463683",
         37.176338530530444,
         "100.03205145313527",
         113.53055629236879,
         "99.83320933263089",
         -0.19884212050438066,
         1
        ],
        [
         "39.06188814482455",
         59.853724234695115,
         "81.8554938003488",
         42.793605655524246,
         "100.37520168653883",
         113.47557653289192,
         "99.16005858935392",
         -1.2151430971849067,
         1
        ],
        [
         "38.63588872373943",
         60.781093249067546,
         "78.6298167213985",
         39.99392799765907,
         "103.63154407671576",
         120.80376285323405,
         "140.52698289526586",
         36.895438818550105,
         1
        ],
        [
         "37.76622929576435",
         56.416785245686334,
         "73.51938029831156",
         35.75315100254721,
         "100.18696215656882",
         116.07197606258173,
         "99.01914108867909",
         -1.167821067889733,
         1
        ],
        [
         "40.380267084910116",
         57.456167330787096,
         "81.0670561150617",
         40.68678903015159,
         "100.4010415346881",
         117.2521961079475,
         "97.11068860762674",
         -3.290352927061363,
         1
        ],
        [
         "37.480067605560265",
         60.66545457362957,
         "79.88658410626604",
         42.40651650070578,
         "100.29650523998708",
         113.35362962050536,
         "99.92300231213113",
         -0.3735029278559523,
         1
        ],
        [
         "34.17605647297362",
         61.338694535177986,
         "77.92535698891709",
         43.74930051594347,
         "101.67873989513386",
         119.60388671617247,
         "144.3898684322334",
         42.711128537099555,
         1
        ],
        [
         "30.941541620663333",
         51.982755410973475,
         "71.23092396372233",
         40.289382343059,
         "100.47035829651166",
         110.08319786482704,
         "99.97635116362574",
         -0.4940071328859261,
         1
        ],
        [
         "37.977666814567435",
         56.789874025879016,
         "80.33052213837009",
         42.35285532380265,
         "100.16124683537826",
         113.73447546275965,
         "99.90579845128438",
         -0.2554483840938815,
         1
        ],
        [
         "30.746553415539502",
         56.004742387198554,
         "78.93520022859508",
         48.18864681305558,
         "100.023862769662",
         104.80020775544126,
         "99.93326590961809",
         -0.09059686004391665,
         1
        ],
        [
         "38.76727629397246",
         59.9893379579239,
         "80.06706881130991",
         41.29979251733745,
         "100.23276968479614",
         117.33106969921658,
         "135.13542154110272",
         34.902651856306576,
         1
        ],
        [
         "35.80080564755191",
         57.13580445457,
         "80.67264002675559",
         44.871834379203676,
         "110.60998891887887",
         131.30424109599002,
         "146.91028444818068",
         36.300295529301806,
         1
        ],
        [
         "41.342599324061865",
         58.98893820302224,
         "78.364252455226",
         37.02165313116413,
         "100.00469966754196",
         110.50618900827641,
         "99.99900889132657",
         -0.005690776215388382,
         1
        ],
        [
         "40.46772739505505",
         58.56506475677454,
         "76.9090465893668",
         36.441319194311745,
         "100.57890022836835",
         119.51206774464029,
         "145.08445622091955",
         44.505555992551194,
         0
        ],
        [
         "38.53275911743127",
         55.549513739766724,
         "77.12150458544271",
         38.58874546801144,
         "119.42356854777685",
         136.9984064487469,
         "155.14685705125075",
         35.723288503473896,
         1
        ],
        [
         "42.29377614541016",
         62.873972970644594,
         "86.12892342409583",
         43.83514727868567,
         "112.36316417755248",
         132.34321833006277,
         "152.6201794351445",
         40.25701525759203,
         1
        ],
        [
         "44.42509102001331",
         62.30370604541888,
         "82.8763771361188",
         38.45128611610549,
         "108.9761263948096",
         130.56925808885606,
         "151.20949572618994",
         42.233369331380345,
         1
        ],
        [
         "36.387152489058735",
         56.97282837219495,
         "80.35332943506626",
         43.96617694600752,
         "100.51204250736872",
         119.31251113885675,
         "135.9219360504323",
         35.409893543063575,
         0
        ],
        [
         "39.547544972743154",
         62.44551695326597,
         "83.13041784592205",
         43.5828728731789,
         "103.51399866306971",
         121.62587497704517,
         "141.1536933322524",
         37.63969466918269,
         1
        ],
        [
         "35.33082972916675",
         57.784613293791026,
         "74.51493900252812",
         39.18410927336137,
         "101.04096255445059",
         115.82969276693001,
         "99.55575114216543",
         -1.4852114122851532,
         0
        ],
        [
         "40.72571048453764",
         60.38687385654139,
         "77.89597991266936",
         37.17026942813172,
         "100.40163556952835",
         117.63411672169848,
         "99.50216920652616",
         -0.8994663630021904,
         0
        ],
        [
         "31.151609878214547",
         53.45054361310295,
         "73.52563505704856",
         42.37402517883402,
         "100.00047494315271",
         107.34686137555215,
         "99.79624211704936",
         -0.20423282610335036,
         1
        ],
        [
         "41.92294668719911",
         62.51187808522047,
         "82.49467018543965",
         40.57172349824054,
         "113.28881806796403",
         129.93351467008648,
         "149.78673697749298",
         36.49791890952895,
         1
        ],
        [
         "34.4822532594155",
         53.395754822290634,
         "71.55322464132297",
         37.07097138190747,
         "100.20568224291313",
         111.41058016577429,
         "99.6450282141568",
         -0.560654028756332,
         1
        ],
        [
         "36.325196767655086",
         56.93559514422796,
         "76.20593056790283",
         39.88073380024774,
         "100.36492359632338",
         112.88199814194881,
         "99.78508649915624",
         -0.5798370971671432,
         1
        ],
        [
         "35.98140816648891",
         55.62044968533331,
         "76.283627254242",
         40.302219087753095,
         "100.74720147277876",
         116.93630692247784,
         "98.55109046185203",
         -2.196111010926728,
         1
        ],
        [
         "35.434933252289945",
         53.1177851516478,
         "71.80707548328652",
         36.37214223099658,
         "103.65774554236587",
         124.01514830131207,
         "143.3153487380608",
         39.65760319569493,
         1
        ],
        [
         "42.05196486363794",
         61.16568117110159,
         "81.072907693763",
         39.02094283012506,
         "105.96643345848128",
         128.12016382327522,
         "144.39547452077326",
         38.42904106229199,
         1
        ],
        [
         "38.89609932937924",
         58.62649961926906,
         "79.12902489058696",
         40.23292556120772,
         "101.64090145166051",
         119.91799181850597,
         "97.11729869844962",
         -4.523602753210895,
         1
        ],
        [
         "42.36374086384707",
         60.98687597401643,
         "82.76505891691431",
         40.40131805306724,
         "100.01981941439784",
         103.23098995635644,
         "99.99221544601205",
         -0.027603968385790267,
         1
        ],
        [
         "35.77165648637379",
         53.70145732314793,
         "76.71074007758504",
         40.93908359121125,
         "100.41341993098916",
         110.34828598517,
         "99.8405726504618",
         -0.5728472805273697,
         1
        ],
        [
         "38.41046788949144",
         58.97467160584214,
         "78.17559480613683",
         39.765126916645386,
         "105.13715753594184",
         126.83363868111576,
         "144.07045293783375",
         38.93329540189191,
         1
        ],
        [
         "38.62034674106212",
         56.609171210201616,
         "83.07291123700497",
         44.45256449594285,
         "100.66942306705548",
         114.19553447990967,
         "99.86124642864893",
         -0.8081766384065503,
         1
        ],
        [
         "33.5796062557465",
         53.70277803556437,
         "77.87212191646968",
         44.29251566072318,
         "100.01453173180866",
         105.05718882099545,
         "99.95243842093767",
         -0.06209331087099201,
         1
        ],
        [
         "34.15892511930976",
         56.16410340925965,
         "77.10505835048048",
         42.94613323117072,
         "100.21148395377882",
         115.99740688959257,
         "99.69192403230895",
         -0.5195599214698774,
         1
        ],
        [
         "35.536286684492836",
         56.49875893257005,
         "75.44054317484212",
         39.90425649034928,
         "106.34678078804504",
         125.44598372762361,
         "146.60931180891322",
         40.26253102086818,
         0
        ],
        [
         "39.7806560676494",
         62.88579165028098,
         "85.32391782180024",
         45.543261754150834,
         "100.409847500516",
         113.3775897316643,
         "99.32207985745423",
         -1.0877676430617669,
         1
        ],
        [
         "31.290072788176666",
         54.899711934948215,
         "75.99414222594729",
         44.70406943777062,
         "100.13061805310629",
         114.34595970020983,
         "99.43230188879039",
         -0.6983161643158979,
         1
        ],
        [
         "32.23604812189599",
         56.90481970066103,
         "78.97563292848301",
         46.73958480658702,
         "100.11123256790542",
         102.44450666746518,
         "99.93026145285762",
         -0.18097111504779662,
         1
        ],
        [
         "39.96826142850969",
         58.061657685029544,
         "76.18595636998592",
         36.217694941476225,
         "100.0112382796429",
         109.5841769139639,
         "99.95951710420148",
         -0.05172117544141486,
         1
        ],
        [
         "45.65510079226791",
         65.34297928233957,
         "88.2611430673509",
         42.60604227508299,
         "100.68676185889211",
         118.49810617793833,
         "138.51606716037833",
         37.829305301486215,
         0
        ],
        [
         "34.02186124121887",
         56.88267102244904,
         "82.69321189137617",
         48.671350650157294,
         "105.24318163048709",
         123.96687405542409,
         "149.32803097254558",
         44.08484934205849,
         0
        ],
        [
         "35.1852252874053",
         59.65207632404213,
         "80.97003504544736",
         45.78480975804206,
         "109.12265219084095",
         124.7832209748081,
         "142.83875668536132",
         33.716104494520366,
         1
        ],
        [
         "32.754803941113664",
         54.827834189170176,
         "72.86464787124947",
         40.10984393013581,
         "103.19125431866156",
         122.83209401833943,
         "143.53152071474673",
         40.34026639608517,
         1
        ],
        [
         "35.215331654684036",
         56.09250379342897,
         "76.5261388854639",
         41.31080723077986,
         "100.31088741409124",
         112.59051339511332,
         "99.99172233621148",
         -0.31916507787975945,
         1
        ],
        [
         "30.83377142173874",
         50.335146758794565,
         "66.48645905116236",
         35.65268762942362,
         "100.01926212423875",
         101.17717775211234,
         "99.9304225460753",
         -0.08883957816344434,
         1
        ],
        [
         "31.706367174058034",
         53.39830045019755,
         "76.88274624420878",
         45.176379070150745,
         "100.06533907794939",
         109.2322476287906,
         "99.96728497955553",
         -0.09805409839385959,
         1
        ],
        [
         "39.86099265021096",
         58.90129165964046,
         "78.21619803475096",
         38.35520538454,
         "103.44149792380148",
         127.36188780526082,
         "150.54875911364795",
         47.10726118984647,
         1
        ],
        [
         "42.75943526703975",
         62.36425430495572,
         "85.55416412040407",
         42.79472885336432,
         "108.577058160028",
         128.8708375575252,
         "148.2206587122707",
         39.6436005522427,
         1
        ],
        [
         "42.340254162019534",
         61.28096061852517,
         "78.96645218462324",
         36.6261980226037,
         "100.11899754017378",
         117.45913094553258,
         "99.45785962212673",
         -0.6611379180470465,
         1
        ],
        [
         "41.047313796984255",
         62.56235734124698,
         "82.96399126959079",
         41.91667747260654,
         "100.14930757932704",
         118.4369344442009,
         "140.55210568319228",
         40.40279810386524,
         1
        ],
        [
         "43.51272059399926",
         61.535264221129054,
         "78.68280187787781",
         35.170081283878545,
         "100.27774516131498",
         115.35464938159883,
         "99.96311136002484",
         -0.3146338012901424,
         1
        ],
        [
         "32.575230975987424",
         56.97346936884916,
         "82.30258352967006",
         49.727352553682636,
         "107.46778935710063",
         131.97780860360635,
         "153.0332235860397",
         45.56543422893907,
         1
        ],
        [
         "43.50860920899864",
         61.09860402408016,
         "78.40134816237098",
         34.89273895337234,
         "101.44474633867947",
         122.74774992463762,
         "143.41181218653503",
         41.967065847855565,
         1
        ],
        [
         "36.608102671950334",
         55.614447990215,
         "74.31304701802445",
         37.704944346074114,
         "100.05687157930936",
         103.6615626240543,
         "99.93201647884199",
         -0.12485510046737147,
         1
        ],
        [
         "39.13179522924644",
         60.34437835593993,
         "80.77263818383852",
         41.64084295459208,
         "104.86737812247382",
         126.06302458428354,
         "144.35451282151604",
         39.487134699042215,
         1
        ],
        [
         "31.142248604411336",
         54.32716658737448,
         "72.83649877117173",
         41.6942501667604,
         "101.25966773785103",
         119.8851060718591,
         "98.12203011041326",
         -3.137637627437769,
         1
        ],
        [
         "36.95203323444619",
         56.69285915627584,
         "73.5698769549164",
         36.617843720470205,
         "113.50636967319714",
         131.58807500473574,
         "152.50599986530545",
         38.99963019210831,
         1
        ],
        [
         "39.5308701887711",
         62.2207798629222,
         "80.28403989507044",
         40.75316970629934,
         "109.16689213922479",
         126.95512466743256,
         "144.596638994211",
         35.429746854986206,
         0
        ],
        [
         "40.08755979350509",
         59.78665652590695,
         "84.67186085143157",
         44.58430105792648,
         "100.05146695384728",
         113.30570823446087,
         "99.69749691268568",
         -0.35397004116160247,
         1
        ],
        [
         "37.72266185063575",
         58.109445804961396,
         "79.14050598789314",
         41.41784413725738,
         "100.06038767638879",
         113.58710886111574,
         "99.58964066868249",
         -0.47074700770629363,
         1
        ],
        [
         "34.62919814659236",
         56.04499310330301,
         "80.93974333149336",
         46.310545184901,
         "106.4310844802903",
         123.74481661471785,
         "146.57202772967057",
         40.14094324938027,
         0
        ],
        [
         "40.69405711634003",
         60.590923515730076,
         "84.33467330191542",
         43.64061618557538,
         "101.2675731835248",
         122.80820484232825,
         "141.9686277762023",
         40.70105459267751,
         1
        ],
        [
         "35.081533242156155",
         52.5994830048387,
         "75.13529512118356",
         40.053761879027405,
         "100.97384813770287",
         118.48186286205126,
         "98.33581963181763",
         -2.638028505885245,
         1
        ],
        [
         "34.63565893256789",
         52.552178979645504,
         "68.63211998551064",
         33.99646105294275,
         "100.27600684477886",
         107.78240829735611,
         "99.64322809394629",
         -0.6327787508325713,
         1
        ],
        [
         "42.45777991563946",
         62.5424434514974,
         "81.13869678054732",
         38.68091686490786,
         "100.05132656925797",
         114.55230135096309,
         "99.22272953631628",
         -0.828597032941687,
         1
        ],
        [
         "38.23017216577439",
         57.032067274628595,
         "75.29136160623966",
         37.06118944046527,
         "100.07523492530424",
         111.5132823320559,
         "99.92718449172682",
         -0.1480504335774242,
         1
        ],
        [
         "37.20960952493616",
         57.7572613547451,
         "76.500532513026",
         39.29092298808984,
         "100.00718672327974",
         108.8329637914066,
         "99.93779907155307",
         -0.0693876517266716,
         1
        ],
        [
         "34.06089227642805",
         57.699605539494904,
         "76.60923583250687",
         42.54834355607882,
         "100.09401059774561",
         112.23873368478687,
         "99.61273934277108",
         -0.48127125497452994,
         0
        ],
        [
         "36.55140653156983",
         60.675501719665704,
         "80.65897629036112",
         44.10756975879129,
         "111.7771085642273",
         128.94147601951747,
         "147.77884388043665",
         36.00173531620935,
         1
        ],
        [
         "39.27842141080888",
         62.349673580982575,
         "86.181626232445",
         46.903204821636116,
         "101.25234748774054",
         120.6266374192412,
         "99.60570793230565",
         -1.6466395554348878,
         1
        ],
        [
         "37.91714651730291",
         59.535291523259666,
         "81.04600857615985",
         43.12886205885694,
         "103.51055149885407",
         123.48098652565811,
         "141.31486623399098",
         37.80431473513691,
         1
        ],
        [
         "43.43393972289699",
         65.599364114848,
         "90.06316877516574",
         46.62922905226875,
         "100.14841227738043",
         120.59404304427035,
         "140.70893801557898",
         40.56052573819855,
         1
        ],
        [
         "47.497751789457865",
         65.09443389021877,
         "83.46510632944569",
         35.967354539987824,
         "100.49948598998331",
         115.11933899654937,
         "99.19782250471113",
         -1.3016634852721864,
         1
        ],
        [
         "43.30164972871465",
         60.9169779524695,
         "78.7312930178713",
         35.429643289156644,
         "100.19903382399012",
         119.08647638675849,
         "98.62849113902928",
         -1.5705426849608415,
         0
        ],
        [
         "38.02099057616416",
         60.09986360833688,
         "81.1244513505504",
         43.10346077438624,
         "103.93742827880531",
         123.1092014897493,
         "142.0331189981927",
         38.09569071938738,
         1
        ],
        [
         "32.85102451121916",
         53.996109697722694,
         "74.01764493263713",
         41.16662042141797,
         "100.20829217725561",
         109.95984042773122,
         "99.9479671105992",
         -0.26032506665642074,
         1
        ],
        [
         "33.09345079387374",
         52.44417122106422,
         "68.76633239763808",
         35.67288160376434,
         "100.0001296195089",
         107.17945905721444,
         "99.98304974462894",
         -0.017079874879954104,
         1
        ],
        [
         "31.697221923792224",
         54.4723519845188,
         "74.80235255967617",
         43.10513063588394,
         "100.05161379213656",
         99.35687844317113,
         "99.96935348634521",
         -0.08226030579135113,
         1
        ],
        [
         "44.235326260249394",
         60.42256176314894,
         "78.89107161553368",
         34.65574535528428,
         "101.08175815534649",
         119.9613164392822,
         "143.03267046187136",
         41.95091230652487,
         1
        ],
        [
         "50.878013535195336",
         69.7582290562508,
         "89.62675208783813",
         38.74873855264279,
         "108.49214484277707",
         134.30676746473694,
         "156.88865587353385",
         48.396511030756784,
         0
        ],
        [
         "29.248031720920373",
         52.72219489285437,
         "73.85747729657956",
         44.60944557565919,
         "100.07754157362515",
         111.64093436298818,
         "98.93700118469363",
         -1.1405403889315266,
         1
        ],
        [
         "42.0715353555213",
         60.12761602451012,
         "79.3788950879054",
         37.30735973238411,
         "100.34504046144191",
         109.56012470925296,
         "99.61525738715396",
         -0.7297830742879512,
         1
        ],
        [
         "38.571519625319674",
         59.48189159524812,
         "75.27806804728438",
         36.706548421964705,
         "100.5853449357723",
         123.95945125575354,
         "142.69399797447076",
         42.10865303869846,
         1
        ],
        [
         "36.81314524579027",
         56.885933665210395,
         "77.40979894826015",
         40.59665370246988,
         "100.26116884121716",
         112.64005489184483,
         "99.92821460244328",
         -0.33295423877387975,
         1
        ],
        [
         "40.93492114340846",
         63.08843411519338,
         "82.0187006307799",
         41.083779487371444,
         "107.06705288162065",
         126.09905832008154,
         "145.20776487303473",
         38.14071199141408,
         0
        ],
        [
         "34.62440883844944",
         51.8140340588965,
         "74.84566435202666",
         40.22125551357722,
         "100.2412619647662",
         114.13918373266662,
         "99.45160714433264",
         -0.7896548204335545,
         1
        ],
        [
         "36.59431466517516",
         59.05038854482371,
         "79.36029710831231",
         42.76598244313715,
         "101.15981451209782",
         115.9732815932727,
         "97.57051238695342",
         -3.5893021251443997,
         0
        ],
        [
         "30.02317882045495",
         54.620975473001145,
         "79.06158841467433",
         49.03840959421938,
         "100.08133062919269",
         104.4547683421351,
         "99.99281855573945",
         -0.08851207345324497,
         1
        ],
        [
         "35.75245157388686",
         53.706214183601965,
         "73.7159139431681",
         37.963462369281245,
         "109.56250495550148",
         128.12308584176236,
         "146.9241345883675",
         37.36162963286603,
         1
        ],
        [
         "44.68478356669803",
         63.85453517599894,
         "89.94019376696926",
         45.25541020027123,
         "105.14394539164846",
         124.34403326122224,
         "147.06054867875744",
         41.916603287108984,
         1
        ],
        [
         "37.3774360494513",
         57.65786534595617,
         "78.43791258501716",
         41.06047653556586,
         "100.56297908044064",
         120.37503973106395,
         "141.89050770228567",
         41.32752862184503,
         1
        ],
        [
         "31.423244170845372",
         54.72651413549743,
         "72.96256176844041",
         41.53931759759504,
         "101.7343773385541",
         120.62348199335035,
         "99.13315342356002",
         -2.6012239149940797,
         1
        ],
        [
         "42.43505840565152",
         58.02327833352048,
         "79.93849815787117",
         37.50343975221965,
         "111.31490640656057",
         129.58700135158583,
         "155.02273448271052",
         43.70782807614995,
         1
        ],
        [
         "38.94534186556935",
         63.754478270084235,
         "85.1011099308985",
         46.155768065329156,
         "116.49862553823117",
         136.37618282724523,
         "153.90237990264023",
         37.40375436440907,
         1
        ],
        [
         "36.50139972148455",
         55.21727743239163,
         "72.06143171049794",
         35.56003198901339,
         "100.1452427818188",
         113.37942058048388,
         "99.63606264217827",
         -0.5091801396405202,
         1
        ],
        [
         "33.62787524901559",
         54.288352770972345,
         "71.58238018375592",
         37.95450493474033,
         "100.07128168202232",
         112.6691603905874,
         "99.78984148191341",
         -0.2814402001089036,
         1
        ],
        [
         "37.8325622321328",
         56.03588560510597,
         "76.13506513762941",
         38.30250290549661,
         "100.13518138626496",
         107.4757531704789,
         "99.97473823291188",
         -0.16044315335308568,
         1
        ],
        [
         "38.34683388591853",
         57.824454441449014,
         "77.21141830939618",
         38.86458442347765,
         "100.07659987636079",
         108.70754172171173,
         "99.85440882920892",
         -0.22219104715186688,
         1
        ],
        [
         "38.15849899661341",
         55.36269820138385,
         "71.69159589858783",
         33.533096901974424,
         "100.03975150168135",
         112.46132395619571,
         "99.34959542306073",
         -0.6901560786206176,
         1
        ],
        [
         "38.79487987004811",
         62.30198218313579,
         "78.23762698341028",
         39.44274711336217,
         "104.83455377118872",
         128.76082086570102,
         "149.2726918677935",
         44.438138096604774,
         1
        ],
        [
         "41.446143345683545",
         62.058096235317926,
         "81.24101574794206",
         39.79487240225851,
         "105.96962678839257",
         125.89084628451705,
         "145.7203154992813",
         39.750688710888724,
         1
        ],
        [
         "46.692892347885376",
         65.92411272793555,
         "85.77974164236753",
         39.08684929448215,
         "108.7242374970565",
         131.80671437687576,
         "156.32473894599153",
         47.60050144893502,
         1
        ],
        [
         "44.59685767846577",
         63.43213272101563,
         "85.2325229003548",
         40.63566522188903,
         "108.20585983059442",
         128.41715085654386,
         "149.68051690080603",
         41.474657070211606,
         0
        ],
        [
         "37.431368578779775",
         57.75708563241984,
         "76.66075129987732",
         39.229382721097544,
         "108.81608504488571",
         127.57827349780985,
         "150.1601993939451",
         41.344114349059396,
         0
        ],
        [
         "44.01926572182347",
         63.96699762329367,
         "83.03923799644545",
         39.01997227462198,
         "113.3833545243216",
         131.25598020960956,
         "147.08515230490008",
         33.701797780578474,
         1
        ],
        [
         "40.32060462047961",
         61.78684693865401,
         "81.47748759150431",
         41.15688297102471,
         "101.45894699044896",
         118.924256596633,
         "139.4494329222769",
         37.99048593182795,
         1
        ],
        [
         "42.067548205891526",
         63.26480113949964,
         "83.93751935909847",
         41.86997115320695,
         "104.71987834091121",
         122.61061777895682,
         "141.39876279057336",
         36.67888444966215,
         0
        ],
        [
         "33.39239064597901",
         55.62611638208487,
         "79.57110683000664",
         46.17871618402763,
         "101.90365554918239",
         124.9288693267704,
         "141.52284337957937",
         39.61918783039698,
         1
        ],
        [
         "36.71976278746209",
         57.835324965111845,
         "82.65524663315216",
         45.93548384569007,
         "113.90796547073948",
         131.01524791232958,
         "157.7001804323445",
         43.79221496160501,
         1
        ],
        [
         "26.714183282858983",
         52.036689879174055,
         "72.0770399754235",
         45.36285669256452,
         "117.10177394628582",
         134.64253295640225,
         "155.30809644445776",
         38.20632249817194,
         0
        ],
        [
         "37.07152933085631",
         53.881895153509646,
         "73.94033776204172",
         36.868808431185414,
         "102.99893805449534",
         120.79738857548645,
         "143.0512274149513",
         40.05228936045597,
         1
        ],
        [
         "37.51879039642482",
         55.45382330004167,
         "75.07073405850848",
         37.55194366208366,
         "100.1680737962876",
         111.00320860480426,
         "99.9043569139793",
         -0.2637168823083016,
         1
        ],
        [
         "41.92953554264682",
         62.29819571161441,
         "83.78974879904956",
         41.860213256402744,
         "100.29438408704195",
         118.81225298235427,
         "97.6506836443842",
         -2.643700442657746,
         1
        ],
        [
         "43.01967224239864",
         64.08072767669127,
         "81.75017163587808",
         38.730499393479434,
         "104.16019434221414",
         120.61859529978403,
         "99.57209964930895",
         -4.588094692905187,
         1
        ],
        [
         "37.606220020111984",
         58.60155877734689,
         "80.18926748106554",
         42.58304746095356,
         "104.12213663136374",
         123.98802300128749,
         "143.64816514957164",
         39.526028518207895,
         1
        ],
        [
         "39.251589800111034",
         57.62831794201286,
         "76.1901275165362",
         36.93853771642516,
         "100.08365515284909",
         107.29106725806511,
         "99.9679085601819",
         -0.11574659266719323,
         1
        ],
        [
         "39.202583936933564",
         58.94065036176202,
         "76.9280900093893",
         37.72550607245573,
         "100.89767754952145",
         115.78840993124115,
         "98.82702800388044",
         -2.070649545641004,
         1
        ],
        [
         "45.312039497966296",
         62.7170593937312,
         "82.35898284980048",
         37.04694335183419,
         "108.14285951840861",
         130.6445793474258,
         "149.02210011510763",
         40.87924059669902,
         0
        ],
        [
         "38.87839586512797",
         60.402179439927465,
         "82.69743105160143",
         43.81903518647346,
         "100.06948800245699",
         109.18660308739443,
         "99.78758210528552",
         -0.28190589717146963,
         0
        ],
        [
         "33.416627990695",
         55.152509753685244,
         "74.08791012110079",
         40.67128213040579,
         "100.07998940115425",
         90.90327359269132,
         "99.96154870214222",
         -0.11844069901202658,
         1
        ],
        [
         "42.301462910592306",
         64.40963379323513,
         "84.09762079103149",
         41.79615788043918,
         "100.00980543989932",
         110.24646939483446,
         "99.9465213245519",
         -0.06328411534742884,
         0
        ],
        [
         "35.09627452604817",
         55.37917223913553,
         "78.7026029347937",
         43.60632840874553,
         "100.66191005186872",
         114.84728825384997,
         "99.94306037728472",
         -0.7188496745839927,
         1
        ],
        [
         "41.69699546390764",
         59.93692524845954,
         "78.11049022253167",
         36.413494758624026,
         "102.77838874756836",
         122.9215671522778,
         "140.59823847028963",
         37.81984972272127,
         1
        ],
        [
         "47.44241579919658",
         67.92333682360739,
         "90.4961046803034",
         43.05368888110682,
         "103.7423913024125",
         125.68961511397892,
         "145.0152911913778",
         41.2728998889653,
         1
        ],
        [
         "39.795096382082654",
         60.08340813330605,
         "83.49837207243496",
         43.70327569035231,
         "100.02986462503098",
         110.17805710904949,
         "99.78881380636453",
         -0.2410508186664515,
         1
        ],
        [
         "40.96442980944876",
         58.240063062486705,
         "76.53704080720688",
         35.57261099775812,
         "103.76421293728114",
         123.23041861091512,
         "97.30480858687261",
         -6.4594043504085334,
         1
        ],
        [
         "34.42647771780861",
         55.92466673763762,
         "72.69505054036415",
         38.26857282255554,
         "104.67283663461625",
         124.87392038894166,
         "142.68764002617496",
         38.014803391558715,
         1
        ],
        [
         "39.42934599801716",
         61.378836868231396,
         "79.30327288879684",
         39.87392689077968,
         "100.01557257301279",
         111.5840652108337,
         "99.72337347437949",
         -0.2921990986333043,
         1
        ],
        [
         "41.994626212228596",
         61.53406983566494,
         "82.69339776683405",
         40.69877155460546,
         "101.83701830911524",
         120.87635728212987,
         "143.16022915506946",
         41.32321084595422,
         0
        ],
        [
         "36.04690725025848",
         58.48350628120981,
         "76.66684453414948",
         40.619937283891,
         "107.15331265925063",
         127.96437930369802,
         "155.09144356407876",
         47.93813090482813,
         1
        ],
        [
         "36.97087173330954",
         57.848588788290535,
         "76.80252740228127",
         39.831655668971734,
         "108.37503015612427",
         127.84447226948697,
         "148.64885662711936",
         40.27382647099509,
         1
        ],
        [
         "41.94480043838476",
         61.93783235386212,
         "82.5579349417665",
         40.613134503381744,
         "108.32855630195297",
         130.11542570989485,
         "150.644554424863",
         42.31599812291003,
         1
        ],
        [
         "44.21118191084501",
         62.25347820208023,
         "80.73169711414272",
         36.520515203297705,
         "111.97893944054648",
         132.58700814364744,
         "151.92185440376647",
         39.94291496321999,
         1
        ],
        [
         "33.23883212520572",
         57.95667282844952,
         "77.31777618542523",
         44.07894406021951,
         "100.05957735748349",
         117.42153129646717,
         "98.72841602545851",
         -1.3311613320249762,
         1
        ],
        [
         "35.672432409382715",
         58.92840730841861,
         "85.41529845730905",
         49.742866047926334,
         "100.02169477240041",
         109.74572462936136,
         "99.93689968703265",
         -0.08479508536775882,
         1
        ],
        [
         "39.65444337095623",
         58.44167483222206,
         "79.08039488135822",
         39.42595151040199,
         "101.51509599445632",
         117.53943419692702,
         "99.48710980228707",
         -2.0279861921692515,
         1
        ],
        [
         "42.80874805943937",
         66.18080757875703,
         "82.93248411520558",
         40.123736055766216,
         "103.33525257283824",
         121.47800972881844,
         "142.38545598071647",
         39.05020340787823,
         1
        ],
        [
         "43.45349198378285",
         64.06500785678034,
         "87.38127412363279",
         43.927782139849946,
         "112.66037137669989",
         132.6423256508121,
         "151.5415210735796",
         38.8811496968797,
         1
        ],
        [
         "37.641454881488634",
         54.96504088473752,
         "76.93226879698366",
         39.29081391549503,
         "100.04718263100037",
         113.79085581686539,
         "99.99556938720293",
         -0.05161324379743348,
         1
        ],
        [
         "31.799416144730642",
         52.40217316821898,
         "72.60411644630238",
         40.80470030157174,
         "100.01542637809771",
         104.66097364718492,
         "99.99858695559203",
         -0.016839422505682933,
         1
        ],
        [
         "36.222795422701786",
         58.163494155017894,
         "74.30021110808217",
         38.07741568538038,
         "100.15440726420394",
         115.11476137771768,
         "99.01452117937839",
         -1.139886084825548,
         0
        ],
        [
         "34.90560795290995",
         53.984221025279155,
         "73.49136369044737",
         38.58575573753742,
         "103.88268937819149",
         125.92857265727432,
         "146.60159721792513",
         42.718907839733646,
         1
        ],
        [
         "44.362820583663726",
         64.59810731860013,
         "89.10774457264557",
         44.744923988981846,
         "102.55656784674366",
         121.80730818442949,
         "97.90118667882783",
         -4.655381167915834,
         0
        ],
        [
         "31.73319652547088",
         58.11243456382602,
         "77.69766606559767",
         45.96446954012679,
         "100.07648181619498",
         109.17174592271977,
         "99.77133986247898",
         -0.30514195371600294,
         1
        ],
        [
         "35.977944377413465",
         62.51313520424651,
         "84.59070603960618",
         48.61276166219271,
         "102.7788037402837",
         123.93241814474094,
         "145.29264767811395",
         42.513843937830245,
         1
        ],
        [
         "42.19769511553186",
         62.30229620828168,
         "88.02989190756058",
         45.832196792028725,
         "107.53320946397155",
         126.10467081021973,
         "143.6318973608166",
         36.09868789684505,
         1
        ],
        [
         "39.883052380242006",
         60.51711411609363,
         "81.86623065086624",
         41.98317827062424,
         "100.02802293802893",
         110.68540316550727,
         "99.6353765937969",
         -0.39264634423201983,
         1
        ],
        [
         "36.790092629412925",
         57.67928187578235,
         "76.8062378093683",
         40.01614517995537,
         "100.00300976272243",
         107.34804493259925,
         "99.9890760463062",
         -0.013933716416232755,
         1
        ],
        [
         "34.825513215686144",
         56.80505189318202,
         "74.46948327483655",
         39.643970059150405,
         "101.2422448085325",
         124.07578548892548,
         "145.6423378730522",
         44.40009306451971,
         1
        ],
        [
         "39.94905211344235",
         59.30681070216743,
         "81.98262389659607",
         42.03357178315372,
         "103.1649839578034",
         122.65888419981579,
         "139.1992848402334",
         36.03430088242999,
         1
        ],
        [
         "35.90193516999098",
         56.142751230895016,
         "76.60680797841296",
         40.70487280842198,
         "104.5381619802161",
         126.57405681848671,
         "144.79359368236106",
         40.25543170214496,
         1
        ],
        [
         "33.91673909582137",
         50.611330310843165,
         "72.12760979952454",
         38.210870703703165,
         "100.09438482328896",
         112.3120283527534,
         "99.96638007408085",
         -0.12800474920811666,
         1
        ],
        [
         "32.05255826482776",
         54.6766359180268,
         "77.68269335394895",
         45.63013508912119,
         "101.64371372233335",
         116.3661288301152,
         "98.5197423117958",
         -3.12397141053755,
         0
        ],
        [
         "34.97178573595456",
         54.14983769857486,
         "74.2129000741987",
         39.24111433824414,
         "100.01471020658866",
         107.52589008911818,
         "99.97861887865606",
         -0.03609132793259562,
         1
        ],
        [
         "32.500854951875375",
         58.117270329664116,
         "79.72260948721363",
         47.221754535338256,
         "106.9513354954884",
         123.36710998953104,
         "148.81956369530224",
         41.86822819981384,
         0
        ],
        [
         "35.15852243901574",
         58.10250757236348,
         "79.46223320380915",
         44.30371076479341,
         "100.10050001673085",
         106.38645839526069,
         "99.96553597030986",
         -0.1349640464209898,
         1
        ],
        [
         "38.00375709718247",
         55.263476688560075,
         "75.66599440186026",
         37.66223730467779,
         "100.49863380017214",
         115.49597879897287,
         "99.41459669208588",
         -1.0840371080862639,
         0
        ],
        [
         "36.83584301488294",
         58.66288335369646,
         "74.44815866725352",
         37.61231565237058,
         "112.11852047524465",
         129.43487686010218,
         "150.112184797213",
         37.99366432196834,
         0
        ],
        [
         "39.52339692280101",
         57.436957451876424,
         "79.62525874946981",
         40.101861826668795,
         "100.12083037028614",
         126.59884320207662,
         "148.3680868105997",
         48.24725644031355,
         0
        ],
        [
         "37.758806906413554",
         58.88021295914786,
         "75.30347623760902",
         37.544669331195465,
         "104.92368074737298",
         123.14111660878439,
         "140.48960384494805",
         35.565923097575066,
         1
        ],
        [
         "37.400158021180744",
         59.174875660754545,
         "82.74653369603121",
         45.346375674850464,
         "100.1598756243349",
         117.99953455187713,
         "99.35895711587284",
         -0.8009185084620611,
         1
        ],
        [
         "37.22247708519408",
         57.00934325124097,
         "78.77361980687428",
         41.5511427216802,
         "100.58241427113512",
         119.64383779233268,
         "98.77808484771455",
         -1.804329423420569,
         1
        ],
        [
         "38.78123480914541",
         58.56108065908863,
         "80.37962733231572",
         41.59839252317031,
         "100.21356912734716",
         119.6199288540448,
         "97.7108747699312",
         -2.5026943574159617,
         1
        ],
        [
         "41.02034652488336",
         60.61395871256956,
         "80.04733770373811",
         39.02699117885475,
         "100.3356464665199",
         109.85351402876162,
         "99.9655889988699",
         -0.3700574676499997,
         1
        ],
        [
         "46.4039626281556",
         62.26279249429451,
         "84.20463572967962",
         37.800673101524026,
         "110.51635848602726",
         133.106810900366,
         "158.4552435372343",
         47.93888505120705,
         0
        ],
        [
         "40.072550463213034",
         59.61883400286007,
         "76.62893435610076",
         36.55638389288772,
         "101.09887678310153",
         123.463110345989,
         "99.61068220738701",
         -1.488194575714516,
         0
        ],
        [
         "42.413135128499896",
         62.774220037074414,
         "82.80375850828594",
         40.39062337978604,
         "102.78442410193988",
         122.50538208722931,
         "148.70224830275023",
         45.91782420081036,
         0
        ],
        [
         "36.60699674243644",
         57.33249302793963,
         "77.56726320425864",
         40.960266461822194,
         "101.82927828054852",
         122.85794513521158,
         "143.23578581397652",
         41.406507533428,
         0
        ],
        [
         "43.946863494173954",
         61.775624660847264,
         "81.81499799640473",
         37.868134502230774,
         "104.74698208065989",
         122.9402984901657,
         "145.43100876154185",
         40.684026680881956,
         1
        ],
        [
         "38.37432461971616",
         58.6598170774426,
         "81.20450523314531",
         42.83018061342915,
         "106.08549384363758",
         123.73624993151113,
         "99.57873008111758",
         -6.506763762519995,
         0
        ],
        [
         "35.01528297315696",
         53.838267952105014,
         "73.73590575160883",
         38.72062277845187,
         "100.08910540042183",
         111.44028556084955,
         "99.15194432382873",
         -0.9371610765930996,
         1
        ],
        [
         "30.82771275174982",
         54.043554890747885,
         "74.83116123962502",
         44.0034484878752,
         "100.03106759175883",
         110.00526872564208,
         "99.92354050704539",
         -0.10752708471343908,
         1
        ],
        [
         "39.09685321920433",
         61.47539833909047,
         "78.30848327052051",
         39.211630051316185,
         "101.83945109690963",
         122.54747723801965,
         "140.9635306145089",
         39.12407951759927,
         0
        ],
        [
         "37.41225294754851",
         59.30476906386263,
         "77.46073003577797",
         40.04847708822946,
         "100.3636919387779",
         117.11845607220734,
         "138.15204539583377",
         37.78835345705586,
         1
        ],
        [
         "40.03286183266154",
         61.30986751566112,
         "87.83393175305306",
         47.80106992039153,
         "100.41081453864889",
         114.258712937288,
         "99.57039161825865",
         -0.8404229203902389,
         1
        ],
        [
         "39.210617556607076",
         61.20378646928706,
         "78.50834546197103",
         39.297727905363956,
         "110.48880571562964",
         128.66891882765813,
         "151.74827325037216",
         41.25946753474253,
         1
        ],
        [
         "36.7662171477762",
         59.75302895462926,
         "76.6124732708505",
         39.8462561230743,
         "101.0311470126154",
         117.89843159097195,
         "97.90295214826513",
         -3.1281948643502773,
         1
        ],
        [
         "40.236305898029215",
         58.00759486462274,
         "79.82987370370354",
         39.593567805674326,
         "108.6311105108689",
         126.812097375776,
         "148.8131147111328",
         40.18200420026392,
         1
        ],
        [
         "19.86994318929201",
         47.64031240613424,
         "66.16505670668724",
         46.29511351739523,
         "100.00014944649999",
         99.24786552189941,
         "99.99890773184364",
         -0.0012417146563450387,
         1
        ],
        [
         "30.458192073211524",
         53.99363219237273,
         "74.01407498169044",
         43.55588290847892,
         "100.2515361515485",
         114.89388884878993,
         "99.83146937889174",
         -0.4200667726567673,
         1
        ],
        [
         "45.14165229213876",
         63.59019076514745,
         "83.53510698581638",
         38.393454693677626,
         "100.29942539368768",
         114.07185804723335,
         "99.86367096476613",
         -0.43575442892155536,
         0
        ],
        [
         "36.31308321072902",
         62.68259265126539,
         "82.71014445774408",
         46.39706124701506,
         "118.29722523557137",
         138.11610660577736,
         "157.61111412808856",
         39.313888892517184,
         1
        ],
        [
         "44.25789955476604",
         66.41181719173882,
         "87.89864476951843",
         43.640745214752386,
         "100.08178787774025",
         113.04592765449763,
         "99.91784174327925",
         -0.16394613446099982,
         0
        ],
        [
         "35.499807519803774",
         53.95130223187843,
         "72.10098328731203",
         36.60117576750826,
         "101.02724309771298",
         114.0526328569994,
         "98.09087633064121",
         -2.9363667670717746,
         1
        ],
        [
         "41.8046345670967",
         59.79432466627325,
         "84.77795128792843",
         42.97331672083173,
         "100.0809298726778",
         108.3709384195135,
         "99.98911932287831",
         -0.0918105497994901,
         1
        ],
        [
         "35.22271215048764",
         53.11048920098877,
         "71.76304473972425",
         36.54033258923661,
         "103.47965089334073",
         126.70056604723004,
         "147.83829626649407",
         44.35864537315334,
         0
        ],
        [
         "37.25265892397475",
         58.44899085506251,
         "77.30084964436095",
         40.0481907203862,
         "106.3977177547271",
         124.784488078097,
         "148.7113499770294",
         42.31363222230232,
         1
        ],
        [
         "37.65958704422766",
         58.85354823346562,
         "81.44574909745737",
         43.7861620532297,
         "100.68528108166807",
         118.53790589078295,
         "138.38388737252532",
         37.698606290857256,
         0
        ],
        [
         "36.711783195363736",
         54.28943903517253,
         "74.95834718692385",
         38.24656399156011,
         "100.18846557334408",
         112.19161668363064,
         "99.08116198722595",
         -1.107303586118121,
         1
        ],
        [
         "38.74596890771315",
         59.57345378548099,
         "78.97523991599458",
         40.22927100828143,
         "102.42223621089576",
         121.00816190688136,
         "137.18695250601743",
         34.76471629512167,
         1
        ],
        [
         "37.3666975391138",
         56.44607229888862,
         "79.64845026309547",
         42.28175272398167,
         "101.17792335942825",
         115.3615684125437,
         "99.93308901369915",
         -1.2448343457291031,
         1
        ],
        [
         "37.03310747574866",
         58.89887484762447,
         "76.85522260600462",
         39.82211513025596,
         "100.78669107024604",
         111.92317957559794,
         "99.09387300722268",
         -1.6928180630233527,
         1
        ],
        [
         "34.77235750787867",
         56.576312194863796,
         "76.73101504721507",
         41.9586575393364,
         "102.1776366169788",
         115.45332006123694,
         "99.37123421430627",
         -2.806402402672532,
         1
        ],
        [
         "42.559564970596774",
         62.182037894911566,
         "82.7619256373124",
         40.20236066671563,
         "104.66828243729577",
         127.64092187031855,
         "147.1824592098848",
         42.514176772589025,
         1
        ],
        [
         "36.211865209851865",
         59.371598100237165,
         "80.13550163039346",
         43.9236364205416,
         "106.39151617628829",
         124.49333845701672,
         "143.53140969237205",
         37.13989351608376,
         1
        ],
        [
         "39.02964055405016",
         58.611991683118795,
         "77.55829763962305",
         38.52865708557289,
         "101.6899222496169",
         118.72983864594788,
         "97.2505664742611",
         -4.439355775355793,
         1
        ],
        [
         "38.84655634965516",
         60.42992338489764,
         "81.06823794382106",
         42.2216815941659,
         "101.03211321392507",
         122.6855036064835,
         "96.46808419919692",
         -4.564029014728149,
         0
        ],
        [
         "31.291278193032927",
         55.11809735971847,
         "75.61630795776718",
         44.32502976473425,
         "100.05496886304006",
         113.46029561921635,
         "99.9993721280064",
         -0.05559673503366014,
         1
        ],
        [
         "33.80149668096987",
         56.552968444572365,
         "76.96109306025456",
         43.159596379284686,
         "100.02651182997249",
         105.16388226342019,
         "99.82304053350174",
         -0.20347129647075235,
         1
        ],
        [
         "36.546215158957594",
         59.70173920373684,
         "80.83205375119532",
         44.285838592237724,
         "100.31999569890745",
         115.61135864287056,
         "99.17789502806251",
         -1.1421006708449397,
         1
        ],
        [
         "41.332327258527414",
         60.77597299069474,
         "78.48266898544166",
         37.15034172691425,
         "100.16359387093723",
         117.94460726550128,
         "135.8118197404478",
         35.648225869510554,
         0
        ],
        [
         "36.83358624301919",
         56.97267569794542,
         "81.60824930412868",
         44.774663061109486,
         "100.19012838655203",
         110.08657464780161,
         "99.96808895756774",
         -0.22203942898428863,
         1
        ],
        [
         "49.04389408567108",
         67.20903239968082,
         "86.53321543885819",
         37.489321353187115,
         "102.00922223500943",
         121.73831621306792,
         "144.22435177556198",
         42.21512954055255,
         0
        ],
        [
         "27.746922263631802",
         53.09717436523624,
         "75.30073682755761",
         47.55381456392581,
         "100.32160136391683",
         118.45919117610936,
         "136.6325520921097",
         36.31095072819288,
         0
        ],
        [
         "40.321060061599766",
         57.30860502202667,
         "80.51776493749081",
         40.196704875891044,
         "108.64849555637765",
         126.7622936129852,
         "145.11496626525718",
         36.46647070887953,
         1
        ],
        [
         "38.56231663727689",
         61.95797531245902,
         "84.76393423057884",
         46.20161759330195,
         "105.7874419833544",
         123.27502734801213,
         "142.49032760661908",
         36.70288562326468,
         1
        ],
        [
         "35.337686086439106",
         54.82781484988716,
         "77.04109395956146",
         41.70340787312236,
         "100.0525683953286",
         104.17462679237505,
         "99.97813877136213",
         -0.07442962396648056,
         1
        ],
        [
         "37.055895934187404",
         59.05030624952398,
         "77.61936234152954",
         40.56346640734213,
         "100.04520059827871",
         108.44166030873036,
         "99.99371591915701",
         -0.05148467912169963,
         1
        ],
        [
         "41.950825971327134",
         63.04460618653344,
         "84.45060746559233",
         42.49978149426519,
         "100.64523155510545",
         113.87693589774763,
         "99.29914728413655",
         -1.3460842709689018,
         0
        ],
        [
         "44.625549691177014",
         60.20378083143608,
         "80.3646114190137",
         35.739061727836685,
         "100.09947301445818",
         106.93009268597045,
         "99.96460278023058",
         -0.13487023422760558,
         1
        ],
        [
         "35.30444702245594",
         54.938906309937884,
         "76.64722586747405",
         41.34277884501811,
         "100.74068216763199",
         119.11049978521238,
         "98.9590699188915",
         -1.7816122487404868,
         0
        ],
        [
         "40.81985152090036",
         59.3180284743097,
         "79.5066678405584",
         38.68681631965805,
         "100.71612253011465",
         117.92057791367135,
         "99.70060656394297",
         -1.0155159661716766,
         1
        ],
        [
         "37.08940838729017",
         58.45265010195033,
         "76.53217781587135",
         39.44276942858118,
         "101.45821644377595",
         114.56097878766325,
         "99.37936028698377",
         -2.0788561567921846,
         1
        ],
        [
         "39.188229499537755",
         59.51174959980764,
         "80.2414045097944",
         41.05317501025665,
         "100.85168591762472",
         122.54736205745364,
         "142.78438922467848",
         41.93270330705376,
         0
        ],
        [
         "36.87944265902608",
         57.40375170050888,
         "80.54905088602985",
         43.66960822700376,
         "100.345317942196",
         116.5242669776999,
         "99.41133301629893",
         -0.9339849258970787,
         1
        ],
        [
         "35.982086617912756",
         61.808568830306434,
         "82.16436689740064",
         46.182280279487884,
         "111.81859379077542",
         131.12511890693497,
         "149.56468037790052",
         37.74608658712509,
         1
        ],
        [
         "39.607547739923504",
         59.00022922606996,
         "78.58275322932305",
         38.97520548939954,
         "105.08233484599268",
         122.13254720003094,
         "142.96215691102518",
         37.8798220650325,
         1
        ],
        [
         "40.096511375948296",
         60.72894626375877,
         "80.48006755833568",
         40.38355618238738,
         "100.56446077655664",
         114.90536765539285,
         "99.55050499445584",
         -1.0139557821008083,
         1
        ],
        [
         "28.56052406619729",
         52.4341602462425,
         "69.519873022432",
         40.959348956234706,
         "100.17211992247708",
         112.79672401937134,
         "98.99231574946481",
         -1.179804173012272,
         1
        ],
        [
         "40.40437316800153",
         63.39551450708027,
         "82.84519930996933",
         42.440826141967804,
         "101.12602581936858",
         119.98561031296448,
         "88.74736281318388",
         -12.378663006184695,
         1
        ],
        [
         "31.884458194375647",
         56.10517924894308,
         "83.47330107211383",
         51.58884287773818,
         "100.00114309173722",
         105.48061794549159,
         "99.93300365777719",
         -0.06813943396002742,
         1
        ],
        [
         "39.74372067075532",
         61.63125573441172,
         "82.5726439613623",
         42.82892329060698,
         "100.01276415641786",
         109.2144177275311,
         "99.9256078983886",
         -0.08715625802925331,
         1
        ],
        [
         "36.84402503434417",
         54.92488864056813,
         "73.92033222353797",
         37.0763071891938,
         "100.80425701654356",
         117.3369163236745,
         "99.0713070256694",
         -1.732949990874161,
         0
        ],
        [
         "31.367380247101842",
         52.46038134645494,
         "73.56791039702743",
         42.20053014992559,
         "100.5102294353438",
         117.76424664811631,
         "99.60468720109783",
         -0.9055422342459707,
         1
        ],
        [
         "37.59784945628338",
         57.22074719411959,
         "74.00477477964708",
         36.4069253233637,
         "102.01662961822021",
         119.46717089093544,
         "99.44875243491197",
         -2.5678771833082408,
         1
        ],
        [
         "28.20434795495692",
         49.707665712666284,
         "73.74203989998851",
         45.5376919450316,
         "100.06248979312298",
         110.86456013040053,
         "99.87031103428242",
         -0.19217875884055502,
         1
        ],
        [
         "35.52006409580889",
         55.010315896727924,
         "77.33958242402427",
         41.81951832821538,
         "100.21713289705774",
         113.06628183781201,
         "99.92622934207601",
         -0.2909035549817247,
         1
        ],
        [
         "37.608963201075085",
         56.97188734611269,
         "75.14603690233453",
         37.537073701259445,
         "100.3297774843685",
         114.74029013116355,
         "97.9711406198609",
         -2.358636864507602,
         1
        ],
        [
         "43.52453306818595",
         62.684455913633336,
         "82.31975974671128",
         38.79522667852533,
         "100.02838115346681",
         112.08859201428278,
         "99.93460870640641",
         -0.09377244706040244,
         1
        ],
        [
         "34.759773953781874",
         61.42668813488618,
         "86.1801448211913",
         51.42037086740943,
         "100.3770252747309",
         110.46848506505148,
         "99.73111568558188",
         -0.6459095891490136,
         1
        ],
        [
         "36.157013210192275",
         58.07916797561877,
         "80.45274119000234",
         44.29572797981007,
         "104.77550573036777",
         122.3248255760537,
         "97.87327752738973",
         -6.902228202978037,
         1
        ],
        [
         "35.791066606544724",
         54.46631685374545,
         "71.7721069400724",
         35.98104033352768,
         "100.09059992046122",
         111.49242628560009,
         "99.98485786221356",
         -0.1057420582476567,
         1
        ],
        [
         "39.72951654590071",
         59.361554546774286,
         "79.8007909444793",
         40.071274398578595,
         "100.05911871972992",
         118.47935566246872,
         "99.83152060659128",
         -0.2275981131386402,
         1
        ],
        [
         "42.4109819621832",
         60.721794773948815,
         "85.06461505418059",
         42.65363309199739,
         "100.87458870622224",
         119.13784679648283,
         "99.95739025325797",
         -0.9171984529642714,
         0
        ],
        [
         "33.90844367912045",
         54.81864692979189,
         "79.30199595382574",
         45.393552274705286,
         "107.49024250961172",
         122.21381410455807,
         "140.4990045900107",
         33.008762080398995,
         1
        ],
        [
         "39.11514779328033",
         60.066071161991886,
         "76.40235578775757",
         37.28720799447724,
         "101.63305678073829",
         117.5175276066004,
         "98.46966860821198",
         -3.163388172526311,
         1
        ],
        [
         "38.960534469087634",
         61.97849401747265,
         "81.46977055582258",
         42.509236086734944,
         "100.36394444365419",
         117.02451984305894,
         "99.81879954131593",
         -0.5451449023382651,
         1
        ],
        [
         "38.941777711209866",
         58.768104608748835,
         "75.67829080089292",
         36.73651308968306,
         "100.06850273391285",
         112.38480423017455,
         "99.98150883135736",
         -0.08699390255549133,
         1
        ],
        [
         "25.177021083856808",
         53.26056758702376,
         "76.78048086117593",
         51.603459777319124,
         "100.09401145825919",
         105.43426536253541,
         "99.99320275071764",
         -0.10080870754154603,
         1
        ],
        [
         "37.355863985575304",
         57.19816136927272,
         "79.77463217111276",
         42.41876818553745,
         "100.46531088690082",
         121.03765865200566,
         "140.75579706340693",
         40.29048617650611,
         1
        ],
        [
         "43.477695348052436",
         61.51804542764749,
         "81.38379312206725",
         37.90609777401481,
         "111.05705980311429",
         130.18468174164695,
         "150.59309754285024",
         39.53603773973596,
         0
        ],
        [
         "36.985442773928206",
         57.500405624212874,
         "80.46589120143715",
         43.48044842750894,
         "101.22485435132292",
         124.646974274697,
         "97.13240730777198",
         -4.0924470435509335,
         1
        ],
        [
         "38.36813718190298",
         58.601821563224284,
         "80.21902784147754",
         41.85089065957456,
         "103.43984356316193",
         126.56705034435639,
         "149.22810796546898",
         45.78826440230705,
         0
        ],
        [
         "34.66714061782336",
         55.04866239529643,
         "72.44636245339859",
         37.779221835575235,
         "100.03605942735791",
         116.41496444836062,
         "95.31694062485954",
         -4.719118802498372,
         1
        ],
        [
         "31.167723590033297",
         55.87114674216364,
         "76.75969978135862",
         45.59197619132532,
         "100.14804643791429",
         119.81123298679928,
         "98.98659936726182",
         -1.1614470706524713,
         0
        ],
        [
         "38.74000852962705",
         58.63084481320134,
         "88.23192676309043",
         49.49191823346338,
         "100.20613805716069",
         113.25985263616464,
         "99.87448814214113",
         -0.331649915019554,
         0
        ],
        [
         "45.25069582293989",
         63.01183947917495,
         "86.09456320561108",
         40.84386738267119,
         "101.022133263115",
         120.65021651129216,
         "137.5946530599817",
         36.572519796866715,
         1
        ],
        [
         "41.82191555800633",
         59.25804887059636,
         "81.13088885641",
         39.308973298403664,
         "103.29717424366663",
         121.18888085107355,
         "139.48857699193505",
         36.191402748268416,
         0
        ],
        [
         "32.81748695925132",
         52.178480938174474,
         "71.12928436465575",
         38.31179740540443,
         "100.03267125987352",
         107.29293030261685,
         "99.81693223264229",
         -0.21573902723123695,
         1
        ],
        [
         "36.66087930989926",
         55.96004509976964,
         "75.49115102015566",
         38.8302717102564,
         "100.01477648141483",
         101.46422909871865,
         "99.87882577991195",
         -0.13595070150287825,
         1
        ],
        [
         "41.86442551110898",
         60.88386114539889,
         "82.10906360662995",
         40.24463809552096,
         "103.44418617307213",
         125.48157424510035,
         "147.54288715388154",
         44.09870098080941,
         0
        ],
        [
         "42.529618991263845",
         59.86950120049168,
         "82.1095729079824",
         39.57995391671855,
         "104.65031973663932",
         123.03145835684863,
         "147.05651182061214",
         42.406192083972826,
         0
        ],
        [
         "36.62318272008909",
         53.598010695445076,
         "72.9045883762325",
         36.281405656143406,
         "100.54178550873229",
         116.09025305225222,
         "99.5787503160432",
         -0.963035192689091,
         1
        ],
        [
         "37.46235205123066",
         56.096582706922625,
         "78.38811000193907",
         40.92575795070841,
         "100.36641958173855",
         112.06331123649046,
         "99.8035317428172",
         -0.5628878389213554,
         1
        ],
        [
         "35.751502621752884",
         53.95633887819064,
         "71.36243883952814",
         35.610936217775254,
         "100.18733770214473",
         115.596752205022,
         "99.22232691091058",
         -0.9650107912341497,
         1
        ],
        [
         "30.614310849121775",
         52.61525693779644,
         "68.45088699309143",
         37.83657614396965,
         "100.74967410182207",
         120.56504913969002,
         "142.34290764963023",
         41.59323354780817,
         0
        ],
        [
         "30.77992238333818",
         56.597800875138866,
         "77.82853431004187",
         47.04861192670369,
         "104.86117651543508",
         123.19212379822282,
         "141.2530352114914",
         36.39185869605633,
         1
        ],
        [
         "33.85084128779408",
         56.90077445583214,
         "76.30405160326659",
         42.453210315472504,
         "107.86443991226305",
         125.26374196054664,
         "145.91160002320024",
         38.047160110937185,
         1
        ],
        [
         "41.2127879120247",
         60.70651237575465,
         "83.32596623017875",
         42.11317831815405,
         "100.42153215813704",
         113.81724756102125,
         "99.72200183221712",
         -0.6995303259199233,
         1
        ],
        [
         "39.499229588192335",
         58.845460320710416,
         "76.79150562461992",
         37.29227603642758,
         "107.59604435229065",
         129.2498125259004,
         "145.49745147289815",
         37.9014071206075,
         0
        ],
        [
         "38.934300187679284",
         59.61474612419353,
         "83.54453042757311",
         44.61023023989382,
         "114.71389766291584",
         133.91010774786747,
         "154.9752527735149",
         40.26135511059907,
         0
        ],
        [
         "33.95857201069484",
         55.06979101545159,
         "74.42314787467677",
         40.464575863981935,
         "100.1614790890152",
         111.71193480037871,
         "99.6618829960304",
         -0.49959609298480245,
         1
        ],
        [
         "43.175988206653436",
         62.22928074355126,
         "81.26864452781061",
         38.09265632115717,
         "106.33288516899998",
         124.65402865381357,
         "145.76014058609965",
         39.42725541709967,
         1
        ],
        [
         "41.92968744029854",
         57.89930165428551,
         "79.7214894876735",
         37.79180204737496,
         "100.01739807968153",
         107.84703922918236,
         "99.86471654922107",
         -0.1526815304604554,
         1
        ],
        [
         "41.638919155763965",
         58.419414650502375,
         "74.36928039662413",
         32.73036124086017,
         "111.00233935229657",
         131.75673559997063,
         "156.8173615197444",
         45.81502216744782,
         0
        ],
        [
         "36.96191248132983",
         55.715498332792635,
         "75.18069216229227",
         38.21877968096244,
         "105.21258640491712",
         119.26622841931129,
         "98.25843143132002",
         -6.954154973597099,
         1
        ],
        [
         "37.05325392420501",
         56.8705782716051,
         "76.81515025667274",
         39.76189633246773,
         "100.32088328073108",
         115.17087262215144,
         "99.91860863768888",
         -0.4022746430422046,
         1
        ],
        [
         "42.566645670588784",
         58.62275473604264,
         "80.60208182434599",
         38.0354361537572,
         "107.07348850789298",
         127.25508352162805,
         "149.41345843974602",
         42.33996993185305,
         1
        ],
        [
         "39.57894390656108",
         61.381406016206036,
         "79.3546384358398",
         39.775694529278724,
         "100.26073415804072",
         114.08226883611219,
         "99.58299862444947",
         -0.677735533591246,
         1
        ],
        [
         "41.20938107067251",
         63.71062821619158,
         "81.28726361528943",
         40.07788254461693,
         "106.97215312678541",
         128.67573788420398,
         "145.65131350801244",
         38.67916038122702,
         1
        ],
        [
         "43.57718298581039",
         64.2361964609091,
         "85.00050903088676",
         41.42332604507637,
         "101.24449070390907",
         125.96808526915677,
         "153.46698990065101",
         52.22249919674195,
         1
        ],
        [
         "40.72440480486962",
         61.9169100751911,
         "82.72210134196926",
         41.99769653709964,
         "110.00379789005667",
         127.56901816488676,
         "153.99660243756335",
         43.99280454750668,
         1
        ],
        [
         "20.494023469368983",
         54.85617750715018,
         "82.26827675476162",
         61.77425328539263,
         "101.95474560216331",
         125.56642430144544,
         "145.24909364197418",
         43.29434803981087,
         1
        ],
        [
         "32.50268793626636",
         54.28134299658563,
         "71.05804029308997",
         38.55535235682361,
         "100.32102466292892",
         117.03354288728103,
         "98.49425477395381",
         -1.8267698889751074,
         1
        ],
        [
         "46.49632401242869",
         65.21684883126926,
         "83.70060588093023",
         37.20428186850154,
         "105.60654969021479",
         124.38060597577739,
         "143.50883942956668",
         37.902289739351886,
         1
        ],
        [
         "39.20269827743168",
         60.51569827108522,
         "82.27798424221797",
         43.07528596478629,
         "100.14260971753069",
         105.84704990806648,
         "99.96984099693198",
         -0.17276872059871096,
         1
        ],
        [
         "39.4678219282536",
         57.844947355784335,
         "75.8561706771903",
         36.38834874893671,
         "100.28631646043142",
         116.85024264714268,
         "98.14814256719299",
         -2.138173893238431,
         1
        ],
        [
         "38.88757264573215",
         58.35330637377733,
         "81.0845461518552",
         42.19697350612306,
         "100.20898227068425",
         113.70852017780473,
         "99.76037510727289",
         -0.44860716341135287,
         1
        ],
        [
         "29.39840348074665",
         56.97155264411809,
         "75.30713618617844",
         45.90873270543179,
         "101.82215228682962",
         118.1735623873825,
         "99.84656403588744",
         -1.975588250942181,
         1
        ],
        [
         "43.984402935751824",
         63.57479645715812,
         "81.23855120524536",
         37.254148269493534,
         "100.30347460775018",
         124.41245423099706,
         "145.28740711888813",
         44.98393251113795,
         1
        ],
        [
         "40.89639938151207",
         63.73596070293806,
         "92.67958083235199",
         51.78318145083992,
         "100.01816506273668",
         115.02184882553509,
         "99.38041297535396",
         -0.6377520873827223,
         1
        ],
        [
         "38.774525878079636",
         60.75149388108682,
         "79.34716669503658",
         40.57264081695694,
         "106.93828541356935",
         123.98681446142143,
         "143.15503560274985",
         36.2167501891805,
         1
        ],
        [
         "36.65426766443156",
         58.66738435247839,
         "79.11252833270976",
         42.4582606682782,
         "100.77493958892289",
         119.914240632625,
         "141.60062735924163",
         40.82568777031874,
         0
        ],
        [
         "36.805387993302716",
         56.32391421732216,
         "77.08544292671777",
         40.28005493341506,
         "100.01985679931164",
         104.55094816947813,
         "99.98324425543709",
         -0.03661254387455415,
         1
        ],
        [
         "37.24347335542279",
         55.92316250731439,
         "79.26898753155365",
         42.025514176130855,
         "100.09330632285038",
         106.57672743148282,
         "99.97812604524924",
         -0.1151802776011408,
         1
        ],
        [
         "24.374661995992682",
         53.2855790131251,
         "72.7546392981988",
         48.379977302206115,
         "100.05752946445003",
         100.66703507071301,
         "99.96923266394589",
         -0.08829680050413913,
         1
        ],
        [
         "41.556313613251916",
         61.215973057098246,
         "80.573964096115",
         39.01765048286309,
         "100.04658699645896",
         118.9765034211321,
         "97.68704121588493",
         -2.359545780574024,
         1
        ],
        [
         "40.33044441930174",
         56.30556822406241,
         "75.47533520004704",
         35.1448907807453,
         "100.16002342163621",
         116.51800511402877,
         "99.72835094750403",
         -0.4316724741321849,
         1
        ],
        [
         "37.9219207559792",
         56.92782277672679,
         "75.5955503297851",
         37.6736295738059,
         "116.90586730817103",
         132.66102759239462,
         "157.48650660395782",
         40.580639295786796,
         0
        ],
        [
         "33.281274719972856",
         52.0096210429088,
         "68.95956710895695",
         35.67829238898409,
         "101.11305828522124",
         116.53081568707569,
         "99.70236259313901",
         -1.4106956920822284,
         1
        ],
        [
         "43.84779036697695",
         62.94126279656919,
         "83.23679576149135",
         39.3890053945144,
         "101.94520370984422",
         118.25276191201179,
         "99.4052199948759",
         -2.539983714968315,
         0
        ],
        [
         "41.7738566253996",
         62.314107055844744,
         "84.08992152037698",
         42.31606489497737,
         "101.35862518384454",
         120.36158452247102,
         "139.1166866756781",
         37.75806149183356,
         1
        ],
        [
         "42.31530624409022",
         60.4645383183496,
         "85.07171692650911",
         42.75641068241889,
         "100.56411383219488",
         117.74630149275592,
         "93.57878337544624",
         -6.985330456748642,
         1
        ],
        [
         "37.4893121694668",
         58.45620553052088,
         "82.69557526304152",
         45.20626309357472,
         "104.2411422513538",
         125.7429516323981,
         "98.92686574780508",
         -5.314276503548726,
         1
        ],
        [
         "27.681884441410812",
         45.04648959260299,
         "64.90156665321794",
         37.219682211807125,
         "100.54766440477937",
         120.1910754269829,
         "139.81762563730882",
         39.269961232529454,
         1
        ],
        [
         "41.92689216589397",
         62.941062264718006,
         "88.51933357655788",
         46.592441410663916,
         "104.63276953583127",
         124.93585373720265,
         "147.59737097655264",
         42.96460144072137,
         1
        ],
        [
         "33.17281478490405",
         54.18638192941806,
         "75.00811759927433",
         41.83530281437028,
         "100.31795385380094",
         115.3368827928255,
         "98.83666022765229",
         -1.4812936261486556,
         1
        ],
        [
         "36.79976302718765",
         60.97109331744125,
         "82.42394564274757",
         45.62418261555992,
         "100.13281394001297",
         115.44115326016546,
         "99.64095987865127",
         -0.49185406136169263,
         1
        ],
        [
         "44.28198413570236",
         62.31247430306399,
         "80.44454810349689",
         36.162563967794526,
         "108.1015355342553",
         125.45503457245412,
         "142.7559329134071",
         34.65439737915179,
         1
        ],
        [
         "33.48998891695262",
         54.14318434042509,
         "76.58448803667149",
         43.09449911971887,
         "100.00571005641216",
         108.8567983150523,
         "99.9645085589938",
         -0.041201497418356325,
         1
        ],
        [
         "35.17932042825225",
         53.084659414560264,
         "74.93498624034424",
         39.755665812092,
         "100.01707483806901",
         106.00631686770174,
         "99.97723093079485",
         -0.03984390727416098,
         1
        ],
        [
         "44.36428872027689",
         60.88535406271261,
         "82.60854347118376",
         38.244254750906876,
         "101.16424228305222",
         121.75349629676664,
         "99.10402839081469",
         -2.0602138922375275,
         1
        ],
        [
         "35.813245362004594",
         55.608881409859464,
         "76.72378194581498",
         40.910536583810384,
         "100.43859658882377",
         116.24461109901517,
         "99.08122004994273",
         -1.3573765388810415,
         1
        ],
        [
         "36.49734608205857",
         56.46798592570579,
         "75.17239642553426",
         38.67505034347569,
         "100.07388822088124",
         116.11959702289157,
         "99.86038850423654",
         -0.21349971664470502,
         1
        ],
        [
         "40.4048190243278",
         56.84748784375159,
         "74.64623567317159",
         34.24141664884379,
         "101.03508209327754",
         120.94891266295897,
         "141.47277016274174",
         40.4376880694642,
         0
        ],
        [
         "39.87080199014437",
         58.746499544490455,
         "78.09917577232714",
         38.22837378218277,
         "103.8047332553393",
         123.20506711848344,
         "98.58890919996605",
         -5.215824055373247,
         0
        ],
        [
         "43.199855206587486",
         59.45941084053709,
         "78.22312748723385",
         35.02327228064637,
         "101.38149326069833",
         123.01758361166239,
         "142.3488785756043",
         40.967385314905954,
         0
        ],
        [
         "38.93856228322398",
         60.53954244967175,
         "80.82583370780048",
         41.887271424576504,
         "100.22266643370016",
         115.03143141267587,
         "99.96875440684194",
         -0.2539120268582167,
         0
        ],
        [
         "40.080404951276236",
         57.23393798679459,
         "75.98579623449662",
         35.90539128322038,
         "100.4521910258944",
         112.17416452603295,
         "99.85952789929206",
         -0.5926631266023321,
         1
        ],
        [
         "37.17990972767402",
         57.586791777022334,
         "79.63542763782657",
         42.455517910152544,
         "100.84288444972456",
         112.53474603795883,
         "99.75327784811806",
         -1.089606601606505,
         1
        ],
        [
         "40.46311518571782",
         57.44003826692847,
         "75.54711878247635",
         35.08400359675853,
         "103.72771885572877",
         123.51922241070429,
         "143.08102558948244",
         39.35330673375367,
         1
        ],
        [
         "35.05363425978381",
         55.83688473420666,
         "75.12890765727295",
         40.075273397489134,
         "101.30164947602614",
         117.15530412761206,
         "99.73564703466326",
         -1.5660024413628832,
         1
        ],
        [
         "38.1933855837988",
         54.90410407622516,
         "73.41471950638605",
         35.22133392258725,
         "103.64258672125356",
         123.51589382805233,
         "145.1287949656473",
         41.48620824439374,
         1
        ],
        [
         "37.71455850640875",
         57.743096463586845,
         "77.8347954380541",
         40.12023693164535,
         "102.88131645455569",
         120.79028074209509,
         "141.57439917731324",
         38.69308272275755,
         1
        ],
        [
         "38.09163924029659",
         55.643750386083184,
         "77.35320235035992",
         39.261563110063335,
         "100.91263721216805",
         118.1690266302615,
         "99.54311225818847",
         -1.3695249539795782,
         1
        ],
        [
         "40.252910150660526",
         63.52839593660444,
         "81.28594958240376",
         41.033039431743234,
         "108.54717005262351",
         129.54892698435035,
         "147.46313855561658",
         38.91596850299307,
         1
        ],
        [
         "40.72300126656932",
         60.75848106759463,
         "79.04441221920055",
         38.32141095263123,
         "103.70192381309249",
         120.28822528200892,
         "138.58744036963026",
         34.885516556537766,
         1
        ],
        [
         "31.22146188196565",
         57.086302248971194,
         "79.4904857143392",
         48.26902383237355,
         "100.12147682688071",
         114.7130129828622,
         "99.91085965463608",
         -0.21061717224462484,
         1
        ],
        [
         "46.1842294654857",
         66.91057861092591,
         "85.68182955149821",
         39.49760008601251,
         "100.00351738714767",
         121.58852940614906,
         "143.8479096324082",
         43.844392245260536,
         0
        ],
        [
         "43.872372300811854",
         61.403212100649654,
         "84.25249444183106",
         40.38012214101921,
         "100.09183164371717",
         117.8184971893036,
         "99.42867989741308",
         -0.663151746304095,
         1
        ],
        [
         "30.976208823287426",
         53.35452170449633,
         "79.02621529940424",
         48.05000647611682,
         "100.01577502654312",
         108.86928190916838,
         "99.76832284092612",
         -0.2474521856170071,
         1
        ],
        [
         "40.76899002660163",
         63.48448847063964,
         "83.79651554179244",
         43.02752551519082,
         "103.02122165200277",
         122.52060476149542,
         "99.96532039723759",
         -3.0559012547651747,
         1
        ],
        [
         "35.502171942491046",
         54.50215319667901,
         "72.52859484907415",
         37.02642290658311,
         "100.16693981101261",
         105.51777831412313,
         "99.91088677287566",
         -0.25605303813695457,
         1
        ],
        [
         "35.1757136476148",
         55.11765363263543,
         "72.47855674116227",
         37.302843093547466,
         "100.10855571256273",
         107.55084345376511,
         "99.99203229904018",
         -0.11652341352255746,
         1
        ],
        [
         "41.847080666516774",
         60.59804948370092,
         "79.92824146316963",
         38.08116079665285,
         "100.4372687154453",
         117.15898508144296,
         "134.89101876056637",
         34.45375004512107,
         1
        ],
        [
         "42.032026498605674",
         60.081750777182336,
         "85.69202131210393",
         43.65999481349826,
         "103.55710028433214",
         126.06980319697907,
         "144.576886192178",
         41.01978590784586,
         0
        ],
        [
         "41.03604972978201",
         58.77591664682451,
         "78.41972314782257",
         37.38367341804056,
         "103.11172012633952",
         118.10926397117612,
         "142.30057536920103",
         39.18885524286151,
         1
        ],
        [
         "37.53847522832306",
         57.64574875331738,
         "78.28980548349483",
         40.75133025517177,
         "103.21970856613922",
         126.06549344581256,
         "154.07652024148885",
         50.85681167534963,
         1
        ],
        [
         "27.669564969041105",
         48.833447955853245,
         "69.24768731654738",
         41.57812234750628,
         "100.02661077946877",
         105.68802623968206,
         "99.84649083965331",
         -0.18011993981545515,
         1
        ],
        [
         "39.658066538814424",
         59.519766266794825,
         "82.44512511356506",
         42.78705857475063,
         "100.17666564572602",
         110.39143807953738,
         "99.89283657381074",
         -0.28382907191527806,
         1
        ],
        [
         "42.14527461445208",
         60.050105256400045,
         "78.711155054367",
         36.56588043991492,
         "100.05580710432214",
         109.99573890048931,
         "99.10919356282744",
         -0.946613541494699,
         1
        ],
        [
         "38.27646273165159",
         57.41175982710583,
         "79.57105786356757",
         41.29459513191598,
         "100.13291822843681",
         107.3392295878961,
         "99.99342472789401",
         -0.1394935005427982,
         1
        ],
        [
         "37.125117008386525",
         57.71529455584744,
         "83.23578562288994",
         46.11066861450341,
         "105.1481718508584",
         124.9172190636509,
         "148.72584595986322",
         43.57767410900482,
         1
        ],
        [
         "34.42876324081465",
         50.520359633888006,
         "71.45493053653988",
         37.02616729572523,
         "104.70371812634947",
         124.49812490351609,
         "150.95156158332406",
         46.24784345697459,
         1
        ],
        [
         "36.54546846645174",
         54.77908266525594,
         "79.03478058070513",
         42.489312114253394,
         "100.00096885821188",
         108.15071784658238,
         "99.98149672298722",
         -0.019472135224660292,
         1
        ],
        [
         "40.83849922332487",
         56.27155282904892,
         "75.52466471716448",
         34.68616549383962,
         "101.33025769468887",
         116.4521198879896,
         "99.96323034286218",
         -1.3670273518266924,
         1
        ],
        [
         "40.484993346946155",
         62.764533830466476,
         "81.57077845524309",
         41.08578510829693,
         "103.06834606947602",
         122.13645927078953,
         "146.13717862647968",
         43.06883255700366,
         1
        ],
        [
         "42.352431269524004",
         61.13177349181686,
         "83.23701692163061",
         40.88458565210661,
         "100.72279611713245",
         113.7179704363474,
         "99.56610238565794",
         -1.1566937314745047,
         1
        ],
        [
         "37.58862222751746",
         56.96541138953618,
         "80.10588832443653",
         42.51726609691907,
         "100.26820764031757",
         108.68509544472596,
         "99.86645191058535",
         -0.4017557297322156,
         1
        ],
        [
         "39.93374701701781",
         61.87059346778505,
         "80.4869208652469",
         40.55317384822909,
         "115.31913270912413",
         133.52179489555778,
         "151.9311356436473",
         36.612002934523176,
         0
        ],
        [
         "35.98469976867604",
         56.758138619949364,
         "79.68159031918863",
         43.69689055051259,
         "100.01891175285441",
         113.478522461237,
         "99.71164527679296",
         -0.307266476061443,
         1
        ],
        [
         "36.97992931236472",
         59.7214596177144,
         "81.53584236768376",
         44.55591305531904,
         "100.01601447735757",
         105.88183089577025,
         "99.96384142083078",
         -0.05217305652679727,
         1
        ],
        [
         "37.347087307551675",
         58.244776511536855,
         "76.29269707824574",
         38.94560977069406,
         "101.07343584700885",
         117.19473480668364,
         "99.9314983943303",
         -1.1419374526785475,
         0
        ],
        [
         "40.80788680267191",
         60.64510737309693,
         "81.3539922320611",
         40.54610542938919,
         "110.87827391702871",
         130.05156585416438,
         "147.82832146713838",
         36.95004755010967,
         1
        ],
        [
         "38.82521545809914",
         59.558087744794555,
         "80.23978539456293",
         41.41456993646379,
         "121.01902777056324",
         138.66568322554883,
         "164.15188530507535",
         43.13285753451211,
         0
        ],
        [
         "33.76400273082582",
         56.71542849136317,
         "76.53408535128503",
         42.770082620459206,
         "100.65496850150934",
         120.6598609948806,
         "98.9713579751996",
         -1.6836105263097494,
         1
        ],
        [
         "40.22614257380664",
         61.161841685916215,
         "82.5523013771792",
         42.326158803372564,
         "100.50122450451923",
         116.48023538627271,
         "97.79671374370513",
         -2.7045107608141024,
         0
        ],
        [
         "41.835426323574346",
         59.130983394235344,
         "79.79293646186811",
         37.95751013829376,
         "100.08098709165054",
         118.93575808039463,
         "99.72069415263942",
         -0.36029293901111714,
         1
        ],
        [
         "38.6831234126063",
         59.33718492876486,
         "79.14215204805345",
         40.45902863544715,
         "100.03665979635517",
         113.67589137617506,
         "99.70837883106788",
         -0.32828096528729134,
         0
        ],
        [
         "35.99613769317578",
         54.6878436693339,
         "74.61374949958683",
         38.61761180641105,
         "100.01359088659224",
         112.34831131305073,
         "99.85065008005047",
         -0.16294080654176923,
         1
        ],
        [
         "51.34438880867344",
         70.26015929145018,
         "88.45781911396409",
         37.11343030529065,
         "115.54502112684656",
         136.813227412628,
         "158.3331126407857",
         42.78809151393915,
         0
        ],
        [
         "35.73597237599367",
         60.79652679630013,
         "78.53731468780205",
         42.801342311808384,
         "100.6977713686816",
         120.49346593821107,
         "96.56472202892215",
         -4.133049339759452,
         1
        ],
        [
         "43.19446619543222",
         60.792963094367806,
         "85.49698067349831",
         42.302514478066094,
         "100.03549903693396",
         112.31210378465445,
         "99.87686493933107",
         -0.15863409760288505,
         0
        ],
        [
         "34.20915472089169",
         56.93138249497364,
         "74.59069669359835",
         40.38154197270666,
         "101.78528562706262",
         125.61731585225127,
         "96.28631810771567",
         -5.498967519346948,
         1
        ],
        [
         "37.27006336934335",
         56.749975531897455,
         "76.5056207678108",
         39.23555739846745,
         "100.21169751092182",
         109.28161688112502,
         "99.60555479474098",
         -0.606142716180841,
         1
        ],
        [
         "40.6200490447695",
         62.7381762547686,
         "84.7628583624323",
         44.142809317662795,
         "101.0133880410508",
         113.26842068306608,
         "99.93747509187017",
         -1.0759129491806334,
         0
        ],
        [
         "39.039369615862",
         58.232910132041916,
         "77.01689458152195",
         37.97752496565995,
         "104.88962522344924",
         123.03766510979133,
         "145.29313086905867",
         40.40350564560943,
         1
        ],
        [
         "35.52113815892808",
         58.474829754183325,
         "79.65197184179594",
         44.13083368286786,
         "110.67286845875567",
         129.44825257668373,
         "151.91316961343495",
         41.24030115467927,
         0
        ],
        [
         "31.29405060268869",
         52.33168108269186,
         "72.23335349683623",
         40.939302894147545,
         "101.74213648864657",
         121.23835471692182,
         "140.5569205456646",
         38.814784057018045,
         1
        ],
        [
         "43.24842433415757",
         60.30760031453048,
         "76.53430271197125",
         33.28587837781368,
         "102.1273672047938",
         118.52136196576636,
         "99.44721797892063",
         -2.6801492258731656,
         1
        ],
        [
         "41.088154273750646",
         60.51141675407734,
         "89.67063778055459",
         48.58248350680394,
         "109.54537770015962",
         127.441222093766,
         "146.6133288554706",
         37.06795115531098,
         1
        ],
        [
         "40.22477920102749",
         58.08933098574057,
         "74.9639551512522",
         34.739175950224706,
         "100.86461850788992",
         114.66961571720717,
         "99.56418340639527",
         -1.3004351014946423,
         1
        ],
        [
         "29.98585954456264",
         53.108013134385615,
         "71.41867304153092",
         41.43281349696828,
         "102.69769689737062",
         122.53833837950882,
         "98.53681800470972",
         -4.160878892660904,
         1
        ],
        [
         "40.41949305049413",
         62.99573144989152,
         "88.89049825068412",
         48.471005200189985,
         "104.94378234169494",
         125.59136261119495,
         "146.8464265940876",
         41.90264425239266,
         0
        ],
        [
         "33.83881180091588",
         53.04945822727006,
         "72.56969899288273",
         38.73088719196686,
         "101.56343856784326",
         121.42732399715267,
         "99.2068979348607",
         -2.356540632982558,
         1
        ],
        [
         "39.10610570941912",
         57.527759282738614,
         "74.09518442192818",
         34.98907871250906,
         "103.05359800944004",
         120.20413199502256,
         "139.0521233295924",
         35.99852532015237,
         1
        ],
        [
         "41.36481377676601",
         61.254321931199726,
         "84.07148025908563",
         42.70666648231962,
         "104.51722418982301",
         124.84391666265059,
         "141.25223177913648",
         36.73500758931347,
         1
        ],
        [
         "30.09259640340542",
         53.64803691758188,
         "75.63826321651914",
         45.54566681311371,
         "104.05205079096497",
         122.32014235137632,
         "96.26370020241663",
         -7.78835058854834,
         1
        ],
        [
         "38.071848538280506",
         60.051252145819724,
         "81.46505722674047",
         43.393208688459964,
         "100.59218219556084",
         119.03828456435141,
         "98.7725546108835",
         -1.8196275846773347,
         1
        ],
        [
         "37.734695885246836",
         58.948936451488215,
         "79.05954977907788",
         41.32485389383105,
         "101.48293841770266",
         119.9466797695983,
         "98.469290207613",
         -3.0136482100896558,
         1
        ],
        [
         "36.30085148979973",
         55.26832589162107,
         "73.81816038320969",
         37.517308893409954,
         "100.17560185327154",
         119.91945736128281,
         "136.00267847904772",
         35.82707662577617,
         0
        ],
        [
         "35.827164129030656",
         54.884010989612314,
         "72.51549225013153",
         36.688328121100874,
         "100.02951198921623",
         108.2649733803372,
         "99.61211251927278",
         -0.41739946994344734,
         1
        ],
        [
         "32.90581561739786",
         59.67735819417807,
         "81.43619524642",
         48.530379629022136,
         "109.47233176231234",
         127.54076014258865,
         "144.29876156726064",
         34.826429804948305,
         1
        ],
        [
         "38.271005390301525",
         60.33180210857119,
         "79.37237229389237",
         41.10136690359084,
         "100.71117762402613",
         114.95665554698799,
         "99.94548517280492",
         -0.7656924512212129,
         1
        ],
        [
         "43.53134230275967",
         59.6580331118628,
         "80.2741439608836",
         36.74280165812394,
         "100.29679985346091",
         114.99976827289649,
         "99.95009859723008",
         -0.3467012562308298,
         0
        ],
        [
         "28.295183189165986",
         50.99499233019534,
         "74.67273364337709",
         46.377550454211104,
         "101.49979294559891",
         118.10309893477736,
         "98.86066780467874",
         -2.6391251409201715,
         1
        ],
        [
         "37.36607227089216",
         56.49275327926298,
         "76.6435136258205",
         39.27744135492834,
         "100.79860811443058",
         114.54059607071302,
         "99.3644761989393",
         -1.4341319154912782,
         1
        ],
        [
         "42.26073128523868",
         61.68581857394101,
         "83.14974850030967",
         40.88901721507099,
         "106.23820846190628",
         123.79855529104447,
         "144.754427605803",
         38.516219143896706,
         1
        ],
        [
         "40.30256252871122",
         59.74207118425487,
         "86.64990893454433",
         46.34734640583311,
         "103.30716613460403",
         126.92174543843697,
         "145.80231196794685",
         42.49514583334282,
         1
        ],
        [
         "35.1659119549376",
         54.42213856201946,
         "77.33936513292016",
         42.173453177982566,
         "101.32856622961926",
         116.91116416071802,
         "93.95661073752966",
         -7.371955492089597,
         0
        ],
        [
         "43.310908803456954",
         61.055649680372134,
         "80.58916994675928",
         37.27826114330233,
         "106.747540960941",
         125.91170433427756,
         "149.69718526217792",
         42.94964430123693,
         1
        ],
        [
         "30.640088398475555",
         55.85827541238903,
         "76.05453792292747",
         45.41444952445191,
         "100.44168924431123",
         113.50297559954389,
         "99.92376321491109",
         -0.5179260294001438,
         1
        ],
        [
         "41.50294449841755",
         64.8670095938843,
         "87.99909911724512",
         46.496154618827575,
         "100.28734862047261",
         111.1154334432822,
         "99.91924176963194",
         -0.3681068508406753,
         1
        ],
        [
         "38.2572710048679",
         58.170949623813286,
         "77.23107395812296",
         38.97380295325506,
         "101.27459706085551",
         116.44127917599391,
         "98.15690760218351",
         -3.117689458672004,
         1
        ],
        [
         "40.760656197781685",
         58.74451104495155,
         "83.76323938767632",
         43.00258318989464,
         "104.7852682863471",
         127.66231377721773,
         "151.60605567269678",
         46.82078738634968,
         1
        ],
        [
         "33.86498688812477",
         55.49951400359887,
         "76.54620684826119",
         42.681219960136424,
         "100.07476099902452",
         107.65623591130397,
         "99.8517794375784",
         -0.2229815614461188,
         1
        ],
        [
         "42.435412578535136",
         65.73465125425083,
         "84.79391960352771",
         42.358507024992576,
         "100.05577592323752",
         121.51986484328651,
         "143.71723100233288",
         43.66145507909536,
         0
        ],
        [
         "43.21664307836144",
         60.68952635105326,
         "82.21443804176849",
         38.997794963407046,
         "102.88807332845295",
         119.24273788067909,
         "99.18947980239903",
         -3.6985935260539122,
         1
        ],
        [
         "37.99336376258624",
         63.75459244423359,
         "80.34370157954484",
         42.3503378169586,
         "106.23439348381518",
         126.60078507677378,
         "144.3339327890742",
         38.099539305259015,
         1
        ],
        [
         "43.478078839195035",
         64.929476035843,
         "87.19184950974707",
         43.71377067055204,
         "107.2870779911976",
         127.32637252141868,
         "145.8163776064062",
         38.5292996152086,
         1
        ],
        [
         "42.90980523066878",
         59.882387338108316,
         "77.36439897189385",
         34.45459374122507,
         "107.49546605688631",
         125.64828889300395,
         "144.40047626243734",
         36.90501020555102,
         1
        ],
        [
         "37.85114455608591",
         59.24867835625371,
         "87.79459294560438",
         49.943448389518466,
         "100.61367672310875",
         116.75651098606524,
         "99.30385662082512",
         -1.3098201022836378,
         1
        ],
        [
         "37.47447798881702",
         59.82946808345293,
         "80.5776250165963",
         43.10314702777928,
         "100.00349674274909",
         101.69119593651925,
         "99.883601938339",
         -0.11989480441009448,
         1
        ],
        [
         "40.965503714805536",
         60.36928552441222,
         "80.98344501322165",
         40.01794129841612,
         "100.01467269039557",
         119.94279309996101,
         "99.06116885606222",
         -0.9535038343333468,
         0
        ],
        [
         "42.40060106122659",
         60.5578959029652,
         "77.418329863523",
         35.01772880229641,
         "102.13374132664246",
         120.25377403343214,
         "98.91301290217972",
         -3.2207284244627488,
         1
        ],
        [
         "43.58625410512195",
         62.321972650924195,
         "81.62515812244463",
         38.03890401732268,
         "105.1213148536591",
         122.63970249871541,
         "144.76211386264828",
         39.64079900898918,
         0
        ],
        [
         "42.89780191987165",
         62.62669276023352,
         "84.55260869096487",
         41.65480677109323,
         "108.09823567627271",
         124.03712689270272,
         "99.85981020599928",
         -8.238425470273427,
         0
        ],
        [
         "35.623307410683125",
         57.12170329343213,
         "83.45728828671108",
         47.83398087602795,
         "100.07939692348201",
         111.5060192767841,
         "99.91935923841255",
         -0.16003768506945448,
         1
        ],
        [
         "33.73145546734798",
         56.62340633709723,
         "77.7699219621276",
         44.03846649477962,
         "100.0656021802878",
         112.19802608551906,
         "99.58221220147267",
         -0.4833899788151257,
         1
        ],
        [
         "33.80363561754412",
         52.56322125763742,
         "75.16124661414177",
         41.35761099659766,
         "100.15612344453154",
         112.51501201098064,
         "99.66739831668133",
         -0.48872512785021627,
         1
        ],
        [
         "45.45384098878547",
         61.92941270973362,
         "81.60193284299126",
         36.14809185420579,
         "111.72573430196874",
         129.5975516578576,
         "150.7166147384123",
         38.99088043644355,
         1
        ],
        [
         "38.86928115586238",
         56.19930431692095,
         "81.72855981718021",
         42.85927866131783,
         "108.28845191433486",
         127.12082146097072,
         "146.4263544199796",
         38.13790250564473,
         0
        ],
        [
         "36.599954996597376",
         57.37446787688233,
         "76.96423882792234",
         40.36428383132497,
         "100.31185921699209",
         114.39562417827285,
         "99.78232440853614",
         -0.5295348084559492,
         0
        ],
        [
         "34.98190220771248",
         58.117212826086984,
         "79.72148101953121",
         44.73957881181873,
         "100.05434358717486",
         116.09633522392711,
         "99.72106441213515",
         -0.3332791750397064,
         0
        ],
        [
         "38.72898022166521",
         56.87280253319303,
         "79.62888787570952",
         40.89990765404431,
         "100.06712466786422",
         109.30891858135448,
         "99.98659885460553",
         -0.08052581325868857,
         1
        ],
        [
         "42.56502264536426",
         64.72291172304485,
         "84.62235074105375",
         42.05732809568949,
         "105.06201192446962",
         125.53702452095317,
         "148.59930894420518",
         43.53729701973556,
         0
        ],
        [
         "39.71329950032912",
         61.66719825332334,
         "80.64912409831226",
         40.935824597983135,
         "102.47334792269464",
         123.16812909153892,
         "146.9925580040338",
         44.51921008133917,
         0
        ],
        [
         "38.6177563690088",
         59.48912387416849,
         "86.493154511435",
         47.87539814242619,
         "106.64673079481001",
         125.48719384499998,
         "144.78578192700365",
         38.13905113219364,
         1
        ],
        [
         "39.01190937992024",
         58.77461392077637,
         "82.49924789161487",
         43.48733851169463,
         "100.25867428886318",
         109.90011966666101,
         "99.99788463659338",
         -0.2607896522697928,
         1
        ],
        [
         "35.63154473864108",
         58.0906589433627,
         "78.82106129103997",
         43.189516552398885,
         "100.0125609198642",
         108.68671547277015,
         "99.98284656884076",
         -0.02971435102344344,
         1
        ],
        [
         "32.87882074076137",
         51.66919236397093,
         "71.40720457260261",
         38.52838383184124,
         "100.27860869328669",
         118.5676517689127,
         "139.18625402183812",
         38.90764532855144,
         1
        ],
        [
         "41.56357631841207",
         59.63581931164719,
         "80.39785894081768",
         38.83428262240562,
         "100.15644313284206",
         109.66780905604932,
         "99.69795132362096",
         -0.4584918092211012,
         1
        ],
        [
         "42.85275488085284",
         62.43319898009765,
         "86.57353449103154",
         43.720779610178695,
         "102.6775484151472",
         121.84602763738359,
         "99.4691436732111",
         -3.208404741936107,
         1
        ],
        [
         "33.794745936881064",
         54.93697697578613,
         "76.01443230721603",
         42.21968637033496,
         "100.44400290994201",
         116.63197895793415,
         "99.12177353837593",
         -1.3222293715660811,
         1
        ],
        [
         "43.63373024291191",
         63.21882014205145,
         "81.0723512414614",
         37.438620998549496,
         "116.92044478970146",
         133.93380164006953,
         "153.12790621213463",
         36.20746142243317,
         1
        ],
        [
         "44.56287046416937",
         62.23003316528379,
         "81.12987667554658",
         36.56700621137721,
         "100.00380183232852",
         107.91464505808487,
         "99.98083652587474",
         -0.02296530645378425,
         1
        ],
        [
         "31.336567925090186",
         52.28657667933259,
         "77.3723712426187",
         46.03580331752851,
         "100.19021148331362",
         116.43347827979353,
         "99.53871779833513",
         -0.6514936849784903,
         1
        ],
        [
         "35.035769607069966",
         58.3334885578808,
         "76.30286576108557",
         41.267096154015604,
         "100.0833051667222",
         116.39780216086642,
         "99.28999187604823",
         -0.7933132906739644,
         1
        ],
        [
         "38.26724130811739",
         58.37032850405048,
         "78.55239637618823",
         40.285155068070836,
         "100.43758545353363",
         114.22557627768688,
         "99.77353252688387",
         -0.6640529266497595,
         0
        ],
        [
         "36.35466438894996",
         59.74509258860806,
         "84.87591783643059",
         48.521253447480625,
         "100.37163170492785",
         114.3568756804936,
         "99.57984845406801",
         -0.7917832508598366,
         0
        ],
        [
         "42.434471149108525",
         61.75088963126336,
         "81.71414726169155",
         39.279676112583026,
         "104.26521546518265",
         123.57873520862512,
         "139.32205047625945",
         35.0568350110768,
         1
        ],
        [
         "38.195061976187766",
         58.74313582686823,
         "79.38897494716988",
         41.19391297098212,
         "108.5519798344238",
         127.22330844150338,
         "146.34227153131184",
         37.79029169688803,
         1
        ],
        [
         "40.73370482484116",
         57.74409026049309,
         "76.49752390985701",
         35.76381908501585,
         "100.08746254949213",
         118.17414212697211,
         "138.69193122840494",
         38.60446867891281,
         1
        ],
        [
         "34.663047219583845",
         54.76114173456838,
         "75.19994392186828",
         40.53689670228444,
         "101.63814810894688",
         120.92183302604876,
         "139.07409019286888",
         37.435942083922,
         0
        ],
        [
         "43.95313896714806",
         63.70383396077375,
         "82.16748470781857",
         38.21434574067052,
         "100.33557926133544",
         115.68223552257544,
         "99.98655263019401",
         -0.3490266311414274,
         0
        ],
        [
         "41.94621067035001",
         60.056329763141704,
         "83.39172752924014",
         41.44551685889013,
         "106.13093656960315",
         126.53702156596906,
         "148.56138591300194",
         42.43044934339879,
         0
        ],
        [
         "34.038508594126085",
         55.700227805447454,
         "74.915391091296",
         40.876882497169916,
         "101.22534769123442",
         122.41809601939703,
         "98.4616680709571",
         -2.7636796202773155,
         0
        ],
        [
         "35.08360047113726",
         53.785954439848204,
         "74.16862345245852",
         39.08502298132126,
         "100.0024980231488",
         106.56147143433986,
         "99.91061746147429",
         -0.09188056167451464,
         1
        ],
        [
         "32.04571352371572",
         55.496437787118985,
         "74.42716312168854",
         42.38144959797282,
         "100.04167380328788",
         101.7923147269507,
         "99.9831469340788",
         -0.058526869209075016,
         1
        ],
        [
         "39.57136351358272",
         58.14293734441531,
         "79.70215748422476",
         40.13079397064204,
         "100.19854122392415",
         113.2807384785064,
         "99.71520602583425",
         -0.4833351980899039,
         1
        ],
        [
         "33.07371770743033",
         55.3162329444806,
         "79.62127944791715",
         46.54756174048681,
         "100.1652479068495",
         104.50309981334227,
         "99.97896420173944",
         -0.18628370511005699,
         1
        ],
        [
         "36.23648220792941",
         56.18353003805876,
         "79.20398187372496",
         42.96749966579554,
         "100.09729790625336",
         112.3216630298011,
         "99.71306659757958",
         -0.3842313086737761,
         1
        ],
        [
         "45.98370330466611",
         64.0896792266537,
         "88.95338596688951",
         42.969682662223406,
         "101.08102106948162",
         117.85483495128909,
         "99.38414732995236",
         -1.6968737395292663,
         1
        ],
        [
         "31.74185389711032",
         57.484015311095156,
         "74.60132796135049",
         42.859474064240175,
         "100.99966959562992",
         120.56696271876777,
         "95.55703295426999",
         -5.44263664135994,
         0
        ],
        [
         "36.44395964662683",
         60.189461875049574,
         "78.7673420186746",
         42.32338237204777,
         "100.07854508642612",
         111.57082754953385,
         "99.70600611635767",
         -0.3725389700684474,
         1
        ],
        [
         "35.00819104362698",
         58.97453124833312,
         "83.55091074709864",
         48.54271970347166,
         "103.76208539441248",
         124.97781064847429,
         "146.11127600854317",
         42.34919061413069,
         1
        ],
        [
         "40.40274703457592",
         57.808517187983234,
         "76.72727343241394",
         36.32452639783802,
         "100.03666887017638",
         117.45322526181356,
         "99.34086414247307",
         -0.6958047277033188,
         0
        ],
        [
         "46.17539853800993",
         64.41359390596016,
         "82.5362815038065",
         36.36088296579658,
         "104.15335442664856",
         125.44896497200112,
         "146.60445477067032",
         42.451100344021754,
         1
        ],
        [
         "39.85339895013486",
         61.5100382294741,
         "83.21181315579281",
         43.35841420565795,
         "100.89150573883143",
         120.43494373049676,
         "99.51901262183799",
         -1.3724931169934393,
         1
        ],
        [
         "36.245751399012896",
         59.58965174974811,
         "79.54726881355853",
         43.301517414545636,
         "107.01157121929225",
         133.07036556270515,
         "150.83395520946073",
         43.822383990168476,
         0
        ],
        [
         "32.94708579445856",
         52.27925842397876,
         "81.81960180152798",
         48.87251600706942,
         "100.51109988350547",
         115.82377368229831,
         "99.98609754452015",
         -0.5250023389853169,
         1
        ],
        [
         "33.70887388161272",
         56.2953262728783,
         "74.50335004654403",
         40.79447616493131,
         "101.4201624095977",
         116.16658978925203,
         "99.33821257519519",
         -2.081949834402508,
         1
        ],
        [
         "46.64187282217329",
         66.51426955581631,
         "87.6701001004722",
         41.02822727829891,
         "103.25855429440716",
         128.6240394172462,
         "147.5532380791147",
         44.29468378470753,
         1
        ],
        [
         "36.501550680145314",
         54.683108953036324,
         "75.35221637892147",
         38.850665698776154,
         "100.17493061772429",
         113.08132585343053,
         "99.69556951078886",
         -0.47936110693542844,
         1
        ],
        [
         "44.70571300079467",
         65.50430660907364,
         "85.9000449802634",
         41.194331979468735,
         "101.40680326116241",
         118.84254856151468,
         "99.44083845012813",
         -1.9659648110342829,
         0
        ],
        [
         "37.362539576246405",
         58.2837464775193,
         "80.71292247047593",
         43.350382894229526,
         "101.66399444769957",
         123.2428330425414,
         "143.7661972949681",
         42.10220284726853,
         1
        ],
        [
         "36.27428965451574",
         51.977790788122164,
         "75.76071178899608",
         39.486422134480335,
         "105.79596233951278",
         123.04980981805839,
         "144.94815908120222",
         39.15219674168944,
         1
        ],
        [
         "37.538342507961474",
         58.45531449553141,
         "81.18918846219745",
         43.650845954235976,
         "100.41675897911715",
         116.603295864717,
         "98.83831749268903",
         -1.5784414864281189,
         1
        ],
        [
         "32.609302952414644",
         55.37656949362634,
         "75.65241621321421",
         43.043113260799565,
         "106.22655726667335",
         125.61305122414252,
         "146.3866579796995",
         40.16010071302614,
         1
        ],
        [
         "35.347273744158244",
         55.72456420517472,
         "77.56109567905895",
         42.21382193490071,
         "101.35647616857787",
         121.24085797908994,
         "143.15419669525517",
         41.797720526677296,
         1
        ],
        [
         "42.1097648686347",
         63.85177801895798,
         "81.52024865625302",
         39.41048378761832,
         "104.27922478603446",
         127.1498377610549,
         "148.2218075239475",
         43.94258273791303,
         0
        ],
        [
         "33.10846742507748",
         58.13220322949126,
         "75.785567248297",
         42.67709982321952,
         "100.01949524229434",
         115.05602501653811,
         "99.34177893347257",
         -0.6777163088217719,
         1
        ],
        [
         "35.092143618043394",
         55.359089008766404,
         "72.59670555187658",
         37.50456193383319,
         "100.01363523100935",
         107.5777007372137,
         "99.97939326928595",
         -0.034241961723395775,
         1
        ],
        [
         "36.93766757605141",
         59.29356130866706,
         "80.95666647912331",
         44.0189989030719,
         "104.55854329081463",
         126.78767101632376,
         "149.1815506417143",
         44.62300735089967,
         0
        ],
        [
         "35.231706567616",
         57.04036474027911,
         "74.3319496896343",
         39.1002431220183,
         "100.94029442721774",
         117.6876222034831,
         "99.60511267256591",
         -1.3351817546518276,
         0
        ],
        [
         "38.59488155526141",
         58.23044135710293,
         "77.26039878997109",
         38.66551723470968,
         "108.27827050152092",
         129.86919535188835,
         "152.1878295595943",
         43.90955905807337,
         0
        ],
        [
         "33.01067391105494",
         57.64890541763329,
         "79.22476323461558",
         46.21408932356064,
         "103.04029047082207",
         120.76659438169928,
         "143.3593424606484",
         40.319051989826335,
         1
        ],
        [
         "38.68997124615397",
         59.17480122594441,
         "79.61505568881137",
         40.92508444265739,
         "100.12297858818586",
         109.9497666813794,
         "99.8109314102064",
         -0.3120471779794656,
         1
        ],
        [
         "37.39322024770269",
         59.123912011085615,
         "74.07178191351748",
         36.67856166581479,
         "103.98614386549076",
         121.6281244436266,
         "99.90238155994325",
         -4.083762305547509,
         0
        ],
        [
         "39.52309711052408",
         61.392482856450016,
         "82.45782703683966",
         42.93472992631558,
         "102.20859947141855",
         120.68933912666003,
         "98.94190119046658",
         -3.266698280951971,
         1
        ],
        [
         "29.750202307571758",
         51.88279653151299,
         "70.64642162570063",
         40.89621931812887,
         "100.0217593141035",
         114.03474189111449,
         "99.67370835829294",
         -0.3480509558105638,
         1
        ],
        [
         "38.592120967658026",
         60.13982886981369,
         "80.24318439032947",
         41.65106342267145,
         "100.92670961468075",
         115.6698249794907,
         "99.88738315432573",
         -1.0393264603550136,
         1
        ],
        [
         "32.99169985065753",
         54.77494950167725,
         "75.26978963800671",
         42.27808978734918,
         "104.46058028909616",
         128.54677955505105,
         "154.19261174789216",
         49.732031458796,
         1
        ],
        [
         "39.34127572000159",
         62.779384800069344,
         "90.86545875823646",
         51.52418303823487,
         "101.67215127705542",
         122.27386538299851,
         "143.4340848104445",
         41.76193353338907,
         0
        ],
        [
         "43.788567378155626",
         62.019929388555,
         "81.24071452903242",
         37.45214715087679,
         "100.10107142028116",
         109.67450040898964,
         "99.98731554206768",
         -0.11375587821348176,
         1
        ],
        [
         "37.55331704169637",
         59.67006852800983,
         "82.1159522223665",
         44.562635180670135,
         "105.83184764720465",
         125.33602698489648,
         "147.80544088941235",
         41.9735932422077,
         1
        ],
        [
         "40.00528259638493",
         57.24418799905581,
         "89.69098993491852",
         49.68570733853359,
         "103.16867388363706",
         121.70889725953812,
         "141.54410570227813",
         38.375431818641076,
         1
        ],
        [
         "41.254271787603344",
         60.83454215377004,
         "77.57892120594207",
         36.32464941833872,
         "107.45972032378816",
         122.2552804001224,
         "142.21070932750845",
         34.75098900372029,
         1
        ],
        [
         "34.54591938989749",
         59.090256116241235,
         "77.30066517042827",
         42.75474578053078,
         "101.9068377905187",
         118.96709786380663,
         "139.03976733046554",
         37.13292953994684,
         0
        ],
        [
         "18.70194163199097",
         50.98926590700781,
         "69.14507877440957",
         50.4431371424186,
         "100.00212246397587",
         103.06993765101106,
         "99.98973543268765",
         -0.01238703128821328,
         1
        ],
        [
         "35.210843146121654",
         56.44068838107502,
         "81.24483345931642",
         46.03399031319477,
         "100.49312625733343",
         115.88578476664242,
         "99.87443315826238",
         -0.6186930990710522,
         1
        ],
        [
         "35.83715272535113",
         58.06122525504476,
         "80.12353552338143",
         44.2863827980303,
         "100.40380604205701",
         114.93391735811856,
         "99.71853511655598",
         -0.6852709255010296,
         1
        ],
        [
         "32.64580165257222",
         55.50082568204779,
         "74.8222839462905",
         42.17648229371828,
         "100.3473388671155",
         108.97231169695804,
         "99.88759251947538",
         -0.45974634764012023,
         1
        ],
        [
         "38.11160795028917",
         62.73478669542737,
         "85.13496499306538",
         47.02335704277621,
         "100.03611172263537",
         109.66216180092513,
         "99.87289206970948",
         -0.16321965292588914,
         1
        ],
        [
         "41.30816265617659",
         58.8836286919934,
         "79.6719303426863",
         38.3637676865097,
         "107.86337808725861",
         126.50757811800645,
         "99.80335341249184",
         -8.060024674766765,
         1
        ],
        [
         "38.24203596337317",
         59.49166205782983,
         "77.04353235692733",
         38.80149639355416,
         "104.97427697904902",
         123.5524726156427,
         "144.50325844733445",
         39.52898146828542,
         0
        ],
        [
         "36.04581763455996",
         55.598696937771166,
         "77.92610259978325",
         41.88028496522329,
         "100.21014017682757",
         115.45725430678965,
         "99.26217961487659",
         -0.9479605619509783,
         1
        ],
        [
         "33.65997558241378",
         53.596319302871585,
         "75.27585669473919",
         41.61588111232541,
         "100.01701530664874",
         108.85648588741378,
         "99.93122958994489",
         -0.08578571670385315,
         1
        ],
        [
         "41.61185831232014",
         63.24733786193865,
         "84.7481197989205",
         43.13626148660036,
         "113.9093365315278",
         134.57642390674215,
         "155.47281981433653",
         41.56348328280873,
         1
        ],
        [
         "42.939959554414386",
         60.28131763749105,
         "78.66267613024763",
         35.722716575833246,
         "108.4455772268989",
         127.03991583410237,
         "98.40955229372315",
         -10.036024933175753,
         0
        ],
        [
         "31.120582741279847",
         59.10323274030146,
         "76.94980890753905",
         45.829226166259204,
         "100.4566086470196",
         119.57488053255311,
         "138.82481056383662",
         38.368201916817014,
         0
        ],
        [
         "42.45497304091808",
         62.70724455526794,
         "81.35541744995611",
         38.90044440903803,
         "107.88983266374129",
         128.69601488391956,
         "153.4804505399373",
         45.590617876196006,
         1
        ],
        [
         "45.09161551493369",
         61.85341226832276,
         "79.29701978240674",
         34.20540426747304,
         "106.4986271723579",
         126.12364304605927,
         "147.12000250299744",
         40.62137533063954,
         1
        ],
        [
         "37.94412563947813",
         59.10599183541332,
         "80.03048147407613",
         42.086355834597995,
         "103.35529367105647",
         125.27629974693633,
         "141.8686525927625",
         38.513358921706015,
         1
        ],
        [
         "39.268585968425946",
         67.82483099279018,
         "90.918630950996",
         51.65004498257006,
         "100.16170765034506",
         115.66376288760532,
         "97.26438246909296",
         -2.8973251812521,
         0
        ],
        [
         "34.88073947887332",
         60.51742609229526,
         "81.23497812651789",
         46.354238647644564,
         "107.82936159668765",
         125.94375909850712,
         "149.00197944033005",
         41.1726178436424,
         1
        ],
        [
         "34.77297823060798",
         54.835508745554826,
         "79.31263195960256",
         44.53965372899457,
         "100.16895646456682",
         111.31081431074531,
         "99.40136429006282",
         -0.7675921745040029,
         1
        ],
        [
         "35.876039087981624",
         54.23697457001822,
         "71.54263715182753",
         35.66659806384591,
         "100.08312975898802",
         107.10919894740252,
         "99.99127066378287",
         -0.09185909520515168,
         1
        ],
        [
         "42.78972837405428",
         61.65579185771142,
         "80.98493783352764",
         38.19520945947336,
         "100.12419180257226",
         109.49120859032261,
         "99.65025447747463",
         -0.4739373250976229,
         1
        ],
        [
         "32.92663502603472",
         54.80088049476601,
         "79.80749524686672",
         46.880860220832005,
         "100.18606564503084",
         110.13024068934169,
         "99.95796600015522",
         -0.22809964487561274,
         1
        ],
        [
         "32.45489357453941",
         52.65298181477997,
         "69.74151076017824",
         37.28661718563883,
         "100.151730769755",
         111.36899313263896,
         "99.66306805338765",
         -0.48866271636735803,
         1
        ],
        [
         "38.87283358968524",
         60.97558822666267,
         "84.8439432287813",
         45.971109639096056,
         "102.15140282368061",
         123.86647448998504,
         "143.6452732415229",
         41.493870417842274,
         0
        ],
        [
         "32.93847870476128",
         51.71091925670311,
         "72.21518390620112",
         39.27670520143984,
         "100.7959751868994",
         115.970186923561,
         "99.19243294183865",
         -1.6035422450607513,
         1
        ],
        [
         "38.77273309285839",
         59.697399969139774,
         "81.85028461491078",
         43.07755152205239,
         "103.51066443259154",
         118.93853971938681,
         "98.05301718350688",
         -5.457647249084658,
         0
        ],
        [
         "39.9323313299948",
         56.97116235110734,
         "77.8261762623598",
         37.89384493236499,
         "100.02923011210692",
         107.31438140613982,
         "99.94961992437817",
         -0.07961018772874695,
         1
        ],
        [
         "38.959959058359175",
         58.527322760914224,
         "78.16516300619428",
         39.2052039478351,
         "101.93162351261765",
         123.48344603866003,
         "143.305857912696",
         41.374234400078365,
         1
        ],
        [
         "39.61106802526449",
         57.57756303343325,
         "78.49706124411826",
         38.88599321885377,
         "100.02818647525037",
         100.22670618923988,
         "99.98843314042568",
         -0.03975333482468102,
         1
        ],
        [
         "44.16155104504068",
         65.23011823553784,
         "84.96715427134603",
         40.80560322630535,
         "114.03518315850759",
         135.83409411884003,
         "155.4698834373311",
         41.43470027882351,
         0
        ],
        [
         "36.34243515262779",
         55.37258178188007,
         "74.24923056266574",
         37.90679541003795,
         "100.20530841375793",
         110.94941239978387,
         "99.92858326642865",
         -0.2767251473292873,
         1
        ],
        [
         "34.63022723500327",
         52.04578417886367,
         "75.58339376247557",
         40.9531665274723,
         "107.47341812698707",
         125.23135189466456,
         "144.73528398841938",
         37.26186586143231,
         1
        ],
        [
         "40.09241699089736",
         62.66230326147014,
         "82.1557873639149",
         42.063370373017534,
         "101.2255750809448",
         117.8728331897126,
         "140.32378603770462",
         39.09821095675983,
         1
        ],
        [
         "35.32018949133866",
         55.97399946709283,
         "77.1202179983361",
         41.80002850699744,
         "100.1999594103455",
         116.63857952031229,
         "98.77663643248275",
         -1.4233229778627532,
         1
        ],
        [
         "40.24447749816605",
         56.4852109795093,
         "77.38142976047973",
         37.136952262313685,
         "103.2482370007524",
         121.02895105939852,
         "138.5845996349399",
         35.33636263418751,
         1
        ],
        [
         "40.777224308658006",
         64.81086442522394,
         "81.90467593781548",
         41.12745162915748,
         "103.25517769288572",
         120.7452626275594,
         "99.52807599188009",
         -3.727101701005637,
         1
        ],
        [
         "38.05940884067348",
         58.67513465619673,
         "76.97239382926146",
         38.912984988587986,
         "100.06764649610923",
         114.81637335515181,
         "98.58694915795776",
         -1.4806973381514723,
         1
        ],
        [
         "46.693106951407664",
         63.85321010556477,
         "82.58547340042102",
         35.89236644901336,
         "110.39159443368818",
         129.56658109504747,
         "150.35682180183258",
         39.9652273681444,
         0
        ],
        [
         "35.99807296505319",
         55.20761372002523,
         "78.19381672299681",
         42.195743757943625,
         "100.05501664835303",
         108.3764076490055,
         "99.47095972910789",
         -0.5840569192451426,
         1
        ],
        [
         "34.25052499283569",
         59.2172171158614,
         "78.11212324410536",
         43.86159825126967,
         "103.54467609617598",
         121.34623551413588,
         "93.99607492256669",
         -9.548601173609285,
         1
        ],
        [
         "38.18468530367041",
         57.58756210335856,
         "74.96343213213677",
         36.77874682846636,
         "102.65784877607209",
         121.09452816475199,
         "99.76427760047096",
         -2.8935711756011244,
         1
        ],
        [
         "39.44575536154981",
         60.00456337856645,
         "85.1209580914341",
         45.6752027298843,
         "102.4975805761474",
         123.88563033035199,
         "145.56053387285272",
         43.06295329670532,
         1
        ],
        [
         "32.61058825116629",
         53.77557233737891,
         "73.99181506898283",
         41.38122681781654,
         "100.73934431066859",
         118.32327060959574,
         "96.04823630304732",
         -4.691108007621267,
         1
        ],
        [
         "33.57960053987931",
         56.087193306867675,
         "76.60394055962453",
         43.024340019745225,
         "100.9484821506663",
         116.28764828240872,
         "99.98631233816377",
         -0.9621698125025233,
         0
        ],
        [
         "40.66161854294766",
         59.235186981649484,
         "84.47145054403006",
         43.809832001082405,
         "100.4481135702788",
         117.73436456611779,
         "99.92965033411284",
         -0.5184632361659709,
         0
        ],
        [
         "44.93319687836778",
         65.40071948457934,
         "85.85881845416057",
         40.92562157579279,
         "100.17692957289358",
         115.32992844885707,
         "98.86584200545366",
         -1.3110875674399267,
         1
        ],
        [
         "35.88919486825348",
         56.54761701641668,
         "75.80872951251803",
         39.919534644264544,
         "100.31934425106226",
         112.46024388546282,
         "99.81574717976355",
         -0.5035970712987137,
         1
        ],
        [
         "39.07713365857043",
         60.261080419249616,
         "86.19531688317618",
         47.118183224605744,
         "100.00350323358123",
         113.4472150070024,
         "99.89719925330103",
         -0.10630398028020238,
         1
        ],
        [
         "26.54097537960229",
         57.25465294961517,
         "75.75120184925716",
         49.21022646965487,
         "101.34448283783362",
         115.99647068308656,
         "98.93897951510176",
         -2.4055033227318603,
         1
        ],
        [
         "39.64944290713021",
         58.717980588717275,
         "75.5148305990872",
         35.865387691957,
         "100.2074180844744",
         114.50734802031647,
         "98.86906839731512",
         -1.3383496871592797,
         1
        ],
        [
         "38.236479897226054",
         58.34886983336869,
         "75.49225323891886",
         37.25577334169281,
         "100.06932295347772",
         116.05859666122126,
         "99.83762170858935",
         -0.23170124488837018,
         0
        ],
        [
         "29.772830711108536",
         53.91798687232555,
         "76.51965160584962",
         46.74682089474108,
         "100.95572214874517",
         112.58084108369881,
         "99.83757621544144",
         -1.1181459333037225,
         1
        ],
        [
         "36.35704769855141",
         54.643446253894,
         "72.38008766156504",
         36.02303996301363,
         "100.28343926403078",
         115.59789329060403,
         "99.34405825042998",
         -0.9393810136007943,
         1
        ],
        [
         "40.684870027555455",
         61.9283857028306,
         "80.34635369879445",
         39.66148367123899,
         "100.89085862735277",
         116.24516722026132,
         "99.4315337317629",
         -1.459324895589873,
         1
        ],
        [
         "42.14710869806267",
         64.57034975498566,
         "83.5024045305984",
         41.35529583253573,
         "100.05091691558748",
         122.40785235723304,
         "141.1789578923753",
         41.12804097678783,
         1
        ],
        [
         "41.56526289605706",
         63.42504824625127,
         "85.88628222782009",
         44.32101933176303,
         "100.16130094074651",
         114.7448105632515,
         "99.82252444446767",
         -0.33877649627883955,
         0
        ],
        [
         "36.55926457709475",
         60.676003119688254,
         "81.36991809889247",
         44.81065352179772,
         "106.9303643886696",
         125.61421795112439,
         "142.73341133711241",
         35.80304694844281,
         1
        ],
        [
         "37.156105608167294",
         55.02257168869087,
         "73.39529139904838",
         36.23918579088108,
         "100.03344804479696",
         109.37710976796104,
         "99.9232044971113",
         -0.11024354768565559,
         1
        ],
        [
         "31.276512522611387",
         53.27301680568832,
         "73.81204039400136",
         42.535527871389974,
         "107.3906818173132",
         127.1640078839546,
         "146.24494249273803",
         38.85426067542484,
         0
        ],
        [
         "36.12966644583982",
         59.81120911831245,
         "81.44762720916563",
         45.317960763325814,
         "101.21284426422437",
         118.83189075712248,
         "139.7437041107263",
         38.530859846501926,
         1
        ],
        [
         "41.097285408310896",
         57.17222624730187,
         "75.68146378880071",
         34.58417838048982,
         "100.0187872739322",
         113.93329980299876,
         "99.8831155937518",
         -0.13567168018040832,
         1
        ],
        [
         "41.48855653602568",
         59.16844173546254,
         "80.88817558691369",
         39.399619050888006,
         "109.93629953743947",
         128.29494685934267,
         "149.8002292889896",
         39.863929751550145,
         1
        ],
        [
         "31.8049218803244",
         53.160689634867076,
         "71.94947553140216",
         40.14455365107776,
         "100.08848377806811",
         112.25921906180508,
         "99.8987114915368",
         -0.1897722865313085,
         1
        ],
        [
         "46.920123478625115",
         65.36268904771936,
         "86.26884738875567",
         39.34872391013056,
         "100.24871205033375",
         119.0599529584417,
         "136.08942542674183",
         35.840713376408075,
         1
        ],
        [
         "36.634583692927315",
         58.39673211756915,
         "77.7494417610529",
         41.11485806812559,
         "101.63693581876043",
         120.77056839759278,
         "139.99218380023257",
         38.35524798147213,
         0
        ],
        [
         "44.254394041712175",
         62.53359130247873,
         "84.56204890867838",
         40.3076548669662,
         "100.24114761796308",
         116.25691974141833,
         "95.72373859677289",
         -4.51740902119019,
         0
        ],
        [
         "41.72530826580438",
         64.49941143835191,
         "85.42713151742883",
         43.701823251624454,
         "100.10466422951244",
         116.19318699382116,
         "99.98267466777325",
         -0.12198956173918418,
         0
        ],
        [
         "37.86702430151897",
         59.33089233416426,
         "85.00624676040276",
         47.13922245888379,
         "103.30551779256848",
         130.0153871803558,
         "149.08371201998358",
         45.7781942274151,
         1
        ],
        [
         "44.432103758393",
         63.824642828105546,
         "85.41017244383924",
         40.978068685446246,
         "102.01031101504384",
         119.15103608093466,
         "138.47033237808904",
         36.4600213630452,
         1
        ],
        [
         "38.385654878052875",
         56.996729779886515,
         "77.4349981396004",
         39.04934326154752,
         "100.13963836554538",
         116.00557317717136,
         "99.49789078255048",
         -0.6417475829948955,
         1
        ],
        [
         "38.981615013481616",
         58.54413285061819,
         "80.45800821345716",
         41.47639319997555,
         "101.80146857563409",
         118.06570110859745,
         "99.88264113517859",
         -1.9188274404555017,
         1
        ],
        [
         "38.16649894875767",
         57.59161851263474,
         "76.20206314478783",
         38.03556419603016,
         "103.40942830257241",
         123.8847549325359,
         "139.0854121121075",
         35.67598380953508,
         0
        ],
        [
         "36.69092532499047",
         56.86252708259498,
         "80.05915691521955",
         43.36823159022908,
         "101.82090229181762",
         125.15414279189173,
         "140.9233854211002",
         39.102483129282575,
         0
        ],
        [
         "46.33198108805503",
         63.71555486638507,
         "84.36800482984665",
         38.036023741791624,
         "100.32080033928878",
         117.41232447241495,
         "99.35741365198902",
         -0.9633866872997601,
         0
        ],
        [
         "34.77321930550815",
         54.141542701832485,
         "73.67143820900716",
         38.898218903499014,
         "100.05926357619745",
         110.95457204593788,
         "99.86153613377236",
         -0.19772744242509077,
         1
        ],
        [
         "41.244527826843594",
         62.70319493745673,
         "81.89603458669532",
         40.65150675985173,
         "116.5499734336814",
         135.75495581163088,
         "154.20125856697246",
         37.651285133291054,
         0
        ],
        [
         "36.873940191963726",
         56.48234938235956,
         "77.80265817693167",
         40.928717984967946,
         "102.18513221291131",
         122.07978475089362,
         "139.5482268021545",
         37.363094589243175,
         0
        ],
        [
         "34.41091066364187",
         52.34832291045158,
         "66.51844639267036",
         32.107535729028484,
         "100.97582959947803",
         118.74866135364226,
         "99.27392460073278",
         -1.701904998745249,
         1
        ],
        [
         "40.62966692837915",
         59.878301686802345,
         "79.55117457382502",
         38.92150764544587,
         "112.41721855520157",
         130.60374880273866,
         "151.79042990955554",
         39.37321135435397,
         1
        ],
        [
         "40.736738058480086",
         64.74170224529291,
         "85.26199694329823",
         44.52525888481814,
         "103.88141910298462",
         123.33923642416373,
         "143.72472447411954",
         39.84330537113492,
         1
        ],
        [
         "39.844997663172016",
         59.11306326435514,
         "78.89452804439276",
         39.04953038122074,
         "100.02133876808834",
         114.97197154171873,
         "99.70977461146163",
         -0.31156415662671577,
         1
        ],
        [
         "32.21926286296496",
         56.24263621621886,
         "79.05489853042289",
         46.83563566745793,
         "100.02399974099355",
         113.30761282217233,
         "99.10366672150792",
         -0.920333019485625,
         1
        ],
        [
         "37.221717696193245",
         61.1460231306574,
         "82.20736481431265",
         44.98564711811941,
         "100.00461248481511",
         115.03564347650031,
         "99.8534778985047",
         -0.15113458631040544,
         1
        ],
        [
         "37.24440872627857",
         56.647578043672226,
         "81.27363616849874",
         44.02922744222017,
         "100.32679961156015",
         115.1663021765674,
         "99.08754032739483",
         -1.239259284165314,
         1
        ],
        [
         "36.50642834300045",
         52.508159551104455,
         "76.61766667853733",
         40.11123833553688,
         "100.0325669639934",
         114.95304034639412,
         "99.67802861371723",
         -0.3545383502761723,
         1
        ],
        [
         "32.16366269660031",
         51.29399445013559,
         "72.09395540089513",
         39.930292704294814,
         "100.37209927760631",
         118.58517746050902,
         "99.39105758843348",
         -0.9810416891728266,
         1
        ],
        [
         "42.21667547997046",
         63.60165405494934,
         "85.61282247169366",
         43.3961469917232,
         "108.65306981675572",
         129.34169434087437,
         "147.0328672398787",
         38.37979742312298,
         1
        ],
        [
         "37.32554837326526",
         57.83991935404277,
         "75.88700431155348",
         38.56145593828822,
         "101.62562310361442",
         119.09646021995918,
         "97.85491701924077",
         -3.770706084373643,
         1
        ],
        [
         "36.20069839000815",
         60.776135313287305,
         "81.96358561747768",
         45.76288722746953,
         "100.18167856801855",
         119.4092902526288,
         "139.5740875843896",
         39.39240901637103,
         1
        ],
        [
         "33.26347177441873",
         50.975940437446255,
         "70.0368996027991",
         36.77342782838036,
         "100.15325244095017",
         111.55261802564793,
         "99.29914340794167",
         -0.8541090330084984,
         1
        ],
        [
         "37.83088186745707",
         59.01064265627112,
         "77.21755959192629",
         39.386677724469216,
         "100.06483102812639",
         117.32600655316422,
         "99.7107915895459",
         -0.3540394385804859,
         1
        ],
        [
         "39.25102509627639",
         62.49368737928978,
         "78.1673059417242",
         38.9162808454478,
         "101.24032861597038",
         119.12755391683814,
         "99.17824850055942",
         -2.0620801154109643,
         1
        ],
        [
         "36.143994001523815",
         57.02468612271015,
         "81.76672819194823",
         45.62273419042442,
         "102.54373621446459",
         119.81487521609104,
         "141.43104697201187",
         38.88731075754728,
         1
        ],
        [
         "38.84235663564215",
         57.22982888521049,
         "75.98950925249446",
         37.14715261685231,
         "100.48165690330022",
         118.65679516377452,
         "148.5892547564081",
         48.10759785310789,
         0
        ],
        [
         "32.222407438130105",
         51.875349523999546,
         "77.14306971608858",
         44.92066227795847,
         "103.19818114023354",
         118.82847014677058,
         "99.86025506814627",
         -3.3379260720872708,
         1
        ],
        [
         "32.604974870576925",
         52.976289192659365,
         "69.37133752499868",
         36.766362654421755,
         "100.16269356777997",
         105.02264696702348,
         "99.9819170541632",
         -0.18077651361676317,
         1
        ],
        [
         "40.48029874559683",
         63.20596178489216,
         "80.75901959283966",
         40.27872084724283,
         "103.92855820176649",
         122.29177763534602,
         "98.12157756538954",
         -5.806980636376949,
         1
        ],
        [
         "31.793758110357885",
         54.94050692136503,
         "76.71766559216252",
         44.92390748180463,
         "100.10129264997882",
         114.67645694324369,
         "99.64568722625151",
         -0.45560542372730595,
         1
        ],
        [
         "39.762287147231724",
         57.65545756432986,
         "81.61882617419772",
         41.856539026966,
         "106.17852674785823",
         126.05033151933071,
         "147.4696204471253",
         41.291093699267066,
         0
        ],
        [
         "33.00355473782426",
         52.92890368723142,
         "75.43651558362802",
         42.43296084580376,
         "100.06356621748928",
         103.66774253645279,
         "99.99480426706428",
         -0.06876195042499944,
         1
        ],
        [
         "37.58298842363946",
         56.817393871565535,
         "75.90458298211526",
         38.321594558475795,
         "100.15318418295946",
         107.07546203408585,
         "99.97977059736003",
         -0.17341358559943387,
         1
        ],
        [
         "40.101024773825756",
         64.15812516471786,
         "86.37096800950397",
         46.26994323567821,
         "101.27504228936722",
         120.63436845249677,
         "96.45980245301277",
         -4.815239836354451,
         0
        ],
        [
         "30.34450616848568",
         50.57851892102195,
         "74.51910342927565",
         44.174597260789966,
         "101.62787952818026",
         116.79738955622042,
         "97.02776035593597",
         -4.600119172244291,
         1
        ],
        [
         "37.35909515328133",
         58.73503301186563,
         "80.20974613348388",
         42.850650980202545,
         "100.30764873248698",
         121.67215316731667,
         "99.20327346363948",
         -1.1043752688475053,
         1
        ],
        [
         "41.14847071363205",
         61.56094333863085,
         "78.86185928107727",
         37.71338856744522,
         "100.03121812723639",
         110.11351332828177,
         "99.91994761667863",
         -0.11127051055775894,
         1
        ],
        [
         "33.34076334055253",
         50.63985379280536,
         "66.87846279060662",
         33.53769945005409,
         "100.01178664011125",
         117.21921064510943,
         "99.68416309872433",
         -0.3276235413869273,
         1
        ],
        [
         "31.777016049579352",
         55.444813255821245,
         "75.88611216251653",
         44.10909611293717,
         "103.54029690590728",
         121.45474349010473,
         "141.6205011613052",
         38.08020425539793,
         1
        ],
        [
         "37.80322566415262",
         58.18633074875368,
         "83.639838386505",
         45.836612722352385,
         "100.48531489914687",
         119.9767420730735,
         "95.0293605833509",
         -5.455954315795978,
         1
        ],
        [
         "34.11005693102527",
         54.31524785446477,
         "77.84550712127562",
         43.73545019025035,
         "100.04413652871092",
         111.98913758978603,
         "99.80268949361368",
         -0.24144703509723797,
         1
        ],
        [
         "36.644304474374366",
         59.40737350689904,
         "79.81098136432635",
         43.16667688995199,
         "100.02779695892191",
         103.76472685954998,
         "99.99066975659068",
         -0.037127202331234344,
         1
        ],
        [
         "30.189602757438948",
         55.96873582057071,
         "76.55825452440186",
         46.36865176696291,
         "100.04188017540656",
         108.80473819908029,
         "99.88845916181285",
         -0.1534210135937144,
         1
        ],
        [
         "38.18227464434185",
         58.21639987952211,
         "75.95846679688748",
         37.776192152545626,
         "100.77368565648064",
         118.39555038066587,
         "98.46676897184577",
         -2.3069166846348708,
         1
        ],
        [
         "47.21388006825258",
         64.12815984532868,
         "87.69264883824704",
         40.47876876999446,
         "107.30622605761342",
         127.45655362943532,
         "149.0316556591242",
         41.72542960151078,
         1
        ],
        [
         "38.16772058580614",
         56.24733727845043,
         "74.47013555705158",
         36.30241497124544,
         "101.5018364632746",
         121.83147545382056,
         "98.51788844275382",
         -2.983948020520785,
         1
        ],
        [
         "31.83277236866004",
         54.162113188325826,
         "73.80883178069111",
         41.97605941203106,
         "101.85824279980771",
         121.23566594162507,
         "98.96162696851012",
         -2.896615831297595,
         1
        ],
        [
         "40.131928810375456",
         58.81996662292639,
         "81.05416523373063",
         40.92223642335517,
         "108.45088754838653",
         128.30009996691507,
         "144.6805804112926",
         36.22969286290606,
         1
        ],
        [
         "33.82884864674749",
         56.36906640976199,
         "76.272210819944",
         42.443362173196505,
         "100.37539942552209",
         120.48896959989989,
         "99.14538444974744",
         -1.230014975774651,
         0
        ],
        [
         "42.08570506807752",
         64.0710372893866,
         "86.80805391188389",
         44.722348843806365,
         "103.259508305658",
         124.53463827567047,
         "141.1742543615379",
         37.91474605587989,
         0
        ],
        [
         "37.67045353208902",
         57.436224079561434,
         "80.18105982626733",
         42.51060629417831,
         "100.18428491659517",
         114.71634409544491,
         "99.882322807124",
         -0.30196210947117663,
         0
        ],
        [
         "38.10607436115648",
         59.90775323588766,
         "84.94559084110509",
         46.83951647994861,
         "105.4380727816279",
         121.96198473570927,
         "99.91298211825095",
         -5.525090663376943,
         1
        ],
        [
         "36.22629375861975",
         56.82676797959413,
         "75.18864535868585",
         38.9623516000661,
         "100.12581690011164",
         116.22593159811883,
         "99.29797801466569",
         -0.8278388854459564,
         1
        ],
        [
         "38.860939163965604",
         57.7985387699023,
         "77.735218017644",
         38.8742788536784,
         "101.12210385986342",
         117.72416336968566,
         "99.52918774603336",
         -1.5929161138300572,
         1
        ],
        [
         "36.009485339921625",
         56.078916803707614,
         "74.96104932205286",
         38.95156398213123,
         "100.00149609774628",
         106.10777196100128,
         "99.9935947114827",
         -0.007901386263583277,
         1
        ],
        [
         "31.08239113093835",
         50.89046704911599,
         "68.547786718866",
         37.46539558792766,
         "102.36632865853728",
         122.71111594251609,
         "139.12758223131308",
         36.7612535727758,
         0
        ],
        [
         "37.51193427961332",
         58.85614350053807,
         "77.55898966245246",
         40.04705538283914,
         "100.13256886818863",
         114.04338051909693,
         "99.20572446455215",
         -0.9268444036364798,
         1
        ],
        [
         "44.63262273596938",
         64.21802034615231,
         "84.89605665665654",
         40.26343392068716,
         "103.8355656208347",
         124.75271357802097,
         "150.2493307739245",
         46.4137651530898,
         1
        ],
        [
         "33.80061042782352",
         55.83591696671313,
         "75.73930585186788",
         41.93869542404436,
         "103.04503248855673",
         122.31844630917051,
         "144.5183459298017",
         41.47331344124498,
         0
        ],
        [
         "35.26279012936301",
         54.434821075051865,
         "73.71809208802831",
         38.4553019586653,
         "101.28380737437466",
         120.94061645859237,
         "142.46659327425843",
         41.18278589988377,
         1
        ],
        [
         "33.57405835978404",
         59.87483315696735,
         "80.85984732427056",
         47.28578896448652,
         "100.33591219736971",
         114.78079885803862,
         "97.8394098151479",
         -2.4965023822218058,
         0
        ],
        [
         "42.077207485878404",
         58.94802983057048,
         "78.88855143088377",
         36.81134394500536,
         "100.51972852031409",
         120.49323569003941,
         "99.48609956648221",
         -1.0336289538318795,
         1
        ],
        [
         "38.08590187755819",
         59.5324400312867,
         "78.86527360775612",
         40.77937173019793,
         "105.00206213017982",
         125.27985349834282,
         "99.41798965724854",
         -5.5840724729312825,
         1
        ],
        [
         "39.7431429470535",
         61.11656973525727,
         "76.80973784526488",
         37.06659489821138,
         "105.11748069993088",
         125.02565617176346,
         "144.54746031112987",
         39.42997961119899,
         1
        ],
        [
         "36.47147233047187",
         56.25546707581672,
         "75.31888250121655",
         38.84741017074468,
         "105.85805702049043",
         127.7607108751919,
         "147.15214525494363",
         41.2940882344532,
         1
        ],
        [
         "40.70156286044548",
         59.26213587016435,
         "79.93881602627792",
         39.23725316583244,
         "100.1612091504033",
         118.4213390554681,
         "99.48790346884141",
         -0.6733056815618852,
         1
        ],
        [
         "36.008551867815186",
         56.970138720748736,
         "76.01306662272201",
         40.00451475490682,
         "100.06186512076806",
         102.85994612051684,
         "99.98338535960184",
         -0.07847976116622135,
         1
        ],
        [
         "38.63549915279406",
         58.59152379065956,
         "75.18520407469036",
         36.5497049218963,
         "100.06842354310756",
         109.66312654382925,
         "99.88057927096199",
         -0.18784427214556843,
         1
        ],
        [
         "32.614257436258086",
         54.50771317100856,
         "71.76090375491995",
         39.146646318661865,
         "100.9302294735479",
         117.02039664885613,
         "99.47235892034979",
         -1.4578705531981058,
         0
        ],
        [
         "31.8178355589267",
         61.374530771407144,
         "78.44221656200402",
         46.62438100307732,
         "105.3713672914731",
         124.22253452875236,
         "145.88497599514588",
         40.51360870367277,
         0
        ],
        [
         "27.37523017929985",
         47.48485077139388,
         "67.98261400047622",
         40.60738382117637,
         "100.11006535706207",
         110.57459821640212,
         "99.78128308080454",
         -0.32878227625752743,
         1
        ],
        [
         "33.2893223186446",
         52.2796614769968,
         "70.25177639014495",
         36.96245407150035,
         "100.24673401890709",
         115.48346807910801,
         "99.98026499249256",
         -0.2664690264145264,
         1
        ],
        [
         "44.066511758145815",
         61.42131995568504,
         "79.73765697422587",
         35.671145216080056,
         "100.07013557596605",
         114.40213969472232,
         "99.16527760118366",
         -0.9048579747823879,
         1
        ],
        [
         "39.66093395209039",
         61.122881505299006,
         "80.70588147643541",
         41.04494752434502,
         "108.32324644055359",
         123.80360404930865,
         "144.93272534232798",
         36.609478901774395,
         1
        ],
        [
         "35.874730598918774",
         53.12052945694209,
         "71.48701751904491",
         35.61228692012614,
         "100.07585527831858",
         110.72824978585498,
         "99.92768397937752",
         -0.1481712989410653,
         1
        ],
        [
         "41.14845326410834",
         63.316979154467376,
         "82.93086477959902",
         41.78241151549068,
         "100.02851397445822",
         110.25757822793143,
         "99.9896102106213",
         -0.038903763836927396,
         1
        ],
        [
         "38.10796919764259",
         59.696672900723684,
         "78.19160651453939",
         40.0836373168968,
         "100.0037067429219",
         112.76682579938621,
         "99.9604698072901",
         -0.043236935631810525,
         0
        ],
        [
         "34.83975232652527",
         53.563858524608236,
         "72.51629573195636",
         37.67654340543109,
         "100.0148379419751",
         101.83905826881336,
         "99.87717152251435",
         -0.13766641946075708,
         1
        ],
        [
         "35.36167751625282",
         57.17380840219266,
         "80.0653527302745",
         44.70367521402168,
         "100.06842615246573",
         107.23293570600454,
         "99.90750131553348",
         -0.1609248369322529,
         1
        ],
        [
         "43.29488549741161",
         62.63039111464387,
         "82.78273683561183",
         39.487851338200215,
         "106.13586363538528",
         125.30453890716987,
         "145.01375959926597",
         38.87789596388069,
         0
        ],
        [
         "41.01584489627632",
         61.6160076965517,
         "82.35584740770483",
         41.34000251142851,
         "110.46052286165468",
         132.1575915777525,
         "149.07308161736074",
         38.61255875570606,
         0
        ],
        [
         "32.55006109624641",
         52.84560643555675,
         "76.06331773407237",
         43.51325663782596,
         "100.00414759948309",
         111.44503288277878,
         "99.73801879263173",
         -0.26612880685135565,
         1
        ],
        [
         "37.058752258401086",
         61.41922970079497,
         "83.01467759464936",
         45.95592533624827,
         "100.00924100147225",
         115.13083245268042,
         "99.6632621050941",
         -0.34597889637814205,
         1
        ],
        [
         "49.934592965097295",
         70.51223426993495,
         "88.16486039720277",
         38.23026743210548,
         "103.4775680431193",
         123.73304211760811,
         "142.60427661785857",
         39.12670857473927,
         1
        ],
        [
         "36.03932174012506",
         53.44732888674302,
         "76.57330767155443",
         40.53398593142937,
         "102.30072194767003",
         119.53494033341592,
         "144.09809855488822",
         41.7973766072182,
         1
        ],
        [
         "37.09643162030256",
         57.182929154345125,
         "73.7568058104639",
         36.66037419016134,
         "100.02136568449924",
         97.9019086809376,
         "99.96509315492514",
         -0.05627252957410178,
         1
        ],
        [
         "34.52996384851621",
         55.37647010422617,
         "73.70079509469029",
         39.17083124617408,
         "100.11338535473605",
         111.26624083900346,
         "99.9722050863609",
         -0.14118026837515174,
         1
        ],
        [
         "32.59493599373478",
         54.55419822150717,
         "75.01256427045166",
         42.41762827671688,
         "100.09818091794564",
         110.97374052560949,
         "99.9715790014153",
         -0.12660191653034758,
         1
        ],
        [
         "42.61196281324057",
         61.59359891608354,
         "81.1896928829268",
         38.57773006968624,
         "101.64909597195913",
         118.50307742327328,
         "98.54662422487114",
         -3.1024717470879892,
         1
        ],
        [
         "34.477388672025526",
         53.73258518418602,
         "73.90576432630132",
         39.4283756542758,
         "102.70573447734265",
         117.81679017260672,
         "99.12379791743543",
         -3.58193655990722,
         0
        ],
        [
         "42.77807105562846",
         61.34590813216392,
         "80.59359266306078",
         37.815521607432316,
         "101.32588496472673",
         115.86280226817954,
         "98.52429295178216",
         -2.8015920129445675,
         0
        ],
        [
         "39.20400347928605",
         57.428464949405466,
         "83.94495703288597",
         44.740953553599915,
         "102.47311963834663",
         118.90600026857243,
         "136.09188475537178",
         33.61876511702515,
         1
        ],
        [
         "37.06510240258926",
         55.56364441103787,
         "73.07007425049719",
         36.004971847907925,
         "106.88278954829492",
         123.23252811687779,
         "146.11951497769786",
         39.23672542940294,
         1
        ],
        [
         "42.47799859290063",
         58.61123236904557,
         "83.26352374651535",
         40.785525153614714,
         "100.06206754282512",
         109.67310327909156,
         "99.94871670509372",
         -0.11335083773140298,
         1
        ],
        [
         "41.82091839871417",
         58.415693492011485,
         "77.42934344802194",
         35.60842504930777,
         "102.0036151855053",
         119.10608734584757,
         "144.2658112383972",
         42.262196052891895,
         1
        ],
        [
         "35.12154191038019",
         53.978078419479495,
         "76.03203063043446",
         40.910488720054275,
         "100.02870292153334",
         101.96122273538283,
         "99.99322874803558",
         -0.03547417349776083,
         1
        ],
        [
         "36.52477051630206",
         56.9720374224014,
         "75.01121363373942",
         38.486443117437354,
         "100.00330408810383",
         109.87469265528871,
         "99.79646755109346",
         -0.20683653701037485,
         1
        ],
        [
         "30.98878106944347",
         52.50343103378747,
         "79.20461062753746",
         48.21582955809399,
         "100.1754049726329",
         111.98687353028524,
         "99.8042117157155",
         -0.3711932569174081,
         1
        ],
        [
         "29.718358531316117",
         54.475324988791286,
         "73.9405726120321",
         44.222214080715986,
         "100.53763812662154",
         118.66739666208903,
         "140.67121303969566",
         40.13357491307411,
         1
        ],
        [
         "38.67307349854467",
         56.695966734014725,
         "80.7360641931836",
         42.06299069463893,
         "100.54620306274207",
         112.44232343853817,
         "99.49586189821335",
         -1.0503411645287173,
         1
        ],
        [
         "37.6155965815465",
         60.38336733913602,
         "81.47457524399724",
         43.85897866245074,
         "106.63307334913159",
         127.6025431654871,
         "149.32482963613057",
         42.69175628699898,
         1
        ],
        [
         "37.68729015963055",
         58.97089833138009,
         "80.95383871696669",
         43.26654855733614,
         "109.22254947433572",
         127.69830555360825,
         "148.13588474499144",
         38.91333527065572,
         1
        ],
        [
         "43.08861999147689",
         63.57873820725843,
         "81.9766837524719",
         38.88806376099501,
         "109.98781729500168",
         129.84737232682357,
         "148.62207071848775",
         38.63425342348607,
         1
        ],
        [
         "42.14281856668732",
         62.76928775026749,
         "88.87805752333796",
         46.73523895665064,
         "100.60847382561042",
         118.08804511975598,
         "99.90384643602371",
         -0.7046273895867046,
         0
        ],
        [
         "35.52224150879337",
         55.24772856990126,
         "74.75773915544364",
         39.23549764665027,
         "101.4425207534573",
         116.85939956088122,
         "99.09361399128694",
         -2.3489067621703583,
         1
        ],
        [
         "38.84337640649022",
         57.794114274188374,
         "82.41339175102719",
         43.57001534453697,
         "100.67515118110799",
         117.97940736465709,
         "98.46499090988476",
         -2.2101602712232307,
         1
        ],
        [
         "38.03226852267949",
         60.230703475408866,
         "77.57137225490766",
         39.53910373222817,
         "100.05885016291701",
         123.38365460823671,
         "141.43309628526416",
         41.374246122347145,
         0
        ],
        [
         "36.3755006629025",
         59.50391366045179,
         "82.91048453056263",
         46.534983867660124,
         "102.19107865493092",
         120.94449378965955,
         "143.1639326076083",
         40.97285395267738,
         1
        ],
        [
         "36.62825071837584",
         55.67034019356224,
         "76.61877787412345",
         39.990527155747614,
         "100.09333622880564",
         109.45849449664443,
         "99.91918121725156",
         -0.17415501155407753,
         1
        ],
        [
         "39.14120872099717",
         60.94867828144888,
         "80.2991760411599",
         41.157967320162726,
         "109.56917110105783",
         128.25285587998005,
         "144.8813528027793",
         35.31218170172147,
         1
        ],
        [
         "38.788153502584464",
         57.79090434270172,
         "79.91841943531811",
         41.13026593273365,
         "100.02808649497851",
         113.48672292253409,
         "99.67874219087582",
         -0.34934430410268646,
         1
        ],
        [
         "39.776355858719484",
         60.768631321068376,
         "82.06521490718815",
         42.288859048468666,
         "105.48705705680699",
         127.80996788494905,
         "147.9768845514056",
         42.4898274945986,
         1
        ],
        [
         "28.76971480932028",
         54.39729151029968,
         "77.4007945086386",
         48.63107969931832,
         "105.65496441454876",
         127.89286493605327,
         "151.6488039366095",
         45.99383952206075,
         1
        ],
        [
         "39.38604522800365",
         60.64418878120395,
         "78.94327510102059",
         39.55722987301694,
         "100.96149168057723",
         116.21009585949271,
         "99.39631499955772",
         -1.5651766810195085,
         0
        ],
        [
         "40.762238900177394",
         62.97375428447655,
         "81.87818198449358",
         41.115943084316186,
         "103.44300024891878",
         125.71332440649387,
         "143.74681826495208",
         40.303818016033304,
         1
        ],
        [
         "42.67493572382554",
         61.76444536106824,
         "85.60927955839",
         42.93434383456446,
         "108.27441756553576",
         127.3002555270563,
         "147.17618877080994",
         38.90177120527419,
         1
        ],
        [
         "37.93715208178956",
         58.529598162003914,
         "80.6612284726828",
         42.72407639089323,
         "108.42100424327633",
         129.46627902087042,
         "152.89194986996216",
         44.47094562668583,
         1
        ],
        [
         "36.33683804254915",
         61.52802320104961,
         "79.19268699040978",
         42.855848947860636,
         "101.48171339480307",
         123.37669282413998,
         "142.5682495386734",
         41.08653614387033,
         0
        ],
        [
         "38.71879047930171",
         57.218445846257175,
         "78.23193060877547",
         39.51314012947376,
         "100.27261042249476",
         116.80978665134553,
         "99.50128473872562",
         -0.7713256837691489,
         1
        ],
        [
         "38.8033472862076",
         64.54448914365467,
         "82.58924333208111",
         43.785896045873514,
         "104.99627517915891",
         125.74310763667447,
         "143.39181307339965",
         38.39553789424073,
         1
        ],
        [
         "33.473281840025805",
         57.440743226488856,
         "79.97376192235241",
         46.500480082326604,
         "100.16494210337366",
         108.80311645473816,
         "99.95244964079134",
         -0.21249246258231835,
         1
        ],
        [
         "35.47908581898288",
         59.29142511692009,
         "83.09846287082098",
         47.6193770518381,
         "103.89320644116196",
         121.49804535593333,
         "138.82166216748575",
         34.92845572632379,
         1
        ],
        [
         "48.852608947250005",
         65.29433963229101,
         "82.70845327821704",
         33.85584433096703,
         "115.0411716601705",
         135.06846154548484,
         "154.8534065039064",
         39.812234843735894,
         0
        ],
        [
         "35.6816882580559",
         54.695494950088346,
         "79.33856223920638",
         43.65687398115048,
         "100.32257441763207",
         110.91442386829013,
         "99.89295097991253",
         -0.4296234377195418,
         1
        ],
        [
         "42.13729931367675",
         61.87288735184264,
         "82.6822411466314",
         40.54494183295465,
         "108.23967836562721",
         126.89188564644219,
         "148.56360520850075",
         40.32392684287353,
         1
        ],
        [
         "40.9180422231898",
         58.84885478311658,
         "79.68634704403648",
         38.76830482084668,
         "100.46603592025336",
         116.60085588519021,
         "99.93701057585974",
         -0.5290253443936166,
         1
        ],
        [
         "39.09953728275549",
         59.258926351674404,
         "83.62463001849146",
         44.52509273573597,
         "106.30833784172836",
         121.69334003029607,
         "140.86063780681684",
         34.55229996508848,
         1
        ],
        [
         "41.09959752891303",
         62.80303338686844,
         "81.11328731271014",
         40.01368978379711,
         "100.17736579866755",
         115.11732974343795,
         "99.61088523724814",
         -0.5664805614194108,
         1
        ],
        [
         "40.336859784776536",
         58.96768267401441,
         "77.16993668291684",
         36.833076898140305,
         "100.05077712242071",
         108.80358064367525,
         "99.69182057099323",
         -0.3589565514274824,
         1
        ],
        [
         "35.808212041812865",
         56.56728800888731,
         "76.59698729980084",
         40.78877525798798,
         "100.00500953136168",
         111.86119034652039,
         "99.94121702409562",
         -0.0637925072660579,
         1
        ],
        [
         "45.738454025349654",
         66.8709380631079,
         "90.37867220569571",
         44.640218180346054,
         "106.0934235949964",
         126.89940246107281,
         "151.69114392345128",
         45.59772032845488,
         1
        ],
        [
         "29.007875101016623",
         54.645039302424856,
         "82.4264635562549",
         53.41858845523828,
         "100.29911997200185",
         112.90721234606201,
         "99.88598045735456",
         -0.41313951464728405,
         1
        ],
        [
         "35.96349297975455",
         54.71673176618614,
         "74.055822167575",
         38.092329187820454,
         "100.02199362388602",
         103.68101908687055,
         "99.995288730243",
         -0.026704893643014316,
         1
        ],
        [
         "35.562679857414146",
         58.71089511904646,
         "75.40533543501792",
         39.84265557760377,
         "100.99048546230614",
         119.82176989361852,
         "141.73556400892528",
         40.74507854661914,
         1
        ],
        [
         "38.66559679984857",
         61.516787575216846,
         "79.78712095187376",
         41.12152415202519,
         "111.30423322516427",
         132.96777637464098,
         "152.06611175194163",
         40.761878526777366,
         1
        ],
        [
         "41.56556703035375",
         58.07696049733711,
         "75.7838425834496",
         34.21827555309585,
         "104.64938766229454",
         119.83276071015932,
         "97.16122871457901",
         -7.488158947715533,
         0
        ],
        [
         "35.84892640261788",
         57.388694208363596,
         "76.65804820077004",
         40.80912179815216,
         "103.81657529943033",
         122.00863540760648,
         "142.71990462267746",
         38.903329323247135,
         1
        ],
        [
         "44.23734802532731",
         70.82675077156924,
         "89.11362676288564",
         44.87627873755834,
         "106.63340405241486",
         124.37504491560769,
         "141.75295514289334",
         35.11955109047848,
         0
        ],
        [
         "38.538849506976035",
         59.10848401004029,
         "76.10880818270294",
         37.56995867572691,
         "100.53773387133403",
         122.02339366946593,
         "96.55685014493713",
         -3.980883726396897,
         1
        ],
        [
         "41.19824461241659",
         60.371967892694876,
         "80.19226580344498",
         38.994021191028395,
         "102.87337257154618",
         120.834144381884,
         "137.7101112176667",
         34.83673864612052,
         0
        ],
        [
         "35.586288382801634",
         55.694154165205205,
         "77.95208659889822",
         42.365798216096586,
         "118.99824641207925",
         139.24246545641395,
         "158.0027947898672",
         39.004548377787955,
         1
        ],
        [
         "40.13218347913124",
         57.64751097968571,
         "77.72747403728211",
         37.595290558150865,
         "100.01927906510959",
         111.48550136756253,
         "99.98585100893936",
         -0.03342805617022293,
         1
        ],
        [
         "35.52276628443495",
         58.899928426003,
         "77.84430867239219",
         42.32154238795724,
         "107.5613604207549",
         125.7493141057638,
         "145.30339505186942",
         37.74203463111452,
         1
        ],
        [
         "38.459295283238795",
         61.27856081469,
         "82.79098027874741",
         44.33168499550862,
         "105.71951624366326",
         122.88118720961602,
         "142.13934787349396",
         36.419831629830696,
         0
        ],
        [
         "39.52378925288102",
         61.86220126523169,
         "89.40553297500303",
         49.881743722122,
         "101.77908890720424",
         118.77839669373454,
         "99.18953208028829",
         -2.5895568269159526,
         0
        ],
        [
         "38.877208074870616",
         59.203874658703846,
         "78.5647462112132",
         39.68753813634259,
         "102.3679468439168",
         117.98410460095624,
         "99.29356218961102",
         -3.0743846543057742,
         0
        ],
        [
         "43.48095924056118",
         61.17008800424,
         "85.07463828118713",
         41.59367904062596,
         "100.0641858060246",
         124.94723616536375,
         "142.83926339751582",
         42.775077591491225,
         1
        ],
        [
         "41.46747023370987",
         62.09383012689898,
         "84.55309358248162",
         43.085623348771755,
         "100.27256668120597",
         115.48612739187658,
         "99.92782498198744",
         -0.34474169921853104,
         1
        ],
        [
         "27.134745230857906",
         54.260651373613136,
         "70.13978351839143",
         43.00503828753352,
         "102.37925292542914",
         117.26551420862963,
         "136.8284617567106",
         34.44920883128145,
         1
        ],
        [
         "34.90257797839022",
         53.47274535192001,
         "71.36115971476201",
         36.45858173637179,
         "100.03444415873005",
         105.9810910319113,
         "99.84841849593684",
         -0.1860256627932131,
         1
        ],
        [
         "49.920289376300886",
         67.00840488398771,
         "92.50207998849788",
         42.581790612197,
         "103.49385440553613",
         122.2998222700246,
         "137.6591134824006",
         34.16525907686449,
         1
        ],
        [
         "28.708656536045574",
         50.02240956733325,
         "69.66734809233901",
         40.95869155629344,
         "100.02848942271731",
         98.75343427944188,
         "99.95464393146806",
         -0.07384549124925854,
         1
        ],
        [
         "45.849112107854125",
         63.50506837002921,
         "89.58195783649023",
         43.73284572863611,
         "107.8102095077348",
         128.07944274959027,
         "148.16725252049596",
         40.35704301276117,
         1
        ],
        [
         "40.62365029491502",
         57.413937670849705,
         "75.62769503969032",
         35.0040447447753,
         "100.54546450179316",
         116.54235685007453,
         "99.87545574208163",
         -0.6700087597115356,
         1
        ],
        [
         "35.16156983983914",
         55.87658370629187,
         "75.35380404111301",
         40.19223420127387,
         "109.64666704829685",
         131.97045350803464,
         "149.75934247479188",
         40.11267542649503,
         1
        ],
        [
         "43.14327971636279",
         63.413443070127975,
         "82.47617968415966",
         39.33289996779687,
         "104.40717075772224",
         125.8874930735858,
         "144.0929135018936",
         39.685742744171364,
         1
        ],
        [
         "36.59144509811311",
         60.96476679648908,
         "83.04371750249582",
         46.45227240438271,
         "112.5309982512936",
         132.08483465148572,
         "154.02344542427164",
         41.492447172978046,
         1
        ],
        [
         "37.000862304550864",
         61.43499297014584,
         "81.29390302680861",
         44.29304072225774,
         "100.02671607103889",
         111.43601841050383,
         "99.83669080558374",
         -0.19002526545514797,
         1
        ],
        [
         "41.87293240554169",
         61.86292969254332,
         "82.19847249095778",
         40.325540085416094,
         "104.22005112075317",
         126.2201557470767,
         "145.44991076700776",
         41.229859646254596,
         1
        ],
        [
         "29.946618069191818",
         56.97508863418521,
         "80.57193997657131",
         50.6253219073795,
         "100.05446270256515",
         112.65703451441597,
         "99.67373198986924",
         -0.3807307126959074,
         1
        ],
        [
         "44.07228543742415",
         60.78808167183931,
         "81.82690723427788",
         37.75462179685373,
         "101.8122952115061",
         121.29788149025282,
         "142.80673687587063",
         40.99444166436453,
         1
        ],
        [
         "38.573802795780125",
         56.92679964452233,
         "76.04113015847551",
         37.467327362695386,
         "102.34244314866181",
         124.67019446565975,
         "144.26249997952527",
         41.92005683086346,
         1
        ],
        [
         "40.95986913097104",
         60.53405407327022,
         "83.52764103133863",
         42.56777190036759,
         "100.12298300559331",
         110.54950900949781,
         "99.86545160480011",
         -0.2575314007931979,
         1
        ]
       ],
       "datasetInfos": [],
       "dbfsResultPath": "dbfs:/databricks-results/2252604904162845/",
       "isJsonSchema": true,
       "overflow": true,
       "plotOptions": {
        "customPlotOptions": {},
        "displayType": "table",
        "pivotAggregation": null,
        "pivotColumns": null,
        "xColumns": null,
        "yColumns": null
       },
       "removedWidgets": [],
       "schema": [
        {
         "metadata": "{}",
         "name": "min_resting_heartrate",
         "type": "\"string\""
        },
        {
         "metadata": "{}",
         "name": "avg_resting_heartrate",
         "type": "\"double\""
        },
        {
         "metadata": "{}",
         "name": "max_resting_heartrate",
         "type": "\"string\""
        },
        {
         "metadata": "{}",
         "name": "resting_heartrate_change",
         "type": "\"double\""
        },
        {
         "metadata": "{}",
         "name": "min_active_heartrate",
         "type": "\"string\""
        },
        {
         "metadata": "{}",
         "name": "avg_active_heartrate",
         "type": "\"double\""
        },
        {
         "metadata": "{}",
         "name": "max_active_heartrate",
         "type": "\"string\""
        },
        {
         "metadata": "{}",
         "name": "active_heartrate_change",
         "type": "\"double\""
        },
        {
         "metadata": "{}",
         "name": "steps_8000",
         "type": "\"integer\""
        }
       ],
       "type": "table"
      }
     },
     "output_type": "display_data"
    }
   ],
   "source": [
    "%sql\n",
    "SELECT *\n",
    "FROM adsda.ht_user_metrics_cv_lab"
   ]
  },
  {
   "cell_type": "markdown",
   "metadata": {
    "application/vnd.databricks.v1+cell": {
     "inputWidgets": {},
     "nuid": "6ff47143-8b34-42b5-8dfa-b76a1949017f",
     "showTitle": false,
     "title": ""
    }
   },
   "source": [
    "-sandbox\n",
    "**Coursera Quiz:** How many users in `adsda.ht_user_metrics_cv_lab` take, on average, 8,000 steps per day?\n",
    "\n",
    "<img alt=\"Hint\" title=\"Hint\" style=\"vertical-align: text-bottom; position: relative; height:1.75em; top:0.3em\" src=\"https://files.training.databricks.com/static/images/icon-light-bulb.svg\"/>&nbsp;**Hint:** Refer back to the previous lab for guidance on how to answer this question."
   ]
  },
  {
   "cell_type": "markdown",
   "metadata": {
    "application/vnd.databricks.v1+cell": {
     "inputWidgets": {},
     "nuid": "b6f3de14-e686-4d7f-ba22-2e85392c3943",
     "showTitle": false,
     "title": ""
    }
   },
   "source": [
    "-sandbox\n",
    "## Exercise 2\n",
    "\n",
    "In this exercise, you will split your data into a cross-validation set (`cross_val_df`) and test set (`test_df`).\n",
    "\n",
    "Fill in the blanks below to split your data.\n",
    "\n",
    "<img alt=\"Hint\" title=\"Hint\" style=\"vertical-align: text-bottom; position: relative; height:1.75em; top:0.3em\" src=\"https://files.training.databricks.com/static/images/icon-light-bulb.svg\"/>&nbsp;**Hint:** Refer to the previous demo for guidance."
   ]
  },
  {
   "cell_type": "code",
   "execution_count": 0,
   "metadata": {
    "application/vnd.databricks.v1+cell": {
     "inputWidgets": {},
     "nuid": "d3c89868-7fea-40ff-81e6-b8074f62eb5b",
     "showTitle": false,
     "title": ""
    }
   },
   "outputs": [
    {
     "data": {
      "text/html": [
       "<style scoped>\n",
       "  .ansiout {\n",
       "    display: block;\n",
       "    unicode-bidi: embed;\n",
       "    white-space: pre-wrap;\n",
       "    word-wrap: break-word;\n",
       "    word-break: break-all;\n",
       "    font-family: \"Source Code Pro\", \"Menlo\", monospace;;\n",
       "    font-size: 13px;\n",
       "    color: #555;\n",
       "    margin-left: 4px;\n",
       "    line-height: 19px;\n",
       "  }\n",
       "</style>\n",
       "<div class=\"ansiout\"></div>"
      ]
     },
     "metadata": {
      "application/vnd.databricks.v1+output": {
       "addedWidgets": {},
       "arguments": {},
       "data": "<div class=\"ansiout\"></div>",
       "datasetInfos": [],
       "removedWidgets": [],
       "type": "html"
      }
     },
     "output_type": "display_data"
    }
   ],
   "source": [
    "# ANSWER\n",
    "from sklearn.model_selection import train_test_split\n",
    "\n",
    "ht_user_metrics_pd_df = spark.table(\"adsda.ht_user_metrics_cv_lab\").toPandas()\n",
    "\n",
    "cross_val_df, test_df = train_test_split(ht_user_metrics_pd_df, train_size=0.80, test_size=0.20, random_state=42)"
   ]
  },
  {
   "cell_type": "markdown",
   "metadata": {
    "application/vnd.databricks.v1+cell": {
     "inputWidgets": {},
     "nuid": "ecbabc7b-8eb9-4ad0-ac90-54385c73629e",
     "showTitle": false,
     "title": ""
    }
   },
   "source": [
    "**Coursera Quiz:** How many rows are in the `cross_val_df` DataFrame?\n",
    "\n",
    "Fill in the blanks below to answer the question."
   ]
  },
  {
   "cell_type": "code",
   "execution_count": 0,
   "metadata": {
    "application/vnd.databricks.v1+cell": {
     "inputWidgets": {},
     "nuid": "032fcd6c-16dc-4757-bfd3-cf02ef547d7d",
     "showTitle": false,
     "title": ""
    }
   },
   "outputs": [
    {
     "data": {
      "text/html": [
       "<style scoped>\n",
       "  .ansiout {\n",
       "    display: block;\n",
       "    unicode-bidi: embed;\n",
       "    white-space: pre-wrap;\n",
       "    word-wrap: break-word;\n",
       "    word-break: break-all;\n",
       "    font-family: \"Source Code Pro\", \"Menlo\", monospace;;\n",
       "    font-size: 13px;\n",
       "    color: #555;\n",
       "    margin-left: 4px;\n",
       "    line-height: 19px;\n",
       "  }\n",
       "</style>\n",
       "<div class=\"ansiout\">Out[10]: (2400, 9)</div>"
      ]
     },
     "metadata": {
      "application/vnd.databricks.v1+output": {
       "addedWidgets": {},
       "arguments": {},
       "data": "<div class=\"ansiout\">Out[10]: (2400, 9)</div>",
       "datasetInfos": [],
       "removedWidgets": [],
       "type": "html"
      }
     },
     "output_type": "display_data"
    }
   ],
   "source": [
    "# ANSWER\n",
    "cross_val_df.shape"
   ]
  },
  {
   "cell_type": "markdown",
   "metadata": {
    "application/vnd.databricks.v1+cell": {
     "inputWidgets": {},
     "nuid": "d86efec1-7c3e-4804-967d-d1c7a6ac0647",
     "showTitle": false,
     "title": ""
    }
   },
   "source": [
    "## Exercise 3\n",
    "\n",
    "In this exercise, you will prepare your random forest classifier.\n",
    "\n",
    "Fill in the blanks below to complete the task."
   ]
  },
  {
   "cell_type": "code",
   "execution_count": 0,
   "metadata": {
    "application/vnd.databricks.v1+cell": {
     "inputWidgets": {},
     "nuid": "881f8491-5d66-4757-b409-26461c1d8f41",
     "showTitle": false,
     "title": ""
    }
   },
   "outputs": [
    {
     "data": {
      "text/html": [
       "<style scoped>\n",
       "  .ansiout {\n",
       "    display: block;\n",
       "    unicode-bidi: embed;\n",
       "    white-space: pre-wrap;\n",
       "    word-wrap: break-word;\n",
       "    word-break: break-all;\n",
       "    font-family: \"Source Code Pro\", \"Menlo\", monospace;;\n",
       "    font-size: 13px;\n",
       "    color: #555;\n",
       "    margin-left: 4px;\n",
       "    line-height: 19px;\n",
       "  }\n",
       "</style>\n",
       "<div class=\"ansiout\"></div>"
      ]
     },
     "metadata": {
      "application/vnd.databricks.v1+output": {
       "addedWidgets": {},
       "arguments": {},
       "data": "<div class=\"ansiout\"></div>",
       "datasetInfos": [],
       "removedWidgets": [],
       "type": "html"
      }
     },
     "output_type": "display_data"
    }
   ],
   "source": [
    "# ANSWER\n",
    "from sklearn.ensemble import RandomForestClassifier\n",
    "\n",
    "rfc = RandomForestClassifier(random_state=42)"
   ]
  },
  {
   "cell_type": "markdown",
   "metadata": {
    "application/vnd.databricks.v1+cell": {
     "inputWidgets": {},
     "nuid": "ea4cd859-bcfd-4823-b565-dc1731500efc",
     "showTitle": false,
     "title": ""
    }
   },
   "source": [
    "## Exercise 4\n",
    "\n",
    "In this exercise, you will create a hyperparameter grid to use during the grid search process.\n",
    "\n",
    "Use the following hyperparameter values:\n",
    "\n",
    "1. `max_depth`: 5, 8, 20\n",
    "1. `n_estimators`: 25, 50, 100\n",
    "1. `min_samples_split`: 2, 4\n",
    "1. `max_features`: 3, 4\n",
    "1. `max_samples`: 0.6, 0.8\n",
    "\n",
    "Fill in the blanks below to create the grid."
   ]
  },
  {
   "cell_type": "code",
   "execution_count": 0,
   "metadata": {
    "application/vnd.databricks.v1+cell": {
     "inputWidgets": {},
     "nuid": "496a41ca-cc4c-40af-86fc-1ba77198588c",
     "showTitle": false,
     "title": ""
    }
   },
   "outputs": [
    {
     "data": {
      "text/html": [
       "<style scoped>\n",
       "  .ansiout {\n",
       "    display: block;\n",
       "    unicode-bidi: embed;\n",
       "    white-space: pre-wrap;\n",
       "    word-wrap: break-word;\n",
       "    word-break: break-all;\n",
       "    font-family: \"Source Code Pro\", \"Menlo\", monospace;;\n",
       "    font-size: 13px;\n",
       "    color: #555;\n",
       "    margin-left: 4px;\n",
       "    line-height: 19px;\n",
       "  }\n",
       "</style>\n",
       "<div class=\"ansiout\"></div>"
      ]
     },
     "metadata": {
      "application/vnd.databricks.v1+output": {
       "addedWidgets": {},
       "arguments": {},
       "data": "<div class=\"ansiout\"></div>",
       "datasetInfos": [],
       "removedWidgets": [],
       "type": "html"
      }
     },
     "output_type": "display_data"
    }
   ],
   "source": [
    "# ANSWER\n",
    "parameter_grid = {\n",
    "  \"max_depth\": [5, 8, 20],\n",
    "  \"n_estimators\": [25, 50, 100],\n",
    "  \"min_samples_split\": [2, 4],\n",
    "  \"max_features\": [3, 4],\n",
    "  \"max_samples\": [0.6, 0.8]\n",
    "}"
   ]
  },
  {
   "cell_type": "markdown",
   "metadata": {
    "application/vnd.databricks.v1+cell": {
     "inputWidgets": {},
     "nuid": "3b87613d-df2f-434f-8c76-e8b176155a8e",
     "showTitle": false,
     "title": ""
    }
   },
   "source": [
    "-sandbox\n",
    "**Coursera Quiz**: How many total unique combinations of hyperparameters are there in `parameter_grid`?\n",
    "\n",
    "Use the below empty cell to determine the answer to the above question.\n",
    "\n",
    "<img alt=\"Hint\" title=\"Hint\" style=\"vertical-align: text-bottom; position: relative; height:1.75em; top:0.3em\" src=\"https://files.training.databricks.com/static/images/icon-light-bulb.svg\"/>&nbsp;**Hint:** Refer to the previous lesson's lab for guidance."
   ]
  },
  {
   "cell_type": "code",
   "execution_count": 0,
   "metadata": {
    "application/vnd.databricks.v1+cell": {
     "inputWidgets": {},
     "nuid": "65036985-d237-4523-bfcf-8cc09901f36a",
     "showTitle": false,
     "title": ""
    }
   },
   "outputs": [
    {
     "data": {
      "text/html": [
       "<style scoped>\n",
       "  .ansiout {\n",
       "    display: block;\n",
       "    unicode-bidi: embed;\n",
       "    white-space: pre-wrap;\n",
       "    word-wrap: break-word;\n",
       "    word-break: break-all;\n",
       "    font-family: \"Source Code Pro\", \"Menlo\", monospace;;\n",
       "    font-size: 13px;\n",
       "    color: #555;\n",
       "    margin-left: 4px;\n",
       "    line-height: 19px;\n",
       "  }\n",
       "</style>\n",
       "<div class=\"ansiout\">Out[13]: 72</div>"
      ]
     },
     "metadata": {
      "application/vnd.databricks.v1+output": {
       "addedWidgets": {},
       "arguments": {},
       "data": "<div class=\"ansiout\">Out[13]: 72</div>",
       "datasetInfos": [],
       "removedWidgets": [],
       "type": "html"
      }
     },
     "output_type": "display_data"
    }
   ],
   "source": [
    "# ANSWER\n",
    "len(parameter_grid[\"max_depth\"]) * len(parameter_grid[\"n_estimators\"]) * len(parameter_grid[\"min_samples_split\"]) * len(parameter_grid[\"max_features\"]) * len(parameter_grid[\"max_samples\"])"
   ]
  },
  {
   "cell_type": "markdown",
   "metadata": {
    "application/vnd.databricks.v1+cell": {
     "inputWidgets": {},
     "nuid": "70798243-2eac-4d21-917e-667e82459c03",
     "showTitle": false,
     "title": ""
    }
   },
   "source": [
    "## Exercise 5\n",
    "\n",
    "In this exercise, you will create the cross-validated grid-search object that you will use to optimize your hyperparameter values while using cross-validation.\n",
    "\n",
    "Fill in the blanks below to create the object.\n",
    "\n",
    ":NOTE: Please use 4-fold cross-validation."
   ]
  },
  {
   "cell_type": "code",
   "execution_count": 0,
   "metadata": {
    "application/vnd.databricks.v1+cell": {
     "inputWidgets": {},
     "nuid": "a68ef7da-fd71-4609-a7eb-009de4bd5656",
     "showTitle": false,
     "title": ""
    }
   },
   "outputs": [
    {
     "data": {
      "text/html": [
       "<style scoped>\n",
       "  .ansiout {\n",
       "    display: block;\n",
       "    unicode-bidi: embed;\n",
       "    white-space: pre-wrap;\n",
       "    word-wrap: break-word;\n",
       "    word-break: break-all;\n",
       "    font-family: \"Source Code Pro\", \"Menlo\", monospace;;\n",
       "    font-size: 13px;\n",
       "    color: #555;\n",
       "    margin-left: 4px;\n",
       "    line-height: 19px;\n",
       "  }\n",
       "</style>\n",
       "<div class=\"ansiout\"></div>"
      ]
     },
     "metadata": {
      "application/vnd.databricks.v1+output": {
       "addedWidgets": {},
       "arguments": {},
       "data": "<div class=\"ansiout\"></div>",
       "datasetInfos": [],
       "removedWidgets": [],
       "type": "html"
      }
     },
     "output_type": "display_data"
    }
   ],
   "source": [
    "# ANSWER\n",
    "from sklearn.model_selection import GridSearchCV\n",
    "\n",
    "grid_search = GridSearchCV(estimator=rfc, cv=4, param_grid=parameter_grid)"
   ]
  },
  {
   "cell_type": "markdown",
   "metadata": {
    "application/vnd.databricks.v1+cell": {
     "inputWidgets": {},
     "nuid": "e407c0b3-7123-4d45-8d20-0f07bbdb3a2d",
     "showTitle": false,
     "title": ""
    }
   },
   "source": [
    "## Exercise 6\n",
    "\n",
    "In this exercise, you will fit the grid search process.\n",
    "\n",
    "Fill in the blanks below to perform the grid search process."
   ]
  },
  {
   "cell_type": "code",
   "execution_count": 0,
   "metadata": {
    "application/vnd.databricks.v1+cell": {
     "inputWidgets": {},
     "nuid": "74720cc2-b98a-41c4-8500-1ba760bed230",
     "showTitle": false,
     "title": ""
    }
   },
   "outputs": [
    {
     "data": {
      "text/html": [
       "<style scoped>\n",
       "  .ansiout {\n",
       "    display: block;\n",
       "    unicode-bidi: embed;\n",
       "    white-space: pre-wrap;\n",
       "    word-wrap: break-word;\n",
       "    word-break: break-all;\n",
       "    font-family: \"Source Code Pro\", \"Menlo\", monospace;;\n",
       "    font-size: 13px;\n",
       "    color: #555;\n",
       "    margin-left: 4px;\n",
       "    line-height: 19px;\n",
       "  }\n",
       "</style>\n",
       "<div class=\"ansiout\">Out[15]: GridSearchCV(cv=4, error_score=nan,\n",
       "             estimator=RandomForestClassifier(bootstrap=True, ccp_alpha=0.0,\n",
       "                                              class_weight=None,\n",
       "                                              criterion=&#39;gini&#39;, max_depth=None,\n",
       "                                              max_features=&#39;auto&#39;,\n",
       "                                              max_leaf_nodes=None,\n",
       "                                              max_samples=None,\n",
       "                                              min_impurity_decrease=0.0,\n",
       "                                              min_impurity_split=None,\n",
       "                                              min_samples_leaf=1,\n",
       "                                              min_samples_split=2,\n",
       "                                              min_weight_fraction_leaf=0.0,\n",
       "                                              n_estimators=100, n_jobs=None,\n",
       "                                              oob_score=False, random_state=42,\n",
       "                                              verbose=0, warm_start=False),\n",
       "             iid=&#39;deprecated&#39;, n_jobs=None,\n",
       "             param_grid={&#39;max_depth&#39;: [5, 8, 20], &#39;max_features&#39;: [3, 4],\n",
       "                         &#39;max_samples&#39;: [0.6, 0.8], &#39;min_samples_split&#39;: [2, 4],\n",
       "                         &#39;n_estimators&#39;: [25, 50, 100]},\n",
       "             pre_dispatch=&#39;2*n_jobs&#39;, refit=True, return_train_score=False,\n",
       "             scoring=None, verbose=0)</div>"
      ]
     },
     "metadata": {
      "application/vnd.databricks.v1+output": {
       "addedWidgets": {},
       "arguments": {},
       "data": "<div class=\"ansiout\">Out[15]: GridSearchCV(cv=4, error_score=nan,\n             estimator=RandomForestClassifier(bootstrap=True, ccp_alpha=0.0,\n                                              class_weight=None,\n                                              criterion=&#39;gini&#39;, max_depth=None,\n                                              max_features=&#39;auto&#39;,\n                                              max_leaf_nodes=None,\n                                              max_samples=None,\n                                              min_impurity_decrease=0.0,\n                                              min_impurity_split=None,\n                                              min_samples_leaf=1,\n                                              min_samples_split=2,\n                                              min_weight_fraction_leaf=0.0,\n                                              n_estimators=100, n_jobs=None,\n                                              oob_score=False, random_state=42,\n                                              verbose=0, warm_start=False),\n             iid=&#39;deprecated&#39;, n_jobs=None,\n             param_grid={&#39;max_depth&#39;: [5, 8, 20], &#39;max_features&#39;: [3, 4],\n                         &#39;max_samples&#39;: [0.6, 0.8], &#39;min_samples_split&#39;: [2, 4],\n                         &#39;n_estimators&#39;: [25, 50, 100]},\n             pre_dispatch=&#39;2*n_jobs&#39;, refit=True, return_train_score=False,\n             scoring=None, verbose=0)</div>",
       "datasetInfos": [],
       "removedWidgets": [],
       "type": "html"
      }
     },
     "output_type": "display_data"
    }
   ],
   "source": [
    "# ANSWER\n",
    "grid_search.fit(cross_val_df.drop(\"steps_8000\", axis=1), cross_val_df[\"steps_8000\"])"
   ]
  },
  {
   "cell_type": "markdown",
   "metadata": {
    "application/vnd.databricks.v1+cell": {
     "inputWidgets": {},
     "nuid": "d5cd4db3-6c27-4328-9beb-1d2afa105f32",
     "showTitle": false,
     "title": ""
    }
   },
   "source": [
    "-sandbox\n",
    "**Coursera Quiz**: How many unique models are being trained by the cross-validated grid search process?\n",
    "\n",
    "* 4\n",
    "* 289\n",
    "* 21\n",
    "* 288\n",
    "\n",
    "<img alt=\"Hint\" title=\"Hint\" style=\"vertical-align: text-bottom; position: relative; height:1.75em; top:0.3em\" src=\"https://files.training.databricks.com/static/images/icon-light-bulb.svg\"/>&nbsp;**Hint:** Consider the number of unique feature combinations, the number of cross-validation folds and the final retraining of the model on the entire cross-validation set."
   ]
  },
  {
   "cell_type": "markdown",
   "metadata": {
    "application/vnd.databricks.v1+cell": {
     "inputWidgets": {},
     "nuid": "1219d862-01ed-4649-a6f8-ede620b4cfb8",
     "showTitle": false,
     "title": ""
    }
   },
   "source": [
    "## Exercise 7\n",
    "\n",
    "In this exercise, you will return a Pandas DataFrame of the `grid_search` results.\n",
    "\n",
    "Fill in the blanks below to return the DataFrame."
   ]
  },
  {
   "cell_type": "code",
   "execution_count": 0,
   "metadata": {
    "application/vnd.databricks.v1+cell": {
     "inputWidgets": {},
     "nuid": "3a798d37-4b9c-41b0-b697-b073fe7f773d",
     "showTitle": false,
     "title": ""
    }
   },
   "outputs": [
    {
     "data": {
      "text/html": [
       "<style scoped>\n",
       "  .ansiout {\n",
       "    display: block;\n",
       "    unicode-bidi: embed;\n",
       "    white-space: pre-wrap;\n",
       "    word-wrap: break-word;\n",
       "    word-break: break-all;\n",
       "    font-family: \"Source Code Pro\", \"Menlo\", monospace;;\n",
       "    font-size: 13px;\n",
       "    color: #555;\n",
       "    margin-left: 4px;\n",
       "    line-height: 19px;\n",
       "  }\n",
       "</style>\n",
       "<div class=\"ansiout\">Out[16]: </div>"
      ]
     },
     "metadata": {
      "application/vnd.databricks.v1+output": {
       "addedWidgets": {},
       "arguments": {},
       "data": "<div class=\"ansiout\">Out[16]: </div>",
       "datasetInfos": [],
       "removedWidgets": [],
       "type": "html"
      }
     },
     "output_type": "display_data"
    },
    {
     "data": {
      "text/html": [
       "<div>\n",
       "<style scoped>\n",
       "    .dataframe tbody tr th:only-of-type {\n",
       "        vertical-align: middle;\n",
       "    }\n",
       "\n",
       "    .dataframe tbody tr th {\n",
       "        vertical-align: top;\n",
       "    }\n",
       "\n",
       "    .dataframe thead th {\n",
       "        text-align: right;\n",
       "    }\n",
       "</style>\n",
       "<table border=\"1\" class=\"dataframe\">\n",
       "  <thead>\n",
       "    <tr style=\"text-align: right;\">\n",
       "      <th></th>\n",
       "      <th>mean_fit_time</th>\n",
       "      <th>std_fit_time</th>\n",
       "      <th>mean_score_time</th>\n",
       "      <th>std_score_time</th>\n",
       "      <th>param_max_depth</th>\n",
       "      <th>param_max_features</th>\n",
       "      <th>param_max_samples</th>\n",
       "      <th>param_min_samples_split</th>\n",
       "      <th>param_n_estimators</th>\n",
       "      <th>params</th>\n",
       "      <th>split0_test_score</th>\n",
       "      <th>split1_test_score</th>\n",
       "      <th>split2_test_score</th>\n",
       "      <th>split3_test_score</th>\n",
       "      <th>mean_test_score</th>\n",
       "      <th>std_test_score</th>\n",
       "      <th>rank_test_score</th>\n",
       "    </tr>\n",
       "  </thead>\n",
       "  <tbody>\n",
       "    <tr>\n",
       "      <th>0</th>\n",
       "      <td>0.073803</td>\n",
       "      <td>0.001329</td>\n",
       "      <td>0.006431</td>\n",
       "      <td>0.000190</td>\n",
       "      <td>5</td>\n",
       "      <td>3</td>\n",
       "      <td>0.6</td>\n",
       "      <td>2</td>\n",
       "      <td>25</td>\n",
       "      <td>{'max_depth': 5, 'max_features': 3, 'max_sampl...</td>\n",
       "      <td>0.891667</td>\n",
       "      <td>0.876667</td>\n",
       "      <td>0.885000</td>\n",
       "      <td>0.891667</td>\n",
       "      <td>0.886250</td>\n",
       "      <td>0.006166</td>\n",
       "      <td>41</td>\n",
       "    </tr>\n",
       "    <tr>\n",
       "      <th>1</th>\n",
       "      <td>0.142304</td>\n",
       "      <td>0.001015</td>\n",
       "      <td>0.010535</td>\n",
       "      <td>0.000110</td>\n",
       "      <td>5</td>\n",
       "      <td>3</td>\n",
       "      <td>0.6</td>\n",
       "      <td>2</td>\n",
       "      <td>50</td>\n",
       "      <td>{'max_depth': 5, 'max_features': 3, 'max_sampl...</td>\n",
       "      <td>0.896667</td>\n",
       "      <td>0.888333</td>\n",
       "      <td>0.885000</td>\n",
       "      <td>0.893333</td>\n",
       "      <td>0.890833</td>\n",
       "      <td>0.004488</td>\n",
       "      <td>12</td>\n",
       "    </tr>\n",
       "    <tr>\n",
       "      <th>2</th>\n",
       "      <td>0.286086</td>\n",
       "      <td>0.008795</td>\n",
       "      <td>0.024689</td>\n",
       "      <td>0.008326</td>\n",
       "      <td>5</td>\n",
       "      <td>3</td>\n",
       "      <td>0.6</td>\n",
       "      <td>2</td>\n",
       "      <td>100</td>\n",
       "      <td>{'max_depth': 5, 'max_features': 3, 'max_sampl...</td>\n",
       "      <td>0.896667</td>\n",
       "      <td>0.890000</td>\n",
       "      <td>0.890000</td>\n",
       "      <td>0.895000</td>\n",
       "      <td>0.892917</td>\n",
       "      <td>0.002976</td>\n",
       "      <td>2</td>\n",
       "    </tr>\n",
       "    <tr>\n",
       "      <th>3</th>\n",
       "      <td>0.074263</td>\n",
       "      <td>0.000989</td>\n",
       "      <td>0.006450</td>\n",
       "      <td>0.000064</td>\n",
       "      <td>5</td>\n",
       "      <td>3</td>\n",
       "      <td>0.6</td>\n",
       "      <td>4</td>\n",
       "      <td>25</td>\n",
       "      <td>{'max_depth': 5, 'max_features': 3, 'max_sampl...</td>\n",
       "      <td>0.891667</td>\n",
       "      <td>0.886667</td>\n",
       "      <td>0.886667</td>\n",
       "      <td>0.891667</td>\n",
       "      <td>0.889167</td>\n",
       "      <td>0.002500</td>\n",
       "      <td>21</td>\n",
       "    </tr>\n",
       "    <tr>\n",
       "      <th>4</th>\n",
       "      <td>0.146175</td>\n",
       "      <td>0.002696</td>\n",
       "      <td>0.010875</td>\n",
       "      <td>0.000239</td>\n",
       "      <td>5</td>\n",
       "      <td>3</td>\n",
       "      <td>0.6</td>\n",
       "      <td>4</td>\n",
       "      <td>50</td>\n",
       "      <td>{'max_depth': 5, 'max_features': 3, 'max_sampl...</td>\n",
       "      <td>0.895000</td>\n",
       "      <td>0.885000</td>\n",
       "      <td>0.888333</td>\n",
       "      <td>0.893333</td>\n",
       "      <td>0.890417</td>\n",
       "      <td>0.003975</td>\n",
       "      <td>15</td>\n",
       "    </tr>\n",
       "    <tr>\n",
       "      <th>...</th>\n",
       "      <td>...</td>\n",
       "      <td>...</td>\n",
       "      <td>...</td>\n",
       "      <td>...</td>\n",
       "      <td>...</td>\n",
       "      <td>...</td>\n",
       "      <td>...</td>\n",
       "      <td>...</td>\n",
       "      <td>...</td>\n",
       "      <td>...</td>\n",
       "      <td>...</td>\n",
       "      <td>...</td>\n",
       "      <td>...</td>\n",
       "      <td>...</td>\n",
       "      <td>...</td>\n",
       "      <td>...</td>\n",
       "      <td>...</td>\n",
       "    </tr>\n",
       "    <tr>\n",
       "      <th>67</th>\n",
       "      <td>0.243197</td>\n",
       "      <td>0.030370</td>\n",
       "      <td>0.013240</td>\n",
       "      <td>0.002320</td>\n",
       "      <td>20</td>\n",
       "      <td>4</td>\n",
       "      <td>0.8</td>\n",
       "      <td>2</td>\n",
       "      <td>50</td>\n",
       "      <td>{'max_depth': 20, 'max_features': 4, 'max_samp...</td>\n",
       "      <td>0.881667</td>\n",
       "      <td>0.868333</td>\n",
       "      <td>0.868333</td>\n",
       "      <td>0.873333</td>\n",
       "      <td>0.872917</td>\n",
       "      <td>0.005449</td>\n",
       "      <td>72</td>\n",
       "    </tr>\n",
       "    <tr>\n",
       "      <th>68</th>\n",
       "      <td>0.443375</td>\n",
       "      <td>0.033354</td>\n",
       "      <td>0.020192</td>\n",
       "      <td>0.000291</td>\n",
       "      <td>20</td>\n",
       "      <td>4</td>\n",
       "      <td>0.8</td>\n",
       "      <td>2</td>\n",
       "      <td>100</td>\n",
       "      <td>{'max_depth': 20, 'max_features': 4, 'max_samp...</td>\n",
       "      <td>0.895000</td>\n",
       "      <td>0.871667</td>\n",
       "      <td>0.868333</td>\n",
       "      <td>0.881667</td>\n",
       "      <td>0.879167</td>\n",
       "      <td>0.010375</td>\n",
       "      <td>67</td>\n",
       "    </tr>\n",
       "    <tr>\n",
       "      <th>69</th>\n",
       "      <td>0.106932</td>\n",
       "      <td>0.002034</td>\n",
       "      <td>0.006974</td>\n",
       "      <td>0.000099</td>\n",
       "      <td>20</td>\n",
       "      <td>4</td>\n",
       "      <td>0.8</td>\n",
       "      <td>4</td>\n",
       "      <td>25</td>\n",
       "      <td>{'max_depth': 20, 'max_features': 4, 'max_samp...</td>\n",
       "      <td>0.898333</td>\n",
       "      <td>0.868333</td>\n",
       "      <td>0.878333</td>\n",
       "      <td>0.886667</td>\n",
       "      <td>0.882917</td>\n",
       "      <td>0.011016</td>\n",
       "      <td>54</td>\n",
       "    </tr>\n",
       "    <tr>\n",
       "      <th>70</th>\n",
       "      <td>0.211066</td>\n",
       "      <td>0.002696</td>\n",
       "      <td>0.011531</td>\n",
       "      <td>0.000294</td>\n",
       "      <td>20</td>\n",
       "      <td>4</td>\n",
       "      <td>0.8</td>\n",
       "      <td>4</td>\n",
       "      <td>50</td>\n",
       "      <td>{'max_depth': 20, 'max_features': 4, 'max_samp...</td>\n",
       "      <td>0.890000</td>\n",
       "      <td>0.870000</td>\n",
       "      <td>0.875000</td>\n",
       "      <td>0.886667</td>\n",
       "      <td>0.880417</td>\n",
       "      <td>0.008197</td>\n",
       "      <td>60</td>\n",
       "    </tr>\n",
       "    <tr>\n",
       "      <th>71</th>\n",
       "      <td>0.436253</td>\n",
       "      <td>0.028305</td>\n",
       "      <td>0.022996</td>\n",
       "      <td>0.004360</td>\n",
       "      <td>20</td>\n",
       "      <td>4</td>\n",
       "      <td>0.8</td>\n",
       "      <td>4</td>\n",
       "      <td>100</td>\n",
       "      <td>{'max_depth': 20, 'max_features': 4, 'max_samp...</td>\n",
       "      <td>0.891667</td>\n",
       "      <td>0.873333</td>\n",
       "      <td>0.878333</td>\n",
       "      <td>0.883333</td>\n",
       "      <td>0.881667</td>\n",
       "      <td>0.006770</td>\n",
       "      <td>58</td>\n",
       "    </tr>\n",
       "  </tbody>\n",
       "</table>\n",
       "<p>72 rows × 17 columns</p>\n",
       "</div>"
      ]
     },
     "metadata": {
      "application/vnd.databricks.v1+output": {
       "addedWidgets": {},
       "arguments": {},
       "data": "<div>\n<style scoped>\n    .dataframe tbody tr th:only-of-type {\n        vertical-align: middle;\n    }\n\n    .dataframe tbody tr th {\n        vertical-align: top;\n    }\n\n    .dataframe thead th {\n        text-align: right;\n    }\n</style>\n<table border=\"1\" class=\"dataframe\">\n  <thead>\n    <tr style=\"text-align: right;\">\n      <th></th>\n      <th>mean_fit_time</th>\n      <th>std_fit_time</th>\n      <th>mean_score_time</th>\n      <th>std_score_time</th>\n      <th>param_max_depth</th>\n      <th>param_max_features</th>\n      <th>param_max_samples</th>\n      <th>param_min_samples_split</th>\n      <th>param_n_estimators</th>\n      <th>params</th>\n      <th>split0_test_score</th>\n      <th>split1_test_score</th>\n      <th>split2_test_score</th>\n      <th>split3_test_score</th>\n      <th>mean_test_score</th>\n      <th>std_test_score</th>\n      <th>rank_test_score</th>\n    </tr>\n  </thead>\n  <tbody>\n    <tr>\n      <th>0</th>\n      <td>0.073803</td>\n      <td>0.001329</td>\n      <td>0.006431</td>\n      <td>0.000190</td>\n      <td>5</td>\n      <td>3</td>\n      <td>0.6</td>\n      <td>2</td>\n      <td>25</td>\n      <td>{'max_depth': 5, 'max_features': 3, 'max_sampl...</td>\n      <td>0.891667</td>\n      <td>0.876667</td>\n      <td>0.885000</td>\n      <td>0.891667</td>\n      <td>0.886250</td>\n      <td>0.006166</td>\n      <td>41</td>\n    </tr>\n    <tr>\n      <th>1</th>\n      <td>0.142304</td>\n      <td>0.001015</td>\n      <td>0.010535</td>\n      <td>0.000110</td>\n      <td>5</td>\n      <td>3</td>\n      <td>0.6</td>\n      <td>2</td>\n      <td>50</td>\n      <td>{'max_depth': 5, 'max_features': 3, 'max_sampl...</td>\n      <td>0.896667</td>\n      <td>0.888333</td>\n      <td>0.885000</td>\n      <td>0.893333</td>\n      <td>0.890833</td>\n      <td>0.004488</td>\n      <td>12</td>\n    </tr>\n    <tr>\n      <th>2</th>\n      <td>0.286086</td>\n      <td>0.008795</td>\n      <td>0.024689</td>\n      <td>0.008326</td>\n      <td>5</td>\n      <td>3</td>\n      <td>0.6</td>\n      <td>2</td>\n      <td>100</td>\n      <td>{'max_depth': 5, 'max_features': 3, 'max_sampl...</td>\n      <td>0.896667</td>\n      <td>0.890000</td>\n      <td>0.890000</td>\n      <td>0.895000</td>\n      <td>0.892917</td>\n      <td>0.002976</td>\n      <td>2</td>\n    </tr>\n    <tr>\n      <th>3</th>\n      <td>0.074263</td>\n      <td>0.000989</td>\n      <td>0.006450</td>\n      <td>0.000064</td>\n      <td>5</td>\n      <td>3</td>\n      <td>0.6</td>\n      <td>4</td>\n      <td>25</td>\n      <td>{'max_depth': 5, 'max_features': 3, 'max_sampl...</td>\n      <td>0.891667</td>\n      <td>0.886667</td>\n      <td>0.886667</td>\n      <td>0.891667</td>\n      <td>0.889167</td>\n      <td>0.002500</td>\n      <td>21</td>\n    </tr>\n    <tr>\n      <th>4</th>\n      <td>0.146175</td>\n      <td>0.002696</td>\n      <td>0.010875</td>\n      <td>0.000239</td>\n      <td>5</td>\n      <td>3</td>\n      <td>0.6</td>\n      <td>4</td>\n      <td>50</td>\n      <td>{'max_depth': 5, 'max_features': 3, 'max_sampl...</td>\n      <td>0.895000</td>\n      <td>0.885000</td>\n      <td>0.888333</td>\n      <td>0.893333</td>\n      <td>0.890417</td>\n      <td>0.003975</td>\n      <td>15</td>\n    </tr>\n    <tr>\n      <th>...</th>\n      <td>...</td>\n      <td>...</td>\n      <td>...</td>\n      <td>...</td>\n      <td>...</td>\n      <td>...</td>\n      <td>...</td>\n      <td>...</td>\n      <td>...</td>\n      <td>...</td>\n      <td>...</td>\n      <td>...</td>\n      <td>...</td>\n      <td>...</td>\n      <td>...</td>\n      <td>...</td>\n      <td>...</td>\n    </tr>\n    <tr>\n      <th>67</th>\n      <td>0.243197</td>\n      <td>0.030370</td>\n      <td>0.013240</td>\n      <td>0.002320</td>\n      <td>20</td>\n      <td>4</td>\n      <td>0.8</td>\n      <td>2</td>\n      <td>50</td>\n      <td>{'max_depth': 20, 'max_features': 4, 'max_samp...</td>\n      <td>0.881667</td>\n      <td>0.868333</td>\n      <td>0.868333</td>\n      <td>0.873333</td>\n      <td>0.872917</td>\n      <td>0.005449</td>\n      <td>72</td>\n    </tr>\n    <tr>\n      <th>68</th>\n      <td>0.443375</td>\n      <td>0.033354</td>\n      <td>0.020192</td>\n      <td>0.000291</td>\n      <td>20</td>\n      <td>4</td>\n      <td>0.8</td>\n      <td>2</td>\n      <td>100</td>\n      <td>{'max_depth': 20, 'max_features': 4, 'max_samp...</td>\n      <td>0.895000</td>\n      <td>0.871667</td>\n      <td>0.868333</td>\n      <td>0.881667</td>\n      <td>0.879167</td>\n      <td>0.010375</td>\n      <td>67</td>\n    </tr>\n    <tr>\n      <th>69</th>\n      <td>0.106932</td>\n      <td>0.002034</td>\n      <td>0.006974</td>\n      <td>0.000099</td>\n      <td>20</td>\n      <td>4</td>\n      <td>0.8</td>\n      <td>4</td>\n      <td>25</td>\n      <td>{'max_depth': 20, 'max_features': 4, 'max_samp...</td>\n      <td>0.898333</td>\n      <td>0.868333</td>\n      <td>0.878333</td>\n      <td>0.886667</td>\n      <td>0.882917</td>\n      <td>0.011016</td>\n      <td>54</td>\n    </tr>\n    <tr>\n      <th>70</th>\n      <td>0.211066</td>\n      <td>0.002696</td>\n      <td>0.011531</td>\n      <td>0.000294</td>\n      <td>20</td>\n      <td>4</td>\n      <td>0.8</td>\n      <td>4</td>\n      <td>50</td>\n      <td>{'max_depth': 20, 'max_features': 4, 'max_samp...</td>\n      <td>0.890000</td>\n      <td>0.870000</td>\n      <td>0.875000</td>\n      <td>0.886667</td>\n      <td>0.880417</td>\n      <td>0.008197</td>\n      <td>60</td>\n    </tr>\n    <tr>\n      <th>71</th>\n      <td>0.436253</td>\n      <td>0.028305</td>\n      <td>0.022996</td>\n      <td>0.004360</td>\n      <td>20</td>\n      <td>4</td>\n      <td>0.8</td>\n      <td>4</td>\n      <td>100</td>\n      <td>{'max_depth': 20, 'max_features': 4, 'max_samp...</td>\n      <td>0.891667</td>\n      <td>0.873333</td>\n      <td>0.878333</td>\n      <td>0.883333</td>\n      <td>0.881667</td>\n      <td>0.006770</td>\n      <td>58</td>\n    </tr>\n  </tbody>\n</table>\n<p>72 rows × 17 columns</p>\n</div>",
       "datasetInfos": [],
       "removedWidgets": [],
       "textData": null,
       "type": "htmlSandbox"
      }
     },
     "output_type": "display_data"
    }
   ],
   "source": [
    "# ANSWER\n",
    "import pandas as pd\n",
    "pd.DataFrame(grid_search.cv_results_)"
   ]
  },
  {
   "cell_type": "markdown",
   "metadata": {
    "application/vnd.databricks.v1+cell": {
     "inputWidgets": {},
     "nuid": "a5846bc1-e901-46df-aa57-8880625ddfc3",
     "showTitle": false,
     "title": ""
    }
   },
   "source": [
    "## Exercise 8\n",
    "\n",
    "In this exercise, you will identify the optimal hyperparameter values.\n",
    "\n",
    "Fill in the blanks below to indentify the optimal hyperparameter values."
   ]
  },
  {
   "cell_type": "code",
   "execution_count": 0,
   "metadata": {
    "application/vnd.databricks.v1+cell": {
     "inputWidgets": {},
     "nuid": "5b6898fc-f4f7-4ee3-a59a-dd7c9abe37be",
     "showTitle": false,
     "title": ""
    }
   },
   "outputs": [
    {
     "data": {
      "text/html": [
       "<style scoped>\n",
       "  .ansiout {\n",
       "    display: block;\n",
       "    unicode-bidi: embed;\n",
       "    white-space: pre-wrap;\n",
       "    word-wrap: break-word;\n",
       "    word-break: break-all;\n",
       "    font-family: \"Source Code Pro\", \"Menlo\", monospace;;\n",
       "    font-size: 13px;\n",
       "    color: #555;\n",
       "    margin-left: 4px;\n",
       "    line-height: 19px;\n",
       "  }\n",
       "</style>\n",
       "<div class=\"ansiout\">Out[17]: {&#39;max_depth&#39;: 5,\n",
       " &#39;max_features&#39;: 4,\n",
       " &#39;max_samples&#39;: 0.8,\n",
       " &#39;min_samples_split&#39;: 2,\n",
       " &#39;n_estimators&#39;: 25}</div>"
      ]
     },
     "metadata": {
      "application/vnd.databricks.v1+output": {
       "addedWidgets": {},
       "arguments": {},
       "data": "<div class=\"ansiout\">Out[17]: {&#39;max_depth&#39;: 5,\n &#39;max_features&#39;: 4,\n &#39;max_samples&#39;: 0.8,\n &#39;min_samples_split&#39;: 2,\n &#39;n_estimators&#39;: 25}</div>",
       "datasetInfos": [],
       "removedWidgets": [],
       "type": "html"
      }
     },
     "output_type": "display_data"
    }
   ],
   "source": [
    "# ANSWER\n",
    "grid_search.best_params_"
   ]
  },
  {
   "cell_type": "markdown",
   "metadata": {
    "application/vnd.databricks.v1+cell": {
     "inputWidgets": {},
     "nuid": "67b6610e-acf9-4bd7-9427-b22e52d25be3",
     "showTitle": false,
     "title": ""
    }
   },
   "source": [
    "**Coursera Quiz:** What is the optimal hyperparameter value for `max_depth` according to the cross-validated grid search process?"
   ]
  },
  {
   "cell_type": "markdown",
   "metadata": {
    "application/vnd.databricks.v1+cell": {
     "inputWidgets": {},
     "nuid": "fd2b3d7c-6368-499c-b088-c7536959def8",
     "showTitle": false,
     "title": ""
    }
   },
   "source": [
    "## Exercise 9\n",
    "\n",
    "In this exercise, you will identify the test accuracy achieved by the final, refit model.\n",
    "\n",
    "Fill in the blanks below to identify the test accuracy."
   ]
  },
  {
   "cell_type": "code",
   "execution_count": 0,
   "metadata": {
    "application/vnd.databricks.v1+cell": {
     "inputWidgets": {},
     "nuid": "c5a1667f-9145-411c-a126-d2b927ee9058",
     "showTitle": false,
     "title": ""
    }
   },
   "outputs": [
    {
     "data": {
      "text/html": [
       "<style scoped>\n",
       "  .ansiout {\n",
       "    display: block;\n",
       "    unicode-bidi: embed;\n",
       "    white-space: pre-wrap;\n",
       "    word-wrap: break-word;\n",
       "    word-break: break-all;\n",
       "    font-family: \"Source Code Pro\", \"Menlo\", monospace;;\n",
       "    font-size: 13px;\n",
       "    color: #555;\n",
       "    margin-left: 4px;\n",
       "    line-height: 19px;\n",
       "  }\n",
       "</style>\n",
       "<div class=\"ansiout\">Out[18]: 0.895</div>"
      ]
     },
     "metadata": {
      "application/vnd.databricks.v1+output": {
       "addedWidgets": {},
       "arguments": {},
       "data": "<div class=\"ansiout\">Out[18]: 0.895</div>",
       "datasetInfos": [],
       "removedWidgets": [],
       "type": "html"
      }
     },
     "output_type": "display_data"
    }
   ],
   "source": [
    "# ANSWER\n",
    "from sklearn.metrics import accuracy_score\n",
    "\n",
    "accuracy_score(\n",
    "  test_df[\"steps_8000\"], \n",
    "  grid_search.predict(test_df.drop(\"steps_8000\", axis=1))\n",
    ")"
   ]
  },
  {
   "cell_type": "markdown",
   "metadata": {
    "application/vnd.databricks.v1+cell": {
     "inputWidgets": {},
     "nuid": "92df4b6f-fdf6-47cf-a2e8-5f73c6fd1307",
     "showTitle": false,
     "title": ""
    }
   },
   "source": [
    "**Coursera Quiz:** What is the test set accuracy?"
   ]
  },
  {
   "cell_type": "markdown",
   "metadata": {
    "application/vnd.databricks.v1+cell": {
     "inputWidgets": {},
     "nuid": "9d0215bb-79a6-4124-b748-b11417c84d60",
     "showTitle": false,
     "title": ""
    }
   },
   "source": [
    "Congratulations! That concludes our lesson on cross-validated hyperparameter optimization and our course!\n",
    "\n",
    "Be sure to submit your quiz answers to Coursera to fully complete the course!"
   ]
  },
  {
   "cell_type": "markdown",
   "metadata": {
    "application/vnd.databricks.v1+cell": {
     "inputWidgets": {},
     "nuid": "fd079bb4-8e81-474e-bd44-713cd8a28184",
     "showTitle": false,
     "title": ""
    }
   },
   "source": [
    "-sandbox\n",
    "&copy; 2020 Databricks, Inc. All rights reserved.<br/>\n",
    "Apache, Apache Spark, Spark and the Spark logo are trademarks of the <a href=\"http://www.apache.org/\">Apache Software Foundation</a>.<br/>\n",
    "<br/>\n",
    "<a href=\"https://databricks.com/privacy-policy\">Privacy Policy</a> | <a href=\"https://databricks.com/terms-of-use\">Terms of Use</a> | <a href=\"http://help.databricks.com/\">Support</a>"
   ]
  }
 ],
 "metadata": {
  "application/vnd.databricks.v1+notebook": {
   "dashboards": [],
   "language": "python",
   "notebookName": "5.2.2 Lab - Cross-Validation Lab",
   "notebookOrigID": 3313410096668645,
   "widgets": {}
  },
  "kernelspec": {
   "display_name": "Python 3",
   "language": "python",
   "name": "python3"
  },
  "language_info": {
   "codemirror_mode": {
    "name": "ipython",
    "version": 3
   },
   "file_extension": ".py",
   "mimetype": "text/x-python",
   "name": "python",
   "nbconvert_exporter": "python",
   "pygments_lexer": "ipython3",
   "version": "3.8.3"
  }
 },
 "nbformat": 4,
 "nbformat_minor": 1
}
